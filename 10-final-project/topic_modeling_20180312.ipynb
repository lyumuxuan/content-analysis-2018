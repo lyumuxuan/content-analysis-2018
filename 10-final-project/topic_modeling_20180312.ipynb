{
 "cells": [
  {
   "cell_type": "code",
   "execution_count": 4,
   "metadata": {
    "collapsed": true
   },
   "outputs": [],
   "source": [
    "\n",
    "#All these packages need to be installed from pip\n",
    "#These are all for the cluster detection\n",
    "import sklearn\n",
    "import sklearn.feature_extraction.text\n",
    "import sklearn.pipeline\n",
    "import sklearn.preprocessing\n",
    "import sklearn.datasets\n",
    "import sklearn.cluster\n",
    "import sklearn.decomposition\n",
    "import sklearn.metrics\n",
    "\n",
    "\n",
    "import gensim#For topic modeling\n",
    "import numpy as np #for arrays\n",
    "import pandas as pd #gives us DataFrames\n",
    "import matplotlib.pyplot as plt #For graphics\n",
    "import matplotlib.cm #Still for graphics\n",
    "import seaborn as sns #Makes the graphics look nicer\n",
    "\n",
    "#This 'magic' command makes the plots work better\n",
    "#in the notebook, don't use it outside of a notebook.\n",
    "#Also you can ignore the warning, it\n",
    "%matplotlib inline\n",
    "\n",
    "import itertools\n",
    "import json"
   ]
  },
  {
   "cell_type": "code",
   "execution_count": 5,
   "metadata": {
    "collapsed": true
   },
   "outputs": [],
   "source": [
    "pubmed = pd.read_pickle(\"/Users/lyumu/Google Drive/pubmed_preprocessing/combined_data.pkl\")"
   ]
  },
  {
   "cell_type": "code",
   "execution_count": 6,
   "metadata": {
    "collapsed": true
   },
   "outputs": [],
   "source": [
    "#Similar parameters to before, but stricter max df and no max num occurrences\n",
    "pmTFVectorizer = sklearn.feature_extraction.text.TfidfVectorizer(max_df=100, min_df=2, stop_words='english', norm='l2')\n",
    "pmTFVects = pmTFVectorizer.fit_transform(pubmed['abstract'])"
   ]
  },
  {
   "cell_type": "code",
   "execution_count": 34,
   "metadata": {
    "collapsed": true
   },
   "outputs": [],
   "source": [
    "targetDF = pubmed\n",
    "textColumn = 'abstract'\n",
    "numCategories = 5"
   ]
  },
  {
   "cell_type": "code",
   "execution_count": 35,
   "metadata": {
    "collapsed": true
   },
   "outputs": [],
   "source": [
    "exampleTFVectorizer = sklearn.feature_extraction.text.TfidfVectorizer(max_df=0.5, max_features=1000, min_df=3, stop_words='english', norm='l2')\n",
    "#train\n",
    "exampleTFVects = pmTFVectorizer.fit_transform(targetDF[textColumn])"
   ]
  },
  {
   "cell_type": "code",
   "execution_count": 36,
   "metadata": {},
   "outputs": [
    {
     "data": {
      "text/plain": [
       "KMeans(algorithm='auto', copy_x=True, init='k-means++', max_iter=300,\n",
       "    n_clusters=5, n_init=10, n_jobs=1, precompute_distances='auto',\n",
       "    random_state=None, tol=0.0001, verbose=0)"
      ]
     },
     "execution_count": 36,
     "metadata": {},
     "output_type": "execute_result"
    }
   ],
   "source": [
    "exampleKM = sklearn.cluster.KMeans(n_clusters = numCategories, init='k-means++')\n",
    "exampleKM.fit(exampleTFVects)"
   ]
  },
  {
   "cell_type": "code",
   "execution_count": 37,
   "metadata": {
    "scrolled": true
   },
   "outputs": [
    {
     "data": {
      "text/plain": [
       "0    111159\n",
       "3       181\n",
       "2       118\n",
       "1        59\n",
       "4        54\n",
       "Name: kmeans_predictions, dtype: int64"
      ]
     },
     "execution_count": 37,
     "metadata": {},
     "output_type": "execute_result"
    }
   ],
   "source": [
    "pubmed['kmeans_predictions'] = exampleKM.labels_\n",
    "pubmed['kmeans_predictions'].value_counts()"
   ]
  },
  {
   "cell_type": "code",
   "execution_count": 39,
   "metadata": {
    "scrolled": false
   },
   "outputs": [
    {
     "name": "stdout",
     "output_type": "stream",
     "text": [
      "Top terms per cluster:\n",
      "Cluster 0:\n",
      " tinnitus\n",
      " csa\n",
      " vr\n",
      " oxt\n",
      " mglur5\n",
      " hfd\n",
      " pwid\n",
      " tlr4\n",
      " plwh\n",
      " t2d\n",
      "\n",
      "\n",
      "Cluster 1:\n",
      " accidental\n",
      " phosgene\n",
      " lsd\n",
      " canis\n",
      " diver\n",
      " diphosgene\n",
      " degeneracies\n",
      " opiates\n",
      " bvs\n",
      " che\n",
      "\n",
      "\n",
      "Cluster 2:\n",
      " pedestrian\n",
      " eda\n",
      " amd\n",
      " pedestrians\n",
      " lda\n",
      " electrodermal\n",
      " funs\n",
      " distracted\n",
      " equating\n",
      " highway\n",
      "\n",
      "\n",
      "Cluster 3:\n",
      " vpa\n",
      " ssb\n",
      " bereaved\n",
      " ssbs\n",
      " valproic\n",
      " isoprenoid\n",
      " 367\n",
      " deceased\n",
      " lpa\n",
      " valproate\n",
      "\n",
      "\n",
      "Cluster 4:\n",
      " smi\n",
      " hunan\n",
      " cranium\n",
      " 720\n",
      " homelessness\n",
      " crowdsourcing\n",
      " sdmt\n",
      " suds\n",
      " maryland\n",
      " tsunami\n",
      "\n",
      "\n"
     ]
    }
   ],
   "source": [
    "terms = pmTFVectorizer.get_feature_names()\n",
    "print(\"Top terms per cluster:\")\n",
    "order_centroids = exampleKM.cluster_centers_.argsort()[:, ::-1]\n",
    "for i in range(numCategories):\n",
    "    print(\"Cluster %d:\" % i)\n",
    "    for ind in order_centroids[i, :10]:\n",
    "        print(' %s' % terms[ind])\n",
    "    print('\\n')"
   ]
  },
  {
   "cell_type": "code",
   "execution_count": null,
   "metadata": {
    "collapsed": true
   },
   "outputs": [],
   "source": []
  },
  {
   "cell_type": "code",
   "execution_count": null,
   "metadata": {
    "collapsed": true
   },
   "outputs": [],
   "source": []
  },
  {
   "cell_type": "code",
   "execution_count": null,
   "metadata": {
    "collapsed": true
   },
   "outputs": [],
   "source": []
  },
  {
   "cell_type": "code",
   "execution_count": null,
   "metadata": {
    "collapsed": true
   },
   "outputs": [],
   "source": []
  }
 ],
 "metadata": {
  "kernelspec": {
   "display_name": "Python 3",
   "language": "python",
   "name": "python3"
  },
  "language_info": {
   "codemirror_mode": {
    "name": "ipython",
    "version": 3
   },
   "file_extension": ".py",
   "mimetype": "text/x-python",
   "name": "python",
   "nbconvert_exporter": "python",
   "pygments_lexer": "ipython3",
   "version": "3.6.3"
  }
 },
 "nbformat": 4,
 "nbformat_minor": 2
}
