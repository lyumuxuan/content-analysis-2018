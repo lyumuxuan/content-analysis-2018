{
 "cells": [
  {
   "cell_type": "markdown",
   "metadata": {},
   "source": [
    "# Week 2 - Corpus Linguistics\n",
    "\n",
    "This week, we take text corpora that we have developed, spidered, scraped, and encoded, and we find and count words and simple phrases and properties of those counts (e.g., word frequency distributions). Initially, we model how to search corpora for keywords or phrases. Next, we examine the distributions of terms and phrases across a corpus, and the corelation between different words and phrase counts. In order to do this effectively, we coarsely disambiguate words based of part-of-speech (POS) tagging, and normalize them through stemming and lemmatization. Next we distinguish *important* words and phrase within the corpus, and image them with Wordls! Then we calculate word frequenceis, conditional frequences (the frequency of word *shock* conditional on the presence of word *awe*), and statistically significant collocations of lengths 2 through $n$. Finally, we calculate and visualize Differences (Divergences and Distances) between the word frequency distributions from two corpora. \n",
    "\n",
    "For this notebook we will be using the following packages"
   ]
  },
  {
   "cell_type": "code",
   "execution_count": 1,
   "metadata": {
    "collapsed": true
   },
   "outputs": [],
   "source": [
    "#Special module written for this class\n",
    "#This provides access to data and to helper functions from previous weeks\n",
    "import lucem_illud #pip install git+git://github.com/Computational-Content-Analysis-2018/lucem_illud.git\n",
    "\n",
    "#All these packages need to be installed from pip\n",
    "import requests #for http requests\n",
    "import nltk #the Natural Language Toolkit\n",
    "import pandas #gives us DataFrames\n",
    "import matplotlib.pyplot as plt #For graphics\n",
    "import wordcloud #Makes word clouds\n",
    "import numpy as np #For divergences/distances\n",
    "import scipy #For divergences/distances\n",
    "import seaborn as sns #makes our plots look nicer\n",
    "import sklearn.manifold #For a manifold plot\n",
    "from nltk.corpus import stopwords #For stopwords\n",
    "import json #For API responses\n",
    "import urllib.parse #For joining urls\n",
    "\n",
    "#This 'magic' command makes the plots work better\n",
    "#in the notebook, don't use it outside of a notebook\n",
    "%matplotlib inline"
   ]
  },
  {
   "cell_type": "markdown",
   "metadata": {},
   "source": [
    "# Retrieving exemplary corpora\n",
    "\n",
    "To get started we will need some examples. Let's start by downloading one of the corpuses from `nltk`, a Natural Language Toolkit developed by computational linguists at the University of Pennsylvania. Let's take a look at how that works.\n",
    "\n",
    "First we can get a list of works available from the Gutenburg corpus, with the [corpus module](http://www.nltk.org/api/nltk.corpus.html). To do this we will need to tell nltk where the data are, and download them if need be."
   ]
  },
  {
   "cell_type": "code",
   "execution_count": 2,
   "metadata": {},
   "outputs": [
    {
     "name": "stdout",
     "output_type": "stream",
     "text": [
      "['austen-emma.txt', 'austen-persuasion.txt', 'austen-sense.txt', 'bible-kjv.txt', 'blake-poems.txt', 'bryant-stories.txt', 'burgess-busterbrown.txt', 'carroll-alice.txt', 'chesterton-ball.txt', 'chesterton-brown.txt', 'chesterton-thursday.txt', 'edgeworth-parents.txt', 'melville-moby_dick.txt', 'milton-paradise.txt', 'shakespeare-caesar.txt', 'shakespeare-hamlet.txt', 'shakespeare-macbeth.txt', 'whitman-leaves.txt']\n",
      "18\n"
     ]
    }
   ],
   "source": [
    "#You should have them already downloaded in the data directory\n",
    "try:\n",
    "    #adding path for both local and server, only one of these will actually be used at a time\n",
    "    nltk.data.path.append('/project2/macs60000/shared_data/nltk')\n",
    "    nltk.data.path.append('../data')\n",
    "    #Check that everything is in place\n",
    "    nltk.corpus.gutenberg.fileids()\n",
    "except LookupError:\n",
    "    print(\"You have to download all the documents\")\n",
    "    print(\"Downloading to ../data this should only take a couple minutes\")\n",
    "    nltk.download('all', download_dir = '../data')\n",
    "    nltk.data.path.append('../data')\n",
    "#If you haven't downloaded the copura then you will have to run `nltk.download()`\n",
    "print(nltk.corpus.gutenberg.fileids())\n",
    "print(len(nltk.corpus.gutenberg.fileids()))"
   ]
  },
  {
   "cell_type": "markdown",
   "metadata": {},
   "source": [
    "We can also look at the individual works"
   ]
  },
  {
   "cell_type": "code",
   "execution_count": 4,
   "metadata": {},
   "outputs": [
    {
     "data": {
      "text/plain": [
       "\"es,\\nBut the Norweyan Lord, surueying vantage,\\nWith furbusht Armes, and new supplyes of men,\\nBegan a fresh assault\\n\\n   King. Dismay'd not this our Captaines, Macbeth and\\nBanquoh?\\n  Cap. Yes, as Sparrowes, Eagles;\\nOr the Hare, the Lyon:\\nIf I say sooth, I must report they were\\nAs Cannons ouer-charg'd with double Cracks,\\nSo they doubly redoubled stroakes vpon the Foe:\\nExcept they meant to bathe in reeking Wounds,\\nOr memorize another Golgotha,\\nI cannot tell: but I am faint,\\nMy Gashes cry for helpe\\n\\n   King. So well thy words become thee, as thy wounds,\\nThey smack of Honor both: Goe get him Surgeons.\\nEnter Rosse and Angus.\\n\\nWho comes here?\\n  Mal. The worthy Thane of Rosse\\n\\n   Lenox. What a haste lookes through his eyes?\\nSo should he looke, that seemes to speake things strange\\n\\n   Rosse. God saue the King\\n\\n   King. Whence cam'st thou, worthy Thane?\\n  Rosse. From Fiffe, great King,\\nWhere the Norweyan Banners flowt the Skie,\\nAnd fanne our people cold.\\nNorway himselfe, with terrible numbers,\\nAssisted by that most disloyall Traytor,\\nThe Thane of Cawdor, began a dismall Conflict,\\nTill that Bellona's Bridegroome, lapt in proofe,\\nConfronted him with selfe-comparisons,\\nPoint against Point, rebellious Arme 'gainst Arme,\\nCurbing his lauish spirit: and to conclude,\\nThe Victorie fell on vs\\n\\n   King. Great happinesse\\n\\n   Rosse. That now Sweno, the Norwayes King,\\nCraues composition:\\nNor would we deigne him buriall of his men,\\nTill he disbursed, at Saint Colmes ynch,\\nTen thousand Dollars, to our generall vse\\n\\n   King. No more that Thane of Cawdor shall deceiue\\nOur Bosome interest: Goe pronounce his present death,\\nAnd with his former Title greet Macbeth\\n\\n   Rosse. Ile see it done\\n\\n   King. What he hath lost, Noble Macbeth hath wonne.\\n\\nExeunt.\\n\\n\\nScena Tertia.\\n\\nThunder. Enter the three Witches.\\n\\n  1. Where hast thou beene, Sister?\\n  2. Killing Swine\\n\\n   3. Sister, where thou?\\n  1. A Saylors Wife had Chestnuts in her Lappe,\\nAnd mouncht, & mouncht, and mouncht:\\nGiue me, quoth I.\\nAroynt thee, \""
      ]
     },
     "execution_count": 4,
     "metadata": {},
     "output_type": "execute_result"
    }
   ],
   "source": [
    "nltk.corpus.gutenberg.raw('shakespeare-macbeth.txt')[2000:4000]"
   ]
  },
  {
   "cell_type": "markdown",
   "metadata": {},
   "source": [
    "All the listed works have been nicely marked up and classified for us so we can do much better than just looking at raw text."
   ]
  },
  {
   "cell_type": "code",
   "execution_count": 5,
   "metadata": {},
   "outputs": [
    {
     "name": "stdout",
     "output_type": "stream",
     "text": [
      "['[', 'The', 'Tragedie', 'of', 'Macbeth', 'by', ...]\n",
      "[['[', 'The', 'Tragedie', 'of', 'Macbeth', 'by', 'William', 'Shakespeare', '1603', ']'], ['Actus', 'Primus', '.'], ...]\n"
     ]
    }
   ],
   "source": [
    "print(nltk.corpus.gutenberg.words('shakespeare-macbeth.txt'))\n",
    "print(nltk.corpus.gutenberg.sents('shakespeare-macbeth.txt'))"
   ]
  },
  {
   "cell_type": "markdown",
   "metadata": {},
   "source": [
    "# Counting words\n",
    "\n",
    "If we want to do some analysis we can start by simply counting the number of times each word occurs within the corpus."
   ]
  },
  {
   "cell_type": "code",
   "execution_count": 6,
   "metadata": {},
   "outputs": [
    {
     "data": {
      "text/html": [
       "<div>\n",
       "<style scoped>\n",
       "    .dataframe tbody tr th:only-of-type {\n",
       "        vertical-align: middle;\n",
       "    }\n",
       "\n",
       "    .dataframe tbody tr th {\n",
       "        vertical-align: top;\n",
       "    }\n",
       "\n",
       "    .dataframe thead th {\n",
       "        text-align: right;\n",
       "    }\n",
       "</style>\n",
       "<table border=\"1\" class=\"dataframe\">\n",
       "  <thead>\n",
       "    <tr style=\"text-align: right;\">\n",
       "      <th></th>\n",
       "      <th>count</th>\n",
       "      <th>word</th>\n",
       "    </tr>\n",
       "  </thead>\n",
       "  <tbody>\n",
       "    <tr>\n",
       "      <th>0</th>\n",
       "      <td>4</td>\n",
       "      <td>[</td>\n",
       "    </tr>\n",
       "    <tr>\n",
       "      <th>1</th>\n",
       "      <td>650</td>\n",
       "      <td>the</td>\n",
       "    </tr>\n",
       "    <tr>\n",
       "      <th>2</th>\n",
       "      <td>2</td>\n",
       "      <td>tragedie</td>\n",
       "    </tr>\n",
       "    <tr>\n",
       "      <th>3</th>\n",
       "      <td>338</td>\n",
       "      <td>of</td>\n",
       "    </tr>\n",
       "    <tr>\n",
       "      <th>4</th>\n",
       "      <td>62</td>\n",
       "      <td>macbeth</td>\n",
       "    </tr>\n",
       "    <tr>\n",
       "      <th>5</th>\n",
       "      <td>49</td>\n",
       "      <td>by</td>\n",
       "    </tr>\n",
       "    <tr>\n",
       "      <th>6</th>\n",
       "      <td>1</td>\n",
       "      <td>william</td>\n",
       "    </tr>\n",
       "    <tr>\n",
       "      <th>7</th>\n",
       "      <td>1</td>\n",
       "      <td>shakespeare</td>\n",
       "    </tr>\n",
       "    <tr>\n",
       "      <th>8</th>\n",
       "      <td>1</td>\n",
       "      <td>1603</td>\n",
       "    </tr>\n",
       "    <tr>\n",
       "      <th>9</th>\n",
       "      <td>4</td>\n",
       "      <td>]</td>\n",
       "    </tr>\n",
       "  </tbody>\n",
       "</table>\n",
       "</div>"
      ],
      "text/plain": [
       "   count         word\n",
       "0      4            [\n",
       "1    650          the\n",
       "2      2     tragedie\n",
       "3    338           of\n",
       "4     62      macbeth\n",
       "5     49           by\n",
       "6      1      william\n",
       "7      1  shakespeare\n",
       "8      1         1603\n",
       "9      4            ]"
      ]
     },
     "execution_count": 6,
     "metadata": {},
     "output_type": "execute_result"
    }
   ],
   "source": [
    "def wordCounter(wordLst):\n",
    "    wordCounts = {}\n",
    "    for word in wordLst:\n",
    "        #We usually need to normalize the case\n",
    "        wLower = word.lower()\n",
    "        if wLower in wordCounts:\n",
    "            wordCounts[wLower] += 1\n",
    "        else:\n",
    "            wordCounts[wLower] = 1\n",
    "    #convert to DataFrame\n",
    "    countsForFrame = {'word' : [], 'count' : []}\n",
    "    for w, c in wordCounts.items():\n",
    "        countsForFrame['word'].append(w)\n",
    "        countsForFrame['count'].append(c)\n",
    "    return pandas.DataFrame(countsForFrame)\n",
    "\n",
    "countedWords = wordCounter(nltk.corpus.gutenberg.words('shakespeare-macbeth.txt'))\n",
    "countedWords[:10]"
   ]
  },
  {
   "cell_type": "markdown",
   "metadata": {},
   "source": [
    "Notice how `wordCounter()` is not a very complicated function. That is because the hard parts have already been done by `nltk`. If we were using unprocessed text we would have to tokenize and determine what to do with the non-word characters.\n",
    "\n",
    "nltk also offers a built-in way for getting a frequency distribution from a list of words:"
   ]
  },
  {
   "cell_type": "code",
   "execution_count": 7,
   "metadata": {},
   "outputs": [
    {
     "name": "stdout",
     "output_type": "stream",
     "text": [
      "62\n"
     ]
    }
   ],
   "source": [
    "words = [word.lower() for word in nltk.corpus.gutenberg.words('shakespeare-macbeth.txt')]\n",
    "freq = nltk.FreqDist(words)\n",
    "print (freq['macbeth'])"
   ]
  },
  {
   "cell_type": "markdown",
   "metadata": {},
   "source": [
    "Lets sort and plot our counts to investigate the shape of our word frequency distribution.\n",
    "\n",
    "First we need to sort the words by count."
   ]
  },
  {
   "cell_type": "code",
   "execution_count": 8,
   "metadata": {
    "scrolled": true
   },
   "outputs": [
    {
     "data": {
      "text/html": [
       "<div>\n",
       "<style scoped>\n",
       "    .dataframe tbody tr th:only-of-type {\n",
       "        vertical-align: middle;\n",
       "    }\n",
       "\n",
       "    .dataframe tbody tr th {\n",
       "        vertical-align: top;\n",
       "    }\n",
       "\n",
       "    .dataframe thead th {\n",
       "        text-align: right;\n",
       "    }\n",
       "</style>\n",
       "<table border=\"1\" class=\"dataframe\">\n",
       "  <thead>\n",
       "    <tr style=\"text-align: right;\">\n",
       "      <th></th>\n",
       "      <th>count</th>\n",
       "      <th>word</th>\n",
       "    </tr>\n",
       "  </thead>\n",
       "  <tbody>\n",
       "    <tr>\n",
       "      <th>29</th>\n",
       "      <td>1962</td>\n",
       "      <td>,</td>\n",
       "    </tr>\n",
       "    <tr>\n",
       "      <th>12</th>\n",
       "      <td>1235</td>\n",
       "      <td>.</td>\n",
       "    </tr>\n",
       "    <tr>\n",
       "      <th>1</th>\n",
       "      <td>650</td>\n",
       "      <td>the</td>\n",
       "    </tr>\n",
       "    <tr>\n",
       "      <th>36</th>\n",
       "      <td>637</td>\n",
       "      <td>'</td>\n",
       "    </tr>\n",
       "    <tr>\n",
       "      <th>16</th>\n",
       "      <td>546</td>\n",
       "      <td>and</td>\n",
       "    </tr>\n",
       "    <tr>\n",
       "      <th>64</th>\n",
       "      <td>477</td>\n",
       "      <td>:</td>\n",
       "    </tr>\n",
       "    <tr>\n",
       "      <th>54</th>\n",
       "      <td>384</td>\n",
       "      <td>to</td>\n",
       "    </tr>\n",
       "    <tr>\n",
       "      <th>56</th>\n",
       "      <td>348</td>\n",
       "      <td>i</td>\n",
       "    </tr>\n",
       "    <tr>\n",
       "      <th>3</th>\n",
       "      <td>338</td>\n",
       "      <td>of</td>\n",
       "    </tr>\n",
       "    <tr>\n",
       "      <th>27</th>\n",
       "      <td>241</td>\n",
       "      <td>?</td>\n",
       "    </tr>\n",
       "    <tr>\n",
       "      <th>84</th>\n",
       "      <td>241</td>\n",
       "      <td>a</td>\n",
       "    </tr>\n",
       "    <tr>\n",
       "      <th>43</th>\n",
       "      <td>238</td>\n",
       "      <td>that</td>\n",
       "    </tr>\n",
       "    <tr>\n",
       "      <th>153</th>\n",
       "      <td>224</td>\n",
       "      <td>d</td>\n",
       "    </tr>\n",
       "    <tr>\n",
       "      <th>487</th>\n",
       "      <td>206</td>\n",
       "      <td>you</td>\n",
       "    </tr>\n",
       "    <tr>\n",
       "      <th>110</th>\n",
       "      <td>203</td>\n",
       "      <td>my</td>\n",
       "    </tr>\n",
       "    <tr>\n",
       "      <th>28</th>\n",
       "      <td>201</td>\n",
       "      <td>in</td>\n",
       "    </tr>\n",
       "    <tr>\n",
       "      <th>66</th>\n",
       "      <td>188</td>\n",
       "      <td>is</td>\n",
       "    </tr>\n",
       "    <tr>\n",
       "      <th>242</th>\n",
       "      <td>165</td>\n",
       "      <td>not</td>\n",
       "    </tr>\n",
       "    <tr>\n",
       "      <th>122</th>\n",
       "      <td>161</td>\n",
       "      <td>it</td>\n",
       "    </tr>\n",
       "    <tr>\n",
       "      <th>55</th>\n",
       "      <td>153</td>\n",
       "      <td>with</td>\n",
       "    </tr>\n",
       "    <tr>\n",
       "      <th>95</th>\n",
       "      <td>146</td>\n",
       "      <td>his</td>\n",
       "    </tr>\n",
       "    <tr>\n",
       "      <th>45</th>\n",
       "      <td>137</td>\n",
       "      <td>be</td>\n",
       "    </tr>\n",
       "    <tr>\n",
       "      <th>474</th>\n",
       "      <td>137</td>\n",
       "      <td>macb</td>\n",
       "    </tr>\n",
       "    <tr>\n",
       "      <th>37</th>\n",
       "      <td>131</td>\n",
       "      <td>s</td>\n",
       "    </tr>\n",
       "    <tr>\n",
       "      <th>501</th>\n",
       "      <td>126</td>\n",
       "      <td>your</td>\n",
       "    </tr>\n",
       "    <tr>\n",
       "      <th>196</th>\n",
       "      <td>123</td>\n",
       "      <td>our</td>\n",
       "    </tr>\n",
       "    <tr>\n",
       "      <th>413</th>\n",
       "      <td>122</td>\n",
       "      <td>haue</td>\n",
       "    </tr>\n",
       "    <tr>\n",
       "      <th>162</th>\n",
       "      <td>120</td>\n",
       "      <td>but</td>\n",
       "    </tr>\n",
       "    <tr>\n",
       "      <th>87</th>\n",
       "      <td>118</td>\n",
       "      <td>what</td>\n",
       "    </tr>\n",
       "    <tr>\n",
       "      <th>391</th>\n",
       "      <td>113</td>\n",
       "      <td>me</td>\n",
       "    </tr>\n",
       "    <tr>\n",
       "      <th>...</th>\n",
       "      <td>...</td>\n",
       "      <td>...</td>\n",
       "    </tr>\n",
       "    <tr>\n",
       "      <th>105</th>\n",
       "      <td>49</td>\n",
       "      <td>good</td>\n",
       "    </tr>\n",
       "    <tr>\n",
       "      <th>630</th>\n",
       "      <td>49</td>\n",
       "      <td>was</td>\n",
       "    </tr>\n",
       "    <tr>\n",
       "      <th>5</th>\n",
       "      <td>49</td>\n",
       "      <td>by</td>\n",
       "    </tr>\n",
       "    <tr>\n",
       "      <th>289</th>\n",
       "      <td>49</td>\n",
       "      <td>rosse</td>\n",
       "    </tr>\n",
       "    <tr>\n",
       "      <th>880</th>\n",
       "      <td>48</td>\n",
       "      <td>lady</td>\n",
       "    </tr>\n",
       "    <tr>\n",
       "      <th>478</th>\n",
       "      <td>48</td>\n",
       "      <td>t</td>\n",
       "    </tr>\n",
       "    <tr>\n",
       "      <th>567</th>\n",
       "      <td>48</td>\n",
       "      <td>them</td>\n",
       "    </tr>\n",
       "    <tr>\n",
       "      <th>529</th>\n",
       "      <td>46</td>\n",
       "      <td>time</td>\n",
       "    </tr>\n",
       "    <tr>\n",
       "      <th>250</th>\n",
       "      <td>45</td>\n",
       "      <td>if</td>\n",
       "    </tr>\n",
       "    <tr>\n",
       "      <th>104</th>\n",
       "      <td>43</td>\n",
       "      <td>like</td>\n",
       "    </tr>\n",
       "    <tr>\n",
       "      <th>386</th>\n",
       "      <td>43</td>\n",
       "      <td>her</td>\n",
       "    </tr>\n",
       "    <tr>\n",
       "      <th>297</th>\n",
       "      <td>42</td>\n",
       "      <td>should</td>\n",
       "    </tr>\n",
       "    <tr>\n",
       "      <th>306</th>\n",
       "      <td>42</td>\n",
       "      <td>st</td>\n",
       "    </tr>\n",
       "    <tr>\n",
       "      <th>453</th>\n",
       "      <td>42</td>\n",
       "      <td>did</td>\n",
       "    </tr>\n",
       "    <tr>\n",
       "      <th>735</th>\n",
       "      <td>42</td>\n",
       "      <td>let</td>\n",
       "    </tr>\n",
       "    <tr>\n",
       "      <th>116</th>\n",
       "      <td>41</td>\n",
       "      <td>say</td>\n",
       "    </tr>\n",
       "    <tr>\n",
       "      <th>22</th>\n",
       "      <td>40</td>\n",
       "      <td>when</td>\n",
       "    </tr>\n",
       "    <tr>\n",
       "      <th>473</th>\n",
       "      <td>39</td>\n",
       "      <td>banquo</td>\n",
       "    </tr>\n",
       "    <tr>\n",
       "      <th>254</th>\n",
       "      <td>39</td>\n",
       "      <td>were</td>\n",
       "    </tr>\n",
       "    <tr>\n",
       "      <th>49</th>\n",
       "      <td>39</td>\n",
       "      <td>where</td>\n",
       "    </tr>\n",
       "    <tr>\n",
       "      <th>468</th>\n",
       "      <td>39</td>\n",
       "      <td>make</td>\n",
       "    </tr>\n",
       "    <tr>\n",
       "      <th>198</th>\n",
       "      <td>38</td>\n",
       "      <td>o</td>\n",
       "    </tr>\n",
       "    <tr>\n",
       "      <th>230</th>\n",
       "      <td>38</td>\n",
       "      <td>lord</td>\n",
       "    </tr>\n",
       "    <tr>\n",
       "      <th>129</th>\n",
       "      <td>38</td>\n",
       "      <td>doe</td>\n",
       "    </tr>\n",
       "    <tr>\n",
       "      <th>665</th>\n",
       "      <td>37</td>\n",
       "      <td>tis</td>\n",
       "    </tr>\n",
       "    <tr>\n",
       "      <th>30</th>\n",
       "      <td>37</td>\n",
       "      <td>or</td>\n",
       "    </tr>\n",
       "    <tr>\n",
       "      <th>21</th>\n",
       "      <td>36</td>\n",
       "      <td>1</td>\n",
       "    </tr>\n",
       "    <tr>\n",
       "      <th>252</th>\n",
       "      <td>36</td>\n",
       "      <td>must</td>\n",
       "    </tr>\n",
       "    <tr>\n",
       "      <th>489</th>\n",
       "      <td>35</td>\n",
       "      <td>may</td>\n",
       "    </tr>\n",
       "    <tr>\n",
       "      <th>38</th>\n",
       "      <td>35</td>\n",
       "      <td>done</td>\n",
       "    </tr>\n",
       "  </tbody>\n",
       "</table>\n",
       "<p>100 rows × 2 columns</p>\n",
       "</div>"
      ],
      "text/plain": [
       "     count    word\n",
       "29    1962       ,\n",
       "12    1235       .\n",
       "1      650     the\n",
       "36     637       '\n",
       "16     546     and\n",
       "64     477       :\n",
       "54     384      to\n",
       "56     348       i\n",
       "3      338      of\n",
       "27     241       ?\n",
       "84     241       a\n",
       "43     238    that\n",
       "153    224       d\n",
       "487    206     you\n",
       "110    203      my\n",
       "28     201      in\n",
       "66     188      is\n",
       "242    165     not\n",
       "122    161      it\n",
       "55     153    with\n",
       "95     146     his\n",
       "45     137      be\n",
       "474    137    macb\n",
       "37     131       s\n",
       "501    126    your\n",
       "196    123     our\n",
       "413    122    haue\n",
       "162    120     but\n",
       "87     118    what\n",
       "391    113      me\n",
       "..     ...     ...\n",
       "105     49    good\n",
       "630     49     was\n",
       "5       49      by\n",
       "289     49   rosse\n",
       "880     48    lady\n",
       "478     48       t\n",
       "567     48    them\n",
       "529     46    time\n",
       "250     45      if\n",
       "104     43    like\n",
       "386     43     her\n",
       "297     42  should\n",
       "306     42      st\n",
       "453     42     did\n",
       "735     42     let\n",
       "116     41     say\n",
       "22      40    when\n",
       "473     39  banquo\n",
       "254     39    were\n",
       "49      39   where\n",
       "468     39    make\n",
       "198     38       o\n",
       "230     38    lord\n",
       "129     38     doe\n",
       "665     37     tis\n",
       "30      37      or\n",
       "21      36       1\n",
       "252     36    must\n",
       "489     35     may\n",
       "38      35    done\n",
       "\n",
       "[100 rows x 2 columns]"
      ]
     },
     "execution_count": 8,
     "metadata": {},
     "output_type": "execute_result"
    }
   ],
   "source": [
    "#Doing this in place (changing the original DataFrame) as we don't need the unsorted DataFrame\n",
    "countedWords.sort_values('count', ascending=False, inplace=True)\n",
    "countedWords[:100]"
   ]
  },
  {
   "cell_type": "markdown",
   "metadata": {},
   "source": [
    "Punctuation and very common words (articles 'a' and 'the'; prepositions 'of' and 'to') make up the most common values, but this isn't very interesting and can actually get in the way of our analysis. We may remove these 'function words' by removing according to a stopword list, setting some frequency threshold, or using a weighting scheme (like tf.idf) to decrease their influence (all modeled later in this tutorial)."
   ]
  },
  {
   "cell_type": "code",
   "execution_count": 9,
   "metadata": {},
   "outputs": [
    {
     "data": {
      "image/png": "[encoded data removed]",
      "text/plain": [
       "<matplotlib.figure.Figure at 0x250aca86940>"
      ]
     },
     "metadata": {},
     "output_type": "display_data"
    }
   ],
   "source": [
    "#Creating a figure and axis lets us do things like change the scaling or add a title\n",
    "fig = plt.figure()\n",
    "ax = fig.add_subplot(111)\n",
    "plt.plot(range(len(countedWords)), countedWords['count'])\n",
    "plt.show()"
   ]
  },
  {
   "cell_type": "markdown",
   "metadata": {},
   "source": [
    "This shows that likelihood of a word occurring is inversely proportional to its rank. This effect is called [Zipf's Law](https://en.wikipedia.org/wiki/Zipf%27s_law), and suggests that the most frequent word will occur approximately twice as often as the second most frequent word, three times as often as the third most frequent word, etc. Zipf's law is most easily observed by plotting the data on a log-log graph, with the axes being log (rank order) and log (frequency) resulting in a linear relationship."
   ]
  },
  {
   "cell_type": "code",
   "execution_count": 10,
   "metadata": {
    "scrolled": true
   },
   "outputs": [
    {
     "data": {
      "image/png": "[encoded data removed]",
      "text/plain": [
       "<matplotlib.figure.Figure at 0x250aeb19cf8>"
      ]
     },
     "metadata": {},
     "output_type": "display_data"
    }
   ],
   "source": [
    "fig = plt.figure()\n",
    "ax = fig.add_subplot(111)\n",
    "plt.plot(range(len(countedWords)), countedWords['count'])\n",
    "ax.set_yscale('log')\n",
    "ax.set_xscale('log')\n",
    "plt.show()"
   ]
  },
  {
   "cell_type": "markdown",
   "metadata": {},
   "source": [
    "(The same relationship occurs in many other rankings, such as population ranks of cities, corporation sizes, income rankings, etc.) \n",
    "\n",
    "The distribution was imagined by Zipf to be driven by a principle of 'least effort' where speakers did not work any harder than necessary to communicate a given idea, but the basis for this relationship is still not well understood and conforms at least as well to a process of [preferential attachment](https://en.wikipedia.org/wiki/Preferential_attachment) whereby people disproportionately attend to popular words.\n",
    "\n",
    "There are many other properties of words we can examine. First lets look surrounding words with the concordance. To do this we need to load the text into a `ConcordanceIndex`"
   ]
  },
  {
   "cell_type": "code",
   "execution_count": 11,
   "metadata": {
    "collapsed": true
   },
   "outputs": [],
   "source": [
    "macbethIndex = nltk.text.ConcordanceIndex(nltk.corpus.gutenberg.words('shakespeare-macbeth.txt'))"
   ]
  },
  {
   "cell_type": "markdown",
   "metadata": {},
   "source": [
    "Then we can retrieve all the words that cooccur with a word in a given word window. Let's first look at `'macbeth'`."
   ]
  },
  {
   "cell_type": "code",
   "execution_count": 12,
   "metadata": {},
   "outputs": [
    {
     "name": "stdout",
     "output_type": "stream",
     "text": [
      "No matches\n"
     ]
    }
   ],
   "source": [
    "macbethIndex.print_concordance('macbeth')"
   ]
  },
  {
   "cell_type": "markdown",
   "metadata": {},
   "source": [
    "Weird?! `'macbeth'` doesn't occur anywhere in the the text. What happened?\n",
    "\n",
    "`ConcordanceIndex` is case sensitive, lets try looking for `'Macbeth'`"
   ]
  },
  {
   "cell_type": "code",
   "execution_count": 13,
   "metadata": {
    "scrolled": true
   },
   "outputs": [
    {
     "name": "stdout",
     "output_type": "stream",
     "text": [
      "Displaying 25 of 61 matches:\n",
      "                                  Macbeth by William Shakespeare 1603 ] Act\n",
      " the Heath 3 . There to meet with Macbeth 1 . I come , Gray - Malkin All . \n",
      "but all ' s too weake : For braue Macbeth ( well hee deserues that Name ) D\n",
      "smay ' d not this our Captaines , Macbeth and Banquoh ? Cap . Yes , as Spar\n",
      ", And with his former Title greet Macbeth Rosse . Ile see it done King . Wh\n",
      " King . What he hath lost , Noble Macbeth hath wonne . Exeunt . Scena Terti\n",
      "ithin . 3 . A Drumme , a Drumme : Macbeth doth come All . The weyward Siste\n",
      ", the Charme ' s wound vp . Enter Macbeth and Banquo . Macb . So foule and \n",
      "an : what are you ? 1 . All haile Macbeth , haile to thee Thane of Glamis 2\n",
      "hee Thane of Glamis 2 . All haile Macbeth , haile to thee Thane of Cawdor 3\n",
      "hee Thane of Cawdor 3 . All haile Macbeth , that shalt be King hereafter Ba\n",
      ". Hayle 3 . Hayle 1 . Lesser than Macbeth , and greater 2 . Not so happy , \n",
      "hough thou be none : So all haile Macbeth , and Banquo 1 . Banquo , and Mac\n",
      "eth , and Banquo 1 . Banquo , and Macbeth , all haile Macb . Stay you imper\n",
      "he King hath happily receiu ' d , Macbeth , The newes of thy successe : and\n",
      "gh the roughest Day Banq . Worthy Macbeth , wee stay vpon your leysure Macb\n",
      "I built An absolute Trust . Enter Macbeth , Banquo , Rosse , and Angus . O \n",
      "ke , To cry , hold , hold . Enter Macbeth . Great Glamys , worthy Cawdor , \n",
      "ruice ouer the Stage . Then enter Macbeth Macb . If it were done , when ' t\n",
      "re giues way to in repose . Enter Macbeth , and a Seruant with a Torch . Gi\n",
      "hether they liue , or dye . Enter Macbeth . Macb . Who ' s there ? what hoa\n",
      "ard a voyce cry , Sleep no more : Macbeth does murther Sleepe , the innocen\n",
      "ore Cawdor Shall sleepe no more : Macbeth shall sleepe no more Lady . Who w\n",
      " made a Shift to cast him . Enter Macbeth . Macd . Is thy Master stirring ?\n",
      "selues : awake , awake , Exeunt . Macbeth and Lenox . Ring the Alarum Bell \n"
     ]
    }
   ],
   "source": [
    "macbethIndex.print_concordance('Macbeth')"
   ]
  },
  {
   "cell_type": "markdown",
   "metadata": {},
   "source": [
    "That's better. What about something a lot less frequent?"
   ]
  },
  {
   "cell_type": "code",
   "execution_count": 14,
   "metadata": {
    "scrolled": true
   },
   "outputs": [
    {
     "name": "stdout",
     "output_type": "stream",
     "text": [
      "    count        word\n",
      "80      7  donalbaine\n",
      "Displaying 7 of 7 matches:\n",
      "m within . Enter King Malcome , Donalbaine , Lenox , with attendants , mee\n",
      "Enter King , Lenox , Malcolme , Donalbaine , and Attendants . King . Is ex\n",
      "rches . Enter King , Malcolme , Donalbaine , Banquo , Lenox , Macduff , Ro\n",
      " ' th ' second Chamber ? Lady . Donalbaine Mac . This is a sorry sight Lad\n",
      "er , and Treason , Banquo , and Donalbaine : Malcolme awake , Shake off th\n",
      "to brag of . Enter Malcolme and Donalbaine . Donal . What is amisse ? Macb\n",
      "were subborned , Malcolme , and Donalbaine the Kings two Sonnes Are stolne\n"
     ]
    }
   ],
   "source": [
    "print(countedWords[countedWords['word'] == 'donalbaine'])\n",
    "macbethIndex.print_concordance('Donalbaine')"
   ]
  },
  {
   "cell_type": "markdown",
   "metadata": {},
   "source": [
    "# Getting and working with raw text\n",
    "\n",
    "First, we will retrieve a collection of press releases from a *GitHub API* that archived them, based on a number of analyses by Justin Grimmer, a political scientist whose work we will read next week, and who will be joining the University of Chicago next July!\n",
    "\n",
    "GitHub API requests are made to `'https://api.github.com/'` and responses are in JSON, similar to Tumblr's API.\n",
    "\n",
    "We will get the information on [github.com/lintool/GrimmerSenatePressReleases](https://github.com/lintool/GrimmerSenatePressReleases) as it contains a nice set documents."
   ]
  },
  {
   "cell_type": "code",
   "execution_count": 16,
   "metadata": {
    "scrolled": true
   },
   "outputs": [
    {
     "name": "stdout",
     "output_type": "stream",
     "text": [
      "dict_keys(['id', 'name', 'full_name', 'owner', 'private', 'html_url', 'description', 'fork', 'url', 'forks_url', 'keys_url', 'collaborators_url', 'teams_url', 'hooks_url', 'issue_events_url', 'events_url', 'assignees_url', 'branches_url', 'tags_url', 'blobs_url', 'git_tags_url', 'git_refs_url', 'trees_url', 'statuses_url', 'languages_url', 'stargazers_url', 'contributors_url', 'subscribers_url', 'subscription_url', 'commits_url', 'git_commits_url', 'comments_url', 'issue_comment_url', 'contents_url', 'compare_url', 'merges_url', 'archive_url', 'downloads_url', 'issues_url', 'pulls_url', 'milestones_url', 'notifications_url', 'labels_url', 'releases_url', 'deployments_url', 'created_at', 'updated_at', 'pushed_at', 'git_url', 'ssh_url', 'clone_url', 'svn_url', 'homepage', 'size', 'stargazers_count', 'watchers_count', 'language', 'has_issues', 'has_projects', 'has_downloads', 'has_wiki', 'has_pages', 'forks_count', 'mirror_url', 'archived', 'open_issues_count', 'license', 'forks', 'open_issues', 'watchers', 'default_branch', 'network_count', 'subscribers_count'])\n",
      "Grimmer's Senate Press Releases\n"
     ]
    }
   ],
   "source": [
    "r = requests.get('https://api.github.com/repos/lintool/GrimmerSenatePressReleases')\n",
    "senateReleasesData = json.loads(r.text)\n",
    "print(senateReleasesData.keys())\n",
    "print(senateReleasesData['description'])"
   ]
  },
  {
   "cell_type": "markdown",
   "metadata": {},
   "source": [
    "What we are interested in here is the `'contents_url'`"
   ]
  },
  {
   "cell_type": "code",
   "execution_count": 17,
   "metadata": {},
   "outputs": [
    {
     "name": "stdout",
     "output_type": "stream",
     "text": [
      "https://api.github.com/repos/lintool/GrimmerSenatePressReleases/contents/{+path}\n"
     ]
    }
   ],
   "source": [
    "print(senateReleasesData['contents_url'])"
   ]
  },
  {
   "cell_type": "markdown",
   "metadata": {},
   "source": [
    "We can use this to get any or all of the files from the repo."
   ]
  },
  {
   "cell_type": "code",
   "execution_count": 18,
   "metadata": {},
   "outputs": [
    {
     "data": {
      "text/plain": [
       "{'_links': {'git': 'https://api.github.com/repos/lintool/GrimmerSenatePressReleases/git/blobs/f524289ee563dca58690c8d36c23dce5dbd9962a',\n",
       "  'html': 'https://github.com/lintool/GrimmerSenatePressReleases/blob/master/raw/Whitehouse/10Apr2007Whitehouse123.txt',\n",
       "  'self': 'https://api.github.com/repos/lintool/GrimmerSenatePressReleases/contents/raw/Whitehouse/10Apr2007Whitehouse123.txt?ref=master'},\n",
       " 'download_url': 'https://raw.githubusercontent.com/lintool/GrimmerSenatePressReleases/master/raw/Whitehouse/10Apr2007Whitehouse123.txt',\n",
       " 'git_url': 'https://api.github.com/repos/lintool/GrimmerSenatePressReleases/git/blobs/f524289ee563dca58690c8d36c23dce5dbd9962a',\n",
       " 'html_url': 'https://github.com/lintool/GrimmerSenatePressReleases/blob/master/raw/Whitehouse/10Apr2007Whitehouse123.txt',\n",
       " 'name': '10Apr2007Whitehouse123.txt',\n",
       " 'path': 'raw/Whitehouse/10Apr2007Whitehouse123.txt',\n",
       " 'sha': 'f524289ee563dca58690c8d36c23dce5dbd9962a',\n",
       " 'size': 2206,\n",
       " 'type': 'file',\n",
       " 'url': 'https://api.github.com/repos/lintool/GrimmerSenatePressReleases/contents/raw/Whitehouse/10Apr2007Whitehouse123.txt?ref=master'}"
      ]
     },
     "execution_count": 18,
     "metadata": {},
     "output_type": "execute_result"
    }
   ],
   "source": [
    "r = requests.get('https://api.github.com/repos/lintool/GrimmerSenatePressReleases/contents/raw/Whitehouse')\n",
    "whitehouseLinks = json.loads(r.text)\n",
    "whitehouseLinks[0]"
   ]
  },
  {
   "cell_type": "markdown",
   "metadata": {},
   "source": [
    "Now we have a list of information about Whitehouse press releases. Let's look at one of them."
   ]
  },
  {
   "cell_type": "code",
   "execution_count": 19,
   "metadata": {},
   "outputs": [
    {
     "name": "stdout",
     "output_type": "stream",
     "text": [
      "SEN. WHITEHOUSE SHARES WESTERLY GIRL'S STORY IN PUSH FOR STEM CELL RESEARCH\n",
      "  Sharing the story of Lila Barber, a 12 year old girl from Westerly, Sen. Sheldon Whitehouse (D-R.I.) on Tuesday, April 10, 2007, illustrated the hope stem cell research can offer in a speech on the Senate floor in favor of legislation to expand federal funding for stem cell research.  \n",
      "   Whitehouse met Lila two weeks ago. She was diagnosed two years ago with osteosarcoma, a cancerous bone condition, and last year underwent cadaver bone transplant surgery. The procedure saved her leg and is helping her remain cancer-free, but the transplanted tissue will not grow with her and likely will break down over time. Stem cell research, Whitehouse explained, could vastly improve the care of patients like Lila by allowing surgeons to enhance transplants with a patient's own stem cells, which could replace the lost bone and cartilage, or grow entirely new replacement bones and joints. \n",
      "   \"Stem cell research gives hope\n"
     ]
    },
    {
     "data": {
      "text/plain": [
       "2206"
      ]
     },
     "execution_count": 19,
     "metadata": {},
     "output_type": "execute_result"
    }
   ],
   "source": [
    "r = requests.get(whitehouseLinks[0]['download_url'])\n",
    "whitehouseRelease = r.text\n",
    "print(whitehouseRelease[:1000])\n",
    "len(whitehouseRelease)"
   ]
  },
  {
   "cell_type": "markdown",
   "metadata": {},
   "source": [
    "Now we have a string of correctly encoded text, similar to those we constructed from last week's assignment. For analysis of its words, next we need to tokenize it, or to split it into a sequence of tokens or word instances."
   ]
  },
  {
   "cell_type": "code",
   "execution_count": 20,
   "metadata": {},
   "outputs": [
    {
     "data": {
      "text/plain": [
       "['STEM',\n",
       " 'CELL',\n",
       " 'RESEARCH',\n",
       " 'Sharing',\n",
       " 'the',\n",
       " 'story',\n",
       " 'of',\n",
       " 'Lila',\n",
       " 'Barber',\n",
       " ',',\n",
       " 'a',\n",
       " '12',\n",
       " 'year',\n",
       " 'old',\n",
       " 'girl',\n",
       " 'from',\n",
       " 'Westerly',\n",
       " ',',\n",
       " 'Sen.',\n",
       " 'Sheldon']"
      ]
     },
     "execution_count": 20,
     "metadata": {},
     "output_type": "execute_result"
    }
   ],
   "source": [
    "whTokens = nltk.word_tokenize(whitehouseRelease)\n",
    "whTokens[10:30]"
   ]
  },
  {
   "cell_type": "markdown",
   "metadata": {},
   "source": [
    "`whTokens` is a list of 'words' constructed from nltk's `word_tokenize` method built on the [Penn Treebank tokenizer](http://www.nltk.org/api/nltk.tokenize.html#module-nltk.tokenize.treebank). While it's better than `.split(' ')`, a general python string method that splits on whitespace, it is not perfect. There are many different ways to tokenize a string. `word_tokenize` is unfortunately unaware of sentences and is essentially a complicated regular expression (regex) run across the string.\n",
    "\n",
    "If we want to find sentences we can use something like `nltk.sent_tokenize()`, which implements the [Punkt Sentence tokenizer](http://www.nltk.org/api/nltk.tokenize.html#nltk.tokenize.punkt.PunktSentenceTokenizer), a machine learning based algorithm that works well for many European languages.\n",
    "\n",
    "We could also use the [Stanford tokenizer](http://www.nltk.org/api/nltk.tokenize.html#module-nltk.tokenize.stanford) or construct our own regex with [`RegexpTokenizer()`](http://www.nltk.org/api/nltk.tokenize.html#module-nltk.tokenize.regexp). Picking the correct tokenizer is important as the tokens form the base of our analysis.\n",
    "\n",
    "For our purposes in this example, the Penn Treebank tokenizer is fine.\n",
    "\n",
    "To use the list of tokens in `nltk`, and take advantage of functions like `concordance`, shown above, we can convert it into a `Text`."
   ]
  },
  {
   "cell_type": "code",
   "execution_count": 21,
   "metadata": {},
   "outputs": [
    {
     "name": "stdout",
     "output_type": "stream",
     "text": [
      "Displaying 5 of 5 matches:\n",
      "rl from Westerly , Sen. Sheldon Whitehouse ( D-R.I. ) on Tuesday , April 1\n",
      "unding for stem cell research . Whitehouse met Lila two weeks ago . She wa\n",
      "ver time . Stem cell research , Whitehouse explained , could vastly improv\n",
      "ch might help or even cure , '' Whitehouse said . Whitehouse also praised \n",
      "ven cure , '' Whitehouse said . Whitehouse also praised the efforts of Rho\n"
     ]
    }
   ],
   "source": [
    "whText = nltk.Text(whTokens)\n",
    "\n",
    "whitehouseIndex = nltk.text.ConcordanceIndex(whText) \n",
    "whitehouseIndex.print_concordance('Whitehouse')"
   ]
  },
  {
   "cell_type": "markdown",
   "metadata": {},
   "source": [
    "*Note* that the `Text` class is for doing rapid, exploratory analysis. It provides an easy interface to many of the operations we want to do, but it does not allow us much control over the particular operations it glosses. When you are doing a more complete analysis, you should be using the module specifically designed for that task instead of the shortcut method `Text` provides, e.g. use  [`collocations` Module](http://www.nltk.org/api/nltk.html#module-nltk.collocations) instead of `.collocations()`.\n",
    "\n",
    "Now that we have gotten this loaded, let's glance at few features we will delve into more deeply later.\n",
    "\n",
    "For example, we can find words that statistically tend to occur together and typically have a composite, idiomatic meaning irreducible to the semantics of its component words. We will do this later with more control over exactly how these are identified."
   ]
  },
  {
   "cell_type": "code",
   "execution_count": 22,
   "metadata": {},
   "outputs": [
    {
     "name": "stdout",
     "output_type": "stream",
     "text": [
      "Rhode Island; stem cells; cell research; Cell Enhancement; Enhancement\n",
      "Act; President Bush; Stem Cell; stem cell; Stem cell\n"
     ]
    }
   ],
   "source": [
    "whText.collocations()"
   ]
  },
  {
   "cell_type": "markdown",
   "metadata": {},
   "source": [
    "Or we can pick a word (or words) and find what words tend to occur around it."
   ]
  },
  {
   "cell_type": "code",
   "execution_count": 23,
   "metadata": {},
   "outputs": [
    {
     "name": "stdout",
     "output_type": "stream",
     "text": [
      "for_cell hope_cell ._cell own_cells ``_cell of_cell on_cells the_cell\n",
      "embryonic_cells\n"
     ]
    }
   ],
   "source": [
    "whText.common_contexts(['stem'])"
   ]
  },
  {
   "cell_type": "markdown",
   "metadata": {},
   "source": [
    "We can also just count the number of times the word occurs."
   ]
  },
  {
   "cell_type": "code",
   "execution_count": 24,
   "metadata": {},
   "outputs": [
    {
     "data": {
      "text/plain": [
       "5"
      ]
     },
     "execution_count": 24,
     "metadata": {},
     "output_type": "execute_result"
    }
   ],
   "source": [
    "whText.count('cell')"
   ]
  },
  {
   "cell_type": "markdown",
   "metadata": {},
   "source": [
    "\n",
    "We can also plot each time a set of words occurs."
   ]
  },
  {
   "cell_type": "code",
   "execution_count": 25,
   "metadata": {},
   "outputs": [
    {
     "data": {
      "image/png": "[encoded data removed]",
      "text/plain": [
       "<matplotlib.figure.Figure at 0x250b00a9320>"
      ]
     },
     "metadata": {},
     "output_type": "display_data"
    }
   ],
   "source": [
    "sns.reset_orig() #Seaborn messes with this plot, disabling it\n",
    "whText.dispersion_plot(['Sen.','stem', 'cell', 'federal' ,'Lila', 'Barber', 'Whitehouse'])\n",
    "sns.set() #Re-enabling seaborn"
   ]
  },
  {
   "cell_type": "markdown",
   "metadata": {},
   "source": [
    "If we want to do an analysis of all the Whitehouse press releases we will first need to obtain them. By looking at the API we can see the the URL we want is [https://api.github.com/repos/lintool/GrimmerSenatePressReleases/contents/raw/Whitehouse](https://api.github.com/repos/lintool/GrimmerSenatePressReleases/contents/raw/Whitehouse), so we can create a function to scrape the individual files.\n",
    "\n",
    "If you want to know more about downloading from APIs, refer back to the 1st notebook."
   ]
  },
  {
   "cell_type": "code",
   "execution_count": 26,
   "metadata": {
    "scrolled": true
   },
   "outputs": [
    {
     "data": {
      "text/html": [
       "<div>\n",
       "<style scoped>\n",
       "    .dataframe tbody tr th:only-of-type {\n",
       "        vertical-align: middle;\n",
       "    }\n",
       "\n",
       "    .dataframe tbody tr th {\n",
       "        vertical-align: top;\n",
       "    }\n",
       "\n",
       "    .dataframe thead th {\n",
       "        text-align: right;\n",
       "    }\n",
       "</style>\n",
       "<table border=\"1\" class=\"dataframe\">\n",
       "  <thead>\n",
       "    <tr style=\"text-align: right;\">\n",
       "      <th></th>\n",
       "      <th>download_url</th>\n",
       "      <th>html_url</th>\n",
       "      <th>name</th>\n",
       "      <th>path</th>\n",
       "      <th>text</th>\n",
       "    </tr>\n",
       "  </thead>\n",
       "  <tbody>\n",
       "    <tr>\n",
       "      <th>0</th>\n",
       "      <td>https://raw.githubusercontent.com/lintool/Grim...</td>\n",
       "      <td>https://github.com/lintool/GrimmerSenatePressR...</td>\n",
       "      <td>10Apr2007Whitehouse123.txt</td>\n",
       "      <td>raw/Whitehouse/10Apr2007Whitehouse123.txt</td>\n",
       "      <td>SEN. WHITEHOUSE SHARES WESTERLY GIRL'S STORY I...</td>\n",
       "    </tr>\n",
       "    <tr>\n",
       "      <th>1</th>\n",
       "      <td>https://raw.githubusercontent.com/lintool/Grim...</td>\n",
       "      <td>https://github.com/lintool/GrimmerSenatePressR...</td>\n",
       "      <td>10Apr2008Whitehouse2.txt</td>\n",
       "      <td>raw/Whitehouse/10Apr2008Whitehouse2.txt</td>\n",
       "      <td>SEN. WHITEHOUSE SAYS PRESIDENT BUSH MUST BEGIN...</td>\n",
       "    </tr>\n",
       "    <tr>\n",
       "      <th>2</th>\n",
       "      <td>https://raw.githubusercontent.com/lintool/Grim...</td>\n",
       "      <td>https://github.com/lintool/GrimmerSenatePressR...</td>\n",
       "      <td>10Apr2008Whitehouse3.txt</td>\n",
       "      <td>raw/Whitehouse/10Apr2008Whitehouse3.txt</td>\n",
       "      <td>EPA MUST REVIEW LEGAL PROCESS TO ROOT OUT POLI...</td>\n",
       "    </tr>\n",
       "    <tr>\n",
       "      <th>3</th>\n",
       "      <td>https://raw.githubusercontent.com/lintool/Grim...</td>\n",
       "      <td>https://github.com/lintool/GrimmerSenatePressR...</td>\n",
       "      <td>10Aug2007Whitehouse78.txt</td>\n",
       "      <td>raw/Whitehouse/10Aug2007Whitehouse78.txt</td>\n",
       "      <td>R.I. SENATORS PRAISE SEN. DENIAL OF LNG FACILI...</td>\n",
       "    </tr>\n",
       "    <tr>\n",
       "      <th>4</th>\n",
       "      <td>https://raw.githubusercontent.com/lintool/Grim...</td>\n",
       "      <td>https://github.com/lintool/GrimmerSenatePressR...</td>\n",
       "      <td>10Jan2008Whitehouse35.txt</td>\n",
       "      <td>raw/Whitehouse/10Jan2008Whitehouse35.txt</td>\n",
       "      <td>SEN. WHITEHOUSE COMMENTS ON ONE-YEAR ANNIVERSA...</td>\n",
       "    </tr>\n",
       "  </tbody>\n",
       "</table>\n",
       "</div>"
      ],
      "text/plain": [
       "                                        download_url  \\\n",
       "0  https://raw.githubusercontent.com/lintool/Grim...   \n",
       "1  https://raw.githubusercontent.com/lintool/Grim...   \n",
       "2  https://raw.githubusercontent.com/lintool/Grim...   \n",
       "3  https://raw.githubusercontent.com/lintool/Grim...   \n",
       "4  https://raw.githubusercontent.com/lintool/Grim...   \n",
       "\n",
       "                                            html_url  \\\n",
       "0  https://github.com/lintool/GrimmerSenatePressR...   \n",
       "1  https://github.com/lintool/GrimmerSenatePressR...   \n",
       "2  https://github.com/lintool/GrimmerSenatePressR...   \n",
       "3  https://github.com/lintool/GrimmerSenatePressR...   \n",
       "4  https://github.com/lintool/GrimmerSenatePressR...   \n",
       "\n",
       "                         name                                       path  \\\n",
       "0  10Apr2007Whitehouse123.txt  raw/Whitehouse/10Apr2007Whitehouse123.txt   \n",
       "1    10Apr2008Whitehouse2.txt    raw/Whitehouse/10Apr2008Whitehouse2.txt   \n",
       "2    10Apr2008Whitehouse3.txt    raw/Whitehouse/10Apr2008Whitehouse3.txt   \n",
       "3   10Aug2007Whitehouse78.txt   raw/Whitehouse/10Aug2007Whitehouse78.txt   \n",
       "4   10Jan2008Whitehouse35.txt   raw/Whitehouse/10Jan2008Whitehouse35.txt   \n",
       "\n",
       "                                                text  \n",
       "0  SEN. WHITEHOUSE SHARES WESTERLY GIRL'S STORY I...  \n",
       "1  SEN. WHITEHOUSE SAYS PRESIDENT BUSH MUST BEGIN...  \n",
       "2  EPA MUST REVIEW LEGAL PROCESS TO ROOT OUT POLI...  \n",
       "3  R.I. SENATORS PRAISE SEN. DENIAL OF LNG FACILI...  \n",
       "4  SEN. WHITEHOUSE COMMENTS ON ONE-YEAR ANNIVERSA...  "
      ]
     },
     "execution_count": 26,
     "metadata": {},
     "output_type": "execute_result"
    }
   ],
   "source": [
    "def getGithubFiles(target, maxFiles = 100):\n",
    "    #We are setting a max so our examples don't take too long to run\n",
    "    #For converting to a DataFrame\n",
    "    releasesDict = {\n",
    "        'name' : [], #The name of the file\n",
    "        'text' : [], #The text of the file, watch out for binary files\n",
    "        'path' : [], #The path in the git repo to the file\n",
    "        'html_url' : [], #The url to see the file on Github\n",
    "        'download_url' : [], #The url to download the file\n",
    "    }\n",
    "\n",
    "    #Get the directory information from Github\n",
    "    r = requests.get(target)\n",
    "    filesLst = json.loads(r.text)\n",
    "\n",
    "    for fileDict in filesLst[:maxFiles]:\n",
    "        #These are provided by the directory\n",
    "        releasesDict['name'].append(fileDict['name'])\n",
    "        releasesDict['path'].append(fileDict['path'])\n",
    "        releasesDict['html_url'].append(fileDict['html_url'])\n",
    "        releasesDict['download_url'].append(fileDict['download_url'])\n",
    "\n",
    "        #We need to download the text though\n",
    "        text = requests.get(fileDict['download_url']).text\n",
    "        releasesDict['text'].append(text)\n",
    "\n",
    "    return pandas.DataFrame(releasesDict)\n",
    "\n",
    "whReleases = getGithubFiles('https://api.github.com/repos/lintool/GrimmerSenatePressReleases/contents/raw/Whitehouse', maxFiles = 10)\n",
    "whReleases[:5]"
   ]
  },
  {
   "cell_type": "markdown",
   "metadata": {},
   "source": [
    "If you are having trouble downloading the data uncomment this next cell"
   ]
  },
  {
   "cell_type": "code",
   "execution_count": null,
   "metadata": {
    "collapsed": true
   },
   "outputs": [],
   "source": [
    "#whReleases = pandas.read_csv('../data/whReleases.csv')"
   ]
  },
  {
   "cell_type": "markdown",
   "metadata": {},
   "source": [
    "Now we have all the texts in a DataFrame we can look at a few things.\n",
    "\n",
    "First let's tokenize the texts with the same tokenizer as we used before. We will just save the tokens as a list for now; no need to convert to `Text`s."
   ]
  },
  {
   "cell_type": "code",
   "execution_count": 27,
   "metadata": {
    "collapsed": true
   },
   "outputs": [],
   "source": [
    "whReleases['tokenized_text'] = whReleases['text'].apply(lambda x: nltk.word_tokenize(x))"
   ]
  },
  {
   "cell_type": "markdown",
   "metadata": {},
   "source": [
    "Now lets see how long each of the press releases is:"
   ]
  },
  {
   "cell_type": "code",
   "execution_count": 28,
   "metadata": {},
   "outputs": [
    {
     "data": {
      "text/plain": [
       "0    397\n",
       "1    344\n",
       "2    553\n",
       "3    216\n",
       "4    257\n",
       "5    380\n",
       "6    270\n",
       "7    521\n",
       "8    484\n",
       "9    482\n",
       "Name: word_counts, dtype: int64"
      ]
     },
     "execution_count": 28,
     "metadata": {},
     "output_type": "execute_result"
    }
   ],
   "source": [
    "whReleases['word_counts'] = whReleases['tokenized_text'].apply(lambda x: len(x))\n",
    "whReleases['word_counts']"
   ]
  },
  {
   "cell_type": "markdown",
   "metadata": {},
   "source": [
    "## <span style=\"color:red\">*Exercise 1*</span>\n",
    "\n",
    "<span style=\"color:red\">Construct cells immediately below this that input and interrogate a corpus relating to your anticipated final project. Turn your text into an nltk `Text` object, and explore all of the features examined above, and others that relate to better understanding your corpus in relation to your research question. </span>"
   ]
  },
  {
   "cell_type": "markdown",
   "metadata": {},
   "source": [
    "Exploration of Harry Potter"
   ]
  },
  {
   "cell_type": "code",
   "execution_count": 3,
   "metadata": {},
   "outputs": [
    {
     "name": "stdout",
     "output_type": "stream",
     "text": [
      "dict_keys(['id', 'name', 'full_name', 'owner', 'private', 'html_url', 'description', 'fork', 'url', 'forks_url', 'keys_url', 'collaborators_url', 'teams_url', 'hooks_url', 'issue_events_url', 'events_url', 'assignees_url', 'branches_url', 'tags_url', 'blobs_url', 'git_tags_url', 'git_refs_url', 'trees_url', 'statuses_url', 'languages_url', 'stargazers_url', 'contributors_url', 'subscribers_url', 'subscription_url', 'commits_url', 'git_commits_url', 'comments_url', 'issue_comment_url', 'contents_url', 'compare_url', 'merges_url', 'archive_url', 'downloads_url', 'issues_url', 'pulls_url', 'milestones_url', 'notifications_url', 'labels_url', 'releases_url', 'deployments_url', 'created_at', 'updated_at', 'pushed_at', 'git_url', 'ssh_url', 'clone_url', 'svn_url', 'homepage', 'size', 'stargazers_count', 'watchers_count', 'language', 'has_issues', 'has_projects', 'has_downloads', 'has_wiki', 'has_pages', 'forks_count', 'mirror_url', 'archived', 'open_issues_count', 'license', 'forks', 'open_issues', 'watchers', 'default_branch', 'network_count', 'subscribers_count'])\n",
      "None\n"
     ]
    }
   ],
   "source": [
    "r = requests.get('https://api.github.com/repos/iminoso/ENGL-108P')\n",
    "bookData = json.loads(r.text)\n",
    "print(bookData.keys())\n",
    "print(bookData['description'])\n"
   ]
  },
  {
   "cell_type": "code",
   "execution_count": 4,
   "metadata": {},
   "outputs": [
    {
     "name": "stdout",
     "output_type": "stream",
     "text": [
      "https://api.github.com/repos/iminoso/ENGL-108P/contents/{+path}\n"
     ]
    }
   ],
   "source": [
    "print(bookData['contents_url'])"
   ]
  },
  {
   "cell_type": "code",
   "execution_count": 5,
   "metadata": {
    "scrolled": true
   },
   "outputs": [
    {
     "data": {
      "text/plain": [
       "{'_links': {'git': 'https://api.github.com/repos/iminoso/ENGL-108P/git/blobs/dc175d9094324f3fe7f6ff796aec107d9e9c0ad7',\n",
       "  'html': 'https://github.com/iminoso/ENGL-108P/blob/master/dataset/book_1.txt',\n",
       "  'self': 'https://api.github.com/repos/iminoso/ENGL-108P/contents/dataset/book_1.txt?ref=master'},\n",
       " 'download_url': 'https://raw.githubusercontent.com/iminoso/ENGL-108P/master/dataset/book_1.txt',\n",
       " 'git_url': 'https://api.github.com/repos/iminoso/ENGL-108P/git/blobs/dc175d9094324f3fe7f6ff796aec107d9e9c0ad7',\n",
       " 'html_url': 'https://github.com/iminoso/ENGL-108P/blob/master/dataset/book_1.txt',\n",
       " 'name': 'book_1.txt',\n",
       " 'path': 'dataset/book_1.txt',\n",
       " 'sha': 'dc175d9094324f3fe7f6ff796aec107d9e9c0ad7',\n",
       " 'size': 460449,\n",
       " 'type': 'file',\n",
       " 'url': 'https://api.github.com/repos/iminoso/ENGL-108P/contents/dataset/book_1.txt?ref=master'}"
      ]
     },
     "execution_count": 5,
     "metadata": {},
     "output_type": "execute_result"
    }
   ],
   "source": [
    "r = requests.get('https://api.github.com/repos/iminoso/ENGL-108P/contents/dataset')\n",
    "bookLinks = json.loads(r.text)\n",
    "bookLinks[0]"
   ]
  },
  {
   "cell_type": "code",
   "execution_count": 6,
   "metadata": {
    "scrolled": true
   },
   "outputs": [
    {
     "name": "stdout",
     "output_type": "stream",
     "text": [
      "Harry Potter and the Sorcerer’s Stone\n",
      "\n",
      "\n",
      "\n",
      "by\n",
      "\n",
      "J. K. Rowling\n",
      "\n",
      "Illustrations By Mary Grandpré\n",
      "\n",
      "\n",
      "\n",
      "Arthur A. Levine Books\n",
      "\n",
      "An Imprint Of Scholastic Press.\n",
      "\n",
      "\n",
      "\n",
      "For Jessica, who loves stories\n",
      "\n",
      "for Anne, who loved them too;\n",
      "\n",
      "and for Di, who heard this one first.\n",
      "\n",
      "\n",
      "\n",
      "Text copyright © 1997 by J.K. Rowling\n",
      "\n",
      "Illustrations by Mary GrandPré copyright © 1998 Warner Bros.\n",
      "\n",
      "All rights reserved. Published by Scholastic Press, a division of Scholastic Inc.,\n",
      "\n",
      "Publishers since 1920\n",
      "\n",
      "SCHOLASTIC, SCHOLASTIC PRESS, and the LANTERN LOGO\n",
      "\n",
      "are trademarks and/or registered trademarks of Scholastic Inc.\n",
      "\n",
      "\n",
      "\n",
      "HARRY POTTER and all related characters and elements are trademarks of Warner Bros.\n",
      "\n",
      "\n",
      "\n",
      "No part of this publication may be reproduced, or stored in a retrieval system, or transmitted in any form or by any means, electronic, mechanical, photocopying, recording, or otherwise, without written permission of the publisher. For information regarding permissions, write to Scholastic Inc., Attention: Permissions Department\n"
     ]
    },
    {
     "data": {
      "text/plain": [
       "441472"
      ]
     },
     "execution_count": 6,
     "metadata": {},
     "output_type": "execute_result"
    }
   ],
   "source": [
    "r = requests.get(bookLinks[0]['download_url'])\n",
    "stoneBook = r.text\n",
    "print(stoneBook[:1000])\n",
    "len(stoneBook)"
   ]
  },
  {
   "cell_type": "code",
   "execution_count": 7,
   "metadata": {
    "scrolled": true
   },
   "outputs": [
    {
     "data": {
      "text/plain": [
       "['Inc.',\n",
       " 'HARRY',\n",
       " 'POTTER',\n",
       " 'and',\n",
       " 'all',\n",
       " 'related',\n",
       " 'characters',\n",
       " 'and',\n",
       " 'elements',\n",
       " 'are',\n",
       " 'trademarks',\n",
       " 'of',\n",
       " 'Warner',\n",
       " 'Bros.',\n",
       " 'No',\n",
       " 'part',\n",
       " 'of',\n",
       " 'this',\n",
       " 'publication',\n",
       " 'may',\n",
       " 'be',\n",
       " 'reproduced',\n",
       " ',',\n",
       " 'or',\n",
       " 'stored',\n",
       " 'in',\n",
       " 'a',\n",
       " 'retrieval',\n",
       " 'system',\n",
       " ',',\n",
       " 'or',\n",
       " 'transmitted',\n",
       " 'in',\n",
       " 'any',\n",
       " 'form',\n",
       " 'or',\n",
       " 'by',\n",
       " 'any',\n",
       " 'means',\n",
       " ',',\n",
       " 'electronic',\n",
       " ',',\n",
       " 'mechanical',\n",
       " ',',\n",
       " 'photocopying',\n",
       " ',',\n",
       " 'recording',\n",
       " ',',\n",
       " 'or',\n",
       " 'otherwise',\n",
       " ',',\n",
       " 'without',\n",
       " 'written',\n",
       " 'permission',\n",
       " 'of',\n",
       " 'the',\n",
       " 'publisher',\n",
       " '.',\n",
       " 'For',\n",
       " 'information',\n",
       " 'regarding',\n",
       " 'permissions',\n",
       " ',',\n",
       " 'write',\n",
       " 'to',\n",
       " 'Scholastic',\n",
       " 'Inc.',\n",
       " ',',\n",
       " 'Attention',\n",
       " ':',\n",
       " 'Permissions',\n",
       " 'Department',\n",
       " ',',\n",
       " '555',\n",
       " 'Broadway',\n",
       " ',',\n",
       " 'New',\n",
       " 'York',\n",
       " ',',\n",
       " 'NY',\n",
       " '10012',\n",
       " '.',\n",
       " 'Library',\n",
       " 'of',\n",
       " 'Congress',\n",
       " 'Cataloging-in-Publication',\n",
       " 'Data',\n",
       " 'Rowling',\n",
       " ',',\n",
       " 'J.K.',\n",
       " 'Harry',\n",
       " 'Potter',\n",
       " 'and',\n",
       " 'the',\n",
       " 'Sorcerer',\n",
       " \"'s\",\n",
       " 'Stone',\n",
       " '/',\n",
       " 'by',\n",
       " 'J.K.']"
      ]
     },
     "execution_count": 7,
     "metadata": {},
     "output_type": "execute_result"
    }
   ],
   "source": [
    "stTokens = nltk.word_tokenize(stoneBook)\n",
    "stTokens[100:200]"
   ]
  },
  {
   "cell_type": "code",
   "execution_count": 8,
   "metadata": {
    "scrolled": true
   },
   "outputs": [
    {
     "name": "stdout",
     "output_type": "stream",
     "text": [
      "Displaying 25 of 265 matches:\n",
      "t hope it will be enough — I ’ m Hermione Granger , by the way , who are y\n",
      "arry . “ Are you really ? ” said Hermione . “ I know all about you , of co\n",
      "ng I could if it was me , ” said Hermione . “ Do either of you know what H\n",
      " t Neville the toadless boy , or Hermione Granger this time . Three boys e\n",
      "teps , because a sec­ond later , Hermione Granger had come in . “ What has\n",
      "to the Dark Side. ” He turned to Hermione . “ Can we help you with some­th\n",
      " and down the corridors , ” said Hermione in a sniffy voice . “ And you ’ \n",
      "d into their boat by Neville and Hermione . “ Everyone in ? ” shouted Hagr\n",
      ". No one was talking much except Hermione Granger , who was whispering ver\n",
      "ing dotted with stars . He heard Hermione whisper , “ It ’ s bewitched to \n",
      "d him a Gryffindor . “ Granger , Hermione ! ” Hermione almost ran to the s\n",
      "indor . “ Granger , Hermione ! ” Hermione almost ran to the stool and jamm\n",
      "s other side , Percy Weasley and Hermione were talk­ing about lessons ( “ \n",
      " By the end of the lesson , only Hermione Granger had made any difference \n",
      "e all silver and pointy and gave Hermione a rare smile . The class everyon\n",
      "ged looks with raised eyebrows . Hermione Granger was on the edge of her s\n",
      "ho looked as stumped as he was ; Hermione ’ s hand had shot into the air .\n",
      "isn ’ t everything. ” He ignored Hermione ’ s hand . “ Let ’ s try again .\n",
      "told you to find me a bezoar ? ” Hermione stretched her hand as high into \n",
      "Fungi ? Snape was still ignoring Hermione ’ s quivering hand . “ What is t\n",
      "ood and wolfs­bane ? ” At this , Hermione stood up , her hand stretching t\n",
      "” said Harry quietly . “ I think Hermione does , though , why don ’ t you \n",
      "d . “ Sit down , ” he snapped at Hermione . “ For your information , Potte\n",
      "n with both feet on the ground . Hermione Granger was almost as nervous ab\n",
      "ybody else was very pleased when Hermione ’ s lecture was interrupted by t\n"
     ]
    }
   ],
   "source": [
    "stText = nltk.Text(stTokens)\n",
    "\n",
    "stoneIndex = nltk.text.ConcordanceIndex(stText) \n",
    "stoneIndex.print_concordance('Hermione')"
   ]
  },
  {
   "cell_type": "code",
   "execution_count": 9,
   "metadata": {},
   "outputs": [
    {
     "name": "stdout",
     "output_type": "stream",
     "text": [
      "Uncle Vernon; Professor McGonagall; Aunt Petunia; said Ron; said\n",
      "Harry; said Hagrid; Mr. Dursley; Privet Drive; common room; Great\n",
      "Hall; Invisibility Cloak; Nimbus Two; Mrs. Dursley; Madam Pomfrey;\n",
      "Leaky Cauldron; Two Thousand; Madam Hooch; Mr. Ollivander; first\n",
      "years; Hermione Granger\n"
     ]
    }
   ],
   "source": [
    "stText.collocations()"
   ]
  },
  {
   "cell_type": "code",
   "execution_count": 10,
   "metadata": {
    "scrolled": true
   },
   "outputs": [
    {
     "name": "stdout",
     "output_type": "stream",
     "text": [
      "professor_. watched_for but_didn ,_, “_’ professor_disliked ._didn ._,\n",
      "._finished ,_had said_suddenly ._’ did_expect ?_was ,_said ._put\n",
      "snarled_, ”_spat heard_can did_hate\n"
     ]
    }
   ],
   "source": [
    "stText.common_contexts(['Snape'])"
   ]
  },
  {
   "cell_type": "code",
   "execution_count": 11,
   "metadata": {},
   "outputs": [
    {
     "data": {
      "text/plain": [
       "1321"
      ]
     },
     "execution_count": 11,
     "metadata": {},
     "output_type": "execute_result"
    }
   ],
   "source": [
    "stText.count('Harry')"
   ]
  },
  {
   "cell_type": "code",
   "execution_count": 12,
   "metadata": {
    "scrolled": false
   },
   "outputs": [
    {
     "data": {
      "image/png": "[encoded data removed]",
      "text/plain": [
       "<matplotlib.figure.Figure at 0x20771c34da0>"
      ]
     },
     "metadata": {},
     "output_type": "display_data"
    }
   ],
   "source": [
    "sns.reset_orig() #Seaborn messes with this plot, disabling it\n",
    "stText.dispersion_plot(['Harry', 'Ron', 'Hermione', 'Snape', 'Hagrid', 'Dumbledore', 'Voldemort', 'Malfoy'])\n",
    "sns.set() #Re-enabling seaborn"
   ]
  },
  {
   "cell_type": "code",
   "execution_count": 14,
   "metadata": {
    "collapsed": true
   },
   "outputs": [],
   "source": [
    "def getGithubFiles(target, maxFiles = 100):\n",
    "    #We are setting a max so our examples don't take too long to run\n",
    "    #For converting to a DataFrame\n",
    "    releasesDict = {\n",
    "        'name' : [], #The name of the file\n",
    "        'text' : [], #The text of the file, watch out for binary files\n",
    "        'path' : [], #The path in the git repo to the file\n",
    "        'html_url' : [], #The url to see the file on Github\n",
    "        'download_url' : [], #The url to download the file\n",
    "    }\n",
    "\n",
    "    #Get the directory information from Github\n",
    "    r = requests.get(target)\n",
    "    filesLst = json.loads(r.text)\n",
    "\n",
    "    for fileDict in filesLst[:maxFiles]:\n",
    "        #These are provided by the directory\n",
    "        releasesDict['name'].append(fileDict['name'])\n",
    "        releasesDict['path'].append(fileDict['path'])\n",
    "        releasesDict['html_url'].append(fileDict['html_url'])\n",
    "        releasesDict['download_url'].append(fileDict['download_url'])\n",
    "\n",
    "        #We need to download the text though\n",
    "        text = requests.get(fileDict['download_url']).text\n",
    "        releasesDict['text'].append(text)\n",
    "\n",
    "    return pandas.DataFrame(releasesDict)"
   ]
  },
  {
   "cell_type": "code",
   "execution_count": 15,
   "metadata": {},
   "outputs": [
    {
     "data": {
      "text/html": [
       "<div>\n",
       "<style scoped>\n",
       "    .dataframe tbody tr th:only-of-type {\n",
       "        vertical-align: middle;\n",
       "    }\n",
       "\n",
       "    .dataframe tbody tr th {\n",
       "        vertical-align: top;\n",
       "    }\n",
       "\n",
       "    .dataframe thead th {\n",
       "        text-align: right;\n",
       "    }\n",
       "</style>\n",
       "<table border=\"1\" class=\"dataframe\">\n",
       "  <thead>\n",
       "    <tr style=\"text-align: right;\">\n",
       "      <th></th>\n",
       "      <th>download_url</th>\n",
       "      <th>html_url</th>\n",
       "      <th>name</th>\n",
       "      <th>path</th>\n",
       "      <th>text</th>\n",
       "    </tr>\n",
       "  </thead>\n",
       "  <tbody>\n",
       "    <tr>\n",
       "      <th>0</th>\n",
       "      <td>https://raw.githubusercontent.com/iminoso/ENGL...</td>\n",
       "      <td>https://github.com/iminoso/ENGL-108P/blob/mast...</td>\n",
       "      <td>book_1.txt</td>\n",
       "      <td>dataset/book_1.txt</td>\n",
       "      <td>Harry Potter and the Sorcerer’s Stone\\n\\n\\n\\nb...</td>\n",
       "    </tr>\n",
       "    <tr>\n",
       "      <th>1</th>\n",
       "      <td>https://raw.githubusercontent.com/iminoso/ENGL...</td>\n",
       "      <td>https://github.com/iminoso/ENGL-108P/blob/mast...</td>\n",
       "      <td>book_2.txt</td>\n",
       "      <td>dataset/book_2.txt</td>\n",
       "      <td>Harry Potter and the Chamber of Secrets\\n\\nby\\...</td>\n",
       "    </tr>\n",
       "    <tr>\n",
       "      <th>2</th>\n",
       "      <td>https://raw.githubusercontent.com/iminoso/ENGL...</td>\n",
       "      <td>https://github.com/iminoso/ENGL-108P/blob/mast...</td>\n",
       "      <td>book_3.txt</td>\n",
       "      <td>dataset/book_3.txt</td>\n",
       "      <td>Harry Potter and the Prisoner of Azkaban\\n\\nby...</td>\n",
       "    </tr>\n",
       "    <tr>\n",
       "      <th>3</th>\n",
       "      <td>https://raw.githubusercontent.com/iminoso/ENGL...</td>\n",
       "      <td>https://github.com/iminoso/ENGL-108P/blob/mast...</td>\n",
       "      <td>book_4.txt</td>\n",
       "      <td>dataset/book_4.txt</td>\n",
       "      <td>Harry Potter and the Goblet Of Fire\\n\\nby\\n\\nJ...</td>\n",
       "    </tr>\n",
       "    <tr>\n",
       "      <th>4</th>\n",
       "      <td>https://raw.githubusercontent.com/iminoso/ENGL...</td>\n",
       "      <td>https://github.com/iminoso/ENGL-108P/blob/mast...</td>\n",
       "      <td>book_5.txt</td>\n",
       "      <td>dataset/book_5.txt</td>\n",
       "      <td>Harry Potter and the Order of the Phoenix\\n\\nb...</td>\n",
       "    </tr>\n",
       "    <tr>\n",
       "      <th>5</th>\n",
       "      <td>https://raw.githubusercontent.com/iminoso/ENGL...</td>\n",
       "      <td>https://github.com/iminoso/ENGL-108P/blob/mast...</td>\n",
       "      <td>book_6.txt</td>\n",
       "      <td>dataset/book_6.txt</td>\n",
       "      <td>Harry Potter and the Half-Blood Prince\\n\\nby\\n...</td>\n",
       "    </tr>\n",
       "    <tr>\n",
       "      <th>6</th>\n",
       "      <td>https://raw.githubusercontent.com/iminoso/ENGL...</td>\n",
       "      <td>https://github.com/iminoso/ENGL-108P/blob/mast...</td>\n",
       "      <td>book_7.txt</td>\n",
       "      <td>dataset/book_7.txt</td>\n",
       "      <td>Harry Potter and the Deathly Hallows\\n\\nby\\n\\n...</td>\n",
       "    </tr>\n",
       "  </tbody>\n",
       "</table>\n",
       "</div>"
      ],
      "text/plain": [
       "                                        download_url  \\\n",
       "0  https://raw.githubusercontent.com/iminoso/ENGL...   \n",
       "1  https://raw.githubusercontent.com/iminoso/ENGL...   \n",
       "2  https://raw.githubusercontent.com/iminoso/ENGL...   \n",
       "3  https://raw.githubusercontent.com/iminoso/ENGL...   \n",
       "4  https://raw.githubusercontent.com/iminoso/ENGL...   \n",
       "5  https://raw.githubusercontent.com/iminoso/ENGL...   \n",
       "6  https://raw.githubusercontent.com/iminoso/ENGL...   \n",
       "\n",
       "                                            html_url        name  \\\n",
       "0  https://github.com/iminoso/ENGL-108P/blob/mast...  book_1.txt   \n",
       "1  https://github.com/iminoso/ENGL-108P/blob/mast...  book_2.txt   \n",
       "2  https://github.com/iminoso/ENGL-108P/blob/mast...  book_3.txt   \n",
       "3  https://github.com/iminoso/ENGL-108P/blob/mast...  book_4.txt   \n",
       "4  https://github.com/iminoso/ENGL-108P/blob/mast...  book_5.txt   \n",
       "5  https://github.com/iminoso/ENGL-108P/blob/mast...  book_6.txt   \n",
       "6  https://github.com/iminoso/ENGL-108P/blob/mast...  book_7.txt   \n",
       "\n",
       "                 path                                               text  \n",
       "0  dataset/book_1.txt  Harry Potter and the Sorcerer’s Stone\\n\\n\\n\\nb...  \n",
       "1  dataset/book_2.txt  Harry Potter and the Chamber of Secrets\\n\\nby\\...  \n",
       "2  dataset/book_3.txt  Harry Potter and the Prisoner of Azkaban\\n\\nby...  \n",
       "3  dataset/book_4.txt  Harry Potter and the Goblet Of Fire\\n\\nby\\n\\nJ...  \n",
       "4  dataset/book_5.txt  Harry Potter and the Order of the Phoenix\\n\\nb...  \n",
       "5  dataset/book_6.txt  Harry Potter and the Half-Blood Prince\\n\\nby\\n...  \n",
       "6  dataset/book_7.txt  Harry Potter and the Deathly Hallows\\n\\nby\\n\\n...  "
      ]
     },
     "execution_count": 15,
     "metadata": {},
     "output_type": "execute_result"
    }
   ],
   "source": [
    "hpBook = getGithubFiles('https://api.github.com/repos/iminoso/ENGL-108P/contents/dataset', maxFiles = 10)\n",
    "hpBook[:7]"
   ]
  },
  {
   "cell_type": "code",
   "execution_count": 16,
   "metadata": {
    "collapsed": true
   },
   "outputs": [],
   "source": [
    "hpBook['tokenized_text'] = hpBook['text'].apply(lambda x: nltk.word_tokenize(x))"
   ]
  },
  {
   "cell_type": "markdown",
   "metadata": {},
   "source": [
    "# Filtering and normalizing text\n",
    "\n",
    "As we want to start comparing the different releases we may choose to do a bit of filtering and normalizing that will allow us to focus on what we most care about. We can first make all of the words lower case, then drop the non-word tokens. Next, we can remove some 'stop words', stem the remaining words to remove suffixes, prefixes and (in some languages) infixes, or lemmatize tokens by intelligently grouping inflected or variant forms of the same word (e.g., with a stemmer and a dictionary). \n",
    "\n",
    "To begin this process, we will first define a function to work over the tokenized lists, then another to add normalized tokens to a new column."
   ]
  },
  {
   "cell_type": "markdown",
   "metadata": {},
   "source": [
    "Nltk has a built-in list of stopwords. They are already imported in the import section. Let's first take a look at what they are."
   ]
  },
  {
   "cell_type": "code",
   "execution_count": 86,
   "metadata": {
    "scrolled": false
   },
   "outputs": [
    {
     "name": "stdout",
     "output_type": "stream",
     "text": [
      "i, me, my, myself, we, our, ours, ourselves, you, you're, you've, you'll, you'd, your, yours, yourself, yourselves, he, him, his, himself, she, she's, her, hers, herself, it, it's, its, itself, they, them, their, theirs, themselves, what, which, who, whom, this, that, that'll, these, those, am, is, are, was, were, be, been, being, have, has, had, having, do, does, did, doing, a, an, the, and, but, if, or, because, as, until, while, of, at, by, for, with, about, against, between, into, through, during, before, after, above, below, to, from, up, down, in, out, on, off, over, under, again, further, then, once, here, there, when, where, why, how, all, any, both, each, few, more, most, other, some, such, no, nor, not, only, own, same, so, than, too, very, s, t, can, will, just, don, don't, should, should've, now, d, ll, m, o, re, ve, y, ain, aren, aren't, couldn, couldn't, didn, didn't, doesn, doesn't, hadn, hadn't, hasn, hasn't, haven, haven't, isn, isn't, ma, mightn, mightn't, mustn, mustn't, needn, needn't, shan, shan't, shouldn, shouldn't, wasn, wasn't, weren, weren't, won, won't, wouldn, wouldn't\n"
     ]
    }
   ],
   "source": [
    "print(', '.join(stopwords.words('english')))"
   ]
  },
  {
   "cell_type": "markdown",
   "metadata": {},
   "source": [
    "We can remove these stopwords from the analysis by fiat, but we could also take a more principled approach by looking at the frequency distribution of words and selecting a specific cut-off associated with the preservation of 'meaningful words' identified upon inspection. Alternatively, we could automatically set a cut-off by rule, such as removal of all words more frequent then the most frequent verb, or the most frequent noun (not pronoun), or some term of central interest. "
   ]
  },
  {
   "cell_type": "markdown",
   "metadata": {},
   "source": [
    "Lets generate our own stop list now."
   ]
  },
  {
   "cell_type": "code",
   "execution_count": 87,
   "metadata": {},
   "outputs": [
    {
     "data": {
      "text/plain": [
       "[('the', 179),\n",
       " (',', 173),\n",
       " ('.', 136),\n",
       " ('of', 112),\n",
       " ('to', 112),\n",
       " ('and', 108),\n",
       " ('in', 64),\n",
       " ('a', 61),\n",
       " (\"'s\", 50),\n",
       " ('that', 41),\n",
       " ('our', 39),\n",
       " ('for', 35),\n",
       " ('on', 33),\n",
       " ('is', 33),\n",
       " ('Whitehouse', 31),\n",
       " ('``', 30),\n",
       " ('Iraq', 28),\n",
       " ('Bush', 27),\n",
       " ('President', 25),\n",
       " ('(', 24)]"
      ]
     },
     "execution_count": 87,
     "metadata": {},
     "output_type": "execute_result"
    }
   ],
   "source": [
    "countsDict = {}\n",
    "for word in whReleases['tokenized_text'].sum():\n",
    "    if word in countsDict:\n",
    "        countsDict[word] += 1\n",
    "    else:\n",
    "        countsDict[word] = 1\n",
    "word_counts = sorted(countsDict.items(), key = lambda x : x[1], reverse = True)\n",
    "word_counts[:20]"
   ]
  },
  {
   "cell_type": "markdown",
   "metadata": {},
   "source": [
    "We can look at this and pick the cutoff, usually it is at the first noun. So we will cut all words before `'Whitehouse'`."
   ]
  },
  {
   "cell_type": "code",
   "execution_count": 88,
   "metadata": {},
   "outputs": [
    {
     "data": {
      "text/plain": [
       "'are'"
      ]
     },
     "execution_count": 88,
     "metadata": {},
     "output_type": "execute_result"
    }
   ],
   "source": [
    "#The stop list is then all words that occur before the first noun\n",
    "stop_words_freq = []\n",
    "for word, count in word_counts:\n",
    "    if word == 'Whitehouse':\n",
    "        break\n",
    "    else:\n",
    "        stop_words_freq.append(word)\n",
    "stop_words_freq\n",
    "wordnet = nltk.stem.WordNetLemmatizer()\n",
    "wordnet.lemmatize('are')"
   ]
  },
  {
   "cell_type": "markdown",
   "metadata": {},
   "source": [
    "Now we can create our function to normalize the tokens"
   ]
  },
  {
   "cell_type": "code",
   "execution_count": 90,
   "metadata": {
    "scrolled": true
   },
   "outputs": [
    {
     "data": {
      "text/html": [
       "<div>\n",
       "<style scoped>\n",
       "    .dataframe tbody tr th:only-of-type {\n",
       "        vertical-align: middle;\n",
       "    }\n",
       "\n",
       "    .dataframe tbody tr th {\n",
       "        vertical-align: top;\n",
       "    }\n",
       "\n",
       "    .dataframe thead th {\n",
       "        text-align: right;\n",
       "    }\n",
       "</style>\n",
       "<table border=\"1\" class=\"dataframe\">\n",
       "  <thead>\n",
       "    <tr style=\"text-align: right;\">\n",
       "      <th></th>\n",
       "      <th>download_url</th>\n",
       "      <th>html_url</th>\n",
       "      <th>name</th>\n",
       "      <th>path</th>\n",
       "      <th>text</th>\n",
       "      <th>tokenized_text</th>\n",
       "      <th>word_counts</th>\n",
       "      <th>normalized_tokens</th>\n",
       "      <th>normalized_tokens_count</th>\n",
       "    </tr>\n",
       "  </thead>\n",
       "  <tbody>\n",
       "    <tr>\n",
       "      <th>0</th>\n",
       "      <td>https://raw.githubusercontent.com/lintool/Grim...</td>\n",
       "      <td>https://github.com/lintool/GrimmerSenatePressR...</td>\n",
       "      <td>10Apr2007Whitehouse123.txt</td>\n",
       "      <td>raw/Whitehouse/10Apr2007Whitehouse123.txt</td>\n",
       "      <td>SEN. WHITEHOUSE SHARES WESTERLY GIRL'S STORY I...</td>\n",
       "      <td>[SEN., WHITEHOUSE, SHARES, WESTERLY, GIRL, 'S,...</td>\n",
       "      <td>397</td>\n",
       "      <td>[whitehous, share, westerli, girl, stori, push...</td>\n",
       "      <td>231</td>\n",
       "    </tr>\n",
       "    <tr>\n",
       "      <th>1</th>\n",
       "      <td>https://raw.githubusercontent.com/lintool/Grim...</td>\n",
       "      <td>https://github.com/lintool/GrimmerSenatePressR...</td>\n",
       "      <td>10Apr2008Whitehouse2.txt</td>\n",
       "      <td>raw/Whitehouse/10Apr2008Whitehouse2.txt</td>\n",
       "      <td>SEN. WHITEHOUSE SAYS PRESIDENT BUSH MUST BEGIN...</td>\n",
       "      <td>[SEN., WHITEHOUSE, SAYS, PRESIDENT, BUSH, MUST...</td>\n",
       "      <td>344</td>\n",
       "      <td>[whitehous, say, presid, bush, must, begin, br...</td>\n",
       "      <td>171</td>\n",
       "    </tr>\n",
       "    <tr>\n",
       "      <th>2</th>\n",
       "      <td>https://raw.githubusercontent.com/lintool/Grim...</td>\n",
       "      <td>https://github.com/lintool/GrimmerSenatePressR...</td>\n",
       "      <td>10Apr2008Whitehouse3.txt</td>\n",
       "      <td>raw/Whitehouse/10Apr2008Whitehouse3.txt</td>\n",
       "      <td>EPA MUST REVIEW LEGAL PROCESS TO ROOT OUT POLI...</td>\n",
       "      <td>[EPA, MUST, REVIEW, LEGAL, PROCESS, TO, ROOT, ...</td>\n",
       "      <td>553</td>\n",
       "      <td>[epa, must, review, legal, process, root, poli...</td>\n",
       "      <td>305</td>\n",
       "    </tr>\n",
       "    <tr>\n",
       "      <th>3</th>\n",
       "      <td>https://raw.githubusercontent.com/lintool/Grim...</td>\n",
       "      <td>https://github.com/lintool/GrimmerSenatePressR...</td>\n",
       "      <td>10Aug2007Whitehouse78.txt</td>\n",
       "      <td>raw/Whitehouse/10Aug2007Whitehouse78.txt</td>\n",
       "      <td>R.I. SENATORS PRAISE SEN. DENIAL OF LNG FACILI...</td>\n",
       "      <td>[R.I, ., SENATORS, PRAISE, SEN, ., DENIAL, OF,...</td>\n",
       "      <td>216</td>\n",
       "      <td>[senat, prais, sen, denial, lng, facil, permit...</td>\n",
       "      <td>115</td>\n",
       "    </tr>\n",
       "    <tr>\n",
       "      <th>4</th>\n",
       "      <td>https://raw.githubusercontent.com/lintool/Grim...</td>\n",
       "      <td>https://github.com/lintool/GrimmerSenatePressR...</td>\n",
       "      <td>10Jan2008Whitehouse35.txt</td>\n",
       "      <td>raw/Whitehouse/10Jan2008Whitehouse35.txt</td>\n",
       "      <td>SEN. WHITEHOUSE COMMENTS ON ONE-YEAR ANNIVERSA...</td>\n",
       "      <td>[SEN., WHITEHOUSE, COMMENTS, ON, ONE-YEAR, ANN...</td>\n",
       "      <td>257</td>\n",
       "      <td>[whitehous, comment, anniversari, presid, bush...</td>\n",
       "      <td>132</td>\n",
       "    </tr>\n",
       "    <tr>\n",
       "      <th>5</th>\n",
       "      <td>https://raw.githubusercontent.com/lintool/Grim...</td>\n",
       "      <td>https://github.com/lintool/GrimmerSenatePressR...</td>\n",
       "      <td>10Mar2008Whitehouse8.txt</td>\n",
       "      <td>raw/Whitehouse/10Mar2008Whitehouse8.txt</td>\n",
       "      <td>SENS. REED, WHITEHOUSE WELCOME RHODE ISLAND ST...</td>\n",
       "      <td>[SENS, ., REED, ,, WHITEHOUSE, WELCOME, RHODE,...</td>\n",
       "      <td>380</td>\n",
       "      <td>[sen, reed, whitehous, welcom, rhode, island, ...</td>\n",
       "      <td>195</td>\n",
       "    </tr>\n",
       "    <tr>\n",
       "      <th>6</th>\n",
       "      <td>https://raw.githubusercontent.com/lintool/Grim...</td>\n",
       "      <td>https://github.com/lintool/GrimmerSenatePressR...</td>\n",
       "      <td>10Sep2007Whitehouse72.txt</td>\n",
       "      <td>raw/Whitehouse/10Sep2007Whitehouse72.txt</td>\n",
       "      <td>REP. WHITEHOUSE ISSUES STATEMENT ON GEN. PETRA...</td>\n",
       "      <td>[REP., WHITEHOUSE, ISSUES, STATEMENT, ON, GEN....</td>\n",
       "      <td>270</td>\n",
       "      <td>[whitehous, issu, statement, petraeu, iraq, re...</td>\n",
       "      <td>118</td>\n",
       "    </tr>\n",
       "    <tr>\n",
       "      <th>7</th>\n",
       "      <td>https://raw.githubusercontent.com/lintool/Grim...</td>\n",
       "      <td>https://github.com/lintool/GrimmerSenatePressR...</td>\n",
       "      <td>11Apr2007Whitehouse122.txt</td>\n",
       "      <td>raw/Whitehouse/11Apr2007Whitehouse122.txt</td>\n",
       "      <td>SEN. WHITEHOUSE URGES BUSH FOR NEW DIRECTION I...</td>\n",
       "      <td>[SEN., WHITEHOUSE, URGES, BUSH, FOR, NEW, DIRE...</td>\n",
       "      <td>521</td>\n",
       "      <td>[whitehous, urg, bush, new, direct, iraq, shel...</td>\n",
       "      <td>257</td>\n",
       "    </tr>\n",
       "    <tr>\n",
       "      <th>8</th>\n",
       "      <td>https://raw.githubusercontent.com/lintool/Grim...</td>\n",
       "      <td>https://github.com/lintool/GrimmerSenatePressR...</td>\n",
       "      <td>11Jan2007Whitehouse161.txt</td>\n",
       "      <td>raw/Whitehouse/11Jan2007Whitehouse161.txt</td>\n",
       "      <td>SENS. REED, WHITEHOUSE URGE PORTUGAL TO RECONS...</td>\n",
       "      <td>[SENS, ., REED, ,, WHITEHOUSE, URGE, PORTUGAL,...</td>\n",
       "      <td>484</td>\n",
       "      <td>[sen, reed, whitehous, urg, portug, reconsid, ...</td>\n",
       "      <td>254</td>\n",
       "    </tr>\n",
       "    <tr>\n",
       "      <th>9</th>\n",
       "      <td>https://raw.githubusercontent.com/lintool/Grim...</td>\n",
       "      <td>https://github.com/lintool/GrimmerSenatePressR...</td>\n",
       "      <td>11Mar2008Whitehouse7.txt</td>\n",
       "      <td>raw/Whitehouse/11Mar2008Whitehouse7.txt</td>\n",
       "      <td>WHITEHOUSE UNVEILS 'BUSH DEBT': $7.7 TRILLION ...</td>\n",
       "      <td>[WHITEHOUSE, UNVEILS, 'BUSH, DEBT, ', :, $, 7....</td>\n",
       "      <td>482</td>\n",
       "      <td>[whitehous, unveil, debt, trillion, foregon, s...</td>\n",
       "      <td>260</td>\n",
       "    </tr>\n",
       "  </tbody>\n",
       "</table>\n",
       "</div>"
      ],
      "text/plain": [
       "                                        download_url  \\\n",
       "0  https://raw.githubusercontent.com/lintool/Grim...   \n",
       "1  https://raw.githubusercontent.com/lintool/Grim...   \n",
       "2  https://raw.githubusercontent.com/lintool/Grim...   \n",
       "3  https://raw.githubusercontent.com/lintool/Grim...   \n",
       "4  https://raw.githubusercontent.com/lintool/Grim...   \n",
       "5  https://raw.githubusercontent.com/lintool/Grim...   \n",
       "6  https://raw.githubusercontent.com/lintool/Grim...   \n",
       "7  https://raw.githubusercontent.com/lintool/Grim...   \n",
       "8  https://raw.githubusercontent.com/lintool/Grim...   \n",
       "9  https://raw.githubusercontent.com/lintool/Grim...   \n",
       "\n",
       "                                            html_url  \\\n",
       "0  https://github.com/lintool/GrimmerSenatePressR...   \n",
       "1  https://github.com/lintool/GrimmerSenatePressR...   \n",
       "2  https://github.com/lintool/GrimmerSenatePressR...   \n",
       "3  https://github.com/lintool/GrimmerSenatePressR...   \n",
       "4  https://github.com/lintool/GrimmerSenatePressR...   \n",
       "5  https://github.com/lintool/GrimmerSenatePressR...   \n",
       "6  https://github.com/lintool/GrimmerSenatePressR...   \n",
       "7  https://github.com/lintool/GrimmerSenatePressR...   \n",
       "8  https://github.com/lintool/GrimmerSenatePressR...   \n",
       "9  https://github.com/lintool/GrimmerSenatePressR...   \n",
       "\n",
       "                         name                                       path  \\\n",
       "0  10Apr2007Whitehouse123.txt  raw/Whitehouse/10Apr2007Whitehouse123.txt   \n",
       "1    10Apr2008Whitehouse2.txt    raw/Whitehouse/10Apr2008Whitehouse2.txt   \n",
       "2    10Apr2008Whitehouse3.txt    raw/Whitehouse/10Apr2008Whitehouse3.txt   \n",
       "3   10Aug2007Whitehouse78.txt   raw/Whitehouse/10Aug2007Whitehouse78.txt   \n",
       "4   10Jan2008Whitehouse35.txt   raw/Whitehouse/10Jan2008Whitehouse35.txt   \n",
       "5    10Mar2008Whitehouse8.txt    raw/Whitehouse/10Mar2008Whitehouse8.txt   \n",
       "6   10Sep2007Whitehouse72.txt   raw/Whitehouse/10Sep2007Whitehouse72.txt   \n",
       "7  11Apr2007Whitehouse122.txt  raw/Whitehouse/11Apr2007Whitehouse122.txt   \n",
       "8  11Jan2007Whitehouse161.txt  raw/Whitehouse/11Jan2007Whitehouse161.txt   \n",
       "9    11Mar2008Whitehouse7.txt    raw/Whitehouse/11Mar2008Whitehouse7.txt   \n",
       "\n",
       "                                                text  \\\n",
       "0  SEN. WHITEHOUSE SHARES WESTERLY GIRL'S STORY I...   \n",
       "1  SEN. WHITEHOUSE SAYS PRESIDENT BUSH MUST BEGIN...   \n",
       "2  EPA MUST REVIEW LEGAL PROCESS TO ROOT OUT POLI...   \n",
       "3  R.I. SENATORS PRAISE SEN. DENIAL OF LNG FACILI...   \n",
       "4  SEN. WHITEHOUSE COMMENTS ON ONE-YEAR ANNIVERSA...   \n",
       "5  SENS. REED, WHITEHOUSE WELCOME RHODE ISLAND ST...   \n",
       "6  REP. WHITEHOUSE ISSUES STATEMENT ON GEN. PETRA...   \n",
       "7  SEN. WHITEHOUSE URGES BUSH FOR NEW DIRECTION I...   \n",
       "8  SENS. REED, WHITEHOUSE URGE PORTUGAL TO RECONS...   \n",
       "9  WHITEHOUSE UNVEILS 'BUSH DEBT': $7.7 TRILLION ...   \n",
       "\n",
       "                                      tokenized_text  word_counts  \\\n",
       "0  [SEN., WHITEHOUSE, SHARES, WESTERLY, GIRL, 'S,...          397   \n",
       "1  [SEN., WHITEHOUSE, SAYS, PRESIDENT, BUSH, MUST...          344   \n",
       "2  [EPA, MUST, REVIEW, LEGAL, PROCESS, TO, ROOT, ...          553   \n",
       "3  [R.I, ., SENATORS, PRAISE, SEN, ., DENIAL, OF,...          216   \n",
       "4  [SEN., WHITEHOUSE, COMMENTS, ON, ONE-YEAR, ANN...          257   \n",
       "5  [SENS, ., REED, ,, WHITEHOUSE, WELCOME, RHODE,...          380   \n",
       "6  [REP., WHITEHOUSE, ISSUES, STATEMENT, ON, GEN....          270   \n",
       "7  [SEN., WHITEHOUSE, URGES, BUSH, FOR, NEW, DIRE...          521   \n",
       "8  [SENS, ., REED, ,, WHITEHOUSE, URGE, PORTUGAL,...          484   \n",
       "9  [WHITEHOUSE, UNVEILS, 'BUSH, DEBT, ', :, $, 7....          482   \n",
       "\n",
       "                                   normalized_tokens  normalized_tokens_count  \n",
       "0  [whitehous, share, westerli, girl, stori, push...                      231  \n",
       "1  [whitehous, say, presid, bush, must, begin, br...                      171  \n",
       "2  [epa, must, review, legal, process, root, poli...                      305  \n",
       "3  [senat, prais, sen, denial, lng, facil, permit...                      115  \n",
       "4  [whitehous, comment, anniversari, presid, bush...                      132  \n",
       "5  [sen, reed, whitehous, welcom, rhode, island, ...                      195  \n",
       "6  [whitehous, issu, statement, petraeu, iraq, re...                      118  \n",
       "7  [whitehous, urg, bush, new, direct, iraq, shel...                      257  \n",
       "8  [sen, reed, whitehous, urg, portug, reconsid, ...                      254  \n",
       "9  [whitehous, unveil, debt, trillion, foregon, s...                      260  "
      ]
     },
     "execution_count": 90,
     "metadata": {},
     "output_type": "execute_result"
    }
   ],
   "source": [
    "stop_words_nltk = stopwords.words('english')\n",
    "#stop_words = [\"the\",\"it\",\"she\",\"he\", \"a\"] #Uncomment this line if you want to use your own list of stopwords.\n",
    "\n",
    "#The stemmers and lemmers need to be initialized before bing run\n",
    "porter = nltk.stem.porter.PorterStemmer()\n",
    "snowball = nltk.stem.snowball.SnowballStemmer('english')\n",
    "wordnet = nltk.stem.WordNetLemmatizer()\n",
    "\n",
    "def normlizeTokens(tokenLst, stopwordLst = None, stemmer = None, lemmer = None):\n",
    "    #We can use a generator here as we just need to iterate over it\n",
    "\n",
    "    #Lowering the case and removing non-words\n",
    "    workingIter = (w.lower() for w in tokenLst if w.isalpha())\n",
    "\n",
    "    #Now we can use the semmer, if provided\n",
    "    if stemmer is not None:\n",
    "        workingIter = (stemmer.stem(w) for w in workingIter)\n",
    "        \n",
    "    #And the lemmer\n",
    "    if lemmer is not None:\n",
    "        workingIter = (lemmer.lemmatize(w) for w in workingIter)\n",
    "    \n",
    "    #And remove the stopwords\n",
    "    if stopwordLst is not None:\n",
    "        workingIter = (w for w in workingIter if w not in stopwordLst)\n",
    "    #We will return a list with the stopwords removed\n",
    "    return list(workingIter)\n",
    "\n",
    "whReleases['normalized_tokens'] = whReleases['tokenized_text'].apply(lambda x: normlizeTokens(x, stopwordLst = stop_words_nltk, stemmer = porter))\n",
    "\n",
    "whReleases['normalized_tokens_count'] = whReleases['normalized_tokens'].apply(lambda x: len(x))\n",
    "\n",
    "whReleases"
   ]
  },
  {
   "cell_type": "markdown",
   "metadata": {},
   "source": [
    "The stemmer we use here is called the [Porter Stemmer](http://www.nltk.org/api/nltk.stem.html#module-nltk.stem.porter), there are many others, including another good one by the same person (Martin Porter) called the [Snowball Stemmer](http://www.nltk.org/api/nltk.stem.html#module-nltk.stem.snowball) or 'another stemmer' called the [Lancaster Stemmer](http://www.nltk.org/_modules/nltk/stem/lancaster.html). We can also normalize our words by lemmatizing them, or matching word variants or inflected forms to a common morpheme in a dictionary like [WordNet](https://wordnet.princeton.edu) through intelligent stemming rules. (The WordNet function `morphy` returns the given word if it cannot be matched to a word in the dictionary).\n",
    "\n",
    "Now that it is cleaned we start analyzing the dataset. We can start by finding frequency distributions for the dataset. Lets start looking at all the press releases together. The [`ConditionalFreqDist`](http://www.nltk.org/api/nltk.html#nltk.probability.ConditionalProbDist) class reads in an iterable of tuples, the first element is the condition and the second the focal word. For starters, we will use word lengths as the conditions, but tags or clusters will provide more useful results."
   ]
  },
  {
   "cell_type": "code",
   "execution_count": 91,
   "metadata": {},
   "outputs": [
    {
     "name": "stdout",
     "output_type": "stream",
     "text": [
      "2038\n"
     ]
    }
   ],
   "source": [
    "#.sum() adds together the lists from each row into a single list\n",
    "whcfdist = nltk.ConditionalFreqDist(((len(w), w) for w in whReleases['normalized_tokens'].sum()))\n",
    "\n",
    "#print the number of words\n",
    "print(whcfdist.N())"
   ]
  },
  {
   "cell_type": "markdown",
   "metadata": {},
   "source": [
    "From this we can lookup the distributions of different word lengths"
   ]
  },
  {
   "cell_type": "code",
   "execution_count": 92,
   "metadata": {
    "scrolled": true
   },
   "outputs": [
    {
     "data": {
      "image/png": "[encoded data removed]",
      "text/plain": [
       "<matplotlib.figure.Figure at 0x250b97731d0>"
      ]
     },
     "metadata": {},
     "output_type": "display_data"
    }
   ],
   "source": [
    "whcfdist[3].plot()"
   ]
  },
  {
   "cell_type": "markdown",
   "metadata": {},
   "source": [
    "See that the most frequent 3-character word is \"thi\". But what is \"thi\"? It is actually \"this\" stemmed by the Porter Stemmer. "
   ]
  },
  {
   "cell_type": "code",
   "execution_count": 93,
   "metadata": {
    "scrolled": true
   },
   "outputs": [
    {
     "name": "stdout",
     "output_type": "stream",
     "text": [
      "thi\n"
     ]
    }
   ],
   "source": [
    "porter = nltk.stem.porter.PorterStemmer()\n",
    "print (porter.stem('this'))"
   ]
  },
  {
   "cell_type": "markdown",
   "metadata": {},
   "source": [
    "Let's try with the Snowball Stemer. See that \"this\" is corretly stemmed as a 4-character word. "
   ]
  },
  {
   "cell_type": "code",
   "execution_count": 94,
   "metadata": {},
   "outputs": [
    {
     "name": "stdout",
     "output_type": "stream",
     "text": [
      "this\n"
     ]
    },
    {
     "data": {
      "image/png": "[encoded data removed]",
      "text/plain": [
       "<matplotlib.figure.Figure at 0x250b97735c0>"
      ]
     },
     "metadata": {},
     "output_type": "display_data"
    }
   ],
   "source": [
    "print (snowball.stem('this'))\n",
    "\n",
    "whReleases['normalized_tokens'] = whReleases['tokenized_text'].apply(lambda x: normlizeTokens(x, stopwordLst = stop_words_nltk, stemmer = snowball))\n",
    "whReleases['normalized_tokens_count'] = whReleases['normalized_tokens'].apply(lambda x: len(x))\n",
    "whcfdist = nltk.ConditionalFreqDist(((len(w), w) for w in whReleases['normalized_tokens'].sum()))\n",
    "whcfdist[3].plot()"
   ]
  },
  {
   "cell_type": "markdown",
   "metadata": {},
   "source": [
    "We can also create a Conditional Probability Distribution or [`ConditionalProbDist`](http://www.nltk.org/api/nltk.html#nltk.probability.ConditionalProbDist) from the `ConditionalFreqDist`. To do this, however, we need a model for the probability distribution. A simple model is [`ELEProbDist`](http://www.nltk.org/api/nltk.html#nltk.probability.ELEProbDist) which gives the expected likelihood estimate for the probability distribution of the experiment used to generate the observed frequency distribution. "
   ]
  },
  {
   "cell_type": "code",
   "execution_count": 95,
   "metadata": {},
   "outputs": [
    {
     "name": "stdout",
     "output_type": "stream",
     "text": [
      "us\n",
      "0.6470588235294118\n"
     ]
    }
   ],
   "source": [
    "whcpdist = nltk.ConditionalProbDist(whcfdist, nltk.ELEProbDist)\n",
    "\n",
    "#print the most common 2 letter word\n",
    "print(whcpdist[2].max())\n",
    "\n",
    "#And its probability\n",
    "print(whcpdist[2].prob(whcpdist[2].max()))"
   ]
  },
  {
   "cell_type": "markdown",
   "metadata": {},
   "source": [
    "Length is one feature of a word, but there are many more important features we care about. Another critical feature is a word's role in the sentence, or its part of speech (POS). Here, we will be classifying words according to their part of speech (POS), using the [`nltk.pos_tag()`](http://www.nltk.org/api/nltk.tag.html#nltk.tag.pos_tag). The tags used here are those from the [Brown Corpus tagset](http://www.scs.leeds.ac.uk/amalgam/tagsets/brown.html)."
   ]
  },
  {
   "cell_type": "code",
   "execution_count": 96,
   "metadata": {
    "collapsed": true
   },
   "outputs": [],
   "source": [
    "whReleases['normalized_tokens_POS'] = [nltk.pos_tag(t) for t in whReleases['normalized_tokens']]"
   ]
  },
  {
   "cell_type": "markdown",
   "metadata": {},
   "source": [
    "This gives us a new column with the part of speech as a short initialism and the word in a tuple, exactly how the `nltk.ConditionalFreqDist()` function wants them. We can now construct another conditional frequency distribution."
   ]
  },
  {
   "cell_type": "code",
   "execution_count": 97,
   "metadata": {},
   "outputs": [
    {
     "data": {
      "text/plain": [
       "[('whitehous', FreqDist({'JJ': 39, 'NN': 1})),\n",
       " ('share', FreqDist({'NN': 4})),\n",
       " ('wester', FreqDist({'NN': 1, 'RBR': 1})),\n",
       " ('girl', FreqDist({'NN': 2})),\n",
       " ('stori', FreqDist({'FW': 2})),\n",
       " ('push', FreqDist({'NN': 2})),\n",
       " ('stem', FreqDist({'NN': 12})),\n",
       " ('cell', FreqDist({'NN': 9, 'VBP': 3})),\n",
       " ('research', FreqDist({'NN': 9})),\n",
       " ('lila', FreqDist({'CD': 1, 'JJ': 1, 'NN': 2}))]"
      ]
     },
     "execution_count": 97,
     "metadata": {},
     "output_type": "execute_result"
    }
   ],
   "source": [
    "whcfdist_WordtoPOS = nltk.ConditionalFreqDist(whReleases['normalized_tokens_POS'].sum())\n",
    "list(whcfdist_WordtoPOS.items())[:10]"
   ]
  },
  {
   "cell_type": "markdown",
   "metadata": {},
   "source": [
    "This gives the frequency of each word as each part of speech...which can be uninformative and boring."
   ]
  },
  {
   "cell_type": "code",
   "execution_count": 98,
   "metadata": {},
   "outputs": [
    {
     "data": {
      "image/png": "[encoded data removed]",
      "text/plain": [
       "<matplotlib.figure.Figure at 0x250b97ac9b0>"
      ]
     },
     "metadata": {},
     "output_type": "display_data"
    }
   ],
   "source": [
    "whcfdist_WordtoPOS['administr'].plot()"
   ]
  },
  {
   "cell_type": "markdown",
   "metadata": {},
   "source": [
    "What we want is the converse; the frequency of each part of speech for each word."
   ]
  },
  {
   "cell_type": "code",
   "execution_count": 99,
   "metadata": {
    "collapsed": true
   },
   "outputs": [],
   "source": [
    "whcfdist_POStoWord = nltk.ConditionalFreqDist((p, w) for w, p in whReleases['normalized_tokens_POS'].sum())"
   ]
  },
  {
   "cell_type": "markdown",
   "metadata": {},
   "source": [
    "We can now identify and collect all of the superlative adjectives"
   ]
  },
  {
   "cell_type": "code",
   "execution_count": 100,
   "metadata": {},
   "outputs": [
    {
     "data": {
      "text/plain": [
       "FreqDist({'best': 1, 'strongest': 2})"
      ]
     },
     "execution_count": 100,
     "metadata": {},
     "output_type": "execute_result"
    }
   ],
   "source": [
    "whcfdist_POStoWord['JJS']"
   ]
  },
  {
   "cell_type": "markdown",
   "metadata": {},
   "source": [
    "Or look at the most common nouns"
   ]
  },
  {
   "cell_type": "code",
   "execution_count": 101,
   "metadata": {
    "scrolled": true
   },
   "outputs": [
    {
     "data": {
      "text/plain": [
       "[('bush', 24), ('presid', 23), ('iraq', 22), ('rhode', 18), ('island', 18)]"
      ]
     },
     "execution_count": 101,
     "metadata": {},
     "output_type": "execute_result"
    }
   ],
   "source": [
    "whcfdist_POStoWord['NN'].most_common(5)"
   ]
  },
  {
   "cell_type": "markdown",
   "metadata": {},
   "source": [
    "Or plot the base form verbs against their number of occurrences"
   ]
  },
  {
   "cell_type": "code",
   "execution_count": 102,
   "metadata": {},
   "outputs": [
    {
     "data": {
      "image/png": "[encoded data removed]",
      "text/plain": [
       "<matplotlib.figure.Figure at 0x250b97f1be0>"
      ]
     },
     "metadata": {},
     "output_type": "display_data"
    }
   ],
   "source": [
    "whcfdist_POStoWord['VB'].plot()"
   ]
  },
  {
   "cell_type": "markdown",
   "metadata": {},
   "source": [
    "We can then do a similar analysis of the word probabilities"
   ]
  },
  {
   "cell_type": "code",
   "execution_count": 103,
   "metadata": {},
   "outputs": [
    {
     "name": "stdout",
     "output_type": "stream",
     "text": [
      "bush\n",
      "0.017844136926438457\n"
     ]
    }
   ],
   "source": [
    "whcpdist_POStoWord = nltk.ConditionalProbDist(whcfdist_POStoWord, nltk.ELEProbDist)\n",
    "\n",
    "#print the most common nouns\n",
    "print(whcpdist_POStoWord['NN'].max())\n",
    "\n",
    "#And its probability\n",
    "print(whcpdist_POStoWord['NN'].prob(whcpdist_POStoWord['NN'].max()))"
   ]
  },
  {
   "cell_type": "markdown",
   "metadata": {},
   "source": [
    "We can even create a...wait for it...*WORD CLOUD* or Wordl to gaze at and draw mystical, approximate inferences about important nouns and verbs in our corpus:"
   ]
  },
  {
   "cell_type": "code",
   "execution_count": 104,
   "metadata": {},
   "outputs": [
    {
     "data": {
      "image/png": "[encoded data removed]",
      "text/plain": [
       "<matplotlib.figure.Figure at 0x250bb25d588>"
      ]
     },
     "metadata": {},
     "output_type": "display_data"
    }
   ],
   "source": [
    "wc = wordcloud.WordCloud(background_color=\"white\", max_words=500, width= 1000, height = 1000, mode ='RGBA', scale=.5).generate(' '.join(whReleases['normalized_tokens'].sum()))\n",
    "plt.imshow(wc)\n",
    "plt.axis(\"off\")\n",
    "plt.savefig(\"whitehouse_word_cloud.pdf\", format = 'pdf')"
   ]
  },
  {
   "cell_type": "markdown",
   "metadata": {},
   "source": [
    "## <span style=\"color:red\">*Exercise 2*</span>\n",
    "\n",
    "<span style=\"color:red\">Construct cells immediately below this that filter, stem and lemmatize the tokens in your corpus, and then creates plots (with titles and labels) that map the word frequency distribution, word probability distribution, and at least two conditional probability distributions that help us better understand the social and cultural game underlying the production of your corpus. Create a wordl of words (or normalized words) and add a few vague comments about what mysteries are revealed through it.</span>"
   ]
  },
  {
   "cell_type": "code",
   "execution_count": 17,
   "metadata": {
    "scrolled": true
   },
   "outputs": [
    {
     "data": {
      "text/plain": [
       "[(',', 86288),\n",
       " ('.', 56839),\n",
       " ('the', 47854),\n",
       " ('“', 37059),\n",
       " ('”', 36723),\n",
       " ('’', 34959),\n",
       " ('to', 26670),\n",
       " ('and', 25742),\n",
       " ('of', 21615),\n",
       " ('a', 19956),\n",
       " ('Harry', 18118),\n",
       " ('he', 16057),\n",
       " ('was', 15521),\n",
       " ('s', 14649),\n",
       " ('said', 14468),\n",
       " ('his', 13712),\n",
       " ('I', 13549),\n",
       " ('in', 12339),\n",
       " ('you', 11660),\n",
       " ('it', 11576)]"
      ]
     },
     "execution_count": 17,
     "metadata": {},
     "output_type": "execute_result"
    }
   ],
   "source": [
    "countsDict = {}\n",
    "for word in hpBook['tokenized_text'].sum():\n",
    "    if word in countsDict:\n",
    "        countsDict[word] += 1\n",
    "    else:\n",
    "        countsDict[word] = 1\n",
    "word_counts = sorted(countsDict.items(), key = lambda x : x[1], reverse = True)\n",
    "word_counts[:20]"
   ]
  },
  {
   "cell_type": "code",
   "execution_count": 20,
   "metadata": {},
   "outputs": [
    {
     "data": {
      "text/plain": [
       "'are'"
      ]
     },
     "execution_count": 20,
     "metadata": {},
     "output_type": "execute_result"
    }
   ],
   "source": [
    "#The stop list is then all words that occur before the first noun\n",
    "stop_words_freq = []\n",
    "for word, count in word_counts:\n",
    "    if word == 'Harry':\n",
    "        break\n",
    "    else:\n",
    "        stop_words_freq.append(word)\n",
    "stop_words_freq\n",
    "wordnet = nltk.stem.WordNetLemmatizer()\n",
    "wordnet.lemmatize('are')"
   ]
  },
  {
   "cell_type": "markdown",
   "metadata": {},
   "source": [
    "Now we can create our function to normalize the tokens"
   ]
  },
  {
   "cell_type": "code",
   "execution_count": 22,
   "metadata": {
    "scrolled": true
   },
   "outputs": [],
   "source": [
    "stop_words_nltk = stopwords.words('english')\n",
    "#stop_words = [\"the\",\"it\",\"she\",\"he\", \"a\"] #Uncomment this line if you want to use your own list of stopwords.\n",
    "\n",
    "#The stemmers and lemmers need to be initialized before bing run\n",
    "porter = nltk.stem.porter.PorterStemmer()\n",
    "snowball = nltk.stem.snowball.SnowballStemmer('english')\n",
    "wordnet = nltk.stem.WordNetLemmatizer()\n",
    "\n",
    "def normlizeTokens(tokenLst, stopwordLst = None, stemmer = None, lemmer = None):\n",
    "    #We can use a generator here as we just need to iterate over it\n",
    "\n",
    "    #Lowering the case and removing non-words\n",
    "    workingIter = (w.lower() for w in tokenLst if w.isalpha())\n",
    "\n",
    "    #Now we can use the semmer, if provided\n",
    "    if stemmer is not None:\n",
    "        workingIter = (stemmer.stem(w) for w in workingIter)\n",
    "        \n",
    "    #And the lemmer\n",
    "    if lemmer is not None:\n",
    "        workingIter = (lemmer.lemmatize(w) for w in workingIter)\n",
    "    \n",
    "    #And remove the stopwords\n",
    "    if stopwordLst is not None:\n",
    "        workingIter = (w for w in workingIter if w not in stopwordLst)\n",
    "    #We will return a list with the stopwords removed\n",
    "    return list(workingIter)\n",
    "\n",
    "hpBook['normalized_tokens'] = hpBook['tokenized_text'].apply(lambda x: normlizeTokens(x, stopwordLst = stop_words_nltk, stemmer = porter))\n",
    "\n",
    "hpBook['normalized_tokens_count'] = hpBook['normalized_tokens'].apply(lambda x: len(x))\n"
   ]
  },
  {
   "cell_type": "code",
   "execution_count": 23,
   "metadata": {},
   "outputs": [
    {
     "name": "stdout",
     "output_type": "stream",
     "text": [
      "593999\n"
     ]
    }
   ],
   "source": [
    "#.sum() adds together the lists from each row into a single list\n",
    "hpcfdist = nltk.ConditionalFreqDist(((len(w), w) for w in hpBook['normalized_tokens'].sum()))\n",
    "\n",
    "#print the number of words\n",
    "print(hpcfdist.N())"
   ]
  },
  {
   "cell_type": "code",
   "execution_count": 65,
   "metadata": {
    "scrolled": true
   },
   "outputs": [
    {
     "data": {
      "image/png": "[encoded data removed]",
      "text/plain": [
       "<matplotlib.figure.Figure at 0x2077c009208>"
      ]
     },
     "metadata": {},
     "output_type": "display_data"
    }
   ],
   "source": [
    "hpcfdist[3].plot(20)"
   ]
  },
  {
   "cell_type": "code",
   "execution_count": 25,
   "metadata": {},
   "outputs": [
    {
     "name": "stdout",
     "output_type": "stream",
     "text": [
      "said\n",
      "0.08032479215353609\n"
     ]
    }
   ],
   "source": [
    "hpcpdist = nltk.ConditionalProbDist(hpcfdist, nltk.ELEProbDist)\n",
    "\n",
    "#print the most common 4 letter word\n",
    "print(hpcpdist[4].max())\n",
    "\n",
    "#And its probability\n",
    "print(hpcpdist[4].prob(hpcpdist[4].max()))"
   ]
  },
  {
   "cell_type": "code",
   "execution_count": 26,
   "metadata": {
    "collapsed": true
   },
   "outputs": [],
   "source": [
    "hpBook['normalized_tokens_POS'] = [nltk.pos_tag(t) for t in hpBook['normalized_tokens']]"
   ]
  },
  {
   "cell_type": "code",
   "execution_count": 27,
   "metadata": {
    "scrolled": true
   },
   "outputs": [
    {
     "data": {
      "text/plain": [
       "[('harri',\n",
       "  FreqDist({'CD': 1,\n",
       "            'EX': 1,\n",
       "            'FW': 2,\n",
       "            'IN': 1,\n",
       "            'JJ': 4368,\n",
       "            'JJR': 9,\n",
       "            'NN': 12615,\n",
       "            'NNS': 191,\n",
       "            'PRP': 15,\n",
       "            'PRP$': 21,\n",
       "            'RB': 186,\n",
       "            'RBR': 10,\n",
       "            'RBS': 1,\n",
       "            'VB': 166,\n",
       "            'VBD': 206,\n",
       "            'VBN': 47,\n",
       "            'VBP': 234,\n",
       "            'VBZ': 93})),\n",
       " ('potter',\n",
       "  FreqDist({'JJ': 37,\n",
       "            'JJR': 8,\n",
       "            'NN': 1052,\n",
       "            'NNS': 1,\n",
       "            'RB': 46,\n",
       "            'RBR': 2,\n",
       "            'VB': 7,\n",
       "            'VBP': 11})),\n",
       " ('sorcer', FreqDist({'JJ': 2, 'NN': 32, 'RB': 1, 'VBN': 1})),\n",
       " ('stone',\n",
       "  FreqDist({'CD': 5,\n",
       "            'JJ': 76,\n",
       "            'NN': 320,\n",
       "            'RB': 5,\n",
       "            'VB': 3,\n",
       "            'VBN': 1,\n",
       "            'VBP': 1})),\n",
       " ('rowl', FreqDist({'NN': 30})),\n",
       " ('illustr', FreqDist({'NN': 19})),\n",
       " ('mari', FreqDist({'FW': 1, 'JJ': 3, 'NN': 16})),\n",
       " ('grandpré', FreqDist({'NN': 13})),\n",
       " ('arthur',\n",
       "  FreqDist({'IN': 8,\n",
       "            'JJ': 7,\n",
       "            'NN': 104,\n",
       "            'NNS': 6,\n",
       "            'RB': 14,\n",
       "            'RP': 2,\n",
       "            'VB': 3,\n",
       "            'VBD': 1,\n",
       "            'VBP': 7,\n",
       "            'VBZ': 5})),\n",
       " ('levin', FreqDist({'JJ': 7, 'NN': 2}))]"
      ]
     },
     "execution_count": 27,
     "metadata": {},
     "output_type": "execute_result"
    }
   ],
   "source": [
    "hpcfdist_WordtoPOS = nltk.ConditionalFreqDist(hpBook['normalized_tokens_POS'].sum())\n",
    "list(hpcfdist_WordtoPOS.items())[:10]"
   ]
  },
  {
   "cell_type": "code",
   "execution_count": 29,
   "metadata": {
    "scrolled": true
   },
   "outputs": [
    {
     "data": {
      "image/png": "[encoded data removed]",
      "text/plain": [
       "<matplotlib.figure.Figure at 0x2070ae9ff60>"
      ]
     },
     "metadata": {},
     "output_type": "display_data"
    }
   ],
   "source": [
    "hpcfdist_WordtoPOS['stone'].plot()"
   ]
  },
  {
   "cell_type": "code",
   "execution_count": 30,
   "metadata": {},
   "outputs": [
    {
     "data": {
      "image/png": "[encoded data removed]",
      "text/plain": [
       "<matplotlib.figure.Figure at 0x2070aea58d0>"
      ]
     },
     "metadata": {},
     "output_type": "display_data"
    }
   ],
   "source": [
    "hpcfdist_WordtoPOS['harri'].plot()"
   ]
  },
  {
   "cell_type": "code",
   "execution_count": 31,
   "metadata": {
    "collapsed": true
   },
   "outputs": [],
   "source": [
    "hpcfdist_POStoWord = nltk.ConditionalFreqDist((p, w) for w, p in hpBook['normalized_tokens_POS'].sum())"
   ]
  },
  {
   "cell_type": "code",
   "execution_count": 32,
   "metadata": {},
   "outputs": [
    {
     "data": {
      "text/plain": [
       "[('harri', 4368),\n",
       " ('hi', 3625),\n",
       " ('wa', 2806),\n",
       " ('hagrid', 1427),\n",
       " ('open', 1183),\n",
       " ('last', 1070),\n",
       " ('good', 945),\n",
       " ('black', 945),\n",
       " ('thi', 921),\n",
       " ('great', 854)]"
      ]
     },
     "execution_count": 32,
     "metadata": {},
     "output_type": "execute_result"
    }
   ],
   "source": [
    "hpcfdist_POStoWord['JJ'].most_common(10)"
   ]
  },
  {
   "cell_type": "code",
   "execution_count": 33,
   "metadata": {
    "scrolled": true
   },
   "outputs": [
    {
     "data": {
      "text/plain": [
       "[('harri', 12615),\n",
       " ('wa', 9940),\n",
       " ('hi', 9880),\n",
       " ('ron', 5622),\n",
       " ('hermion', 5205),\n",
       " ('look', 4121),\n",
       " ('dumbledor', 2548),\n",
       " ('eye', 1988),\n",
       " ('hand', 1903),\n",
       " ('time', 1894)]"
      ]
     },
     "execution_count": 33,
     "metadata": {},
     "output_type": "execute_result"
    }
   ],
   "source": [
    "hpcfdist_POStoWord['NN'].most_common(10)"
   ]
  },
  {
   "cell_type": "markdown",
   "metadata": {},
   "source": [
    "We can then do a similar analysis of the word probabilities"
   ]
  },
  {
   "cell_type": "code",
   "execution_count": 34,
   "metadata": {},
   "outputs": [
    {
     "name": "stdout",
     "output_type": "stream",
     "text": [
      "back\n",
      "0.11248262127531658\n"
     ]
    }
   ],
   "source": [
    "hpcpdist_POStoWord = nltk.ConditionalProbDist(hpcfdist_POStoWord, nltk.ELEProbDist)\n",
    "\n",
    "print(hpcpdist_POStoWord['RB'].max())\n",
    "\n",
    "#And its probability\n",
    "print(hpcpdist_POStoWord['RB'].prob(hpcpdist_POStoWord['RB'].max()))"
   ]
  },
  {
   "cell_type": "code",
   "execution_count": 37,
   "metadata": {},
   "outputs": [
    {
     "name": "stdout",
     "output_type": "stream",
     "text": [
      "get\n",
      "0.05894889925279575\n"
     ]
    }
   ],
   "source": [
    "print(hpcpdist_POStoWord['VB'].max())\n",
    "\n",
    "#And its probability\n",
    "print(hpcpdist_POStoWord['VB'].prob(hpcpdist_POStoWord['VB'].max()))"
   ]
  },
  {
   "cell_type": "code",
   "execution_count": 39,
   "metadata": {
    "scrolled": true
   },
   "outputs": [],
   "source": [
    "wc_hp = wordcloud.WordCloud(background_color=\"white\", max_words=500, width= 1000, height = 1000, mode ='RGBA', scale=.5).generate(' '.join(hpBook['normalized_tokens'].sum()))\n",
    "plt.imshow(wc_hp)\n",
    "\n",
    "plt.axis(\"off\")\n",
    "plt.savefig(\"harrypotter_word_cloud.pdf\", format = 'pdf')"
   ]
  },
  {
   "cell_type": "markdown",
   "metadata": {},
   "source": [
    "Remarks:\n",
    "There is no doubt that Harry would be the most frequent noun. But \"harri\" is also the most frequent adjective, does this \"harri\" the token of Harry? It is interesting that the most frequent adverb is back and the most frequent verb is get. "
   ]
  },
  {
   "cell_type": "markdown",
   "metadata": {},
   "source": [
    "# Collocations"
   ]
  },
  {
   "cell_type": "markdown",
   "metadata": {},
   "source": [
    "As illustrated above, we might want to find significant bigrams (two-word phrases), trigrams (three-word phrases), n-grams (*n*-word phrases) or skip-grams (noncontinguous 'phrases' with skip-length *n*). We will begin with the [`nltk.collocations.BigramCollocationFinder`](http://www.nltk.org/api/nltk.html?highlight=bigramcollocationfinder#nltk.collocations.BigramCollocationFinder) class, which can be given raw lists of strings with the `from_words()` method. By default it only looks at continuous bigrams but there is an option (`window_size`) to allow skip-grams."
   ]
  },
  {
   "cell_type": "code",
   "execution_count": 139,
   "metadata": {},
   "outputs": [
    {
     "name": "stdout",
     "output_type": "stream",
     "text": [
      "There are 1999 bigrams in the finder\n"
     ]
    }
   ],
   "source": [
    "whBigrams = nltk.collocations.BigramCollocationFinder.from_words(whReleases['normalized_tokens'].sum())\n",
    "print(\"There are {} bigrams in the finder\".format(whBigrams.N))"
   ]
  },
  {
   "cell_type": "markdown",
   "metadata": {},
   "source": [
    "To compare the bigrams we need to tell nltk what our score function is. Initially, we will look at the raw counts."
   ]
  },
  {
   "cell_type": "code",
   "execution_count": 141,
   "metadata": {
    "scrolled": false
   },
   "outputs": [
    {
     "name": "stdout",
     "output_type": "stream",
     "text": [
      "[('rhode', 'island'), ('presid', 'bush'), ('sheldon', 'whitehous'), ('stem', 'cell'), ('whitehous', 'said'), ('bush', 'administr'), ('american', 'peopl'), ('bring', 'troop'), ('senat', 'sheldon'), ('troop', 'home')]\n"
     ]
    }
   ],
   "source": [
    "def bigramScoring(count, wordsTuple, total):\n",
    "    return count\n",
    "\n",
    "print(whBigrams.nbest(bigramScoring, 10))"
   ]
  },
  {
   "cell_type": "markdown",
   "metadata": {},
   "source": [
    "One note about how `BigramCollocationFinder` works. It doesn't use the strings internally."
   ]
  },
  {
   "cell_type": "code",
   "execution_count": 142,
   "metadata": {},
   "outputs": [
    {
     "name": "stdout",
     "output_type": "stream",
     "text": [
      "The first word is:  40, The second word is: 4\n",
      "The first word is:  4, The second word is: 2\n",
      "The first word is:  2, The second word is: 2\n",
      "The first word is:  2, The second word is: 2\n",
      "The first word is:  2, The second word is: 2\n",
      "The first word is:  2, The second word is: 12\n",
      "The first word is:  12, The second word is: 12\n",
      "The first word is:  12, The second word is: 9\n",
      "The first word is:  9, The second word is: 4\n",
      "The first word is:  4, The second word is: 2\n"
     ]
    }
   ],
   "source": [
    "birgramScores = []\n",
    "\n",
    "def bigramPrinting(count, wordsTuple, total):\n",
    "    global birgramScores\n",
    "    birgramScores.append(\"The first word is:  {}, The second word is: {}\".format(*wordsTuple))\n",
    "    #Returns None so all the tuples are considered to have the same rank\n",
    "\n",
    "whBigrams.nbest(bigramPrinting, 10)\n",
    "print('\\n'.join(birgramScores[:10]))"
   ]
  },
  {
   "cell_type": "markdown",
   "metadata": {},
   "source": [
    "The words are each given numeric IDs and there is a dictionary that maps the IDs to the words they represent. This is a common performance optimization.\n",
    "\n",
    "Two words can appear together by chance. Recall from  Manning and Schütze's textbook that a $t-value can be computed for each bigram to see how significant the association is. You may also want to try computing the $\\chi^2$, likelihood ratio, and pointwise mutual information statistics. "
   ]
  },
  {
   "cell_type": "code",
   "execution_count": 144,
   "metadata": {
    "scrolled": true
   },
   "outputs": [
    {
     "data": {
      "text/plain": [
       "[(('rhode', 'island'), 223.98603169548517),\n",
       " (('stem', 'cell'), 146.69971583676724),\n",
       " (('presid', 'bush'), 124.78339903371592),\n",
       " (('sheldon', 'whitehous'), 97.83057167237577),\n",
       " (('unit', 'state'), 63.7408597571739),\n",
       " (('whitehous', 'said'), 50.85365409523493),\n",
       " (('jack', 'reed'), 46.61449955206517),\n",
       " (('honor', 'societi'), 45.00623576992483),\n",
       " (('american', 'peopl'), 44.4949166648486),\n",
       " (('bring', 'troop'), 43.29082241816299),\n",
       " (('bush', 'administr'), 42.73672706610401),\n",
       " (('cell', 'research'), 41.25934273451902),\n",
       " (('youth', 'program'), 38.276119099832265),\n",
       " (('troop', 'home'), 36.87601441962918),\n",
       " (('come', 'home'), 36.661589434392276),\n",
       " (('senat', 'sheldon'), 36.08708619238288),\n",
       " (('epw', 'committe'), 34.42122395939712),\n",
       " (('potenti', 'close'), 33.7794434582587),\n",
       " (('budget', 'resolut'), 32.192797473966614),\n",
       " (('district', 'columbia'), 31.62701894759353),\n",
       " (('humpti', 'dumpti'), 31.62701894759353),\n",
       " (('jose', 'socrat'), 31.62701894759353),\n",
       " (('prime', 'minist'), 31.62701894759353),\n",
       " (('weaver', 'cove'), 31.62701894759353),\n",
       " (('chang', 'cours'), 31.55001446652071),\n",
       " (('confirm', 'hear'), 27.80793393782465),\n",
       " (('harm', 'way'), 27.80793393782465),\n",
       " (('interest', 'payment'), 27.80793393782465),\n",
       " (('trillion', 'foregon'), 27.80793393782465),\n",
       " (('foregon', 'surplus'), 26.081841503113964),\n",
       " (('senat', 'youth'), 25.938248175532106),\n",
       " (('consul', 'provid'), 25.75753014835219),\n",
       " (('year', 'ago'), 25.07814446954526),\n",
       " (('high', 'school'), 24.896902277500963),\n",
       " (('reconsid', 'potenti'), 24.896902277500963),\n",
       " (('one', 'thing'), 23.98985093210625),\n",
       " (('circuit', 'court'), 23.988848928055774),\n",
       " (('cost', 'america'), 23.988848928055774),\n",
       " (('general', 'counsel'), 23.988848928055774),\n",
       " (('misguid', 'polici'), 23.988848928055774)]"
      ]
     },
     "execution_count": 144,
     "metadata": {},
     "output_type": "execute_result"
    }
   ],
   "source": [
    "bigram_measures = nltk.collocations.BigramAssocMeasures()\n",
    "whBigrams.score_ngrams(bigram_measures.likelihood_ratio)[:40]\n",
    "# other options include student_t, chi_sq, likelihood_ratio, pmi"
   ]
  },
  {
   "cell_type": "markdown",
   "metadata": {},
   "source": [
    "There are a few other available measures"
   ]
  },
  {
   "cell_type": "code",
   "execution_count": 145,
   "metadata": {},
   "outputs": [
    {
     "data": {
      "text/plain": [
       "['chi_sq',\n",
       " 'dice',\n",
       " 'fisher',\n",
       " 'jaccard',\n",
       " 'likelihood_ratio',\n",
       " 'mi_like',\n",
       " 'phi_sq',\n",
       " 'pmi',\n",
       " 'poisson_stirling',\n",
       " 'raw_freq',\n",
       " 'student_t']"
      ]
     },
     "execution_count": 145,
     "metadata": {},
     "output_type": "execute_result"
    }
   ],
   "source": [
    "[s for s in dir(bigram_measures) if s[0] != '_']"
   ]
  },
  {
   "cell_type": "markdown",
   "metadata": {},
   "source": [
    "We can also look at trigrams"
   ]
  },
  {
   "cell_type": "code",
   "execution_count": 146,
   "metadata": {},
   "outputs": [
    {
     "data": {
      "text/plain": [
       "[(('bring', 'troop', 'home'), 2.449202865677887),\n",
       " (('senat', 'sheldon', 'whitehous'), 2.4481166557834917),\n",
       " (('stem', 'cell', 'research'), 2.2359229352888974),\n",
       " (('whitehous', 'said', 'today'), 1.9987987990993996),\n",
       " (('jack', 'reed', 'sheldon'), 1.7319953264758123),\n",
       " (('senat', 'youth', 'program'), 1.7319901251233376),\n",
       " (('unit', 'state', 'senat'), 1.73173525885207),\n",
       " (('new', 'direct', 'iraq'), 1.7316624399174225),\n",
       " (('reed', 'sheldon', 'whitehous'), 1.7314959966382275),\n",
       " (('sheldon', 'whitehous', 'said'), 1.7309411857075774),\n",
       " (('trillion', 'foregon', 'surplus'), 1.414209315486583),\n",
       " (('reconsid', 'potenti', 'close'), 1.4142064842289084),\n",
       " (('sent', 'clear', 'messag'), 1.414205599460885),\n",
       " (('today', 'confirm', 'hear'), 1.4141976365486753),\n",
       " (('select', 'committe', 'intellig'), 1.4141965748270473),\n",
       " (('general', 'david', 'petraeus'), 1.4141923279405353),\n",
       " (('take', 'respons', 'secur'), 1.4141923279405353),\n",
       " (('cell', 'enhanc', 'act'), 1.4141880810540235),\n",
       " (('respons', 'secur', 'govern'), 1.4141880810540235),\n",
       " (('new', 'sourc', 'review'), 1.41416897006472)]"
      ]
     },
     "execution_count": 146,
     "metadata": {},
     "output_type": "execute_result"
    }
   ],
   "source": [
    "trigram_measures = nltk.collocations.TrigramAssocMeasures()\n",
    "whTrigrams = nltk.collocations.TrigramCollocationFinder.from_words(whReleases['normalized_tokens'].sum())\n",
    "whTrigrams.score_ngrams(trigram_measures.student_t)[:20]"
   ]
  },
  {
   "cell_type": "markdown",
   "metadata": {},
   "source": [
    "Or n-grams (for any number n)"
   ]
  },
  {
   "cell_type": "code",
   "execution_count": 147,
   "metadata": {},
   "outputs": [
    {
     "name": "stdout",
     "output_type": "stream",
     "text": [
      "{('stem', 'cell', 'research', 'whitehous'): 2, ('stem', 'cell', 'enhanc', 'act'): 2, ('begin', 'bring', 'troop', 'home'): 2, ('bring', 'troop', 'home', 'iraq'): 2, ('senat', 'sheldon', 'whitehous', 'said'): 3, ('sheldon', 'whitehous', 'said', 'today'): 3, ('member', 'senat', 'select', 'committe'): 2, ('senat', 'select', 'committe', 'intellig'): 2, ('take', 'respons', 'secur', 'govern'): 2, ('senat', 'jack', 'reed', 'sheldon'): 2, ('jack', 'reed', 'sheldon', 'whitehous'): 3, ('whitehous', 'welcom', 'rhode', 'island'): 2, ('portugues', 'american', 'citizen', 'rhode'): 2, ('american', 'citizen', 'rhode', 'island'): 2}\n"
     ]
    }
   ],
   "source": [
    "Ngrams = nltk.ngrams(whReleases['normalized_tokens'].sum(), 4)\n",
    "Counts = {}\n",
    "for ngram in list(Ngrams):\n",
    "    if ngram in Counts.keys():\n",
    "        Counts[ngram] += 1\n",
    "    else:\n",
    "        Counts[ngram] = 1\n",
    "Filtered = {}\n",
    "for key in Counts.keys():\n",
    "    if Counts[key] < 2:\n",
    "        pass\n",
    "    else:\n",
    "        Filtered[key] = Counts[key]\n",
    "print(Filtered)"
   ]
  },
  {
   "cell_type": "markdown",
   "metadata": {},
   "source": [
    "## <span style=\"color:red\">*Exercise 3*</span>\n",
    "\n",
    "<span style=\"color:red\">Construct cells immediately below this that identify statistically significant bigrams, trigrams, quadgrams, higher-order *n*grams and skipgrams. Explore whether these collocations are idiomatic and so irreducible to the semantic sum of their component words. You can do this by examination of conditional frequencies (e.g., what else is 'united' besides the 'United States'). If these phrases are idiomatic, what do they suggest about the culture of the world producing them?\n",
    "\n",
    "<span style=\"color:red\">**Stretch**: In Manning and Schütze's textbook, there Section 5.3.2 explores how to use the *t*-test to find words whose co-occurance patterns best distinguish two words. Implement that and use it to explore phrases in your corpus. For instance, you could tell what words come after \"America\" much more often than after \"Iraq\"?</span> "
   ]
  },
  {
   "cell_type": "code",
   "execution_count": 40,
   "metadata": {},
   "outputs": [
    {
     "name": "stdout",
     "output_type": "stream",
     "text": [
      "There are 593999 bigrams in the finder\n"
     ]
    }
   ],
   "source": [
    "hpBigrams = nltk.collocations.BigramCollocationFinder.from_words(hpBook['normalized_tokens'].sum())\n",
    "print(\"There are {} bigrams in the finder\".format(hpBigrams.N))"
   ]
  },
  {
   "cell_type": "code",
   "execution_count": 41,
   "metadata": {
    "scrolled": true
   },
   "outputs": [
    {
     "name": "stdout",
     "output_type": "stream",
     "text": [
      "[('said', 'harri'), ('said', 'ron'), ('said', 'hermion'), ('ron', 'hermion'), ('harri', 'wa'), ('hi', 'wand'), ('harri', 'said'), ('harri', 'ron'), ('said', 'dumbledor'), ('hi', 'eye')]\n"
     ]
    }
   ],
   "source": [
    "def bigramScoring(count, wordsTuple, total):\n",
    "    return count\n",
    "\n",
    "print(hpBigrams.nbest(bigramScoring, 10))"
   ]
  },
  {
   "cell_type": "markdown",
   "metadata": {},
   "source": [
    "One note about how `BigramCollocationFinder` works. It doesn't use the strings internally."
   ]
  },
  {
   "cell_type": "code",
   "execution_count": 42,
   "metadata": {},
   "outputs": [
    {
     "name": "stdout",
     "output_type": "stream",
     "text": [
      "The first word is:  18167, The second word is: 1164\n",
      "The first word is:  1164, The second word is: 36\n",
      "The first word is:  36, The second word is: 411\n",
      "The first word is:  411, The second word is: 30\n",
      "The first word is:  30, The second word is: 19\n",
      "The first word is:  19, The second word is: 20\n",
      "The first word is:  20, The second word is: 13\n",
      "The first word is:  13, The second word is: 157\n",
      "The first word is:  157, The second word is: 9\n",
      "The first word is:  9, The second word is: 565\n"
     ]
    }
   ],
   "source": [
    "birgramScores = []\n",
    "\n",
    "def bigramPrinting(count, wordsTuple, total):\n",
    "    global birgramScores\n",
    "    birgramScores.append(\"The first word is:  {}, The second word is: {}\".format(*wordsTuple))\n",
    "    #Returns None so all the tuples are considered to have the same rank\n",
    "\n",
    "hpBigrams.nbest(bigramPrinting, 10)\n",
    "print('\\n'.join(birgramScores[:10]))"
   ]
  },
  {
   "cell_type": "code",
   "execution_count": 43,
   "metadata": {
    "scrolled": true
   },
   "outputs": [
    {
     "data": {
      "text/plain": [
       "[(('death', 'eater'), 7335.92248061874),\n",
       " (('uncl', 'vernon'), 6366.083715972587),\n",
       " (('professor', 'mcgonagal'), 6294.3011262987075),\n",
       " (('said', 'harri'), 6006.814759778711),\n",
       " (('said', 'ron'), 5098.117076798313),\n",
       " (('fred', 'georg'), 4057.110146230993),\n",
       " (('said', 'hermion'), 3859.210953327987),\n",
       " (('aunt', 'petunia'), 3229.3365503539235),\n",
       " (('hi', 'wand'), 3021.70164533359),\n",
       " (('ron', 'hermion'), 2871.2124116268687),\n",
       " (('common', 'room'), 2608.989706935989),\n",
       " (('hi', 'eye'), 2262.916400981219),\n",
       " (('invis', 'cloak'), 2246.825641077301),\n",
       " (('crabb', 'goyl'), 2237.5798487303764),\n",
       " (('hi', 'head'), 2217.2426617543492),\n",
       " (('madam', 'pomfrey'), 2217.2046841672523),\n",
       " (('professor', 'trelawney'), 2216.9724167026834),\n",
       " (('daili', 'prophet'), 2202.3194889222323),\n",
       " (('dark', 'art'), 2023.8710804789043),\n",
       " (('great', 'hall'), 1970.5681659142879),\n",
       " (('look', 'around'), 1876.85360727423),\n",
       " (('hi', 'hand'), 1874.0969073636184),\n",
       " (('said', 'dumbledor'), 1688.3996320789176),\n",
       " (('entranc', 'hall'), 1676.0181343794357),\n",
       " (('could', 'see'), 1636.3187775469842),\n",
       " (('rita', 'skeeter'), 1622.721596410805),\n",
       " (('dark', 'lord'), 1524.0947054804135),\n",
       " (('prime', 'minist'), 1512.070714471358),\n",
       " (('hi', 'feet'), 1491.6701166236705),\n",
       " (('privet', 'drive'), 1473.8856445928318),\n",
       " (('hi', 'face'), 1453.6052844845117),\n",
       " (('hospit', 'wing'), 1442.3346484715573),\n",
       " (('madam', 'maxim'), 1400.6294918240717),\n",
       " (('harri', 'potter'), 1301.964105376271),\n",
       " (('could', 'hear'), 1296.7867972255406),\n",
       " (('ministri', 'magic'), 1234.628102493257),\n",
       " (('lord', 'voldemort'), 1229.8865906400144),\n",
       " (('defens', 'dark'), 1200.0881132005159),\n",
       " (('headless', 'nick'), 1149.8798413255288),\n",
       " (('professor', 'umbridg'), 1134.8475319184602)]"
      ]
     },
     "execution_count": 43,
     "metadata": {},
     "output_type": "execute_result"
    }
   ],
   "source": [
    "bigram_measures = nltk.collocations.BigramAssocMeasures()\n",
    "hpBigrams.score_ngrams(bigram_measures.likelihood_ratio)[:40]\n",
    "# other options include student_t, chi_sq, likelihood_ratio, pmi"
   ]
  },
  {
   "cell_type": "markdown",
   "metadata": {},
   "source": [
    "Trigrams"
   ]
  },
  {
   "cell_type": "code",
   "execution_count": 44,
   "metadata": {},
   "outputs": [
    {
     "data": {
      "text/plain": [
       "[(('harri', 'ron', 'hermion'), 15.987383128690025),\n",
       " (('said', 'professor', 'mcgonagal'), 12.445507252446388),\n",
       " (('defens', 'dark', 'art'), 10.770316533436857),\n",
       " (('harri', 'could', 'see'), 10.742201389767352),\n",
       " (('yeah', 'said', 'harri'), 10.48552787206404),\n",
       " (('rais', 'hi', 'wand'), 9.793909047947345),\n",
       " (('harri', 'look', 'around'), 9.680393915013402),\n",
       " (('shook', 'hi', 'head'), 9.217871344814876),\n",
       " (('ye', 'said', 'harri'), 9.037646722675282),\n",
       " (('said', 'ron', 'look'), 9.007052115306577),\n",
       " (('said', 'hermion', 'look'), 8.521344241515205),\n",
       " (('right', 'said', 'harri'), 8.51813784614707),\n",
       " (('nearli', 'headless', 'nick'), 8.426148440732337),\n",
       " (('point', 'hi', 'wand'), 8.237321996890504),\n",
       " (('open', 'hi', 'eye'), 7.987835779244232),\n",
       " (('harri', 'said', 'hermion'), 7.961664297310907),\n",
       " (('got', 'hi', 'feet'), 7.929163563800131),\n",
       " (('said', 'harri', 'quickli'), 7.89693794901704),\n",
       " (('said', 'uncl', 'vernon'), 7.872632987138715),\n",
       " (('harri', 'wa', 'sure'), 7.324650183761061)]"
      ]
     },
     "execution_count": 44,
     "metadata": {},
     "output_type": "execute_result"
    }
   ],
   "source": [
    "trigram_measures = nltk.collocations.TrigramAssocMeasures()\n",
    "hpTrigrams = nltk.collocations.TrigramCollocationFinder.from_words(hpBook['normalized_tokens'].sum())\n",
    "hpTrigrams.score_ngrams(trigram_measures.student_t)[:20]"
   ]
  },
  {
   "cell_type": "markdown",
   "metadata": {},
   "source": [
    "Or n-grams (for any number n)"
   ]
  },
  {
   "cell_type": "code",
   "execution_count": 45,
   "metadata": {},
   "outputs": [
    {
     "name": "stdout",
     "output_type": "stream",
     "text": [
      "{('harri', 'potter', 'sorcer', 'stone'): 2, ('potter', 'sorcer', 'stone', 'rowl'): 2, ('rowl', 'illustr', 'mari', 'grandpré'): 13, ('illustr', 'mari', 'grandpré', 'arthur'): 7, ('mari', 'grandpré', 'arthur', 'levin'): 7, ('grandpré', 'arthur', 'levin', 'book'): 7, ('arthur', 'levin', 'book', 'imprint'): 9, ('levin', 'book', 'imprint', 'scholast'): 9, ('book', 'imprint', 'scholast', 'press'): 7, ('text', 'copyright', 'rowl', 'illustr'): 7, ('copyright', 'rowl', 'illustr', 'mari'): 7, ('illustr', 'mari', 'grandpré', 'copyright'): 6, ('mari', 'grandpré', 'copyright', 'warner'): 6, ('grandpré', 'copyright', 'warner', 'right'): 3, ('copyright', 'warner', 'right', 'reserv'): 4, ('warner', 'right', 'reserv', 'publish'): 4, ('right', 'reserv', 'publish', 'scholast'): 5, ('reserv', 'publish', 'scholast', 'press'): 5, ('publish', 'scholast', 'press', 'divis'): 5, ('scholast', 'press', 'divis', 'scholast'): 5, ('press', 'divis', 'scholast', 'publish'): 5, ('divis', 'scholast', 'publish', 'sinc'): 5, ('scholast', 'publish', 'sinc', 'scholast'): 7, ('publish', 'sinc', 'scholast', 'scholast'): 5, ('sinc', 'scholast', 'scholast', 'press'): 5, ('scholast', 'scholast', 'press', 'lantern'): 5, ('scholast', 'press', 'lantern', 'logo'): 5, ('press', 'lantern', 'logo', 'trademark'): 5, ('lantern', 'logo', 'trademark', 'regist'): 5, ('logo', 'trademark', 'regist', 'trademark'): 7, ('trademark', 'regist', 'trademark', 'scholast'): 7, ('regist', 'trademark', 'scholast', 'harri'): 4, ('trademark', 'scholast', 'harri', 'potter'): 4, ('scholast', 'harri', 'potter', 'relat'): 3, ('harri', 'potter', 'relat', 'charact'): 4, ('potter', 'relat', 'charact', 'element'): 4, ('relat', 'charact', 'element', 'trademark'): 3, ('charact', 'element', 'trademark', 'warner'): 3, ('element', 'trademark', 'warner', 'part'): 3, ('trademark', 'warner', 'part', 'thi'): 3, ('warner', 'part', 'thi', 'public'): 3, ('part', 'thi', 'public', 'may'): 7, ('thi', 'public', 'may', 'reproduc'): 7, ('public', 'may', 'reproduc', 'store'): 7, ('may', 'reproduc', 'store', 'retriev'): 7, ('reproduc', 'store', 'retriev', 'system'): 7, ('store', 'retriev', 'system', 'transmit'): 7, ('retriev', 'system', 'transmit', 'ani'): 7, ('system', 'transmit', 'ani', 'form'): 7, ('transmit', 'ani', 'form', 'ani'): 7, ('ani', 'form', 'ani', 'mean'): 7, ('form', 'ani', 'mean', 'electron'): 7, ('ani', 'mean', 'electron', 'mechan'): 7, ('mean', 'electron', 'mechan', 'photocopi'): 7, ('electron', 'mechan', 'photocopi', 'record'): 7, ('mechan', 'photocopi', 'record', 'otherwis'): 7, ('photocopi', 'record', 'otherwis', 'without'): 7, ('record', 'otherwis', 'without', 'written'): 7, ('otherwis', 'without', 'written', 'permiss'): 7, ('without', 'written', 'permiss', 'publish'): 7, ('written', 'permiss', 'publish', 'inform'): 7, ('permiss', 'publish', 'inform', 'regard'): 7, ('publish', 'inform', 'regard', 'permiss'): 7, ('inform', 'regard', 'permiss', 'write'): 7, ('regard', 'permiss', 'write', 'scholast'): 7, ('permiss', 'write', 'scholast', 'attent'): 7, ('write', 'scholast', 'attent', 'permiss'): 7, ('scholast', 'attent', 'permiss', 'depart'): 7, ('attent', 'permiss', 'depart', 'broadway'): 7, ('permiss', 'depart', 'broadway', 'new'): 7, ('depart', 'broadway', 'new', 'york'): 7, ('broadway', 'new', 'york', 'ny'): 7, ('new', 'york', 'ny', 'librari'): 7, ('york', 'ny', 'librari', 'congress'): 7, ('ny', 'librari', 'congress', 'data'): 5, ('librari', 'congress', 'data', 'rowl'): 3, ('congress', 'data', 'rowl', 'harri'): 3, ('data', 'rowl', 'harri', 'potter'): 3, ('attend', 'hogwart', 'school', 'witchcraft'): 2, ('hogwart', 'school', 'witchcraft', 'wizardri'): 21, ('fiction', 'school', 'fiction', 'england'): 2, ('school', 'fiction', 'england', 'fiction'): 2, ('fiction', 'england', 'fiction', 'titl'): 2, ('england', 'fiction', 'titl', 'fic'): 2, ('fiction', 'titl', 'fic', 'print'): 2, ('titl', 'fic', 'print', 'first'): 2, ('fic', 'print', 'first', 'american'): 2, ('print', 'first', 'american', 'edit'): 5, ('first', 'american', 'edit', 'octob'): 2, ('american', 'edit', 'octob', 'chapter'): 2, ('number', 'four', 'privet', 'drive'): 13, ('thank', 'veri', 'much', 'last'): 2, ('think', 'neighbor', 'would', 'say'): 2, ('wa', 'veri', 'good', 'mood'): 2, ('hi', 'face', 'split', 'wide'): 2, ('face', 'split', 'wide', 'smile'): 2, ('ask', 'oh', 'ye', 'said'): 3, ('pop', 'click', 'next', 'lamp'): 2, ('know', 'said', 'professor', 'mcgonagal'): 4, ('said', 'professor', 'mcgonagal', 'irrit'): 2, ('said', 'professor', 'mcgonagal', 'coldli'): 2, ('dumbledor', 'bow', 'hi', 'head'): 2, ('hi', 'head', 'professor', 'mcgonagal'): 2, ('onli', 'guess', 'said', 'dumbledor'): 2, ('ye', 'said', 'professor', 'mcgonagal'): 5, ('said', 'professor', 'mcgonagal', 'suppos'): 2, ('two', 'peopl', 'less', 'like'): 2, ('hi', 'aunt', 'uncl', 'abl'): 2, ('world', 'know', 'hi', 'name'): 2, ('said', 'dumbledor', 'look', 'veri'): 2, ('dumbledor', 'look', 'veri', 'serious'): 2, ('twice', 'tall', 'normal', 'man'): 2, ('tall', 'normal', 'man', 'least'): 2, ('hi', 'forehead', 'could', 'see'): 2, ('hi', 'great', 'shaggi', 'head'): 4, ('step', 'low', 'garden', 'wall'): 2, ('wipe', 'hi', 'stream', 'eye'): 2, ('hi', 'stream', 'eye', 'hi'): 2, ('professor', 'mcgonagal', 'blew', 'nose'): 2, ('street', 'lamp', 'privet', 'drive'): 2, ('swish', 'hi', 'cloak', 'wa'): 2, ('hi', 'aunt', 'petunia', 'wa'): 2, ('roll', 'onto', 'hi', 'back'): 3, ('nearli', 'said', 'harri', 'well'): 2, ('small', 'skinni', 'hi', 'age'): 2, ('scar', 'hi', 'forehead', 'wa'): 3, ('hi', 'forehead', 'wa', 'shape'): 2, ('forehead', 'wa', 'shape', 'like'): 2, ('wa', 'shape', 'like', 'bolt'): 2, ('shape', 'like', 'bolt', 'lightn'): 3, ('like', 'uncl', 'vernon', 'larg'): 2, ('often', 'said', 'dudley', 'look'): 2, ('said', 'dudley', 'look', 'like'): 2, ('sweetum', 'said', 'aunt', 'petunia'): 2, ('said', 'aunt', 'petunia', 'dudley'): 2, ('aunt', 'petunia', 'came', 'back'): 2, ('mouth', 'fell', 'open', 'horror'): 2, ('aunt', 'petunia', 'look', 'though'): 2, ('half', 'hour', 'later', 'harri'): 4, ('first', 'time', 'hi', 'life'): 13, ('hi', 'larg', 'purpl', 'face'): 2, ('strang', 'thing', 'often', 'happen'): 2, ('thing', 'often', 'happen', 'around'): 2, ('often', 'happen', 'around', 'harri'): 2, ('wa', 'go', 'go', 'wrong'): 3, ('uncl', 'vernon', 'nearli', 'crash'): 2, ('vernon', 'nearli', 'crash', 'car'): 2, ('know', 'said', 'harri', 'wa'): 2, ('said', 'harri', 'wa', 'onli'): 3, ('hi', 'nose', 'press', 'glass'): 2, ('blind', 'flash', 'green', 'light'): 2, ('aunt', 'petunia', 'burst', 'tear'): 2, ('wa', 'full', 'look', 'like'): 3, ('like', 'everyon', 'els', 'harri'): 2, ('uncl', 'vernon', 'open', 'hi'): 2, ('dudley', 'said', 'uncl', 'vernon'): 2, ('uncl', 'vernon', 'sister', 'marg'): 2, ('privet', 'drive', 'littl', 'whing'): 3, ('drive', 'littl', 'whing', 'surrey'): 3, ('coat', 'arm', 'lion', 'eagl'): 2, ('arm', 'lion', 'eagl', 'badger'): 2, ('lion', 'eagl', 'badger', 'snake'): 2, ('hi', 'hand', 'uncl', 'vernon'): 2, ('moment', 'look', 'though', 'might'): 2, ('look', 'though', 'might', 'faint'): 2, ('dudley', 'roar', 'uncl', 'vernon'): 3, ('someth', 'never', 'done', 'befor'): 2, ('uncl', 'vernon', 'aunt', 'petunia'): 22, ('like', 'said', 'uncl', 'vernon'): 2, ('said', 'uncl', 'vernon', 'tri'): 2, ('look', 'tire', 'rather', 'ill'): 2, ('never', 'gone', 'long', 'without'): 2, ('shook', 'hi', 'head', 'got'): 2, ('pair', 'uncl', 'vernon', 'old'): 3, ('uncl', 'vernon', 'old', 'sock'): 4, ('one', 'thing', 'wa', 'certain'): 2, ('harri', 'sat', 'bolt', 'upright'): 2, ('man', 'wa', 'stand', 'doorway'): 2, ('face', 'wa', 'complet', 'hidden'): 2, ('said', 'rub', 'hi', 'hand'): 2, ('start', 'make', 'tea', 'soon'): 2, ('wipe', 'hi', 'mouth', 'back'): 3, ('hi', 'mouth', 'back', 'hi'): 3, ('mouth', 'back', 'hi', 'hand'): 3, ('said', 'harri', 'hagrid', 'look'): 3, ('yeh', 'even', 'know', 'abou'): 2, ('leapt', 'hi', 'feet', 'hi'): 2, ('harri', 'thought', 'thi', 'wa'): 2, ('uncl', 'vernon', 'gone', 'veri'): 2, ('harri', 'stretch', 'hi', 'hand'): 4, ('read', 'hogwart', 'school', 'witchcraft'): 2, ('order', 'merlin', 'first', 'class'): 7, ('clap', 'hand', 'hi', 'forehead'): 2, ('long', 'quill', 'roll', 'parchment'): 2, ('hi', 'tongu', 'hi', 'teeth'): 3, ('hi', 'mouth', 'wa', 'open'): 3, ('great', 'muggl', 'like', 'stop'): 2, ('dumbledor', 'onli', 'one', 'wa'): 2, ('handkerchief', 'blew', 'hi', 'nose'): 2, ('said', 'uncl', 'vernon', 'harri'): 4, ('say', 'die', 'codswallop', 'opinion'): 2, ('die', 'codswallop', 'opinion', 'dunno'): 2, ('codswallop', 'opinion', 'dunno', 'enough'): 2, ('opinion', 'dunno', 'enough', 'human'): 2, ('dunno', 'enough', 'human', 'left'): 2, ('aunt', 'petunia', 'uncl', 'vernon'): 10, ('turn', 'hi', 'back', 'harri'): 2, ('curli', 'pig', 'tail', 'poke'): 2, ('cast', 'sideway', 'look', 'harri'): 2, ('ask', 'harri', 'oh', 'well'): 2, ('ter', 'tell', 'yeh', 'truth'): 4, ('got', 'ta', 'get', 'ter'): 2, ('harri', 'woke', 'earli', 'next'): 2, ('woke', 'earli', 'next', 'morn'): 2, ('harri', 'scrambl', 'hi', 'feet'): 5, ('hagrid', 'said', 'harri', 'loudli'): 3, ('yeh', 'mad', 'ter', 'tri'): 3, ('mad', 'ter', 'tri', 'rob'): 3, ('harri', 'ask', 'look', 'around'): 2, ('uncl', 'vernon', 'peopl', 'like'): 2, ('standard', 'book', 'spell', 'grade'): 12, ('book', 'spell', 'grade', 'miranda'): 4, ('spell', 'grade', 'miranda', 'goshawk'): 4, ('histori', 'magic', 'bathilda', 'bagshot'): 4, ('one', 'thousand', 'magic', 'herb'): 3, ('thousand', 'magic', 'herb', 'fungi'): 4, ('seem', 'know', 'wa', 'go'): 2, ('know', 'wa', 'go', 'wa'): 2, ('magic', 'wand', 'thi', 'wa'): 2, ('next', 'moment', 'harri', 'found'): 3, ('seen', 'befor', 'said', 'harri'): 2, ('one', 'hi', 'eye', 'wa'): 2, ('harri', 'head', 'wa', 'swim'): 2, ('head', 'wa', 'swim', 'hagrid'): 2, ('archway', 'onto', 'cobbl', 'street'): 2, ('new', 'nimbu', 'two', 'thousand'): 3, ('harri', 'never', 'seen', 'befor'): 6, ('seek', 'beneath', 'floor', 'treasur'): 2, ('beneath', 'floor', 'treasur', 'wa'): 2, ('floor', 'treasur', 'wa', 'never'): 2, ('treasur', 'wa', 'never', 'thief'): 2, ('wa', 'never', 'thief', 'warn'): 2, ('never', 'thief', 'warn', 'bewar'): 2, ('like', 'said', 'yeh', 'mad'): 2, ('said', 'yeh', 'mad', 'ter'): 2, ('professor', 'dumbledor', 'said', 'hagrid'): 2, ('n', 'job', 'worth', 'ter'): 2, ('job', 'worth', 'ter', 'tell'): 2, ('worth', 'ter', 'tell', 'yeh'): 2, ('vault', 'seven', 'hundr', 'thirteen'): 4, ('madam', 'malkin', 'robe', 'occas'): 3, ('boy', 'pale', 'point', 'face'): 2, ('pale', 'point', 'face', 'wa'): 3, ('hi', 'long', 'black', 'robe'): 2, ('yet', 'said', 'harri', 'feel'): 2, ('said', 'harri', 'wish', 'could'): 2, ('said', 'harri', 'wa', 'like'): 2, ('befor', 'harri', 'could', 'answer'): 3, ('pale', 'boy', 'madam', 'malkin'): 2, ('harri', 'felt', 'go', 'red'): 2, ('twenti', 'minut', 'later', 'left'): 2, ('said', 'soft', 'voic', 'harri'): 2, ('soft', 'voic', 'harri', 'jump'): 2, ('harri', 'could', 'see', 'reflect'): 2, ('lightn', 'scar', 'harri', 'forehead'): 3, ('shook', 'hi', 'head', 'harri'): 5, ('wand', 'felt', 'sudden', 'warmth'): 2, ('felt', 'sudden', 'warmth', 'hi'): 2, ('sudden', 'warmth', 'hi', 'finger'): 2, ('red', 'gold', 'spark', 'shot'): 2, ('gold', 'spark', 'shot', 'end'): 3, ('box', 'wrap', 'brown', 'paper'): 2, ('harri', 'kept', 'look', 'around'): 2, ('press', 'hi', 'nose', 'window'): 2, ('night', 'befor', 'went', 'sleep'): 2, ('wa', 'go', 'back', 'upstair'): 2, ('back', 'upstair', 'uncl', 'vernon'): 2, ('harri', 'say', 'anyth', 'thi'): 3, ('platform', 'nine', 'eleven', 'clock'): 2, ('harri', 'ask', 'tri', 'keep'): 2, ('wa', 'quit', 'right', 'cours'): 2, ('quit', 'right', 'cours', 'wa'): 2, ('without', 'anoth', 'word', 'harri'): 4, ('tap', 'third', 'brick', 'left'): 2, ('harri', 'push', 'hi', 'cart'): 2, ('platform', 'nine', 'ten', 'harri'): 2, ('barrier', 'platform', 'nine', 'ten'): 6, ('er', 'okay', 'said', 'harri'): 2, ('said', 'harri', 'push', 'hi'): 3, ('wa', 'come', 'nearer', 'nearer'): 2, ('scarlet', 'steam', 'engin', 'wa'): 2, ('hi', 'nose', 'wa', 'still'): 2, ('train', 'began', 'move', 'harri'): 2, ('door', 'compart', 'slid', 'open'): 3, ('harri', 'shook', 'hi', 'head'): 25, ('one', 'fred', 'georg', 'joke'): 2, ('harri', 'pull', 'back', 'hi'): 2, ('said', 'ron', 'eagerli', 'well'): 3, ('ron', 'ear', 'went', 'pink'): 3, ('peopl', 'come', 'muggl', 'famili'): 2, ('berti', 'bott', 'everi', 'flavor'): 7, ('bott', 'everi', 'flavor', 'bean'): 7, ('droobl', 'best', 'blow', 'gum'): 4, ('said', 'ron', 'got', 'much'): 2, ('consid', 'mani', 'greatest', 'wizard'): 2, ('dumbledor', 'particularli', 'famou', 'hi'): 2, ('particularli', 'famou', 'hi', 'defeat'): 2, ('famou', 'hi', 'defeat', 'dark'): 2, ('hi', 'defeat', 'dark', 'wizard'): 2, ('defeat', 'dark', 'wizard', 'grindelwald'): 2, ('dark', 'wizard', 'grindelwald', 'discoveri'): 2, ('wizard', 'grindelwald', 'discoveri', 'twelv'): 2, ('grindelwald', 'discoveri', 'twelv', 'use'): 2, ('discoveri', 'twelv', 'use', 'dragon'): 3, ('twelv', 'use', 'dragon', 'blood'): 4, ('use', 'dragon', 'blood', 'hi'): 2, ('dragon', 'blood', 'hi', 'work'): 2, ('blood', 'hi', 'work', 'alchemi'): 2, ('hi', 'work', 'alchemi', 'hi'): 2, ('work', 'alchemi', 'hi', 'partner'): 2, ('alchemi', 'hi', 'partner', 'nicola'): 2, ('hi', 'partner', 'nicola', 'flamel'): 2, ('saw', 'hi', 'astonish', 'dumbledor'): 2, ('tore', 'hi', 'eye', 'away'): 4, ('said', 'harri', 'ye', 'said'): 4, ('compart', 'door', 'slid', 'open'): 4, ('wa', 'back', 'thi', 'time'): 2, ('bushi', 'brown', 'hair', 'rather'): 2, ('brown', 'hair', 'rather', 'larg'): 2, ('hair', 'rather', 'larg', 'front'): 2, ('rather', 'larg', 'front', 'teeth'): 2, ('ron', 'look', 'taken', 'aback'): 2, ('hi', 'wand', 'noth', 'happen'): 3, ('learn', 'cours', 'book', 'heart'): 2, ('harri', 'look', 'ron', 'wa'): 3, ('rise', 'fall', 'dark', 'art'): 2, ('hi', 'wand', 'back', 'hi'): 10, ('charli', 'romania', 'studi', 'dragon'): 2, ('romania', 'studi', 'dragon', 'bill'): 2, ('someth', 'like', 'thi', 'happen'): 5, ('madam', 'malkin', 'robe', 'shop'): 2, ('ye', 'said', 'harri', 'wa'): 4, ('said', 'harri', 'wa', 'look'): 3, ('harri', 'wa', 'look', 'name'): 2, ('hang', 'around', 'riffraff', 'like'): 2, ('ron', 'said', 'harri', 'look'): 2, ('us', 'said', 'ron', 'scowl'): 2, ('push', 'way', 'toward', 'door'): 2, ('fir', 'year', 'fir', 'year'): 2, ('hagrid', 'big', 'hairi', 'face'): 2, ('boy', 'kept', 'lose', 'hi'): 2, ('kept', 'lose', 'hi', 'toad'): 2, ('edg', 'great', 'black', 'lake'): 2, ('fist', 'knock', 'three', 'time'): 2, ('knock', 'three', 'time', 'door'): 2, ('harri', 'first', 'thought', 'wa'): 2, ('harri', 'heart', 'gave', 'horribl'): 2, ('heart', 'gave', 'horribl', 'jolt'): 2, ('expect', 'someth', 'like', 'thi'): 2, ('kept', 'hi', 'eye', 'fix'): 4, ('doubl', 'door', 'great', 'hall'): 2, ('door', 'great', 'hall', 'harri'): 2, ('came', 'halt', 'line', 'face'): 2, ('look', 'like', 'sky', 'outsid'): 2, ('wa', 'hard', 'believ', 'wa'): 2, ('hat', 'wa', 'patch', 'fray'): 2, ('rip', 'near', 'brim', 'open'): 2, ('near', 'brim', 'open', 'wide'): 2, ('brim', 'open', 'wide', 'like'): 3, ('open', 'wide', 'like', 'mouth'): 3, ('wide', 'like', 'mouth', 'hat'): 2, ('gryffindor', 'dwell', 'brave', 'heart'): 2, ('dare', 'nerv', 'chivalri', 'set'): 2, ('nerv', 'chivalri', 'set', 'gryffindor'): 2, ('chivalri', 'set', 'gryffindor', 'apart'): 2, ('parchment', 'call', 'name', 'put'): 2, ('call', 'name', 'put', 'hat'): 2, ('name', 'put', 'hat', 'sit'): 2, ('put', 'hat', 'sit', 'stool'): 2, ('cheer', 'harri', 'could', 'see'): 2, ('almost', 'whole', 'minut', 'befor'): 2, ('hi', 'friend', 'crabb', 'goyl'): 2, ('black', 'insid', 'hat', 'wait'): 2, ('small', 'voic', 'hi', 'ear'): 2, ('could', 'great', 'know', 'head'): 2, ('great', 'know', 'head', 'slytherin'): 2, ('help', 'way', 'great', 'doubt'): 2, ('well', 'sure', 'better', 'gryffindor'): 2, ('got', 'potter', 'got', 'potter'): 2, ('shout', 'gryffindor', 'harri', 'clap'): 2, ('gryffindor', 'harri', 'clap', 'loudli'): 2, ('harri', 'clap', 'loudli', 'rest'): 2, ('dumbledor', 'gotten', 'hi', 'feet'): 3, ('gotten', 'hi', 'feet', 'wa'): 2, ('student', 'hi', 'arm', 'open'): 2, ('hi', 'arm', 'open', 'wide'): 3, ('would', 'like', 'say', 'word'): 2, ('harri', 'know', 'whether', 'laugh'): 2, ('harri', 'mouth', 'fell', 'open'): 5, ('began', 'eat', 'wa', 'delici'): 2, ('nearli', 'headless', 'nick', 'flip'): 2, ('hi', 'head', 'back', 'onto'): 3, ('head', 'back', 'onto', 'hi'): 3, ('back', 'onto', 'hi', 'neck'): 2, ('harri', 'look', 'slytherin', 'tabl'): 3, ('malfoy', 'harri', 'wa', 'pleas'): 2, ('harri', 'wa', 'pleas', 'see'): 8, ('wa', 'pleas', 'see', 'look'): 2, ('said', 'nearli', 'headless', 'nick'): 23, ('fade', 'plate', 'leav', 'sparkl'): 2, ('plate', 'leav', 'sparkl', 'clean'): 2, ('harri', 'wa', 'start', 'feel'): 3, ('drink', 'deepli', 'hi', 'goblet'): 2, ('wa', 'talk', 'professor', 'dumbledor'): 2, ('dumbledor', 'got', 'hi', 'feet'): 8, ('peev', 'stuck', 'hi', 'tongu'): 2, ('veri', 'fat', 'woman', 'pink'): 2, ('fat', 'woman', 'pink', 'silk'): 2, ('woman', 'pink', 'silk', 'dress'): 2, ('pink', 'silk', 'dress', 'password'): 3, ('silk', 'dress', 'password', 'said'): 3, ('portrait', 'swung', 'forward', 'reveal'): 2, ('ron', 'mutter', 'harri', 'get'): 2, ('fell', 'asleep', 'almost', 'onc'): 2, ('veri', 'strang', 'dream', 'wa'): 2, ('burst', 'green', 'light', 'harri'): 2, ('rememb', 'jump', 'door', 'open'): 2, ('nearli', 'headless', 'nick', 'wa'): 4, ('professor', 'flitwick', 'charm', 'teacher'): 4, ('flitwick', 'charm', 'teacher', 'wa'): 2, ('wa', 'tini', 'littl', 'wizard'): 2, ('harri', 'wa', 'veri', 'reliev'): 2, ('said', 'harri', 'professor', 'wa'): 2, ('wa', 'head', 'gryffindor', 'hous'): 2, ('great', 'hall', 'dure', 'breakfast'): 2, ('potion', 'lesson', 'took', 'place'): 2, ('lesson', 'took', 'place', 'one'): 2, ('harri', 'glanc', 'ron', 'look'): 2, ('hermion', 'hand', 'shot', 'air'): 3, ('said', 'harri', 'quietli', 'think'): 2, ('stone', 'taken', 'stomach', 'goat'): 2, ('hi', 'long', 'black', 'cloak'): 3, ('whole', 'class', 'wa', 'stand'): 2, ('harri', 'open', 'hi', 'mouth'): 8, ('open', 'hi', 'mouth', 'argu'): 2, ('harri', 'mind', 'wa', 'race'): 3, ('said', 'hagrid', 'let', 'go'): 2, ('rest', 'hi', 'head', 'harri'): 2, ('hi', 'head', 'harri', 'knee'): 2, ('harri', 'knee', 'drool', 'hi'): 2, ('knee', 'drool', 'hi', 'robe'): 2, ('hi', 'robe', 'harri', 'ron'): 2, ('vault', 'wa', 'search', 'fact'): 2, ('wa', 'search', 'fact', 'empti'): 2, ('harri', 'ron', 'walk', 'back'): 2, ('feet', 'harri', 'saw', 'hi'): 2, ('pansi', 'parkinson', 'slytherin', 'girl'): 3, ('malfoy', 'said', 'harri', 'quietli'): 2, ('wa', 'pound', 'hi', 'ear'): 2, ('air', 'rush', 'hi', 'hair'): 2, ('hi', 'hair', 'hi', 'robe'): 2, ('oh', 'yeah', 'said', 'malfoy'): 2, ('wind', 'whistl', 'hi', 'ear'): 2, ('got', 'hi', 'feet', 'trembl'): 2, ('slam', 'door', 'behind', 'turn'): 2, ('said', 'professor', 'mcgonagal', 'crispli'): 4, ('never', 'seen', 'anyth', 'like'): 2, ('wood', 'captain', 'gryffindor', 'team'): 2, ('shall', 'speak', 'professor', 'dumbledor'): 2, ('said', 'georg', 'low', 'voic'): 2, ('said', 'harri', 'said', 'ron'): 6, ('said', 'ron', 'push', 'open'): 2, ('push', 'open', 'portrait', 'fat'): 2, ('open', 'portrait', 'fat', 'ladi'): 2, ('slytherin', 'win', 'hous', 'cup'): 2, ('said', 'harri', 'fine', 'said'): 2, ('ron', 'look', 'hi', 'watch'): 2, ('harri', 'took', 'hi', 'wand'): 2, ('back', 'gryffindor', 'tower', 'said'): 3, ('run', 'fast', 'could', 'toward'): 2, ('click', 'door', 'swung', 'open'): 4, ('say', 'noth', 'say', 'pleas'): 2, ('harri', 'turn', 'around', 'saw'): 2, ('wa', 'stand', 'quit', 'still'): 2, ('harri', 'slam', 'door', 'shut'): 2, ('reach', 'portrait', 'fat', 'ladi'): 2, ('said', 'ron', 'said', 'harri'): 5, ('nimbu', 'two', 'thousand', 'ron'): 2, ('halfway', 'across', 'entranc', 'hall'): 2, ('befor', 'ron', 'could', 'answer'): 2, ('keep', 'hi', 'mind', 'hi'): 2, ('wa', 'lie', 'hi', 'bed'): 2, ('nimbu', 'two', 'thousand', 'last'): 2, ('mount', 'hi', 'broomstick', 'kick'): 3, ('hi', 'broomstick', 'kick', 'ground'): 2, ('wa', 'carri', 'larg', 'wooden'): 2, ('carri', 'larg', 'wooden', 'crate'): 2, ('throw', 'quaffl', 'tri', 'get'): 2, ('everi', 'time', 'quaffl', 'goe'): 2, ('never', 'mind', 'said', 'harri'): 9, ('mind', 'said', 'harri', 'quickli'): 4, ('said', 'harri', 'wa', 'determin'): 2, ('keeper', 'guard', 'goal', 'post'): 2, ('hi', 'team', 'extra', 'hundr'): 2, ('team', 'extra', 'hundr', 'fifti'): 2, ('wa', 'becaus', 'wa', 'busi'): 2, ('harri', 'could', 'hardli', 'believ'): 6, ('wa', 'hard', 'tell', 'whether'): 2, ('wa', 'veri', 'bad', 'mood'): 2, ('think', 'heard', 'said', 'ron'): 2, ('halloween', 'feast', 'harri', 'ron'): 2, ('good', 'idea', 'said', 'ron'): 3, ('harri', 'pull', 'door', 'open'): 2, ('ron', 'pull', 'hi', 'wand'): 6, ('rose', 'high', 'high', 'air'): 2, ('harri', 'got', 'hi', 'feet'): 21, ('hi', 'feet', 'wa', 'shake'): 2, ('ron', 'wa', 'stand', 'hi'): 2, ('hi', 'wand', 'still', 'rais'): 2, ('wand', 'still', 'rais', 'stare'): 2, ('think', 'said', 'harri', 'think'): 2, ('wa', 'cover', 'look', 'like'): 2, ('professor', 'mcgonagal', 'wa', 'look'): 2, ('harri', 'never', 'seen', 'look'): 2, ('look', 'ron', 'wa', 'still'): 2, ('wa', 'still', 'stand', 'hi'): 2, ('harri', 'stuck', 'hi', 'wand'): 2, ('well', 'case', 'said', 'professor'): 2, ('said', 'professor', 'mcgonagal', 'veri'): 3, ('enter', 'common', 'room', 'wa'): 2, ('common', 'room', 'wa', 'pack'): 2, ('harri', 'know', 'wa', 'wors'): 2, ('harri', 'ron', 'hermion', 'move'): 2, ('ron', 'hermion', 'move', 'closer'): 2, ('gryffindor', 'common', 'room', 'wa'): 7, ('common', 'room', 'wa', 'veri'): 2, ('even', 'harri', 'ron', 'hermion'): 3, ('harri', 'ron', 'hermion', 'sat'): 9, ('ron', 'hermion', 'sat', 'togeth'): 2, ('one', 'hi', 'leg', 'wa'): 2, ('befor', 'snape', 'could', 'take'): 2, ('take', 'ani', 'point', 'gryffindor'): 2, ('tri', 'get', 'past', 'dog'): 2, ('get', 'past', 'dog', 'halloween'): 2, ('harri', 'went', 'bed', 'hi'): 2, ('went', 'bed', 'hi', 'head'): 2, ('bed', 'hi', 'head', 'buzz'): 2, ('tri', 'empti', 'hi', 'mind'): 2, ('hi', 'first', 'quidditch', 'match'): 2, ('great', 'hall', 'wa', 'full'): 2, ('harri', 'follow', 'fred', 'georg'): 2, ('slytherin', 'captain', 'marcu', 'flint'): 2, ('corner', 'hi', 'eye', 'saw'): 3, ('onto', 'hi', 'nimbu', 'two'): 2, ('hi', 'nimbu', 'two', 'thousand'): 11, ('nimbu', 'two', 'thousand', 'madam'): 2, ('two', 'thousand', 'madam', 'hooch'): 2, ('weasley', 'twin', 'friend', 'lee'): 3, ('twin', 'friend', 'lee', 'jordan'): 3, ('hit', 'back', 'head', 'bludger'): 2, ('lee', 'jordan', 'wa', 'say'): 2, ('split', 'second', 'thought', 'wa'): 2, ('toward', 'gryffindor', 'goal', 'post'): 2, ('said', 'hi', 'voic', 'shake'): 2, ('hi', 'eye', 'fix', 'harri'): 2, ('could', 'say', 'anoth', 'word'): 7, ('five', 'minut', 'harri', 'wa'): 2, ('wa', 'speed', 'toward', 'ground'): 2, ('clap', 'hi', 'hand', 'hi'): 4, ('hi', 'hand', 'hi', 'mouth'): 3, ('like', 'harri', 'ron', 'hermion'): 2, ('harri', 'ron', 'hermion', 'look'): 7, ('ron', 'hermion', 'look', 'one'): 4, ('hermion', 'look', 'one', 'anoth'): 4, ('breath', 'rose', 'mist', 'befor'): 2, ('go', 'back', 'privet', 'drive'): 2, ('great', 'hall', 'professor', 'mcgonagal'): 3, ('professor', 'mcgonagal', 'professor', 'flitwick'): 2, ('oh', 'yeah', 'right', 'said'): 2, ('yeah', 'right', 'said', 'ron'): 7, ('tear', 'hi', 'eye', 'away'): 3, ('studi', 'recent', 'develop', 'wizardri'): 2, ('defens', 'dark', 'art', 'look'): 3, ('five', 'minut', 'later', 'ron'): 2, ('first', 'thing', 'saw', 'wa'): 4, ('foot', 'hi', 'bed', 'merri'): 2, ('hi', 'bed', 'merri', 'christma'): 2, ('bed', 'merri', 'christma', 'said'): 2, ('said', 'harri', 'look', 'thi'): 2, ('said', 'harri', 'ron', 'wa'): 2, ('cloak', 'around', 'hi', 'shoulder'): 3, ('harri', 'look', 'hi', 'feet'): 3, ('hi', 'reflect', 'look', 'back'): 2, ('pull', 'cloak', 'hi', 'head'): 2, ('door', 'wa', 'flung', 'open'): 2, ('stuck', 'hi', 'head', 'door'): 2, ('hi', 'head', 'door', 'look'): 2, ('hi', 'point', 'wizard', 'hat'): 2, ('gryffindor', 'common', 'room', 'harri'): 2, ('hi', 'way', 'along', 'row'): 2, ('even', 'though', 'harri', 'could'): 2, ('harri', 'could', 'feel', 'hi'): 6, ('gold', 'letter', 'spell', 'word'): 2, ('look', 'horribl', 'like', 'blood'): 2, ('hair', 'back', 'harri', 'neck'): 3, ('back', 'harri', 'neck', 'prickl'): 2, ('still', 'ring', 'hi', 'ear'): 2, ('harri', 'stood', 'root', 'spot'): 3, ('lean', 'wall', 'breath', 'deepli'): 2, ('hi', 'heart', 'wa', 'pound'): 3, ('harri', 'look', 'hi', 'shoulder'): 6, ('put', 'hi', 'arm', 'around'): 3, ('hair', 'wa', 'veri', 'untidi'): 2, ('green', 'eye', 'like', 'hi'): 2, ('hi', 'hand', 'press', 'flat'): 2, ('see', 'ani', 'old', 'time'): 2, ('right', 'said', 'ron', 'look'): 3, ('said', 'ron', 'look', 'harri'): 3, ('hi', 'mother', 'father', 'beam'): 2, ('harri', 'stood', 'quit', 'still'): 4, ('harri', 'felt', 'though', 'hi'): 5, ('harri', 'wa', 'reliev', 'see'): 2, ('ye', 'said', 'dumbledor', 'quietli'): 3, ('see', 'look', 'mirror', 'see'): 2, ('look', 'mirror', 'see', 'hold'): 2, ('mirror', 'see', 'hold', 'pair'): 2, ('see', 'hold', 'pair', 'thick'): 2, ('hold', 'pair', 'thick', 'woolen'): 2, ('first', 'time', 'seven', 'year'): 2, ('back', 'common', 'room', 'found'): 2, ('common', 'room', 'found', 'ron'): 2, ('room', 'found', 'ron', 'hermion'): 2, ('climb', 'portrait', 'hole', 'wa'): 2, ('pocket', 'hi', 'robe', 'pull'): 2, ('girl', 'dormitori', 'harri', 'ron'): 2, ('said', 'hermion', 'harri', 'ron'): 3, ('harri', 'know', 'whether', 'wa'): 2, ('know', 'whether', 'wa', 'imagin'): 2, ('pick', 'hi', 'nimbu', 'two'): 2, ('felt', 'hand', 'hi', 'shoulder'): 2, ('onli', 'harri', 'could', 'hear'): 5, ('look', 'hi', 'face', 'wa'): 5, ('said', 'snape', 'hi', 'voic'): 3, ('dark', 'harri', 'could', 'see'): 2, ('ron', 'thump', 'harri', 'back'): 2, ('guard', 'stone', 'apart', 'fluffi'): 2, ('everi', 'time', 'pass', 'corridor'): 2, ('harri', 'ron', 'hermion', 'would'): 2, ('seem', 'think', 'along', 'line'): 3, ('see', 'later', 'said', 'harri'): 2, ('came', 'back', 'minut', 'later'): 2, ('shut', 'door', 'quickli', 'behind'): 2, ('wonder', 'could', 'tell', 'us'): 3, ('made', 'harri', 'ron', 'hermion'): 3, ('harri', 'ron', 'hermion', 'veri'): 2, ('bit', 'hi', 'lip', 'know'): 2, ('got', 'invis', 'cloak', 'said'): 3, ('invis', 'cloak', 'said', 'harri'): 5, ('turn', 'nasti', 'shade', 'green'): 2, ('hi', 'eye', 'fill', 'tear'): 2, ('marbl', 'staircas', 'entranc', 'hall'): 4, ('shook', 'hi', 'head', 'violent'): 2, ('tower', 'one', 'clock', 'morn'): 2, ('tri', 'tell', 'without', 'word'): 2, ('never', 'heard', 'thing', 'befor'): 2, ('harri', 'felt', 'though', 'bottom'): 2, ('felt', 'though', 'bottom', 'drop'): 2, ('though', 'bottom', 'drop', 'hi'): 2, ('bottom', 'drop', 'hi', 'stomach'): 2, ('hourglass', 'record', 'hous', 'point'): 2, ('pale', 'look', 'though', 'wa'): 2, ('door', 'stood', 'ajar', 'end'): 2, ('snape', 'left', 'room', 'harri'): 2, ('snape', 'found', 'get', 'past'): 2, ('poke', 'around', 'said', 'harri'): 2, ('said', 'ron', 'common', 'room'): 2, ('ahead', 'harri', 'could', 'see'): 3, ('stop', 'dead', 'hi', 'track'): 4, ('hagrid', 'came', 'stride', 'toward'): 2, ('fang', 'hi', 'heel', 'wa'): 2, ('hi', 'heel', 'wa', 'carri'): 2, ('heel', 'wa', 'carri', 'hi'): 2, ('harri', 'wa', 'pleas', 'hear'): 3, ('note', 'panic', 'hi', 'voic'): 2, ('said', 'hagrid', 'harri', 'hermion'): 2, ('harri', 'potter', 'hermion', 'granger'): 2, ('back', 'hi', 'head', 'stare'): 2, ('close', 'harri', 'could', 'see'): 2, ('harri', 'never', 'seen', 'anyth'): 3, ('pain', 'harri', 'head', 'wa'): 2, ('harri', 'head', 'wa', 'bad'): 2, ('pull', 'harri', 'hi', 'feet'): 3, ('clamber', 'onto', 'hi', 'back'): 2, ('harri', 'clue', 'wa', 'go'): 3, ('harri', 'slid', 'hi', 'back'): 2, ('good', 'luck', 'harri', 'potter'): 2, ('hermion', 'look', 'veri', 'frighten'): 2, ('onli', 'one', 'wa', 'ever'): 2, ('wa', 'becaus', 'seen', 'harri'): 2, ('harri', 'wa', 'quit', 'sure'): 10, ('feet', 'go', 'said', 'ron'): 2, ('someth', 'said', 'harri', 'turn'): 2, ('yeh', 'get', 'lot', 'funni'): 2, ('get', 'lot', 'funni', 'folk'): 2, ('lot', 'funni', 'folk', 'hog'): 2, ('funni', 'folk', 'hog', 'head'): 2, ('ask', 'tri', 'keep', 'hi'): 2, ('tri', 'keep', 'hi', 'voic'): 4, ('harri', 'ron', 'hermion', 'speak'): 2, ('go', 'dumbledor', 'said', 'harri'): 2, ('see', 'professor', 'dumbledor', 'said'): 2, ('dumbledor', 'said', 'hermion', 'rather'): 2, ('said', 'harri', 'onc', 'wa'): 3, ('one', 'us', 'ha', 'got'): 2, ('oh', 'shut', 'said', 'hermion'): 2, ('harri', 'ron', 'went', 'back'): 2, ('back', 'common', 'room', 'harri'): 2, ('portrait', 'fat', 'ladi', 'swung'): 2, ('fat', 'ladi', 'swung', 'open'): 2, ('said', 'ron', 'said', 'hermion'): 6, ('right', 'harri', 'said', 'hermion'): 2, ('said', 'hermion', 'small', 'voic'): 6, ('cours', 'said', 'hermion', 'briskli'): 2, ('got', 'hundr', 'twelv', 'percent'): 2, ('harri', 'ron', 'talk', 'much'): 2, ('norri', 'turn', 'lamplik', 'eye'): 2, ('stay', 'away', 'thi', 'place'): 2, ('harri', 'push', 'door', 'open'): 2, ('go', 'straight', 'owleri', 'send'): 2, ('straight', 'owleri', 'send', 'hedwig'): 2, ('owleri', 'send', 'hedwig', 'dumbledor'): 2, ('must', 'mile', 'school', 'said'): 2, ('wipe', 'sweat', 'hi', 'face'): 5, ('thi', 'way', 'said', 'harri'): 3, ('cover', 'hi', 'face', 'hi'): 2, ('hi', 'face', 'hi', 'arm'): 2, ('tell', 'us', 'well', 'harri'): 2, ('harri', 'ron', 'hermion', 'took'): 5, ('go', 'harri', 'push', 'open'): 2, ('said', 'harri', 'point', 'hi'): 4, ('let', 'go', 'said', 'hermion'): 4, ('sure', 'posit', 'said', 'hermion'): 2, ('harri', 'took', 'deep', 'breath'): 7, ('thought', 'snape', 'wa', 'tri'): 2, ('wrap', 'themselv', 'tightli', 'around'): 2, ('harri', 'realiz', 'wa', 'stand'): 2, ('harri', 'could', 'think', 'wa'): 2, ('hi', 'trip', 'diagon', 'alley'): 2, ('harri', 'got', 'slowli', 'hi'): 2, ('got', 'slowli', 'hi', 'feet'): 3, ('get', 'way', 'said', 'harri'): 3, ('face', 'harri', 'ever', 'seen'): 2, ('harri', 'ever', 'seen', 'wa'): 3, ('step', 'backward', 'hi', 'leg'): 2, ('hi', 'head', 'felt', 'though'): 2, ('harri', 'could', 'see', 'look'): 2, ('harri', 'jump', 'hi', 'feet'): 8, ('harri', 'said', 'dumbledor', 'harri'): 3, ('pile', 'high', 'look', 'like'): 2, ('mind', 'death', 'next', 'great'): 2, ('want', 'kill', 'first', 'place'): 2, ('found', 'hi', 'voic', 'harri'): 2, ('hi', 'ye', 'said', 'dumbledor'): 2, ('madam', 'pomfrey', 'nurs', 'wa'): 2, ('oh', 'veri', 'well', 'said'): 5, ('hi', 'head', 'wa', 'still'): 3, ('hi', 'face', 'hi', 'hand'): 12, ('told', 'yeh', 'could', 'die'): 2, ('harri', 'made', 'hi', 'way'): 2, ('slytherin', 'color', 'green', 'silver'): 2, ('slytherin', 'tabl', 'harri', 'could'): 2, ('tabl', 'harri', 'could', 'see'): 3, ('ye', 'ye', 'well', 'done'): 2, ('room', 'went', 'veri', 'still'): 2, ('award', 'gryffindor', 'hous', 'fifti'): 2, ('dumbledor', 'rais', 'hi', 'hand'): 3, ('tabl', 'harri', 'ron', 'hermion'): 3, ('harri', 'ron', 'hermion', 'stood'): 5, ('said', 'ron', 'grin', 'go'): 2, ('said', 'harri', 'ron', 'hermion'): 7, ('harri', 'ron', 'hermion', 'pass'): 2, ('harri', 'potter', 'chamber', 'secret'): 3, ('potter', 'chamber', 'secret', 'rowl'): 2, ('harri', 'potter', 'charact', 'name'): 3, ('potter', 'charact', 'name', 'relat'): 3, ('charact', 'name', 'relat', 'indicia'): 3, ('name', 'relat', 'indicia', 'trademark'): 3, ('relat', 'indicia', 'trademark', 'warner'): 3, ('indicia', 'trademark', 'warner', 'harri'): 3, ('trademark', 'warner', 'harri', 'potter'): 3, ('warner', 'harri', 'potter', 'publish'): 3, ('harri', 'potter', 'publish', 'right'): 4, ('potter', 'publish', 'right', 'rowl'): 4, ('said', 'harri', 'quickli', 'mean'): 2, ('uncl', 'vernon', 'pound', 'tabl'): 2, ('vernon', 'pound', 'tabl', 'hi'): 2, ('hi', 'first', 'year', 'hogwart'): 2, ('year', 'hogwart', 'school', 'witchcraft'): 3, ('broomstick', 'lock', 'cupboard', 'stair'): 2, ('aunt', 'petunia', 'wa', 'boni'): 2, ('harri', 'taken', 'hi', 'place'): 2, ('may', 'take', 'coat', 'mason'): 2, ('make', 'nois', 'pretend', 'said'): 3, ('nois', 'pretend', 'said', 'harri'): 2, ('said', 'uncl', 'vernon', 'nastili'): 2, ('petunia', 'said', 'uncl', 'vernon'): 2, ('room', 'make', 'nois', 'pretend'): 2, ('keep', 'hi', 'face', 'straight'): 2, ('right', 'said', 'uncl', 'vernon'): 2, ('said', 'uncl', 'vernon', 'forc'): 3, ('uncl', 'vernon', 'forc', 'know'): 2, ('hi', 'best', 'friend', 'ron'): 3, ('best', 'friend', 'ron', 'weasley'): 2, ('ron', 'weasley', 'hermion', 'granger'): 2, ('though', 'ron', 'said', 'wa'): 2, ('ron', 'said', 'wa', 'go'): 2, ('wa', 'go', 'ask', 'harri'): 2, ('underag', 'wizard', 'allow', 'use'): 2, ('wizard', 'allow', 'use', 'magic'): 2, ('allow', 'use', 'magic', 'outsid'): 3, ('use', 'magic', 'outsid', 'school'): 5, ('suddenli', 'sat', 'bolt', 'upright'): 2, ('said', 'harri', 'take', 'hi'): 2, ('right', 'well', 'done', 'said'): 2, ('well', 'done', 'said', 'harri'): 2, ('wa', 'wear', 'look', 'like'): 2, ('harri', 'wa', 'sure', 'would'): 3, ('dobbi', 'sir', 'dobbi', 'dobbi'): 2, ('ye', 'sir', 'said', 'dobbi'): 2, ('dobbi', 'back', 'onto', 'bed'): 2, ('hi', 'great', 'eye', 'fix'): 2, ('dobbi', 'shook', 'hi', 'head'): 4, ('start', 'bang', 'hi', 'head'): 2, ('bad', 'dobbi', 'bad', 'dobbi'): 2, ('dobbi', 'bad', 'dobbi', 'harri'): 2, ('come', 'see', 'sir', 'dobbi'): 2, ('shut', 'hi', 'ear', 'oven'): 2, ('hi', 'ear', 'oven', 'door'): 2, ('set', 'dobbi', 'free', 'dobbi'): 2, ('name', 'sorri', 'said', 'harri'): 3, ('sorri', 'said', 'harri', 'quickli'): 3, ('pillowcas', 'wa', 'wear', 'harri'): 2, ('thing', 'happen', 'hogwart', 'school'): 2, ('happen', 'hogwart', 'school', 'witchcraft'): 2, ('school', 'witchcraft', 'wizardri', 'thi'): 2, ('shook', 'hi', 'head', 'hi'): 3, ('hi', 'head', 'hi', 'eye'): 2, ('befor', 'harri', 'could', 'stop'): 3, ('harri', 'potter', 'said', 'dobbi'): 4, ('harri', 'potter', 'angri', 'dobbi'): 2, ('want', 'go', 'back', 'school'): 2, ('back', 'sir', 'said', 'harri'): 2, ('look', 'though', 'uncl', 'vernon'): 2, ('dear', 'potter', 'receiv', 'intellig'): 2, ('decre', 'reason', 'restrict', 'underag'): 3, ('reason', 'restrict', 'underag', 'sorceri'): 4, ('sincer', 'mafalda', 'hopkirk', 'improp'): 3, ('mafalda', 'hopkirk', 'improp', 'use'): 3, ('hopkirk', 'improp', 'use', 'magic'): 3, ('improp', 'use', 'magic', 'offic'): 7, ('use', 'magic', 'offic', 'ministri'): 3, ('magic', 'offic', 'ministri', 'magic'): 3, ('offic', 'ministri', 'magic', 'harri'): 3, ('wa', 'go', 'happen', 'wa'): 2, ('fred', 'georg', 'ron', 'elder'): 2, ('georg', 'ron', 'elder', 'twin'): 2, ('ron', 'elder', 'twin', 'brother'): 2, ('jerk', 'hi', 'head', 'toward'): 5, ('harri', 'heard', 'uncl', 'vernon'): 2, ('harri', 'climb', 'onto', 'windowsil'): 2, ('seiz', 'harri', 'arm', 'pull'): 2, ('petunia', 'roar', 'uncl', 'vernon'): 2, ('get', 'away', 'get', 'away'): 3, ('said', 'harri', 'well', 'said'): 4, ('ye', 'said', 'harri', 'ron'): 2, ('said', 'harri', 'ron', 'togeth'): 13, ('thi', 'bill', 'charli', 'perci'): 2, ('harri', 'sat', 'edg', 'hi'): 2, ('caught', 'hi', 'mother', 'eye'): 4, ('harri', 'felt', 'wide', 'awak'): 2, ('said', 'weasley', 'let', 'see'): 2, ('gilderoy', 'lockhart', 'guid', 'household'): 2, ('lockhart', 'guid', 'household', 'pest'): 2, ('guid', 'household', 'pest', 'wa'): 2, ('wavi', 'blond', 'hair', 'bright'): 2, ('blond', 'hair', 'bright', 'blue'): 2, ('hair', 'bright', 'blue', 'eye'): 2, ('wa', 'wear', 'long', 'green'): 2, ('wear', 'long', 'green', 'robe'): 2, ('whi', 'would', 'anyon', 'bother'): 2, ('hi', 'wife', 'molli', 'dear'): 2, ('harri', 'look', 'around', 'saw'): 7, ('look', 'around', 'saw', 'harri'): 2, ('realli', 'said', 'weasley', 'eagerli'): 2, ('new', 'defens', 'dark', 'art'): 7, ('defens', 'dark', 'art', 'teacher'): 21, ('dark', 'art', 'teacher', 'must'): 2, ('thi', 'year', 'harri', 'ask'): 2, ('wa', 'harri', 'thought', 'wa'): 2, ('harri', 'ron', 'fred', 'georg'): 4, ('work', 'wizard', 'bank', 'gringott'): 2, ('fortun', 'hi', 'parent', 'left'): 2, ('larg', 'pile', 'gold', 'weasley'): 2, ('turn', 'emerald', 'green', 'rose'): 2, ('got', 'gingerli', 'hi', 'feet'): 2, ('hi', 'broken', 'glass', 'hi'): 2, ('said', 'malfoy', 'look', 'sulki'): 2, ('give', 'light', 'onli', 'holder'): 2, ('said', 'harri', 'hi', 'breath'): 2, ('wipe', 'hi', 'forehead', 'hi'): 2, ('hi', 'forehead', 'hi', 'sleev'): 3, ('fine', 'thank', 'said', 'harri'): 3, ('harri', 'harri', 'harri', 'look'): 2, ('hagrid', 'said', 'grin', 'harri'): 2, ('ron', 'fred', 'georg', 'perci'): 2, ('harri', 'ask', 'ron', 'hermion'): 2, ('back', 'harri', 'ron', 'hermion'): 3, ('fred', 'georg', 'lee', 'jordan'): 8, ('ron', 'told', 'harri', 'hermion'): 4, ('book', 'harri', 'ron', 'hermion'): 2, ('harri', 'ron', 'hermion', 'squeez'): 2, ('oh', 'good', 'said', 'weasley'): 2, ('good', 'said', 'weasley', 'sound'): 2, ('harri', 'said', 'lockhart', 'hi'): 2, ('arm', 'around', 'hi', 'shoulder'): 4, ('post', 'defens', 'dark', 'art'): 2, ('famou', 'harri', 'potter', 'said'): 2, ('oh', 'said', 'ron', 'look'): 5, ('harri', 'hermion', 'grab', 'back'): 2, ('said', 'malfoy', 'hi', 'pale'): 2, ('malfoy', 'hi', 'pale', 'eye'): 3, ('harri', 'took', 'hi', 'glass'): 3, ('get', 'onto', 'platform', 'nine'): 3, ('solid', 'barrier', 'divid', 'platform'): 2, ('barrier', 'divid', 'platform', 'nine'): 2, ('divid', 'platform', 'nine', 'ten'): 2, ('wheel', 'hi', 'trolley', 'around'): 2, ('hi', 'trolley', 'around', 'face'): 2, ('wa', 'knock', 'hi', 'feet'): 3, ('mum', 'dad', 'get', 'back'): 2, ('harri', 'gave', 'hollow', 'laugh'): 2, ('harri', 'said', 'ron', 'hi'): 2, ('said', 'ron', 'hi', 'eye'): 5, ('said', 'ron', 'impati', 'know'): 2, ('c', 'mon', 'let', 'go'): 3, ('wand', 'harri', 'stuck', 'hi'): 2, ('harri', 'stuck', 'hi', 'head'): 2, ('let', 'go', 'said', 'ron'): 2, ('go', 'said', 'ron', 'voic'): 2, ('said', 'ron', 'voic', 'hi'): 2, ('thought', 'harri', 'wa', 'sure'): 2, ('flew', 'farther', 'farther', 'north'): 2, ('ron', 'put', 'hi', 'foot'): 2, ('pull', 'hi', 'wand', 'hi'): 3, ('open', 'hi', 'mouth', 'say'): 5, ('door', 'flew', 'open', 'harri'): 4, ('next', 'thing', 'knew', 'wa'): 5, ('great', 'oak', 'front', 'door'): 2, ('said', 'ron', 'drop', 'hi'): 3, ('long', 'line', 'first', 'year'): 4, ('slytherin', 'hous', 'turn', 'dark'): 3, ('hous', 'turn', 'dark', 'witch'): 2, ('turn', 'dark', 'witch', 'wizard'): 2, ('dark', 'witch', 'wizard', 'ani'): 2, ('place', 'hat', 'hi', 'head'): 2, ('hi', 'long', 'silver', 'beard'): 4, ('empti', 'chair', 'staff', 'tabl'): 2, ('wa', 'harri', 'least', 'favorit'): 3, ('harri', 'least', 'favorit', 'teacher'): 2, ('said', 'ron', 'hope', 'mayb'): 2, ('entranc', 'hall', 'wa', 'lit'): 3, ('hall', 'wa', 'lit', 'flame'): 2, ('wa', 'lit', 'flame', 'torch'): 3, ('close', 'door', 'turn', 'look'): 2, ('work', 'misus', 'muggl', 'artifact'): 2, ('misus', 'muggl', 'artifact', 'offic'): 3, ('professor', 'mcgonagal', 'head', 'gryffindor'): 3, ('mcgonagal', 'head', 'gryffindor', 'hous'): 3, ('think', 'said', 'professor', 'mcgonagal'): 4, ('said', 'professor', 'mcgonagal', 'wa'): 3, ('wa', 'knock', 'offic', 'door'): 2, ('hi', 'veri', 'crook', 'nose'): 2, ('said', 'ron', 'harri', 'look'): 3, ('clear', 'hi', 'throat', 'said'): 3, ('decre', 'restrict', 'underag', 'wizardri'): 3, ('severu', 'said', 'dumbledor', 'calmli'): 2, ('hi', 'eye', 'hi', 'sleev'): 2, ('oh', 'good', 'said', 'ron'): 2, ('professor', 'mcgonagal', 'said', 'sharpli'): 2, ('harri', 'knew', 'perfectli', 'well'): 5, ('door', 'close', 'behind', 'ron'): 2, ('entranc', 'gryffindor', 'tower', 'wa'): 2, ('dress', 'password', 'said', 'approach'): 2, ('said', 'ron', 'impati', 'tell'): 2, ('whole', 'gryffindor', 'hous', 'wa'): 2, ('dormitori', 'door', 'flew', 'open'): 2, ('seamu', 'finnigan', 'dean', 'thoma'): 5, ('finnigan', 'dean', 'thoma', 'nevil'): 2, ('dean', 'thoma', 'nevil', 'longbottom'): 2, ('great', 'hall', 'four', 'long'): 2, ('hall', 'four', 'long', 'hous'): 2, ('four', 'long', 'hous', 'tabl'): 5, ('told', 'harri', 'wa', 'still'): 2, ('hi', 'finger', 'hi', 'ear'): 2, ('put', 'anoth', 'toe', 'line'): 2, ('professor', 'mcgonagal', 'wa', 'move'): 2, ('mcgonagal', 'wa', 'move', 'along'): 2, ('harri', 'ron', 'hermion', 'left'): 3, ('ron', 'hermion', 'left', 'castl'): 2, ('hermion', 'left', 'castl', 'togeth'): 2, ('harri', 'ron', 'hermion', 'onli'): 4, ('said', 'professor', 'sprout', 'wa'): 2, ('professor', 'sprout', 'took', 'larg'): 2, ('hi', 'head', 'harri', 'harri'): 2, ('harri', 'harri', 'said', 'lockhart'): 2, ('ten', 'point', 'gryffindor', 'said'): 2, ('point', 'gryffindor', 'said', 'professor'): 2, ('said', 'professor', 'sprout', 'mandrak'): 2, ('take', 'anoth', 'ten', 'point'): 2, ('harri', 'ron', 'hermion', 'join'): 4, ('harri', 'wa', 'reliev', 'hear'): 2, ('defens', 'dark', 'art', 'said'): 7, ('dark', 'art', 'said', 'hermion'): 4, ('sever', 'minut', 'befor', 'harri'): 2, ('minut', 'befor', 'harri', 'becam'): 2, ('befor', 'harri', 'becam', 'awar'): 3, ('give', 'sign', 'photo', 'said'): 2, ('set', 'back', 'castl', 'harri'): 2, ('back', 'castl', 'harri', 'wa'): 2, ('hermion', 'sat', 'either', 'side'): 2, ('either', 'side', 'harri', 'could'): 2, ('last', 'thing', 'need', 'wa'): 2, ('clear', 'hi', 'throat', 'loudli'): 5, ('gilderoy', 'lockhart', 'order', 'merlin'): 2, ('lockhart', 'order', 'merlin', 'third'): 2, ('order', 'merlin', 'third', 'class'): 2, ('merlin', 'third', 'class', 'honorari'): 2, ('third', 'class', 'honorari', 'member'): 2, ('class', 'honorari', 'member', 'dark'): 2, ('honorari', 'member', 'dark', 'forc'): 2, ('member', 'dark', 'forc', 'defens'): 3, ('dark', 'forc', 'defens', 'leagu'): 3, ('forc', 'defens', 'leagu', 'winner'): 2, ('defens', 'leagu', 'winner', 'witch'): 2, ('leagu', 'winner', 'witch', 'weekli'): 2, ('nevil', 'wa', 'cower', 'hi'): 2, ('seiz', 'hi', 'wand', 'threw'): 2, ('caught', 'sight', 'harri', 'ron'): 2, ('sight', 'harri', 'ron', 'hermion'): 3, ('said', 'harri', 'wa', 'tri'): 2, ('harri', 'wa', 'quit', 'glad'): 2, ('fred', 'georg', 'weasley', 'gryffindor'): 2, ('kati', 'bell', 'angelina', 'johnson'): 2, ('took', 'hi', 'wand', 'tap'): 2, ('shift', 'guiltili', 'hi', 'seat'): 2, ('kick', 'ground', 'soar', 'air'): 2, ('air', 'whip', 'hi', 'face'): 2, ('hi', 'pale', 'point', 'face'): 3, ('nimbu', 'two', 'thousand', 'one'): 4, ('could', 'think', 'anyth', 'say'): 4, ('malfoy', 'wa', 'smirk', 'broadli'): 2, ('slytherin', 'team', 'howl', 'laughter'): 2, ('way', 'said', 'hermion', 'sharpli'): 2, ('plung', 'hi', 'hand', 'hi'): 3, ('hi', 'hand', 'hi', 'robe'): 4, ('jet', 'green', 'light', 'shot'): 2, ('ron', 'open', 'hi', 'mouth'): 8, ('open', 'hi', 'mouth', 'speak'): 8, ('said', 'harri', 'hermion', 'nod'): 2, ('bustl', 'around', 'make', 'tea'): 3, ('wa', 'best', 'man', 'job'): 2, ('jerk', 'hi', 'head', 'ron'): 3, ('said', 'ron', 'wipe', 'hi'): 2, ('hagrid', 'look', 'hi', 'shoulder'): 2, ('expel', 'hogwart', 'hi', 'third'): 3, ('hogwart', 'hi', 'third', 'year'): 3, ('oh', 'shut', 'said', 'harri'): 2, ('hagrid', 'walk', 'back', 'castl'): 2, ('argu', 'filch', 'caretak', 'wa'): 2, ('said', 'professor', 'mcgonagal', 'rais'): 2, ('wa', 'strain', 'hi', 'ear'): 2, ('strain', 'hi', 'ear', 'hear'): 2, ('common', 'room', 'wa', 'almost'): 3, ('room', 'wa', 'almost', 'empti'): 2, ('harri', 'went', 'straight', 'dormitori'): 2, ('harri', 'pull', 'hi', 'pajama'): 2, ('pull', 'hi', 'pajama', 'got'): 2, ('said', 'ron', 'harri', 'could'): 2, ('said', 'harri', 'lie', 'back'): 2, ('harri', 'lie', 'back', 'hi'): 2, ('nick', 'ghost', 'gryffindor', 'tower'): 2, ('took', 'sever', 'deep', 'breath'): 2, ('hi', 'jowl', 'aquiv', 'hi'): 2, ('without', 'backward', 'glanc', 'harri'): 2, ('wa', 'onli', 'one', 'thing'): 6, ('nearli', 'headless', 'nick', 'harri'): 2, ('stop', 'hi', 'track', 'harri'): 2, ('weasley', 'miss', 'granger', 'would'): 2, ('said', 'harri', 'quickli', 'come'): 2, ('whi', 'would', 'anyon', 'want'): 2, ('said', 'ron', 'wa', 'halfway'): 2, ('care', 'magic', 'creatur', 'class'): 5, ('clock', 'harri', 'ron', 'hermion'): 2, ('harri', 'ron', 'hermion', 'walk'): 4, ('cover', 'silver', 'bloodstain', 'wa'): 2, ('oh', 'dear', 'said', 'hermion'): 5, ('nearli', 'headless', 'nick', 'drift'): 2, ('head', 'hi', 'arm', 'wa'): 2, ('spot', 'harri', 'ron', 'hermion'): 2, ('speech', 'said', 'nearli', 'headless'): 2, ('toward', 'step', 'entranc', 'hall'): 2, ('step', 'entranc', 'hall', 'harri'): 2, ('listen', 'said', 'harri', 'urgent'): 2, ('harri', 'wa', 'sure', 'wa'): 10, ('chamber', 'secret', 'ha', 'open'): 2, ('cat', 'harri', 'ron', 'hermion'): 2, ('past', 'harri', 'ron', 'hermion'): 3, ('harri', 'ron', 'hermion', 'exchang'): 5, ('wrong', 'place', 'wrong', 'time'): 3, ('sneer', 'curl', 'hi', 'mouth'): 2, ('said', 'snape', 'hi', 'black'): 4, ('snape', 'hi', 'black', 'eye'): 5, ('hi', 'black', 'eye', 'glitter'): 4, ('ron', 'hermion', 'look', 'harri'): 2, ('becaus', 'harri', 'said', 'hi'): 2, ('harri', 'said', 'hi', 'heart'): 3, ('across', 'hi', 'gaunt', 'face'): 2, ('severu', 'said', 'professor', 'mcgonagal'): 2, ('said', 'professor', 'mcgonagal', 'sharpli'): 6, ('made', 'harri', 'feel', 'though'): 2, ('harri', 'ron', 'hermion', 'went'): 4, ('close', 'door', 'quietli', 'behind'): 2, ('hear', 'voic', 'one', 'els'): 2, ('voic', 'one', 'els', 'hear'): 2, ('one', 'els', 'hear', 'good'): 2, ('els', 'hear', 'good', 'sign'): 2, ('hear', 'good', 'sign', 'even'): 2, ('good', 'sign', 'even', 'wizard'): 2, ('said', 'harri', 'better', 'get'): 3, ('skower', 'magic', 'mess', 'remov'): 3, ('hi', 'mouth', 'say', 'hello'): 2, ('said', 'ron', 'let', 'go'): 2, ('thought', 'wa', 'bit', 'idiot'): 2, ('wa', 'bit', 'idiot', 'said'): 3, ('said', 'hermion', 'bite', 'lip'): 2, ('said', 'ron', 'check', 'hi'): 2, ('ron', 'check', 'hi', 'watch'): 2, ('left', 'hi', 'bodi', 'behind'): 2, ('hermion', 'put', 'hand', 'professor'): 2, ('hi', 'mouth', 'hang', 'open'): 5, ('hermion', 'though', 'never', 'seen'): 3, ('harri', 'could', 'tell', 'wa'): 8, ('said', 'professor', 'binn', 'hi'): 2, ('harri', 'say', 'anyth', 'hi'): 2, ('never', 'told', 'ron', 'hermion'): 2, ('sort', 'hat', 'serious', 'consid'): 2, ('hat', 'serious', 'consid', 'put'): 2, ('said', 'harri', 'hi', 'stomach'): 3, ('said', 'harri', 'drop', 'hi'): 4, ('come', 'look', 'thi', 'said'): 2, ('act', 'like', 'said', 'hermion'): 2, ('said', 'hermion', 'said', 'harri'): 4, ('hermion', 'said', 'harri', 'ron'): 2, ('ron', 'look', 'hi', 'shoulder'): 4, ('wa', 'stand', 'well', 'back'): 2, ('never', 'knew', 'said', 'hermion'): 2, ('knew', 'said', 'hermion', 'look'): 2, ('said', 'harri', 'go', 'said'): 2, ('harri', 'go', 'said', 'ron'): 2, ('noth', 'said', 'harri', 'quickli'): 2, ('said', 'ron', 'whose', 'ear'): 3, ('harri', 'ron', 'hermion', 'chose'): 2, ('ron', 'wa', 'still', 'veri'): 2, ('said', 'harri', 'close', 'hi'): 2, ('chamber', 'secret', 'said', 'ron'): 2, ('us', 'know', 'said', 'ron'): 2, ('said', 'ron', 'harri', 'togeth'): 2, ('would', 'probabl', 'tell', 'us'): 2, ('wa', 'onli', 'one', 'way'): 2, ('next', 'defens', 'dark', 'art'): 2, ('defens', 'dark', 'art', 'lesson'): 9, ('lockhart', 'got', 'hi', 'feet'): 2, ('oh', 'ye', 'said', 'hermion'): 6, ('first', 'quidditch', 'match', 'season'): 2, ('oh', 'come', 'said', 'ron'): 2, ('moan', 'myrtl', 'wa', 'cri'): 2, ('get', 'month', 'said', 'ron'): 2, ('check', 'coast', 'wa', 'clear'): 4, ('wood', 'usual', 'pep', 'talk'): 2, ('said', 'madam', 'hooch', 'three'): 2, ('madam', 'hooch', 'three', 'two'): 2, ('hooch', 'three', 'two', 'one'): 2, ('onc', 'harri', 'wa', 'forc'): 2, ('lead', 'sixti', 'point', 'zero'): 2, ('harri', 'could', 'see', 'noth'): 3, ('madam', 'hooch', 'whistl', 'rang'): 2, ('madam', 'hooch', 'whistl', 'harri'): 2, ('hi', 'eye', 'wide', 'open'): 3, ('could', 'hear', 'laughter', 'crowd'): 2, ('hear', 'laughter', 'crowd', 'knew'): 2, ('laughter', 'crowd', 'knew', 'must'): 2, ('crowd', 'knew', 'must', 'look'): 2, ('golden', 'snitch', 'wa', 'hover'): 2, ('crook', 'hi', 'right', 'arm'): 2, ('go', 'hospit', 'wing', 'said'): 3, ('hospit', 'wing', 'said', 'harri'): 2, ('said', 'harri', 'clench', 'teeth'): 2, ('wa', 'roll', 'hi', 'sleev'): 2, ('wa', 'twirl', 'hi', 'wand'): 2, ('hi', 'wand', 'second', 'later'): 2, ('hi', 'eye', 'hi', 'face'): 2, ('said', 'madam', 'pomfrey', 'grimli'): 2, ('across', 'hi', 'face', 'wa'): 3, ('back', 'onto', 'hi', 'pillow'): 5, ('door', 'hospit', 'wing', 'burst'): 3, ('hospit', 'wing', 'burst', 'open'): 3, ('sir', 'said', 'dobbi', 'nod'): 2, ('wa', 'rock', 'backward', 'forward'): 2, ('slump', 'back', 'onto', 'hi'): 3, ('dobbi', 'let', 'harri', 'potter'): 2, ('water', 'jug', 'hi', 'bedsid'): 2, ('jug', 'hi', 'bedsid', 'tabl'): 2, ('go', 'home', 'harri', 'potter'): 3, ('home', 'harri', 'potter', 'go'): 2, ('harri', 'potter', 'go', 'home'): 2, ('go', 'anywher', 'said', 'harri'): 2, ('wa', 'loud', 'crack', 'harri'): 4, ('madam', 'pomfrey', 'whisper', 'dumbledor'): 2, ('still', 'pretend', 'asleep', 'heard'): 2, ('said', 'dumbledor', 'hi', 'eye'): 7, ('harri', 'woke', 'sunday', 'morn'): 2, ('oh', 'hello', 'harri', 'said'): 6, ('ron', 'hermion', 'said', 'harri'): 2, ('ron', 'hermion', 'would', 'make'): 2, ('close', 'door', 'behind', 'wa'): 2, ('said', 'hi', 'round', 'face'): 2, ('know', 'onli', 'second', 'harri'): 2, ('hi', 'hand', 'hi', 'eye'): 2, ('arrang', 'hi', 'face', 'hope'): 2, ('hi', 'face', 'hope', 'wa'): 2, ('ten', 'minut', 'later', 'could'): 2, ('harri', 'told', 'ron', 'hermion'): 3, ('moan', 'myrtl', 'bathroom', 'could'): 2, ('finnigan', 'dean', 'thoma', 'look'): 2, ('hermion', 'gave', 'weak', 'smile'): 2, ('one', 'two', 'three', 'harri'): 3, ('harri', 'point', 'hi', 'wand'): 11, ('point', 'hi', 'wand', 'straight'): 2, ('malfoy', 'point', 'hi', 'wand'): 2, ('point', 'hi', 'wand', 'harri'): 3, ('said', 'snape', 'twist', 'smile'): 2, ('harri', 'corner', 'hi', 'mouth'): 2, ('flew', 'ten', 'feet', 'air'): 2, ('ten', 'feet', 'air', 'fell'): 2, ('befor', 'harri', 'could', 'say'): 6, ('harri', 'could', 'say', 'anyth'): 3, ('said', 'harri', 'mean', 'onli'): 2, ('said', 'harri', 'start', 'feel'): 5, ('speak', 'ron', 'shook', 'hi'): 2, ('ron', 'shook', 'hi', 'head'): 12, ('shook', 'hi', 'head', 'hermion'): 4, ('justin', 'wait', 'someth', 'like'): 2, ('wait', 'someth', 'like', 'thi'): 2, ('like', 'thi', 'happen', 'ever'): 2, ('thi', 'happen', 'ever', 'sinc'): 2, ('happen', 'ever', 'sinc', 'let'): 2, ('ever', 'sinc', 'let', 'slip'): 2, ('sinc', 'let', 'slip', 'potter'): 2, ('let', 'slip', 'potter', 'wa'): 2, ('harri', 'said', 'hi', 'voic'): 3, ('bare', 'notic', 'wa', 'go'): 2, ('knock', 'backward', 'onto', 'floor'): 2, ('hi', 'mind', 'still', 'full'): 2, ('felt', 'though', 'hi', 'stomach'): 2, ('hi', 'face', 'hi', 'eye'): 3, ('wa', 'nearli', 'headless', 'nick'): 2, ('hi', 'breath', 'fast', 'shallow'): 2, ('hi', 'heart', 'kind', 'drumrol'): 2, ('heart', 'kind', 'drumrol', 'hi'): 2, ('whi', 'potti', 'wee', 'potter'): 2, ('potti', 'wee', 'potter', 'cackl'): 2, ('wee', 'potter', 'cackl', 'peev'): 2, ('justin', 'nearli', 'headless', 'nick'): 5, ('peev', 'wa', 'bob', 'overhead'): 2, ('professor', 'said', 'harri', 'onc'): 3, ('potter', 'said', 'professor', 'mcgonagal'): 12, ('said', 'professor', 'mcgonagal', 'curtli'): 3, ('asid', 'wall', 'behind', 'split'): 3, ('wall', 'behind', 'split', 'two'): 2, ('harri', 'look', 'around', 'one'): 3, ('silver', 'instrument', 'stood', 'tabl'): 2, ('cast', 'wari', 'eye', 'around'): 2, ('yell', 'shock', 'back', 'away'): 2, ('door', 'open', 'dumbledor', 'came'): 2, ('harri', 'look', 'time', 'see'): 3, ('seat', 'behind', 'hi', 'desk'): 2, ('hi', 'shaggi', 'black', 'head'): 2, ('tip', 'hi', 'long', 'finger'): 3, ('hi', 'long', 'finger', 'togeth'): 3, ('harri', 'ron', 'onli', 'one'): 2, ('ron', 'onli', 'one', 'left'): 2, ('nibbl', 'hi', 'ear', 'affection'): 2, ('thick', 'streamer', 'holli', 'mistleto'): 2, ('oh', 'right', 'right', 'said'): 2, ('right', 'right', 'said', 'harri'): 2, ('thing', 'could', 'go', 'wrong'): 2, ('right', 'said', 'hermion', 'nervous'): 3, ('good', 'think', 'said', 'ron'): 4, ('wonder', 'whether', 'wa', 'go'): 2, ('hi', 'eye', 'hi', 'hand'): 2, ('hi', 'old', 'robe', 'hang'): 2, ('brush', 'hi', 'hair', 'hi'): 2, ('hi', 'hair', 'hi', 'eye'): 4, ('voic', 'issu', 'hi', 'mouth'): 3, ('get', 'go', 'said', 'harri'): 3, ('go', 'harri', 'look', 'hi'): 3, ('harri', 'look', 'hi', 'watch'): 3, ('right', 'said', 'harri', 'ron'): 4, ('follow', 'slytherin', 'common', 'room'): 2, ('slytherin', 'common', 'room', 'wa'): 2, ('girl', 'long', 'curli', 'hair'): 3, ('watch', 'see', 'much', 'time'): 2, ('oh', 'yeah', 'said', 'ron'): 10, ('harri', 'ron', 'draco', 'malfoy'): 2, ('time', 'hi', 'life', 'harri'): 2, ('harri', 'ron', 'exchang', 'look'): 3, ('harri', 'er', 'said', 'harri'): 2, ('said', 'harri', 'oh', 'yeah'): 4, ('room', 'rough', 'stone', 'wall'): 2, ('arthur', 'weasley', 'head', 'misus'): 2, ('weasley', 'head', 'misus', 'muggl'): 2, ('head', 'misus', 'muggl', 'offic'): 2, ('fifti', 'year', 'ago', 'wa'): 2, ('know', 'person', 'open', 'chamber'): 2, ('person', 'open', 'chamber', 'last'): 2, ('open', 'chamber', 'last', 'time'): 2, ('chamber', 'last', 'time', 'wa'): 2, ('okay', 'hermion', 'said', 'harri'): 2, ('hospit', 'wing', 'madam', 'pomfrey'): 2, ('noth', 'said', 'harri', 'gloomili'): 2, ('look', 'though', 'wa', 'still'): 2, ('door', 'moan', 'myrtl', 'bathroom'): 2, ('go', 'see', 'said', 'harri'): 3, ('said', 'ron', 'wa', 'look'): 2, ('right', 'got', 'point', 'said'): 2, ('got', 'award', 'special', 'servic'): 2, ('award', 'special', 'servic', 'school'): 3, ('special', 'servic', 'school', 'fifti'): 2, ('servic', 'school', 'fifti', 'year'): 2, ('said', 'ron', 'harri', 'turn'): 3, ('ron', 'harri', 'turn', 'back'): 2, ('ron', 'drop', 'hi', 'voic'): 2, ('hermion', 'left', 'hospit', 'wing'): 3, ('back', 'gryffindor', 'tower', 'harri'): 3, ('know', 'riddl', 'got', 'award'): 2, ('riddl', 'got', 'award', 'special'): 2, ('look', 'hermion', 'face', 'wa'): 2, ('think', 'said', 'ron', 'look'): 2, ('yeah', 'said', 'ron', 'slowli'): 2, ('expel', 'fifti', 'year', 'ago'): 2, ('sinc', 'justin', 'nearli', 'headless'): 2, ('wa', 'onli', 'matter', 'time'): 2, ('onli', 'matter', 'time', 'befor'): 3, ('buri', 'hi', 'face', 'hi'): 4, ('cold', 'drawl', 'voic', 'draco'): 3, ('drawl', 'voic', 'draco', 'malfoy'): 3, ('hi', 'eye', 'green', 'fresh'): 2, ('eye', 'green', 'fresh', 'pickl'): 2, ('green', 'fresh', 'pickl', 'toad'): 2, ('bell', 'rang', 'five', 'minut'): 2, ('rang', 'five', 'minut', 'ago'): 2, ('pull', 'hi', 'wand', 'harri'): 4, ('hi', 'heart', 'wa', 'hammer'): 3, ('feet', 'hit', 'solid', 'ground'): 2, ('blur', 'shape', 'around', 'came'): 2, ('dumbledor', 'wa', 'sit', 'behind'): 2, ('harri', 'rais', 'hi', 'voic'): 3, ('sky', 'outsid', 'window', 'wa'): 2, ('door', 'harri', 'look', 'around'): 2, ('ye', 'sir', 'said', 'riddl'): 3, ('attack', 'sir', 'said', 'riddl'): 2, ('matter', 'fact', 'ministri', 'magic'): 2, ('almost', 'close', 'harri', 'could'): 2, ('close', 'door', 'behind', 'harri'): 6, ('riddl', 'rais', 'hi', 'wand'): 2, ('scrambl', 'hi', 'feet', 'look'): 2, ('wa', 'go', 'go', 'back'): 3, ('thing', 'harri', 'felt', 'wa'): 2, ('hi', 'bed', 'ron', 'dean'): 2, ('said', 'harri', 'look', 'hi'): 6, ('said', 'ron', 'shake', 'hi'): 5, ('ron', 'shake', 'hi', 'head'): 4, ('hi', 'mind', 'wa', 'still'): 2, ('pull', 'hi', 'scarlet', 'robe'): 3, ('walk', 'onto', 'field', 'tumultu'): 2, ('onto', 'field', 'tumultu', 'applaus'): 2, ('follow', 'professor', 'mcgonagal', 'back'): 2, ('perci', 'weasley', 'wa', 'sit'): 2, ('wa', 'sit', 'chair', 'behind'): 2, ('said', 'ron', 'quietli', 'harri'): 2, ('said', 'harri', 'make', 'hi'): 3, ('harri', 'make', 'hi', 'mind'): 4, ('think', 'said', 'harri', 'quietli'): 2, ('reach', 'oak', 'front', 'door'): 2, ('hagrid', 'hous', 'pull', 'cloak'): 2, ('fang', 'boarhound', 'bark', 'loudli'): 2, ('said', 'dumbledor', 'hi', 'blue'): 2, ('dumbledor', 'hi', 'blue', 'eye'): 2, ('fire', 'harri', 'never', 'seen'): 2, ('befor', 'fudg', 'could', 'answer'): 2, ('long', 'black', 'travel', 'cloak'): 3, ('hagrid', 'said', 'dumbledor', 'sharpli'): 2, ('said', 'dumbledor', 'sharpli', 'look'): 2, ('said', 'dumbledor', 'speak', 'veri'): 2, ('onli', 'truli', 'left', 'thi'): 2, ('truli', 'left', 'thi', 'school'): 2, ('left', 'thi', 'school', 'none'): 2, ('thi', 'school', 'none', 'loyal'): 2, ('help', 'alway', 'given', 'hogwart'): 3, ('alway', 'given', 'hogwart', 'ask'): 3, ('took', 'deep', 'breath', 'said'): 3, ('strut', 'around', 'school', 'though'): 2, ('across', 'veget', 'patch', 'toward'): 2, ('veget', 'patch', 'toward', 'greenhous'): 2, ('oh', 'ye', 'would', 'said'): 2, ('game', 'explod', 'snap', 'ginni'): 2, ('wa', 'well', 'past', 'midnight'): 3, ('hi', 'voic', 'trail', 'away'): 2, ('said', 'ron', 'whose', 'eye'): 2, ('make', 'harri', 'ron', 'jump'): 3, ('harri', 'stuf', 'hi', 'wand'): 2, ('stuf', 'hi', 'wand', 'back'): 2, ('wand', 'back', 'hi', 'robe'): 2, ('harri', 'hi', 'face', 'wa'): 2, ('silent', 'scream', 'hi', 'eye'): 2, ('scream', 'hi', 'eye', 'pop'): 2, ('chamber', 'secret', 'said', 'harri'): 2, ('said', 'harri', 'could', 'feel'): 4, ('live', 'forest', 'ever', 'sinc'): 2, ('ron', 'hi', 'mouth', 'wa'): 2, ('harri', 'could', 'see', 'patch'): 2, ('wipe', 'hi', 'mouth', 'hi'): 2, ('friend', 'hi', 'said', 'harri'): 2, ('across', 'entranc', 'hall', 'marbl'): 2, ('entranc', 'hall', 'marbl', 'staircas'): 2, ('onto', 'hi', 'bed', 'without'): 3, ('harri', 'swung', 'hi', 'leg'): 3, ('lean', 'back', 'hi', 'pillow'): 2, ('could', 'tell', 'whether', 'wa'): 2, ('ron', 'rub', 'hi', 'eye'): 2, ('ron', 'howev', 'wa', 'look'): 2, ('said', 'harri', 'hermion', 'probabl'): 2, ('said', 'ron', 'watch', 'harri'): 3, ('said', 'ron', 'hi', 'eyebrow'): 3, ('ron', 'hi', 'eyebrow', 'rais'): 2, ('agre', 'sir', 'said', 'harri'): 2, ('sir', 'said', 'harri', 'make'): 2, ('harri', 'ron', 'professor', 'mcgonagal'): 2, ('wa', 'still', 'stare', 'harri'): 2, ('harri', 'thought', 'wa', 'go'): 2, ('though', 'said', 'ron', 'look'): 2, ('suddenli', 'grab', 'harri', 'arm'): 2, ('harri', 'wheel', 'around', 'stare'): 2, ('staffroom', 'door', 'bang', 'open'): 2, ('said', 'professor', 'mcgonagal', 'harri'): 3, ('one', 'wild', 'moment', 'harri'): 3, ('right', 'said', 'professor', 'mcgonagal'): 4, ('speak', 'first', 'time', 'sinc'): 2, ('first', 'time', 'sinc', 'enter'): 2, ('ani', 'harri', 'could', 'see'): 2, ('onli', 'wa', 'someth', 'could'): 2, ('face', 'could', 'see', 'look'): 2, ('dark', 'art', 'teacher', 'said'): 4, ('run', 'away', 'said', 'harri'): 2, ('shake', 'hi', 'head', 'impati'): 2, ('lid', 'hi', 'trunk', 'shut'): 2, ('pull', 'hi', 'wand', 'turn'): 2, ('harri', 'reach', 'hi', 'wand'): 2, ('reach', 'hi', 'wand', 'time'): 2, ('wand', 'flew', 'high', 'air'): 2, ('said', 'harri', 'idea', 'said'): 2, ('harri', 'came', 'back', 'wa'): 2, ('hi', 'face', 'look', 'like'): 3, ('said', 'harri', 'look', 'back'): 2, ('made', 'hi', 'mind', 'wa'): 2, ('said', 'ron', 'wa', 'paus'): 2, ('ron', 'harri', 'point', 'wand'): 2, ('said', 'harri', 'hi', 'voic'): 12, ('c', 'mon', 'said', 'ron'): 2, ('harri', 'lower', 'hi', 'wand'): 5, ('harri', 'could', 'see', 'outlin'): 3, ('hi', 'heart', 'beat', 'fast'): 3, ('hi', 'wand', 'held', 'high'): 4, ('sharpli', 'point', 'hi', 'wand'): 2, ('wand', 'high', 'hi', 'head'): 2, ('flung', 'hi', 'arm', 'hi'): 2, ('hi', 'arm', 'hi', 'head'): 6, ('knew', 'wa', 'onli', 'one'): 3, ('keep', 'hi', 'voic', 'steadi'): 3, ('everi', 'nerv', 'harri', 'bodi'): 2, ('heart', 'beat', 'veri', 'fast'): 2, ('pull', 'hi', 'wand', 'move'): 2, ('hogwart', 'fifti', 'year', 'ago'): 2, ('wand', 'hi', 'long', 'finger'): 3, ('said', 'harri', 'stretch', 'hi'): 2, ('harri', 'potter', 'said', 'riddl'): 4, ('said', 'riddl', 'still', 'smile'): 2, ('riddl', 'still', 'smile', 'broadli'): 2, ('harri', 'stare', 'wa', 'someth'): 2, ('back', 'mean', 'said', 'harri'): 2, ('mean', 'said', 'harri', 'whose'): 2, ('said', 'harri', 'whose', 'mouth'): 2, ('mouth', 'gone', 'veri', 'dri'): 2, ('harri', 'hi', 'voic', 'shake'): 4, ('dumbledor', 'never', 'seem', 'like'): 2, ('never', 'seem', 'like', 'much'): 2, ('seem', 'like', 'much', 'teacher'): 2, ('right', 'said', 'harri', 'hi'): 3, ('would', 'go', 'ani', 'length'): 2, ('riddl', 'open', 'hi', 'mouth'): 2, ('wa', 'grow', 'louder', 'wa'): 2, ('weigh', 'hi', 'chanc', 'riddl'): 2, ('open', 'hi', 'mouth', 'wide'): 2, ('harri', 'saw', 'hi', 'mouth'): 2, ('shut', 'hi', 'eye', 'tight'): 2, ('toward', 'harri', 'could', 'hear'): 2, ('hi', 'hand', 'outstretch', 'hi'): 2, ('open', 'hi', 'eye', 'wide'): 2, ('close', 'hi', 'eye', 'turn'): 2, ('harri', 'befor', 'harri', 'could'): 2, ('leav', 'bird', 'boy', 'behind'): 2, ('harri', 'thought', 'hi', 'eye'): 2, ('hi', 'eye', 'screw', 'tight'): 2, ('harri', 'wa', 'hi', 'feet'): 2, ('hi', 'head', 'littl', 'shake'): 2, ('harri', 'rais', 'hi', 'head'): 6, ('wand', 'fell', 'floor', 'clatter'): 2, ('harri', 'pull', 'hi', 'head'): 2, ('right', 'said', 'harri', 'hold'): 2, ('said', 'ron', 'still', 'look'): 2, ('ron', 'rais', 'hi', 'eyebrow'): 3, ('later', 'found', 'themselv', 'outsid'): 2, ('harri', 'howev', 'wa', 'look'): 2, ('said', 'professor', 'mcgonagal', 'weakli'): 2, ('weasley', 'let', 'go', 'harri'): 3, ('harri', 'hi', 'voic', 'grow'): 2, ('hi', 'long', 'crook', 'nose'): 3, ('never', 'trust', 'anyth', 'think'): 2, ('trust', 'anyth', 'think', 'see'): 2, ('anyth', 'think', 'see', 'keep'): 2, ('think', 'see', 'keep', 'brain'): 2, ('look', 'hi', 'shoulder', 'see'): 3, ('shake', 'hi', 'head', 'hi'): 4, ('flutter', 'onto', 'hi', 'knee'): 2, ('wa', 'slytherin', 'heir', 'becaus'): 2, ('harri', 'said', 'dumbledor', 'calmli'): 2, ('onli', 'true', 'gryffindor', 'could'): 2, ('true', 'gryffindor', 'could', 'pull'): 2, ('gryffindor', 'could', 'pull', 'hat'): 2, ('seem', 'think', 'wa', 'best'): 2, ('hi', 'face', 'wa', 'suddenli'): 3, ('said', 'dumbledor', 'smile', 'harri'): 3, ('could', 'hear', 'dobbi', 'squeal'): 2, ('hear', 'dobbi', 'squeal', 'pain'): 2, ('harri', 'potter', 'said', 'softli'): 2, ('harri', 'potter', 'set', 'dobbi'): 2, ('potter', 'set', 'dobbi', 'free'): 2, ('though', 'thi', 'wa', 'obviou'): 2, ('see', 'right', 'said', 'harri'): 3, ('hi', 'arm', 'around', 'harri'): 2, ('defens', 'dark', 'art', 'class'): 3, ('hogwart', 'harri', 'ron', 'hermion'): 2, ('harri', 'ron', 'hermion', 'fred'): 4, ('ron', 'hermion', 'fred', 'georg'): 9, ('hermion', 'fred', 'georg', 'ginni'): 3, ('fred', 'georg', 'ginni', 'got'): 2, ('harri', 'potter', 'prison', 'azkaban'): 3, ('potter', 'prison', 'azkaban', 'rowl'): 2, ('chapter', 'owl', 'post', 'harri'): 2, ('ink', 'bottl', 'roll', 'parchment'): 2, ('ink', 'bottl', 'dip', 'hi'): 2, ('bottl', 'dip', 'hi', 'quill'): 2, ('four', 'privet', 'drive', 'wa'): 3, ('holiday', 'uncl', 'vernon', 'aunt'): 2, ('dudley', 'harri', 'onli', 'live'): 2, ('vernon', 'aunt', 'petunia', 'dudley'): 4, ('uncl', 'vernon', 'new', 'compani'): 2, ('vernon', 'new', 'compani', 'car'): 2, ('harri', 'best', 'friend', 'hogwart'): 2, ('one', 'clock', 'morn', 'harri'): 2, ('eye', 'behind', 'hi', 'glass'): 2, ('second', 'harri', 'realiz', 'wa'): 2, ('harri', 'sat', 'hi', 'bed'): 2, ('grin', 'spread', 'across', 'hi'): 3, ('spread', 'across', 'hi', 'face'): 4, ('hi', 'arm', 'around', 'hi'): 2, ('dear', 'harri', 'happi', 'birthday'): 2, ('final', 'year', 'hogwart', 'wa'): 2, ('pin', 'hi', 'head', 'boy'): 2, ('hi', 'head', 'boy', 'badg'): 2, ('hi', 'bedsid', 'tabl', 'stood'): 2, ('two', 'roll', 'parchment', 'professor'): 2, ('veri', 'good', 'quidditch', 'player'): 2, ('hand', 'rais', 'hi', 'head'): 2, ('fast', 'asleep', 'harri', 'got'): 2, ('permit', 'visit', 'villag', 'hogsmead'): 2, ('professor', 'mcgonagal', 'deputi', 'headmistress'): 2, ('time', 'hi', 'life', 'wa'): 3, ('harri', 'went', 'breakfast', 'next'): 2, ('went', 'breakfast', 'next', 'morn'): 2, ('hi', 'piggi', 'littl', 'eye'): 2, ('uncl', 'vernon', 'larg', 'beefi'): 2, ('said', 'harri', 'grit', 'teeth'): 5, ('said', 'uncl', 'vernon', 'hi'): 3, ('hi', 'great', 'purpl', 'face'): 2, ('attend', 'brutu', 'secur', 'center'): 2, ('brutu', 'secur', 'center', 'incur'): 4, ('secur', 'center', 'incur', 'crimin'): 4, ('got', 'quickli', 'hi', 'feet'): 2, ('want', 'come', 'said', 'harri'): 2, ('uncl', 'vernon', 'well', 'said'): 2, ('center', 'incur', 'crimin', 'boy'): 3, ('uncl', 'vernon', 'larg', 'purpl'): 2, ('vernon', 'larg', 'purpl', 'face'): 2, ('harri', 'stood', 'hi', 'ground'): 2, ('hi', 'fist', 'still', 'rais'): 2, ('back', 'upstair', 'hi', 'bedroom'): 2, ('ron', 'ten', 'minut', 'later'): 2, ('tri', 'make', 'hi', 'hair'): 2, ('make', 'hi', 'hair', 'lie'): 2, ('hi', 'hair', 'lie', 'flat'): 2, ('knew', 'perfectli', 'well', 'dudley'): 2, ('bark', 'across', 'tabl', 'er'): 2, ('ye', 'said', 'harri', 'feel'): 3, ('oh', 'yeah', 'said', 'harri'): 11, ('petunia', 'uncl', 'vernon', 'look'): 3, ('harri', 'felt', 'hi', 'stomach'): 3, ('speak', 'moment', 'look', 'though'): 2, ('bed', 'wrench', 'loos', 'floorboard'): 2, ('pull', 'hi', 'wand', 'point'): 2, ('hi', 'wand', 'wa', 'still'): 5, ('wa', 'still', 'clutch', 'hi'): 3, ('still', 'clutch', 'hi', 'hand'): 4, ('hi', 'heart', 'wa', 'thump'): 2, ('cloak', 'inherit', 'hi', 'father'): 2, ('hi', 'wand', 'flew', 'hi'): 2, ('wand', 'flew', 'hi', 'hand'): 3, ('harri', 'saw', 'rais', 'hi'): 2, ('violent', 'purpl', 'bu', 'appear'): 2, ('purpl', 'bu', 'appear', 'thin'): 2, ('bu', 'appear', 'thin', 'air'): 2, ('harri', 'snatch', 'hi', 'wand'): 2, ('mouth', 'wa', 'slightli', 'open'): 2, ('hi', 'trunk', 'hedwig', 'cage'): 5, ('harri', 'nervous', 'flatten', 'hi'): 2, ('nervous', 'flatten', 'hi', 'bang'): 2, ('harri', 'wa', 'still', 'look'): 2, ('wa', 'anoth', 'loud', 'bang'): 2, ('wonder', 'wa', 'go', 'happen'): 4, ('minist', 'magic', 'corneliu', 'fudg'): 3, ('black', 'murder', 'thirteen', 'peopl'): 2, ('hi', 'defens', 'dark', 'art'): 4, ('said', 'harri', 'without', 'think'): 4, ('onli', 'last', 'year', 'harri'): 2, ('leaki', 'cauldron', 'harri', 'said'): 2, ('corneliu', 'fudg', 'minist', 'magic'): 6, ('harri', 'trunk', 'hedwig', 'cage'): 2, ('harri', 'believ', 'hi', 'ear'): 2, ('stay', 'hogwart', 'christma', 'easter'): 2, ('okay', 'said', 'harri', 'slowli'): 2, ('fudg', 'clear', 'hi', 'throat'): 2, ('snowi', 'owl', 'click', 'beak'): 2, ('florean', 'fortescu', 'ice', 'cream'): 2, ('fortescu', 'ice', 'cream', 'parlor'): 2, ('ever', 'seen', 'hi', 'life'): 4, ('care', 'magic', 'creatur', 'divin'): 2, ('copi', 'monster', 'book', 'monster'): 2, ('monster', 'book', 'monster', 'wa'): 2, ('hagrid', 'said', 'would', 'come'): 2, ('said', 'harri', 'need', 'get'): 2, ('help', 'ye', 'said', 'harri'): 2, ('ye', 'said', 'harri', 'look'): 2, ('said', 'ye', 'said', 'harri'): 2, ('said', 'harri', 'tear', 'hi'): 2, ('harri', 'tear', 'hi', 'eye'): 2, ('made', 'hi', 'way', 'back'): 4, ('dear', 'said', 'hi', 'mirror'): 2, ('said', 'ron', 'grin', 'harri'): 3, ('ron', 'said', 'hermion', 'sharpli'): 3, ('look', 'thi', 'said', 'ron'): 3, ('said', 'ron', 'roll', 'hi'): 3, ('ron', 'roll', 'hi', 'eye'): 8, ('roll', 'hi', 'eye', 'harri'): 4, ('said', 'ron', 'hi', 'mouth'): 3, ('ask', 'said', 'weasley', 'look'): 2, ('said', 'weasley', 'look', 'extrem'): 2, ('onli', 'thing', 'know', 'sure'): 2, ('talk', 'hi', 'sleep', 'alway'): 2, ('hi', 'sleep', 'alway', 'word'): 2, ('wa', 'read', 'front', 'page'): 2, ('front', 'page', 'daili', 'prophet'): 2, ('toward', 'barrier', 'platform', 'nine'): 3, ('ginni', 'caught', 'harri', 'eye'): 2, ('hermion', 'join', 'harri', 'ron'): 2, ('take', 'care', 'harri', 'said'): 2, ('said', 'harri', 'alreadi', 'know'): 2, ('harri', 'said', 'weasley', 'talk'): 2, ('harri', 'ron', 'hermion', 'set'): 4, ('window', 'harri', 'ron', 'hermion'): 2, ('dark', 'art', 'teacher', 'last'): 2, ('look', 'troubl', 'said', 'harri'): 2, ('nod', 'toward', 'professor', 'lupin'): 2, ('yeah', 'think', 'said', 'ron'): 3, ('said', 'ron', 'wa', 'plainli'): 2, ('word', 'hermion', 'wa', 'say'): 2, ('head', 'gryffindor', 'hous', 'wa'): 2, ('ron', 'said', 'hermion', 'angrili'): 2, ('larg', 'stack', 'cauldron', 'cake'): 2, ('new', 'teacher', 'said', 'harri'): 2, ('said', 'harri', 'got', 'hi'): 2, ('professor', 'lupin', 'professor', 'lupin'): 2, ('said', 'ron', 'lean', 'forward'): 2, ('said', 'hermion', 'check', 'watch'): 2, ('hermion', 'wa', 'look', 'ron'): 2, ('harri', 'could', 'hear', 'movement'): 2, ('hi', 'feet', 'hi', 'hand'): 2, ('eye', 'roll', 'hi', 'head'): 2, ('harri', 'open', 'hi', 'eye'): 24, ('push', 'hi', 'glass', 'back'): 2, ('ask', 'nervous', 'yeah', 'said'): 2, ('nervous', 'yeah', 'said', 'harri'): 2, ('yeah', 'said', 'harri', 'look'): 4, ('okay', 'harri', 'said', 'hermion'): 2, ('get', 'happen', 'said', 'harri'): 2, ('pull', 'hi', 'wand', 'said'): 2, ('harri', 'said', 'ron', 'look'): 2, ('familiar', 'voic', 'harri', 'ron'): 2, ('voic', 'harri', 'ron', 'hermion'): 4, ('harri', 'ron', 'hermion', 'turn'): 6, ('harri', 'ron', 'hermion', 'follow'): 4, ('ron', 'hermion', 'follow', 'rest'): 2, ('harri', 'could', 'onli', 'assum'): 4, ('befor', 'harri', 'could', 'repli'): 3, ('cours', 'said', 'madam', 'pomfrey'): 2, ('ye', 'said', 'harri', 'veri'): 2, ('said', 'harri', 'veri', 'well'): 2, ('long', 'silver', 'hair', 'beard'): 3, ('dumbledor', 'clear', 'hi', 'throat'): 5, ('defens', 'dark', 'art', 'wa'): 4, ('staff', 'tabl', 'professor', 'lupin'): 2, ('wa', 'common', 'knowledg', 'snape'): 2, ('want', 'defens', 'dark', 'art'): 2, ('defens', 'dark', 'art', 'job'): 5, ('thin', 'sallow', 'face', 'wa'): 2, ('care', 'magic', 'creatur', 'teacher'): 5, ('harri', 'ron', 'hermion', 'stare'): 3, ('ron', 'hermion', 'stare', 'one'): 2, ('hermion', 'stare', 'one', 'anoth'): 2, ('stare', 'hi', 'hand', 'hi'): 2, ('said', 'hagrid', 'wipe', 'hi'): 3, ('away', 'harri', 'ron', 'hermion'): 3, ('ron', 'hermion', 'join', 'gryffindor'): 2, ('larg', 'portrait', 'fat', 'ladi'): 2, ('portrait', 'fat', 'ladi', 'pink'): 2, ('thought', 'hi', 'head', 'except'): 2, ('leav', 'harri', 'ron', 'hermion'): 3, ('harri', 'ron', 'hermion', 'enter'): 5, ('hermion', 'enter', 'great', 'hall'): 2, ('enter', 'great', 'hall', 'breakfast'): 2, ('said', 'harri', 'low', 'voic'): 5, ('hermion', 'said', 'ron', 'frown'): 2, ('enter', 'great', 'hall', 'wa'): 2, ('thi', 'way', 'said', 'hermion'): 2, ('see', 'harri', 'ron', 'hermion'): 2, ('said', 'harri', 'move', 'closer'): 3, ('loudli', 'harri', 'ron', 'hermion'): 2, ('harri', 'ron', 'hermion', 'climb'): 3, ('ron', 'hermion', 'sat', 'themselv'): 2, ('dear', 'said', 'professor', 'trelawney'): 5, ('ron', 'wa', 'right', 'behind'): 2, ('around', 'easter', 'one', 'number'): 2, ('easter', 'one', 'number', 'leav'): 2, ('one', 'number', 'leav', 'us'): 2, ('professor', 'trelawney', 'wa', 'stare'): 2, ('stare', 'transfix', 'professor', 'trelawney'): 2, ('crowd', 'around', 'harri', 'ron'): 2, ('hi', 'head', 'side', 'side'): 2, ('said', 'professor', 'trelawney', 'mistiest'): 2, ('wizard', 'could', 'transform', 'anim'): 2, ('cours', 'said', 'professor', 'mcgonagal'): 2, ('said', 'professor', 'mcgonagal', 'suddenli'): 3, ('see', 'said', 'professor', 'mcgonagal'): 2, ('fix', 'harri', 'beadi', 'eye'): 2, ('anywher', 'yeah', 'said', 'harri'): 2, ('ever', 'care', 'magic', 'creatur'): 2, ('said', 'cold', 'drawl', 'voic'): 2, ('hagrid', 'seem', 'lost', 'hi'): 2, ('rub', 'hi', 'hand', 'togeth'): 4, ('want', 'harri', 'ron', 'hermion'): 2, ('harri', 'ron', 'hermion', 'approach'): 3, ('well', 'done', 'harri', 'said'): 3, ('except', 'malfoy', 'crabb', 'goyl'): 2, ('malfoy', 'crabb', 'goyl', 'look'): 4, ('next', 'moment', 'hagrid', 'wa'): 2, ('common', 'room', 'harri', 'ron'): 2, ('harri', 'ron', 'hermion', 'proceed'): 2, ('hagrid', 'wa', 'sit', 'hi'): 2, ('said', 'shake', 'hi', 'head'): 3, ('shake', 'hi', 'head', 'like'): 3, ('though', 'onli', 'realiz', 'wa'): 2, ('grab', 'hi', 'arm', 'pull'): 2, ('said', 'snape', 'without', 'look'): 2, ('ron', 'seiz', 'hi', 'knife'): 2, ('stare', 'hi', 'hook', 'nose'): 2, ('said', 'malfoy', 'hi', 'voic'): 3, ('look', 'though', 'wa', 'verg'): 2, ('though', 'wa', 'verg', 'tear'): 2, ('pleas', 'sir', 'said', 'hermion'): 2, ('miss', 'granger', 'said', 'snape'): 3, ('daili', 'prophet', 'thi', 'morn'): 2, ('yeah', 'right', 'said', 'harri'): 11, ('five', 'point', 'gryffindor', 'said'): 2, ('point', 'gryffindor', 'said', 'snape'): 2, ('climb', 'step', 'entranc', 'hall'): 3, ('ron', 'look', 'around', 'harri'): 3, ('onli', 'defens', 'dark', 'art'): 2, ('defens', 'dark', 'art', 'thi'): 3, ('first', 'defens', 'dark', 'art'): 2, ('right', 'said', 'professor', 'lupin'): 2, ('lupin', 'rais', 'hi', 'eyebrow'): 2, ('rais', 'hi', 'eyebrow', 'wa'): 2, ('said', 'professor', 'lupin', 'hermion'): 2, ('nevil', 'said', 'professor', 'lupin'): 2, ('wa', 'sure', 'knew', 'wa'): 2, ('push', 'sleev', 'hi', 'robe'): 2, ('sleev', 'hi', 'robe', 'wa'): 2, ('wa', 'hold', 'hi', 'wand'): 3, ('hold', 'hi', 'wand', 'readi'): 3, ('wa', 'point', 'hi', 'wand'): 2, ('rais', 'hi', 'wand', 'readi'): 2, ('around', 'see', 'wa', 'saw'): 2, ('best', 'defens', 'dark', 'art'): 3, ('like', 'care', 'magic', 'creatur'): 2, ('one', 'hundr', 'fifti', 'point'): 2, ('punch', 'fist', 'hi', 'hand'): 2, ('harri', 'return', 'gryffindor', 'common'): 2, ('return', 'gryffindor', 'common', 'room'): 3, ('hogsmead', 'weekend', 'said', 'ron'): 2, ('said', 'ron', 'ask', 'mcgonagal'): 2, ('ron', 'ask', 'mcgonagal', 'go'): 2, ('hermion', 'open', 'mouth', 'argu'): 2, ('hi', 'yellow', 'eye', 'fix'): 2, ('end', 'hi', 'bushi', 'tail'): 2, ('whether', 'could', 'go', 'hogsmead'): 2, ('said', 'hermion', 'anxious', 'harri'): 2, ('bell', 'rang', 'end', 'lesson'): 2, ('longbottom', 'said', 'professor', 'mcgonagal'): 2, ('said', 'professor', 'mcgonagal', 'look'): 6, ('say', 'said', 'professor', 'mcgonagal'): 2, ('said', 'professor', 'mcgonagal', 'stand'): 2, ('said', 'harri', 'hope', 'wa'): 2, ('corridor', 'back', 'gryffindor', 'tower'): 2, ('password', 'said', 'fat', 'ladi'): 3, ('harri', 'wa', 'colin', 'creevey'): 2, ('suspici', 'noth', 'said', 'harri'): 2, ('noth', 'said', 'harri', 'truth'): 2, ('get', 'back', 'common', 'room'): 4, ('harri', 'go', 'back', 'common'): 2, ('go', 'back', 'common', 'room'): 3, ('one', 'room', 'said', 'harri'): 2, ('look', 'around', 'hi', 'offic'): 2, ('right', 'said', 'harri', 'awkwardli'): 2, ('harri', 'ask', 'professor', 'mcgonagal'): 2, ('rais', 'hi', 'eyebrow', 'would'): 2, ('well', 'yeah', 'said', 'harri'): 3, ('yeah', 'said', 'harri', 'wa'): 4, ('harri', 'hi', 'black', 'eye'): 2, ('hi', 'black', 'eye', 'narrow'): 3, ('thank', 'veri', 'much', 'said'): 4, ('said', 'harri', 'put', 'hi'): 2, ('tini', 'black', 'pepper', 'imp'): 2, ('said', 'hermion', 'look', 'anxiou'): 2, ('ron', 'mouth', 'fell', 'open'): 3, ('yeah', 'mayb', 'said', 'harri'): 3, ('tini', 'littl', 'professor', 'flitwick'): 2, ('littl', 'professor', 'flitwick', 'charm'): 2, ('nearli', 'headless', 'nick', 'gryffindor'): 4, ('headless', 'nick', 'gryffindor', 'ghost'): 3, ('hermion', 'grab', 'harri', 'arm'): 3, ('c', 'mon', 'ron', 'said'): 2, ('ron', 'said', 'harri', 'hermion'): 2, ('read', 'hogwart', 'histori', 'said'): 2, ('said', 'ron', 'whi', 'becaus'): 2, ('fill', 'hall', 'harri', 'felt'): 2, ('hi', 'head', 'veri', 'slightli'): 2, ('open', 'hi', 'eye', 'fraction'): 2, ('oh', 'ye', 'said', 'dumbledor'): 9, ('glanc', 'sideway', 'ron', 'hermion'): 2, ('know', 'said', 'harri', 'wearili'): 2, ('wait', 'hold', 'hi', 'breath'): 2, ('shout', 'hi', 'eye', 'bulg'): 2, ('harri', 'suddenli', 'realiz', 'wa'): 2, ('defens', 'dark', 'art', 'classroom'): 3, ('dark', 'art', 'teacher', 'ever'): 2, ('art', 'teacher', 'ever', 'said'): 2, ('snape', 'well', 'well', 'well'): 2, ('ani', 'defens', 'dark', 'art'): 2, ('harri', 'said', 'hermion', 'whi'): 2, ('harri', 'saw', 'malfoy', 'crabb'): 2, ('saw', 'malfoy', 'crabb', 'goyl'): 3, ('malfoy', 'crabb', 'goyl', 'laugh'): 2, ('wa', 'go', 'see', 'snitch'): 2, ('go', 'see', 'snitch', 'thi'): 2, ('pull', 'hi', 'right', 'foot'): 2, ('gryffindor', 'goal', 'post', 'harri'): 2, ('harri', 'look', 'wildli', 'around'): 2, ('scream', 'insid', 'hi', 'head'): 2, ('harri', 'harri', 'pleas', 'harri'): 2, ('harri', 'pleas', 'harri', 'stand'): 2, ('pleas', 'harri', 'stand', 'asid'): 2, ('harri', 'stand', 'asid', 'silli'): 2, ('stand', 'asid', 'silli', 'girl'): 2, ('asid', 'silli', 'girl', 'stand'): 2, ('silli', 'girl', 'stand', 'asid'): 2, ('girl', 'stand', 'asid', 'harri'): 2, ('stand', 'asid', 'harri', 'pleas'): 2, ('asid', 'harri', 'pleas', 'take'): 2, ('harri', 'pleas', 'take', 'kill'): 2, ('pleas', 'take', 'kill', 'instead'): 2, ('wa', 'go', 'die', 'wa'): 2, ('harri', 'pleas', 'merci', 'merci'): 2, ('wa', 'lie', 'hospit', 'wing'): 2, ('said', 'harri', 'suddenli', 'realiz'): 2, ('harri', 'put', 'hi', 'face'): 2, ('put', 'hi', 'face', 'hi'): 3, ('hi', 'face', 'hi', 'knee'): 2, ('hi', 'knee', 'hi', 'hand'): 2, ('hi', 'hand', 'grip', 'hi'): 2, ('ron', 'hermion', 'look', 'quickli'): 2, ('er', 'said', 'harri', 'look'): 2, ('said', 'hermion', 'veri', 'small'): 2, ('hermion', 'veri', 'small', 'voic'): 2, ('spend', 'rest', 'hi', 'life'): 2, ('everi', 'time', 'went', 'near'): 2, ('protect', 'harri', 'lord', 'voldemort'): 2, ('hi', 'mother', 'voic', 'wa'): 2, ('teach', 'defens', 'dark', 'art'): 3, ('dark', 'shadow', 'beneath', 'hi'): 2, ('shadow', 'beneath', 'hi', 'eye'): 2, ('oh', 'said', 'hermion', 'look'): 3, ('said', 'hermion', 'look', 'veri'): 5, ('said', 'lupin', 'turn', 'back'): 2, ('though', 'read', 'harri', 'mind'): 5, ('motion', 'hi', 'arm', 'though'): 2, ('said', 'harri', 'bitterli', 'get'): 2, ('week', 'befor', 'end', 'term'): 2, ('back', 'toward', 'gryffindor', 'tower'): 3, ('bit', 'old', 'parchment', 'said'): 2, ('close', 'hi', 'eye', 'though'): 2, ('mooni', 'wormtail', 'padfoot', 'prong'): 6, ('bounc', 'around', 'trophi', 'room'): 2, ('right', 'outsid', 'thi', 'room'): 2, ('stood', 'look', 'around', 'wa'): 2, ('hi', 'wand', 'mutter', 'lumo'): 3, ('tap', 'tip', 'hi', 'wand'): 2, ('hi', 'wand', 'mutter', 'mischief'): 2, ('fold', 'care', 'tuck', 'insid'): 2, ('tuck', 'insid', 'hi', 'robe'): 3, ('heart', 'beat', 'fast', 'excit'): 2, ('wa', 'imposs', 'tell', 'wa'): 2, ('said', 'ron', 'look', 'veri'): 2, ('harri', 'drop', 'hi', 'voic'): 3, ('said', 'ron', 'goggl', 'hermion'): 2, ('clear', 'hi', 'throat', 'significantli'): 2, ('hermion', 'bit', 'lip', 'look'): 2, ('go', 'butterb', 'three', 'broomstick'): 2, ('hermion', 'made', 'way', 'back'): 2, ('breez', 'ruffl', 'hi', 'hair'): 2, ('harri', 'head', 'forc', 'hi'): 2, ('said', 'professor', 'mcgonagal', 'voic'): 2, ('well', 'thank', 'veri', 'much'): 2, ('fred', 'georg', 'weasley', 'could'): 2, ('natur', 'said', 'professor', 'mcgonagal'): 3, ('across', 'hi', 'forehead', 'hi'): 2, ('pleas', 'said', 'professor', 'mcgonagal'): 3, ('knew', 'wa', 'goin', 'ter'): 2, ('magic', 'law', 'enforc', 'squad'): 3, ('two', 'year', 'ago', 'wa'): 2, ('untidi', 'black', 'hair', 'harri'): 2, ('would', 'never', 'guess', 'wa'): 2, ('harri', 'said', 'ron', 'voic'): 2, ('hi', 'back', 'hi', 'eye'): 2, ('back', 'hi', 'eye', 'wide'): 2, ('empti', 'except', 'ron', 'wa'): 2, ('snow', 'wa', 'still', 'fall'): 2, ('said', 'harri', 'harri', 'listen'): 2, ('harri', 'harri', 'listen', 'said'): 2, ('harri', 'listen', 'said', 'hermion'): 2, ('like', 'said', 'harri', 'like'): 2, ('said', 'harri', 'like', 'tri'): 2, ('ron', 'hermion', 'shook', 'head'): 3, ('said', 'hermion', 'look', 'stricken'): 2, ('like', 'say', 'said', 'ron'): 2, ('harri', 'pleas', 'said', 'hermion'): 2, ('let', 'go', 'said', 'harri'): 2, ('hagrid', 'said', 'harri', 'firmli'): 2, ('better', 'go', 'get', 'someon'): 2, ('go', 'get', 'someon', 'said'): 2, ('door', 'creak', 'open', 'hagrid'): 2, ('twice', 'size', 'normal', 'man'): 2, ('committe', 'dispos', 'danger', 'creatur'): 6, ('hagrid', 'wipe', 'hi', 'eye'): 2, ('harri', 'ron', 'hermion', 'whip'): 3, ('ron', 'hermion', 'whip', 'around'): 3, ('around', 'ron', 'hermion', 'look'): 2, ('yeah', 'great', 'said', 'ron'): 2, ('oh', 'said', 'ron', 'hi'): 2, ('never', 'heard', 'hagrid', 'talk'): 2, ('heard', 'hagrid', 'talk', 'hi'): 2, ('ter', 'go', 'back', 'ter'): 2, ('suit', 'armor', 'great', 'hall'): 2, ('great', 'hall', 'wa', 'fill'): 2, ('usual', 'twelv', 'christma', 'tree'): 3, ('said', 'ron', 'hush', 'voic'): 3, ('well', 'said', 'harri', 'feel'): 2, ('though', 'said', 'harri', 'dumbledor'): 2, ('said', 'harri', 'dumbledor', 'wa'): 2, ('hospit', 'wing', 'said', 'ron'): 2, ('ron', 'know', 'said', 'hermion'): 2, ('said', 'hermion', 'shrilli', 'harri'): 2, ('said', 'ron', 'befor', 'hermion'): 2, ('ron', 'befor', 'hermion', 'could'): 2, ('befor', 'hermion', 'could', 'answer'): 5, ('wa', 'sure', 'ron', 'would'): 2, ('dumbledor', 'harri', 'ron', 'hermion'): 2, ('sit', 'harri', 'ron', 'hermion'): 2, ('door', 'great', 'hall', 'open'): 3, ('dumbledor', 'hi', 'eye', 'twinkl'): 3, ('sibyl', 'said', 'professor', 'mcgonagal'): 2, ('said', 'professor', 'mcgonagal', 'impati'): 2, ('said', 'professor', 'mcgonagal', 'tartli'): 3, ('said', 'professor', 'mcgonagal', 'dryli'): 2, ('dunno', 'said', 'ron', 'look'): 2, ('come', 'harri', 'said', 'hermion'): 4, ('said', 'hermion', 'hermion', 'mutter'): 2, ('swung', 'forward', 'admit', 'harri'): 3, ('firebolt', 'broomstick', 'servic', 'kit'): 2, ('broomstick', 'servic', 'kit', 'hermion'): 2, ('servic', 'kit', 'hermion', 'given'): 2, ('kit', 'hermion', 'given', 'hi'): 2, ('portrait', 'hole', 'open', 'hermion'): 2, ('though', 'professor', 'mcgonagal', 'wa'): 2, ('harri', 'ron', 'look', 'around'): 2, ('ron', 'look', 'around', 'hermion'): 2, ('may', 'said', 'professor', 'mcgonagal'): 2, ('scrambl', 'hi', 'feet', 'whi'): 2, ('hi', 'voic', 'shake', 'slightli'): 2, ('lower', 'hi', 'voic', 'said'): 2, ('said', 'harri', 'quickli', 'professor'): 2, ('wa', 'defens', 'dark', 'art'): 4, ('defens', 'dark', 'art', 'harri'): 2, ('eight', 'clock', 'thursday', 'even'): 2, ('hermion', 'tri', 'get', 'us'): 2, ('said', 'harri', 'tri', 'sound'): 5, ('harri', 'tri', 'sound', 'though'): 3, ('look', 'like', 'said', 'harri'): 2, ('harri', 'cast', 'hi', 'mind'): 3, ('expecto', 'patronum', 'expecto', 'patronum'): 3, ('yeah', 'said', 'harri', 'quickli'): 2, ('grip', 'hi', 'wand', 'veri'): 2, ('hi', 'wand', 'veri', 'tightli'): 2, ('tri', 'keep', 'hi', 'mind'): 3, ('expecto', 'patronum', 'harri', 'yell'): 3, ('patronum', 'harri', 'yell', 'expecto'): 2, ('harri', 'yell', 'expecto', 'patronum'): 2, ('insid', 'hi', 'head', 'harri'): 3, ('harri', 'harri', 'pleas', 'anyth'): 2, ('harri', 'pleas', 'anyth', 'stand'): 2, ('pleas', 'anyth', 'stand', 'asid'): 2, ('anyth', 'stand', 'asid', 'stand'): 2, ('stand', 'asid', 'stand', 'asid'): 2, ('asid', 'stand', 'asid', 'girl'): 2, ('wa', 'lie', 'flat', 'hi'): 4, ('lie', 'flat', 'hi', 'back'): 4, ('flat', 'hi', 'back', 'floor'): 2, ('grip', 'hi', 'wand', 'tightli'): 3, ('lili', 'take', 'harri', 'go'): 2, ('take', 'harri', 'go', 'go'): 2, ('harri', 'go', 'go', 'run'): 2, ('go', 'go', 'run', 'hold'): 2, ('got', 'hi', 'feet', 'face'): 2, ('burst', 'end', 'harri', 'wand'): 2, ('head', 'back', 'gryffindor', 'tower'): 3, ('even', 'open', 'hi', 'mouth'): 2, ('still', 'look', 'slightli', 'suspici'): 2, ('upstair', 'toward', 'gryffindor', 'tower'): 2, ('said', 'harri', 'hi', 'heart'): 9, ('oh', 'shut', 'said', 'ron'): 2, ('get', 'harri', 'let', 'go'): 2, ('said', 'hermion', 'harri', 'saw'): 2, ('yeah', 'true', 'said', 'harri'): 2, ('madam', 'hooch', 'wa', 'still'): 2, ('ride', 'comet', 'two', 'sixti'): 2, ('mount', 'hi', 'firebolt', 'kick'): 2, ('yeah', 'said', 'harri', 'think'): 2, ('toward', 'castl', 'harri', 'glanc'): 2, ('said', 'ron', 'harri', 'point'): 2, ('pull', 'hi', 'wand', 'mutter'): 3, ('befor', 'could', 'anyth', 'els'): 2, ('great', 'hall', 'head', 'turn'): 2, ('hi', 'wand', 'hi', 'pocket'): 4, ('mount', 'broom', 'whistl', 'three'): 2, ('broom', 'whistl', 'three', 'two'): 2, ('whistl', 'three', 'two', 'one'): 2, ('gaze', 'around', 'glint', 'gold'): 2, ('wa', 'ten', 'feet', 'away'): 2, ('gryffindor', 'lead', 'eighti', 'point'): 2, ('erupt', 'end', 'hi', 'wand'): 2, ('felt', 'though', 'hi', 'head'): 2, ('said', 'voic', 'harri', 'ear'): 2, ('voic', 'harri', 'ear', 'harri'): 2, ('away', 'tabl', 'fred', 'georg'): 2, ('said', 'hermion', 'sound', 'slightli'): 2, ('go', 'bed', 'harri', 'ron'): 2, ('bed', 'harri', 'ron', 'climb'): 2, ('hi', 'firebolt', 'hi', 'shoulder'): 2, ('professor', 'mcgonagal', 'told', 'us'): 2, ('enough', 'professor', 'mcgonagal', 'wa'): 2, ('seventh', 'floor', 'fat', 'ladi'): 2, ('ron', 'hermion', 'onli', 'one'): 2, ('harri', 'wa', 'glad', 'ron'): 2, ('gryffindor', 'tower', 'pass', 'secur'): 2, ('tower', 'pass', 'secur', 'troll'): 2, ('said', 'ron', 'look', 'slightli'): 5, ('ron', 'look', 'slightli', 'put'): 2, ('hagrid', 'cabin', 'wa', 'wa'): 2, ('ear', 'harri', 'start', 'look'): 2, ('harri', 'start', 'look', 'around'): 3, ('hermion', 'wa', 'sit', 'tabl'): 2, ('harri', 'look', 'around', 'check'): 2, ('hi', 'invis', 'cloak', 'hi'): 6, ('invis', 'cloak', 'hi', 'bag'): 5, ('slip', 'maraud', 'map', 'hi'): 2, ('maraud', 'map', 'hi', 'pocket'): 3, ('map', 'hi', 'pocket', 'went'): 2, ('harri', 'look', 'back', 'snape'): 2, ('dot', 'label', 'severu', 'snape'): 2, ('label', 'severu', 'snape', 'wa'): 2, ('hidden', 'beneath', 'invis', 'cloak'): 5, ('mutter', 'corner', 'hi', 'mouth'): 2, ('money', 'bag', 'consider', 'lighter'): 2, ('nearli', 'headless', 'nick', 'say'): 2, ('back', 'ron', 'robe', 'stop'): 2, ('better', 'get', 'back', 'castl'): 2, ('potter', 'said', 'snape', 'harri'): 3, ('potter', 'said', 'harri', 'tri'): 2, ('snape', 'wa', 'tri', 'provok'): 2, ('hi', 'eye', 'glint', 'wa'): 2, ('said', 'harri', 'befor', 'could'): 6, ('harri', 'befor', 'could', 'stop'): 6, ('harri', 'tri', 'hi', 'might'): 2, ('harri', 'clench', 'hi', 'hand'): 2, ('harri', 'close', 'hi', 'eye'): 10, ('certainli', 'said', 'snape', 'hi'): 2, ('continu', 'stare', 'map', 'harri'): 2, ('said', 'harri', 'quickli', 'see'): 2, ('clutch', 'stitch', 'hi', 'chest'): 2, ('clap', 'hi', 'hand', 'togeth'): 5, ('hi', 'hand', 'togeth', 'look'): 2, ('would', 'want', 'lure', 'school'): 2, ('hermion', 'wa', 'walk', 'toward'): 2, ('hermion', 'flung', 'arm', 'around'): 2, ('flung', 'arm', 'around', 'ron'): 4, ('arm', 'around', 'ron', 'neck'): 2, ('said', 'ron', 'look', 'thoroughli'): 2, ('harri', 'ron', 'hermion', 'go'): 3, ('care', 'magic', 'creatur', 'lesson'): 9, ('could', 'see', 'malfoy', 'wa'): 2, ('hi', 'face', 'buri', 'hi'): 3, ('malfoy', 'crabb', 'goyl', 'stand'): 5, ('look', 'behind', 'hermion', 'gone'): 2, ('behind', 'hermion', 'gone', 'harri'): 2, ('said', 'harri', 'stare', 'ron'): 2, ('portrait', 'hole', 'common', 'room'): 4, ('common', 'room', 'hermion', 'wa'): 2, ('hermion', 'said', 'ron', 'look'): 2, ('mist', 'harri', 'ron', 'hermion'): 2, ('said', 'familiar', 'misti', 'voic'): 2, ('misti', 'voic', 'professor', 'trelawney'): 2, ('said', 'professor', 'trelawney', 'sit'): 2, ('face', 'wa', 'hidden', 'shadow'): 2, ('hi', 'fist', 'hi', 'mouth'): 2, ('harri', 'felt', 'hi', 'heart'): 2, ('felt', 'hi', 'heart', 'sink'): 2, ('harri', 'wa', 'prepar', 'bet'): 2, ('ron', 'mutter', 'harri', 'look'): 3, ('gryffindor', 'common', 'room', 'night'): 2, ('said', 'ron', 'yeah', 'said'): 2, ('yeah', 'said', 'harri', 'hi'): 3, ('malfoy', 'rest', 'slytherin', 'team'): 2, ('wa', 'second', 'befor', 'harri'): 2, ('harri', 'wa', 'sure', 'could'): 4, ('team', 'enter', 'great', 'hall'): 2, ('front', 'door', 'castl', 'open'): 2, ('green', 'silver', 'serpent', 'slytherin'): 2, ('captain', 'shake', 'hand', 'said'): 2, ('look', 'though', 'wa', 'tri'): 2, ('moment', 'later', 'fred', 'weasley'): 2, ('gryffindor', 'wa', 'fifti', 'point'): 2, ('gryffindor', 'back', 'possess', 'kati'): 2, ('back', 'possess', 'kati', 'bell'): 2, ('kati', 'bell', 'kati', 'bell'): 2, ('bell', 'kati', 'bell', 'gryffindor'): 2, ('harri', 'could', 'almost', 'feel'): 2, ('seiz', 'harri', 'around', 'neck'): 2, ('hi', 'shoulder', 'harri', 'felt'): 2, ('toward', 'harri', 'ron', 'hermion'): 2, ('said', 'harri', 'said', 'hermion'): 4, ('said', 'ron', 'veri', 'quietli'): 2, ('exam', 'ani', 'ever', 'taken'): 2, ('defens', 'dark', 'art', 'professor'): 3, ('hi', 'pinstrip', 'cloak', 'wa'): 2, ('ye', 'said', 'harri', 'hermion'): 2, ('harri', 'look', 'saw', 'wa'): 2, ('head', 'toward', 'entranc', 'hall'): 2, ('ron', 'dad', 'work', 'ministri'): 3, ('said', 'ron', 'offhand', 'voic'): 2, ('kept', 'check', 'hi', 'watch'): 2, ('look', 'hi', 'watch', 'wa'): 2, ('cast', 'hi', 'mind', 'around'): 2, ('ye', 'said', 'harri', 'firmli'): 2, ('harri', 'wheel', 'around', 'professor'): 2, ('look', 'though', 'wa', 'sort'): 2, ('set', 'rejoin', 'hi', 'master'): 2, ('five', 'minut', 'later', 'wa'): 2, ('got', 'go', 'said', 'harri'): 2, ('hi', 'head', 'hi', 'hand'): 4, ('invis', 'cloak', 'said', 'hermion'): 2, ('said', 'hermion', 'get', 'feet'): 2, ('sun', 'wa', 'alreadi', 'sink'): 2, ('wear', 'invis', 'cloak', 'let'): 2, ('invis', 'cloak', 'let', 'us'): 2, ('cloak', 'let', 'us', 'take'): 2, ('let', 'us', 'take', 'yeh'): 2, ('us', 'take', 'yeh', 'come'): 2, ('take', 'yeh', 'come', 'hagrid'): 2, ('yeh', 'come', 'hagrid', 'whisper'): 2, ('come', 'hagrid', 'whisper', 'stood'): 2, ('hagrid', 'whisper', 'stood', 'back'): 2, ('swallow', 'hi', 'eye', 'dart'): 2, ('shook', 'hi', 'shaggi', 'head'): 2, ('hi', 'eye', 'fix', 'window'): 2, ('wa', 'albu', 'dumbledor', 'hi'): 2, ('turn', 'harri', 'ron', 'hermion'): 2, ('hagrid', 'tell', 'realli', 'happen'): 2, ('tell', 'realli', 'happen', 'kill'): 2, ('realli', 'happen', 'kill', 'go'): 2, ('bad', 'enough', 'without', 'lot'): 2, ('enough', 'without', 'lot', 'troubl'): 2, ('heard', 'door', 'open', 'behind'): 2, ('hermion', 'seiz', 'hi', 'arm'): 2, ('set', 'back', 'toward', 'castl'): 2, ('light', 'wa', 'fade', 'fast'): 2, ('away', 'get', 'away', 'scabber'): 2, ('get', 'away', 'scabber', 'come'): 2, ('gotcha', 'get', 'stink', 'cat'): 2, ('wa', 'littl', 'way', 'along'): 2, ('harri', 'look', 'around', 'hi'): 4, ('hermion', 'grip', 'harri', 'arm'): 2, ('wa', 'ron', 'harri', 'hermion'): 2, ('hi', 'yellow', 'teeth', 'bare'): 2, ('need', 'tell', 'twice', 'hermion'): 2, ('chest', 'rose', 'fell', 'rapidli'): 2, ('hi', 'wand', 'point', 'straight'): 3, ('parent', 'said', 'harri', 'hi'): 3, ('said', 'voic', 'hi', 'head'): 2, ('hi', 'wand', 'rais', 'readi'): 2, ('rais', 'hi', 'empti', 'hand'): 3, ('hi', 'empti', 'hand', 'point'): 2, ('harri', 'could', 'feel', 'shake'): 2, ('help', 'siriu', 'said', 'lupin'): 2, ('said', 'harri', 'saw', 'anoth'): 2, ('put', 'hand', 'insid', 'hi'): 2, ('hand', 'insid', 'hi', 'robe'): 6, ('rais', 'hi', 'wand', 'point'): 7, ('remu', 'snarl', 'black', 'wa'): 2, ('snarl', 'black', 'wa', 'still'): 2, ('black', 'wa', 'still', 'watch'): 2, ('could', 'hardli', 'fail', 'notic'): 2, ('look', 'harri', 'ron', 'hermion'): 3, ('harri', 'ron', 'hermion', 'professor'): 2, ('appoint', 'defens', 'dark', 'art'): 2, ('told', 'harri', 'ron', 'hermion'): 3, ('pull', 'invis', 'cloak', 'hi'): 2, ('hi', 'wand', 'point', 'directli'): 4, ('wand', 'point', 'directli', 'lupin'): 2, ('wand', 'point', 'lupin', 'chest'): 2, ('hi', 'face', 'wa', 'full'): 2, ('said', 'snape', 'hi', 'eye'): 2, ('spark', 'shot', 'end', 'hi'): 2, ('shot', 'end', 'hi', 'wand'): 2, ('wand', 'wa', 'still', 'point'): 3, ('wa', 'lift', 'hi', 'feet'): 4, ('lift', 'hi', 'feet', 'slam'): 2, ('harri', 'look', 'around', 'ron'): 5, ('look', 'around', 'ron', 'hermion'): 5, ('go', 'back', 'hogwart', 'harri'): 2, ('said', 'ron', 'nod', 'toward'): 3, ('shook', 'hi', 'head', 'slowli'): 2, ('harri', 'never', 'heard', 'befor'): 4, ('count', 'three', 'one', 'two'): 7, ('three', 'one', 'two', 'three'): 6, ('eye', 'dart', 'toward', 'door'): 2, ('hi', 'whole', 'face', 'wa'): 2, ('wipe', 'hi', 'face', 'hi'): 2, ('hi', 'face', 'hi', 'sleev'): 2, ('open', 'hi', 'mouth', 'close'): 4, ('stare', 'hermion', 'though', 'never'): 2, ('though', 'never', 'seen', 'anyth'): 3, ('wa', 'shake', 'hi', 'head'): 5, ('turn', 'hi', 'head', 'slowli'): 2, ('lupin', 'stood', 'shoulder', 'shoulder'): 2, ('wand', 'harri', 'could', 'see'): 2, ('lupin', 'pettigrew', 'ron', 'clamber'): 2, ('hi', 'parent', 'best', 'friend'): 2, ('harri', 'yell', 'point', 'hi'): 2, ('yell', 'point', 'hi', 'wand'): 2, ('hi', 'hand', 'hi', 'head'): 3, ('think', 'someth', 'happi', 'harri'): 2, ('go', 'live', 'expecto', 'patronum'): 2, ('hi', 'ear', 'wa', 'go'): 2, ('last', 'thing', 'ever', 'heard'): 2, ('rais', 'hi', 'head', 'inch'): 2, ('hi', 'head', 'hit', 'ground'): 2, ('hi', 'eye', 'tight', 'shut'): 2, ('harri', 'move', 'hi', 'head'): 2, ('press', 'finger', 'lip', 'point'): 2, ('said', 'harri', 'hermion', 'togeth'): 5, ('put', 'hi', 'glass', 'back'): 2, ('potter', 'said', 'madam', 'pomfrey'): 3, ('done', 'veri', 'good', 'job'): 2, ('harri', 'swallow', 'hi', 'mouth'): 2, ('speak', 'harri', 'hermion', 'alon'): 2, ('slam', 'door', 'behind', 'fudg'): 2, ('felt', 'though', 'ground', 'beneath'): 2, ('said', 'dumbledor', 'slowli', 'hi'): 2, ('hi', 'light', 'blue', 'eye'): 2, ('window', 'right', 'west', 'tower'): 2, ('five', 'minut', 'midnight', 'miss'): 2, ('minut', 'midnight', 'miss', 'granger'): 2, ('midnight', 'miss', 'granger', 'three'): 2, ('miss', 'granger', 'three', 'turn'): 2, ('granger', 'three', 'turn', 'good'): 2, ('chain', 'around', 'hi', 'neck'): 3, ('harri', 'could', 'see', 'hermion'): 2, ('press', 'hi', 'ear', 'door'): 3, ('top', 'tree', 'forbidden', 'forest'): 2, ('said', 'harri', 'thi', 'wa'): 2, ('insid', 'hagrid', 'cabin', 'hagrid'): 2, ('hermion', 'said', 'harri', 'suddenli'): 2, ('said', 'hermion', 'terrifi', 'whisper'): 2, ('see', 'professor', 'mcgonagal', 'told'): 2, ('okay', 'said', 'harri', 'wa'): 2, ('fudg', 'old', 'committe', 'member'): 2, ('sure', 'enough', 'moment', 'later'): 2, ('hagrid', 'back', 'door', 'open'): 2, ('invis', 'cloak', 'ron', 'go'): 2, ('knock', 'hagrid', 'front', 'door'): 2, ('harri', 'could', 'still', 'hear'): 5, ('said', 'harri', 'think', 'hard'): 2, ('go', 'okay', 'said', 'hermion'): 2, ('ron', 'said', 'harri', 'suddenli'): 2, ('seiz', 'back', 'harri', 'robe'): 2, ('said', 'hermion', 'quietli', 'got'): 2, ('harri', 'wa', 'onli', 'one'): 2, ('could', 'see', 'look', 'like'): 3, ('look', 'like', 'said', 'hermion'): 3, ('said', 'harri', 'slowli', 'mayb'): 2, ('know', 'said', 'harri', 'quickli'): 2, ('said', 'harri', 'quickli', 'think'): 2, ('hermion', 'wa', 'still', 'look'): 2, ('hi', 'father', 'hi', 'father'): 2, ('though', 'knew', 'exactli', 'wa'): 2, ('knew', 'exactli', 'wa', 'think'): 2, ('know', 'said', 'harri', 'slowli'): 3, ('came', 'harri', 'rais', 'hi'): 2, ('rais', 'hi', 'head', 'look'): 3, ('hi', 'wand', 'expecto', 'patronum'): 2, ('hi', 'eye', 'tri', 'see'): 2, ('great', 'leap', 'hi', 'heart'): 2, ('thi', 'time', 'said', 'harri'): 4, ('harri', 'check', 'hi', 'watch'): 3, ('check', 'hi', 'watch', 'look'): 2, ('buckbeak', 'side', 'hi', 'heel'): 2, ('befor', 'dumbledor', 'lock', 'door'): 2, ('veri', 'bad', 'mood', 'harri'): 2, ('hi', 'finger', 'distractedli', 'hi'): 2, ('sit', 'rub', 'hi', 'head'): 2, ('ron', 'hermion', 'left', 'hospit'): 2, ('behind', 'harri', 'professor', 'dumbledor'): 2, ('accident', 'let', 'slip', 'werewolf'): 2, ('lupin', 'shook', 'hi', 'head'): 2, ('invis', 'cloak', 'hi', 'pocket'): 2, ('look', 'dumbledor', 'wa', 'still'): 2, ('make', 'ani', 'differ', 'said'): 3, ('dumbledor', 'look', 'though', 'knew'): 2, ('harri', 'defens', 'dark', 'art'): 2, ('tell', 'us', 'said', 'ron'): 2, ('look', 'around', 'harri', 'wa'): 3, ('quidditch', 'world', 'cup', 'thi'): 2, ('harri', 'said', 'hermion', 'suddenli'): 2, ('wa', 'anoth', 'piec', 'parchment'): 2, ('clutch', 'tightli', 'hi', 'hand'): 2, ('librari', 'congress', 'data', 'avail'): 2, ('congress', 'data', 'avail', 'librari'): 2, ('data', 'avail', 'librari', 'congress'): 2, ('hi', 'fourth', 'year', 'hogwart'): 2, ('first', 'american', 'edit', 'juli'): 2, ('american', 'edit', 'juli', 'chapter'): 2, ('cottag', 'ground', 'riddl', 'hous'): 2, ('hi', 'walk', 'stick', 'wa'): 3, ('either', 'side', 'front', 'door'): 2, ('wa', 'wear', 'long', 'black'): 3, ('wear', 'long', 'black', 'cloak'): 2, ('nagini', 'said', 'cold', 'voic'): 2, ('said', 'cold', 'voic', 'perhap'): 2, ('befor', 'quidditch', 'world', 'cup'): 2, ('hi', 'voic', 'wa', 'one'): 2, ('wormtail', 'said', 'cold', 'voic'): 3, ('never', 'heard', 'befor', 'wa'): 2, ('fire', 'wa', 'onli', 'sourc'): 2, ('wa', 'onli', 'sourc', 'light'): 2, ('see', 'back', 'hi', 'head'): 2, ('muggl', 'said', 'cold', 'voic'): 2, ('wa', 'flash', 'green', 'light'): 3, ('green', 'light', 'rush', 'sound'): 2, ('boy', 'call', 'harri', 'potter'): 2, ('lay', 'flat', 'hi', 'back'): 3, ('old', 'scar', 'hi', 'forehead'): 2, ('bedsid', 'tabl', 'put', 'hi'): 3, ('scar', 'wa', 'still', 'pain'): 2, ('hi', 'bright', 'green', 'eye'): 3, ('hi', 'untidi', 'black', 'hair'): 2, ('thought', 'close', 'hi', 'eye'): 2, ('close', 'hi', 'eye', 'tightli'): 2, ('dimli', 'lit', 'room', 'wa'): 2, ('open', 'hi', 'eye', 'stare'): 2, ('hi', 'snowi', 'owl', 'hedwig'): 3, ('far', 'harri', 'could', 'see'): 2, ('harri', 'could', 'see', 'dark'): 2, ('lost', 'bone', 'hi', 'right'): 2, ('bone', 'hi', 'right', 'arm'): 3, ('hi', 'right', 'arm', 'onc'): 2, ('aunt', 'petunia', 'dudley', 'harri'): 2, ('lightn', 'scar', 'hi', 'forehead'): 3, ('turn', 'hi', 'wand', 'harri'): 4, ('hi', 'two', 'best', 'friend'): 2, ('told', 'hi', 'scar', 'hurt'): 2, ('common', 'magic', 'ailment', 'afflict'): 2, ('harri', 'ron', 'hermion', 'knew'): 3, ('hi', 'school', 'thing', 'hi'): 2, ('heard', 'uncl', 'vernon', 'aunt'): 2, ('got', 'hi', 'feet', 'stretch'): 2, ('uncl', 'vernon', 'glare', 'harri'): 3, ('cup', 'take', 'place', 'thi'): 2, ('depart', 'magic', 'game', 'sport'): 4, ('hi', 'hand', 'back', 'hi'): 2, ('uncl', 'vernon', 'wa', 'still'): 2, ('wa', 'still', 'glare', 'harri'): 2, ('harri', 'tri', 'keep', 'hi'): 2, ('harri', 'thought', 'knew', 'wa'): 2, ('said', 'harri', 'friend', 'ron'): 2, ('said', 'uncl', 'vernon', 'loudli'): 4, ('harri', 'saw', 'hi', 'lip'): 2, ('go', 'quidditch', 'world', 'cup'): 2, ('harri', 'took', 'deep', 'steadi'): 2, ('took', 'deep', 'steadi', 'breath'): 3, ('quidditch', 'world', 'cup', 'harri'): 2, ('wa', 'go', 'watch', 'quidditch'): 2, ('go', 'watch', 'quidditch', 'world'): 2, ('watch', 'quidditch', 'world', 'cup'): 2, ('side', 'hi', 'head', 'harri'): 2, ('pronto', 'come', 'get', 'five'): 2, ('come', 'get', 'five', 'clock'): 2, ('get', 'five', 'clock', 'sunday'): 2, ('depart', 'intern', 'magic', 'cooper'): 4, ('could', 'onli', 'assum', 'wa'): 2, ('said', 'harri', 'uncl', 'vernon'): 2, ('wa', 'realli', 'listen', 'hi'): 2, ('back', 'away', 'sever', 'pace'): 2, ('befor', 'harri', 'wa', 'readi'): 2, ('said', 'harri', 'grin', 'back'): 2, ('room', 'harri', 'could', 'hear'): 2, ('harri', 'saw', 'hi', 'hand'): 3, ('said', 'weasley', 'point', 'hi'): 2, ('second', 'later', 'harri', 'realiz'): 2, ('weasley', 'wizard', 'wheez', 'harri'): 2, ('hi', 'feet', 'yeah', 'said'): 2, ('feet', 'yeah', 'said', 'harri'): 3, ('got', 'hi', 'feet', 'smile'): 2, ('befor', 'ani', 'could', 'say'): 3, ('ani', 'could', 'say', 'anyth'): 2, ('could', 'say', 'anyth', 'els'): 3, ('weasley', 'appear', 'thin', 'air'): 2, ('look', 'angrier', 'harri', 'ever'): 3, ('angrier', 'harri', 'ever', 'seen'): 3, ('weasley', 'enter', 'kitchen', 'wa'): 2, ('ron', 'friend', 'hermion', 'granger'): 2, ('ron', 'younger', 'sister', 'ginni'): 2, ('ever', 'sinc', 'hi', 'first'): 2, ('harri', 'said', 'hermion', 'get'): 2, ('thank', 'lot', 'said', 'harri'): 2, ('magic', 'game', 'sport', 'ludo'): 2, ('game', 'sport', 'ludo', 'bagman'): 2, ('harri', 'ron', 'hermion', 'sit'): 2, ('rais', 'hi', 'voic', 'slightli'): 3, ('silli', 'dear', 'said', 'weasley'): 2, ('like', 'said', 'ginni', 'wa'): 2, ('wa', 'stuck', 'privet', 'drive'): 2, ('tell', 'ron', 'hermion', 'hi'): 2, ('look', 'like', 'muggl', 'harri'): 2, ('harri', 'yeah', 'said', 'harri'): 6, ('harri', 'ask', 'oh', 'ye'): 2, ('oh', 'ye', 'said', 'weasley'): 2, ('back', 'pocket', 'hi', 'jean'): 2, ('accident', 'magic', 'revers', 'squad'): 3, ('said', 'weasley', 'harri', 'ron'): 2, ('weasley', 'harri', 'ron', 'hermion'): 2, ('harri', 'ron', 'hermion', 'ginni'): 9, ('wizard', 'scrubbi', 'brown', 'beard'): 2, ('scrubbi', 'brown', 'beard', 'wa'): 2, ('depart', 'regul', 'control', 'magic'): 10, ('regul', 'control', 'magic', 'creatur'): 9, ('hi', 'eye', 'widen', 'harri'): 2, ('er', 'yeah', 'said', 'harri'): 4, ('think', 'ani', 'repli', 'thi'): 2, ('look', 'around', 'harri', 'hermion'): 2, ('hi', 'feet', 'left', 'ground'): 3, ('feet', 'left', 'ground', 'could'): 2, ('ron', 'hermion', 'either', 'side'): 2, ('howl', 'wind', 'swirl', 'color'): 2, ('hi', 'feet', 'slam', 'ground'): 2, ('ron', 'got', 'hi', 'feet'): 4, ('turn', 'hi', 'head', 'look'): 2, ('wizard', 'appear', 'thin', 'air'): 2, ('resist', 'show', 'get', 'togeth'): 2, ('bulgarian', 'got', 'dangl', 'tent'): 2, ('viktor', 'krum', 'bulgarian', 'seeker'): 2, ('around', 'look', 'though', 'wa'): 2, ('hi', 'round', 'blue', 'eye'): 2, ('forward', 'hi', 'hand', 'outstretch'): 2, ('veri', 'well', 'veri', 'well'): 8, ('mr', 'crouch', 'said', 'perci'): 2, ('hi', 'old', 'wasp', 'robe'): 2, ('would', 'like', 'cup', 'tea'): 2, ('classifi', 'inform', 'time', 'ministri'): 2, ('though', 'harri', 'could', 'see'): 3, ('harri', 'set', 'dobbi', 'free'): 3, ('harri', 'never', 'actual', 'met'): 2, ('harri', 'potter', 'yeah', 'said'): 2, ('potter', 'yeah', 'said', 'harri'): 4, ('said', 'harri', 'taken', 'aback'): 4, ('front', 'depart', 'regul', 'control'): 2, ('harri', 'turn', 'back', 'ron'): 2, ('hi', 'father', 'hi', 'mother'): 2, ('father', 'hi', 'mother', 'wa'): 2, ('mungo', 'hospit', 'magic', 'injuri'): 2, ('hermion', 'went', 'slightli', 'pink'): 3, ('harri', 'question', 'wa', 'answer'): 2, ('harri', 'said', 'hermion', 'voic'): 4, ('harri', 'back', 'hi', 'seat'): 2, ('roar', 'ludo', 'bagman', 'voic'): 2, ('larg', 'curv', 'nose', 'thick'): 2, ('curv', 'nose', 'thick', 'black'): 3, ('nose', 'thick', 'black', 'eyebrow'): 3, ('hi', 'omniocular', 'back', 'normal'): 2, ('nois', 'crowd', 'pound', 'hi'): 2, ('crowd', 'pound', 'hi', 'eardrum'): 2, ('harri', 'screw', 'hi', 'eye'): 2, ('look', 'though', 'wa', 'use'): 2, ('short', 'blast', 'hi', 'whistl'): 2, ('ludo', 'bagman', 'magic', 'magnifi'): 2, ('bagman', 'magic', 'magnifi', 'voic'): 2, ('could', 'see', 'wa', 'go'): 4, ('see', 'wa', 'go', 'harri'): 3, ('voic', 'behind', 'harri', 'look'): 3, ('behind', 'harri', 'look', 'around'): 3, ('harri', 'look', 'around', 'wa'): 5, ('bagman', 'point', 'hi', 'wand'): 2, ('point', 'hi', 'wand', 'hi'): 5, ('hi', 'wand', 'hi', 'throat'): 3, ('wand', 'hi', 'throat', 'mutter'): 2, ('look', 'moment', 'though', 'wa'): 3, ('moment', 'though', 'wa', 'go'): 3, ('onc', 'twice', 'harri', 'saw'): 2, ('crowd', 'beneath', 'robert', 'famili'): 2, ('beneath', 'robert', 'famili', 'wa'): 2, ('ron', 'wa', 'lie', 'sprawl'): 2, ('behind', 'harri', 'ron', 'hermion'): 2, ('draco', 'malfoy', 'wa', 'stand'): 5, ('hi', 'arm', 'fold', 'seem'): 2, ('harri', 'knew', 'would', 'never'): 3, ('said', 'harri', 'hi', 'temper'): 5, ('harri', 'hi', 'temper', 'rise'): 4, ('oh', 'come', 'said', 'hermion'): 2, ('said', 'ron', 'pull', 'hi'): 2, ('ron', 'hermion', 'rais', 'wand'): 2, ('ground', 'harri', 'look', 'around'): 2, ('word', 'hardli', 'hi', 'mouth'): 2, ('look', 'one', 'anoth', 'surpris'): 2, ('split', 'second', 'harri', 'thought'): 7, ('second', 'harri', 'thought', 'wa'): 3, ('hi', 'head', 'fraction', 'inch'): 2, ('harri', 'hi', 'voic', 'sound'): 2, ('conjur', 'dark', 'mark', 'said'): 2, ('dark', 'mark', 'said', 'harri'): 2, ('hi', 'face', 'wa', 'still'): 2, ('bare', 'move', 'hi', 'lip'): 3, ('began', 'rock', 'backward', 'forward'): 3, ('harri', 'wa', 'remind', 'forcibl'): 3, ('know', 'said', 'hermion', 'look'): 3, ('look', 'around', 'harri', 'ron'): 2, ('said', 'harri', 'shake', 'hi'): 9, ('harri', 'shake', 'hi', 'head'): 9, ('harri', 'heard', 'hermion', 'gasp'): 2, ('think', 'much', 'thi', 'wa'): 2, ('arthur', 'cours', 'said', 'weasley'): 2, ('harri', 'ron', 'hermion', 'weasley'): 2, ('death', 'eater', 'said', 'harri'): 7, ('said', 'harri', 'death', 'eater'): 2, ('thank', 'good', 'thank', 'good'): 2, ('copi', 'daili', 'prophet', 'clutch'): 2, ('mr', 'weasley', 'said', 'harri'): 3, ('said', 'ron', 'onc', 'hermion'): 2, ('hi', 'bedroom', 'privet', 'drive'): 2, ('said', 'harri', 'turn', 'look'): 2, ('yeah', 'know', 'said', 'harri'): 3, ('room', 'slam', 'door', 'behind'): 3, ('harri', 'awok', 'next', 'morn'): 2, ('harri', 'shut', 'hi', 'eye'): 2, ('wa', 'talk', 'veri', 'fast'): 3, ('improp', 'use', 'magic', 'lot'): 2, ('diggori', 'head', 'roll', 'eye'): 2, ('onto', 'platform', 'nine', 'wa'): 2, ('gleam', 'scarlet', 'steam', 'engin'): 2, ('tell', 'us', 'happen', 'hogwart'): 2, ('hi', 'trunk', 'pull', 'hi'): 3, ('harri', 'ye', 'said', 'hermion'): 2, ('apprais', 'magic', 'educ', 'europ'): 2, ('said', 'hermion', 'surpris', 'know'): 2, ('hermion', 'surpris', 'know', 'well'): 2, ('wa', 'still', 'wear', 'hi'): 3, ('hi', 'trunk', 'luggag', 'rack'): 2, ('father', 'alway', 'associ', 'top'): 2, ('harri', 'ron', 'hermion', 'nevil'): 3, ('oak', 'front', 'door', 'stood'): 2, ('hurri', 'stone', 'step', 'castl'): 2, ('castl', 'harri', 'ron', 'hermion'): 2, ('peev', 'poltergeist', 'littl', 'man'): 2, ('come', 'harri', 'ron', 'hermion'): 2, ('hi', 'partial', 'sever', 'neck'): 3, ('er', 'yeah', 'right', 'said'): 2, ('said', 'harri', 'turn', 'back'): 2, ('ron', 'nearli', 'headless', 'nick'): 2, ('harri', 'look', 'staff', 'tabl'): 2, ('said', 'hermion', 'wa', 'also'): 2, ('fork', 'lightn', 'flash', 'across'): 2, ('oh', 'hurri', 'ron', 'moan'): 2, ('next', 'professor', 'mcgonagal', 'wa'): 2, ('harri', 'caught', 'glimps', 'cho'): 2, ('harri', 'could', 'see', 'malfoy'): 3, ('hagrid', 'sidl', 'hall', 'door'): 2, ('sidl', 'hall', 'door', 'behind'): 2, ('professor', 'mcgonagal', 'pick', 'hat'): 2, ('mcgonagal', 'pick', 'hat', 'stool'): 2, ('hi', 'deep', 'voic', 'echo'): 2, ('hear', 'hear', 'said', 'harri'): 2, ('hear', 'said', 'harri', 'ron'): 2, ('nearli', 'headless', 'nick', 'look'): 3, ('headless', 'nick', 'look', 'surpris'): 2, ('said', 'dumbledor', 'smile', 'around'): 2, ('mr', 'filch', 'caretak', 'ha'): 2, ('filch', 'caretak', 'ha', 'ask'): 3, ('caretak', 'ha', 'ask', 'tell'): 2, ('look', 'around', 'fred', 'georg'): 3, ('everi', 'head', 'great', 'hall'): 2, ('ani', 'harri', 'ever', 'seen'): 2, ('wa', 'small', 'dark', 'beadi'): 2, ('hi', 'normal', 'eye', 'wa'): 3, ('eye', 'wa', 'fix', 'upon'): 2, ('clear', 'hi', 'throat', 'wa'): 2, ('dumbledor', 'rais', 'hi', 'voic'): 3, ('thousand', 'galleon', 'prize', 'money'): 3, ('said', 'hermion', 'onli', 'one'): 3, ('left', 'harri', 'ron', 'hermion'): 3, ('said', 'hermion', 'worri', 'voic'): 3, ('ceil', 'great', 'hall', 'wa'): 3, ('wa', 'run', 'hi', 'finger'): 2, ('said', 'ron', 'watch', 'hermion'): 2, ('stand', 'elf', 'right', 'said'): 2, ('hundr', 'owl', 'came', 'soar'): 2, ('slope', 'lawn', 'toward', 'hagrid'): 2, ('said', 'hagrid', 'proudli', 'yeh'): 2, ('draco', 'malfoy', 'crabb', 'goyl'): 2, ('would', 'like', 'noth', 'better'): 4, ('made', 'way', 'back', 'castl'): 2, ('shut', 'malfoy', 'said', 'hermion'): 2, ('want', 'get', 'said', 'ron'): 3, ('fear', 'thing', 'dread', 'inde'): 2, ('thing', 'dread', 'inde', 'come'): 2, ('dread', 'inde', 'come', 'pass'): 2, ('lavend', 'brown', 'parvati', 'patil'): 2, ('hermion', 'wa', 'right', 'harri'): 2, ('saturn', 'said', 'professor', 'trelawney'): 2, ('said', 'professor', 'trelawney', 'sound'): 2, ('reach', 'entranc', 'hall', 'wa'): 2, ('entranc', 'hall', 'wa', 'pack'): 2, ('entranc', 'hall', 'could', 'hear'): 2, ('write', 'rita', 'skeeter', 'special'): 3, ('rita', 'skeeter', 'special', 'correspond'): 3, ('weasley', 'misus', 'muggl', 'artifact'): 2, ('said', 'harri', 'c', 'mon'): 2, ('hi', 'robe', 'hi', 'wand'): 3, ('hi', 'thumb', 'hi', 'shoulder'): 2, ('exchang', 'look', 'full', 'mean'): 2, ('long', 'mane', 'grizzl', 'gray'): 2, ('mane', 'grizzl', 'gray', 'hair'): 2, ('hi', 'eye', 'swivel', 'around'): 2, ('moodi', 'magic', 'eye', 'could'): 2, ('magic', 'eye', 'could', 'see'): 2, ('hi', 'magic', 'eye', 'wa'): 5, ('er', 'said', 'ron', 'tent'): 2, ('see', 'point', 'hi', 'wand'): 2, ('point', 'hi', 'wand', 'mutter'): 2, ('began', 'swing', 'backward', 'forward'): 2, ('die', 'away', 'almost', 'instantli'): 3, ('said', 'moodi', 'hi', 'magic'): 3, ('moodi', 'hi', 'magic', 'eye'): 6, ('said', 'hi', 'magic', 'eye'): 2, ('said', 'point', 'hi', 'wand'): 3, ('moodi', 'rais', 'hi', 'wand'): 6, ('rais', 'hi', 'wand', 'spider'): 2, ('ani', 'harri', 'look', 'around'): 2, ('smile', 'twist', 'hi', 'lopsid'): 2, ('twist', 'hi', 'lopsid', 'mouth'): 2, ('almost', 'though', 'knew', 'wa'): 2, ('rais', 'hi', 'wand', 'harri'): 5, ('hi', 'wand', 'harri', 'felt'): 4, ('harri', 'felt', 'hi', 'face'): 2, ('flash', 'green', 'light', 'heard'): 2, ('hi', 'wand', 'harri', 'harri'): 2, ('potter', 'ye', 'said', 'harri'): 5, ('hand', 'hi', 'shoulder', 'wa'): 2, ('walk', 'back', 'gryffindor', 'tower'): 2, ('fat', 'ladi', 'swung', 'forward'): 3, ('climb', 'gryffindor', 'common', 'room'): 2, ('magic', 'water', 'plant', 'mediterranean'): 2, ('know', 'said', 'ron', 'whose'): 2, ('said', 'ron', 'whose', 'hair'): 2, ('harri', 'saw', 'fred', 'georg'): 2, ('hermion', 'oh', 'said', 'ron'): 2, ('across', 'empti', 'common', 'room'): 2, ('harri', 'look', 'ron', 'hermion'): 8, ('come', 'back', 'said', 'harri'): 2, ('go', 'bed', 'said', 'harri'): 2, ('wa', 'onli', 'one', 'lie'): 2, ('onli', 'one', 'lie', 'awak'): 2, ('harri', 'said', 'hermion', 'sharpli'): 2, ('hi', 'magic', 'eye', 'swivel'): 3, ('magic', 'eye', 'swivel', 'onto'): 2, ('hi', 'wand', 'point', 'harri'): 3, ('harri', 'bent', 'hi', 'knee'): 2, ('veri', 'good', 'potter', 'veri'): 2, ('good', 'potter', 'veri', 'good'): 2, ('yeah', 'know', 'said', 'ron'): 3, ('smile', 'fade', 'hi', 'face'): 3, ('onli', 'one', 'topic', 'convers'): 2, ('ron', 'hermion', 'sat', 'besid'): 2, ('thought', 'knew', 'wa', 'come'): 2, ('said', 'hermion', 'eye', 'flash'): 2, ('hermion', 'cours', 'said', 'hermion'): 2, ('keep', 'post', 'everyth', 'go'): 2, ('post', 'everyth', 'go', 'hogwart'): 2, ('harri', 'ron', 'hermion', 'hurri'): 2, ('unless', 'veri', 'much', 'mistaken'): 2, ('harri', 'onli', 'ever', 'seen'): 2, ('light', 'flood', 'entranc', 'hall'): 2, ('harri', 'whose', 'attent', 'focus'): 2, ('scarv', 'shawl', 'around', 'head'): 2, ('harri', 'could', 'see', 'stand'): 2, ('said', 'dumbledor', 'would', 'like'): 2, ('veri', 'well', 'said', 'madam'): 2, ('said', 'ron', 'suddenli', 'harri'): 3, ('look', 'though', 'believ', 'hi'): 2, ('though', 'believ', 'hi', 'ear'): 2, ('student', 'head', 'great', 'hall'): 2, ('krum', 'hi', 'fellow', 'durmstrang'): 2, ('hi', 'fellow', 'durmstrang', 'student'): 2, ('look', 'around', 'great', 'hall'): 3, ('see', 'malfoy', 'crabb', 'goyl'): 2, ('harri', 'wa', 'surpris', 'see'): 2, ('door', 'behind', 'staff', 'tabl'): 2, ('said', 'ron', 'quietli', 'look'): 2, ('ludo', 'bagman', 'wa', 'sit'): 2, ('head', 'depart', 'magic', 'game'): 2, ('professor', 'karkaroff', 'madam', 'maxim'): 5, ('said', 'hi', 'eye', 'glint'): 2, ('age', 'line', 'said', 'ron'): 2, ('harri', 'corner', 'hi', 'eye'): 2, ('corner', 'hi', 'eye', 'harri'): 4, ('hi', 'eye', 'harri', 'saw'): 3, ('hi', 'magic', 'eye', 'fix'): 2, ('magic', 'eye', 'fix', 'upon'): 3, ('eye', 'fix', 'upon', 'hi'): 2, ('behind', 'harri', 'turn', 'saw'): 2, ('said', 'ron', 'look', 'impress'): 2, ('ron', 'ask', 'harri', 'hermion'): 3, ('stood', 'back', 'let', 'pass'): 2, ('move', 'toward', 'front', 'door'): 2, ('across', 'lawn', 'madam', 'maxim'): 2, ('hagrid', 'cabin', 'edg', 'forbidden'): 2, ('wa', 'wear', 'hi', 'best'): 2, ('horribl', 'hairi', 'brown', 'suit'): 3, ('hagrid', 'harri', 'ron', 'hermion'): 2, ('set', 'dobbi', 'free', 'wa'): 2, ('wa', 'talk', 'madam', 'maxim'): 2, ('said', 'hermion', 'thought', 'wa'): 2, ('shut', 'door', 'behind', 'wa'): 2, ('said', 'fred', 'harri', 'ron'): 2, ('said', 'hermion', 'breathlessli', 'well'): 2, ('hall', 'die', 'away', 'almost'): 2, ('karkaroff', 'madam', 'maxim', 'look'): 2, ('walk', 'along', 'staff', 'tabl'): 2, ('took', 'hi', 'wand', 'gave'): 2, ('professor', 'mcgonagal', 'got', 'feet'): 2, ('took', 'harri', 'arm', 'led'): 2, ('hi', 'name', 'come', 'goblet'): 2, ('professor', 'mcgonagal', 'close', 'door'): 2, ('ha', 'cross', 'line', 'ever'): 2, ('cross', 'line', 'ever', 'sinc'): 2, ('curtain', 'greasi', 'black', 'hair'): 3, ('harri', 'look', 'right', 'back'): 2, ('put', 'name', 'goblet', 'fire'): 6, ('said', 'harri', 'wa', 'veri'): 2, ('snape', 'wa', 'shake', 'hi'): 2, ('name', 'come', 'goblet', 'fire'): 2, ('could', 'tell', 'wa', 'tri'): 2, ('wa', 'say', 'wa', 'bare'): 2, ('ludo', 'bagman', 'wa', 'look'): 2, ('close', 'harri', 'thought', 'look'): 2, ('name', 'got', 'goblet', 'fire'): 2, ('well', 'well', 'well', 'said'): 2, ('put', 'hi', 'name', 'goblet'): 2, ('slam', 'door', 'behind', 'harri'): 4, ('harri', 'suddenli', 'becam', 'awar'): 2, ('smile', 'wa', 'like', 'grimac'): 2, ('oh', 'right', 'said', 'ron'): 3, ('said', 'harri', 'felt', 'would'): 2, ('harri', 'felt', 'would', 'sound'): 2, ('put', 'name', 'goblet', 'said'): 2, ('yeah', 'said', 'ron', 'wa'): 2, ('good', 'idea', 'said', 'harri'): 3, ('went', 'downstair', 'cross', 'entranc'): 2, ('downstair', 'cross', 'entranc', 'hall'): 2, ('stride', 'across', 'lawn', 'toward'): 2, ('open', 'hi', 'mouth', 'furious'): 3, ('said', 'harri', 'look', 'around'): 7, ('said', 'harri', 'throw', 'hi'): 2, ('harri', 'said', 'veri', 'serious'): 2, ('knew', 'said', 'harri', 'bitterli'): 2, ('hi', 'fellow', 'student', 'ron'): 2, ('robe', 'one', 'wild', 'moment'): 2, ('wild', 'moment', 'harri', 'thought'): 2, ('pansi', 'parkinson', 'gang', 'slytherin'): 2, ('parkinson', 'gang', 'slytherin', 'girl'): 2, ('put', 'hi', 'hand', 'hi'): 6, ('hi', 'hand', 'hi', 'nose'): 2, ('said', 'snape', 'look', 'around'): 2, ('snape', 'look', 'around', 'hi'): 2, ('hi', 'cold', 'black', 'eye'): 3, ('harri', 'swung', 'hi', 'bag'): 2, ('swung', 'hi', 'bag', 'hi'): 2, ('hi', 'bag', 'hi', 'shoulder'): 2, ('wa', 'wear', 'magenta', 'robe'): 2, ('love', 'said', 'rita', 'skeeter'): 3, ('said', 'harri', 'rita', 'skeeter'): 2, ('rita', 'skeeter', 'daili', 'prophet'): 3, ('er', 'said', 'harri', 'wa'): 2, ('harri', 'said', 'rita', 'skeeter'): 2, ('said', 'harri', 'hi', 'insid'): 2, ('thi', 'year', 'said', 'harri'): 2, ('said', 'harri', 'think', 'feel'): 2, ('harri', 'wa', 'feel', 'realli'): 2, ('look', 'remot', 'abash', 'wa'): 2, ('ye', 'said', 'ollivand', 'ye'): 2, ('hi', 'hand', 'pocket', 'hi'): 2, ('got', 'hi', 'feet', 'walk'): 6, ('hi', 'feet', 'walk', 'past'): 2, ('wa', 'veri', 'fond', 'hi'): 2, ('wa', 'still', 'hospit', 'wing'): 2, ('oh', 'right', 'said', 'harri'): 4, ('right', 'said', 'harri', 'got'): 2, ('sure', 'whether', 'want', 'talk'): 2, ('still', 'want', 'hear', 'anyth'): 3, ('want', 'hear', 'anyth', 'unusu'): 2, ('hi', 'stomach', 'everi', 'time'): 2, ('one', 'top', 'student', 'school'): 2, ('onli', 'like', 'becaus', 'famou'): 2, ('three', 'broomstick', 'said', 'harri'): 2, ('sport', 'support', 'cedric', 'diggori'): 2, ('support', 'cedric', 'diggori', 'badg'): 5, ('wa', 'come', 'first', 'task'): 2, ('seem', 'long', 'time', 'ago'): 2, ('look', 'hagrid', 'said', 'hermion'): 2, ('last', 'defens', 'dark', 'art'): 2, ('hello', 'said', 'hermion', 'smile'): 2, ('low', 'onli', 'harri', 'could'): 2, ('harri', 'could', 'hear', 'harri'): 2, ('said', 'hermion', 'look', 'startl'): 2, ('pull', 'invis', 'cloak', 'back'): 2, ('hi', 'mouth', 'fell', 'open'): 2, ('harri', 'saw', 'dragon', 'keeper'): 2, ('open', 'harri', 'could', 'see'): 2, ('fat', 'ladi', 'wa', 'snooz'): 2, ('common', 'room', 'wa', 'desert'): 2, ('harri', 'pull', 'invis', 'cloak'): 6, ('head', 'wa', 'sit', 'fire'): 2, ('said', 'harri', 'feel', 'hi'): 3, ('said', 'siriu', 'harri', 'wa'): 2, ('bertha', 'jorkin', 'said', 'siriu'): 2, ('whoever', 'put', 'name', 'goblet'): 3, ('gryffindor', 'tabl', 'great', 'hall'): 2, ('quot', 'rita', 'skeeter', 'articl'): 2, ('rita', 'skeeter', 'articl', 'everi'): 2, ('slip', 'hi', 'wand', 'back'): 2, ('said', 'harri', 'quickli', 'knew'): 2, ('harri', 'hi', 'magic', 'eye'): 3, ('stretch', 'hi', 'wooden', 'leg'): 2, ('got', 'ani', 'idea', 'go'): 2, ('tri', 'said', 'harri', 'angrili'): 2, ('said', 'harri', 'loudli', 'hi'): 3, ('back', 'gryffindor', 'common', 'room'): 3, ('rais', 'hi', 'wand', 'onc'): 5, ('hi', 'wand', 'onc', 'accio'): 2, ('wa', 'wear', 'hi', 'old'): 2, ('harri', 'put', 'hi', 'hand'): 3, ('er', 'ye', 'said', 'harri'): 3, ('ye', 'said', 'harri', 'blankli'): 2, ('short', 'distanc', 'away', 'tree'): 2, ('said', 'harri', 'wonder', 'whi'): 3, ('harri', 'could', 'ever', 'imagin'): 2, ('pictur', 'form', 'harri', 'mind'): 2, ('could', 'mean', 'onli', 'one'): 2, ('mean', 'onli', 'one', 'thing'): 2, ('wa', 'trembl', 'head', 'foot'): 2, ('trembl', 'head', 'foot', 'harri'): 2, ('hi', 'heart', 'wa', 'pump'): 3, ('heart', 'wa', 'pump', 'fast'): 3, ('wa', 'make', 'great', 'deal'): 2, ('make', 'great', 'deal', 'nois'): 2, ('rais', 'hi', 'wand', 'accio'): 3, ('professor', 'mcgonagal', 'professor', 'moodi'): 2, ('yeh', 'harri', 'said', 'hagrid'): 2, ('harri', 'knew', 'ron', 'wa'): 4, ('good', 'one', 'said', 'harri'): 3, ('one', 'said', 'harri', 'grin'): 2, ('wa', 'wear', 'robe', 'today'): 2, ('ron', 'hermion', 'went', 'owleri'): 2, ('hi', 'hand', 'hi', 'ear'): 2, ('thought', 'sound', 'bit', 'like'): 2, ('noth', 'said', 'hermion', 'quickli'): 2, ('think', 'along', 'line', 'said'): 2, ('said', 'hermion', 'desper', 'look'): 2, ('ye', 'said', 'professor', 'trelawney'): 2, ('harri', 'pant', 'skid', 'halt'): 2, ('harri', 'nudg', 'ron', 'point'): 2, ('seiz', 'hi', 'arm', 'pull'): 2, ('harri', 'potter', 'sir', 'harri'): 2, ('potter', 'sir', 'harri', 'potter'): 2, ('sir', 'harri', 'potter', 'ha'): 2, ('harri', 'remov', 'hi', 'foot'): 2, ('long', 'wooden', 'tabl', 'stood'): 2, ('winki', 'wa', 'sit', 'stool'): 2, ('yeah', 'okay', 'said', 'harri'): 5, ('harri', 'potter', 'sir', 'said'): 2, ('potter', 'sir', 'said', 'dobbi'): 2, ('sir', 'said', 'dobbi', 'happili'): 2, ('said', 'dobbi', 'happili', 'dobbi'): 2, ('came', 'see', 'professor', 'dumbledor'): 2, ('see', 'professor', 'dumbledor', 'sir'): 2, ('harri', 'potter', 'squeak', 'dobbi'): 4, ('oh', 'sir', 'said', 'dobbi'): 2, ('sir', 'said', 'dobbi', 'look'): 2, ('said', 'harri', 'oh', 'ye'): 3, ('tent', 'cours', 'said', 'harri'): 2, ('said', 'hermion', 'though', 'sound'): 2, ('doe', 'said', 'harri', 'wonder'): 2, ('harri', 'could', 'see', 'wa'): 5, ('thi', 'time', 'professor', 'mcgonagal'): 2, ('oh', 'ye', 'said', 'professor'): 3, ('next', 'day', 'harri', 'wa'): 2, ('harri', 'doubt', 'veri', 'much'): 2, ('harri', 'ron', 'hermion', 'ask'): 2, ('said', 'harri', 'grin', 'come'): 2, ('said', 'hermion', 'look', 'top'): 2, ('harri', 'ron', 'hermion', 'ron'): 2, ('twelv', 'christma', 'tree', 'great'): 2, ('christma', 'tree', 'great', 'hall'): 2, ('harri', 'ask', 'cho', 'ball'): 2, ('though', 'miss', 'step', 'go'): 3, ('miss', 'step', 'go', 'downstair'): 3, ('oh', 'said', 'harri', 'wa'): 2, ('yeah', 'said', 'harri', 'well'): 3, ('walk', 'slowli', 'back', 'gryffindor'): 2, ('slowli', 'back', 'gryffindor', 'tower'): 2, ('hi', 'ear', 'everi', 'step'): 2, ('room', 'harri', 'look', 'around'): 2, ('look', 'though', 'wa', 'fight'): 2, ('hermion', 'climb', 'portrait', 'hole'): 3, ('wa', 'stare', 'hermion', 'though'): 2, ('said', 'ron', 'look', 'extrem'): 2, ('said', 'harri', 'let', 'know'): 2, ('harri', 'ron', 'whip', 'around'): 2, ('tini', 'owl', 'wa', 'twitter'): 2, ('harri', 'said', 'hermion', 'still'): 2, ('open', 'hi', 'eye', 'saw'): 3, ('said', 'harri', 'still', 'breath'): 2, ('hi', 'glass', 'hi', 'bedsid'): 2, ('glass', 'hi', 'bedsid', 'tabl'): 2, ('hi', 'bedsid', 'tabl', 'put'): 2, ('ron', 'seamu', 'dean', 'nevil'): 3, ('foot', 'hi', 'bed', 'ron'): 2, ('open', 'hi', 'trunk', 'pull'): 2, ('said', 'hi', 'eye', 'widen'): 2, ('hi', 'eye', 'brim', 'tear'): 2, ('thank', 'dobbi', 'said', 'harri'): 2, ('quidditch', 'team', 'britain', 'ireland'): 3, ('harri', 'ron', 'met', 'hermion'): 2, ('ron', 'met', 'hermion', 'common'): 2, ('met', 'hermion', 'common', 'room'): 2, ('stone', 'step', 'castl', 'wa'): 3, ('said', 'ron', 'look', 'around'): 4, ('harri', 'wish', 'could', 'stay'): 2, ('portrait', 'hole', 'entranc', 'hall'): 2, ('wa', 'wear', 'dress', 'robe'): 4, ('fleur', 'delacour', 'roger', 'davi'): 3, ('wa', 'world', 'cup', 'wa'): 2, ('look', 'around', 'saw', 'madam'): 2, ('avoid', 'catch', 'anyon', 'eye'): 2, ('said', 'harri', 'wa', 'watch'): 2, ('hermion', 'mouth', 'fell', 'open'): 2, ('got', 'funni', 'way', 'show'): 2, ('said', 'ron', 'still', 'glare'): 2, ('harri', 'saw', 'ludo', 'bagman'): 2, ('open', 'hi', 'mouth', 'ask'): 2, ('front', 'door', 'stood', 'open'): 2, ('hi', 'wand', 'wa', 'blast'): 2, ('black', 'cloak', 'billow', 'behind'): 2, ('c', 'mon', 'harri', 'said'): 2, ('harri', 'said', 'veri', 'quietli'): 4, ('said', 'harri', 'look', 'ron'): 3, ('look', 'around', 'harri', 'hi'): 2, ('harri', 'heard', 'someon', 'call'): 2, ('look', 'though', 'would', 'like'): 3, ('everybodi', 'except', 'harri', 'wa'): 2, ('care', 'magic', 'creatur', 'hagrid'): 2, ('malfoy', 'put', 'hi', 'hand'): 2, ('put', 'hi', 'hand', 'insid'): 3, ('insid', 'pocket', 'hi', 'robe'): 3, ('ron', 'whose', 'mouth', 'wa'): 2, ('hagrid', 'told', 'said', 'harri'): 2, ('said', 'harri', 'lead', 'way'): 2, ('look', 'veri', 'much', 'though'): 2, ('harri', 'kept', 'hi', 'eye'): 3, ('forest', 'befor', 'dark', 'mark'): 2, ('befor', 'dark', 'mark', 'appear'): 2, ('hi', 'voic', 'wa', 'quiet'): 2, ('keep', 'hi', 'voic', 'casual'): 3, ('harri', 'said', 'hermion', 'look'): 3, ('hermion', 'look', 'veri', 'shock'): 2, ('said', 'harri', 'well', 'think'): 3, ('think', 'dumbledor', 'would', 'like'): 2, ('hermion', 'gave', 'ron', 'look'): 2, ('ha', 'ha', 'said', 'hermion'): 2, ('harri', 'ron', 'togeth', 'well'): 3, ('know', 'thing', 'ludo', 'bagman'): 2, ('thing', 'ludo', 'bagman', 'would'): 2, ('ludo', 'bagman', 'would', 'make'): 2, ('bagman', 'would', 'make', 'hair'): 2, ('harri', 'glanc', 'back', 'reach'): 2, ('hermion', 'said', 'ron', 'low'): 2, ('said', 'ron', 'low', 'voic'): 5, ('rita', 'skeeter', 'said', 'ron'): 2, ('look', 'around', 'hagrid', 'wa'): 3, ('around', 'hagrid', 'wa', 'sit'): 2, ('idea', 'said', 'harri', 'said'): 2, ('said', 'harri', 'said', 'dumbledor'): 3, ('said', 'dumbledor', 'twiddl', 'hi'): 2, ('dumbledor', 'twiddl', 'hi', 'thumb'): 2, ('er', 'right', 'said', 'harri'): 3, ('veri', 'long', 'time', 'said'): 4, ('yeh', 'yeh', 'said', 'hagrid'): 2, ('hagrid', 'said', 'hermion', 'quietli'): 2, ('said', 'hermion', 'quietli', 'pleas'): 2, ('hi', 'eye', 'back', 'hi'): 2, ('behind', 'pull', 'invis', 'cloak'): 3, ('wa', 'made', 'white', 'marbl'): 2, ('would', 'support', 'hi', 'weight'): 2, ('harri', 'stretch', 'hi', 'arm'): 2, ('yeah', 'well', 'said', 'harri'): 6, ('come', 'seek', 'us', 'voic'): 2, ('seek', 'us', 'voic', 'sound'): 2, ('hour', 'long', 'look', 'recov'): 2, ('long', 'look', 'recov', 'took'): 2, ('past', 'hour', 'prospect', 'black'): 2, ('eye', 'fill', 'sudden', 'tear'): 2, ('voic', 'echo', 'loudli', 'around'): 4, ('invis', 'cloak', 'slip', 'harri'): 2, ('harri', 'pull', 'hi', 'wand'): 5, ('harri', 'could', 'hear', 'hi'): 2, ('peer', 'around', 'filch', 'leg'): 2, ('foot', 'stair', 'harri', 'saw'): 2, ('stair', 'harri', 'saw', 'moodi'): 2, ('saw', 'moodi', 'magic', 'eye'): 2, ('said', 'moodi', 'hi', 'voic'): 2, ('actual', 'turn', 'hi', 'head'): 2, ('chunk', 'miss', 'hi', 'nose'): 2, ('er', 'thank', 'said', 'harri'): 3, ('harri', 'could', 'tell', 'thi'): 3, ('could', 'tell', 'thi', 'news'): 2, ('moodi', 'magic', 'eye', 'left'): 2, ('obsess', 'catch', 'dark', 'wizard'): 2, ('death', 'eater', 'walk', 'free'): 2, ('behind', 'harri', 'walk', 'slowli'): 2, ('harri', 'walk', 'slowli', 'back'): 2, ('fli', 'across', 'room', 'professor'): 2, ('across', 'room', 'professor', 'flitwick'): 2, ('wave', 'hi', 'wand', 'without'): 2, ('ron', 'hi', 'eye', 'widen'): 2, ('hi', 'eye', 'widen', 'hi'): 2, ('oh', 'ron', 'said', 'hermion'): 2, ('said', 'hermion', 'shake', 'head'): 2, ('wa', 'tri', 'kill', 'harri'): 2, ('tri', 'kill', 'harri', 'befor'): 2, ('ron', 'dunno', 'said', 'harri'): 2, ('yeh', 'goin', 'ter', 'win'): 2, ('wa', 'joke', 'said', 'harri'): 2, ('whi', 'said', 'hermion', 'look'): 2, ('ron', 'hermion', 'stare', 'harri'): 3, ('ron', 'hermion', 'come', 'back'): 2, ('harri', 'wa', 'alreadi', 'hurri'): 2, ('wake', 'harri', 'open', 'hi'): 2, ('open', 'hi', 'eye', 'wa'): 10, ('hi', 'eye', 'wa', 'still'): 3, ('pull', 'invis', 'cloak', 'stuf'): 2, ('invis', 'cloak', 'stuf', 'hi'): 2, ('cloak', 'stuf', 'hi', 'bag'): 2, ('harri', 'pant', 'massag', 'hi'): 2, ('wa', 'hi', 'knee', 'hi'): 2, ('took', 'anoth', 'great', 'gulp'): 2, ('wa', 'sign', 'ani', 'champion'): 2, ('seiz', 'hand', 'harri', 'robe'): 2, ('bubbl', 'issu', 'hi', 'mouth'): 2, ('hi', 'wand', 'back', 'insid'): 5, ('wand', 'back', 'insid', 'hi'): 5, ('back', 'insid', 'hi', 'robe'): 2, ('began', 'hack', 'rope', 'bind'): 2, ('water', 'harri', 'look', 'around'): 2, ('hi', 'head', 'harri', 'look'): 2, ('eye', 'fix', 'upon', 'harri'): 3, ('harri', 'could', 'tell', 'look'): 2, ('wast', 'time', 'act', 'hero'): 2, ('said', 'harri', 'rais', 'hi'): 6, ('well', 'outsid', 'time', 'limit'): 2, ('yeah', 'said', 'ron', 'look'): 4, ('ron', 'ear', 'went', 'red'): 2, ('dungeon', 'door', 'open', 'snape'): 2, ('harri', 'potter', 'secret', 'heartach'): 2, ('harri', 'potter', 'must', 'hope'): 2, ('potter', 'must', 'hope', 'next'): 2, ('must', 'hope', 'next', 'time'): 2, ('could', 'feel', 'hi', 'face'): 3, ('feel', 'hi', 'face', 'burn'): 2, ('head', 'potter', 'said', 'snape'): 2, ('turn', 'back', 'hi', 'ginger'): 2, ('back', 'hi', 'ginger', 'root'): 2, ('harri', 'said', 'noth', 'turn'): 2, ('harri', 'peer', 'around', 'edg'): 2, ('show', 'snape', 'someth', 'hi'): 3, ('hi', 'book', 'back', 'hi'): 2, ('book', 'back', 'hi', 'bag'): 2, ('hi', 'black', 'hair', 'wa'): 2, ('harri', 'pull', 'open', 'hi'): 2, ('pull', 'open', 'hi', 'bag'): 2, ('mungo', 'hospit', 'magic', 'maladi'): 7, ('hospit', 'magic', 'maladi', 'injuri'): 6, ('brother', 'crouch', 'person', 'assist'): 2, ('quidditch', 'world', 'cup', 'said'): 4, ('let', 'get', 'thi', 'straight'): 3, ('get', 'thi', 'straight', 'said'): 2, ('harri', 'ron', 'hermion', 'togeth'): 3, ('brow', 'furrow', 'continu', 'pace'): 2, ('load', 'peopl', 'said', 'harri'): 2, ('hi', 'voic', 'echo', 'around'): 3, ('told', 'said', 'ron', 'look'): 2, ('siriu', 'shook', 'hi', 'head'): 2, ('shook', 'hi', 'head', 'said'): 4, ('said', 'ron', 'hermion', 'togeth'): 7, ('head', 'depart', 'magic', 'law'): 6, ('know', 'harri', 'ron', 'hermion'): 2, ('world', 'cup', 'said', 'ron'): 2, ('crouch', 'son', 'wa', 'caught'): 2, ('silenc', 'harri', 'wa', 'think'): 2, ('snape', 'offic', 'said', 'ron'): 2, ('give', 'rest', 'hermion', 'said'): 2, ('siriu', 'harri', 'said', 'loudli'): 2, ('got', 'point', 'said', 'siriu'): 2, ('point', 'said', 'siriu', 'look'): 3, ('snape', 'someth', 'hi', 'arm'): 2, ('walk', 'stone', 'step', 'entranc'): 2, ('stone', 'step', 'entranc', 'hall'): 2, ('roll', 'away', 'across', 'floor'): 2, ('look', 'hermion', 'though', 'mad'): 2, ('around', 'harri', 'ron', 'hermion'): 3, ('hermion', 'said', 'ron', 'angrili'): 3, ('next', 'day', 'ron', 'hermion'): 2, ('good', 'think', 'said', 'harri'): 3, ('gray', 'owl', 'land', 'front'): 2, ('said', 'hermion', 'look', 'shock'): 3, ('head', 'back', 'toward', 'castl'): 2, ('moment', 'befor', 'realiz', 'ron'): 2, ('listen', 'privat', 'convers', 'suppos'): 2, ('five', 'minut', 'later', 'catch'): 2, ('minut', 'later', 'catch', 'harri'): 2, ('later', 'catch', 'harri', 'ron'): 2, ('thi', 'said', 'ron', 'said'): 2, ('wa', 'quit', 'sure', 'wa'): 3, ('yeah', 'said', 'ron', 'whose'): 2, ('third', 'final', 'task', 'triwizard'): 3, ('final', 'task', 'triwizard', 'tournament'): 3, ('bounc', 'ball', 'hi', 'feet'): 3, ('thank', 'said', 'harri', 'grin'): 2, ('said', 'harri', 'grin', 'broadli'): 3, ('slip', 'hi', 'hand', 'insid'): 2, ('hi', 'hand', 'insid', 'hi'): 6, ('harri', 'look', 'around', 'krum'): 2, ('dumbledor', 'right', 'said', 'harri'): 2, ('get', 'dumbledor', 'let', 'go'): 2, ('harri', 'potter', 'dark', 'lord'): 2, ('beckon', 'harri', 'back', 'toward'): 2, ('professor', 'dumbledor', 'said', 'harri'): 3, ('potter', 'said', 'snape', 'hi'): 3, ('hi', 'thin', 'mouth', 'curl'): 2, ('look', 'said', 'harri', 'angrili'): 2, ('say', 'harri', 'said', 'dumbledor'): 2, ('point', 'hi', 'wand', 'krum'): 2, ('open', 'hi', 'eye', 'look'): 4, ('neither', 'dumbledor', 'harri', 'spoke'): 2, ('bad', 'mood', 'harri', 'wa'): 2, ('clamber', 'portrait', 'hole', 'common'): 2, ('shake', 'hi', 'head', 'seem'): 2, ('hi', 'mind', 'said', 'harri'): 2, ('ron', 'winc', 'sound', 'name'): 2, ('harri', 'turn', 'away', 'window'): 2, ('georg', 'half', 'glanc', 'fred'): 2, ('said', 'ron', 'fred', 'georg'): 2, ('everyth', 'said', 'harri', 'wa'): 2, ('ask', 'well', 'said', 'ron'): 2, ('get', 'said', 'ron', 'look'): 2, ('dark', 'art', 'classroom', 'found'): 2, ('art', 'classroom', 'found', 'professor'): 2, ('growl', 'moodi', 'hi', 'magic'): 2, ('hi', 'hip', 'flask', 'hi'): 2, ('hip', 'flask', 'hi', 'magic'): 2, ('flask', 'hi', 'magic', 'eye'): 2, ('moodi', 'hi', 'normal', 'eye'): 2, ('hi', 'normal', 'eye', 'ron'): 2, ('get', 'look', 'said', 'harri'): 2, ('hi', 'feet', 'rub', 'hi'): 2, ('professor', 'trelawney', 'wa', 'look'): 2, ('play', 'across', 'hi', 'face'): 2, ('wateri', 'eye', 'point', 'nose'): 2, ('never', 'mind', 'never', 'mind'): 2, ('said', 'cold', 'voic', 'wormtail'): 2, ('everi', 'nerv', 'hi', 'bodi'): 2, ('harri', 'harri', 'open', 'hi'): 4, ('hi', 'eye', 'wa', 'lie'): 2, ('hi', 'hand', 'hi', 'face'): 6, ('hand', 'hi', 'face', 'hi'): 2, ('hi', 'scar', 'wa', 'still'): 8, ('scar', 'wa', 'still', 'burn'): 5, ('hi', 'eye', 'water', 'pain'): 2, ('cours', 'said', 'professor', 'trelawney'): 2, ('said', 'professor', 'trelawney', 'look'): 2, ('need', 'go', 'hospit', 'wing'): 3, ('stone', 'gargoyl', 'guard', 'dumbledor'): 2, ('gargoyl', 'guard', 'dumbledor', 'offic'): 2, ('spiral', 'stone', 'staircas', 'move'): 2, ('stone', 'staircas', 'move', 'slowli'): 2, ('staircas', 'move', 'slowli', 'upward'): 2, ('polish', 'oak', 'door', 'brass'): 2, ('corneliu', 'fudg', 'wa', 'stand'): 2, ('hi', 'bowler', 'hat', 'harri'): 2, ('pull', 'hi', 'wand', 'insid'): 2, ('hi', 'wand', 'insid', 'hi'): 5, ('wand', 'insid', 'hi', 'robe'): 6, ('began', 'swirl', 'veri', 'fast'): 2, ('swirl', 'veri', 'fast', 'harri'): 2, ('hi', 'head', 'tri', 'see'): 2, ('harri', 'found', 'sit', 'bench'): 2, ('unless', 'wa', 'veri', 'much'): 2, ('wa', 'veri', 'much', 'mistaken'): 2, ('harri', 'look', 'around', 'care'): 2, ('look', 'though', 'wa', 'faint'): 2, ('back', 'room', 'door', 'swung'): 2, ('room', 'door', 'swung', 'shut'): 2, ('door', 'swung', 'shut', 'behind'): 5, ('swung', 'shut', 'behind', 'harri'): 2, ('said', 'crouch', 'wa', 'caught'): 2, ('crouch', 'wa', 'caught', 'shortli'): 2, ('look', 'harri', 'could', 'tell'): 2, ('hi', 'voic', 'harri', 'could'): 2, ('witch', 'wizard', 'around', 'wall'): 3, ('harri', 'look', 'around', 'dumbledor'): 3, ('around', 'wall', 'began', 'clap'): 2, ('said', 'hi', 'voic', 'echo'): 2, ('wispi', 'littl', 'witch', 'besid'): 2, ('littl', 'witch', 'besid', 'crouch'): 2, ('witch', 'besid', 'crouch', 'began'): 2, ('put', 'hi', 'hand', 'harri'): 2, ('harri', 'felt', 'rise', 'air'): 2, ('dumbledor', 'wa', 'stand', 'besid'): 2, ('dumbledor', 'drew', 'hi', 'wand'): 2, ('drew', 'hi', 'wand', 'insid'): 3, ('harri', 'saw', 'hi', 'face'): 2, ('snape', 'open', 'hi', 'mouth'): 2, ('peer', 'top', 'hi', 'spectacl'): 3, ('dumbledor', 'shook', 'hi', 'head'): 4, ('old', 'man', 'harri', 'said'): 2, ('harri', 'said', 'dumbledor', 'quietli'): 6, ('said', 'harri', 'see', 'said'): 2, ('see', 'said', 'dumbledor', 'quietli'): 2, ('ever', 'sinc', 'left', 'hogwart'): 2, ('everi', 'place', 'hi', 'wand'): 2, ('place', 'hi', 'wand', 'tip'): 2, ('hi', 'wand', 'tip', 'hi'): 2, ('wand', 'tip', 'hi', 'templ'): 2, ('anoth', 'shine', 'silver', 'thought'): 2, ('look', 'veri', 'serious', 'harri'): 2, ('ye', 'harri', 'said', 'dumbledor'): 2, ('said', 'harri', 'quietli', 'said'): 2, ('said', 'dumbledor', 'hi', 'voic'): 5, ('question', 'wa', 'burn', 'ask'): 2, ('right', 'said', 'harri', 'hastili'): 2, ('snape', 'said', 'harri', 'look'): 2, ('mouth', 'befor', 'could', 'stop'): 2, ('harri', 'look', 'back', 'dumbledor'): 2, ('said', 'turn', 'back', 'harri'): 3, ('said', 'hermion', 'sharpli', 'look'): 2, ('took', 'hi', 'glass', 'climb'): 2, ('hi', 'glass', 'climb', 'hi'): 2, ('mark', 'defens', 'dark', 'art'): 2, ('wa', 'stand', 'window', 'wa'): 2, ('said', 'hermion', 'quickli', 'tri'): 2, ('hold', 'copi', 'daili', 'prophet'): 2, ('see', 'harri', 'said', 'ron'): 2, ('ha', 'recent', 'come', 'light'): 2, ('pain', 'scar', 'hi', 'forehead'): 2, ('hi', 'scar', 'wa', 'hurt'): 2, ('toward', 'door', 'great', 'hall'): 2, ('said', 'ron', 'look', 'stun'): 2, ('hi', 'feet', 'staff', 'tabl'): 2, ('harri', 'felt', 'almost', 'though'): 2, ('hold', 'hi', 'wand', 'high'): 2, ('point', 'whisper', 'hi', 'wand'): 2, ('held', 'hi', 'wand', 'readi'): 3, ('hi', 'wand', 'readi', 'attack'): 2, ('concentr', 'hi', 'might', 'thought'): 2, ('rais', 'hi', 'wand', 'cri'): 2, ('expecto', 'patronum', 'silver', 'stag'): 4, ('patronum', 'silver', 'stag', 'erupt'): 2, ('silver', 'stag', 'erupt', 'end'): 2, ('toward', 'dementor', 'fell', 'back'): 2, ('blood', 'rush', 'hi', 'head'): 3, ('spell', 'hit', 'skrewt', 'armor'): 2, ('harri', 'yell', 'spell', 'hit'): 3, ('air', 'wa', 'suddenli', 'full'): 3, ('hi', 'robe', 'look', 'hi'): 2, ('stupefi', 'harri', 'yell', 'spell'): 2, ('said', 'harri', 'yeah', 'said'): 4, ('could', 'hardli', 'believ', 'seen'): 2, ('sound', 'often', 'heard', 'dure'): 2, ('often', 'heard', 'dure', 'search'): 2, ('heard', 'dure', 'search', 'word'): 2, ('hi', 'immedi', 'thought', 'wa'): 3, ('hi', 'wand', 'spun', 'around'): 2, ('triwizard', 'cup', 'wa', 'gleam'): 2, ('wand', 'fli', 'hi', 'hand'): 2, ('harri', 'harri', 'rais', 'hi'): 2, ('harri', 'rais', 'hi', 'wand'): 13, ('shake', 'hi', 'head', 'said'): 2, ('wa', 'onli', 'one', 'wa'): 2, ('look', 'though', 'thi', 'wa'): 2, ('hi', 'face', 'wa', 'set'): 2, ('yeah', 'said', 'harri', 'yeah'): 6, ('hi', 'feet', 'look', 'around'): 3, ('yeah', 'said', 'harri', 'glad'): 2, ('lower', 'hi', 'wand', 'slightli'): 2, ('heard', 'high', 'cold', 'voic'): 3, ('high', 'cold', 'voic', 'say'): 2, ('turn', 'hi', 'head', 'see'): 2, ('hi', 'scar', 'sear', 'pain'): 6, ('let', 'drown', 'harri', 'thought'): 2, ('drop', 'hi', 'knee', 'besid'): 4, ('said', 'high', 'cold', 'voic'): 5, ('like', 'larg', 'pale', 'spider'): 2, ('hi', 'long', 'white', 'finger'): 2, ('red', 'eye', 'whose', 'pupil'): 2, ('threw', 'back', 'hi', 'head'): 3, ('laugh', 'rais', 'hi', 'wand'): 2, ('rais', 'hi', 'wand', 'crucio'): 2, ('voldemort', 'rais', 'hi', 'wand'): 7, ('rais', 'hi', 'head', 'stare'): 2, ('said', 'softli', 'hi', 'red'): 2, ('softli', 'hi', 'red', 'eye'): 2, ('wa', 'rip', 'bodi', 'wa'): 2, ('rip', 'bodi', 'wa', 'less'): 2, ('bodi', 'wa', 'less', 'spirit'): 2, ('wa', 'less', 'spirit', 'less'): 2, ('less', 'spirit', 'less', 'meanest'): 2, ('spirit', 'less', 'meanest', 'ghost'): 2, ('less', 'meanest', 'ghost', 'still'): 2, ('meanest', 'ghost', 'still', 'wa'): 2, ('gone', 'anybodi', 'along', 'path'): 2, ('anybodi', 'along', 'path', 'lead'): 2, ('one', 'faith', 'death', 'eater'): 2, ('faith', 'death', 'eater', 'would'): 2, ('knew', 'dumbledor', 'would', 'seen'): 2, ('quidditch', 'world', 'cup', 'thought'): 2, ('hi', 'head', 'wa', 'sure'): 2, ('wa', 'go', 'give', 'satisfact'): 2, ('said', 'rais', 'hi', 'wand'): 2, ('wand', 'harri', 'felt', 'hi'): 2, ('scrambl', 'hi', 'feet', 'wa'): 2, ('thi', 'time', 'harri', 'wa'): 2, ('time', 'harri', 'wa', 'readi'): 2, ('might', 'even', 'painless', 'would'): 2, ('even', 'painless', 'would', 'know'): 2, ('painless', 'would', 'know', 'never'): 2, ('would', 'know', 'never', 'die'): 2, ('hi', 'wand', 'tightli', 'hi'): 2, ('wand', 'tightli', 'hi', 'hand'): 2, ('avada', 'kedavra', 'jet', 'green'): 2, ('kedavra', 'jet', 'green', 'light'): 2, ('death', 'eater', 'harri', 'saw'): 2, ('hi', 'red', 'eye', 'wide'): 2, ('dumbledor', 'wa', 'almost', 'though'): 2, ('clutch', 'hi', 'wand', 'tightli'): 2, ('lean', 'hi', 'walk', 'stick'): 2, ('anoth', 'head', 'wa', 'emerg'): 2, ('beneath', 'hi', 'finger', 'harri'): 2, ('point', 'hi', 'wand', 'wildli'): 2, ('hi', 'shoulder', 'death', 'eater'): 2, ('saw', 'rais', 'hi', 'wand'): 2, ('jerk', 'behind', 'hi', 'navel'): 3, ('harri', 'let', 'go', 'dumbledor'): 2, ('hi', 'head', 'wa', 'pound'): 2, ('fudg', 'wa', 'say', 'loudli'): 2, ('kill', 'cedric', 'kill', 'cedric'): 2, ('got', 'hi', 'bodi', 'back'): 2, ('eye', 'fix', 'unblinkingli', 'upon'): 2, ('fix', 'unblinkingli', 'upon', 'harri'): 2, ('hi', 'scar', 'hurt', 'badli'): 2, ('know', 'death', 'eater', 'said'): 2, ('karkaroff', 'fled', 'tonight', 'felt'): 2, ('felt', 'dark', 'mark', 'burn'): 2, ('wa', 'make', 'sure', 'wa'): 2, ('drew', 'hi', 'wand', 'point'): 2, ('azkaban', 'said', 'harri', 'wa'): 2, ('eye', 'wa', 'upon', 'harri'): 3, ('would', 'never', 'reach', 'hi'): 2, ('harri', 'plung', 'hi', 'hand'): 2, ('wa', 'thrown', 'backward', 'onto'): 2, ('look', 'upon', 'dumbledor', 'face'): 2, ('onto', 'hi', 'back', 'hi'): 2, ('back', 'hi', 'face', 'wa'): 2, ('wa', 'twitch', 'though', 'wa'): 2, ('alastor', 'moodi', 'said', 'dumbledor'): 2, ('hi', 'eye', 'fix', 'upon'): 7, ('grizzl', 'gray', 'hair', 'wa'): 2, ('master', 'barti', 'master', 'barti'): 3, ('took', 'deep', 'shudder', 'breath'): 2, ('draft', 'polyjuic', 'potion', 'contain'): 2, ('polyjuic', 'potion', 'contain', 'one'): 2, ('sens', 'one', 'healthi', 'one'): 2, ('one', 'healthi', 'one', 'die'): 2, ('act', 'though', 'noth', 'wa'): 2, ('professor', 'mcgonagal', 'look', 'slightli'): 2, ('flash', 'across', 'hi', 'mind'): 3, ('hi', 'face', 'wa', 'white'): 3, ('wa', 'look', 'harri', 'avoid'): 2, ('look', 'harri', 'avoid', 'hi'): 2, ('harri', 'felt', 'rush', 'gratitud'): 2, ('felt', 'rush', 'gratitud', 'toward'): 2, ('lean', 'forward', 'toward', 'harri'): 2, ('shown', 'braveri', 'beyond', 'anyth'): 2, ('braveri', 'beyond', 'anyth', 'could'): 2, ('beyond', 'anyth', 'could', 'expect'): 2, ('dumbledor', 'stood', 'quickli', 'harri'): 2, ('eye', 'upon', 'harri', 'face'): 2, ('said', 'dumbledor', 'quietli', 'ye'): 2, ('quietli', 'ye', 'said', 'harri'): 2, ('face', 'hi', 'hand', 'harri'): 2, ('push', 'open', 'door', 'harri'): 2, ('open', 'door', 'harri', 'saw'): 2, ('befor', 'could', 'say', 'word'): 2, ('wa', 'sure', 'wa', 'still'): 2, ('lose', 'control', 'like', 'thi'): 2, ('see', 'dumbledor', 'said', 'fudg'): 2, ('harri', 'wa', 'astonish', 'see'): 2, ('harri', 'said', 'dumbledor', 'hi'): 2, ('lord', 'voldemort', 'ha', 'return'): 4, ('said', 'quietli', 'ron', 'hermion'): 2, ('saw', 'voldemort', 'come', 'back'): 2, ('made', 'sudden', 'movement', 'harri'): 2, ('wand', 'see', 'dumbledor', 'said'): 2, ('rock', 'backward', 'forward', 'hi'): 2, ('hi', 'bowler', 'hat', 'hi'): 2, ('bowler', 'hat', 'hi', 'hand'): 2, ('hat', 'onto', 'hi', 'head'): 2, ('turn', 'look', 'group', 'around'): 2, ('understand', 'yeah', 'said', 'harri'): 2, ('wa', 'sever', 'minut', 'befor'): 3, ('harri', 'slump', 'back', 'hi'): 2, ('slump', 'back', 'hi', 'pillow'): 2, ('wipe', 'eye', 'back', 'hand'): 2, ('ad', 'hastili', 'see', 'look'): 2, ('eye', 'linger', 'harri', 'moment'): 2, ('said', 'dumbledor', 'look', 'around'): 3, ('hi', 'eye', 'fell', 'upon'): 5, ('gift', 'spread', 'discord', 'enmiti'): 2, ('spread', 'discord', 'enmiti', 'veri'): 2, ('discord', 'enmiti', 'veri', 'great'): 2, ('enmiti', 'veri', 'great', 'fight'): 2, ('veri', 'great', 'fight', 'onli'): 2, ('great', 'fight', 'onli', 'show'): 2, ('fight', 'onli', 'show', 'equal'): 2, ('onli', 'show', 'equal', 'strong'): 2, ('show', 'equal', 'strong', 'bond'): 2, ('equal', 'strong', 'bond', 'friendship'): 2, ('strong', 'bond', 'friendship', 'trust'): 2, ('harri', 'could', 'see', 'hagrid'): 5, ('ye', 'right', 'said', 'hermion'): 2, ('right', 'said', 'hermion', 'look'): 2, ('said', 'hermion', 'look', 'slightli'): 2, ('furri', 'ginger', 'cushion', 'harri'): 2, ('harri', 'said', 'said', 'harri'): 2, ('ron', 'oh', 'ye', 'said'): 2, ('wa', 'talk', 'hi', 'hand'): 2, ('hi', 'hand', 'said', 'hermion'): 2, ('crabb', 'goyl', 'stand', 'behind'): 2, ('get', 'said', 'harri', 'thi'): 2, ('said', 'georg', 'shake', 'hi'): 3, ('georg', 'shake', 'hi', 'head'): 3, ('yeah', 'said', 'harri', 'grin'): 2, ('befor', 'could', 'say', 'anoth'): 3, ('said', 'ron', 'clap', 'back'): 2, ('grandpré', 'copyright', 'warner', 'harri'): 3, ('copyright', 'warner', 'harri', 'potter'): 3, ('warner', 'harri', 'potter', 'charact'): 2, ('publish', 'right', 'rowl', 'right'): 3, ('right', 'rowl', 'right', 'reserv'): 3, ('rowl', 'right', 'reserv', 'publish'): 3, ('regist', 'trademark', 'scholast', 'part'): 2, ('trademark', 'scholast', 'part', 'thi'): 2, ('scholast', 'part', 'thi', 'public'): 2, ('librari', 'congress', 'control', 'number'): 3, ('congress', 'control', 'number', 'isbn'): 2, ('control', 'number', 'isbn', 'print'): 2, ('hear', 'roll', 'onto', 'hi'): 2, ('close', 'tightli', 'around', 'hi'): 2, ('hi', 'left', 'hand', 'hi'): 2, ('though', 'receiv', 'electr', 'shock'): 2, ('said', 'uncl', 'vernon', 'triumphant'): 2, ('voldemort', 'wa', 'back', 'would'): 2, ('far', 'harri', 'could', 'tell'): 2, ('magnolia', 'crescent', 'wisteria', 'walk'): 3, ('turn', 'hi', 'head', 'thi'): 2, ('hi', 'head', 'thi', 'way'): 2, ('goos', 'bump', 'erupt', 'hi'): 2, ('hi', 'wand', 'flown', 'hi'): 2, ('wand', 'flown', 'hi', 'hand'): 2, ('hold', 'lit', 'wand', 'aloft'): 2, ('wa', 'drench', 'sweat', 'could'): 2, ('dumbledor', 'said', 'harri', 'stare'): 2, ('one', 'dudley', 'massiv', 'arm'): 2, ('long', 'straggli', 'ginger', 'hair'): 2, ('anoth', 'loud', 'crack', 'vanish'): 2, ('uncl', 'vernon', 'vein', 'hi'): 2, ('region', 'hi', 'adam', 'appl'): 2, ('decre', 'restrict', 'underag', 'sorceri'): 2, ('school', 'witchcraft', 'wizardri', 'ministri'): 2, ('ministri', 'repres', 'call', 'place'): 2, ('ministri', 'magic', 'harri', 'read'): 2, ('insid', 'hi', 'head', 'wa'): 3, ('onli', 'one', 'thing', 'would'): 2, ('harri', 'cross', 'room', 'run'): 2, ('leav', 'aunt', 'uncl', 'hous'): 2, ('hi', 'mind', 'wa', 'race'): 2, ('strain', 'hi', 'ear', 'catch'): 2, ('son', 'said', 'uncl', 'vernon'): 3, ('hi', 'larg', 'blond', 'head'): 2, ('said', 'uncl', 'vernon', 'voic'): 2, ('guard', 'wizard', 'prison', 'azkaban'): 2, ('use', 'name', 'said', 'harri'): 2, ('hope', 'somebodi', 'wa', 'go'): 2, ('headmast', 'hogwart', 'school', 'witchcraft'): 2, ('harri', 'read', 'thi', 'letter'): 2, ('recal', 'harri', 'hi', 'surround'): 2, ('go', 'hear', 'said', 'harri'): 2, ('said', 'harri', 'get', 'hi'): 2, ('harri', 'get', 'hi', 'feet'): 2, ('lord', 'voldemort', 'said', 'harri'): 2, ('hang', 'said', 'uncl', 'vernon'): 2, ('harri', 'said', 'gone', 'said'): 2, ('aunt', 'petunia', 'wa', 'look'): 2, ('thi', 'moment', 'knew', 'wa'): 2, ('said', 'uncl', 'vernon', 'look'): 2, ('uncl', 'vernon', 'look', 'hi'): 2, ('vernon', 'look', 'hi', 'wife'): 2, ('look', 'hi', 'wife', 'harri'): 2, ('harri', 'rais', 'hi', 'hand'): 5, ('said', 'wa', 'look', 'harri'): 2, ('befor', 'could', 'make', 'decis'): 2, ('harri', 'tri', 'smile', 'back'): 2, ('stow', 'hi', 'wand', 'back'): 2, ('hi', 'magic', 'eye', 'spin'): 2, ('corner', 'hi', 'mouth', 'twitch'): 2, ('said', 'kingsley', 'shacklebolt', 'hi'): 2, ('kingsley', 'shacklebolt', 'hi', 'deep'): 2, ('help', 'said', 'tonk', 'brightli'): 2, ('harri', 'follow', 'watch', 'hi'): 2, ('though', 'hi', 'voic', 'wa'): 2, ('harri', 'lost', 'track', 'time'): 2, ('like', 'silver', 'cigarett', 'lighter'): 2, ('number', 'twelv', 'grimmauld', 'place'): 15, ('pull', 'hi', 'wand', 'tap'): 2, ('harri', 'felt', 'though', 'someth'): 3, ('dumbledor', 'made', 'us', 'swear'): 2, ('right', 'state', 'said', 'ron'): 2, ('finger', 'hi', 'right', 'hand'): 2, ('said', 'ron', 'hermion', 'wa'): 4, ('ron', 'hermion', 'wa', 'go'): 2, ('made', 'us', 'swear', 'tell'): 2, ('tell', 'said', 'harri', 'yeah'): 2, ('harri', 'rais', 'hi', 'eyebrow'): 5, ('though', 'said', 'harri', 'hi'): 2, ('keep', 'hi', 'voic', 'even'): 2, ('whi', 'dumbledor', 'keen', 'keep'): 2, ('hard', 'keep', 'hi', 'voic'): 2, ('voic', 'grow', 'louder', 'everi'): 2, ('grow', 'louder', 'everi', 'word'): 2, ('realli', 'sorri', 'said', 'hermion'): 2, ('hermion', 'headquart', 'order', 'phoenix'): 2, ('hi', 'hand', 'hi', 'pocket'): 7, ('er', 'said', 'ron', 'well'): 2, ('follow', 'known', 'death', 'eater'): 2, ('loud', 'crack', 'fred', 'georg'): 2, ('said', 'harri', 'quickli', 'yeah'): 2, ('ugli', 'look', 'hi', 'face'): 2, ('said', 'harri', 'though', 'knew'): 2, ('though', 'knew', 'perfectli', 'well'): 2, ('said', 'hermion', 'quickli', 'look'): 2, ('wa', 'anoth', 'loud', 'crack'): 3, ('forget', 'keep', 'voic', 'hall'): 2, ('room', 'leav', 'harri', 'alon'): 2, ('hi', 'head', 'hermion', 'said'): 2, ('hi', 'eye', 'harri', 'hermion'): 2, ('yeah', 'yeah', 'said', 'ron'): 2, ('heard', 'front', 'door', 'open'): 3, ('front', 'door', 'open', 'close'): 2, ('man', 'long', 'black', 'hair'): 2, ('sweep', 'hi', 'long', 'dark'): 2, ('hi', 'long', 'dark', 'hair'): 2, ('long', 'dark', 'hair', 'hi'): 2, ('dark', 'hair', 'hi', 'eye'): 2, ('haze', 'pipe', 'smoke', 'hung'): 2, ('wooden', 'tabl', 'stood', 'middl'): 2, ('jump', 'hi', 'feet', 'harri'): 3, ('hi', 'shoulder', 'harri', 'saw'): 2, ('said', 'tonk', 'brightli', 'knock'): 2, ('felt', 'someth', 'brush', 'hi'): 2, ('said', 'harri', 'first', 'time'): 3, ('hi', 'voic', 'wa', 'sure'): 2, ('wa', 'sit', 'bolt', 'upright'): 2, ('much', 'order', 'said', 'siriu'): 2, ('care', 'harri', 'said', 'lupin'): 2, ('back', 'hi', 'chair', 'hi'): 3, ('harri', 'said', 'ron', 'hermion'): 3, ('becaus', 'want', 'draw', 'attent'): 2, ('said', 'harri', 'angrili', 'think'): 2, ('intern', 'confeder', 'wizard', 'becaus'): 2, ('got', 'plan', 'plan', 'put'): 2, ('plan', 'plan', 'put', 'oper'): 2, ('plan', 'put', 'oper', 'veri'): 2, ('put', 'oper', 'veri', 'quietli'): 2, ('oper', 'veri', 'quietli', 'inde'): 2, ('like', 'weapon', 'someth', 'last'): 3, ('said', 'harri', 'quickli', 'join'): 2, ('nobl', 'ancient', 'hous', 'black'): 2, ('yeah', 'right', 'said', 'fred'): 2, ('hermion', 'bade', 'good', 'night'): 2, ('wa', 'breath', 'veri', 'slowli'): 2, ('breath', 'veri', 'slowli', 'deepli'): 2, ('asleep', 'harri', 'put', 'hi'): 2, ('pull', 'hi', 'maroon', 'pajama'): 2, ('harri', 'could', 'see', 'hi'): 2, ('said', 'ron', 'sound', 'slightli'): 3, ('said', 'fred', 'said', 'ron'): 2, ('wa', 'sure', 'would', 'abl'): 4, ('hagrid', 'care', 'magic', 'creatur'): 2, ('hour', 'later', 'harri', 'ron'): 2, ('harri', 'said', 'weasley', 'harri'): 2, ('close', 'draw', 'room', 'door'): 2, ('cover', 'thick', 'black', 'hair'): 2, ('close', 'door', 'care', 'behind'): 2, ('said', 'hermion', 'tent', 'harri'): 2, ('said', 'voic', 'behind', 'harri'): 2, ('like', 'hi', 'littl', 'joke'): 2, ('oh', 'poor', 'mistress', 'would'): 2, ('poor', 'mistress', 'would', 'say'): 2, ('mistress', 'would', 'say', 'saw'): 2, ('sensat', 'pit', 'hi', 'stomach'): 2, ('hi', 'hand', 'deep', 'hi'): 3, ('hand', 'deep', 'hi', 'pocket'): 2, ('natur', 'nobil', 'wizard', 'genealog'): 3, ('tapestri', 'black', 'famili', 'tree'): 2, ('harri', 'drop', 'hi', 'eye'): 2, ('bed', 'put', 'hi', 'glass'): 2, ('blank', 'pictur', 'wall', 'snigger'): 2, ('hi', 'mouth', 'wide', 'open'): 2, ('next', 'time', 'would', 'see'): 2, ('right', 'yeah', 'said', 'harri'): 5, ('depart', 'magic', 'law', 'enforc'): 5, ('harri', 'think', 'go', 'said'): 2, ('right', 'said', 'harri', 'well'): 6, ('said', 'harri', 'well', 'see'): 2, ('harri', 'well', 'see', 'later'): 2, ('hand', 'insid', 'hi', 'jacket'): 2, ('station', 'veri', 'heart', 'london'): 2, ('wa', 'miss', 'sever', 'pane'): 2, ('back', 'place', 'cool', 'femal'): 2, ('place', 'cool', 'femal', 'voic'): 2, ('cool', 'femal', 'voic', 'sound'): 2, ('femal', 'voic', 'sound', 'insid'): 2, ('ministri', 'magic', 'pleas', 'state'): 2, ('magic', 'pleas', 'state', 'name'): 2, ('thank', 'said', 'cool', 'femal'): 2, ('said', 'cool', 'femal', 'voic'): 4, ('cool', 'femal', 'voic', 'visitor'): 2, ('femal', 'voic', 'visitor', 'pleas'): 2, ('voic', 'visitor', 'pleas', 'take'): 2, ('visitor', 'pleas', 'take', 'badg'): 2, ('pleas', 'take', 'badg', 'attach'): 2, ('take', 'badg', 'attach', 'front'): 2, ('metal', 'chute', 'return', 'coin'): 2, ('chute', 'return', 'coin', 'usual'): 2, ('return', 'coin', 'usual', 'appear'): 2, ('visitor', 'ministri', 'requir', 'submit'): 2, ('ministri', 'requir', 'submit', 'search'): 2, ('requir', 'submit', 'search', 'present'): 2, ('submit', 'search', 'present', 'wand'): 2, ('search', 'present', 'wand', 'registr'): 2, ('present', 'wand', 'registr', 'secur'): 2, ('wand', 'registr', 'secur', 'desk'): 2, ('registr', 'secur', 'desk', 'far'): 2, ('secur', 'desk', 'far', 'end'): 2, ('floor', 'telephon', 'box', 'shudder'): 2, ('rose', 'past', 'glass', 'window'): 2, ('past', 'glass', 'window', 'telephon'): 2, ('glass', 'window', 'telephon', 'box'): 2, ('ministri', 'magic', 'wish', 'pleasant'): 2, ('said', 'woman', 'voic', 'door'): 2, ('woman', 'voic', 'door', 'telephon'): 2, ('voic', 'door', 'telephon', 'box'): 2, ('point', 'centaur', 'arrow', 'tip'): 2, ('centaur', 'arrow', 'tip', 'goblin'): 2, ('arrow', 'tip', 'goblin', 'hat'): 2, ('tip', 'goblin', 'hat', 'ear'): 2, ('hold', 'hi', 'hand', 'harri'): 5, ('depart', 'magic', 'transport', 'floo'): 2, ('magic', 'transport', 'floo', 'network'): 2, ('level', 'four', 'depart', 'regul'): 2, ('four', 'depart', 'regul', 'control'): 2, ('control', 'magic', 'creatur', 'incorpor'): 2, ('magic', 'creatur', 'incorpor', 'beast'): 2, ('creatur', 'incorpor', 'beast', 'spirit'): 2, ('incorpor', 'beast', 'spirit', 'divis'): 2, ('beast', 'spirit', 'divis', 'goblin'): 2, ('spirit', 'divis', 'goblin', 'liaison'): 2, ('divis', 'goblin', 'liaison', 'offic'): 2, ('goblin', 'liaison', 'offic', 'pest'): 2, ('liaison', 'offic', 'pest', 'advisori'): 2, ('depart', 'magic', 'accid', 'catastroph'): 2, ('level', 'two', 'depart', 'magic'): 2, ('two', 'depart', 'magic', 'law'): 2, ('magic', 'law', 'enforc', 'includ'): 2, ('law', 'enforc', 'includ', 'improp'): 2, ('enforc', 'includ', 'improp', 'use'): 2, ('includ', 'improp', 'use', 'magic'): 2, ('use', 'magic', 'offic', 'auror'): 2, ('magic', 'offic', 'auror', 'headquart'): 2, ('offic', 'auror', 'headquart', 'wizengamot'): 2, ('auror', 'headquart', 'wizengamot', 'administr'): 2, ('drop', 'hi', 'voic', 'said'): 2, ('end', 'corridor', 'harri', 'expect'): 2, ('corridor', 'harri', 'expect', 'go'): 2, ('take', 'two', 'step', 'time'): 2, ('along', 'yet', 'anoth', 'corridor'): 2, ('rough', 'stone', 'wall', 'torch'): 2, ('harri', 'heart', 'wa', 'beat'): 3, ('door', 'swung', 'close', 'behind'): 3, ('swung', 'close', 'behind', 'harri'): 3, ('harri', 'drop', 'hi', 'gaze'): 2, ('hi', 'footstep', 'echo', 'loudli'): 2, ('footstep', 'echo', 'loudli', 'walk'): 2, ('veri', 'well', 'said', 'fudg'): 3, ('statut', 'secreci', 'harri', 'jame'): 2, ('secreci', 'harri', 'jame', 'potter'): 2, ('four', 'privet', 'drive', 'littl'): 2, ('corneliu', 'oswald', 'fudg', 'minist'): 2, ('oswald', 'fudg', 'minist', 'magic'): 2, ('bone', 'head', 'depart', 'magic'): 2, ('dolor', 'jane', 'umbridg', 'senior'): 2, ('umbridg', 'senior', 'undersecretari', 'minist'): 2, ('albu', 'perciv', 'wulfric', 'brian'): 2, ('behind', 'harri', 'turn', 'hi'): 2, ('harri', 'turn', 'hi', 'head'): 3, ('night', 'second', 'august', 'said'): 2, ('patronu', 'ye', 'said', 'harri'): 2, ('befor', 'ye', 'said', 'harri'): 2, ('look', 'back', 'hi', 'eyebrow'): 2, ('said', 'madam', 'bone', 'boom'): 2, ('madam', 'bone', 'boom', 'voic'): 2, ('harri', 'saw', 'first', 'time'): 2, ('look', 'like', 'larg', 'pale'): 2, ('dumbledor', 'inclin', 'hi', 'head'): 3, ('said', 'dumbledor', 'inclin', 'hi'): 2, ('harri', 'glanc', 'sideway', 'dumbledor'): 2, ('wa', 'sure', 'wa', 'right'): 2, ('took', 'deep', 'breath', 'look'): 4, ('hi', 'feet', 'pull', 'hi'): 2, ('pay', 'slightest', 'bit', 'attent'): 2, ('merlin', 'beard', 'said', 'weasley'): 2, ('wa', 'stand', 'feet', 'away'): 2, ('sleek', 'blond', 'hair', 'point'): 2, ('fix', 'upon', 'harri', 'face'): 2, ('potter', 'said', 'luciu', 'malfoy'): 2, ('said', 'malfoy', 'rais', 'hi'): 2, ('pull', 'hi', 'money', 'bag'): 2, ('harri', 'thought', 'look', 'rather'): 2, ('said', 'hermion', 'look', 'posit'): 2, ('got', 'got', 'got', 'enough'): 2, ('well', 'better', 'get', 'go'): 3, ('twelv', 'grimmauld', 'place', 'harri'): 2, ('scar', 'hi', 'forehead', 'burn'): 2, ('said', 'hermion', 'look', 'alarm'): 2, ('befor', 'could', 'say', 'anyth'): 3, ('next', 'day', 'harri', 'could'): 2, ('harri', 'could', 'help', 'notic'): 4, ('harri', 'ron', 'togeth', 'hermion'): 3, ('veri', 'last', 'day', 'holiday'): 2, ('defens', 'magic', 'theori', 'wilbert'): 3, ('crack', 'fred', 'georg', 'appar'): 2, ('said', 'harri', 'count', 'hi'): 2, ('look', 'around', 'ron', 'wa'): 4, ('around', 'ron', 'wa', 'stand'): 2, ('one', 'right', 'mind', 'would'): 2, ('right', 'mind', 'would', 'make'): 2, ('mind', 'would', 'make', 'ron'): 2, ('would', 'make', 'ron', 'prefect'): 2, ('said', 'hermion', 'look', 'thoroughli'): 2, ('room', 'carri', 'pile', 'freshli'): 2, ('carri', 'pile', 'freshli', 'launder'): 2, ('said', 'ron', 'look', 'though'): 2, ('new', 'set', 'dress', 'robe'): 2, ('fred', 'georg', 'exchang', 'look'): 2, ('go', 'put', 'us', 'detent'): 2, ('room', 'leav', 'harri', 'hermion'): 2, ('leav', 'harri', 'hermion', 'alon'): 2, ('harri', 'said', 'hermion', 'tent'): 2, ('voic', 'insid', 'hi', 'head'): 2, ('face', 'buri', 'hi', 'hand'): 2, ('said', 'voic', 'harri', 'head'): 2, ('smile', 'fade', 'ron', 'face'): 2, ('fred', 'roll', 'hi', 'eye'): 2, ('hermion', 'wa', 'talk', 'veri'): 2, ('oh', 'dunno', 'said', 'harri'): 2, ('look', 'nervous', 'hi', 'shoulder'): 2, ('harri', 'watch', 'go', 'feel'): 3, ('watch', 'go', 'feel', 'slightli'): 2, ('yeah', 'fine', 'lie', 'harri'): 2, ('photograph', 'origin', 'order', 'phoenix'): 2, ('weasley', 'sob', 'harder', 'ever'): 3, ('blood', 'run', 'hi', 'face'): 2, ('run', 'hi', 'face', 'weasley'): 2, ('wave', 'hi', 'wand', 'onc'): 2, ('said', 'harri', 'tri', 'smile'): 3, ('scar', 'hi', 'forehead', 'sear'): 2, ('hi', 'forehead', 'sear', 'pain'): 2, ('sear', 'pain', 'hi', 'stomach'): 2, ('ever', 'felt', 'hi', 'life'): 2, ('harri', 'wa', 'put', 'hi'): 2, ('go', 'king', 'cross', 'guard'): 2, ('guard', 'go', 'king', 'cross'): 2, ('whi', 'said', 'harri', 'irrit'): 2, ('harri', 'said', 'look', 'around'): 2, ('hogwart', 'express', 'stood', 'belch'): 2, ('look', 'yourselv', 'said', 'lupin'): 2, ('yourselv', 'said', 'lupin', 'shake'): 2, ('said', 'lupin', 'shake', 'hand'): 2, ('lupin', 'shake', 'hand', 'round'): 2, ('shake', 'hand', 'round', 'reach'): 2, ('hand', 'round', 'reach', 'harri'): 2, ('round', 'reach', 'harri', 'last'): 2, ('ron', 'hermion', 'exchang', 'look'): 3, ('oh', 'said', 'harri', 'right'): 2, ('harri', 'pick', 'hedwig', 'cage'): 2, ('look', 'harri', 'knew', 'onc'): 2, ('wa', 'read', 'magazin', 'upsid'): 2, ('harri', 'nod', 'thank', 'said'): 2, ('nevil', 'longbottom', 'luna', 'lovegood'): 2, ('wit', 'beyond', 'measur', 'man'): 4, ('beyond', 'measur', 'man', 'greatest'): 4, ('measur', 'man', 'greatest', 'treasur'): 3, ('harri', 'stare', 'thing', 'wa'): 2, ('oh', 'hi', 'said', 'harri'): 2, ('hi', 'worst', 'fear', 'confirm'): 2, ('erni', 'macmillan', 'hannah', 'abbott'): 2, ('hannah', 'abbott', 'said', 'ron'): 2, ('cours', 'said', 'hermion', 'scathingli'): 2, ('harri', 'look', 'around', 'expect'): 2, ('ron', 'hermion', 'ginni', 'nevil'): 2, ('harri', 'could', 'understand', 'whi'): 2, ('said', 'harri', 'turn', 'quickli'): 2, ('said', 'ron', 'sound', 'worri'): 2, ('crabb', 'goyl', 'pansi', 'parkinson'): 3, ('oh', 'ye', 'said', 'luna'): 2, ('tall', 'stone', 'pillar', 'top'): 2, ('stone', 'pillar', 'top', 'wing'): 2, ('pillar', 'top', 'wing', 'boar'): 2, ('put', 'head', 'togeth', 'whisper'): 2, ('hermion', 'scan', 'staff', 'tabl'): 2, ('yeah', 'said', 'ron', 'sound'): 2, ('first', 'time', 'harri', 'memori'): 2, ('harri', 'could', 'rememb', 'ever'): 3, ('would', 'like', 'veri', 'much'): 2, ('said', 'dumbledor', 'ring', 'voic'): 2, ('hi', 'mouth', 'wa', 'full'): 2, ('slytherin', 'tabl', 'draco', 'malfoy'): 2, ('tabl', 'draco', 'malfoy', 'wa'): 2, ('got', 'hi', 'feet', 'onc'): 2, ('take', 'care', 'magic', 'creatur'): 2, ('look', 'taken', 'aback', 'moment'): 2, ('look', 'rather', 'taken', 'aback'): 2, ('professor', 'dark', 'eyebrow', 'contract'): 2, ('progress', 'progress', 'sake', 'must'): 2, ('stare', 'professor', 'umbridg', 'wa'): 2, ('prune', 'wherev', 'find', 'practic'): 2, ('wherev', 'find', 'practic', 'ought'): 2, ('thank', 'veri', 'much', 'professor'): 2, ('professor', 'umbridg', 'wa', 'said'): 2, ('said', 'hermion', 'low', 'voic'): 5, ('front', 'portrait', 'fat', 'ladi'): 2, ('fat', 'ladi', 'portrait', 'swung'): 2, ('ladi', 'portrait', 'swung', 'open'): 2, ('harri', 'push', 'open', 'door'): 3, ('harri', 'paus', 'act', 'pull'): 2, ('mean', 'said', 'harri', 'quickli'): 4, ('said', 'harri', 'quickli', 'hi'): 2, ('hi', 'heart', 'wa', 'beat'): 3, ('heart', 'wa', 'beat', 'rather'): 2, ('wa', 'beat', 'rather', 'fast'): 2, ('though', 'someth', 'wa', 'close'): 2, ('daili', 'prophet', 'said', 'harri'): 2, ('pull', 'hang', 'close', 'around'): 2, ('harri', 'knew', 'wa', 'listen'): 3, ('hi', 'bedsid', 'tabl', 'got'): 2, ('yeah', 'said', 'ron', 'angrili'): 2, ('lay', 'back', 'hi', 'pillow'): 2, ('common', 'room', 'notic', 'board'): 3, ('harri', 'could', 'tell', 'hi'): 3, ('wa', 'nowher', 'seen', 'harri'): 2, ('littl', 'bro', 'said', 'fred'): 3, ('gold', 'start', 'joke', 'shop'): 2, ('said', 'hermion', 'look', 'harri'): 3, ('hermion', 'look', 'harri', 'ron'): 2, ('yeah', 'would', 'said', 'harri'): 2, ('hi', 'face', 'grow', 'hot'): 2, ('yeah', 'said', 'harri', 'tri'): 2, ('outsid', 'snape', 'classroom', 'door'): 2, ('second', 'time', 'two', 'day'): 2, ('snape', 'flick', 'hi', 'wand'): 2, ('look', 'hi', 'hook', 'nose'): 2, ('ye', 'said', 'harri', 'hi'): 3, ('hi', 'finger', 'clench', 'tightli'): 2, ('finger', 'clench', 'tightli', 'around'): 2, ('hi', 'schoolbag', 'back', 'hi'): 2, ('schoolbag', 'back', 'hi', 'shoulder'): 2, ('staircas', 'two', 'step', 'time'): 2, ('one', 'good', 'thing', 'said'): 2, ('said', 'professor', 'umbridg', 'like'): 2, ('good', 'afternoon', 'professor', 'umbridg'): 2, ('afternoon', 'professor', 'umbridg', 'chant'): 2, ('said', 'professor', 'umbridg', 'sweetli'): 2, ('minut', 'room', 'wa', 'full'): 2, ('got', 'copi', 'defens', 'magic'): 2, ('copi', 'defens', 'magic', 'theori'): 6, ('magic', 'theori', 'wilbert', 'slinkhard'): 2, ('hi', 'copi', 'defens', 'magic'): 2, ('professor', 'umbridg', 'rais', 'eyebrow'): 3, ('expect', 'attack', 'dure', 'class'): 2, ('hand', 'air', 'professor', 'umbridg'): 2, ('defens', 'dark', 'art', 'practic'): 2, ('hi', 'fist', 'air', 'professor'): 2, ('fist', 'air', 'professor', 'umbridg'): 2, ('said', 'professor', 'umbridg', 'smile'): 2, ('defens', 'dark', 'art', 'suppos'): 2, ('long', 'studi', 'theori', 'hard'): 2, ('studi', 'theori', 'hard', 'enough'): 2, ('condit', 'said', 'professor', 'umbridg'): 2, ('slam', 'door', 'shut', 'behind'): 3, ('well', 'said', 'professor', 'mcgonagal'): 3, ('professor', 'umbridg', 'ye', 'said'): 2, ('everi', 'even', 'thi', 'week'): 2, ('hi', 'knife', 'fork', 'hi'): 2, ('dark', 'art', 'said', 'harri'): 3, ('name', 'merlin', 'said', 'ron'): 2, ('wa', 'quit', 'right', 'harri'): 2, ('walk', 'slope', 'lawn', 'toward'): 2, ('lawn', 'toward', 'hagrid', 'cabin'): 2, ('magic', 'creatur', 'lesson', 'wa'): 3, ('well', 'right', 'said', 'hermion'): 2, ('angelina', 'look', 'though', 'wa'): 2, ('ron', 'hermion', 'great', 'hall'): 2, ('wait', 'er', 'said', 'harri'): 2, ('eye', 'narrow', 'oh', 'ye'): 2, ('gryffindor', 'quidditch', 'team', 'wa'): 2, ('wa', 'wonder', 'whether', 'could'): 2, ('said', 'umbridg', 'smile', 'wide'): 2, ('swallow', 'particularli', 'juici', 'fli'): 2, ('wa', 'wait', 'see', 'whether'): 2, ('wait', 'see', 'whether', 'would'): 2, ('wrote', 'must', 'tell', 'lie'): 3, ('word', 'cut', 'hi', 'skin'): 2, ('wa', 'quit', 'desert', 'wa'): 2, ('harri', 'hesit', 'fraction', 'second'): 2, ('wa', 'one', 'worst', 'practic'): 2, ('harri', 'could', 'see', 'whi'): 3, ('ye', 'said', 'professor', 'umbridg'): 2, ('said', 'harri', 'onc', 'give'): 2, ('let', 'get', 'away', 'thi'): 2, ('glanc', 'toward', 'staff', 'tabl'): 2, ('wa', 'true', 'harri', 'wa'): 2, ('back', 'hi', 'right', 'hand'): 4, ('must', 'tell', 'lie', 'must'): 2, ('tell', 'lie', 'must', 'tell'): 2, ('lie', 'must', 'tell', 'lie'): 2, ('back', 'hi', 'hand', 'wa'): 2, ('harri', 'watch', 'fred', 'georg'): 2, ('watch', 'fred', 'georg', 'lee'): 2, ('sure', 'dumbledor', 'would', 'want'): 2, ('thi', 'yeah', 'said', 'harri'): 2, ('said', 'hermion', 'look', 'reliev'): 4, ('said', 'cho', 'look', 'around'): 2, ('ask', 'yeah', 'said', 'harri'): 2, ('realli', 'brave', 'stand', 'like'): 2, ('yeah', 'said', 'ron', 'put'): 2, ('said', 'ron', 'look', 'alarm'): 4, ('attempt', 'forc', 'hi', 'way'): 3, ('harri', 'laid', 'hi', 'knife'): 2, ('laid', 'hi', 'knife', 'fork'): 2, ('hi', 'ear', 'turn', 'red'): 2, ('said', 'ron', 'hollow', 'voic'): 2, ('hermion', 'look', 'taken', 'aback'): 2, ('hermion', 'rais', 'eyebrow', 'well'): 2, ('said', 'ron', 'sink', 'back'): 2, ('ron', 'sink', 'back', 'hi'): 2, ('sink', 'back', 'hi', 'chair'): 3, ('said', 'hermion', 'eagerli', 'harri'): 2, ('said', 'ron', 'hold', 'hi'): 2, ('ron', 'hold', 'hi', 'hand'): 2, ('sink', 'back', 'hi', 'armchair'): 2, ('triwizard', 'tournament', 'last', 'year'): 2, ('said', 'ron', 'push', 'hi'): 2, ('seen', 'said', 'hermion', 'anxious'): 2, ('hermion', 'clap', 'hand', 'mouth'): 3, ('professor', 'dumbledor', 'said', 'umbridg'): 2, ('learn', 'defens', 'dark', 'art'): 3, ('defens', 'dark', 'art', 'becaus'): 3, ('less', 'like', 'father', 'thought'): 2, ('risk', 'would', 'made', 'fun'): 2, ('last', 'night', 'ministri', 'magic'): 2, ('suprem', 'mugwump', 'intern', 'confeder'): 2, ('mugwump', 'intern', 'confeder', 'wizard'): 2, ('well', 'come', 'said', 'hermion'): 3, ('harri', 'realiz', 'hermion', 'wa'): 2, ('well', 'noth', 'asham', 'said'): 2, ('felt', 'hi', 'face', 'grow'): 2, ('said', 'georg', 'promptli', 'harri'): 2, ('harri', 'laugh', 'though', 'wa'): 2, ('professor', 'umbridg', 'wa', 'stand'): 3, ('make', 'anoth', 'note', 'clipboard'): 2, ('right', 'said', 'professor', 'trelawney'): 2, ('make', 'yet', 'anoth', 'note'): 2, ('knew', 'ron', 'wa', 'think'): 2, ('ron', 'wa', 'think', 'exactli'): 2, ('wa', 'think', 'exactli', 'wa'): 2, ('harri', 'ron', 'told', 'hermion'): 2, ('thi', 'said', 'harri', 'angrili'): 2, ('said', 'harri', 'angrili', 'get'): 2, ('five', 'point', 'gryffindor', 'professor'): 2, ('know', 'mate', 'said', 'ron'): 2, ('hem', 'hem', 'said', 'professor'): 2, ('hem', 'said', 'professor', 'umbridg'): 2, ('said', 'professor', 'umbridg', 'ye'): 2, ('said', 'professor', 'mcgonagal', 'turn'): 5, ('professor', 'mcgonagal', 'turn', 'back'): 3, ('said', 'ron', 'hi', 'voic'): 3, ('harri', 'saw', 'professor', 'umbridg'): 2, ('said', 'professor', 'umbridg', 'scribbl'): 2, ('told', 'said', 'harri', 'angrili'): 2, ('said', 'hermion', 'well', 'said'): 2, ('said', 'harri', 'frown', 'hermion'): 2, ('mate', 'said', 'ron', 'look'): 3, ('hermion', 'whose', 'face', 'wa'): 2, ('harri', 'still', 'breath', 'hard'): 2, ('harri', 'could', 'think', 'anyth'): 2, ('thought', 'said', 'hermion', 'eagerli'): 2, ('thought', 'wa', 'good', 'idea'): 2, ('well', 'said', 'hermion', 'look'): 2, ('hear', 'got', 'say', 'said'): 2, ('got', 'say', 'said', 'hermion'): 2, ('right', 'said', 'harri', 'vagu'): 2, ('dunno', 'said', 'harri', 'shrug'): 2, ('said', 'hermion', 'come', 'reveri'): 2, ('thick', 'black', 'veil', 'fell'): 2, ('girl', 'long', 'plait', 'back'): 2, ('tall', 'skinni', 'blond', 'boy'): 2, ('skinni', 'blond', 'boy', 'upturn'): 2, ('blond', 'boy', 'upturn', 'nose'): 2, ('speak', 'hi', 'mouth', 'wa'): 2, ('hi', 'mouth', 'wa', 'dri'): 2, ('everi', 'eye', 'wa', 'upon'): 2, ('defens', 'dark', 'art', 'mean'): 2, ('pass', 'defens', 'dark', 'art'): 2, ('even', 'zacharia', 'smith', 'though'): 2, ('gaze', 'intent', 'harri', 'said'): 2, ('said', 'hermion', 'voic', 'veri'): 2, ('yeah', 'said', 'harri', 'slightli'): 2, ('said', 'fred', 'grin', 'harri'): 2, ('said', 'wow', 'softli', 'harri'): 2, ('loudli', 'befor', 'harri', 'could'): 2, ('befor', 'harri', 'could', 'speak'): 4, ('though', 'would', 'like', 'noth'): 2, ('erni', 'wa', 'look', 'rather'): 2, ('drain', 'last', 'drop', 'hi'): 2, ('hermion', 'roll', 'eye', 'harri'): 2, ('said', 'harri', 'quickli', 'wa'): 2, ('harri', 'never', 'befor', 'appreci'): 2, ('beech', 'tree', 'edg', 'lake'): 3, ('order', 'high', 'inquisitor', 'hogwart'): 3, ('student', 'organ', 'societi', 'team'): 2, ('organ', 'societi', 'team', 'group'): 4, ('societi', 'team', 'group', 'club'): 4, ('expel', 'abov', 'accord', 'educ'): 2, ('abov', 'accord', 'educ', 'decre'): 4, ('accord', 'educ', 'decre', 'number'): 4, ('educ', 'decre', 'number', 'sign'): 4, ('decre', 'number', 'sign', 'dolor'): 3, ('number', 'sign', 'dolor', 'jane'): 3, ('sign', 'dolor', 'jane', 'umbridg'): 3, ('dolor', 'jane', 'umbridg', 'high'): 4, ('jane', 'umbridg', 'high', 'inquisitor'): 4, ('said', 'ron', 'onc', 'peopl'): 2, ('glanc', 'around', 'make', 'sure'): 2, ('said', 'ron', 'look', 'hi'): 3, ('histori', 'magic', 'harri', 'ron'): 2, ('wa', 'hurri', 'toward', 'look'): 2, ('okay', 'said', 'harri', 'quietli'): 2, ('said', 'harri', 'quietli', 'wa'): 2, ('okay', 'okay', 'said', 'harri'): 2, ('harri', 'neither', 'knew', 'care'): 2, ('er', 'right', 'thank', 'said'): 2, ('right', 'thank', 'said', 'harri'): 2, ('wa', 'stare', 'harri', 'though'): 2, ('ask', 'ron', 'said', 'harri'): 2, ('would', 'know', 'said', 'hermion'): 2, ('hi', 'black', 'eye', 'swept'): 2, ('professor', 'umbridg', 'spent', 'first'): 2, ('defens', 'dark', 'art', 'post'): 2, ('ye', 'said', 'snape', 'quietli'): 2, ('move', 'hi', 'lip', 'look'): 2, ('snape', 'look', 'around', 'harri'): 2, ('drop', 'hi', 'gaze', 'hi'): 2, ('understand', 'ye', 'said', 'harri'): 3, ('took', 'great', 'shudder', 'breath'): 2, ('said', 'professor', 'trelawney', 'deep'): 2, ('harri', 'ron', 'stare', 'hermion'): 2, ('put', 'hi', 'book', 'away'): 2, ('secret', 'defens', 'dark', 'art'): 2, ('defens', 'dark', 'art', 'group'): 3, ('said', 'ron', 'quickli', 'never'): 2, ('turn', 'look', 'ron', 'hermion'): 2, ('door', 'boy', 'dormitori', 'harri'): 2, ('harri', 'look', 'back', 'umbridg'): 2, ('miss', 'granger', 'said', 'professor'): 2, ('ye', 'said', 'harri', 'onc'): 3, ('spoke', 'sound', 'though', 'wa'): 2, ('said', 'harri', 'pull', 'hi'): 4, ('hi', 'wand', 'tap', 'hi'): 2, ('without', 'ani', 'real', 'convict'): 2, ('wa', 'wear', 'hi', 'glass'): 3, ('said', 'ron', 'harri', 'shook'): 2, ('ron', 'harri', 'shook', 'hi'): 2, ('read', 'mind', 'said', 'harri'): 2, ('want', 'know', 'said', 'harri'): 2, ('stuff', 'onli', 'get', 'stealth'): 2, ('onli', 'get', 'stealth', 'like'): 2, ('get', 'stealth', 'like', 'weapon'): 2, ('stealth', 'like', 'weapon', 'someth'): 2, ('said', 'ron', 'voic', 'harri'): 2, ('voic', 'harri', 'came', 'back'): 2, ('efficaci', 'inflam', 'brain', 'therefor'): 2, ('inflam', 'brain', 'therefor', 'much'): 2, ('brain', 'therefor', 'much', 'use'): 2, ('therefor', 'much', 'use', 'confus'): 2, ('much', 'use', 'confus', 'befuddl'): 2, ('use', 'confus', 'befuddl', 'draught'): 2, ('stretch', 'hi', 'hand', 'hi'): 2, ('drop', 'hi', 'voic', 'look'): 2, ('peopl', 'know', 'said', 'harri'): 2, ('sit', 'straighter', 'hi', 'chair'): 2, ('opposit', 'tapestri', 'barnaba', 'barmi'): 2, ('look', 'slightli', 'taken', 'aback'): 2, ('kept', 'look', 'around', 'nervous'): 2, ('hi', 'wand', 'solemnli', 'swear'): 2, ('said', 'harri', 'hi', 'mouth'): 3, ('hi', 'wand', 'held', 'loos'): 2, ('wand', 'held', 'loos', 'hi'): 2, ('hi', 'hair', 'stand', 'end'): 2, ('though', 'wa', 'hi', 'fault'): 2, ('come', 'better', 'get', 'go'): 2, ('common', 'room', 'harri', 'wa'): 2, ('time', 'date', 'next', 'meet'): 2, ('harri', 'look', 'sideway', 'hermion'): 2, ('well', 'ye', 'said', 'hermion'): 4, ('think', 'got', 'enough', 'get'): 2, ('said', 'hermion', 'stand', 'tipto'): 2, ('wa', 'clutch', 'hi', 'stomach'): 2, ('hi', 'jaw', 'set', 'hi'): 2, ('stand', 'weasley', 'save', 'thing'): 2, ('weasley', 'save', 'thing', 'block'): 3, ('save', 'thing', 'block', 'singl'): 3, ('thing', 'block', 'singl', 'ring'): 3, ('whi', 'slytherin', 'sing', 'weasley'): 2, ('slytherin', 'sing', 'weasley', 'king'): 3, ('weasley', 'wa', 'born', 'bin'): 4, ('wa', 'born', 'bin', 'alway'): 3, ('born', 'bin', 'alway', 'let'): 3, ('bin', 'alway', 'let', 'quaffl'): 3, ('alway', 'let', 'quaffl', 'weasley'): 3, ('let', 'quaffl', 'weasley', 'make'): 2, ('quaffl', 'weasley', 'make', 'sure'): 2, ('weasley', 'make', 'sure', 'win'): 3, ('make', 'sure', 'win', 'weasley'): 2, ('sure', 'win', 'weasley', 'king'): 2, ('weasley', 'king', 'weasley', 'king'): 4, ('let', 'quaffl', 'weasley', 'king'): 3, ('go', 'opposit', 'direct', 'harri'): 2, ('harri', 'could', 'hear', 'luna'): 2, ('snitch', 'keep', 'one', 'eye'): 2, ('hi', 'right', 'hand', 'hi'): 2, ('harri', 'finger', 'close', 'around'): 2, ('six', 'feet', 'abov', 'ground'): 2, ('land', 'flat', 'hi', 'back'): 2, ('harri', 'leapt', 'hi', 'feet'): 3, ('umbridg', 'wa', 'stand', 'doorway'): 2, ('professor', 'mcgonagal', 'close', 'eye'): 2, ('punish', 'sanction', 'remov', 'privileg'): 2, ('hi', 'voic', 'sound', 'strang'): 2, ('harri', 'hermion', 'stop', 'dead'): 2, ('said', 'harri', 'bitterli', 'well'): 2, ('headless', 'nick', 'wa', 'glide'): 2, ('nuthin', 'said', 'hagrid', 'firmli'): 2, ('said', 'ron', 'lean', 'closer'): 2, ('left', 'side', 'hi', 'face'): 2, ('go', 'tell', 'us', 'happen'): 2, ('slap', 'back', 'hi', 'face'): 2, ('said', 'hermion', 'hush', 'voic'): 4, ('said', 'ron', 'tell', 'us'): 2, ('said', 'hagrid', 'shake', 'hi'): 3, ('said', 'ron', 'look', 'awestruck'): 2, ('dumbledor', 'told', 'us', 'ter'): 2, ('well', 'anyway', 'said', 'hagrid'): 2, ('death', 'eater', 'said', 'ron'): 4, ('said', 'hagrid', 'corner', 'hi'): 2, ('hagrid', 'corner', 'hi', 'mouth'): 2, ('come', 'said', 'ron', 'look'): 2, ('said', 'ron', 'look', 'disappoint'): 2, ('hagrid', 'shrug', 'hi', 'massiv'): 2, ('shrug', 'hi', 'massiv', 'shoulder'): 2, ('wa', 'go', 'ask', 'said'): 2, ('glanc', 'toward', 'corner', 'harri'): 2, ('toward', 'corner', 'harri', 'ron'): 2, ('corner', 'harri', 'ron', 'hermion'): 2, ('ju', 'got', 'back', 'said'): 2, ('got', 'back', 'said', 'hagrid'): 2, ('close', 'door', 'behind', 'snap'): 2, ('yeah', 'said', 'harri', 'pull'): 2, ('harri', 'ron', 'hermion', 'head'): 2, ('harri', 'glanc', 'ron', 'hermion'): 2, ('oh', 'yeah', 'said', 'hagrid'): 3, ('said', 'hagrid', 'look', 'littl'): 2, ('hagrid', 'look', 'littl', 'anxiou'): 2, ('said', 'ron', 'well', 'like'): 2, ('grimmauld', 'place', 'could', 'help'): 2, ('last', 'meet', 'befor', 'holiday'): 2, ('felt', 'swoop', 'sensat', 'hi'): 2, ('swoop', 'sensat', 'hi', 'stomach'): 2, ('hi', 'mouth', 'wa', 'veri'): 2, ('mouth', 'wa', 'veri', 'dri'): 2, ('hermion', 'harri', 'answer', 'wa'): 2, ('hermion', 'look', 'well', 'said'): 2, ('said', 'harri', 'got', 'meet'): 2, ('anyway', 'ron', 'ask', 'hermion'): 2, ('look', 'around', 'harri', 'saw'): 2, ('turn', 'onto', 'hi', 'side'): 3, ('door', 'end', 'corridor', 'harri'): 2, ('hi', 'feet', 'harri', 'saw'): 2, ('onc', 'twice', 'three', 'time'): 2, ('harri', 'ron', 'wa', 'stand'): 2, ('ron', 'wa', 'stand', 'look'): 2, ('slightli', 'though', 'wa', 'still'): 2, ('glass', 'back', 'onto', 'hi'): 2, ('come', 'said', 'professor', 'mcgonagal'): 2, ('common', 'room', 'portrait', 'hole'): 2, ('room', 'portrait', 'hole', 'along'): 2, ('reach', 'stone', 'gargoyl', 'guard'): 2, ('leapt', 'asid', 'wall', 'behind'): 2, ('wa', 'asleep', 'said', 'harri'): 2, ('witch', 'long', 'silver', 'ringlet'): 2, ('said', 'dumbledor', 'veri', 'quietli'): 2, ('glanc', 'ron', 'wa', 'look'): 2, ('rais', 'hi', 'wand', 'murmur'): 2, ('wife', 'children', 'harri', 'potter'): 2, ('harri', 'felt', 'hi', 'hand'): 2, ('ron', 'wa', 'sit', 'hi'): 2, ('gave', 'veri', 'shaki', 'laugh'): 2, ('shake', 'hi', 'head', 'wa'): 2, ('witch', 'wizard', 'robe', 'walk'): 2, ('spell', 'damag', 'fourth', 'floor'): 3, ('move', 'forward', 'step', 'harri'): 2, ('though', 'harri', 'wa', 'quit'): 2, ('grass', 'middl', 'grimmauld', 'place'): 2, ('troll', 'leg', 'umbrella', 'stand'): 2, ('said', 'harri', 'hi', 'hand'): 4, ('hi', 'eye', 'shut', 'hi'): 2, ('toward', 'plain', 'black', 'door'): 3, ('ever', 'sinc', 'got', 'back'): 3, ('harri', 'remain', 'quit', 'still'): 2, ('harri', 'rack', 'hi', 'brain'): 2, ('good', 'haul', 'thi', 'year'): 2, ('practic', 'defens', 'magic', 'use'): 2, ('defens', 'magic', 'use', 'dark'): 2, ('magic', 'use', 'dark', 'art'): 2, ('drop', 'hi', 'voic', 'whisper'): 2, ('sound', 'though', 'bad', 'head'): 2, ('though', 'bad', 'head', 'cold'): 2, ('ye', 'said', 'hermion', 'sound'): 2, ('came', 'back', 'said', 'harri'): 2, ('molli', 'dear', 'said', 'weasley'): 2, ('said', 'harri', 'jump', 'hi'): 2, ('oh', 'good', 'said', 'hermion'): 2, ('two', 'bed', 'end', 'ward'): 2, ('dear', 'said', 'nevil', 'grandmoth'): 2, ('said', 'harri', 'shake', 'hand'): 2, ('clap', 'hand', 'mouth', 'ron'): 2, ('alreadi', 'stretch', 'hi', 'hand'): 2, ('said', 'hermion', 'look', 'tear'): 2, ('wa', 'long', 'silenc', 'broken'): 2, ('go', 'back', 'school', 'would'): 2, ('six', 'clock', 'monday', 'even'): 2, ('snape', 'pull', 'hi', 'wand'): 2, ('hi', 'wand', 'harri', 'yell'): 2, ('tri', 'push', 'harri', 'way'): 2, ('look', 'weasley', 'wa', 'tri'): 2, ('insid', 'pocket', 'hi', 'jacket'): 2, ('said', 'tonk', 'harri', 'thought'): 2, ('whi', 'wa', 'tell', 'thi'): 2, ('hi', 'desk', 'harri', 'sat'): 2, ('ye', 'sir', 'said', 'harri'): 5, ('whi', 'doe', 'professor', 'dumbledor'): 2, ('sir', 'said', 'harri', 'look'): 2, ('said', 'snape', 'hi', 'dark'): 2, ('harri', 'heart', 'wa', 'pump'): 2, ('vision', 'shortli', 'befor', 'christma'): 2, ('potter', 'said', 'snape', 'danger'): 2, ('say', 'dark', 'lord', 'name'): 2, ('say', 'hi', 'name', 'said'): 2, ('hi', 'chair', 'hi', 'eye'): 2, ('access', 'hi', 'thought', 'feel'): 2, ('hi', 'wand', 'insid', 'pocket'): 2, ('wand', 'insid', 'pocket', 'hi'): 2, ('rais', 'wand', 'hi', 'templ'): 2, ('hi', 'wand', 'held', 'readi'): 2, ('snape', 'lower', 'hi', 'wand'): 2, ('said', 'snape', 'hi', 'lip'): 2, ('snape', 'hi', 'lip', 'curl'): 3, ('said', 'snape', 'rais', 'hi'): 2, ('snape', 'rais', 'hi', 'wand'): 4, ('one', 'two', 'three', 'legilimen'): 2, ('dark', 'lord', 'said', 'snape'): 2, ('fine', 'said', 'harri', 'wa'): 2, ('everi', 'night', 'befor', 'sleep'): 2, ('harri', 'wa', 'bare', 'listen'): 2, ('hi', 'scar', 'still', 'prickl'): 3, ('long', 'pale', 'twist', 'face'): 2, ('ten', 'escap', 'death', 'eater'): 3, ('front', 'door', 'stone', 'step'): 2, ('professor', 'mcgonagal', 'flitwick', 'sprout'): 2, ('ten', 'death', 'eater', 'loos'): 2, ('would', 'given', 'great', 'deal'): 2, ('said', 'hermion', 'look', 'concern'): 2, ('hi', 'mind', 'said', 'ron'): 2, ('snape', 'realli', 'tri', 'help'): 2, ('harri', 'attempt', 'flatten', 'hi'): 2, ('attempt', 'flatten', 'hi', 'hair'): 2, ('hair', 'tie', 'back', 'long'): 2, ('said', 'harri', 'stare', 'moment'): 2, ('harri', 'rememb', 'first', 'time'): 2, ('harri', 'could', 'think', 'noth'): 2, ('could', 'think', 'noth', 'els'): 2, ('right', 'said', 'harri', 'look'): 2, ('roger', 'davi', 'hi', 'girlfriend'): 2, ('hi', 'girlfriend', 'start', 'kiss'): 2, ('silenc', 'fell', 'harri', 'wa'): 2, ('hi', 'eye', 'look', 'around'): 2, ('yeah', 'pose', 'said', 'harri'): 2, ('made', 'hi', 'way', 'toward'): 2, ('hermion', 'littl', 'miss', 'perfect'): 2, ('hermion', 'hush', 'voic', 'ye'): 2, ('hush', 'voic', 'ye', 'said'): 2, ('voic', 'ye', 'said', 'hermion'): 3, ('oh', 'get', 'grip', 'ad'): 2, ('import', 'stori', 'think', 'public'): 2, ('stori', 'think', 'public', 'need'): 2, ('think', 'public', 'need', 'know'): 2, ('caught', 'harri', 'eye', 'look'): 2, ('madam', 'puddifoot', 'tea', 'shop'): 3, ('wa', 'said', 'harri', 'ron'): 2, ('voic', 'oh', 'come', 'said'): 2, ('said', 'harri', 'feel', 'slightli'): 2, ('hermion', 'wa', 'quit', 'right'): 2, ('roll', 'onto', 'hi', 'side'): 5, ('flat', 'hi', 'back', 'hi'): 2, ('wa', 'one', 'death', 'eater'): 2, ('said', 'harri', 'quietli', 'ron'): 2, ('dark', 'eye', 'bore', 'harri'): 2, ('ye', 'said', 'harri', 'stiffli'): 2, ('well', 'potter', 'said', 'snape'): 2, ('potter', 'said', 'snape', 'coldli'): 4, ('count', 'three', 'said', 'snape'): 2, ('wa', 'flat', 'hi', 'back'): 2, ('professor', 'trelawney', 'wa', 'stand'): 2, ('someth', 'harri', 'could', 'see'): 4, ('said', 'professor', 'umbridg', 'harri'): 2, ('front', 'door', 'swung', 'open'): 2, ('face', 'open', 'front', 'door'): 2, ('wa', 'read', 'daili', 'prophet'): 2, ('inclin', 'hi', 'head', 'wa'): 2, ('voic', 'harri', 'knew', 'wa'): 2, ('harri', 'knew', 'wa', 'think'): 2, ('turn', 'hi', 'head', 'veri'): 2, ('nearli', 'four', 'year', 'ago'): 2, ('said', 'hagrid', 'though', 'hi'): 2, ('madam', 'pomfrey', 'burst', 'tear'): 2, ('hi', 'round', 'face', 'wa'): 2, ('harri', 'look', 'around', 'see'): 3, ('wa', 'moment', 'befor', 'realiz'): 2, ('harri', 'potter', 'sir', 'squeak'): 3, ('sit', 'behind', 'hi', 'desk'): 2, ('hi', 'heart', 'wa', 'still'): 2, ('said', 'fudg', 'hi', 'voic'): 2, ('wall', 'behind', 'dumbledor', 'desk'): 2, ('said', 'dumbledor', 'quietli', 'peer'): 2, ('said', 'dumbledor', 'rais', 'hi'): 4, ('dumbledor', 'rais', 'hi', 'eyebrow'): 4, ('meet', 'past', 'six', 'month'): 2, ('miss', 'edgecomb', 'marietta', 'nod'): 2, ('dumbledor', 'wa', 'hi', 'feet'): 2, ('hi', 'feet', 'hi', 'wand'): 2, ('said', 'dumbledor', 'still', 'smile'): 3, ('said', 'dumbledor', 'gentli', 'ye'): 2, ('said', 'professor', 'mcgonagal', 'loudli'): 2, ('fudg', 'pull', 'hi', 'wand'): 2, ('light', 'flash', 'around', 'room'): 2, ('would', 'look', 'veri', 'suspici'): 2, ('professor', 'dumbledor', 'harri', 'began'): 2, ('inquisitori', 'squad', 'said', 'hermion'): 2, ('pull', 'hi', 'wand', 'hermion'): 2, ('harri', 'thought', 'worst', 'wa'): 2, ('rais', 'cup', 'hi', 'lip'): 2, ('well', 'said', 'umbridg', 'look'): 2, ('stupefi', 'jet', 'red', 'light'): 3, ('jet', 'red', 'light', 'shot'): 2, ('red', 'light', 'shot', 'end'): 2, ('littl', 'way', 'along', 'corridor'): 2, ('said', 'professor', 'flitwick', 'hi'): 2, ('professor', 'flitwick', 'hi', 'squeaki'): 2, ('flitwick', 'hi', 'squeaki', 'littl'): 2, ('hi', 'squeaki', 'littl', 'voic'): 2, ('place', 'hi', 'hand', 'upon'): 2, ('late', 'potter', 'said', 'snape'): 2, ('said', 'snape', 'coldli', 'harri'): 2, ('wa', 'stand', 'hi', 'back'): 3, ('look', 'hi', 'shoulder', 'hi'): 2, ('breath', 'plung', 'hi', 'face'): 2, ('harri', 'harri', 'could', 'tell'): 2, ('harri', 'wa', 'sure', 'snape'): 2, ('left', 'great', 'hall', 'sit'): 2, ('toward', 'hi', 'fallen', 'wand'): 2, ('fact', 'exist', 'know', 'mean'): 2, ('though', 'thi', 'wa', 'throwaway'): 2, ('wa', 'anoth', 'flash', 'light'): 4, ('grip', 'harri', 'arm', 'tightli'): 3, ('wa', 'make', 'harri', 'feel'): 2, ('wa', 'look', 'harri', 'wa'): 2, ('yeah', 'said', 'harri', 'seiz'): 2, ('said', 'harri', 'yeah', 'well'): 3, ('voic', 'insid', 'harri', 'head'): 2, ('want', 'talk', 'said', 'harri'): 2, ('sure', 'nobodi', 'wa', 'listen'): 2, ('charm', 'defens', 'dark', 'art'): 3, ('though', 'could', 'believ', 'eye'): 2, ('veri', 'last', 'thing', 'want'): 3, ('think', 'said', 'harri', 'shrug'): 2, ('said', 'fred', 'georg', 'got'): 2, ('question', 'hermion', 'said', 'ron'): 2, ('seem', 'decid', 'act', 'though'): 2, ('look', 'around', 'professor', 'umbridg'): 2, ('around', 'professor', 'umbridg', 'wa'): 2, ('year', 'said', 'professor', 'mcgonagal'): 2, ('said', 'professor', 'mcgonagal', 'ani'): 2, ('said', 'harri', 'wa', 'find'): 2, ('wonder', 'whether', 'could', 'make'): 2, ('defens', 'dark', 'art', 'mark'): 2, ('ha', 'achiev', 'high', 'mark'): 2, ('defens', 'dark', 'art', 'test'): 2, ('mcgonagal', 'turn', 'back', 'harri'): 2, ('harri', 'said', 'low', 'voic'): 2, ('suit', 'armor', 'whose', 'helmet'): 2, ('armor', 'whose', 'helmet', 'creak'): 2, ('harri', 'pull', 'hi', 'cloak'): 3, ('open', 'hi', 'eye', 'find'): 2, ('need', 'help', 'said', 'harri'): 2, ('got', 'bit', 'carri', 'away'): 3, ('wa', 'someth', 'said', 'harri'): 2, ('hall', 'ran', 'marbl', 'staircas'): 3, ('harri', 'could', 'tell', 'would'): 2, ('hole', 'umbridg', 'offic', 'door'): 2, ('hagrid', 'said', 'hermion', 'look'): 2, ('make', 'differ', 'ask', 'hermion'): 2, ('said', 'hermion', 'sound', 'shock'): 2, ('hagrid', 'shake', 'hi', 'head'): 3, ('tree', 'grew', 'close', 'togeth'): 2, ('said', 'harri', 'onc', 'want'): 2, ('sure', 'enough', 'harri', 'could'): 2, ('hi', 'back', 'hi', 'hand'): 2, ('harri', 'saw', 'look', 'much'): 2, ('yeh', 'know', 'said', 'hagrid'): 2, ('oh', 'come', 'harri', 'said'): 2, ('said', 'harri', 'quietli', 'well'): 2, ('king', 'weasley', 'king', 'let'): 2, ('weasley', 'king', 'let', 'quaffl'): 2, ('king', 'let', 'quaffl', 'weasley'): 2, ('harri', 'wa', 'sure', 'whether'): 3, ('common', 'room', 'ron', 'wa'): 2, ('shade', 'beech', 'tree', 'sat'): 2, ('glanc', 'around', 'see', 'whether'): 2, ('ron', 'gave', 'nervou', 'laugh'): 2, ('meant', 'onli', 'one', 'thing'): 2, ('wa', 'spend', 'lot', 'time'): 2, ('think', 'make', 'ani', 'differ'): 2, ('hi', 'lip', 'move', 'soundlessli'): 2, ('said', 'ron', 'harri', 'hermion'): 2, ('lay', 'awak', 'felt', 'like'): 2, ('awak', 'felt', 'like', 'hour'): 2, ('first', 'time', 'harri', 'felt'): 2, ('ah', 'well', 'said', 'ron'): 2, ('harri', 'wa', 'look', 'forward'): 2, ('hi', 'ambit', 'becom', 'auror'): 2, ('happier', 'harri', 'ever', 'seen'): 2, ('said', 'harri', 'still', 'least'): 2, ('hi', 'eye', 'hi', 'telescop'): 2, ('hung', 'around', 'hi', 'neck'): 2, ('wa', 'nearli', 'four', 'morn'): 2, ('back', 'hi', 'head', 'wa'): 2, ('close', 'hi', 'eye', 'buri'): 2, ('hi', 'eye', 'buri', 'hi'): 2, ('eye', 'buri', 'hi', 'face'): 2, ('close', 'hi', 'eye', 'tri'): 2, ('heart', 'wa', 'beat', 'veri'): 2, ('wa', 'beat', 'veri', 'fast'): 2, ('harri', 'saw', 'white', 'hand'): 2, ('lift', 'hi', 'head', 'hi'): 2, ('hi', 'head', 'hi', 'face'): 2, ('head', 'hi', 'face', 'wa'): 2, ('nice', 'ye', 'said', 'harri'): 2, ('great', 'hall', 'ran', 'marbl'): 2, ('ron', 'hermion', 'said', 'voic'): 2, ('said', 'hermion', 'onc', 'look'): 2, ('found', 'hi', 'voic', 'wa'): 2, ('face', 'everyon', 'thought', 'wa'): 2, ('everyon', 'thought', 'wa', 'wonder'): 2, ('whi', 'think', 'dumbledor', 'want'): 2, ('said', 'luna', 'seren', 'harri'): 2, ('last', 'thing', 'want', 'wa'): 3, ('tug', 'invis', 'cloak', 'hi'): 2, ('walk', 'slowli', 'toward', 'door'): 2, ('knew', 'perfectli', 'well', 'wa'): 2, ('ron', 'lip', 'wa', 'bleed'): 2, ('proceed', 'harri', 'look', 'back'): 2, ('harri', 'could', 'tell', 'whether'): 2, ('face', 'harri', 'never', 'seen'): 2, ('look', 'sideway', 'hermion', 'wa'): 2, ('gray', 'centaur', 'hold', 'hermion'): 2, ('back', 'hi', 'head', 'hi'): 3, ('harri', 'tighten', 'hi', 'grip'): 2, ('time', 'harri', 'feet', 'left'): 2, ('open', 'hi', 'mouth', 'even'): 2, ('grip', 'hi', 'arm', 'tightli'): 2, ('hi', 'scar', 'gave', 'anoth'): 4, ('said', 'harri', 'hi', 'scar'): 2, ('scar', 'gave', 'anoth', 'pain'): 2, ('said', 'hermion', 'wa', 'still'): 2, ('go', 'said', 'harri', 'angrili'): 2, ('arm', 'wrap', 'tightli', 'around'): 2, ('harri', 'took', 'one', 'glanc'): 2, ('took', 'one', 'glanc', 'back'): 2, ('golden', 'grill', 'slid', 'apart'): 2, ('harri', 'said', 'hermion', 'move'): 2, ('door', 'remain', 'firmli', 'shut'): 2, ('thi', 'harri', 'said', 'hi'): 2, ('said', 'hi', 'heart', 'wa'): 2, ('hi', 'heart', 'hammer', 'hi'): 2, ('drawl', 'voic', 'luciu', 'malfoy'): 2, ('sever', 'death', 'eater', 'laugh'): 2, ('chest', 'rise', 'fall', 'rapidli'): 2, ('hi', 'mind', 'wa', 'blank'): 2, ('said', 'harri', 'hi', 'eye'): 4, ('dare', 'speak', 'hi', 'name'): 2, ('tri', 'kill', 'babi', 'harri'): 2, ('shout', 'stupefi', 'jet', 'red'): 2, ('jet', 'red', 'light', 'hit'): 2, ('jet', 'red', 'light', 'flew'): 3, ('rais', 'hi', 'wand', 'hi'): 5, ('light', 'burst', 'front', 'hi'): 2, ('burst', 'front', 'hi', 'eye'): 2, ('front', 'hi', 'eye', 'moment'): 2, ('hi', 'eye', 'moment', 'wa'): 2, ('made', 'slash', 'movement', 'hi'): 2, ('slash', 'movement', 'hi', 'wand'): 2, ('harri', 'fell', 'hi', 'knee'): 2, ('hi', 'wand', 'held', 'front'): 3, ('harri', 'seiz', 'hi', 'chanc'): 2, ('alreadi', 'point', 'hi', 'wand'): 2, ('wrap', 'tightli', 'around', 'ron'): 2, ('said', 'luciu', 'malfoy', 'hi'): 2, ('wa', 'scrambl', 'stone', 'bench'): 2, ('hi', 'eye', 'swollen', 'bloodshot'): 2, ('anoth', 'jet', 'green', 'light'): 4, ('jet', 'green', 'light', 'flew'): 3, ('befor', 'could', 'draw', 'breath'): 2, ('come', 'back', 'harri', 'said'): 2, ('back', 'harri', 'said', 'lupin'): 2, ('said', 'lupin', 'hi', 'voic'): 2, ('point', 'hi', 'wand', 'nevil'): 2, ('tri', 'get', 'clear', 'shot'): 2, ('sent', 'anoth', 'jet', 'green'): 2, ('voic', 'harri', 'open', 'hi'): 3, ('voldemort', 'wave', 'hi', 'wand'): 2, ('dumbledor', 'flick', 'hi', 'wand'): 2, ('wa', 'sure', 'voldemort', 'decid'): 2, ('wa', 'gone', 'harri', 'wa'): 2, ('hi', 'eye', 'saw', 'hi'): 3, ('ye', 'said', 'harri', 'shake'): 2, ('atrium', 'wa', 'full', 'peopl'): 2, ('flame', 'burst', 'life', 'fireplac'): 2, ('look', 'around', 'though', 'hope'): 2, ('around', 'though', 'hope', 'somebodi'): 2, ('harri', 'wa', 'still', 'stand'): 2, ('dolor', 'umbridg', 'said', 'dumbledor'): 2, ('mouth', 'wa', 'open', 'hi'): 2, ('delic', 'silver', 'instrument', 'stood'): 2, ('die', 'wa', 'hi', 'fault'): 2, ('well', 'harri', 'said', 'dumbledor'): 3, ('harri', 'turn', 'hi', 'back'): 2, ('turn', 'hi', 'back', 'dumbledor'): 2, ('harri', 'oh', 'ye', 'said'): 2, ('wa', 'shake', 'head', 'foot'): 2, ('year', 'ago', 'said', 'dumbledor'): 2, ('dolor', 'umbridg', 'professor', 'snape'): 2, ('harri', 'hi', 'hand', 'curl'): 2, ('twelv', 'grimmauld', 'place', 'headquart'): 2, ('ever', 'saw', 'kreacher', 'feel'): 2, ('saw', 'kreacher', 'feel', 'acut'): 2, ('kreacher', 'feel', 'acut', 'human'): 2, ('talk', 'siriu', 'like', 'harri'): 2, ('dumbledor', 'close', 'hi', 'eye'): 3, ('want', 'rage', 'storm', 'dumbledor'): 2, ('look', 'back', 'harri', 'said'): 2, ('inclin', 'hi', 'head', 'slightli'): 2, ('hi', 'heart', 'wa', 'race'): 2, ('harri', 'wait', 'dumbledor', 'speak'): 2, ('bar', 'hog', 'head', 'inn'): 2, ('harri', 'seen', 'hi', 'father'): 2, ('hi', 'wand', 'hi', 'templ'): 2, ('wand', 'hi', 'templ', 'withdrew'): 2, ('one', 'power', 'vanquish', 'dark'): 2, ('power', 'vanquish', 'dark', 'lord'): 2, ('vanquish', 'dark', 'lord', 'born'): 2, ('born', 'seventh', 'month', 'die'): 2, ('power', 'dark', 'lord', 'know'): 3, ('wa', 'born', 'end', 'juli'): 2, ('boy', 'born', 'end', 'juli'): 2, ('ha', 'return', 'thi', 'countri'): 2, ('albu', 'dumbledor', 'newli', 'reinstat'): 2, ('seem', 'struggl', 'moment', 'said'): 2, ('fred', 'georg', 'said', 'ron'): 2, ('harri', 'heart', 'began', 'race'): 2, ('patch', 'bright', 'blue', 'sky'): 2, ('slytherin', 'common', 'room', 'harri'): 2, ('voic', 'bare', 'louder', 'whisper'): 2, ('hi', 'wand', 'harri', 'wa'): 2, ('harri', 'felt', 'great', 'rush'): 2, ('harri', 'need', 'tell', 'twice'): 2, ('thrust', 'hi', 'wand', 'back'): 2, ('close', 'hi', 'eye', 'moment'): 4, ('day', 'befor', 'end', 'term'): 2, ('look', 'around', 'make', 'sure'): 2, ('wa', 'go', 'see', 'siriu'): 2, ('corridor', 'harri', 'look', 'around'): 2, ('ron', 'ask', 'hermion', 'wa'): 2, ('crane', 'around', 'hi', 'seat'): 2, ('fred', 'georg', 'wear', 'jacket'): 2, ('ah', 'harri', 'said', 'weasley'): 2, ('uncl', 'vernon', 'come', 'halt'): 2, ('right', 'reserv', 'publish', 'arthur'): 2, ('reserv', 'publish', 'arthur', 'levin'): 2, ('publish', 'arthur', 'levin', 'book'): 2, ('book', 'imprint', 'scholast', 'publish'): 2, ('imprint', 'scholast', 'publish', 'sinc'): 2, ('publish', 'sinc', 'scholast', 'lantern'): 2, ('sinc', 'scholast', 'lantern', 'logo'): 2, ('scholast', 'lantern', 'logo', 'associ'): 2, ('lantern', 'logo', 'associ', 'logo'): 2, ('logo', 'associ', 'logo', 'trademark'): 2, ('associ', 'logo', 'trademark', 'regist'): 2, ('ny', 'librari', 'congress', 'control'): 2, ('spend', 'lot', 'time', 'hi'): 2, ('thi', 'wa', 'perfectli', 'true'): 2, ('said', 'prime', 'minist', 'weakli'): 2, ('portrait', 'ugli', 'littl', 'man'): 2, ('saw', 'corner', 'hi', 'eye'): 2, ('befor', 'prime', 'minist', 'could'): 2, ('fasten', 'hi', 'cloak', 'hi'): 2, ('wa', 'death', 'eater', 'said'): 2, ('ye', 'said', 'prime', 'minist'): 2, ('said', 'rais', 'hi', 'glass'): 2, ('think', 'onli', 'one', 'help'): 2, ('set', 'hi', 'glass', 'upon'): 2, ('upon', 'arm', 'hi', 'chair'): 2, ('harri', 'potter', 'still', 'aliv'): 2, ('said', 'snape', 'bore', 'voic'): 2, ('join', 'forc', 'death', 'eater'): 2, ('snape', 'seiz', 'front', 'hi'): 2, ('seiz', 'front', 'hi', 'robe'): 2, ('hi', 'black', 'eye', 'fix'): 2, ('move', 'littl', 'closer', 'said'): 2, ('tongu', 'flame', 'shot', 'wand'): 2, ('glass', 'askew', 'hi', 'mouth'): 2, ('open', 'hi', 'bedroom', 'door'): 2, ('ah', 'good', 'even', 'harri'): 2, ('sorri', 'said', 'dumbledor', 'polit'): 2, ('could', 'think', 'noth', 'say'): 2, ('said', 'pull', 'hi', 'wand'): 2, ('dumbledor', 'wave', 'hi', 'wand'): 3, ('veri', 'good', 'said', 'dumbledor'): 3, ('said', 'harri', 'rub', 'hi'): 2, ('tightli', 'around', 'hi', 'neck'): 2, ('hi', 'injur', 'hand', 'professor'): 2, ('seen', 'long', 'time', 'howev'): 2, ('dumbledor', 'rais', 'hi', 'wand'): 4, ('rais', 'hi', 'wand', 'even'): 2, ('think', 'said', 'dumbledor', 'quietli'): 2, ('hi', 'gaze', 'fell', 'upon'): 2, ('room', 'hi', 'eye', 'fell'): 2, ('harri', 'look', 'around', 'room'): 3, ('look', 'around', 'room', 'wa'): 2, ('quit', 'right', 'said', 'dumbledor'): 2, ('shake', 'back', 'hi', 'sleev'): 3, ('said', 'dumbledor', 'sound', 'rather'): 2, ('dumbledor', 'sound', 'rather', 'tire'): 2, ('onc', 'door', 'close', 'behind'): 2, ('answer', 'harri', 'question', 'look'): 2, ('cours', 'captain', 'holyhead', 'harpi'): 2, ('harri', 'could', 'help', 'wonder'): 3, ('harri', 'said', 'dumbledor', 'pass'): 2, ('harri', 'hi', 'heart', 'beat'): 3, ('ronald', 'weasley', 'miss', 'hermion'): 2, ('harri', 'top', 'hi', 'spectacl'): 2, ('need', 'get', 'go', 'said'): 3, ('yeah', 'said', 'harri', 'suddenli'): 2, ('counterfeit', 'defens', 'spell', 'protect'): 2, ('defens', 'spell', 'protect', 'object'): 2, ('harri', 'could', 'tell', 'weasley'): 2, ('bedroom', 'door', 'flew', 'open'): 2, ('well', 'said', 'harri', 'said'): 2, ('said', 'harri', 'said', 'fred'): 2, ('hi', 'voic', 'tail', 'away'): 4, ('away', 'harri', 'saw', 'hermion'): 2, ('hi', 'heart', 'beat', 'rather'): 2, ('heart', 'beat', 'rather', 'fast'): 2, ('neither', 'ron', 'hermion', 'spoke'): 2, ('ron', 'hermion', 'spoke', 'harri'): 2, ('said', 'harri', 'took', 'deep'): 2, ('well', 'never', 'mind', 'said'): 3, ('one', 'us', 'said', 'hermion'): 2, ('harri', 'hermion', 'ginni', 'sit'): 2, ('right', 'harri', 'ron', 'hermion'): 2, ('realli', 'said', 'harri', 'take'): 2, ('right', 'draco', 'said', 'narcissa'): 2, ('hi', 'side', 'said', 'harri'): 2, ('harri', 'saw', 'wa', 'wear'): 2, ('three', 'galleon', 'nine', 'sickl'): 2, ('harri', 'pull', 'hi', 'invis'): 3, ('pull', 'hi', 'invis', 'cloak'): 8, ('forget', 'keep', 'one', 'safe'): 2, ('would', 'look', 'carri', 'street'): 2, ('hi', 'hand', 'glori', 'said'): 2, ('hand', 'glori', 'said', 'ron'): 2, ('harri', 'neither', 'ron', 'hermion'): 2, ('hi', 'father', 'death', 'eater'): 2, ('replac', 'hi', 'father', 'death'): 2, ('would', 'let', 'malfoy', 'join'): 2, ('cours', 'said', 'weasley', 'look'): 2, ('borgin', 'burk', 'said', 'harri'): 2, ('said', 'meet', 'dean', 'said'): 2, ('meet', 'dean', 'said', 'ginni'): 2, ('right', 'said', 'harri', 'felt'): 2, ('veri', 'nice', 'thing', 'say'): 2, ('import', 'thing', 'hi', 'mind'): 2, ('thought', 'wa', 'realli', 'good'): 2, ('filthi', 'littl', 'blood', 'traitor'): 2, ('sixteen', 'year', 'old', 'even'): 2, ('hi', 'eye', 'linger', 'moment'): 2, ('took', 'place', 'great', 'hall'): 2, ('harri', 'roll', 'onto', 'hi'): 2, ('onto', 'hi', 'side', 'wa'): 2, ('wa', 'flash', 'red', 'light'): 3, ('flash', 'red', 'light', 'harri'): 2, ('better', 'put', 'cloak', 'back'): 2, ('harri', 'swung', 'cloak', 'back'): 2, ('point', 'hi', 'wand', 'noth'): 2, ('hagrid', 'wa', 'late', 'feast'): 2, ('dumbledor', 'said', 'harri', 'time'): 2, ('slip', 'hi', 'invis', 'cloak'): 2, ('ron', 'yeah', 'said', 'ron'): 3, ('hermion', 'wa', 'onli', 'one'): 2, ('wa', 'onli', 'one', 'notic'): 2, ('posit', 'defens', 'dark', 'art'): 2, ('yeah', 'well', 'never', 'mind'): 2, ('ron', 'quickli', 'befor', 'hermion'): 2, ('quickli', 'befor', 'hermion', 'could'): 3, ('common', 'room', 'wa', 'empti'): 2, ('hi', 'black', 'eye', 'rove'): 2, ('hi', 'shield', 'charm', 'wa'): 2, ('whole', 'class', 'look', 'around'): 2, ('harri', 'ron', 'hermion', 'share'): 2, ('harri', 'wa', 'sit', 'next'): 2, ('sir', 'said', 'harri', 'well'): 2, ('anoth', 'ten', 'point', 'gryffindor'): 2, ('felix', 'felici', 'said', 'slughorn'): 2, ('pull', 'hi', 'copi', 'advanc'): 4, ('hi', 'copi', 'advanc', 'hi'): 3, ('copi', 'advanc', 'hi', 'bag'): 5, ('neither', 'ron', 'hermion', 'wa'): 2, ('lord', 'voldemort', 'tri', 'kill'): 2, ('think', 'right', 'said', 'harri'): 2, ('sir', 'said', 'harri', 'tent'): 2, ('hi', 'feet', 'walk', 'around'): 2, ('felt', 'hi', 'feet', 'leav'): 2, ('hi', 'feet', 'leav', 'offic'): 2, ('feet', 'leav', 'offic', 'floor'): 2, ('ye', 'cours', 'said', 'harri'): 2, ('morfin', 'ha', 'broken', 'wizard'): 2, ('glanc', 'hi', 'scroll', 'parchment'): 2, ('hi', 'scroll', 'parchment', 'morfin'): 2, ('harri', 'felt', 'sure', 'wa'): 3, ('said', 'harri', 'onc', 'dumbledor'): 2, ('said', 'dumbledor', 'reseat', 'behind'): 2, ('dumbledor', 'reseat', 'behind', 'hi'): 2, ('reseat', 'behind', 'hi', 'desk'): 2, ('ye', 'inde', 'said', 'dumbledor'): 2, ('defens', 'dark', 'art', 'charm'): 2, ('dark', 'art', 'charm', 'transfigur'): 2, ('owl', 'land', 'front', 'carri'): 2, ('patil', 'twin', 'parent', 'want'): 2, ('harri', 'knew', 'think', 'thing'): 2, ('hi', 'wand', 'harri', 'said'): 2, ('wand', 'harri', 'said', 'hermion'): 2, ('said', 'harri', 'slughorn', 'wa'): 2, ('dean', 'seamu', 'roar', 'laughter'): 2, ('pick', 'floor', 'fallen', 'bed'): 2, ('see', 'get', 'said', 'harri'): 2, ('harri', 'wonder', 'whether', 'might'): 2, ('wonder', 'whether', 'might', 'better'): 2, ('harri', 'ron', 'hermion', 'drew'): 2, ('wa', 'slowli', 'turn', 'purpl'): 2, ('harri', 'ron', 'hermion', 'leann'): 2, ('face', 'harri', 'ron', 'hermion'): 2, ('harri', 'ron', 'hermion', 'still'): 3, ('slughorn', 'dumbledor', 'reckon', 'voldemort'): 2, ('stop', 'think', 'said', 'ron'): 2, ('phinea', 'nigellu', 'black', 'siriu'): 2, ('hi', 'head', 'hi', 'arm'): 4, ('veri', 'much', 'said', 'dumbledor'): 2, ('said', 'dumbledor', 'riddl', 'took'): 2, ('put', 'hi', 'wand', 'back'): 2, ('dumbledor', 'land', 'besid', 'harri'): 2, ('lord', 'voldemort', 'ha', 'never'): 2, ('think', 'could', 'stand', 'anoth'): 2, ('wha', 'yeah', 'cours', 'said'): 2, ('c', 'mon', 'said', 'harri'): 3, ('honest', 'answer', 'wa', 'ye'): 2, ('punch', 'hi', 'pillow', 'comfort'): 2, ('hi', 'pillow', 'comfort', 'shape'): 2, ('hi', 'scarlet', 'robe', 'hi'): 2, ('harri', 'turn', 'back', 'face'): 2, ('insid', 'hi', 'jacket', 'pocket'): 2, ('go', 'slughorn', 'christma', 'parti'): 2, ('wa', 'wonder', 'whether', 'wa'): 2, ('wonder', 'whether', 'wa', 'ani'): 2, ('toward', 'door', 'harri', 'glanc'): 2, ('harri', 'said', 'noth', 'thought'): 2, ('entranc', 'hall', 'eight', 'clock'): 2, ('shall', 'get', 'go', 'oh'): 2, ('oh', 'ye', 'said', 'happili'): 2, ('slughorn', 'offic', 'said', 'harri'): 2, ('dark', 'shadow', 'hi', 'eye'): 2, ('turn', 'hi', 'attent', 'back'): 2, ('ask', 'harri', 'hermion', 'look'): 2, ('let', 'go', 'thi', 'way'): 2, ('away', 'mutter', 'hi', 'breath'): 2, ('thi', 'wa', 'first', 'time'): 3, ('wa', 'first', 'time', 'seen'): 2, ('harri', 'press', 'hi', 'ear'): 2, ('wa', 'anoth', 'paus', 'snape'): 2, ('anoth', 'paus', 'snape', 'said'): 2, ('hardli', 'dare', 'breath', 'harri'): 3, ('snape', 'wa', 'offer', 'help'): 2, ('wa', 'pretend', 'offer', 'help'): 2, ('pretend', 'offer', 'help', 'could'): 3, ('offer', 'help', 'could', 'trick'): 2, ('fred', 'georg', 'harri', 'ron'): 2, ('cauldron', 'full', 'hot', 'strong'): 3, ('full', 'hot', 'strong', 'love'): 2, ('hi', 'old', 'potion', 'book'): 2, ('said', 'harri', 'well', 'yeah'): 2, ('well', 'yeah', 'said', 'ron'): 3, ('said', 'weasley', 'look', 'around'): 2, ('care', 'whether', 'live', 'die'): 2, ('rais', 'hi', 'right', 'fist'): 2, ('fred', 'georg', 'bill', 'fleur'): 2, ('yeah', 'said', 'ron', 'onc'): 2, ('time', 'said', 'ron', 'look'): 2, ('spoke', 'hi', 'voic', 'wa'): 3, ('snide', 'voic', 'phinea', 'nigellu'): 2, ('harri', 'could', 'help', 'feel'): 3, ('said', 'dumbledor', 'smile', 'slightli'): 2, ('harri', 'fell', 'silent', 'onc'): 2, ('hi', 'feet', 'rest', 'upon'): 2, ('feet', 'rest', 'upon', 'velvet'): 2, ('rest', 'upon', 'velvet', 'pouff'): 2, ('boy', 'sit', 'around', 'slughorn'): 2, ('sir', 'true', 'professor', 'merrythought'): 2, ('true', 'professor', 'merrythought', 'retir'): 2, ('tom', 'tom', 'knew', 'tell'): 2, ('tom', 'knew', 'tell', 'said'): 2, ('knew', 'tell', 'said', 'slughorn'): 2, ('must', 'say', 'like', 'know'): 2, ('say', 'like', 'know', 'get'): 2, ('like', 'know', 'get', 'inform'): 2, ('know', 'get', 'inform', 'boy'): 2, ('get', 'inform', 'boy', 'knowledg'): 2, ('inform', 'boy', 'knowledg', 'half'): 2, ('boy', 'knowledg', 'half', 'staff'): 2, ('knowledg', 'half', 'staff', 'riddl'): 2, ('half', 'staff', 'riddl', 'smile'): 2, ('staff', 'riddl', 'smile', 'boy'): 2, ('riddl', 'smile', 'boy', 'laugh'): 2, ('smile', 'boy', 'laugh', 'cast'): 2, ('boy', 'laugh', 'cast', 'admir'): 2, ('laugh', 'cast', 'admir', 'look'): 2, ('cast', 'admir', 'look', 'uncanni'): 2, ('admir', 'look', 'uncanni', 'abil'): 2, ('look', 'uncanni', 'abil', 'know'): 2, ('uncanni', 'abil', 'know', 'thing'): 2, ('abil', 'know', 'thing', 'care'): 2, ('know', 'thing', 'care', 'flatteri'): 2, ('thing', 'care', 'flatteri', 'peopl'): 2, ('care', 'flatteri', 'peopl', 'matter'): 2, ('flatteri', 'peopl', 'matter', 'thank'): 2, ('peopl', 'matter', 'thank', 'pineappl'): 2, ('matter', 'thank', 'pineappl', 'way'): 2, ('thank', 'pineappl', 'way', 'quit'): 2, ('pineappl', 'way', 'quit', 'right'): 2, ('way', 'quit', 'right', 'favorit'): 2, ('quit', 'right', 'favorit', 'sever'): 2, ('right', 'favorit', 'sever', 'boy'): 2, ('favorit', 'sever', 'boy', 'titter'): 2, ('small', 'golden', 'clock', 'stand'): 2, ('golden', 'clock', 'stand', 'upon'): 2, ('clock', 'stand', 'upon', 'slughorn'): 2, ('stand', 'upon', 'slughorn', 'desk'): 2, ('upon', 'slughorn', 'desk', 'chime'): 2, ('slughorn', 'desk', 'chime', 'eleven'): 2, ('desk', 'chime', 'eleven', 'clock'): 2, ('good', 'graciou', 'time', 'alreadi'): 2, ('better', 'get', 'go', 'boy'): 2, ('get', 'go', 'boy', 'troubl'): 2, ('go', 'boy', 'troubl', 'lestrang'): 2, ('boy', 'troubl', 'lestrang', 'want'): 2, ('troubl', 'lestrang', 'want', 'essay'): 2, ('hi', 'armchair', 'carri', 'hi'): 2, ('armchair', 'carri', 'hi', 'empti'): 2, ('carri', 'hi', 'empti', 'glass'): 2, ('hi', 'empti', 'glass', 'hi'): 2, ('empti', 'glass', 'hi', 'desk'): 2, ('want', 'caught', 'bed', 'hour'): 2, ('caught', 'bed', 'hour', 'prefect'): 2, ('bed', 'hour', 'prefect', 'sir'): 2, ('hour', 'prefect', 'sir', 'want'): 2, ('prefect', 'sir', 'want', 'ask'): 2, ('sir', 'want', 'ask', 'ask'): 2, ('want', 'ask', 'ask', 'away'): 3, ('ask', 'ask', 'away', 'boy'): 2, ('ask', 'away', 'boy', 'ask'): 2, ('away', 'boy', 'ask', 'away'): 2, ('boy', 'ask', 'away', 'sir'): 3, ('ask', 'away', 'sir', 'wonder'): 3, ('away', 'sir', 'wonder', 'know'): 3, ('sir', 'wonder', 'know', 'horcrux'): 3, ('room', 'harri', 'could', 'see'): 2, ('harri', 'held', 'hi', 'hand'): 2, ('wonder', 'know', 'horcrux', 'slughorn'): 2, ('ye', 'cours', 'said', 'slughorn'): 2, ('lull', 'fals', 'sens', 'secur'): 2, ('could', 'help', 'wonder', 'whether'): 2, ('stand', 'five', 'feet', 'away'): 2, ('harri', 'glanc', 'hi', 'shoulder'): 2, ('flung', 'open', 'hi', 'trunk'): 2, ('open', 'hi', 'trunk', 'began'): 2, ('murmur', 'solemnli', 'swear', 'good'): 2, ('thank', 'said', 'harri', 'look'): 2, ('hi', 'face', 'wa', 'contort'): 2, ('face', 'wa', 'contort', 'rage'): 2, ('whi', 'would', 'slughorn', 'want'): 2, ('glanc', 'hi', 'shoulder', 'harri'): 2, ('still', 'check', 'maraud', 'map'): 2, ('check', 'maraud', 'map', 'whenev'): 2, ('said', 'harri', 'seiz', 'hi'): 2, ('said', 'ron', 'silenc', 'fell'): 2, ('said', 'harri', 'glanc', 'toward'): 2, ('said', 'harri', 'littl', 'impati'): 2, ('veri', 'well', 'said', 'professor'): 2, ('well', 'said', 'professor', 'trelawney'): 2, ('harri', 'said', 'dumbledor', 'sound'): 2, ('long', 'time', 'said', 'dumbledor'): 2, ('said', 'hi', 'voic', 'wa'): 2, ('harri', 'could', 'tell', 'voldemort'): 2, ('know', 'seen', 'done', 'much'): 2, ('seen', 'done', 'much', 'sinc'): 2, ('death', 'eater', 'harri', 'could'): 2, ('said', 'kreacher', 'bow', 'low'): 2, ('potter', 'sir', 'squeak', 'dobbi'): 2, ('yeah', 'weird', 'said', 'harri'): 2, ('voic', 'tail', 'away', 'wa'): 2, ('yeah', 'fit', 'said', 'harri'): 2, ('around', 'outsid', 'room', 'requir'): 2, ('yeah', 'cours', 'said', 'harri'): 2, ('need', 'see', 'malfoy', 'need'): 2, ('see', 'malfoy', 'need', 'see'): 2, ('malfoy', 'need', 'see', 'malfoy'): 2, ('need', 'see', 'place', 'malfoy'): 2, ('see', 'place', 'malfoy', 'keep'): 2, ('place', 'malfoy', 'keep', 'come'): 2, ('malfoy', 'keep', 'come', 'secretli'): 2, ('gave', 'harri', 'reproach', 'look'): 2, ('feet', 'away', 'wa', 'still'): 2, ('ron', 'hermion', 'togeth', 'look'): 3, ('look', 'thi', 'said', 'harri'): 2, ('like', 'thi', 'said', 'hermion'): 2, ('ye', 'said', 'hermion', 'look'): 2, ('glanc', 'hi', 'shoulder', 'saw'): 2, ('go', 'hagrid', 'got', 'good'): 2, ('hagrid', 'got', 'good', 'feel'): 2, ('ron', 'hermion', 'look', 'even'): 2, ('agre', 'said', 'professor', 'sprout'): 2, ('said', 'slughorn', 'hi', 'eye'): 2, ('hi', 'side', 'harri', 'come'): 2, ('hand', 'insid', 'hi', 'cloak'): 2, ('harri', 'thank', 'veri', 'much'): 3, ('hi', 'invis', 'cloak', 'wa'): 3, ('nearli', 'two', 'year', 'befor'): 2, ('sir', 'cours', 'said', 'riddl'): 2, ('cours', 'said', 'riddl', 'quickli'): 2, ('better', 'make', 'stronger', 'soul'): 2, ('make', 'stronger', 'soul', 'piec'): 2, ('seven', 'power', 'magic', 'number'): 3, ('power', 'magic', 'number', 'seven'): 2, ('dumbledor', 'rais', 'hi', 'blacken'): 2, ('ye', 'said', 'dumbledor', 'smile'): 2, ('sir', 'said', 'harri', 'tri'): 2, ('felt', 'hi', 'heart', 'lift'): 2, ('said', 'dumbledor', 'harri', 'never'): 2, ('never', 'heard', 'propheci', 'would'): 2, ('hi', 'mother', 'hi', 'father'): 2, ('lavend', 'brown', 'harri', 'notic'): 2, ('said', 'hermion', 'though', 'look'): 2, ('hi', 'best', 'friend', 'hi'): 2, ('malfoy', 'wa', 'stand', 'hi'): 2, ('help', 'said', 'malfoy', 'hi'): 2, ('hi', 'whole', 'bodi', 'wa'): 2, ('door', 'bang', 'open', 'behind'): 2, ('need', 'place', 'hide', 'book'): 3, ('place', 'hide', 'book', 'need'): 2, ('hide', 'book', 'need', 'place'): 2, ('book', 'need', 'place', 'hide'): 2, ('citi', 'tower', 'wall', 'built'): 2, ('detent', 'everi', 'saturday', 'end'): 2, ('everi', 'saturday', 'end', 'term'): 2, ('tri', 'use', 'unforgiv', 'curs'): 2, ('right', 'professor', 'said', 'harri'): 2, ('hi', 'ear', 'hear', 'sound'): 2, ('said', 'professor', 'trelawney', 'wa'): 2, ('harri', 'wa', 'pay', 'attent'): 2, ('harri', 'promis', 'could', 'come'): 2, ('rub', 'hi', 'knuckl', 'hi'): 2, ('professor', 'snape', 'made', 'terribl'): 2, ('hand', 'curl', 'fist', 'said'): 2, ('wall', 'point', 'hi', 'wand'): 2, ('said', 'dumbledor', 'shake', 'back'): 2, ('back', 'sleev', 'hi', 'robe'): 2, ('know', 'wa', 'go', 'say'): 2, ('ye', 'said', 'dumbledor', 'ye'): 2, ('harri', 'think', 'go', 'go'): 2, ('upon', 'someth', 'harri', 'could'): 2, ('would', 'want', 'kill', 'person'): 2, ('want', 'kill', 'person', 'reach'): 2, ('kill', 'person', 'reach', 'thi'): 2, ('time', 'dumbledor', 'rais', 'hi'): 2, ('rais', 'hi', 'hand', 'silenc'): 2, ('befor', 'harri', 'could', 'make'): 2, ('harri', 'wonder', 'whether', 'wa'): 2, ('make', 'stop', 'make', 'stop'): 2, ('green', 'skull', 'serpent', 'tongu'): 2, ('dear', 'boy', 'said', 'dumbledor'): 2, ('hand', 'wa', 'shake', 'badli'): 2, ('come', 'right', 'side', 'draco'): 2, ('mat', 'gray', 'hair', 'whisker'): 2, ('corridor', 'wa', 'full', 'dust'): 2, ('could', 'rais', 'hi', 'wand'): 2, ('blond', 'death', 'eater', 'wa'): 4, ('huge', 'death', 'eater', 'behind'): 2, ('harri', 'struggl', 'hi', 'feet'): 2, ('harri', 'sank', 'hi', 'knee'): 2, ('harri', 'clear', 'hi', 'throat'): 2, ('seem', 'like', 'long', 'time'): 2, ('stolen', 'real', 'horcrux', 'intend'): 2, ('real', 'horcrux', 'intend', 'destroy'): 2, ('horcrux', 'intend', 'destroy', 'soon'): 2, ('room', 'requir', 'ginni', 'nevil'): 2, ('locket', 'cup', 'snake', 'someth'): 2, ('cup', 'snake', 'someth', 'gryffindor'): 2, ('snake', 'someth', 'gryffindor', 'ravenclaw'): 2, ('air', 'harri', 'ron', 'hermion'): 2, ('wa', 'go', 'harri', 'glanc'): 2, ('harri', 'could', 'hear', 'wa'): 2, ('tear', 'drip', 'end', 'hi'): 2, ('top', 'tower', 'dumbledor', 'die'): 3, ('away', 'without', 'anoth', 'word'): 2, ('voldemort', 'snape', 'rais', 'hi'): 2, ('chariti', 'burbag', 'revolv', 'face'): 2, ('burbag', 'revolv', 'face', 'snape'): 2, ('noth', 'hi', 'bright', 'green'): 2, ('correspond', 'notabl', 'magic', 'name'): 2, ('notabl', 'magic', 'name', 'day'): 2, ('life', 'lie', 'albu', 'dumbledor'): 7, ('albu', 'dumbledor', 'rita', 'skeeter'): 2, ('access', 'sourc', 'journalist', 'would'): 2, ('sourc', 'journalist', 'would', 'swap'): 2, ('journalist', 'would', 'swap', 'wand'): 2, ('dabbl', 'dark', 'art', 'hi'): 2, ('dark', 'art', 'hi', 'youth'): 2, ('entir', 'chapter', 'whole', 'relationship'): 2, ('chapter', 'whole', 'relationship', 'call'): 2, ('whole', 'relationship', 'call', 'unhealthi'): 2, ('relationship', 'call', 'unhealthi', 'even'): 2, ('call', 'unhealthi', 'even', 'sinist'): 2, ('dudley', 'said', 'harri', 'first'): 2, ('one', 'last', 'sweep', 'look'): 2, ('avoid', 'hit', 'hi', 'head'): 2, ('hermion', 'fred', 'georg', 'fleur'): 2, ('got', 'go', 'back', 'got'): 2, ('death', 'eater', 'swerv', 'avoid'): 2, ('two', 'remain', 'death', 'eater'): 2, ('hi', 'floweri', 'pink', 'umbrella'): 2, ('harri', 'sent', 'stun', 'spell'): 2, ('hood', 'death', 'eater', 'shout'): 2, ('light', 'shot', 'past', 'harri'): 2, ('thrust', 'hi', 'hand', 'hi'): 2, ('second', 'later', 'harri', 'feet'): 2, ('onto', 'hi', 'hand', 'knee'): 2, ('first', 'time', 'sinc', 'harri'): 2, ('alway', 'tone', 'surpris', 'said'): 2, ('scar', 'back', 'hi', 'right'): 3, ('hermion', 'gave', 'shaki', 'laugh'): 2, ('hi', 'arm', 'around', 'hermion'): 2, ('want', 'go', 'godric', 'hollow'): 4, ('said', 'ron', 'befor', 'harri'): 2, ('ron', 'befor', 'harri', 'could'): 3, ('ron', 'look', 'thoroughli', 'confus'): 2, ('sure', 'said', 'ron', 'harri'): 2, ('said', 'ron', 'harri', 'laugh'): 2, ('hi', 'feel', 'aim', 'kick'): 2, ('albu', 'dumbledor', 'wa', 'walk'): 2, ('twelv', 'way', 'charm', 'witch'): 2, ('happi', 'birthday', 'harri', 'said'): 2, ('thank', 'ron', 'said', 'hermion'): 2, ('miss', 'granger', 'ask', 'scrimgeour'): 2, ('look', 'harri', 'full', 'face'): 2, ('said', 'hermion', 'tell', 'us'): 2, ('press', 'hi', 'mouth', 'snitch'): 2, ('hi', 'eye', 'hermion', 'look'): 2, ('ron', 'ear', 'turn', 'bright'): 2, ('ear', 'turn', 'bright', 'red'): 2, ('without', 'scar', 'hi', 'forehead'): 2, ('done', 'night', 'voldemort', 'pursu'): 2, ('night', 'voldemort', 'pursu', 'across'): 2, ('voldemort', 'pursu', 'across', 'sky'): 2, ('hi', 'sister', 'wa', 'squib'): 2, ('open', 'hi', 'eye', 'moment'): 2, ('better', 'take', 'invis', 'cloak'): 2, ('could', 'see', 'hi', 'face'): 2, ('great', 'blond', 'death', 'eater'): 2, ('oh', 'right', 'yeah', 'ron'): 2, ('grimmauld', 'place', 'said', 'harri'): 2, ('open', 'hi', 'eye', 'stand'): 2, ('pain', 'hi', 'scar', 'wa'): 2, ('dumbledor', 'still', 'got', 'hi'): 2, ('still', 'got', 'hi', 'invis'): 2, ('got', 'hi', 'invis', 'cloak'): 2, ('seem', 'incred', 'dumbledor', 'harri'): 2, ('stood', 'quit', 'still', 'hold'): 2, ('dumbledor', 'seem', 'incred', 'dumbledor'): 2, ('pouch', 'around', 'hi', 'neck'): 9, ('sit', 'middl', 'front', 'row'): 2, ('kreacher', 'hi', 'bullfrog', 'voic'): 2, ('master', 'said', 'kreacher', 'bow'): 2, ('hi', 'eye', 'still', 'tight'): 2, ('eye', 'still', 'tight', 'shut'): 2, ('locket', 'master', 'regulu', 'locket'): 2, ('master', 'regulu', 'told', 'kreacher'): 3, ('regulu', 'told', 'kreacher', 'come'): 2, ('told', 'kreacher', 'come', 'back'): 2, ('kreacher', 'shook', 'hi', 'head'): 2, ('shook', 'hi', 'head', 'tri'): 2, ('hi', 'head', 'tri', 'clear'): 2, ('told', 'everyth', 'want', 'know'): 2, ('said', 'harri', 'glanc', 'hermion'): 2, ('onto', 'top', 'step', 'outsid'): 2, ('top', 'step', 'outsid', 'front'): 2, ('step', 'outsid', 'front', 'door'): 2, ('dramat', 'chang', 'ministri', 'polici'): 2, ('look', 'behind', 'hi', 'back'): 2, ('wa', 'moment', 'two', 'befor'): 2, ('said', 'harri', 'thank', 'veri'): 2, ('eye', 'still', 'fix', 'upon'): 2, ('hi', 'right', 'hand', 'seem'): 2, ('right', 'hand', 'seem', 'tingl'): 2, ('death', 'eater', 'watch', 'hous'): 2, ('said', 'ron', 'know', 'work'): 2, ('said', 'harri', 'think', 'go'): 2, ('hermion', 'wa', 'bite', 'lip'): 2, ('gregorovitch', 'said', 'high', 'cold'): 2, ('harri', 'took', 'invis', 'cloak'): 2, ('small', 'rectangular', 'mirror', 'prop'): 2, ('let', 'go', 'harri', 'yell'): 2, ('harri', 'think', 'go', 'abl'): 2, ('read', 'gregorovitch', 'mind', 'saw'): 2, ('hermion', 'right', 'said', 'harri'): 2, ('make', 'effort', 'hide', 'hi'): 2, ('except', 'gamp', 'law', 'element'): 2, ('gamp', 'law', 'element', 'transfigur'): 2, ('said', 'anoth', 'voic', 'harri'): 2, ('laughter', 'insid', 'tent', 'harri'): 2, ('professor', 'black', 'said', 'hermion'): 2, ('phinea', 'nigellu', 'turn', 'hi'): 2, ('thought', 'dumbledor', 'told', 'thought'): 2, ('dumbledor', 'told', 'thought', 'real'): 2, ('told', 'thought', 'real', 'plan'): 2, ('godric', 'hollow', 'godric', 'gryffindor'): 2, ('last', 'enemi', 'shall', 'destroy'): 4, ('enemi', 'shall', 'destroy', 'death'): 4, ('shall', 'destroy', 'death', 'harri'): 2, ('bang', 'flash', 'red', 'light'): 2, ('hi', 'head', 'wa', 'go'): 2, ('harri', 'sat', 'tent', 'entranc'): 2, ('hagrid', 'pouch', 'around', 'hi'): 2, ('hi', 'new', 'best', 'friend'): 2, ('kept', 'think', 'could', 'hear'): 2, ('harri', 'felt', 'though', 'wa'): 2, ('jump', 'hi', 'feet', 'hi'): 2, ('hi', 'voic', 'wa', 'crack'): 2, ('hi', 'heart', 'skip', 'hi'): 2, ('around', 'hi', 'neck', 'pull'): 2, ('harri', 'whirl', 'around', 'slip'): 2, ('clamber', 'hi', 'feet', 'harri'): 2, ('said', 'harri', 'hold', 'hi'): 2, ('harri', 'hold', 'hi', 'hand'): 2, ('harri', 'turn', 'look', 'ron'): 2, ('random', 'word', 'hi', 'breath'): 2, ('said', 'harri', 'befor', 'hermion'): 2, ('harri', 'befor', 'hermion', 'could'): 2, ('xenophiliu', 'rais', 'hi', 'eyebrow'): 2, ('tale', 'three', 'brother', 'harri'): 2, ('deathli', 'hallow', 'said', 'xenophiliu'): 2, ('three', 'object', 'hallow', 'unit'): 2, ('object', 'hallow', 'unit', 'make'): 2, ('hallow', 'unit', 'make', 'possessor'): 2, ('unit', 'make', 'possessor', 'master'): 2, ('cloak', 'realli', 'truli', 'render'): 2, ('realli', 'truli', 'render', 'wearer'): 2, ('truli', 'render', 'wearer', 'complet'): 2, ('render', 'wearer', 'complet', 'invis'): 2, ('wearer', 'complet', 'invis', 'endur'): 2, ('complet', 'invis', 'endur', 'etern'): 2, ('invis', 'endur', 'etern', 'give'): 2, ('endur', 'etern', 'give', 'constant'): 2, ('etern', 'give', 'constant', 'impenetr'): 2, ('give', 'constant', 'impenetr', 'conceal'): 2, ('constant', 'impenetr', 'conceal', 'matter'): 2, ('impenetr', 'conceal', 'matter', 'spell'): 2, ('conceal', 'matter', 'spell', 'cast'): 2, ('bloodi', 'trail', 'elder', 'wand'): 2, ('trail', 'elder', 'wand', 'splatter'): 2, ('elder', 'wand', 'splatter', 'across'): 2, ('wand', 'splatter', 'across', 'page'): 2, ('splatter', 'across', 'page', 'wizard'): 2, ('said', 'ron', 'hi', 'breath'): 2, ('said', 'harri', 'help', 'us'): 2, ('wand', 'deathstick', 'wand', 'destini'): 2, ('harri', 'wonder', 'whether', 'would'): 2, ('word', 'undesir', 'number', 'one'): 2, ('cri', 'hermion', 'point', 'wand'): 2, ('famili', 'extinct', 'male', 'line'): 2, ('sorri', 'said', 'ron', 'hermion'): 2, ('gaunt', 'said', 'wa', 'descend'): 2, ('said', 'wa', 'descend', 'peverel'): 2, ('ron', 'hermion', 'look', 'bewild'): 2, ('harri', 'said', 'hermion', 'wa'): 2, ('support', 'harri', 'potter', 'parti'): 2, ('wear', 'death', 'eater', 'robe'): 2, ('use', 'dark', 'lord', 'name'): 2, ('harri', 'could', 'bare', 'breath'): 2, ('back', 'onto', 'hi', 'face'): 2, ('still', 'clutch', 'sword', 'gryffindor'): 2, ('shell', 'cottag', 'bill', 'fleur'): 2, ('two', 'wand', 'brought', 'malfoy'): 2, ('friend', 'foe', 'care', 'wa'): 2, ('wa', 'hardli', 'ani', 'time'): 3, ('hardli', 'ani', 'time', 'left'): 3, ('hi', 'black', 'eye', 'fleur'): 2, ('scar', 'wa', 'still', 'prickl'): 2, ('harri', 'rub', 'hi', 'scar'): 3, ('around', 'hi', 'neck', 'took'): 2, ('thank', 'said', 'harri', 'thank'): 2, ('bill', 'fleur', 'luna', 'dean'): 2, ('must', 'get', 'back', 'said'): 2, ('get', 'back', 'said', 'lupin'): 2, ('thought', 'wa', 'onli', 'one'): 3, ('object', 'pass', 'wizard', 'wizard'): 2, ('around', 'hi', 'neck', 'could'): 2, ('long', 'black', 'hair', 'rippl'): 2, ('whisper', 'griphook', 'harri', 'ear'): 2, ('point', 'hi', 'wand', 'traver'): 2, ('harri', 'turn', 'hi', 'wand'): 2, ('knew', 'hi', 'horcrux', 'wa'): 2, ('harri', 'eye', 'flew', 'open'): 2, ('attempt', 'would', 'give', 'away'): 2, ('dark', 'lord', 'want', 'potter'): 2, ('anyon', 'pretend', 'differ', 'kid'): 2, ('secret', 'lie', 'grew', 'albu'): 2, ('lie', 'grew', 'albu', 'wa'): 2, ('room', 'requir', 'vanish', 'wa'): 2, ('said', 'nevil', 'dumbledor', 'armi'): 2, ('hi', 'heart', 'seem', 'fail'): 2, ('tri', 'get', 'insid', 'ravenclaw'): 2, ('get', 'insid', 'ravenclaw', 'tower'): 2, ('professor', 'mcgonagal', 'harri', 'luna'): 2, ('great', 'hall', 'twenti', 'minut'): 2, ('enchant', 'ceil', 'great', 'hall'): 2, ('gryffindor', 'tabl', 'ron', 'hermion'): 2, ('brother', 'would', 'never', 'done'): 2, ('right', 'sorri', 'said', 'ron'): 2, ('look', 'around', 'wa', 'great'): 2, ('said', 'voldemort', 'hi', 'high'): 2, ('voldemort', 'hi', 'high', 'clear'): 2, ('hi', 'high', 'clear', 'voic'): 2, ('true', 'master', 'elder', 'wand'): 3, ('grip', 'tightli', 'hi', 'hand'): 2, ('permit', 'friend', 'die', 'rather'): 2, ('friend', 'die', 'rather', 'face'): 2, ('die', 'rather', 'face', 'shall'): 2, ('rather', 'face', 'shall', 'wait'): 2, ('face', 'shall', 'wait', 'one'): 2, ('shall', 'wait', 'one', 'hour'): 2, ('wait', 'one', 'hour', 'forbidden'): 2, ('one', 'hour', 'forbidden', 'forest'): 2, ('directli', 'behind', 'headmast', 'chair'): 2, ('come', 'time', 'lord', 'voldemort'): 2, ('part', 'hi', 'soul', 'wa'): 2, ('hallow', 'hallow', 'murmur', 'dumbledor'): 2, ('harri', 'dare', 'open', 'hi'): 2, ('dare', 'open', 'hi', 'eye'): 3, ('said', 'voldemort', 'harri', 'heard'): 2, ('beneath', 'invis', 'cloak', 'harri'): 2, ('harri', 'cast', 'shield', 'charm'): 2, ('ye', 'dare', 'said', 'harri'): 2}\n"
     ]
    }
   ],
   "source": [
    "Ngrams = nltk.ngrams(hpBook['normalized_tokens'].sum(), 4)\n",
    "Counts = {}\n",
    "for ngram in list(Ngrams):\n",
    "    if ngram in Counts.keys():\n",
    "        Counts[ngram] += 1\n",
    "    else:\n",
    "        Counts[ngram] = 1\n",
    "Filtered = {}\n",
    "for key in Counts.keys():\n",
    "    if Counts[key] < 2:\n",
    "        pass\n",
    "    else:\n",
    "        Filtered[key] = Counts[key]\n",
    "print(Filtered)"
   ]
  },
  {
   "cell_type": "markdown",
   "metadata": {},
   "source": [
    "Remarks:\n",
    "The book is kind of male-dominated for the most trigrams appear are about \"his\" properties, such as his eye, his wand, or his head. Though the book is about Harry Potter, but is not all about him. Harry Potter is actually not the bigram that has the highest likehood ratio, the highest is death eater."
   ]
  },
  {
   "cell_type": "markdown",
   "metadata": {},
   "source": [
    "# Distributional distances\n",
    "\n",
    "If we want to compare different corpora, we need a distance or divergence that compares the two distributions.\n",
    "\n",
    "We will use the: \n",
    "\n",
    "+ Kullback-Leibler (KL) divergence\n",
    "+ $\\chi^2$ divergence\n",
    "+ Kolmogorov-Smirnov (KS) distance\n",
    "+ Wasserstein distance\n",
    "\n",
    "### Kullback-Leibler and $x^2$ divergences ###\n",
    "\n",
    "KL and $\\chi^2$ divergences are members of the broader <a \"href=https://en.wikipedia.org/wiki/F-divergence\" target=\"_blank\">$f$-divergence</a> family, a function of $D_f (P || Q)$ that calculates the difference between two probability distributions P and Q. The KL $f(t)$ is $ t \\text{ log } t $, while the $\\chi^2$ is $t^2-1$. KL comes from information and $\\chi^2$ from measure theory. As such, the KL divergence computes the relative entropy between two distributions--how they differ in bits, while the $\\chi^2$ whether the same statistical inferences can be drawn from them both.  \n",
    "\n",
    "Specifically, given two discrete probability distributions $P$ and $Q$, the Kullback-Leibler divergence from $Q$ to $P$ is defined as:\n",
    "\n",
    "$D_{\\mathrm{KL}}(P\\|Q) = \\sum_i P(i) \\, \\log\\frac{P(i)}{Q(i)}$.\n",
    "\n",
    "The [scipy.stats.entropy()](https://docs.scipy.org/doc/scipy/reference/generated/scipy.stats.entropy.html) function does the calculation for you, which takes in two arrays of probabilities and computes the KL divergence. Note that the KL divergence is in general not commutative, i.e. $D_{\\mathrm{KL}}(P\\|Q) \\neq D_{\\mathrm{KL}}(Q\\|P)$ .\n",
    "\n",
    "Also note that the KL divernce is the sum of elementwise divergences. Scipy provides [scipy.special.kl_div()](https://docs.scipy.org/doc/scipy/reference/generated/scipy.special.kl_div.html#scipy-special-kl-div) which calculates elementwise divergences for you.\n",
    "\n",
    "The $\\chi^2$ Divergence is defined as:\n",
    "\n",
    "$D_{\\mathrm{\\chi^2}}(P\\|Q) = \\sum_i \\left(\\frac{P(i)}{Q(i)}-1\\right)^2$. \n",
    "\n",
    "This is also noncommutative, and the code can be drawn directly from scipy.\n",
    "\n",
    "### Kolmogorov-Smirnov ###\n",
    "\n",
    "The two-sample Kolmogovorov-Smirnov test statistic calculates the distance between the cumulative distribution function of the two distributions to be compared, and, along with the $x^2$ divergence, is among the most common approaches two calculating a distance in statistics. It can be interpreted as a test of whether two distributions are drawn from the same underlying distribution. As with the others, the code is readily available in scipy.\n",
    "\n",
    "### Wasserstein Distance ###\n",
    "\n",
    "When this is computed on a Euclidian metric structure (e.g., numbers of words), this is also known as the earth mover’s distance, because it can be seen as the minimum amount of \"work\" required to transform $P$ into $Q$, where \"work\" is measured as the amount of distribution weight that must be moved, multiplied by the distance it has to be moved.\n",
    "\n",
    "### Computing ###\n",
    "\n",
    "To do this we will need to create the arrays, lets compare the Whitehouse releases with the Kennedy releases. First we have to download them and load them into a DataFrame."
   ]
  },
  {
   "cell_type": "code",
   "execution_count": 165,
   "metadata": {
    "scrolled": false
   },
   "outputs": [
    {
     "data": {
      "text/html": [
       "<div>\n",
       "<style scoped>\n",
       "    .dataframe tbody tr th:only-of-type {\n",
       "        vertical-align: middle;\n",
       "    }\n",
       "\n",
       "    .dataframe tbody tr th {\n",
       "        vertical-align: top;\n",
       "    }\n",
       "\n",
       "    .dataframe thead th {\n",
       "        text-align: right;\n",
       "    }\n",
       "</style>\n",
       "<table border=\"1\" class=\"dataframe\">\n",
       "  <thead>\n",
       "    <tr style=\"text-align: right;\">\n",
       "      <th></th>\n",
       "      <th>download_url</th>\n",
       "      <th>html_url</th>\n",
       "      <th>name</th>\n",
       "      <th>path</th>\n",
       "      <th>text</th>\n",
       "    </tr>\n",
       "  </thead>\n",
       "  <tbody>\n",
       "    <tr>\n",
       "      <th>0</th>\n",
       "      <td>https://raw.githubusercontent.com/lintool/Grim...</td>\n",
       "      <td>https://github.com/lintool/GrimmerSenatePressR...</td>\n",
       "      <td>01Apr2005Kennedy14.txt</td>\n",
       "      <td>raw/Kennedy/01Apr2005Kennedy14.txt</td>\n",
       "      <td>FOR IMMEDIATE RELEASE   FOR IMMEDIATE...</td>\n",
       "    </tr>\n",
       "    <tr>\n",
       "      <th>1</th>\n",
       "      <td>https://raw.githubusercontent.com/lintool/Grim...</td>\n",
       "      <td>https://github.com/lintool/GrimmerSenatePressR...</td>\n",
       "      <td>01Aug2005Kennedy12.txt</td>\n",
       "      <td>raw/Kennedy/01Aug2005Kennedy12.txt</td>\n",
       "      <td>FOR IMMEDIATE RELEASE   FOR IMMEDIATE...</td>\n",
       "    </tr>\n",
       "    <tr>\n",
       "      <th>2</th>\n",
       "      <td>https://raw.githubusercontent.com/lintool/Grim...</td>\n",
       "      <td>https://github.com/lintool/GrimmerSenatePressR...</td>\n",
       "      <td>01Aug2006Kennedy10.txt</td>\n",
       "      <td>raw/Kennedy/01Aug2006Kennedy10.txt</td>\n",
       "      <td>FOR IMMEDIATE RELEASE  FOR IMMEDIATE ...</td>\n",
       "    </tr>\n",
       "    <tr>\n",
       "      <th>3</th>\n",
       "      <td>https://raw.githubusercontent.com/lintool/Grim...</td>\n",
       "      <td>https://github.com/lintool/GrimmerSenatePressR...</td>\n",
       "      <td>01Aug2006Kennedy11.txt</td>\n",
       "      <td>raw/Kennedy/01Aug2006Kennedy11.txt</td>\n",
       "      <td>FOR IMMEDIATE RELEASE  FOR IMMEDIATE ...</td>\n",
       "    </tr>\n",
       "    <tr>\n",
       "      <th>4</th>\n",
       "      <td>https://raw.githubusercontent.com/lintool/Grim...</td>\n",
       "      <td>https://github.com/lintool/GrimmerSenatePressR...</td>\n",
       "      <td>01Aug2006Kennedy12.txt</td>\n",
       "      <td>raw/Kennedy/01Aug2006Kennedy12.txt</td>\n",
       "      <td>FOR IMMEDIATE RELEASE  FOR IMMEDIATE ...</td>\n",
       "    </tr>\n",
       "  </tbody>\n",
       "</table>\n",
       "</div>"
      ],
      "text/plain": [
       "                                        download_url  \\\n",
       "0  https://raw.githubusercontent.com/lintool/Grim...   \n",
       "1  https://raw.githubusercontent.com/lintool/Grim...   \n",
       "2  https://raw.githubusercontent.com/lintool/Grim...   \n",
       "3  https://raw.githubusercontent.com/lintool/Grim...   \n",
       "4  https://raw.githubusercontent.com/lintool/Grim...   \n",
       "\n",
       "                                            html_url                    name  \\\n",
       "0  https://github.com/lintool/GrimmerSenatePressR...  01Apr2005Kennedy14.txt   \n",
       "1  https://github.com/lintool/GrimmerSenatePressR...  01Aug2005Kennedy12.txt   \n",
       "2  https://github.com/lintool/GrimmerSenatePressR...  01Aug2006Kennedy10.txt   \n",
       "3  https://github.com/lintool/GrimmerSenatePressR...  01Aug2006Kennedy11.txt   \n",
       "4  https://github.com/lintool/GrimmerSenatePressR...  01Aug2006Kennedy12.txt   \n",
       "\n",
       "                                 path  \\\n",
       "0  raw/Kennedy/01Apr2005Kennedy14.txt   \n",
       "1  raw/Kennedy/01Aug2005Kennedy12.txt   \n",
       "2  raw/Kennedy/01Aug2006Kennedy10.txt   \n",
       "3  raw/Kennedy/01Aug2006Kennedy11.txt   \n",
       "4  raw/Kennedy/01Aug2006Kennedy12.txt   \n",
       "\n",
       "                                                text  \n",
       "0           FOR IMMEDIATE RELEASE   FOR IMMEDIATE...  \n",
       "1           FOR IMMEDIATE RELEASE   FOR IMMEDIATE...  \n",
       "2           FOR IMMEDIATE RELEASE  FOR IMMEDIATE ...  \n",
       "3           FOR IMMEDIATE RELEASE  FOR IMMEDIATE ...  \n",
       "4           FOR IMMEDIATE RELEASE  FOR IMMEDIATE ...  "
      ]
     },
     "execution_count": 165,
     "metadata": {},
     "output_type": "execute_result"
    }
   ],
   "source": [
    "kenReleases = getGithubFiles('https://api.github.com/repos/lintool/GrimmerSenatePressReleases/contents/raw/Kennedy', maxFiles = 10)\n",
    "kenReleases[:5]"
   ]
  },
  {
   "cell_type": "markdown",
   "metadata": {},
   "source": [
    "Then we can tokenize, stem and remove stop words, like we did for the Whitehouse press releases"
   ]
  },
  {
   "cell_type": "code",
   "execution_count": 166,
   "metadata": {
    "collapsed": true
   },
   "outputs": [],
   "source": [
    "kenReleases['tokenized_text'] = kenReleases['text'].apply(lambda x: nltk.word_tokenize(x))\n",
    "kenReleases['normalized_tokens'] = kenReleases['tokenized_text'].apply(lambda x: normlizeTokens(x, stopwordLst = stop_words_nltk, stemmer = snowball))"
   ]
  },
  {
   "cell_type": "markdown",
   "metadata": {},
   "source": [
    "Now we need to compare the two collection of words, remove those not found in both, and assign the remaining ones indices."
   ]
  },
  {
   "cell_type": "code",
   "execution_count": 167,
   "metadata": {},
   "outputs": [
    {
     "data": {
      "text/plain": [
       "241"
      ]
     },
     "execution_count": 167,
     "metadata": {},
     "output_type": "execute_result"
    }
   ],
   "source": [
    "whWords = set(whReleases['normalized_tokens'].sum())\n",
    "kenWords = set(kenReleases['normalized_tokens'].sum())\n",
    "\n",
    "#Change & to | if you want to keep all words\n",
    "overlapWords = whWords & kenWords\n",
    "\n",
    "overlapWordsDict = {word: index for index, word in enumerate(overlapWords)}\n",
    "overlapWordsDict['student']"
   ]
  },
  {
   "cell_type": "markdown",
   "metadata": {},
   "source": [
    "Now we can count the occurrences of each word in the corpora and create our arrays. Note that we don't have to use numpy arrays as we do here. We could just use a list, but the arrays are faster in numpy so we encourage you to get in the habit of using them."
   ]
  },
  {
   "cell_type": "code",
   "execution_count": 168,
   "metadata": {},
   "outputs": [
    {
     "data": {
      "text/plain": [
       "1.0"
      ]
     },
     "execution_count": 168,
     "metadata": {},
     "output_type": "execute_result"
    }
   ],
   "source": [
    "def makeProbsArray(dfColumn, overlapDict):\n",
    "    words = dfColumn.sum()\n",
    "    countList = [0] * len(overlapDict)\n",
    "    for word in words:\n",
    "        try:\n",
    "            countList[overlapDict[word]] += 1\n",
    "        except KeyError:\n",
    "            #The word is not common so we skip it\n",
    "            pass\n",
    "    countArray = np.array(countList)\n",
    "    return countArray / countArray.sum()\n",
    "\n",
    "whProbArray = makeProbsArray(whReleases['normalized_tokens'], overlapWordsDict)\n",
    "kenProbArray = makeProbsArray(kenReleases['normalized_tokens'], overlapWordsDict)\n",
    "kenProbArray.sum()\n",
    "#There is a little bit of a floating point math error\n",
    "#but it's too small to see with print and too small matter here"
   ]
  },
  {
   "cell_type": "markdown",
   "metadata": {},
   "source": [
    "We can now compute the KL divergence. Pay attention to the asymmetry. Use [the Jensen–Shannon divergence](https://en.wikipedia.org/wiki/Jensen%E2%80%93Shannon_divergence), which is the average KL divergence between each distribution and the average of both distributions (i.e., the midpoint), if you want symmetry."
   ]
  },
  {
   "cell_type": "code",
   "execution_count": 169,
   "metadata": {},
   "outputs": [
    {
     "name": "stdout",
     "output_type": "stream",
     "text": [
      "0.6176419677476955\n",
      "0.5877085657188856\n"
     ]
    }
   ],
   "source": [
    "wh_kenDivergence = scipy.stats.entropy(whProbArray, kenProbArray)\n",
    "print (wh_kenDivergence)\n",
    "ken_whDivergence = scipy.stats.entropy(kenProbArray, whProbArray)\n",
    "print (ken_whDivergence)"
   ]
  },
  {
   "cell_type": "markdown",
   "metadata": {},
   "source": [
    "Then, we can do the elementwise calculation and see which words best distinguish the two corpora."
   ]
  },
  {
   "cell_type": "code",
   "execution_count": 170,
   "metadata": {},
   "outputs": [
    {
     "data": {
      "text/html": [
       "<div>\n",
       "<style scoped>\n",
       "    .dataframe tbody tr th:only-of-type {\n",
       "        vertical-align: middle;\n",
       "    }\n",
       "\n",
       "    .dataframe tbody tr th {\n",
       "        vertical-align: top;\n",
       "    }\n",
       "\n",
       "    .dataframe thead th {\n",
       "        text-align: right;\n",
       "    }\n",
       "</style>\n",
       "<table border=\"1\" class=\"dataframe\">\n",
       "  <thead>\n",
       "    <tr style=\"text-align: right;\">\n",
       "      <th></th>\n",
       "      <th>word</th>\n",
       "      <th>elementwise divergence</th>\n",
       "    </tr>\n",
       "  </thead>\n",
       "  <tbody>\n",
       "    <tr>\n",
       "      <th>0</th>\n",
       "      <td>continu</td>\n",
       "      <td>0.000731</td>\n",
       "    </tr>\n",
       "    <tr>\n",
       "      <th>1</th>\n",
       "      <td>expand</td>\n",
       "      <td>0.002023</td>\n",
       "    </tr>\n",
       "    <tr>\n",
       "      <th>2</th>\n",
       "      <td>intent</td>\n",
       "      <td>0.000063</td>\n",
       "    </tr>\n",
       "    <tr>\n",
       "      <th>3</th>\n",
       "      <td>job</td>\n",
       "      <td>0.000672</td>\n",
       "    </tr>\n",
       "    <tr>\n",
       "      <th>4</th>\n",
       "      <td>person</td>\n",
       "      <td>0.002023</td>\n",
       "    </tr>\n",
       "    <tr>\n",
       "      <th>5</th>\n",
       "      <td>oppos</td>\n",
       "      <td>0.000063</td>\n",
       "    </tr>\n",
       "    <tr>\n",
       "      <th>6</th>\n",
       "      <td>support</td>\n",
       "      <td>0.002202</td>\n",
       "    </tr>\n",
       "    <tr>\n",
       "      <th>7</th>\n",
       "      <td>act</td>\n",
       "      <td>0.001255</td>\n",
       "    </tr>\n",
       "    <tr>\n",
       "      <th>8</th>\n",
       "      <td>employ</td>\n",
       "      <td>0.005883</td>\n",
       "    </tr>\n",
       "    <tr>\n",
       "      <th>9</th>\n",
       "      <td>peopl</td>\n",
       "      <td>0.008876</td>\n",
       "    </tr>\n",
       "  </tbody>\n",
       "</table>\n",
       "</div>"
      ],
      "text/plain": [
       "      word  elementwise divergence\n",
       "0  continu                0.000731\n",
       "1   expand                0.002023\n",
       "2   intent                0.000063\n",
       "3      job                0.000672\n",
       "4   person                0.002023\n",
       "5    oppos                0.000063\n",
       "6  support                0.002202\n",
       "7      act                0.001255\n",
       "8   employ                0.005883\n",
       "9    peopl                0.008876"
      ]
     },
     "execution_count": 170,
     "metadata": {},
     "output_type": "execute_result"
    }
   ],
   "source": [
    "wh_kenDivergence_ew = scipy.special.kl_div(whProbArray, kenProbArray)\n",
    "kl_df = pandas.DataFrame(list(overlapWordsDict.keys()), columns = ['word'], index = list(overlapWordsDict.values()))\n",
    "kl_df = kl_df.sort_index()\n",
    "kl_df['elementwise divergence'] = wh_kenDivergence_ew\n",
    "kl_df[:10]"
   ]
  },
  {
   "cell_type": "code",
   "execution_count": 171,
   "metadata": {
    "scrolled": false
   },
   "outputs": [
    {
     "data": {
      "text/html": [
       "<div>\n",
       "<style scoped>\n",
       "    .dataframe tbody tr th:only-of-type {\n",
       "        vertical-align: middle;\n",
       "    }\n",
       "\n",
       "    .dataframe tbody tr th {\n",
       "        vertical-align: top;\n",
       "    }\n",
       "\n",
       "    .dataframe thead th {\n",
       "        text-align: right;\n",
       "    }\n",
       "</style>\n",
       "<table border=\"1\" class=\"dataframe\">\n",
       "  <thead>\n",
       "    <tr style=\"text-align: right;\">\n",
       "      <th></th>\n",
       "      <th>word</th>\n",
       "      <th>elementwise divergence</th>\n",
       "    </tr>\n",
       "  </thead>\n",
       "  <tbody>\n",
       "    <tr>\n",
       "      <th>143</th>\n",
       "      <td>iraq</td>\n",
       "      <td>0.086929</td>\n",
       "    </tr>\n",
       "    <tr>\n",
       "      <th>86</th>\n",
       "      <td>bush</td>\n",
       "      <td>0.042354</td>\n",
       "    </tr>\n",
       "    <tr>\n",
       "      <th>58</th>\n",
       "      <td>stem</td>\n",
       "      <td>0.021884</td>\n",
       "    </tr>\n",
       "    <tr>\n",
       "      <th>243</th>\n",
       "      <td>law</td>\n",
       "      <td>0.020547</td>\n",
       "    </tr>\n",
       "    <tr>\n",
       "      <th>170</th>\n",
       "      <td>protect</td>\n",
       "      <td>0.019358</td>\n",
       "    </tr>\n",
       "    <tr>\n",
       "      <th>295</th>\n",
       "      <td>american</td>\n",
       "      <td>0.018154</td>\n",
       "    </tr>\n",
       "    <tr>\n",
       "      <th>276</th>\n",
       "      <td>depart</td>\n",
       "      <td>0.017650</td>\n",
       "    </tr>\n",
       "    <tr>\n",
       "      <th>34</th>\n",
       "      <td>bring</td>\n",
       "      <td>0.014128</td>\n",
       "    </tr>\n",
       "    <tr>\n",
       "      <th>172</th>\n",
       "      <td>member</td>\n",
       "      <td>0.012429</td>\n",
       "    </tr>\n",
       "    <tr>\n",
       "      <th>23</th>\n",
       "      <td>war</td>\n",
       "      <td>0.011739</td>\n",
       "    </tr>\n",
       "  </tbody>\n",
       "</table>\n",
       "</div>"
      ],
      "text/plain": [
       "         word  elementwise divergence\n",
       "143      iraq                0.086929\n",
       "86       bush                0.042354\n",
       "58       stem                0.021884\n",
       "243       law                0.020547\n",
       "170   protect                0.019358\n",
       "295  american                0.018154\n",
       "276    depart                0.017650\n",
       "34      bring                0.014128\n",
       "172    member                0.012429\n",
       "23        war                0.011739"
      ]
     },
     "execution_count": 171,
     "metadata": {},
     "output_type": "execute_result"
    }
   ],
   "source": [
    "kl_df.sort_values(by='elementwise divergence', ascending=False)[:10]"
   ]
  },
  {
   "cell_type": "markdown",
   "metadata": {},
   "source": [
    "Now we will apply what we learned today to the Guternberg texts in nltk and see if we can detect patterns between them. \n",
    "\n",
    "First, let's transform every text into normalized tokens. Note that in this first step, no stopword is removed. "
   ]
  },
  {
   "cell_type": "code",
   "execution_count": 172,
   "metadata": {
    "collapsed": true
   },
   "outputs": [],
   "source": [
    "fileids = nltk.corpus.gutenberg.fileids()\n",
    "corpora = []\n",
    "for fileid in fileids:\n",
    "    words = nltk.corpus.gutenberg.words(fileid)\n",
    "    normalized_tokens = normlizeTokens(words, stopwordLst = [], stemmer = snowball)\n",
    "    corpora.append(normalized_tokens)"
   ]
  },
  {
   "cell_type": "markdown",
   "metadata": {},
   "source": [
    "Then, let's separate the normalized tokens into stopwords and non-stopwords."
   ]
  },
  {
   "cell_type": "code",
   "execution_count": 173,
   "metadata": {
    "collapsed": true
   },
   "outputs": [],
   "source": [
    "corpora_s = []\n",
    "corpora_nons = []\n",
    "for corpus in corpora:\n",
    "    s = []\n",
    "    nons = []\n",
    "    for word in corpus:\n",
    "        if word in stop_words_nltk:\n",
    "            s.append(word)\n",
    "        else:\n",
    "            nons.append(word)\n",
    "    corpora_s.append(s)\n",
    "    corpora_nons.append(nons)"
   ]
  },
  {
   "cell_type": "markdown",
   "metadata": {},
   "source": [
    "Define some covenient funtions for calculating divergence and distances."
   ]
  },
  {
   "cell_type": "code",
   "execution_count": 48,
   "metadata": {
    "collapsed": true
   },
   "outputs": [],
   "source": [
    "def kl_divergence(X, Y):\n",
    "    P = X.copy()\n",
    "    Q = Y.copy()\n",
    "    P.columns = ['P']\n",
    "    Q.columns = ['Q']\n",
    "    df = Q.join(P).fillna(0)\n",
    "    p = df.iloc[:,1]\n",
    "    q = df.iloc[:,0]\n",
    "    D_kl = scipy.stats.entropy(p, q)\n",
    "    return D_kl\n",
    "\n",
    "def chi2_divergence(X,Y):\n",
    "    P = X.copy()\n",
    "    Q = Y.copy()\n",
    "    P.columns = ['P']\n",
    "    Q.columns = ['Q']\n",
    "    df = Q.join(P).fillna(0)\n",
    "    p = df.iloc[:,1]\n",
    "    q = df.iloc[:,0]\n",
    "    return scipy.stats.chisquare(p, q).statistic\n",
    "\n",
    "def Divergence(corpus1, corpus2, difference=\"KL\"):\n",
    "    \"\"\"Difference parameter can equal KL, Chi2, or Wass\"\"\"\n",
    "    freqP = nltk.FreqDist(corpus1)\n",
    "    P = pandas.DataFrame(list(freqP.values()), columns = ['frequency'], index = list(freqP.keys()))\n",
    "    freqQ = nltk.FreqDist(corpus2)\n",
    "    Q = pandas.DataFrame(list(freqQ.values()), columns = ['frequency'], index = list(freqQ.keys()))\n",
    "    if difference == \"KL\":\n",
    "        return kl_divergence(P, Q)\n",
    "    elif difference == \"Chi2\":\n",
    "        return chi2_divergence(P, Q)\n",
    "    elif difference == \"KS\":\n",
    "        try:\n",
    "            return scipy.stats.ks_2samp(P['frequency'], Q['frequency']).statistic\n",
    "        except:\n",
    "            return scipy.stats.ks_2samp(P['frequency'], Q['frequency'])\n",
    "    elif difference == \"Wasserstein\":\n",
    "        try:\n",
    "            return scipy.stats.wasserstein_distance(P['frequency'], Q['frequency'], u_weights=None, v_weights=None).statistic\n",
    "        except:\n",
    "            return scipy.stats.wasserstein_distance(P['frequency'], Q['frequency'], u_weights=None, v_weights=None)"
   ]
  },
  {
   "cell_type": "markdown",
   "metadata": {},
   "source": [
    "Now we will calculate the KL divergence for each pair of corpora, turn the results into a matrix, and visualize the matrix as a heatmap. Recall that $D_{\\mathrm{KL}}(P\\|Q)$ measures the amount of information loss when $Q$ is used to approximate $P$. Here, the rows are the $P$s used for calculating KL divergences, and the columns are the $Q$s. So, each cell measures the amount of information loss when the word distribution of the column text is used to approximate the word distribution of the row text. Because the KL divergence is directional, such that the divergence of $P$ from $Q$ is different from the same of $Q$ from $P$, the matrix is assymetric and contains unique information above and below the diagonal. The same is true for the $\\chi^2$ divergence."
   ]
  },
  {
   "cell_type": "code",
   "execution_count": 175,
   "metadata": {},
   "outputs": [
    {
     "data": {
      "image/png": "[encoded data removed]",
      "text/plain": [
       "<matplotlib.figure.Figure at 0x250c4f5fa20>"
      ]
     },
     "metadata": {},
     "output_type": "display_data"
    }
   ],
   "source": [
    "L = []\n",
    "for p in corpora:\n",
    "    l = []\n",
    "    for q in corpora:\n",
    "        l.append(Divergence(p,q, difference = 'KL'))\n",
    "    L.append(l)\n",
    "M = np.array(L)\n",
    "fig = plt.figure()\n",
    "div = pandas.DataFrame(M, columns = fileids, index = fileids)\n",
    "ax = sns.heatmap(div)\n",
    "plt.show()"
   ]
  },
  {
   "cell_type": "markdown",
   "metadata": {},
   "source": [
    "Note that works by the same author have the lowest within-group KL divergences. \n",
    "\n",
    "To reveal more patterns, let's do a multidimensional scaling of the matrix."
   ]
  },
  {
   "cell_type": "code",
   "execution_count": null,
   "metadata": {
    "collapsed": true
   },
   "outputs": [],
   "source": [
    "mds = sklearn.manifold.MDS()\n",
    "pos = mds.fit(M).embedding_\n",
    "x = pos[:,0]\n",
    "y = pos[:,1]\n",
    "fig, ax = plt.subplots(figsize = (6,6))\n",
    "plt.plot(x, y, ' ')\n",
    "for i, txt in enumerate(fileids):\n",
    "    ax.annotate(txt, (x[i],y[i]))"
   ]
  },
  {
   "cell_type": "markdown",
   "metadata": {},
   "source": [
    "Do you see any patterns in the image shown above? Does it make sense?\n",
    "\n",
    "We may just want to focus on the distrbution of stopwords or non-stopwords. Let's do the analysis again first for stopwords and then for non-stopwords."
   ]
  },
  {
   "cell_type": "code",
   "execution_count": null,
   "metadata": {
    "collapsed": true
   },
   "outputs": [],
   "source": [
    "L = []\n",
    "for p in corpora_s:\n",
    "    l = []\n",
    "    for q in corpora_s:\n",
    "        l.append(Divergence(p,q, difference='KL'))\n",
    "    L.append(l)\n",
    "M = np.array(L)\n",
    "fig = plt.figure()\n",
    "div = pandas.DataFrame(M, columns = fileids, index = fileids)\n",
    "ax = sns.heatmap(div)\n",
    "plt.show()"
   ]
  },
  {
   "cell_type": "code",
   "execution_count": null,
   "metadata": {
    "collapsed": true
   },
   "outputs": [],
   "source": [
    "L = []\n",
    "for p in corpora_nons:\n",
    "    l = []\n",
    "    for q in corpora_nons:\n",
    "        l.append(Divergence(p,q, difference='KL'))\n",
    "    L.append(l)\n",
    "M = np.array(L)\n",
    "fig = plt.figure()\n",
    "div = pandas.DataFrame(M, columns = fileids, index = fileids)\n",
    "ax = sns.heatmap(div)\n",
    "plt.show()"
   ]
  },
  {
   "cell_type": "markdown",
   "metadata": {},
   "source": [
    "Now we compute the same for the assymmetric $\\chi^2$ Divergence."
   ]
  },
  {
   "cell_type": "code",
   "execution_count": null,
   "metadata": {
    "collapsed": true
   },
   "outputs": [],
   "source": [
    "L = []\n",
    "for p in corpora_nons:\n",
    "    l = []\n",
    "    for q in corpora_nons:\n",
    "        l.append(Divergence(p,q, difference='Chi2'))\n",
    "    L.append(l)\n",
    "M = np.array(L)\n",
    "fig = plt.figure()\n",
    "div = pandas.DataFrame(M, columns = fileids, index = fileids)\n",
    "ax = sns.heatmap(div)\n",
    "plt.show()"
   ]
  },
  {
   "cell_type": "markdown",
   "metadata": {
    "scrolled": true
   },
   "source": [
    "For the KS distance:"
   ]
  },
  {
   "cell_type": "code",
   "execution_count": null,
   "metadata": {
    "collapsed": true
   },
   "outputs": [],
   "source": [
    "L = []\n",
    "for p in corpora_nons:\n",
    "    l = []\n",
    "    for q in corpora_nons:\n",
    "        l.append(Divergence(p,q, difference='KS'))\n",
    "    L.append(l)\n",
    "M = np.array(L)\n",
    "fig = plt.figure()\n",
    "div = pandas.DataFrame(M, columns = fileids, index = fileids)\n",
    "ax = sns.heatmap(div)\n",
    "plt.show()"
   ]
  },
  {
   "cell_type": "markdown",
   "metadata": {},
   "source": [
    "And finally for the Wasserstein or \"earth mover's\" Distance."
   ]
  },
  {
   "cell_type": "code",
   "execution_count": null,
   "metadata": {
    "collapsed": true
   },
   "outputs": [],
   "source": [
    "L = []\n",
    "for p in corpora_nons:\n",
    "    l = []\n",
    "    for q in corpora_nons:\n",
    "        l.append(Divergence(p,q, difference='Wasserstein'))\n",
    "    L.append(l)\n",
    "M = np.array(L)\n",
    "fig = plt.figure()\n",
    "div = pandas.DataFrame(M, columns = fileids, index = fileids)\n",
    "ax = sns.heatmap(div)\n",
    "plt.show()"
   ]
  },
  {
   "cell_type": "markdown",
   "metadata": {},
   "source": [
    "You can see that the Bible is highly divergent and this makes reading the plot somewhat difficult. Let's fix this by taking the log of each cell, which will reduce the distance of the Bible from other texts as an outlier."
   ]
  },
  {
   "cell_type": "code",
   "execution_count": null,
   "metadata": {
    "collapsed": true
   },
   "outputs": [],
   "source": [
    "ax = sns.heatmap(div.apply(np.log).replace([np.inf, -np.inf], np.nan))\n",
    "plt.show()"
   ]
  },
  {
   "cell_type": "markdown",
   "metadata": {},
   "source": [
    "This is more legible, as it continues to show that the Bible is divergent, but other structure is also visible, such as the divergence of Austen's *Emma* and *Sense and Sensibility*, and Edgeworth's *The Parent's Assistant*. \n",
    "\n",
    "If we want to rerun this on a new data set of our own composition, we can be a bit more efficient with our coding. Let's use the Shakespeare texts from last week as example: "
   ]
  },
  {
   "cell_type": "code",
   "execution_count": null,
   "metadata": {
    "collapsed": true
   },
   "outputs": [],
   "source": [
    "shakespeare_df = lucem_illud.loadTextDirectory('../data/Shakespeare')"
   ]
  },
  {
   "cell_type": "markdown",
   "metadata": {},
   "source": [
    "Now we stem and remove stopwords"
   ]
  },
  {
   "cell_type": "code",
   "execution_count": null,
   "metadata": {
    "collapsed": true
   },
   "outputs": [],
   "source": [
    "shakespeare_df['tokenized_text'] = shakespeare_df['text'].apply(lambda x: nltk.word_tokenize(x))\n",
    "shakespeare_df['normalized_tokens'] = shakespeare_df['tokenized_text'].apply(lambda x: normlizeTokens(x, stopwordLst = stop_words_nltk, stemmer = porter))"
   ]
  },
  {
   "cell_type": "markdown",
   "metadata": {},
   "source": [
    "Create the corpus file and generate the heatmap:"
   ]
  },
  {
   "cell_type": "code",
   "execution_count": null,
   "metadata": {
    "collapsed": true
   },
   "outputs": [],
   "source": [
    "measure = 'KS' #\"KL\", \"Chi2\", \"KS\", \"Wasserstein\"\n",
    "num_of_texts = 10 #The bigger this number the slower it will run, you can also try selecting your own plays\n",
    "fileids_sp = list(shakespeare_df[:num_of_texts].index)\n",
    "corpora_sp = list(shakespeare_df[:num_of_texts]['normalized_tokens'])\n",
    "L = []\n",
    "for p in corpora_sp:\n",
    "    l = []\n",
    "    for q in corpora_sp:\n",
    "        l.append(Divergence(p,q, difference=measure))\n",
    "    L.append(l)\n",
    "M = np.array(L)\n",
    "fig = plt.figure()\n",
    "div = pandas.DataFrame(M, columns = fileids_sp, index = fileids_sp)\n",
    "ax = sns.heatmap(div)\n",
    "plt.show()"
   ]
  },
  {
   "cell_type": "markdown",
   "metadata": {},
   "source": [
    "What are \"The Passionate Pilgrim\" and \"The Phoenix and the Turtle\"? Little known poems by Shakespeare that are unsurprisingly hard to classify, as they are so different from everything else he wrote."
   ]
  },
  {
   "cell_type": "markdown",
   "metadata": {},
   "source": [
    "## <span style=\"color:red\">*Exercise 4*</span>\n",
    "\n",
    "<span style=\"color:red\">Construct cells immediately below this that calculate the KL and $\\chi^2$ divergences, and the KS and Wasserstein distances between four separate corpora, plot these with heatmaps, and then array them in two dimensions with multidimensional scaling as above. What does this reveal about relations between the corpora? Which analysis (and divergence or distribution) distinguishes the authors or documents better? \n",
    "\n",
    "<span style=\"color:red\">**Stretch**: Calculate the <a \"href=https://en.wikipedia.org/wiki/Jensen–Shannon_divergence\" target=\"_blank\">Jensen-Shannon Divergence</a> between your four corpora. What is the relationship between the KL and JS divergences?</span> "
   ]
  },
  {
   "cell_type": "markdown",
   "metadata": {},
   "source": [
    "Comparing among Harry Potter series"
   ]
  },
  {
   "cell_type": "code",
   "execution_count": 46,
   "metadata": {
    "collapsed": true
   },
   "outputs": [],
   "source": [
    "\n",
    "hpBook['normalized_tokens'] = hpBook['tokenized_text'].apply(lambda x: normlizeTokens(x, stopwordLst = stop_words_nltk, stemmer = porter))\n",
    "hpBook['tokenized_text'] = hpBook['text'].apply(lambda x: nltk.word_tokenize(x))\n"
   ]
  },
  {
   "cell_type": "code",
   "execution_count": 50,
   "metadata": {},
   "outputs": [
    {
     "data": {
      "image/png": "[encoded data removed]",
      "text/plain": [
       "<matplotlib.figure.Figure at 0x20709d9ccf8>"
      ]
     },
     "metadata": {},
     "output_type": "display_data"
    }
   ],
   "source": [
    "measure = 'KS' #\"KL\", \"Chi2\", \"KS\", \"Wasserstein\"\n",
    "num_of_texts = 7 \n",
    "fileids_sp = list(hpBook[:num_of_texts].index)\n",
    "corpora_sp = list(hpBook[:num_of_texts]['normalized_tokens'])\n",
    "L = []\n",
    "for p in corpora_sp:\n",
    "    l = []\n",
    "    for q in corpora_sp:\n",
    "        l.append(Divergence(p,q, difference=measure))\n",
    "    L.append(l)\n",
    "M = np.array(L)\n",
    "fig = plt.figure()\n",
    "div = pandas.DataFrame(M, columns = fileids_sp, index = fileids_sp)\n",
    "ax = sns.heatmap(div)\n",
    "plt.show()"
   ]
  },
  {
   "cell_type": "code",
   "execution_count": 51,
   "metadata": {},
   "outputs": [
    {
     "data": {
      "image/png": "[encoded data removed]",
      "text/plain": [
       "<matplotlib.figure.Figure at 0x2077b9dbd30>"
      ]
     },
     "metadata": {},
     "output_type": "display_data"
    }
   ],
   "source": [
    "measure = 'KL' #\"KL\", \"Chi2\", \"KS\", \"Wasserstein\"\n",
    "num_of_texts = 7 \n",
    "fileids_sp = list(hpBook[:num_of_texts].index)\n",
    "corpora_sp = list(hpBook[:num_of_texts]['normalized_tokens'])\n",
    "L = []\n",
    "for p in corpora_sp:\n",
    "    l = []\n",
    "    for q in corpora_sp:\n",
    "        l.append(Divergence(p,q, difference=measure))\n",
    "    L.append(l)\n",
    "M = np.array(L)\n",
    "fig = plt.figure()\n",
    "div = pandas.DataFrame(M, columns = fileids_sp, index = fileids_sp)\n",
    "ax = sns.heatmap(div)\n",
    "plt.show()"
   ]
  },
  {
   "cell_type": "code",
   "execution_count": 179,
   "metadata": {},
   "outputs": [
    {
     "data": {
      "image/png": "[encoded data removed]",
      "text/plain": [
       "<matplotlib.figure.Figure at 0x250c617e438>"
      ]
     },
     "metadata": {},
     "output_type": "display_data"
    }
   ],
   "source": [
    "measure = 'Chi2' #\"KL\", \"Chi2\", \"KS\", \"Wasserstein\"\n",
    "num_of_texts = 7 \n",
    "fileids_sp = list(hpBook[:num_of_texts].index)\n",
    "corpora_sp = list(hpBook[:num_of_texts]['normalized_tokens'])\n",
    "L = []\n",
    "for p in corpora_sp:\n",
    "    l = []\n",
    "    for q in corpora_sp:\n",
    "        l.append(Divergence(p,q, difference=measure))\n",
    "    L.append(l)\n",
    "M = np.array(L)\n",
    "fig = plt.figure()\n",
    "div = pandas.DataFrame(M, columns = fileids_sp, index = fileids_sp)\n",
    "ax = sns.heatmap(div)\n",
    "plt.show()"
   ]
  },
  {
   "cell_type": "code",
   "execution_count": 180,
   "metadata": {},
   "outputs": [
    {
     "data": {
      "image/png": "[encoded data removed]",
      "text/plain": [
       "<matplotlib.figure.Figure at 0x250beb5da90>"
      ]
     },
     "metadata": {},
     "output_type": "display_data"
    }
   ],
   "source": [
    "measure = 'Wasserstein' #\"KL\", \"Chi2\", \"KS\", \"Wasserstein\"\n",
    "num_of_texts = 7 \n",
    "fileids_sp = list(hpBook[:num_of_texts].index)\n",
    "corpora_sp = list(hpBook[:num_of_texts]['normalized_tokens'])\n",
    "L = []\n",
    "for p in corpora_sp:\n",
    "    l = []\n",
    "    for q in corpora_sp:\n",
    "        l.append(Divergence(p,q, difference=measure))\n",
    "    L.append(l)\n",
    "M = np.array(L)\n",
    "fig = plt.figure()\n",
    "div = pandas.DataFrame(M, columns = fileids_sp, index = fileids_sp)\n",
    "ax = sns.heatmap(div)\n",
    "plt.show()"
   ]
  },
  {
   "cell_type": "markdown",
   "metadata": {
    "collapsed": true
   },
   "source": [
    "Remarks: According to the heatmaps, KS and Wasserstein show similar patterns, and both distinguish the differences among seven books of Harry Potter pretty well. The first three books are close to each other, and also the last two books are quite related. among the other books, the fifth book, \"Order of the Phoenix\", is not very close to the first three books. "
   ]
  },
  {
   "cell_type": "markdown",
   "metadata": {},
   "source": [
    "What words do Harry Potter books overlap?"
   ]
  },
  {
   "cell_type": "code",
   "execution_count": 54,
   "metadata": {
    "collapsed": true
   },
   "outputs": [],
   "source": [
    "r = requests.get(bookLinks[0]['download_url'])\n",
    "stoneBook = r.text\n",
    "stoneWords = nltk.word_tokenize(stoneBook)\n",
    "stoneNWords = normlizeTokens(stoneWords, stopwordLst = stop_words_nltk, stemmer = snowball)\n"
   ]
  },
  {
   "cell_type": "code",
   "execution_count": 55,
   "metadata": {
    "collapsed": true
   },
   "outputs": [],
   "source": [
    "r = requests.get(bookLinks[1]['download_url'])\n",
    "secretsBook = r.text\n",
    "secretsWords = nltk.word_tokenize(secretsBook)\n",
    "secretsNWords = normlizeTokens(secretsWords, stopwordLst = stop_words_nltk, stemmer = snowball)"
   ]
  },
  {
   "cell_type": "code",
   "execution_count": 56,
   "metadata": {
    "collapsed": true
   },
   "outputs": [],
   "source": [
    "r = requests.get(bookLinks[2]['download_url'])\n",
    "azkabanBook = r.text\n",
    "azkabanWords = nltk.word_tokenize(azkabanBook)\n",
    "azkabanNWords = normlizeTokens(azkabanWords, stopwordLst = stop_words_nltk, stemmer = snowball)"
   ]
  },
  {
   "cell_type": "code",
   "execution_count": 57,
   "metadata": {
    "collapsed": true
   },
   "outputs": [],
   "source": [
    "r = requests.get(bookLinks[3]['download_url'])\n",
    "fireBook = r.text\n",
    "fireWords = nltk.word_tokenize(fireBook)\n",
    "fireNWords = normlizeTokens(fireWords, stopwordLst = stop_words_nltk, stemmer = snowball)"
   ]
  },
  {
   "cell_type": "code",
   "execution_count": 100,
   "metadata": {},
   "outputs": [
    {
     "data": {
      "text/html": [
       "<div>\n",
       "<style scoped>\n",
       "    .dataframe tbody tr th:only-of-type {\n",
       "        vertical-align: middle;\n",
       "    }\n",
       "\n",
       "    .dataframe tbody tr th {\n",
       "        vertical-align: top;\n",
       "    }\n",
       "\n",
       "    .dataframe thead th {\n",
       "        text-align: right;\n",
       "    }\n",
       "</style>\n",
       "<table border=\"1\" class=\"dataframe\">\n",
       "  <thead>\n",
       "    <tr style=\"text-align: right;\">\n",
       "      <th></th>\n",
       "      <th>Book</th>\n",
       "      <th>normalizedTokens</th>\n",
       "    </tr>\n",
       "  </thead>\n",
       "  <tbody>\n",
       "    <tr>\n",
       "      <th>0</th>\n",
       "      <td>1</td>\n",
       "      <td>[harri, potter, sorcer, stone, rowl, illustr, ...</td>\n",
       "    </tr>\n",
       "    <tr>\n",
       "      <th>1</th>\n",
       "      <td>2</td>\n",
       "      <td>[harri, potter, chamber, secret, rowl, illustr...</td>\n",
       "    </tr>\n",
       "    <tr>\n",
       "      <th>2</th>\n",
       "      <td>3</td>\n",
       "      <td>[harri, potter, prison, azkaban, rowl, illustr...</td>\n",
       "    </tr>\n",
       "    <tr>\n",
       "      <th>3</th>\n",
       "      <td>4</td>\n",
       "      <td>[harri, potter, goblet, fire, rowl, illustr, m...</td>\n",
       "    </tr>\n",
       "  </tbody>\n",
       "</table>\n",
       "</div>"
      ],
      "text/plain": [
       "   Book                                   normalizedTokens\n",
       "0     1  [harri, potter, sorcer, stone, rowl, illustr, ...\n",
       "1     2  [harri, potter, chamber, secret, rowl, illustr...\n",
       "2     3  [harri, potter, prison, azkaban, rowl, illustr...\n",
       "3     4  [harri, potter, goblet, fire, rowl, illustr, m..."
      ]
     },
     "execution_count": 100,
     "metadata": {},
     "output_type": "execute_result"
    }
   ],
   "source": [
    "books_df = pandas.DataFrame({'Book' : [1,2,3,4], 'normalizedTokens' : [stoneNWords, secretsNWords, azkabanNWords, fireNWords]})\n",
    "books_df"
   ]
  },
  {
   "cell_type": "code",
   "execution_count": 102,
   "metadata": {},
   "outputs": [],
   "source": [
    "def getOverlap(tokens1, tokens2):\n",
    "    overlapWords = set(tokens1) & set(tokens2) \n",
    "    overlapCounts = {}\n",
    "    for word in [s for s in tokens1 if s in overlapWords]:\n",
    "        try:\n",
    "            overlapCounts[word] += 1\n",
    "        except KeyError:\n",
    "            overlapCounts[word] = 1\n",
    "    return sorted(overlapCounts.items(), key = lambda x : x[1], reverse=True)"
   ]
  },
  {
   "cell_type": "code",
   "execution_count": 103,
   "metadata": {
    "scrolled": true
   },
   "outputs": [
    {
     "name": "stdout",
     "output_type": "stream",
     "text": [
      "[('harri', 1323), ('said', 794), ('ron', 425), ('look', 398), ('hagrid', 357), ('hermion', 265), ('one', 263), ('back', 261), ('go', 258), ('get', 231), ('like', 211), ('know', 211), ('got', 206), ('could', 198), ('see', 183), ('veri', 172), ('snape', 168), ('tri', 167), ('professor', 167), ('dumbledor', 151)]\n",
      "[('harri', 1323), ('said', 794), ('ron', 425), ('look', 398), ('hagrid', 357), ('hermion', 265), ('one', 263), ('back', 261), ('go', 258), ('get', 231), ('like', 211), ('know', 211), ('got', 206), ('could', 198), ('see', 183), ('veri', 172), ('snape', 168), ('tri', 167), ('professor', 167), ('dumbledor', 151)]\n",
      "[('harri', 1323), ('said', 794), ('ron', 425), ('look', 398), ('hagrid', 357), ('hermion', 265), ('one', 263), ('back', 261), ('go', 258), ('get', 231), ('like', 211), ('know', 211), ('got', 206), ('could', 198), ('see', 183), ('veri', 172), ('snape', 168), ('tri', 167), ('professor', 167), ('dumbledor', 151)]\n",
      "[('harri', 1323), ('said', 794), ('ron', 425), ('look', 398), ('hagrid', 357), ('hermion', 265), ('one', 263), ('back', 261), ('go', 258), ('get', 231), ('like', 211), ('know', 211), ('got', 206), ('could', 198), ('see', 183), ('veri', 172), ('snape', 168), ('tri', 167), ('professor', 167), ('dumbledor', 151)]\n",
      "[('harri', 1656), ('said', 1217), ('ron', 705), ('look', 403), ('hermion', 311), ('back', 295), ('go', 258), ('one', 223), ('malfoy', 214), ('could', 211), ('weasley', 193), ('like', 190), ('got', 188), ('know', 187), ('professor', 185), ('think', 182), ('get', 180), ('eye', 176), ('around', 173), ('time', 172)]\n",
      "[('harri', 1656), ('said', 1217), ('ron', 705), ('look', 403), ('hermion', 311), ('back', 295), ('go', 258), ('lockhart', 231), ('one', 223), ('malfoy', 214), ('could', 211), ('weasley', 193), ('like', 190), ('got', 188), ('know', 187), ('professor', 185), ('think', 182), ('get', 180), ('eye', 176), ('around', 173)]\n",
      "[('harri', 1656), ('said', 1217), ('ron', 705), ('look', 403), ('hermion', 311), ('back', 295), ('go', 258), ('one', 223), ('malfoy', 214), ('could', 211), ('weasley', 193), ('like', 190), ('got', 188), ('know', 187), ('professor', 185), ('think', 182), ('get', 180), ('eye', 176), ('around', 173), ('time', 172)]\n",
      "[('harri', 1656), ('said', 1217), ('ron', 705), ('look', 403), ('hermion', 311), ('back', 295), ('go', 258), ('lockhart', 231), ('one', 223), ('malfoy', 214), ('could', 211), ('weasley', 193), ('like', 190), ('got', 188), ('know', 187), ('professor', 185), ('think', 182), ('get', 180), ('eye', 176), ('around', 173)]\n",
      "[('harri', 2045), ('said', 1476), ('ron', 791), ('hermion', 663), ('look', 557), ('professor', 405), ('black', 381), ('back', 362), ('go', 333), ('one', 292), ('veri', 281), ('hagrid', 264), ('like', 253), ('around', 246), ('snape', 245), ('see', 244), ('get', 241), ('could', 231), ('got', 223), ('know', 216)]\n",
      "[('harri', 2045), ('said', 1476), ('ron', 791), ('hermion', 663), ('look', 557), ('professor', 405), ('black', 381), ('back', 362), ('go', 333), ('one', 292), ('veri', 281), ('hagrid', 264), ('like', 253), ('around', 246), ('snape', 245), ('see', 244), ('get', 241), ('could', 231), ('got', 223), ('know', 216)]\n",
      "[('harri', 2045), ('said', 1476), ('ron', 791), ('hermion', 663), ('look', 557), ('lupin', 407), ('professor', 405), ('black', 381), ('back', 362), ('go', 333), ('one', 292), ('veri', 281), ('hagrid', 264), ('like', 253), ('around', 246), ('snape', 245), ('see', 244), ('get', 241), ('could', 231), ('got', 223)]\n",
      "[('harri', 2045), ('said', 1476), ('ron', 791), ('hermion', 663), ('look', 557), ('lupin', 407), ('professor', 405), ('black', 381), ('back', 362), ('go', 333), ('one', 292), ('veri', 281), ('hagrid', 264), ('like', 253), ('around', 246), ('snape', 245), ('see', 244), ('get', 241), ('could', 231), ('got', 223)]\n",
      "[('harri', 3166), ('said', 2638), ('look', 1102), ('ron', 1044), ('hermion', 850), ('back', 602), ('dumbledor', 546), ('go', 530), ('one', 504), ('like', 490), ('around', 489), ('veri', 467), ('could', 454), ('got', 419), ('weasley', 417), ('though', 417), ('would', 409), ('eye', 405), ('know', 402), ('get', 384)]\n",
      "[('harri', 3166), ('said', 2638), ('look', 1102), ('ron', 1044), ('hermion', 850), ('back', 602), ('dumbledor', 546), ('go', 530), ('one', 504), ('like', 490), ('around', 489), ('veri', 467), ('could', 454), ('got', 419), ('weasley', 417), ('though', 417), ('would', 409), ('eye', 405), ('know', 402), ('get', 384)]\n",
      "[('harri', 3166), ('said', 2638), ('look', 1102), ('ron', 1044), ('hermion', 850), ('back', 602), ('dumbledor', 546), ('go', 530), ('one', 504), ('like', 490), ('around', 489), ('veri', 467), ('could', 454), ('got', 419), ('weasley', 417), ('though', 417), ('would', 409), ('eye', 405), ('know', 402), ('get', 384)]\n",
      "[('harri', 3166), ('said', 2638), ('look', 1102), ('ron', 1044), ('hermion', 850), ('back', 602), ('dumbledor', 546), ('go', 530), ('one', 504), ('like', 490), ('around', 489), ('veri', 467), ('could', 454), ('got', 419), ('weasley', 417), ('though', 417), ('would', 409), ('eye', 405), ('know', 402), ('get', 384)]\n"
     ]
    }
   ],
   "source": [
    "for t1 in books_df['normalizedTokens']:\n",
    "          for t2 in books_df['normalizedTokens']:\n",
    "            print(getOverlap(t1,t2)[:20])"
   ]
  },
  {
   "cell_type": "code",
   "execution_count": 105,
   "metadata": {},
   "outputs": [
    {
     "data": {
      "text/plain": [
       "[('harri', 1323),\n",
       " ('said', 794),\n",
       " ('ron', 425),\n",
       " ('look', 398),\n",
       " ('hagrid', 357),\n",
       " ('hermion', 265),\n",
       " ('one', 263),\n",
       " ('back', 261),\n",
       " ('go', 258),\n",
       " ('get', 231),\n",
       " ('like', 211),\n",
       " ('know', 211),\n",
       " ('got', 206),\n",
       " ('could', 198),\n",
       " ('see', 183),\n",
       " ('veri', 172),\n",
       " ('snape', 168),\n",
       " ('tri', 167),\n",
       " ('professor', 167),\n",
       " ('dumbledor', 151),\n",
       " ('think', 146),\n",
       " ('around', 141),\n",
       " ('time', 134),\n",
       " ('dudley', 134),\n",
       " ('want', 134),\n",
       " ('say', 127),\n",
       " ('come', 127),\n",
       " ('never', 126),\n",
       " ('uncl', 122),\n",
       " ('right', 121),\n",
       " ('door', 121),\n",
       " ('even', 120),\n",
       " ('someth', 120),\n",
       " ('head', 120),\n",
       " ('yeh', 120),\n",
       " ('malfoy', 120),\n",
       " ('eye', 119),\n",
       " ('nevill', 116),\n",
       " ('turn', 115),\n",
       " ('hand', 113),\n",
       " ('vernon', 111),\n",
       " ('first', 110),\n",
       " ('face', 110),\n",
       " ('onli', 110),\n",
       " ('potter', 108),\n",
       " ('would', 108),\n",
       " ('well', 106),\n",
       " ('thing', 103),\n",
       " ('dursley', 102),\n",
       " ('way', 101),\n",
       " ('ask', 101),\n",
       " ('boy', 100),\n",
       " ('befor', 99),\n",
       " ('thought', 98),\n",
       " ('two', 98),\n",
       " ('peopl', 97),\n",
       " ('seem', 97),\n",
       " ('next', 95),\n",
       " ('told', 93),\n",
       " ('mcgonagal', 93),\n",
       " ('gryffindor', 93),\n",
       " ('point', 92),\n",
       " ('still', 92),\n",
       " ('room', 90),\n",
       " ('tell', 87),\n",
       " ('though', 86),\n",
       " ('good', 85),\n",
       " ('hous', 84),\n",
       " ('last', 83),\n",
       " ('stone', 82),\n",
       " ('left', 82),\n",
       " ('becaus', 81),\n",
       " ('take', 81),\n",
       " ('year', 80),\n",
       " ('sudden', 79),\n",
       " ('ter', 78),\n",
       " ('stop', 76),\n",
       " ('us', 76),\n",
       " ('heard', 75),\n",
       " ('came', 75),\n",
       " ('start', 75),\n",
       " ('let', 75),\n",
       " ('open', 75),\n",
       " ('pull', 74),\n",
       " ('make', 74),\n",
       " ('great', 73),\n",
       " ('wizard', 73),\n",
       " ('much', 73),\n",
       " ('long', 73),\n",
       " ('behind', 73),\n",
       " ('bit', 72),\n",
       " ('walk', 72),\n",
       " ('onc', 72),\n",
       " ('wand', 72),\n",
       " ('toward', 71),\n",
       " ('oh', 71),\n",
       " ('dark', 71),\n",
       " ('realli', 71),\n",
       " ('went', 70),\n",
       " ('hogwart', 69),\n",
       " ('found', 69),\n",
       " ('littl', 69),\n",
       " ('day', 69),\n",
       " ('yes', 69),\n",
       " ('away', 68),\n",
       " ('whi', 68),\n",
       " ('school', 67),\n",
       " ('call', 67),\n",
       " ('keep', 67),\n",
       " ('book', 66),\n",
       " ('aunt', 66),\n",
       " ('made', 66),\n",
       " ('ani', 65),\n",
       " ('put', 65),\n",
       " ('voic', 65),\n",
       " ('find', 65),\n",
       " ('knew', 64),\n",
       " ('owl', 64),\n",
       " ('anyth', 63),\n",
       " ('must', 63),\n",
       " ('stare', 63),\n",
       " ('cloak', 63),\n",
       " ('saw', 63),\n",
       " ('letter', 63),\n",
       " ('three', 63),\n",
       " ('stand', 61),\n",
       " ('slytherin', 61),\n",
       " ('took', 60),\n",
       " ('wood', 60),\n",
       " ('yer', 60),\n",
       " ('everyon', 59),\n",
       " ('weasley', 59),\n",
       " ('watch', 58),\n",
       " ('insid', 58),\n",
       " ('second', 57),\n",
       " ('old', 57),\n",
       " ('ever', 57),\n",
       " ('quidditch', 57),\n",
       " ('lot', 56),\n",
       " ('move', 56),\n",
       " ('magic', 56),\n",
       " ('noth', 55),\n",
       " ('might', 55),\n",
       " ('petunia', 55),\n",
       " ('mind', 54),\n",
       " ('filch', 54),\n",
       " ('near', 53),\n",
       " ('seen', 53),\n",
       " ('wall', 53),\n",
       " ('everi', 53),\n",
       " ('end', 53),\n",
       " ('anoth', 52),\n",
       " ('floor', 52),\n",
       " ('front', 52),\n",
       " ('quick', 52),\n",
       " ('black', 52),\n",
       " ('hard', 51),\n",
       " ('larg', 51),\n",
       " ('feet', 51),\n",
       " ('tabl', 51),\n",
       " ('use', 50),\n",
       " ('name', 50),\n",
       " ('night', 50),\n",
       " ('follow', 50),\n",
       " ('smile', 49),\n",
       " ('gone', 49),\n",
       " ('happen', 49),\n",
       " ('rememb', 49),\n",
       " ('hall', 49),\n",
       " ('felt', 49),\n",
       " ('whisper', 48),\n",
       " ('ground', 48),\n",
       " ('feel', 48),\n",
       " ('dragon', 48),\n",
       " ('enough', 47),\n",
       " ('cours', 47),\n",
       " ('broom', 47),\n",
       " ('notic', 46),\n",
       " ('read', 46),\n",
       " ('fell', 46),\n",
       " ('air', 46),\n",
       " ('talk', 46),\n",
       " ('give', 46),\n",
       " ('work', 45),\n",
       " ('mirror', 45),\n",
       " ('sat', 45),\n",
       " ('sure', 45),\n",
       " ('suppos', 44),\n",
       " ('almost', 44),\n",
       " ('bed', 44),\n",
       " ('show', 44),\n",
       " ('moment', 44),\n",
       " ('arm', 44),\n",
       " ('high', 43),\n",
       " ('past', 43),\n",
       " ('later', 43),\n",
       " ('reach', 43),\n",
       " ('done', 43),\n",
       " ('hat', 43),\n",
       " ('word', 42),\n",
       " ('wait', 42),\n",
       " ('need', 42),\n",
       " ('leav', 42),\n",
       " ('without', 41),\n",
       " ('minut', 41),\n",
       " ('alway', 41),\n",
       " ('sort', 41),\n",
       " ('mean', 40),\n",
       " ('hope', 40),\n",
       " ('wonder', 40),\n",
       " ('train', 40),\n",
       " ('hold', 39),\n",
       " ('window', 39),\n",
       " ('better', 39),\n",
       " ('hair', 39),\n",
       " ('fire', 39),\n",
       " ('perci', 39),\n",
       " ('new', 38),\n",
       " ('anyon', 38),\n",
       " ('across', 38),\n",
       " ('caught', 38),\n",
       " ('muggl', 38),\n",
       " ('hundr', 38),\n",
       " ('sound', 38),\n",
       " ('step', 38),\n",
       " ('onto', 38),\n",
       " ('alreadi', 38),\n",
       " ('kept', 38),\n",
       " ('gave', 37),\n",
       " ('shout', 37),\n",
       " ('leg', 37),\n",
       " ('pass', 37),\n",
       " ('stood', 37),\n",
       " ('place', 37),\n",
       " ('nose', 37),\n",
       " ('life', 37),\n",
       " ('pleas', 37),\n",
       " ('troll', 37),\n",
       " ('man', 36),\n",
       " ('els', 36),\n",
       " ('help', 36),\n",
       " ('quit', 36),\n",
       " ('glass', 36),\n",
       " ('madam', 36),\n",
       " ('kill', 36),\n",
       " ('famili', 36),\n",
       " ('play', 36),\n",
       " ('light', 35),\n",
       " ('knock', 35),\n",
       " ('week', 35),\n",
       " ('full', 35),\n",
       " ('stay', 35),\n",
       " ('side', 35),\n",
       " ('corridor', 35),\n",
       " ('live', 34),\n",
       " ('outsid', 34),\n",
       " ('sit', 34),\n",
       " ('care', 34),\n",
       " ('drop', 34),\n",
       " ('voldemort', 34),\n",
       " ('mother', 34),\n",
       " ('top', 34),\n",
       " ('forest', 34),\n",
       " ('fred', 34),\n",
       " ('four', 33),\n",
       " ('whole', 33),\n",
       " ('best', 33),\n",
       " ('forward', 33),\n",
       " ('father', 33),\n",
       " ('bad', 33),\n",
       " ('hear', 33),\n",
       " ('broomstick', 33),\n",
       " ('team', 33),\n",
       " ('peev', 33),\n",
       " ('small', 32),\n",
       " ('morn', 32),\n",
       " ('five', 32),\n",
       " ('loud', 32),\n",
       " ('clear', 32),\n",
       " ('yet', 32),\n",
       " ('run', 32),\n",
       " ('twin', 32),\n",
       " ('half', 31),\n",
       " ('hurri', 31),\n",
       " ('someon', 31),\n",
       " ('die', 31),\n",
       " ('along', 31),\n",
       " ('note', 31),\n",
       " ('white', 31),\n",
       " ('cat', 30),\n",
       " ('sorri', 30),\n",
       " ('set', 30),\n",
       " ('silver', 30),\n",
       " ('dog', 30),\n",
       " ('ten', 30),\n",
       " ('friend', 30),\n",
       " ('lost', 30),\n",
       " ('georg', 30),\n",
       " ('tree', 30),\n",
       " ('usual', 29),\n",
       " ('everyth', 29),\n",
       " ('realiz', 29),\n",
       " ('learn', 29),\n",
       " ('heart', 29),\n",
       " ('robe', 29),\n",
       " ('mutter', 29),\n",
       " ('cold', 29),\n",
       " ('believ', 29),\n",
       " ('gold', 29),\n",
       " ('teacher', 29),\n",
       " ('empti', 29),\n",
       " ('fer', 29),\n",
       " ('big', 28),\n",
       " ('green', 28),\n",
       " ('class', 28),\n",
       " ('anyway', 28),\n",
       " ('gringott', 28),\n",
       " ('expect', 27),\n",
       " ('strang', 27),\n",
       " ('funni', 27),\n",
       " ('close', 27),\n",
       " ('snap', 27),\n",
       " ('cri', 27),\n",
       " ('round', 27),\n",
       " ('red', 27),\n",
       " ('taken', 27),\n",
       " ('breath', 27),\n",
       " ('cheer', 27),\n",
       " ('mani', 27),\n",
       " ('sight', 26),\n",
       " ('sir', 26),\n",
       " ('catch', 26),\n",
       " ('pocket', 26),\n",
       " ('abl', 26),\n",
       " ('gasp', 26),\n",
       " ('mouth', 26),\n",
       " ('quiet', 26),\n",
       " ('rest', 26),\n",
       " ('speak', 26),\n",
       " ('listen', 26),\n",
       " ('match', 26),\n",
       " ('librari', 25),\n",
       " ('thank', 25),\n",
       " ('corner', 25),\n",
       " ('differ', 25),\n",
       " ('straight', 25),\n",
       " ('answer', 25),\n",
       " ('jump', 25),\n",
       " ('seat', 25),\n",
       " ('shut', 25),\n",
       " ('student', 25),\n",
       " ('platform', 25),\n",
       " ('granger', 25),\n",
       " ('dead', 24),\n",
       " ('worri', 24),\n",
       " ('nice', 24),\n",
       " ('carri', 24),\n",
       " ('nervous', 24),\n",
       " ('horribl', 24),\n",
       " ('world', 24),\n",
       " ('nois', 24),\n",
       " ('troubl', 24),\n",
       " ('safe', 24),\n",
       " ('shop', 24),\n",
       " ('thousand', 24),\n",
       " ('goyl', 24),\n",
       " ('fluffi', 24),\n",
       " ('sinc', 23),\n",
       " ('street', 23),\n",
       " ('except', 23),\n",
       " ('yell', 23),\n",
       " ('spot', 23),\n",
       " ('final', 23),\n",
       " ('fli', 23),\n",
       " ('cup', 23),\n",
       " ('famous', 23),\n",
       " ('giant', 23),\n",
       " ('ball', 23),\n",
       " ('parent', 23),\n",
       " ('began', 23),\n",
       " ('laugh', 23),\n",
       " ('either', 23),\n",
       " ('rais', 23),\n",
       " ('manag', 23),\n",
       " ('pain', 23),\n",
       " ('hang', 23),\n",
       " ('send', 23),\n",
       " ('charli', 23),\n",
       " ('drive', 22),\n",
       " ('neck', 22),\n",
       " ('reason', 22),\n",
       " ('scream', 22),\n",
       " ('miss', 22),\n",
       " ('car', 22),\n",
       " ('wear', 22),\n",
       " ('chang', 22),\n",
       " ('far', 22),\n",
       " ('common', 22),\n",
       " ('rather', 22),\n",
       " ('exact', 22),\n",
       " ('doe', 22),\n",
       " ('roll', 22),\n",
       " ('hour', 22),\n",
       " ('game', 22),\n",
       " ('idea', 22),\n",
       " ('crowd', 22),\n",
       " ('ear', 22),\n",
       " ('lie', 22),\n",
       " ('touch', 22),\n",
       " ('key', 22),\n",
       " ('potion', 22),\n",
       " ('pile', 22),\n",
       " ('tower', 22),\n",
       " ('hufflepuff', 22),\n",
       " ('fang', 22),\n",
       " ('guard', 22),\n",
       " ('forget', 22),\n",
       " ('blood', 22),\n",
       " ('witch', 21),\n",
       " ('pick', 21),\n",
       " ('shake', 21),\n",
       " ('sleep', 21),\n",
       " ('bright', 21),\n",
       " ('held', 21),\n",
       " ('power', 21),\n",
       " ('shoulder', 21),\n",
       " ('yeah', 21),\n",
       " ('meet', 21),\n",
       " ('fat', 21),\n",
       " ('question', 21),\n",
       " ('wave', 21),\n",
       " ('push', 21),\n",
       " ('pale', 21),\n",
       " ('interest', 21),\n",
       " ('spell', 21),\n",
       " ('seven', 21),\n",
       " ('cauldron', 21),\n",
       " ('crabb', 21),\n",
       " ('castl', 21),\n",
       " ('invis', 21),\n",
       " ('flitwick', 21),\n",
       " ('bludger', 21),\n",
       " ('christma', 21),\n",
       " ('sign', 20),\n",
       " ('stupid', 20),\n",
       " ('dear', 20),\n",
       " ('pair', 20),\n",
       " ('asleep', 20),\n",
       " ('busi', 20),\n",
       " ('surpris', 20),\n",
       " ('huge', 20),\n",
       " ('fast', 20),\n",
       " ('slowli', 20),\n",
       " ('hate', 20),\n",
       " ('lock', 20),\n",
       " ('ceil', 20),\n",
       " ('line', 20),\n",
       " ('field', 20),\n",
       " ('ghost', 20),\n",
       " ('break', 20),\n",
       " ('number', 19),\n",
       " ('met', 19),\n",
       " ('arriv', 19),\n",
       " ('explain', 19),\n",
       " ('mayb', 19),\n",
       " ('wrong', 19),\n",
       " ('spoke', 19),\n",
       " ('lose', 19),\n",
       " ('furious', 19),\n",
       " ('alon', 19),\n",
       " ('warn', 19),\n",
       " ('given', 19),\n",
       " ('somewher', 19),\n",
       " ('wish', 19),\n",
       " ('snake', 19),\n",
       " ('ran', 19),\n",
       " ('stick', 19),\n",
       " ('eat', 19),\n",
       " ('curs', 19),\n",
       " ('studi', 19),\n",
       " ('brother', 19),\n",
       " ('seamus', 19),\n",
       " ('quaffl', 19),\n",
       " ('sorcer', 18),\n",
       " ('direct', 18),\n",
       " ('perhap', 18),\n",
       " ('er', 18),\n",
       " ('shock', 18),\n",
       " ('dare', 18),\n",
       " ('age', 18),\n",
       " ('woman', 18),\n",
       " ('shook', 18),\n",
       " ('bottl', 18),\n",
       " ('cupboard', 18),\n",
       " ('grab', 18),\n",
       " ('money', 18),\n",
       " ('mad', 18),\n",
       " ('climb', 18),\n",
       " ('brought', 18),\n",
       " ('hut', 18),\n",
       " ('girl', 18),\n",
       " ('lesson', 18),\n",
       " ('snitch', 18),\n",
       " ('chapter', 17),\n",
       " ('excit', 17),\n",
       " ('obvious', 17),\n",
       " ('seiz', 17),\n",
       " ('finish', 17),\n",
       " ('home', 17),\n",
       " ('lay', 17),\n",
       " ('threw', 17),\n",
       " ('lucki', 17),\n",
       " ('allow', 17),\n",
       " ('wild', 17),\n",
       " ('scar', 17),\n",
       " ('join', 17),\n",
       " ('kitchen', 17),\n",
       " ('dream', 17),\n",
       " ('crash', 17),\n",
       " ('lean', 17),\n",
       " ('piec', 17),\n",
       " ('packag', 17),\n",
       " ('boat', 17),\n",
       " ('nine', 17),\n",
       " ('clap', 17),\n",
       " ('toad', 17),\n",
       " ('goblin', 17),\n",
       " ('card', 17),\n",
       " ('hurt', 17),\n",
       " ('sent', 17),\n",
       " ('privet', 16),\n",
       " ('possibl', 16),\n",
       " ('finger', 16),\n",
       " ('togeth', 16),\n",
       " ('clock', 16),\n",
       " ('tonight', 16),\n",
       " ('late', 16),\n",
       " ('silent', 16),\n",
       " ('twelv', 16),\n",
       " ('bet', 16),\n",
       " ('understand', 16),\n",
       " ('readi', 16),\n",
       " ('abov', 16),\n",
       " ('knee', 16),\n",
       " ('smell', 16),\n",
       " ('hit', 16),\n",
       " ('cross', 16),\n",
       " ('practic', 16),\n",
       " ('dad', 16),\n",
       " ('frog', 16),\n",
       " ('becam', 16),\n",
       " ('prefect', 16),\n",
       " ('portrait', 16),\n",
       " ('ahead', 16),\n",
       " ('save', 16),\n",
       " ('twice', 15),\n",
       " ('also', 15),\n",
       " ('secret', 15),\n",
       " ('edg', 15),\n",
       " ('howev', 15),\n",
       " ('buy', 15),\n",
       " ('forgotten', 15),\n",
       " ('afternoon', 15),\n",
       " ('today', 15),\n",
       " ('angri', 15),\n",
       " ('lamp', 15),\n",
       " ('eleven', 15),\n",
       " ('silenc', 15),\n",
       " ('land', 15),\n",
       " ('egg', 15),\n",
       " ('thick', 15),\n",
       " ('danger', 15),\n",
       " ('remind', 15),\n",
       " ('forc', 15),\n",
       " ('terribl', 15),\n",
       " ('tap', 15),\n",
       " ('burst', 15),\n",
       " ('fight', 15),\n",
       " ('deep', 15),\n",
       " ('pack', 15),\n",
       " ('drink', 15),\n",
       " ('third', 15),\n",
       " ('lead', 15),\n",
       " ('chamber', 15),\n",
       " ('win', 15),\n",
       " ('stori', 14),\n",
       " ('sister', 14),\n",
       " ('sky', 14),\n",
       " ('bag', 14),\n",
       " ('tini', 14),\n",
       " ('imagin', 14),\n",
       " ('odd', 14),\n",
       " ('tea', 14),\n",
       " ('stuff', 14),\n",
       " ('decid', 14),\n",
       " ('peer', 14),\n",
       " ('appear', 14),\n",
       " ('tail', 14),\n",
       " ('slip', 14),\n",
       " ('tight', 14),\n",
       " ('disappear', 14),\n",
       " ('pomfrey', 14),\n",
       " ('nod', 14),\n",
       " ('low', 14),\n",
       " ('bent', 14),\n",
       " ('swung', 14),\n",
       " ('rule', 14),\n",
       " ('paper', 14),\n",
       " ('matter', 14),\n",
       " ('chocol', 14),\n",
       " ('bodi', 14),\n",
       " ('wors', 14),\n",
       " ('leapt', 14),\n",
       " ('coat', 14),\n",
       " ('mail', 14),\n",
       " ('nearer', 14),\n",
       " ('flew', 14),\n",
       " ('nimbus', 14),\n",
       " ('wing', 14),\n",
       " ('reflect', 14),\n",
       " ('staircas', 14),\n",
       " ('seeker', 14),\n",
       " ('flint', 14),\n",
       " ('exam', 14),\n",
       " ('sever', 13),\n",
       " ('fact', 13),\n",
       " ('soon', 13),\n",
       " ('chair', 13),\n",
       " ('throw', 13),\n",
       " ('jerk', 13),\n",
       " ('import', 13),\n",
       " ('wide', 13),\n",
       " ('happi', 13),\n",
       " ('mark', 13),\n",
       " ('grin', 13),\n",
       " ('apart', 13),\n",
       " ('nasti', 13),\n",
       " ('kind', 13),\n",
       " ('beard', 13),\n",
       " ('true', 13),\n",
       " ('hide', 13),\n",
       " ('london', 13),\n",
       " ('ago', 13),\n",
       " ('pink', 13),\n",
       " ('case', 13),\n",
       " ('becom', 13),\n",
       " ('fall', 13),\n",
       " ('wander', 13),\n",
       " ('cake', 13),\n",
       " ('mistak', 13),\n",
       " ('speed', 13),\n",
       " ('em', 13),\n",
       " ('cart', 13),\n",
       " ('hole', 13),\n",
       " ('row', 13),\n",
       " ('free', 13),\n",
       " ('inch', 13),\n",
       " ('ad', 13),\n",
       " ('hedwig', 13),\n",
       " ('trunk', 13),\n",
       " ('scabber', 13),\n",
       " ('classroom', 13),\n",
       " ('fifti', 13),\n",
       " ('normal', 12),\n",
       " ('fear', 12),\n",
       " ('suggest', 12),\n",
       " ('mention', 12),\n",
       " ('middl', 12),\n",
       " ('instead', 12),\n",
       " ('upstair', 12),\n",
       " ('tall', 12),\n",
       " ('albus', 12),\n",
       " ('proper', 12),\n",
       " ('real', 12),\n",
       " ('trembl', 12),\n",
       " ('somehow', 12),\n",
       " ('kick', 12),\n",
       " ('size', 12),\n",
       " ('forehead', 12),\n",
       " ('birthday', 12),\n",
       " ('enter', 12),\n",
       " ('present', 12),\n",
       " ('easi', 12),\n",
       " ('wind', 12),\n",
       " ('flash', 12),\n",
       " ('closer', 12),\n",
       " ('flat', 12),\n",
       " ('crack', 12),\n",
       " ('heavi', 12),\n",
       " ('rock', 12),\n",
       " ('eh', 12),\n",
       " ('chanc', 12),\n",
       " ('box', 12),\n",
       " ('scare', 12),\n",
       " ('vault', 12),\n",
       " ('cover', 12),\n",
       " ('feather', 12),\n",
       " ('hung', 12),\n",
       " ('themselv', 12),\n",
       " ('path', 12),\n",
       " ('hooch', 12),\n",
       " ('norri', 12),\n",
       " ('dive', 12),\n",
       " ('bin', 12),\n",
       " ('chaser', 12),\n",
       " ('chess', 12),\n",
       " ('press', 11),\n",
       " ('may', 11),\n",
       " ('written', 11),\n",
       " ('young', 11),\n",
       " ('perfect', 11),\n",
       " ('spent', 11),\n",
       " ('pretend', 11),\n",
       " ('gray', 11),\n",
       " ('none', 11),\n",
       " ('probabl', 11),\n",
       " ('swoop', 11),\n",
       " ('clutch', 11),\n",
       " ('lip', 11),\n",
       " ('crept', 11),\n",
       " ('purpl', 11),\n",
       " ('blue', 11),\n",
       " ('sharp', 11),\n",
       " ('sweet', 11),\n",
       " ('shot', 11),\n",
       " ('broke', 11),\n",
       " ('roar', 11),\n",
       " ('hiss', 11),\n",
       " ('wake', 11),\n",
       " ('rose', 11),\n",
       " ('hidden', 11),\n",
       " ('race', 11),\n",
       " ('difficult', 11),\n",
       " ('visit', 11),\n",
       " ('keeper', 11),\n",
       " ('food', 11),\n",
       " ('glad', 11),\n",
       " ('tear', 11),\n",
       " ('curious', 11),\n",
       " ('foot', 11),\n",
       " ('sigh', 11),\n",
       " ('six', 11),\n",
       " ('earth', 11),\n",
       " ('storm', 11),\n",
       " ('agre', 11),\n",
       " ('steal', 11),\n",
       " ('ah', 11),\n",
       " ('growl', 11),\n",
       " ('quill', 11),\n",
       " ('fade', 11),\n",
       " ('expel', 11),\n",
       " ('station', 11),\n",
       " ('twist', 11),\n",
       " ('flame', 11),\n",
       " ('goe', 11),\n",
       " ('desper', 11),\n",
       " ('ravenclaw', 11),\n",
       " ('player', 11),\n",
       " ('dean', 11),\n",
       " ('plant', 11),\n",
       " ('centaur', 11),\n",
       " ('thin', 10),\n",
       " ('son', 10),\n",
       " ('woke', 10),\n",
       " ('flutter', 10),\n",
       " ('blink', 10),\n",
       " ('stretch', 10),\n",
       " ('singl', 10),\n",
       " ('although', 10),\n",
       " ('whether', 10),\n",
       " ('slam', 10),\n",
       " ('broken', 10),\n",
       " ('chuckl', 10),\n",
       " ('glanc', 10),\n",
       " ('confus', 10),\n",
       " ('bow', 10),\n",
       " ('bring', 10),\n",
       " ('less', 10),\n",
       " ('known', 10),\n",
       " ('trust', 10),\n",
       " ('babi', 10),\n",
       " ('howl', 10),\n",
       " ('luck', 10),\n",
       " ('stair', 10),\n",
       " ('unless', 10),\n",
       " ('plate', 10),\n",
       " ('horror', 10),\n",
       " ('ladi', 10),\n",
       " ('sweater', 10),\n",
       " ('complain', 10),\n",
       " ('bought', 10),\n",
       " ('entranc', 10),\n",
       " ('death', 10),\n",
       " ('dure', 10),\n",
       " ('rush', 10),\n",
       " ('nobodi', 10),\n",
       " ('breakfast', 10),\n",
       " ('joke', 10),\n",
       " ('tomorrow', 10),\n",
       " ('whistl', 10),\n",
       " ('shadow', 10),\n",
       " ('shriek', 10),\n",
       " ('ta', 10),\n",
       " ('outta', 10),\n",
       " ('job', 10),\n",
       " ('load', 10),\n",
       " ('umbrella', 10),\n",
       " ('barrier', 10),\n",
       " ('leaki', 10),\n",
       " ('soft', 10),\n",
       " ('stool', 10),\n",
       " ('drag', 10),\n",
       " ('charm', 10),\n",
       " ('lee', 10),\n",
       " ('compart', 10),\n",
       " ('draco', 10),\n",
       " ('bloodi', 10),\n",
       " ('jordan', 10),\n",
       " ('worth', 9),\n",
       " ('proud', 9),\n",
       " ('cloth', 9),\n",
       " ('nerv', 9),\n",
       " ('grunt', 9),\n",
       " ('complet', 9),\n",
       " ('stranger', 9),\n",
       " ('whatev', 9),\n",
       " ('rattl', 9),\n",
       " ('star', 9),\n",
       " ('fix', 9),\n",
       " ('quiver', 9),\n",
       " ('midnight', 9),\n",
       " ('twitch', 9),\n",
       " ('least', 9),\n",
       " ('click', 9),\n",
       " ('feast', 9),\n",
       " ('person', 9),\n",
       " ('calm', 9),\n",
       " ('neither', 9),\n",
       " ('golden', 9),\n",
       " ('cut', 9),\n",
       " ('sob', 9),\n",
       " ('wipe', 9),\n",
       " ('vanish', 9),\n",
       " ('televis', 9),\n",
       " ('pig', 9),\n",
       " ('rat', 9),\n",
       " ('short', 9),\n",
       " ('brown', 9),\n",
       " ('relief', 9),\n",
       " ('ice', 9),\n",
       " ('moan', 9),\n",
       " ('slid', 9),\n",
       " ('sometim', 9),\n",
       " ('holiday', 9),\n",
       " ('toilet', 9),\n",
       " ('water', 9),\n",
       " ('bill', 9),\n",
       " ('parchment', 9),\n",
       " ('meant', 9),\n",
       " ('share', 9),\n",
       " ('slight', 9),\n",
       " ('drew', 9),\n",
       " ('fill', 9),\n",
       " ('sausag', 9),\n",
       " ('jus', 9),\n",
       " ('eager', 9),\n",
       " ('reckon', 9),\n",
       " ('teeth', 9),\n",
       " ('inde', 9),\n",
       " ('afraid', 9),\n",
       " ('halloween', 9),\n",
       " ('teach', 9),\n",
       " ('diagon', 9),\n",
       " ('protect', 9),\n",
       " ('stuck', 9),\n",
       " ('art', 9),\n",
       " ('brilliant', 9),\n",
       " ('marbl', 9),\n",
       " ('narrow', 9),\n",
       " ('passageway', 9),\n",
       " ('pin', 9),\n",
       " ('excus', 9),\n",
       " ('brave', 9),\n",
       " ('flavor', 9),\n",
       " ('footstep', 9),\n",
       " ('mountain', 9),\n",
       " ('dormitori', 9),\n",
       " ('baron', 9),\n",
       " ('dungeon', 9),\n",
       " ('branch', 9),\n",
       " ('figur', 9),\n",
       " ('love', 8),\n",
       " ('part', 8),\n",
       " ('mysteri', 8),\n",
       " ('dress', 8),\n",
       " ('coupl', 8),\n",
       " ('sped', 8),\n",
       " ('problem', 8),\n",
       " ('news', 8),\n",
       " ('flick', 8),\n",
       " ('certain', 8),\n",
       " ('swallow', 8),\n",
       " ('simpli', 8),\n",
       " ('poor', 8),\n",
       " ('special', 8),\n",
       " ('lit', 8),\n",
       " ('often', 8),\n",
       " ('bark', 8),\n",
       " ('count', 8),\n",
       " ('rip', 8),\n",
       " ('snarl', 8),\n",
       " ('summer', 8),\n",
       " ('poke', 8),\n",
       " ('ignor', 8),\n",
       " ('aliv', 8),\n",
       " ('board', 8),\n",
       " ('post', 8),\n",
       " ('amaz', 8),\n",
       " ('opposit', 8),\n",
       " ('damp', 8),\n",
       " ('halfway', 8),\n",
       " ('fun', 8),\n",
       " ('sea', 8),\n",
       " ('led', 8),\n",
       " ('wooden', 8),\n",
       " ('smoke', 8),\n",
       " ('twenti', 8),\n",
       " ('terrifi', 8),\n",
       " ('hot', 8),\n",
       " ('boil', 8),\n",
       " ('lower', 8),\n",
       " ('ordinari', 8),\n",
       " ('dunno', 8),\n",
       " ('human', 8),\n",
       " ('beam', 8),\n",
       " ('bottom', 8),\n",
       " ('truth', 8),\n",
       " ('delight', 8),\n",
       " ('nostril', 8),\n",
       " ('king', 8),\n",
       " ('march', 8),\n",
       " ('float', 8),\n",
       " ('grass', 8),\n",
       " ('award', 8),\n",
       " ('return', 8),\n",
       " ('longbottom', 8),\n",
       " ('block', 8),\n",
       " ('struggl', 8),\n",
       " ('knight', 8),\n",
       " ('scholast', 7),\n",
       " ('write', 7),\n",
       " ('wizardri', 7),\n",
       " ('mustach', 7),\n",
       " ('road', 7),\n",
       " ('order', 7),\n",
       " ('harder', 7),\n",
       " ('angrili', 7),\n",
       " ('unusu', 7),\n",
       " ('root', 7),\n",
       " ('yesterday', 7),\n",
       " ('armchair', 7),\n",
       " ('sharpli', 7),\n",
       " ('awak', 7),\n",
       " ('pop', 7),\n",
       " ('boot', 7),\n",
       " ('shape', 7),\n",
       " ('bound', 7),\n",
       " ('gentl', 7),\n",
       " ('fine', 7),\n",
       " ('lemon', 7),\n",
       " ('anxious', 7),\n",
       " ('choos', 7),\n",
       " ('faint', 7),\n",
       " ('bundl', 7),\n",
       " ('blanket', 7),\n",
       " ('bolt', 7),\n",
       " ('sad', 7),\n",
       " ('grip', 7),\n",
       " ('shall', 7),\n",
       " ('murmur', 7),\n",
       " ('neat', 7),\n",
       " ('burn', 7),\n",
       " ('zoo', 7),\n",
       " ('bang', 7),\n",
       " ('fit', 7),\n",
       " ('saturday', 7),\n",
       " ('wrap', 7),\n",
       " ('strong', 7),\n",
       " ('collaps', 7),\n",
       " ('miser', 7),\n",
       " ('forbidden', 7),\n",
       " ('trip', 7),\n",
       " ('argu', 7),\n",
       " ('envelop', 7),\n",
       " ('beat', 7),\n",
       " ('wrist', 7),\n",
       " ('clean', 7),\n",
       " ('doorway', 7),\n",
       " ('easili', 7),\n",
       " ('strode', 7),\n",
       " ...]"
      ]
     },
     "execution_count": 105,
     "metadata": {},
     "output_type": "execute_result"
    }
   ],
   "source": [
    "getOverlap(books_df['normalizedTokens'][0], books_df['normalizedTokens'][1])"
   ]
  },
  {
   "cell_type": "code",
   "execution_count": 104,
   "metadata": {},
   "outputs": [
    {
     "data": {
      "text/plain": [
       "[('harri', 1323),\n",
       " ('said', 794),\n",
       " ('ron', 425),\n",
       " ('look', 398),\n",
       " ('hagrid', 357),\n",
       " ('hermion', 265),\n",
       " ('one', 263),\n",
       " ('back', 261),\n",
       " ('go', 258),\n",
       " ('get', 231),\n",
       " ('like', 211),\n",
       " ('know', 211),\n",
       " ('got', 206),\n",
       " ('could', 198),\n",
       " ('see', 183),\n",
       " ('veri', 172),\n",
       " ('snape', 168),\n",
       " ('tri', 167),\n",
       " ('professor', 167),\n",
       " ('dumbledor', 151),\n",
       " ('think', 146),\n",
       " ('around', 141),\n",
       " ('time', 134),\n",
       " ('dudley', 134),\n",
       " ('want', 134),\n",
       " ('say', 127),\n",
       " ('come', 127),\n",
       " ('never', 126),\n",
       " ('uncl', 122),\n",
       " ('right', 121),\n",
       " ('door', 121),\n",
       " ('even', 120),\n",
       " ('someth', 120),\n",
       " ('head', 120),\n",
       " ('yeh', 120),\n",
       " ('malfoy', 120),\n",
       " ('eye', 119),\n",
       " ('nevill', 116),\n",
       " ('turn', 115),\n",
       " ('hand', 113),\n",
       " ('vernon', 111),\n",
       " ('first', 110),\n",
       " ('face', 110),\n",
       " ('onli', 110),\n",
       " ('potter', 108),\n",
       " ('would', 108),\n",
       " ('well', 106),\n",
       " ('thing', 103),\n",
       " ('dursley', 102),\n",
       " ('way', 101),\n",
       " ('ask', 101),\n",
       " ('boy', 100),\n",
       " ('befor', 99),\n",
       " ('thought', 98),\n",
       " ('two', 98),\n",
       " ('peopl', 97),\n",
       " ('seem', 97),\n",
       " ('next', 95),\n",
       " ('told', 93),\n",
       " ('mcgonagal', 93),\n",
       " ('gryffindor', 93),\n",
       " ('point', 92),\n",
       " ('still', 92),\n",
       " ('room', 90),\n",
       " ('tell', 87),\n",
       " ('though', 86),\n",
       " ('good', 85),\n",
       " ('hous', 84),\n",
       " ('last', 83),\n",
       " ('stone', 82),\n",
       " ('left', 82),\n",
       " ('becaus', 81),\n",
       " ('take', 81),\n",
       " ('year', 80),\n",
       " ('sudden', 79),\n",
       " ('ter', 78),\n",
       " ('stop', 76),\n",
       " ('us', 76),\n",
       " ('heard', 75),\n",
       " ('came', 75),\n",
       " ('start', 75),\n",
       " ('let', 75),\n",
       " ('open', 75),\n",
       " ('pull', 74),\n",
       " ('make', 74),\n",
       " ('great', 73),\n",
       " ('wizard', 73),\n",
       " ('much', 73),\n",
       " ('long', 73),\n",
       " ('behind', 73),\n",
       " ('bit', 72),\n",
       " ('walk', 72),\n",
       " ('onc', 72),\n",
       " ('wand', 72),\n",
       " ('toward', 71),\n",
       " ('oh', 71),\n",
       " ('dark', 71),\n",
       " ('realli', 71),\n",
       " ('went', 70),\n",
       " ('hogwart', 69),\n",
       " ('found', 69),\n",
       " ('littl', 69),\n",
       " ('day', 69),\n",
       " ('yes', 69),\n",
       " ('away', 68),\n",
       " ('whi', 68),\n",
       " ('school', 67),\n",
       " ('call', 67),\n",
       " ('keep', 67),\n",
       " ('book', 66),\n",
       " ('aunt', 66),\n",
       " ('made', 66),\n",
       " ('ani', 65),\n",
       " ('put', 65),\n",
       " ('voic', 65),\n",
       " ('find', 65),\n",
       " ('knew', 64),\n",
       " ('owl', 64),\n",
       " ('anyth', 63),\n",
       " ('must', 63),\n",
       " ('stare', 63),\n",
       " ('cloak', 63),\n",
       " ('saw', 63),\n",
       " ('letter', 63),\n",
       " ('three', 63),\n",
       " ('stand', 61),\n",
       " ('slytherin', 61),\n",
       " ('took', 60),\n",
       " ('wood', 60),\n",
       " ('yer', 60),\n",
       " ('everyon', 59),\n",
       " ('weasley', 59),\n",
       " ('watch', 58),\n",
       " ('insid', 58),\n",
       " ('second', 57),\n",
       " ('old', 57),\n",
       " ('ever', 57),\n",
       " ('quidditch', 57),\n",
       " ('lot', 56),\n",
       " ('move', 56),\n",
       " ('magic', 56),\n",
       " ('noth', 55),\n",
       " ('might', 55),\n",
       " ('petunia', 55),\n",
       " ('mind', 54),\n",
       " ('filch', 54),\n",
       " ('near', 53),\n",
       " ('seen', 53),\n",
       " ('wall', 53),\n",
       " ('everi', 53),\n",
       " ('end', 53),\n",
       " ('anoth', 52),\n",
       " ('floor', 52),\n",
       " ('front', 52),\n",
       " ('quick', 52),\n",
       " ('black', 52),\n",
       " ('hard', 51),\n",
       " ('larg', 51),\n",
       " ('feet', 51),\n",
       " ('tabl', 51),\n",
       " ('use', 50),\n",
       " ('name', 50),\n",
       " ('night', 50),\n",
       " ('follow', 50),\n",
       " ('smile', 49),\n",
       " ('gone', 49),\n",
       " ('happen', 49),\n",
       " ('rememb', 49),\n",
       " ('hall', 49),\n",
       " ('felt', 49),\n",
       " ('whisper', 48),\n",
       " ('ground', 48),\n",
       " ('feel', 48),\n",
       " ('dragon', 48),\n",
       " ('enough', 47),\n",
       " ('cours', 47),\n",
       " ('broom', 47),\n",
       " ('notic', 46),\n",
       " ('read', 46),\n",
       " ('fell', 46),\n",
       " ('air', 46),\n",
       " ('talk', 46),\n",
       " ('give', 46),\n",
       " ('work', 45),\n",
       " ('mirror', 45),\n",
       " ('sat', 45),\n",
       " ('sure', 45),\n",
       " ('suppos', 44),\n",
       " ('almost', 44),\n",
       " ('bed', 44),\n",
       " ('show', 44),\n",
       " ('moment', 44),\n",
       " ('arm', 44),\n",
       " ('high', 43),\n",
       " ('past', 43),\n",
       " ('later', 43),\n",
       " ('reach', 43),\n",
       " ('done', 43),\n",
       " ('hat', 43),\n",
       " ('word', 42),\n",
       " ('wait', 42),\n",
       " ('need', 42),\n",
       " ('leav', 42),\n",
       " ('without', 41),\n",
       " ('minut', 41),\n",
       " ('alway', 41),\n",
       " ('sort', 41),\n",
       " ('mean', 40),\n",
       " ('hope', 40),\n",
       " ('wonder', 40),\n",
       " ('train', 40),\n",
       " ('hold', 39),\n",
       " ('window', 39),\n",
       " ('better', 39),\n",
       " ('hair', 39),\n",
       " ('fire', 39),\n",
       " ('perci', 39),\n",
       " ('new', 38),\n",
       " ('anyon', 38),\n",
       " ('across', 38),\n",
       " ('caught', 38),\n",
       " ('muggl', 38),\n",
       " ('hundr', 38),\n",
       " ('sound', 38),\n",
       " ('step', 38),\n",
       " ('onto', 38),\n",
       " ('alreadi', 38),\n",
       " ('kept', 38),\n",
       " ('gave', 37),\n",
       " ('shout', 37),\n",
       " ('leg', 37),\n",
       " ('pass', 37),\n",
       " ('stood', 37),\n",
       " ('place', 37),\n",
       " ('nose', 37),\n",
       " ('life', 37),\n",
       " ('pleas', 37),\n",
       " ('troll', 37),\n",
       " ('man', 36),\n",
       " ('els', 36),\n",
       " ('help', 36),\n",
       " ('quit', 36),\n",
       " ('glass', 36),\n",
       " ('madam', 36),\n",
       " ('kill', 36),\n",
       " ('famili', 36),\n",
       " ('play', 36),\n",
       " ('light', 35),\n",
       " ('knock', 35),\n",
       " ('week', 35),\n",
       " ('full', 35),\n",
       " ('stay', 35),\n",
       " ('side', 35),\n",
       " ('corridor', 35),\n",
       " ('live', 34),\n",
       " ('outsid', 34),\n",
       " ('sit', 34),\n",
       " ('care', 34),\n",
       " ('drop', 34),\n",
       " ('voldemort', 34),\n",
       " ('mother', 34),\n",
       " ('top', 34),\n",
       " ('forest', 34),\n",
       " ('fred', 34),\n",
       " ('four', 33),\n",
       " ('whole', 33),\n",
       " ('best', 33),\n",
       " ('forward', 33),\n",
       " ('father', 33),\n",
       " ('bad', 33),\n",
       " ('hear', 33),\n",
       " ('broomstick', 33),\n",
       " ('team', 33),\n",
       " ('peev', 33),\n",
       " ('small', 32),\n",
       " ('morn', 32),\n",
       " ('five', 32),\n",
       " ('loud', 32),\n",
       " ('clear', 32),\n",
       " ('yet', 32),\n",
       " ('run', 32),\n",
       " ('twin', 32),\n",
       " ('half', 31),\n",
       " ('hurri', 31),\n",
       " ('someon', 31),\n",
       " ('die', 31),\n",
       " ('along', 31),\n",
       " ('note', 31),\n",
       " ('white', 31),\n",
       " ('cat', 30),\n",
       " ('sorri', 30),\n",
       " ('set', 30),\n",
       " ('silver', 30),\n",
       " ('dog', 30),\n",
       " ('ten', 30),\n",
       " ('friend', 30),\n",
       " ('lost', 30),\n",
       " ('georg', 30),\n",
       " ('tree', 30),\n",
       " ('usual', 29),\n",
       " ('everyth', 29),\n",
       " ('realiz', 29),\n",
       " ('learn', 29),\n",
       " ('heart', 29),\n",
       " ('robe', 29),\n",
       " ('mutter', 29),\n",
       " ('cold', 29),\n",
       " ('believ', 29),\n",
       " ('gold', 29),\n",
       " ('teacher', 29),\n",
       " ('empti', 29),\n",
       " ('fer', 29),\n",
       " ('big', 28),\n",
       " ('green', 28),\n",
       " ('class', 28),\n",
       " ('anyway', 28),\n",
       " ('gringott', 28),\n",
       " ('expect', 27),\n",
       " ('strang', 27),\n",
       " ('funni', 27),\n",
       " ('close', 27),\n",
       " ('snap', 27),\n",
       " ('cri', 27),\n",
       " ('round', 27),\n",
       " ('red', 27),\n",
       " ('taken', 27),\n",
       " ('breath', 27),\n",
       " ('cheer', 27),\n",
       " ('mani', 27),\n",
       " ('sight', 26),\n",
       " ('sir', 26),\n",
       " ('catch', 26),\n",
       " ('pocket', 26),\n",
       " ('abl', 26),\n",
       " ('gasp', 26),\n",
       " ('mouth', 26),\n",
       " ('quiet', 26),\n",
       " ('rest', 26),\n",
       " ('speak', 26),\n",
       " ('listen', 26),\n",
       " ('match', 26),\n",
       " ('librari', 25),\n",
       " ('thank', 25),\n",
       " ('corner', 25),\n",
       " ('differ', 25),\n",
       " ('straight', 25),\n",
       " ('answer', 25),\n",
       " ('jump', 25),\n",
       " ('seat', 25),\n",
       " ('shut', 25),\n",
       " ('student', 25),\n",
       " ('unicorn', 25),\n",
       " ('platform', 25),\n",
       " ('granger', 25),\n",
       " ('norbert', 25),\n",
       " ('dead', 24),\n",
       " ('worri', 24),\n",
       " ('nice', 24),\n",
       " ('carri', 24),\n",
       " ('nervous', 24),\n",
       " ('horribl', 24),\n",
       " ('world', 24),\n",
       " ('nois', 24),\n",
       " ('troubl', 24),\n",
       " ('safe', 24),\n",
       " ('shop', 24),\n",
       " ('thousand', 24),\n",
       " ('goyl', 24),\n",
       " ('fluffi', 24),\n",
       " ('sinc', 23),\n",
       " ('street', 23),\n",
       " ('except', 23),\n",
       " ('yell', 23),\n",
       " ('spot', 23),\n",
       " ('final', 23),\n",
       " ('fli', 23),\n",
       " ('cup', 23),\n",
       " ('famous', 23),\n",
       " ('giant', 23),\n",
       " ('ball', 23),\n",
       " ('parent', 23),\n",
       " ('began', 23),\n",
       " ('laugh', 23),\n",
       " ('either', 23),\n",
       " ('rais', 23),\n",
       " ('manag', 23),\n",
       " ('pain', 23),\n",
       " ('hang', 23),\n",
       " ('send', 23),\n",
       " ('charli', 23),\n",
       " ('drive', 22),\n",
       " ('neck', 22),\n",
       " ('reason', 22),\n",
       " ('scream', 22),\n",
       " ('miss', 22),\n",
       " ('car', 22),\n",
       " ('wear', 22),\n",
       " ('chang', 22),\n",
       " ('far', 22),\n",
       " ('common', 22),\n",
       " ('rather', 22),\n",
       " ('exact', 22),\n",
       " ('doe', 22),\n",
       " ('roll', 22),\n",
       " ('hour', 22),\n",
       " ('game', 22),\n",
       " ('idea', 22),\n",
       " ('crowd', 22),\n",
       " ('ear', 22),\n",
       " ('lie', 22),\n",
       " ('touch', 22),\n",
       " ('key', 22),\n",
       " ('potion', 22),\n",
       " ('pile', 22),\n",
       " ('tower', 22),\n",
       " ('hufflepuff', 22),\n",
       " ('fang', 22),\n",
       " ('guard', 22),\n",
       " ('forget', 22),\n",
       " ('blood', 22),\n",
       " ('witch', 21),\n",
       " ('pick', 21),\n",
       " ('shake', 21),\n",
       " ('sleep', 21),\n",
       " ('bright', 21),\n",
       " ('held', 21),\n",
       " ('power', 21),\n",
       " ('shoulder', 21),\n",
       " ('yeah', 21),\n",
       " ('meet', 21),\n",
       " ('fat', 21),\n",
       " ('question', 21),\n",
       " ('wave', 21),\n",
       " ('push', 21),\n",
       " ('pale', 21),\n",
       " ('interest', 21),\n",
       " ('spell', 21),\n",
       " ('seven', 21),\n",
       " ('cauldron', 21),\n",
       " ('crabb', 21),\n",
       " ('castl', 21),\n",
       " ('invis', 21),\n",
       " ('flitwick', 21),\n",
       " ('bludger', 21),\n",
       " ('christma', 21),\n",
       " ('sign', 20),\n",
       " ('stupid', 20),\n",
       " ('dear', 20),\n",
       " ('pair', 20),\n",
       " ('asleep', 20),\n",
       " ('busi', 20),\n",
       " ('surpris', 20),\n",
       " ('huge', 20),\n",
       " ('fast', 20),\n",
       " ('slowli', 20),\n",
       " ('gotten', 20),\n",
       " ('hate', 20),\n",
       " ('lock', 20),\n",
       " ('ceil', 20),\n",
       " ('line', 20),\n",
       " ('field', 20),\n",
       " ('ghost', 20),\n",
       " ('break', 20),\n",
       " ('number', 19),\n",
       " ('met', 19),\n",
       " ('arriv', 19),\n",
       " ('explain', 19),\n",
       " ('mayb', 19),\n",
       " ('wrong', 19),\n",
       " ('spoke', 19),\n",
       " ('lose', 19),\n",
       " ('furious', 19),\n",
       " ('alon', 19),\n",
       " ('warn', 19),\n",
       " ('given', 19),\n",
       " ('somewher', 19),\n",
       " ('wish', 19),\n",
       " ('snake', 19),\n",
       " ('ran', 19),\n",
       " ('stick', 19),\n",
       " ('eat', 19),\n",
       " ('curs', 19),\n",
       " ('studi', 19),\n",
       " ('ollivand', 19),\n",
       " ('brother', 19),\n",
       " ('seamus', 19),\n",
       " ('quaffl', 19),\n",
       " ('sorcer', 18),\n",
       " ('direct', 18),\n",
       " ('perhap', 18),\n",
       " ('er', 18),\n",
       " ('shock', 18),\n",
       " ('dare', 18),\n",
       " ('age', 18),\n",
       " ('woman', 18),\n",
       " ('shook', 18),\n",
       " ('bottl', 18),\n",
       " ('cupboard', 18),\n",
       " ('grab', 18),\n",
       " ('money', 18),\n",
       " ('mad', 18),\n",
       " ('climb', 18),\n",
       " ('brought', 18),\n",
       " ('hut', 18),\n",
       " ('girl', 18),\n",
       " ('lesson', 18),\n",
       " ('snitch', 18),\n",
       " ('chapter', 17),\n",
       " ('excit', 17),\n",
       " ('obvious', 17),\n",
       " ('seiz', 17),\n",
       " ('finish', 17),\n",
       " ('home', 17),\n",
       " ('lay', 17),\n",
       " ('threw', 17),\n",
       " ('lucki', 17),\n",
       " ('allow', 17),\n",
       " ('wild', 17),\n",
       " ('scar', 17),\n",
       " ('join', 17),\n",
       " ('kitchen', 17),\n",
       " ('dream', 17),\n",
       " ('crash', 17),\n",
       " ('lean', 17),\n",
       " ('piec', 17),\n",
       " ('packag', 17),\n",
       " ('boat', 17),\n",
       " ('nine', 17),\n",
       " ('clap', 17),\n",
       " ('toad', 17),\n",
       " ('goblin', 17),\n",
       " ('card', 17),\n",
       " ('hurt', 17),\n",
       " ('sent', 17),\n",
       " ('privet', 16),\n",
       " ('possibl', 16),\n",
       " ('finger', 16),\n",
       " ('togeth', 16),\n",
       " ('clock', 16),\n",
       " ('tonight', 16),\n",
       " ('late', 16),\n",
       " ('silent', 16),\n",
       " ('twelv', 16),\n",
       " ('bet', 16),\n",
       " ('understand', 16),\n",
       " ('readi', 16),\n",
       " ('abov', 16),\n",
       " ('knee', 16),\n",
       " ('smell', 16),\n",
       " ('hit', 16),\n",
       " ('cross', 16),\n",
       " ('practic', 16),\n",
       " ('dad', 16),\n",
       " ('frog', 16),\n",
       " ('becam', 16),\n",
       " ('prefect', 16),\n",
       " ('portrait', 16),\n",
       " ('ahead', 16),\n",
       " ('save', 16),\n",
       " ('twice', 15),\n",
       " ('also', 15),\n",
       " ('secret', 15),\n",
       " ('edg', 15),\n",
       " ('howev', 15),\n",
       " ('buy', 15),\n",
       " ('forgotten', 15),\n",
       " ('afternoon', 15),\n",
       " ('today', 15),\n",
       " ('angri', 15),\n",
       " ('lamp', 15),\n",
       " ('eleven', 15),\n",
       " ('silenc', 15),\n",
       " ('land', 15),\n",
       " ('egg', 15),\n",
       " ('thick', 15),\n",
       " ('danger', 15),\n",
       " ('remind', 15),\n",
       " ('forc', 15),\n",
       " ('terribl', 15),\n",
       " ('tap', 15),\n",
       " ('burst', 15),\n",
       " ('fight', 15),\n",
       " ('deep', 15),\n",
       " ('pack', 15),\n",
       " ('drink', 15),\n",
       " ('third', 15),\n",
       " ('lead', 15),\n",
       " ('chamber', 15),\n",
       " ('win', 15),\n",
       " ('stori', 14),\n",
       " ('sister', 14),\n",
       " ('sky', 14),\n",
       " ('bag', 14),\n",
       " ('tini', 14),\n",
       " ('imagin', 14),\n",
       " ('odd', 14),\n",
       " ('tea', 14),\n",
       " ('stuff', 14),\n",
       " ('decid', 14),\n",
       " ('peer', 14),\n",
       " ('appear', 14),\n",
       " ('tail', 14),\n",
       " ('slip', 14),\n",
       " ('tight', 14),\n",
       " ('disappear', 14),\n",
       " ('pomfrey', 14),\n",
       " ('nod', 14),\n",
       " ('low', 14),\n",
       " ('bent', 14),\n",
       " ('swung', 14),\n",
       " ('rule', 14),\n",
       " ('paper', 14),\n",
       " ('matter', 14),\n",
       " ('chocol', 14),\n",
       " ('bodi', 14),\n",
       " ('wors', 14),\n",
       " ('leapt', 14),\n",
       " ('coat', 14),\n",
       " ('mail', 14),\n",
       " ('nearer', 14),\n",
       " ('flew', 14),\n",
       " ('wing', 14),\n",
       " ('reflect', 14),\n",
       " ('staircas', 14),\n",
       " ('seeker', 14),\n",
       " ('exam', 14),\n",
       " ('sever', 13),\n",
       " ('fact', 13),\n",
       " ('soon', 13),\n",
       " ('chair', 13),\n",
       " ('throw', 13),\n",
       " ('jerk', 13),\n",
       " ('import', 13),\n",
       " ('wide', 13),\n",
       " ('happi', 13),\n",
       " ('mark', 13),\n",
       " ('grin', 13),\n",
       " ('apart', 13),\n",
       " ('nasti', 13),\n",
       " ('kind', 13),\n",
       " ('beard', 13),\n",
       " ('true', 13),\n",
       " ('hide', 13),\n",
       " ('london', 13),\n",
       " ('ago', 13),\n",
       " ('pink', 13),\n",
       " ('case', 13),\n",
       " ('becom', 13),\n",
       " ('fall', 13),\n",
       " ('wander', 13),\n",
       " ('cake', 13),\n",
       " ('mistak', 13),\n",
       " ('speed', 13),\n",
       " ('em', 13),\n",
       " ('cart', 13),\n",
       " ('hole', 13),\n",
       " ('row', 13),\n",
       " ('free', 13),\n",
       " ('inch', 13),\n",
       " ('ad', 13),\n",
       " ('hedwig', 13),\n",
       " ('trunk', 13),\n",
       " ('scabber', 13),\n",
       " ('classroom', 13),\n",
       " ('fifti', 13),\n",
       " ('normal', 12),\n",
       " ('fear', 12),\n",
       " ('suggest', 12),\n",
       " ('mention', 12),\n",
       " ('middl', 12),\n",
       " ('instead', 12),\n",
       " ('upstair', 12),\n",
       " ('tall', 12),\n",
       " ('albus', 12),\n",
       " ('proper', 12),\n",
       " ('real', 12),\n",
       " ('trembl', 12),\n",
       " ('somehow', 12),\n",
       " ('kick', 12),\n",
       " ('size', 12),\n",
       " ('forehead', 12),\n",
       " ('birthday', 12),\n",
       " ('enter', 12),\n",
       " ('present', 12),\n",
       " ('easi', 12),\n",
       " ('wind', 12),\n",
       " ('flash', 12),\n",
       " ('closer', 12),\n",
       " ('flat', 12),\n",
       " ('crack', 12),\n",
       " ('heavi', 12),\n",
       " ('rock', 12),\n",
       " ('eh', 12),\n",
       " ('chanc', 12),\n",
       " ('box', 12),\n",
       " ('scare', 12),\n",
       " ('vault', 12),\n",
       " ('cover', 12),\n",
       " ('feather', 12),\n",
       " ('hung', 12),\n",
       " ('themselv', 12),\n",
       " ('path', 12),\n",
       " ('norri', 12),\n",
       " ('dive', 12),\n",
       " ('bin', 12),\n",
       " ('crate', 12),\n",
       " ('chaser', 12),\n",
       " ('chess', 12),\n",
       " ('press', 11),\n",
       " ('may', 11),\n",
       " ('written', 11),\n",
       " ('young', 11),\n",
       " ('perfect', 11),\n",
       " ('spent', 11),\n",
       " ('pretend', 11),\n",
       " ('gray', 11),\n",
       " ('none', 11),\n",
       " ('probabl', 11),\n",
       " ('swoop', 11),\n",
       " ('clutch', 11),\n",
       " ('lip', 11),\n",
       " ('crept', 11),\n",
       " ('purpl', 11),\n",
       " ('blue', 11),\n",
       " ('sharp', 11),\n",
       " ('sweet', 11),\n",
       " ('shot', 11),\n",
       " ('broke', 11),\n",
       " ('roar', 11),\n",
       " ('hiss', 11),\n",
       " ('wake', 11),\n",
       " ('rose', 11),\n",
       " ('hidden', 11),\n",
       " ('race', 11),\n",
       " ('difficult', 11),\n",
       " ('unwrap', 11),\n",
       " ('visit', 11),\n",
       " ('keeper', 11),\n",
       " ('food', 11),\n",
       " ('glad', 11),\n",
       " ('tear', 11),\n",
       " ('curious', 11),\n",
       " ('foot', 11),\n",
       " ('sigh', 11),\n",
       " ('six', 11),\n",
       " ('earth', 11),\n",
       " ('storm', 11),\n",
       " ('agre', 11),\n",
       " ('steal', 11),\n",
       " ('ah', 11),\n",
       " ('growl', 11),\n",
       " ('quill', 11),\n",
       " ('fade', 11),\n",
       " ('anythin', 11),\n",
       " ('expel', 11),\n",
       " ('station', 11),\n",
       " ('twist', 11),\n",
       " ('flame', 11),\n",
       " ('goe', 11),\n",
       " ('desper', 11),\n",
       " ('ravenclaw', 11),\n",
       " ('player', 11),\n",
       " ('dean', 11),\n",
       " ('plant', 11),\n",
       " ('thin', 10),\n",
       " ('son', 10),\n",
       " ('woke', 10),\n",
       " ('flutter', 10),\n",
       " ('blink', 10),\n",
       " ('stretch', 10),\n",
       " ('singl', 10),\n",
       " ('although', 10),\n",
       " ('whether', 10),\n",
       " ('slam', 10),\n",
       " ('broken', 10),\n",
       " ('chuckl', 10),\n",
       " ('glanc', 10),\n",
       " ('confus', 10),\n",
       " ('bow', 10),\n",
       " ('bring', 10),\n",
       " ('less', 10),\n",
       " ('known', 10),\n",
       " ('trust', 10),\n",
       " ('babi', 10),\n",
       " ('howl', 10),\n",
       " ('luck', 10),\n",
       " ('stair', 10),\n",
       " ('unless', 10),\n",
       " ('plate', 10),\n",
       " ('horror', 10),\n",
       " ('ladi', 10),\n",
       " ('sweater', 10),\n",
       " ('complain', 10),\n",
       " ('bought', 10),\n",
       " ('entranc', 10),\n",
       " ('death', 10),\n",
       " ('dure', 10),\n",
       " ('rush', 10),\n",
       " ('nobodi', 10),\n",
       " ('breakfast', 10),\n",
       " ('joke', 10),\n",
       " ('tomorrow', 10),\n",
       " ('whistl', 10),\n",
       " ('sofa', 10),\n",
       " ('shadow', 10),\n",
       " ('shriek', 10),\n",
       " ('ta', 10),\n",
       " ('outta', 10),\n",
       " ('job', 10),\n",
       " ('load', 10),\n",
       " ('barrier', 10),\n",
       " ('leaki', 10),\n",
       " ('soft', 10),\n",
       " ('stool', 10),\n",
       " ('drag', 10),\n",
       " ('charm', 10),\n",
       " ('lee', 10),\n",
       " ('compart', 10),\n",
       " ('draco', 10),\n",
       " ('bloodi', 10),\n",
       " ('jordan', 10),\n",
       " ('trapdoor', 10),\n",
       " ('worth', 9),\n",
       " ('proud', 9),\n",
       " ('cloth', 9),\n",
       " ('nerv', 9),\n",
       " ('grunt', 9),\n",
       " ('complet', 9),\n",
       " ('stranger', 9),\n",
       " ('whatev', 9),\n",
       " ('rattl', 9),\n",
       " ('star', 9),\n",
       " ('fix', 9),\n",
       " ('quiver', 9),\n",
       " ('midnight', 9),\n",
       " ('twitch', 9),\n",
       " ('least', 9),\n",
       " ('click', 9),\n",
       " ('feast', 9),\n",
       " ('person', 9),\n",
       " ('calm', 9),\n",
       " ('neither', 9),\n",
       " ('golden', 9),\n",
       " ('cut', 9),\n",
       " ('sob', 9),\n",
       " ('wipe', 9),\n",
       " ('vanish', 9),\n",
       " ('televis', 9),\n",
       " ('pig', 9),\n",
       " ('parcel', 9),\n",
       " ('rat', 9),\n",
       " ('short', 9),\n",
       " ('brown', 9),\n",
       " ('relief', 9),\n",
       " ('ice', 9),\n",
       " ('moan', 9),\n",
       " ('slid', 9),\n",
       " ('sometim', 9),\n",
       " ('holiday', 9),\n",
       " ('toilet', 9),\n",
       " ('water', 9),\n",
       " ('bill', 9),\n",
       " ('parchment', 9),\n",
       " ('meant', 9),\n",
       " ('share', 9),\n",
       " ('slight', 9),\n",
       " ('drew', 9),\n",
       " ('fill', 9),\n",
       " ('sausag', 9),\n",
       " ('jus', 9),\n",
       " ('eager', 9),\n",
       " ('reckon', 9),\n",
       " ('teeth', 9),\n",
       " ('inde', 9),\n",
       " ('afraid', 9),\n",
       " ('halloween', 9),\n",
       " ('teach', 9),\n",
       " ('diagon', 9),\n",
       " ('protect', 9),\n",
       " ('stuck', 9),\n",
       " ('art', 9),\n",
       " ('brilliant', 9),\n",
       " ('marbl', 9),\n",
       " ('narrow', 9),\n",
       " ('passageway', 9),\n",
       " ('pin', 9),\n",
       " ('excus', 9),\n",
       " ('brave', 9),\n",
       " ('flavor', 9),\n",
       " ('bean', 9),\n",
       " ('footstep', 9),\n",
       " ('mountain', 9),\n",
       " ('dormitori', 9),\n",
       " ('baron', 9),\n",
       " ('dungeon', 9),\n",
       " ('branch', 9),\n",
       " ('figur', 9),\n",
       " ('love', 8),\n",
       " ('part', 8),\n",
       " ('mysteri', 8),\n",
       " ('dress', 8),\n",
       " ('coupl', 8),\n",
       " ('sped', 8),\n",
       " ('problem', 8),\n",
       " ('news', 8),\n",
       " ('flick', 8),\n",
       " ('certain', 8),\n",
       " ('swallow', 8),\n",
       " ('simpli', 8),\n",
       " ('poor', 8),\n",
       " ('special', 8),\n",
       " ('lit', 8),\n",
       " ('often', 8),\n",
       " ('bark', 8),\n",
       " ('count', 8),\n",
       " ('rip', 8),\n",
       " ('figg', 8),\n",
       " ('snarl', 8),\n",
       " ('summer', 8),\n",
       " ('poke', 8),\n",
       " ('ignor', 8),\n",
       " ('aliv', 8),\n",
       " ('board', 8),\n",
       " ('post', 8),\n",
       " ('amaz', 8),\n",
       " ('opposit', 8),\n",
       " ('damp', 8),\n",
       " ('halfway', 8),\n",
       " ('fun', 8),\n",
       " ('sea', 8),\n",
       " ('led', 8),\n",
       " ('wooden', 8),\n",
       " ('smoke', 8),\n",
       " ('twenti', 8),\n",
       " ('terrifi', 8),\n",
       " ('hot', 8),\n",
       " ('boil', 8),\n",
       " ('lower', 8),\n",
       " ('ordinari', 8),\n",
       " ('dunno', 8),\n",
       " ('human', 8),\n",
       " ('beam', 8),\n",
       " ('bottom', 8),\n",
       " ('truth', 8),\n",
       " ('delight', 8),\n",
       " ('nostril', 8),\n",
       " ('king', 8),\n",
       " ('march', 8),\n",
       " ('float', 8),\n",
       " ('grass', 8),\n",
       " ('award', 8),\n",
       " ('return', 8),\n",
       " ('longbottom', 8),\n",
       " ('block', 8),\n",
       " ('struggl', 8),\n",
       " ('refere', 8),\n",
       " ('knight', 8),\n",
       " ('scholast', 7),\n",
       " ('write', 7),\n",
       " ('wizardri', 7),\n",
       " ('mustach', 7),\n",
       " ('road', 7),\n",
       " ('order', 7),\n",
       " ('harder', 7),\n",
       " ('angrili', 7),\n",
       " ('unusu', 7),\n",
       " ('root', 7),\n",
       " ('yesterday', 7),\n",
       " ('armchair', 7),\n",
       " ('sharpli', 7),\n",
       " ('awak', 7),\n",
       " ('pop', 7),\n",
       " ('boot', 7),\n",
       " ('shape', 7),\n",
       " ('bound', 7),\n",
       " ('gentl', 7),\n",
       " ('fine', 7),\n",
       " ('lemon', 7),\n",
       " ('anxious', 7),\n",
       " ('choos', 7),\n",
       " ('lili', 7),\n",
       " ('faint', 7),\n",
       " ('bundl', 7),\n",
       " ('blanket', 7),\n",
       " ('bolt', 7),\n",
       " ('sad', 7),\n",
       " ('grip', 7),\n",
       " ('shall', 7),\n",
       " ('murmur', 7),\n",
       " ('swish', 7),\n",
       " ('neat', 7),\n",
       " ('burn', 7),\n",
       " ('bang', 7),\n",
       " ('fit', 7),\n",
       " ('saturday', 7),\n",
       " ('wrap', 7),\n",
       " ('strong', 7),\n",
       " ('collaps', 7),\n",
       " ('miser', 7),\n",
       " ('forbidden', 7),\n",
       " ...]"
      ]
     },
     "execution_count": 104,
     "metadata": {},
     "output_type": "execute_result"
    }
   ],
   "source": [
    "getOverlap(books_df['normalizedTokens'][0], books_df['normalizedTokens'][3])"
   ]
  },
  {
   "cell_type": "code",
   "execution_count": 78,
   "metadata": {},
   "outputs": [],
   "source": [
    "overlapCounts = {}\n",
    "for word in [s for s in stoneNWords if s in overlapWords]:\n",
    "    try:\n",
    "        overlapCounts[word] += 1\n",
    "    except KeyError:\n",
    "        overlapCounts[word] = 1"
   ]
  },
  {
   "cell_type": "code",
   "execution_count": 106,
   "metadata": {},
   "outputs": [],
   "source": [
    "overlapWords = set(stoneNWords) & set(secretsNWords) \n",
    "\n",
    "overlapWordsDict = {word: index for index, word in enumerate(overlapWords)}"
   ]
  },
  {
   "cell_type": "markdown",
   "metadata": {},
   "source": [
    "Compare Book 1 and Book 2"
   ]
  },
  {
   "cell_type": "code",
   "execution_count": 114,
   "metadata": {},
   "outputs": [],
   "source": [
    "stone_df = pandas.DataFrame({'Book' : [1], 'normalized_tokens' : [stoneNWords]})\n"
   ]
  },
  {
   "cell_type": "code",
   "execution_count": 115,
   "metadata": {},
   "outputs": [],
   "source": [
    "secrets_df = pandas.DataFrame({'Book' : [2], 'normalized_tokens' : [secretsNWords]})\n"
   ]
  },
  {
   "cell_type": "code",
   "execution_count": 116,
   "metadata": {},
   "outputs": [],
   "source": [
    "stWords = set(stone_df['normalized_tokens'].sum())\n",
    "seWords = set(secrets_df['normalized_tokens'].sum())\n",
    "\n",
    "#Change & to | if you want to keep all words\n",
    "overlapWords = stWords & seWords\n",
    "\n",
    "overlapWordsDict = {word: index for index, word in enumerate(overlapWords)}\n"
   ]
  },
  {
   "cell_type": "code",
   "execution_count": 117,
   "metadata": {},
   "outputs": [],
   "source": [
    "def makeProbsArray(dfColumn, overlapDict):\n",
    "    words = dfColumn.sum()\n",
    "    countList = [0] * len(overlapDict)\n",
    "    for word in words:\n",
    "        try:\n",
    "            countList[overlapDict[word]] += 1\n",
    "        except KeyError:\n",
    "            #The word is not common so we skip it\n",
    "            pass\n",
    "    countArray = np.array(countList)\n",
    "    return countArray / countArray.sum()\n",
    "\n",
    "stProbArray = makeProbsArray(stone_df['normalized_tokens'], overlapWordsDict)\n",
    "seProbArray = makeProbsArray(secrets_df['normalized_tokens'], overlapWordsDict)\n"
   ]
  },
  {
   "cell_type": "code",
   "execution_count": 118,
   "metadata": {},
   "outputs": [
    {
     "name": "stdout",
     "output_type": "stream",
     "text": [
      "0.16309297074738247\n",
      "0.1701584823609404\n"
     ]
    }
   ],
   "source": [
    "stone_secretsDivergence = scipy.stats.entropy(stProbArray, seProbArray)\n",
    "print (stone_secretsDivergence)\n",
    "secrets_stoneDivergence = scipy.stats.entropy(seProbArray, stProbArray)\n",
    "print (secrets_stoneDivergence)"
   ]
  },
  {
   "cell_type": "markdown",
   "metadata": {},
   "source": [
    "Then, we can do the elementwise calculation and see which words best distinguish the Harry Potter 1 and 2."
   ]
  },
  {
   "cell_type": "code",
   "execution_count": 119,
   "metadata": {},
   "outputs": [
    {
     "data": {
      "text/html": [
       "<div>\n",
       "<style scoped>\n",
       "    .dataframe tbody tr th:only-of-type {\n",
       "        vertical-align: middle;\n",
       "    }\n",
       "\n",
       "    .dataframe tbody tr th {\n",
       "        vertical-align: top;\n",
       "    }\n",
       "\n",
       "    .dataframe thead th {\n",
       "        text-align: right;\n",
       "    }\n",
       "</style>\n",
       "<table border=\"1\" class=\"dataframe\">\n",
       "  <thead>\n",
       "    <tr style=\"text-align: right;\">\n",
       "      <th></th>\n",
       "      <th>word</th>\n",
       "      <th>elementwise divergence</th>\n",
       "    </tr>\n",
       "  </thead>\n",
       "  <tbody>\n",
       "    <tr>\n",
       "      <th>0</th>\n",
       "      <td>shot</td>\n",
       "      <td>5.544881e-05</td>\n",
       "    </tr>\n",
       "    <tr>\n",
       "      <th>1</th>\n",
       "      <td>gloomi</td>\n",
       "      <td>2.900486e-07</td>\n",
       "    </tr>\n",
       "    <tr>\n",
       "      <th>2</th>\n",
       "      <td>pay</td>\n",
       "      <td>5.261895e-06</td>\n",
       "    </tr>\n",
       "    <tr>\n",
       "      <th>3</th>\n",
       "      <td>velvet</td>\n",
       "      <td>1.954227e-05</td>\n",
       "    </tr>\n",
       "    <tr>\n",
       "      <th>4</th>\n",
       "      <td>serv</td>\n",
       "      <td>3.618469e-05</td>\n",
       "    </tr>\n",
       "    <tr>\n",
       "      <th>5</th>\n",
       "      <td>either</td>\n",
       "      <td>2.144160e-05</td>\n",
       "    </tr>\n",
       "    <tr>\n",
       "      <th>6</th>\n",
       "      <td>afraid</td>\n",
       "      <td>1.891399e-04</td>\n",
       "    </tr>\n",
       "    <tr>\n",
       "      <th>7</th>\n",
       "      <td>collaps</td>\n",
       "      <td>2.154373e-04</td>\n",
       "    </tr>\n",
       "    <tr>\n",
       "      <th>8</th>\n",
       "      <td>stiff</td>\n",
       "      <td>5.518160e-05</td>\n",
       "    </tr>\n",
       "    <tr>\n",
       "      <th>9</th>\n",
       "      <td>drive</td>\n",
       "      <td>2.069485e-04</td>\n",
       "    </tr>\n",
       "  </tbody>\n",
       "</table>\n",
       "</div>"
      ],
      "text/plain": [
       "      word  elementwise divergence\n",
       "0     shot            5.544881e-05\n",
       "1   gloomi            2.900486e-07\n",
       "2      pay            5.261895e-06\n",
       "3   velvet            1.954227e-05\n",
       "4     serv            3.618469e-05\n",
       "5   either            2.144160e-05\n",
       "6   afraid            1.891399e-04\n",
       "7  collaps            2.154373e-04\n",
       "8    stiff            5.518160e-05\n",
       "9    drive            2.069485e-04"
      ]
     },
     "execution_count": 119,
     "metadata": {},
     "output_type": "execute_result"
    }
   ],
   "source": [
    "stone_secretsDivergence_ew = scipy.special.kl_div(stProbArray, seProbArray)\n",
    "kl_df = pandas.DataFrame(list(overlapWordsDict.keys()), columns = ['word'], index = list(overlapWordsDict.values()))\n",
    "kl_df = kl_df.sort_index()\n",
    "kl_df['elementwise divergence'] = stone_secretsDivergence_ew\n",
    "kl_df[:10]"
   ]
  },
  {
   "cell_type": "code",
   "execution_count": 120,
   "metadata": {
    "scrolled": false
   },
   "outputs": [
    {
     "data": {
      "text/html": [
       "<div>\n",
       "<style scoped>\n",
       "    .dataframe tbody tr th:only-of-type {\n",
       "        vertical-align: middle;\n",
       "    }\n",
       "\n",
       "    .dataframe tbody tr th {\n",
       "        vertical-align: top;\n",
       "    }\n",
       "\n",
       "    .dataframe thead th {\n",
       "        text-align: right;\n",
       "    }\n",
       "</style>\n",
       "<table border=\"1\" class=\"dataframe\">\n",
       "  <thead>\n",
       "    <tr style=\"text-align: right;\">\n",
       "      <th></th>\n",
       "      <th>word</th>\n",
       "      <th>elementwise divergence</th>\n",
       "    </tr>\n",
       "  </thead>\n",
       "  <tbody>\n",
       "    <tr>\n",
       "      <th>1682</th>\n",
       "      <td>yeh</td>\n",
       "      <td>0.003273</td>\n",
       "    </tr>\n",
       "    <tr>\n",
       "      <th>2293</th>\n",
       "      <td>hagrid</td>\n",
       "      <td>0.002870</td>\n",
       "    </tr>\n",
       "    <tr>\n",
       "      <th>2425</th>\n",
       "      <td>dudley</td>\n",
       "      <td>0.002370</td>\n",
       "    </tr>\n",
       "    <tr>\n",
       "      <th>1215</th>\n",
       "      <td>ginni</td>\n",
       "      <td>0.002300</td>\n",
       "    </tr>\n",
       "    <tr>\n",
       "      <th>1231</th>\n",
       "      <td>nevill</td>\n",
       "      <td>0.002075</td>\n",
       "    </tr>\n",
       "    <tr>\n",
       "      <th>2199</th>\n",
       "      <td>yer</td>\n",
       "      <td>0.001637</td>\n",
       "    </tr>\n",
       "    <tr>\n",
       "      <th>2262</th>\n",
       "      <td>dragon</td>\n",
       "      <td>0.001626</td>\n",
       "    </tr>\n",
       "    <tr>\n",
       "      <th>477</th>\n",
       "      <td>uncl</td>\n",
       "      <td>0.001566</td>\n",
       "    </tr>\n",
       "    <tr>\n",
       "      <th>1204</th>\n",
       "      <td>weasley</td>\n",
       "      <td>0.001406</td>\n",
       "    </tr>\n",
       "    <tr>\n",
       "      <th>2212</th>\n",
       "      <td>troll</td>\n",
       "      <td>0.001380</td>\n",
       "    </tr>\n",
       "  </tbody>\n",
       "</table>\n",
       "</div>"
      ],
      "text/plain": [
       "         word  elementwise divergence\n",
       "1682      yeh                0.003273\n",
       "2293   hagrid                0.002870\n",
       "2425   dudley                0.002370\n",
       "1215    ginni                0.002300\n",
       "1231   nevill                0.002075\n",
       "2199      yer                0.001637\n",
       "2262   dragon                0.001626\n",
       "477      uncl                0.001566\n",
       "1204  weasley                0.001406\n",
       "2212    troll                0.001380"
      ]
     },
     "execution_count": 120,
     "metadata": {},
     "output_type": "execute_result"
    }
   ],
   "source": [
    "kl_df.sort_values(by='elementwise divergence', ascending=False)[:10]"
   ]
  },
  {
   "cell_type": "code",
   "execution_count": null,
   "metadata": {
    "collapsed": true
   },
   "outputs": [],
   "source": []
  }
 ],
 "metadata": {
  "anaconda-cloud": {},
  "kernelspec": {
   "display_name": "Python 3",
   "language": "python",
   "name": "python3"
  },
  "language_info": {
   "codemirror_mode": {
    "name": "ipython",
    "version": 3
   },
   "file_extension": ".py",
   "mimetype": "text/x-python",
   "name": "python",
   "nbconvert_exporter": "python",
   "pygments_lexer": "ipython3",
   "version": "3.6.3"
  }
 },
 "nbformat": 4,
 "nbformat_minor": 1
}
