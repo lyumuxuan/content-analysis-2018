{
 "cells": [
  {
   "cell_type": "markdown",
   "metadata": {},
   "source": [
    "# Week 5 - Sampling & Reliability\n",
    "\n",
    "Up until this week, we have assumed that the corpus you have used for analysis assignments represented a *meaningful* assemblage of texts from which reasonable inferences could be drawn about the social game, social world and social actors that produced it. This week, we ask you to articulate what your sample represents in context of your final project, and draw upon methods we have developed over the last three weeks to draw reasonable and representative samples. \n",
    "\n",
    "This week we also pivot from our recent work on unsupervized machine learning approaches to explore how we can get *human* readings of content at scale. We want to gather and utilize human responses for several reasons. First, we may want to use crowdsourced human scores as the primary method of coding, extracting or organizing content (as it was in the two of the assigned readings). Second, we may want to validate or tune a computational algorithm we may have developed in terms of how it is associated with human meanings or experience. Finally, we may want to use human coding on a sample of data as the basis for training a model or algorithm to then extrapolate *human-like* annotations to the entire population. Here intelligent sampling is critical to maximize effective maching training. \n",
    "\n",
    "For this notebook we will be using the following packages"
   ]
  },
  {
   "cell_type": "code",
<<<<<<< HEAD
   "execution_count": 5,
   "metadata": {},
=======
   "execution_count": null,
   "metadata": {
    "collapsed": true
   },
>>>>>>> 0dbd711943f6965fc91c883fe001d81eba4df43a
   "outputs": [],
   "source": [
    "#Special module written for this class\n",
    "#This provides access to data and to helper functions from previous weeks\n",
    "#Make sure you update it before starting this notebook\n",
    "import lucem_illud #pip install -U git+git://github.com/Computational-Content-Analysis-2018/lucem_illud.git\n",
    "\n",
    "#All these packages need to be installed from pip\n",
    "import numpy as np #For arrays\n",
    "import scipy as sp #For some stats\n",
    "import pandas #Gives us DataFrames\n",
    "import matplotlib.pyplot as plt #For graphics\n",
    "import seaborn #Makes the graphics look nicer\n",
    "import pyanno #On python3 make sure to pip install pyanno3\n",
    "\n",
<<<<<<< HEAD
    "import gensim#For word2vec, etc\n",
    "import requests #For downloading our datasets\n",
    "import nltk #For stop words and stemmers\n",
    "import numpy as np #For arrays\n",
    "\n",
    "import sklearn.metrics.pairwise #For cosine similarity\n",
    "import sklearn.manifold #For T-SNE\n",
    "import sklearn.decomposition #For PCA\n",
    "\n",
    "\n",
    "\n",
    "\n",
=======
>>>>>>> 0dbd711943f6965fc91c883fe001d81eba4df43a
    "#We need to import these this way due to how pyanno is setup\n",
    "from pyanno.measures import pairwise_matrix, agreement, cohens_kappa, cohens_weighted_kappa, fleiss_kappa, krippendorffs_alpha, pearsons_rho, scotts_pi, spearmans_rho\n",
    "from pyanno.annotations import AnnotationsContainer\n",
    "from pyanno.models import ModelA, ModelBt, ModelB\n",
    "\n",
    "from functools import reduce\n",
    "from itertools import permutations\n",
    "import math\n",
    "\n",
    "\n",
    "#This 'magic' command makes the plots work better\n",
    "#in the notebook, don't use it outside of a notebook.\n",
    "#Also you can ignore the warning\n",
    "%matplotlib inline\n",
    "\n",
    "import os #For looking through files\n",
    "import os.path #For managing file paths"
   ]
  },
  {
   "cell_type": "markdown",
   "metadata": {},
   "source": [
    "## <span style=\"color:red\">*Pitch Your Project*</span>\n",
    "\n",
    "<span style=\"color:red\">In the three cells immediately following, describe **WHAT** you are planning to analyze for your final project (i.e., texts, contexts and the social game, world and actors you intend to learn about through your analysis) (<200 words), **WHY** you are going to do it (i.e., why would theory and/or the average person benefit from knowing the results of your investigation) (<200 words), and **HOW** you plan to investigate it (i.e., what are the approaches and operations you plan to perform, in sequence, to yield this insight) (<400 words)."
   ]
  },
  {
   "cell_type": "markdown",
   "metadata": {},
   "source": [
    "## ***What?*** \n",
<<<<<<< HEAD
    "I am planning to analyze abstracts from PubMed psychological-related articles."
=======
    "<200 words"
>>>>>>> 0dbd711943f6965fc91c883fe001d81eba4df43a
   ]
  },
  {
   "cell_type": "markdown",
   "metadata": {},
   "source": [
    "## ***Why?***\n",
<<<<<<< HEAD
    "The goal of my project is to have an insight of how people study psychological concepts. It can potentially help researchers to have an idea of what have been studied a lot and what have not been studied much, what were connections or networks that researchers made about psychological concepts, and what could researchers further investigated about. "
=======
    "<200 words"
>>>>>>> 0dbd711943f6965fc91c883fe001d81eba4df43a
   ]
  },
  {
   "cell_type": "markdown",
   "metadata": {},
   "source": [
    "## ***How?***\n",
<<<<<<< HEAD
    "I plan to downloaded all the abstracts from PubMed and use a psychology dictionary that built upon APA glossary of psychological terms to filter out psycchological-related abstracts. Then I would try different methods that we learned in the class to see what I could conclude from this corpus."
=======
    "<400 words"
>>>>>>> 0dbd711943f6965fc91c883fe001d81eba4df43a
   ]
  },
  {
   "cell_type": "markdown",
   "metadata": {},
   "source": [
    "## <span style=\"color:red\">*Pitch Your Sample*</span>\n",
    "\n",
    "<span style=\"color:red\">In the cell immediately following, describe the rationale behind your proposed sample design for your final project. What is the social game, social work, or social actors you about whom you are seeking to make inferences? What are its virtues with respect to your research questions? What are its limitations? What are alternatives? What would be a reasonable path to \"scale up\" your sample for further analysis (i.e., high-profile publication)? (<200 words)."
   ]
  },
  {
   "cell_type": "markdown",
   "metadata": {},
   "source": [
    "## ***Which (words)?***\n",
<<<<<<< HEAD
    "To date, little research has been done for a content analysis of psychology published papers. It would be great to try and hopefully gain some insights about what people did in psychological research over the years. One of the limitations is about the dictionary. The filter function of this dictionary might not be good enough to get all the psychology papers that I wanted. Therefore, I might just turn into downloading abstracts through searching for words like \"psychology\" or \"behavioral\" on PubMed website. Another limitation is that only abstracts will be analyzed, but full articles will certainly give me more information. Moreover, PubMed is just one of the journals that have psychology papers, there are many other journals I could explore about. "
=======
    "<300 words"
>>>>>>> 0dbd711943f6965fc91c883fe001d81eba4df43a
   ]
  },
  {
   "cell_type": "markdown",
   "metadata": {},
   "source": [
    "## <span style=\"color:red\">*Exercise 1*</span>\n",
    "\n",
    "<span style=\"color:red\">In the cells immediately following, demonstrate three approaches drawn from any of the last three weeks to create subsamples of your corpus (e.g., for crowd-sourced subcoding like we'll be doing this week). Methods of subsampling include (a) corpus linguistic approaches drawing on word presence or co-presence, conditional frequencies, weighted words (e.g., tf.idf), KL or JS divergences, etc.; (b) hierarchical or flat clustering approaches; (c) topic modeling; or (d) word-embedding. (<200 words)."
   ]
  },
  {
<<<<<<< HEAD
   "cell_type": "code",
   "execution_count": 19,
   "metadata": {
    "scrolled": true
   },
   "outputs": [
    {
     "data": {
      "text/html": [
       "<div>\n",
       "<style scoped>\n",
       "    .dataframe tbody tr th:only-of-type {\n",
       "        vertical-align: middle;\n",
       "    }\n",
       "\n",
       "    .dataframe tbody tr th {\n",
       "        vertical-align: top;\n",
       "    }\n",
       "\n",
       "    .dataframe thead th {\n",
       "        text-align: right;\n",
       "    }\n",
       "</style>\n",
       "<table border=\"1\" class=\"dataframe\">\n",
       "  <thead>\n",
       "    <tr style=\"text-align: right;\">\n",
       "      <th></th>\n",
       "      <th>abstract</th>\n",
       "      <th>doi</th>\n",
       "    </tr>\n",
       "    <tr>\n",
       "      <th>title</th>\n",
       "      <th></th>\n",
       "      <th></th>\n",
       "    </tr>\n",
       "  </thead>\n",
       "  <tbody>\n",
       "    <tr>\n",
       "      <th>The impact of happy and angry faces on working memory in depressed adolescents.</th>\n",
       "      <td>Recent cognitive models suggest that the abili...</td>\n",
       "      <td>10.1016/j.jecp.2017.12.012</td>\n",
       "    </tr>\n",
       "    <tr>\n",
       "      <th>Using versus liking: Young children use ownership to predict actions but not to\\ninfer preferences.</th>\n",
       "      <td>Three experiments show that young children (N ...</td>\n",
       "      <td>10.1016/j.jecp.2017.12.007</td>\n",
       "    </tr>\n",
       "    <tr>\n",
       "      <th>Lateral asymmetry in the freely occurring behaviour of budgerigars (Melopsittacus\\nundulatus) and its relation to cognitive performance.\\n</th>\n",
       "      <td>USA.\\n\\nHemispheric laterality and its provisi...</td>\n",
       "      <td>10.1080/1357650X.2017.1361964</td>\n",
       "    </tr>\n",
       "    <tr>\n",
       "      <th>Driven to distraction: A lack of change gives rise to mind wandering.</th>\n",
       "      <td>How does the dynamic structure of the external...</td>\n",
       "      <td>10.1016/j.cognition.2018.01.007</td>\n",
       "    </tr>\n",
       "    <tr>\n",
       "      <th>Do enhanced states exist? Boosting cognitive capacities through an action video-game\\nvideo-game.\\n</th>\n",
       "      <td>This research reports the existence of enhance...</td>\n",
       "      <td>10.1016/j.cognition.2018.01.006</td>\n",
       "    </tr>\n",
       "    <tr>\n",
       "      <th>Voulez-vous jouer avec moi? Twelve-month-olds understand that foreign languages\\ncan communicate.\\n</th>\n",
       "      <td>Infants understand that speech in their native...</td>\n",
       "      <td>10.1016/j.cognition.2018.01.002</td>\n",
       "    </tr>\n",
       "    <tr>\n",
       "      <th>Children exhibit different performance patterns in explicit and implicit theory\\nof mind tasks.</th>\n",
       "      <td>\\nThree studies tested scope and limits of chi...</td>\n",
       "      <td>10.1016/j.cognition.2018.01.001</td>\n",
       "    </tr>\n",
       "    <tr>\n",
       "      <th>Rehabilitation in the real-life environment of a shopping mall.</th>\n",
       "      <td>AIM: The aim of this study was to explore how ...</td>\n",
       "      <td>10.1080/09638288.2016.1277394</td>\n",
       "    </tr>\n",
       "    <tr>\n",
       "      <th>Positive effects of a computerised working memory and executive function training\\non sentence comprehension in aphasia.\\n</th>\n",
       "      <td>Aphasia, the language disorder following brain...</td>\n",
       "      <td>10.1080/09602011.2016.1159579</td>\n",
       "    </tr>\n",
       "    <tr>\n",
       "      <th>The neuroscience of persuasion: A review with an emphasis on issues and\\nopportunities.</th>\n",
       "      <td>Persuasion, a prevalent form of social influen...</td>\n",
       "      <td>10.1080/17470919.2016.1273851</td>\n",
       "    </tr>\n",
       "  </tbody>\n",
       "</table>\n",
       "</div>"
      ],
      "text/plain": [
       "                                                                                             abstract  \\\n",
       "title                                                                                                   \n",
       "The impact of happy and angry faces on working ...  Recent cognitive models suggest that the abili...   \n",
       "Using versus liking: Young children use ownersh...  Three experiments show that young children (N ...   \n",
       "Lateral asymmetry in the freely occurring behav...  USA.\\n\\nHemispheric laterality and its provisi...   \n",
       "Driven to distraction: A lack of change gives r...  How does the dynamic structure of the external...   \n",
       "Do enhanced states exist? Boosting cognitive ca...  This research reports the existence of enhance...   \n",
       "Voulez-vous jouer avec moi? Twelve-month-olds u...  Infants understand that speech in their native...   \n",
       "Children exhibit different performance patterns...  \\nThree studies tested scope and limits of chi...   \n",
       "Rehabilitation in the real-life environment of ...  AIM: The aim of this study was to explore how ...   \n",
       "Positive effects of a computerised working memo...  Aphasia, the language disorder following brain...   \n",
       "The neuroscience of persuasion: A review with a...  Persuasion, a prevalent form of social influen...   \n",
       "\n",
       "                                                                                 doi  \n",
       "title                                                                                 \n",
       "The impact of happy and angry faces on working ...       10.1016/j.jecp.2017.12.012   \n",
       "Using versus liking: Young children use ownersh...       10.1016/j.jecp.2017.12.007   \n",
       "Lateral asymmetry in the freely occurring behav...    10.1080/1357650X.2017.1361964   \n",
       "Driven to distraction: A lack of change gives r...  10.1016/j.cognition.2018.01.007   \n",
       "Do enhanced states exist? Boosting cognitive ca...  10.1016/j.cognition.2018.01.006   \n",
       "Voulez-vous jouer avec moi? Twelve-month-olds u...  10.1016/j.cognition.2018.01.002   \n",
       "Children exhibit different performance patterns...  10.1016/j.cognition.2018.01.001   \n",
       "Rehabilitation in the real-life environment of ...    10.1080/09638288.2016.1277394   \n",
       "Positive effects of a computerised working memo...    10.1080/09602011.2016.1159579   \n",
       "The neuroscience of persuasion: A review with a...    10.1080/17470919.2016.1273851   "
      ]
     },
     "execution_count": 19,
     "metadata": {},
     "output_type": "execute_result"
    }
   ],
   "source": [
    "pubmedDF = pandas.read_csv('cogpsyc_sample.csv', index_col = 0)\n",
    "pubmedDF"
   ]
  },
  {
   "cell_type": "code",
   "execution_count": 20,
   "metadata": {
    "scrolled": true
   },
   "outputs": [
    {
     "data": {
      "text/html": [
       "<div>\n",
       "<style scoped>\n",
       "    .dataframe tbody tr th:only-of-type {\n",
       "        vertical-align: middle;\n",
       "    }\n",
       "\n",
       "    .dataframe tbody tr th {\n",
       "        vertical-align: top;\n",
       "    }\n",
       "\n",
       "    .dataframe thead th {\n",
       "        text-align: right;\n",
       "    }\n",
       "</style>\n",
       "<table border=\"1\" class=\"dataframe\">\n",
       "  <thead>\n",
       "    <tr style=\"text-align: right;\">\n",
       "      <th></th>\n",
       "      <th>abstract</th>\n",
       "      <th>doi</th>\n",
       "      <th>tokenized_words</th>\n",
       "      <th>normalized_words</th>\n",
       "    </tr>\n",
       "    <tr>\n",
       "      <th>title</th>\n",
       "      <th></th>\n",
       "      <th></th>\n",
       "      <th></th>\n",
       "      <th></th>\n",
       "    </tr>\n",
       "  </thead>\n",
       "  <tbody>\n",
       "    <tr>\n",
       "      <th>The impact of happy and angry faces on working memory in depressed adolescents.</th>\n",
       "      <td>Recent cognitive models suggest that the abili...</td>\n",
       "      <td>10.1016/j.jecp.2017.12.012</td>\n",
       "      <td>[Recent, cognitive, models, suggest, that, the...</td>\n",
       "      <td>[recent, cognitive, models, suggest, ability, ...</td>\n",
       "    </tr>\n",
       "    <tr>\n",
       "      <th>Using versus liking: Young children use ownership to predict actions but not to\\ninfer preferences.</th>\n",
       "      <td>Three experiments show that young children (N ...</td>\n",
       "      <td>10.1016/j.jecp.2017.12.007</td>\n",
       "      <td>[Three, experiments, show, that, young, childr...</td>\n",
       "      <td>[three, experiments, show, young, children, n,...</td>\n",
       "    </tr>\n",
       "    <tr>\n",
       "      <th>Lateral asymmetry in the freely occurring behaviour of budgerigars (Melopsittacus\\nundulatus) and its relation to cognitive performance.\\n</th>\n",
       "      <td>USA.\\n\\nHemispheric laterality and its provisi...</td>\n",
       "      <td>10.1080/1357650X.2017.1361964</td>\n",
       "      <td>[USA, ., Hemispheric, laterality, and, its, pr...</td>\n",
       "      <td>[usa, hemispheric, laterality, provision, pote...</td>\n",
       "    </tr>\n",
       "    <tr>\n",
       "      <th>Driven to distraction: A lack of change gives rise to mind wandering.</th>\n",
       "      <td>How does the dynamic structure of the external...</td>\n",
       "      <td>10.1016/j.cognition.2018.01.007</td>\n",
       "      <td>[How, does, the, dynamic, structure, of, the, ...</td>\n",
       "      <td>[dynamic, structure, external, world, direct, ...</td>\n",
       "    </tr>\n",
       "    <tr>\n",
       "      <th>Do enhanced states exist? Boosting cognitive capacities through an action video-game\\nvideo-game.\\n</th>\n",
       "      <td>This research reports the existence of enhance...</td>\n",
       "      <td>10.1016/j.cognition.2018.01.006</td>\n",
       "      <td>[This, research, reports, the, existence, of, ...</td>\n",
       "      <td>[research, reports, existence, enhanced, cogni...</td>\n",
       "    </tr>\n",
       "    <tr>\n",
       "      <th>Voulez-vous jouer avec moi? Twelve-month-olds understand that foreign languages\\ncan communicate.\\n</th>\n",
       "      <td>Infants understand that speech in their native...</td>\n",
       "      <td>10.1016/j.cognition.2018.01.002</td>\n",
       "      <td>[Infants, understand, that, speech, in, their,...</td>\n",
       "      <td>[infants, understand, speech, native, language...</td>\n",
       "    </tr>\n",
       "    <tr>\n",
       "      <th>Children exhibit different performance patterns in explicit and implicit theory\\nof mind tasks.</th>\n",
       "      <td>\\nThree studies tested scope and limits of chi...</td>\n",
       "      <td>10.1016/j.cognition.2018.01.001</td>\n",
       "      <td>[Three, studies, tested, scope, and, limits, o...</td>\n",
       "      <td>[three, studies, tested, scope, limits, childr...</td>\n",
       "    </tr>\n",
       "    <tr>\n",
       "      <th>Rehabilitation in the real-life environment of a shopping mall.</th>\n",
       "      <td>AIM: The aim of this study was to explore how ...</td>\n",
       "      <td>10.1080/09638288.2016.1277394</td>\n",
       "      <td>[AIM, :, The, aim, of, this, study, was, to, e...</td>\n",
       "      <td>[aim, aim, study, explore, shopping, malls, co...</td>\n",
       "    </tr>\n",
       "    <tr>\n",
       "      <th>Positive effects of a computerised working memory and executive function training\\non sentence comprehension in aphasia.\\n</th>\n",
       "      <td>Aphasia, the language disorder following brain...</td>\n",
       "      <td>10.1080/09602011.2016.1159579</td>\n",
       "      <td>[Aphasia, ,, the, language, disorder, followin...</td>\n",
       "      <td>[aphasia, language, disorder, following, brain...</td>\n",
       "    </tr>\n",
       "    <tr>\n",
       "      <th>The neuroscience of persuasion: A review with an emphasis on issues and\\nopportunities.</th>\n",
       "      <td>Persuasion, a prevalent form of social influen...</td>\n",
       "      <td>10.1080/17470919.2016.1273851</td>\n",
       "      <td>[Persuasion, ,, a, prevalent, form, of, social...</td>\n",
       "      <td>[persuasion, prevalent, form, social, influenc...</td>\n",
       "    </tr>\n",
       "  </tbody>\n",
       "</table>\n",
       "</div>"
      ],
      "text/plain": [
       "                                                                                             abstract  \\\n",
       "title                                                                                                   \n",
       "The impact of happy and angry faces on working ...  Recent cognitive models suggest that the abili...   \n",
       "Using versus liking: Young children use ownersh...  Three experiments show that young children (N ...   \n",
       "Lateral asymmetry in the freely occurring behav...  USA.\\n\\nHemispheric laterality and its provisi...   \n",
       "Driven to distraction: A lack of change gives r...  How does the dynamic structure of the external...   \n",
       "Do enhanced states exist? Boosting cognitive ca...  This research reports the existence of enhance...   \n",
       "Voulez-vous jouer avec moi? Twelve-month-olds u...  Infants understand that speech in their native...   \n",
       "Children exhibit different performance patterns...  \\nThree studies tested scope and limits of chi...   \n",
       "Rehabilitation in the real-life environment of ...  AIM: The aim of this study was to explore how ...   \n",
       "Positive effects of a computerised working memo...  Aphasia, the language disorder following brain...   \n",
       "The neuroscience of persuasion: A review with a...  Persuasion, a prevalent form of social influen...   \n",
       "\n",
       "                                                                                 doi  \\\n",
       "title                                                                                  \n",
       "The impact of happy and angry faces on working ...       10.1016/j.jecp.2017.12.012    \n",
       "Using versus liking: Young children use ownersh...       10.1016/j.jecp.2017.12.007    \n",
       "Lateral asymmetry in the freely occurring behav...    10.1080/1357650X.2017.1361964    \n",
       "Driven to distraction: A lack of change gives r...  10.1016/j.cognition.2018.01.007    \n",
       "Do enhanced states exist? Boosting cognitive ca...  10.1016/j.cognition.2018.01.006    \n",
       "Voulez-vous jouer avec moi? Twelve-month-olds u...  10.1016/j.cognition.2018.01.002    \n",
       "Children exhibit different performance patterns...  10.1016/j.cognition.2018.01.001    \n",
       "Rehabilitation in the real-life environment of ...    10.1080/09638288.2016.1277394    \n",
       "Positive effects of a computerised working memo...    10.1080/09602011.2016.1159579    \n",
       "The neuroscience of persuasion: A review with a...    10.1080/17470919.2016.1273851    \n",
       "\n",
       "                                                                                      tokenized_words  \\\n",
       "title                                                                                                   \n",
       "The impact of happy and angry faces on working ...  [Recent, cognitive, models, suggest, that, the...   \n",
       "Using versus liking: Young children use ownersh...  [Three, experiments, show, that, young, childr...   \n",
       "Lateral asymmetry in the freely occurring behav...  [USA, ., Hemispheric, laterality, and, its, pr...   \n",
       "Driven to distraction: A lack of change gives r...  [How, does, the, dynamic, structure, of, the, ...   \n",
       "Do enhanced states exist? Boosting cognitive ca...  [This, research, reports, the, existence, of, ...   \n",
       "Voulez-vous jouer avec moi? Twelve-month-olds u...  [Infants, understand, that, speech, in, their,...   \n",
       "Children exhibit different performance patterns...  [Three, studies, tested, scope, and, limits, o...   \n",
       "Rehabilitation in the real-life environment of ...  [AIM, :, The, aim, of, this, study, was, to, e...   \n",
       "Positive effects of a computerised working memo...  [Aphasia, ,, the, language, disorder, followin...   \n",
       "The neuroscience of persuasion: A review with a...  [Persuasion, ,, a, prevalent, form, of, social...   \n",
       "\n",
       "                                                                                     normalized_words  \n",
       "title                                                                                                  \n",
       "The impact of happy and angry faces on working ...  [recent, cognitive, models, suggest, ability, ...  \n",
       "Using versus liking: Young children use ownersh...  [three, experiments, show, young, children, n,...  \n",
       "Lateral asymmetry in the freely occurring behav...  [usa, hemispheric, laterality, provision, pote...  \n",
       "Driven to distraction: A lack of change gives r...  [dynamic, structure, external, world, direct, ...  \n",
       "Do enhanced states exist? Boosting cognitive ca...  [research, reports, existence, enhanced, cogni...  \n",
       "Voulez-vous jouer avec moi? Twelve-month-olds u...  [infants, understand, speech, native, language...  \n",
       "Children exhibit different performance patterns...  [three, studies, tested, scope, limits, childr...  \n",
       "Rehabilitation in the real-life environment of ...  [aim, aim, study, explore, shopping, malls, co...  \n",
       "Positive effects of a computerised working memo...  [aphasia, language, disorder, following, brain...  \n",
       "The neuroscience of persuasion: A review with a...  [persuasion, prevalent, form, social, influenc...  "
      ]
     },
     "execution_count": 20,
     "metadata": {},
     "output_type": "execute_result"
    }
   ],
   "source": [
    "pubmedDF['tokenized_words'] = pubmedDF['abstract'].apply(lambda x: nltk.word_tokenize(x))\n",
    "pubmedDF['normalized_words'] = pubmedDF['tokenized_words'].apply(lambda x: lucem_illud.normalizeTokens(x, stopwordLst = lucem_illud.stop_words_basic, stemmer = None))\n",
    "\n",
    "pubmedDF"
   ]
  },
  {
   "cell_type": "code",
   "execution_count": 22,
   "metadata": {
    "collapsed": true
   },
   "outputs": [],
   "source": [
    "keywords = ['cognitive', 'hemispheric', 'language', 'wm', 'disorder', 'structure', 'social', 'infants']"
   ]
  },
  {
   "cell_type": "code",
   "execution_count": 23,
   "metadata": {
    "scrolled": true
   },
   "outputs": [
    {
     "data": {
      "text/html": [
       "<div>\n",
       "<style scoped>\n",
       "    .dataframe tbody tr th:only-of-type {\n",
       "        vertical-align: middle;\n",
       "    }\n",
       "\n",
       "    .dataframe tbody tr th {\n",
       "        vertical-align: top;\n",
       "    }\n",
       "\n",
       "    .dataframe thead th {\n",
       "        text-align: right;\n",
       "    }\n",
       "</style>\n",
       "<table border=\"1\" class=\"dataframe\">\n",
       "  <thead>\n",
       "    <tr style=\"text-align: right;\">\n",
       "      <th></th>\n",
       "      <th>abstract</th>\n",
       "      <th>doi</th>\n",
       "      <th>tokenized_words</th>\n",
       "      <th>normalized_words</th>\n",
       "      <th>TaggedAbstracts</th>\n",
       "    </tr>\n",
       "    <tr>\n",
       "      <th>title</th>\n",
       "      <th></th>\n",
       "      <th></th>\n",
       "      <th></th>\n",
       "      <th></th>\n",
       "      <th></th>\n",
       "    </tr>\n",
       "  </thead>\n",
       "  <tbody>\n",
       "    <tr>\n",
       "      <th>The impact of happy and angry faces on working memory in depressed adolescents.</th>\n",
       "      <td>Recent cognitive models suggest that the abili...</td>\n",
       "      <td>10.1016/j.jecp.2017.12.012</td>\n",
       "      <td>[Recent, cognitive, models, suggest, that, the...</td>\n",
       "      <td>[recent, cognitive, models, suggest, ability, ...</td>\n",
       "      <td>([recent, cognitive, models, suggest, ability,...</td>\n",
       "    </tr>\n",
       "    <tr>\n",
       "      <th>Using versus liking: Young children use ownership to predict actions but not to\\ninfer preferences.</th>\n",
       "      <td>Three experiments show that young children (N ...</td>\n",
       "      <td>10.1016/j.jecp.2017.12.007</td>\n",
       "      <td>[Three, experiments, show, that, young, childr...</td>\n",
       "      <td>[three, experiments, show, young, children, n,...</td>\n",
       "      <td>([three, experiments, show, young, children, n...</td>\n",
       "    </tr>\n",
       "    <tr>\n",
       "      <th>Lateral asymmetry in the freely occurring behaviour of budgerigars (Melopsittacus\\nundulatus) and its relation to cognitive performance.\\n</th>\n",
       "      <td>USA.\\n\\nHemispheric laterality and its provisi...</td>\n",
       "      <td>10.1080/1357650X.2017.1361964</td>\n",
       "      <td>[USA, ., Hemispheric, laterality, and, its, pr...</td>\n",
       "      <td>[usa, hemispheric, laterality, provision, pote...</td>\n",
       "      <td>([usa, hemispheric, laterality, provision, pot...</td>\n",
       "    </tr>\n",
       "    <tr>\n",
       "      <th>Driven to distraction: A lack of change gives rise to mind wandering.</th>\n",
       "      <td>How does the dynamic structure of the external...</td>\n",
       "      <td>10.1016/j.cognition.2018.01.007</td>\n",
       "      <td>[How, does, the, dynamic, structure, of, the, ...</td>\n",
       "      <td>[dynamic, structure, external, world, direct, ...</td>\n",
       "      <td>([dynamic, structure, external, world, direct,...</td>\n",
       "    </tr>\n",
       "    <tr>\n",
       "      <th>Do enhanced states exist? Boosting cognitive capacities through an action video-game\\nvideo-game.\\n</th>\n",
       "      <td>This research reports the existence of enhance...</td>\n",
       "      <td>10.1016/j.cognition.2018.01.006</td>\n",
       "      <td>[This, research, reports, the, existence, of, ...</td>\n",
       "      <td>[research, reports, existence, enhanced, cogni...</td>\n",
       "      <td>([research, reports, existence, enhanced, cogn...</td>\n",
       "    </tr>\n",
       "    <tr>\n",
       "      <th>Voulez-vous jouer avec moi? Twelve-month-olds understand that foreign languages\\ncan communicate.\\n</th>\n",
       "      <td>Infants understand that speech in their native...</td>\n",
       "      <td>10.1016/j.cognition.2018.01.002</td>\n",
       "      <td>[Infants, understand, that, speech, in, their,...</td>\n",
       "      <td>[infants, understand, speech, native, language...</td>\n",
       "      <td>([infants, understand, speech, native, languag...</td>\n",
       "    </tr>\n",
       "    <tr>\n",
       "      <th>Children exhibit different performance patterns in explicit and implicit theory\\nof mind tasks.</th>\n",
       "      <td>\\nThree studies tested scope and limits of chi...</td>\n",
       "      <td>10.1016/j.cognition.2018.01.001</td>\n",
       "      <td>[Three, studies, tested, scope, and, limits, o...</td>\n",
       "      <td>[three, studies, tested, scope, limits, childr...</td>\n",
       "      <td>([three, studies, tested, scope, limits, child...</td>\n",
       "    </tr>\n",
       "    <tr>\n",
       "      <th>Rehabilitation in the real-life environment of a shopping mall.</th>\n",
       "      <td>AIM: The aim of this study was to explore how ...</td>\n",
       "      <td>10.1080/09638288.2016.1277394</td>\n",
       "      <td>[AIM, :, The, aim, of, this, study, was, to, e...</td>\n",
       "      <td>[aim, aim, study, explore, shopping, malls, co...</td>\n",
       "      <td>([aim, aim, study, explore, shopping, malls, c...</td>\n",
       "    </tr>\n",
       "    <tr>\n",
       "      <th>Positive effects of a computerised working memory and executive function training\\non sentence comprehension in aphasia.\\n</th>\n",
       "      <td>Aphasia, the language disorder following brain...</td>\n",
       "      <td>10.1080/09602011.2016.1159579</td>\n",
       "      <td>[Aphasia, ,, the, language, disorder, followin...</td>\n",
       "      <td>[aphasia, language, disorder, following, brain...</td>\n",
       "      <td>([aphasia, language, disorder, following, brai...</td>\n",
       "    </tr>\n",
       "    <tr>\n",
       "      <th>The neuroscience of persuasion: A review with an emphasis on issues and\\nopportunities.</th>\n",
       "      <td>Persuasion, a prevalent form of social influen...</td>\n",
       "      <td>10.1080/17470919.2016.1273851</td>\n",
       "      <td>[Persuasion, ,, a, prevalent, form, of, social...</td>\n",
       "      <td>[persuasion, prevalent, form, social, influenc...</td>\n",
       "      <td>([persuasion, prevalent, form, social, influen...</td>\n",
       "    </tr>\n",
       "  </tbody>\n",
       "</table>\n",
       "</div>"
      ],
      "text/plain": [
       "                                                                                             abstract  \\\n",
       "title                                                                                                   \n",
       "The impact of happy and angry faces on working ...  Recent cognitive models suggest that the abili...   \n",
       "Using versus liking: Young children use ownersh...  Three experiments show that young children (N ...   \n",
       "Lateral asymmetry in the freely occurring behav...  USA.\\n\\nHemispheric laterality and its provisi...   \n",
       "Driven to distraction: A lack of change gives r...  How does the dynamic structure of the external...   \n",
       "Do enhanced states exist? Boosting cognitive ca...  This research reports the existence of enhance...   \n",
       "Voulez-vous jouer avec moi? Twelve-month-olds u...  Infants understand that speech in their native...   \n",
       "Children exhibit different performance patterns...  \\nThree studies tested scope and limits of chi...   \n",
       "Rehabilitation in the real-life environment of ...  AIM: The aim of this study was to explore how ...   \n",
       "Positive effects of a computerised working memo...  Aphasia, the language disorder following brain...   \n",
       "The neuroscience of persuasion: A review with a...  Persuasion, a prevalent form of social influen...   \n",
       "\n",
       "                                                                                 doi  \\\n",
       "title                                                                                  \n",
       "The impact of happy and angry faces on working ...       10.1016/j.jecp.2017.12.012    \n",
       "Using versus liking: Young children use ownersh...       10.1016/j.jecp.2017.12.007    \n",
       "Lateral asymmetry in the freely occurring behav...    10.1080/1357650X.2017.1361964    \n",
       "Driven to distraction: A lack of change gives r...  10.1016/j.cognition.2018.01.007    \n",
       "Do enhanced states exist? Boosting cognitive ca...  10.1016/j.cognition.2018.01.006    \n",
       "Voulez-vous jouer avec moi? Twelve-month-olds u...  10.1016/j.cognition.2018.01.002    \n",
       "Children exhibit different performance patterns...  10.1016/j.cognition.2018.01.001    \n",
       "Rehabilitation in the real-life environment of ...    10.1080/09638288.2016.1277394    \n",
       "Positive effects of a computerised working memo...    10.1080/09602011.2016.1159579    \n",
       "The neuroscience of persuasion: A review with a...    10.1080/17470919.2016.1273851    \n",
       "\n",
       "                                                                                      tokenized_words  \\\n",
       "title                                                                                                   \n",
       "The impact of happy and angry faces on working ...  [Recent, cognitive, models, suggest, that, the...   \n",
       "Using versus liking: Young children use ownersh...  [Three, experiments, show, that, young, childr...   \n",
       "Lateral asymmetry in the freely occurring behav...  [USA, ., Hemispheric, laterality, and, its, pr...   \n",
       "Driven to distraction: A lack of change gives r...  [How, does, the, dynamic, structure, of, the, ...   \n",
       "Do enhanced states exist? Boosting cognitive ca...  [This, research, reports, the, existence, of, ...   \n",
       "Voulez-vous jouer avec moi? Twelve-month-olds u...  [Infants, understand, that, speech, in, their,...   \n",
       "Children exhibit different performance patterns...  [Three, studies, tested, scope, and, limits, o...   \n",
       "Rehabilitation in the real-life environment of ...  [AIM, :, The, aim, of, this, study, was, to, e...   \n",
       "Positive effects of a computerised working memo...  [Aphasia, ,, the, language, disorder, followin...   \n",
       "The neuroscience of persuasion: A review with a...  [Persuasion, ,, a, prevalent, form, of, social...   \n",
       "\n",
       "                                                                                     normalized_words  \\\n",
       "title                                                                                                   \n",
       "The impact of happy and angry faces on working ...  [recent, cognitive, models, suggest, ability, ...   \n",
       "Using versus liking: Young children use ownersh...  [three, experiments, show, young, children, n,...   \n",
       "Lateral asymmetry in the freely occurring behav...  [usa, hemispheric, laterality, provision, pote...   \n",
       "Driven to distraction: A lack of change gives r...  [dynamic, structure, external, world, direct, ...   \n",
       "Do enhanced states exist? Boosting cognitive ca...  [research, reports, existence, enhanced, cogni...   \n",
       "Voulez-vous jouer avec moi? Twelve-month-olds u...  [infants, understand, speech, native, language...   \n",
       "Children exhibit different performance patterns...  [three, studies, tested, scope, limits, childr...   \n",
       "Rehabilitation in the real-life environment of ...  [aim, aim, study, explore, shopping, malls, co...   \n",
       "Positive effects of a computerised working memo...  [aphasia, language, disorder, following, brain...   \n",
       "The neuroscience of persuasion: A review with a...  [persuasion, prevalent, form, social, influenc...   \n",
       "\n",
       "                                                                                      TaggedAbstracts  \n",
       "title                                                                                                  \n",
       "The impact of happy and angry faces on working ...  ([recent, cognitive, models, suggest, ability,...  \n",
       "Using versus liking: Young children use ownersh...  ([three, experiments, show, young, children, n...  \n",
       "Lateral asymmetry in the freely occurring behav...  ([usa, hemispheric, laterality, provision, pot...  \n",
       "Driven to distraction: A lack of change gives r...  ([dynamic, structure, external, world, direct,...  \n",
       "Do enhanced states exist? Boosting cognitive ca...  ([research, reports, existence, enhanced, cogn...  \n",
       "Voulez-vous jouer avec moi? Twelve-month-olds u...  ([infants, understand, speech, native, languag...  \n",
       "Children exhibit different performance patterns...  ([three, studies, tested, scope, limits, child...  \n",
       "Rehabilitation in the real-life environment of ...  ([aim, aim, study, explore, shopping, malls, c...  \n",
       "Positive effects of a computerised working memo...  ([aphasia, language, disorder, following, brai...  \n",
       "The neuroscience of persuasion: A review with a...  ([persuasion, prevalent, form, social, influen...  "
      ]
     },
     "execution_count": 23,
     "metadata": {},
     "output_type": "execute_result"
    }
   ],
   "source": [
    "taggedDocs = []\n",
    "for index, row in pubmedDF.iterrows():\n",
    "    docKeywords = [s for s in keywords if s in row['normalized_words']]\n",
    "    docKeywords.append(row['doi'])\n",
    "   \n",
    "    taggedDocs.append(gensim.models.doc2vec.LabeledSentence(words = row['normalized_words'], tags = docKeywords))\n",
    "pubmedDF['TaggedAbstracts'] = taggedDocs\n",
    "pubmedDF"
   ]
  },
  {
   "cell_type": "code",
   "execution_count": 24,
   "metadata": {
    "collapsed": true
   },
   "outputs": [],
   "source": [
    "pubmedD2V = gensim.models.doc2vec.Doc2Vec(pubmedDF['TaggedAbstracts'], size = 100) "
   ]
  },
  {
   "cell_type": "code",
   "execution_count": 51,
   "metadata": {},
   "outputs": [
    {
     "data": {
      "text/plain": [
       "[('10.1080/09638288.2016.1277394 ', 0.18733903765678406),\n",
       " ('10.1016/j.cognition.2018.01.006 ', 0.10309246927499771),\n",
       " ('structure', 0.09946753084659576),\n",
       " ('10.1016/j.cognition.2018.01.002 ', 0.086788609623909),\n",
       " ('10.1080/09602011.2016.1159579 ', 0.06390310078859329)]"
      ]
     },
     "execution_count": 51,
     "metadata": {},
     "output_type": "execute_result"
    }
   ],
   "source": [
    "pubmedD2V.docvecs.most_similar([ pubmedD2V['infants'] ], topn=5 )"
   ]
  },
  {
   "cell_type": "code",
   "execution_count": 52,
   "metadata": {},
   "outputs": [
    {
     "data": {
      "text/plain": [
       "[('10.1080/17470919.2016.1273851 ', 0.12822090089321136),\n",
       " ('10.1016/j.cognition.2018.01.001 ', 0.11482397466897964),\n",
       " ('10.1016/j.cognition.2018.01.002 ', 0.09095435589551926),\n",
       " ('hemispheric', 0.060546353459358215),\n",
       " ('disorder', 0.056647542864084244)]"
      ]
     },
     "execution_count": 52,
     "metadata": {},
     "output_type": "execute_result"
    }
   ],
   "source": [
    "pubmedD2V.docvecs.most_similar([ pubmedD2V['language'] ], topn=5 )"
   ]
  },
  {
   "cell_type": "code",
   "execution_count": 81,
   "metadata": {
    "scrolled": true
   },
   "outputs": [
    {
     "data": {
      "text/plain": [
       "[('10.1016/j.cognition.2018.01.007 ', 0.2039460837841034),\n",
       " ('10.1080/09638288.2016.1277394 ', 0.14052575826644897),\n",
       " ('10.1016/j.cognition.2018.01.006 ', 0.12188012152910233),\n",
       " ('wm', 0.10770007222890854),\n",
       " ('10.1016/j.cognition.2018.01.001 ', 0.07589465379714966)]"
      ]
     },
     "execution_count": 81,
     "metadata": {},
     "output_type": "execute_result"
    }
   ],
   "source": [
    "pubmedD2V.docvecs.most_similar([ pubmedD2V['wm'] ], topn=5 )"
   ]
  },
  {
   "cell_type": "code",
   "execution_count": 79,
   "metadata": {
    "scrolled": true
   },
   "outputs": [
    {
     "data": {
      "text/plain": [
       "[('10.1016/j.cognition.2018.01.001 ', 0.23011130094528198),\n",
       " ('wm', 0.15822654962539673),\n",
       " ('10.1080/17470919.2016.1273851 ', 0.13575401902198792),\n",
       " ('10.1016/j.cognition.2018.01.007 ', 0.12903247773647308),\n",
       " ('cognitive', 0.1145193800330162)]"
      ]
     },
     "execution_count": 79,
     "metadata": {},
     "output_type": "execute_result"
    }
   ],
   "source": [
    "pubmedD2V.docvecs.most_similar([ pubmedD2V['language']+pubmedD2V['cognitive']+pubmedD2V['wm']], topn=5 )"
   ]
  },
  {
   "cell_type": "code",
   "execution_count": 59,
   "metadata": {},
   "outputs": [],
   "source": [
    "targetDocs = pubmedDF['doi'][:10]\n",
    "heatmapMatrixC = []\n",
    "\n",
    "for tagOuter in targetDocs:\n",
    "    column = []\n",
    "    tagVec = pubmedD2V.docvecs[tagOuter].reshape(1, -1)\n",
    "    for tagInner in keywords:\n",
    "        column.append(sklearn.metrics.pairwise.cosine_similarity(tagVec, pubmedD2V.docvecs[tagInner].reshape(1, -1))[0][0])\n",
    "    heatmapMatrixC.append(column)\n",
    "heatmapMatrixC = np.array(heatmapMatrixC)"
   ]
  },
  {
   "cell_type": "code",
   "execution_count": 60,
   "metadata": {},
   "outputs": [
    {
     "data": {
      "image/png": "iVBORw0KGgoAAAANSUhEUgAAAhUAAAEvCAYAAADy7TMoAAAABHNCSVQICAgIfAhkiAAAAAlwSFlz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\nCIKgXwijIgiCIAiCfuH/ACCD6Os1dMJOAAAAAElFTkSuQmCC\n",
      "text/plain": [
       "<matplotlib.figure.Figure at 0x1f689e26240>"
      ]
     },
     "metadata": {},
     "output_type": "display_data"
    }
   ],
   "source": [
    "fig, ax = plt.subplots()\n",
    "hmap = ax.pcolor(heatmapMatrixC, cmap='terrain')\n",
    "cbar = plt.colorbar(hmap)\n",
    "\n",
    "cbar.set_label('cosine similarity', rotation=270)\n",
    "a = ax.set_xticks(np.arange(heatmapMatrixC.shape[1]) + 0.5, minor=False)\n",
    "a = ax.set_yticks(np.arange(heatmapMatrixC.shape[0]) + 0.5, minor=False)\n",
    "\n",
    "a = ax.set_xticklabels(keywords, minor=False, rotation=270)\n",
    "a = ax.set_yticklabels(targetDocs, minor=False)"
   ]
  },
  {
   "cell_type": "code",
   "execution_count": 49,
   "metadata": {
    "collapsed": true
   },
   "outputs": [],
   "source": [
    "\n",
    "\n",
    "heatmapMatrixD = []\n",
    "\n",
    "for tagOuter in targetDocs:\n",
    "    column = []\n",
    "    tagVec = pubmedD2V.docvecs[tagOuter].reshape(1, -1)\n",
    "    for tagInner in targetDocs:\n",
    "        column.append(sklearn.metrics.pairwise.cosine_similarity(tagVec, pubmedD2V.docvecs[tagInner].reshape(1, -1))[0][0])\n",
    "    heatmapMatrixD.append(column)\n",
    "heatmapMatrixD = np.array(heatmapMatrixD)"
   ]
  },
  {
   "cell_type": "code",
   "execution_count": 50,
   "metadata": {},
   "outputs": [
    {
     "data": {
      "image/png": "iVBORw0KGgoAAAANSUhEUgAAAg8AAAGhCAYAAADm21ehAAAABHNCSVQICAgIfAhkiAAAAAlwSFlz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\nMB6CIAiCIBgSYTwEQRAEQTAk/h9eTJ+qf/okSgAAAABJRU5ErkJggg==\n",
      "text/plain": [
       "<matplotlib.figure.Figure at 0x1f689c9d4e0>"
      ]
     },
     "metadata": {},
     "output_type": "display_data"
    }
   ],
   "source": [
    "fig, ax = plt.subplots()\n",
    "hmap = ax.pcolor(heatmapMatrixD, cmap='terrain')\n",
    "cbar = plt.colorbar(hmap)\n",
    "\n",
    "cbar.set_label('cosine similarity', rotation=270)\n",
    "a = ax.set_xticks(np.arange(heatmapMatrixD.shape[1]) + 0.5, minor=False)\n",
    "a = ax.set_yticks(np.arange(heatmapMatrixD.shape[0]) + 0.5, minor=False)\n",
    "\n",
    "a = ax.set_xticklabels(targetDocs, minor=False, rotation=270)\n",
    "a = ax.set_yticklabels(targetDocs, minor=False)"
   ]
  },
  {
   "cell_type": "markdown",
   "metadata": {},
   "source": [
    "Word frequency"
   ]
  },
  {
   "cell_type": "code",
   "execution_count": 61,
   "metadata": {},
   "outputs": [
    {
     "data": {
      "text/plain": [
       "[('wm', 13),\n",
       " ('cognitive', 12),\n",
       " ('rehabilitation', 12),\n",
       " ('task', 10),\n",
       " ('suggest', 9),\n",
       " ('use', 8),\n",
       " ('infants', 8),\n",
       " ('adolescents', 7),\n",
       " ('results', 7),\n",
       " ('showed', 7),\n",
       " ('children', 7),\n",
       " ('preferences', 7),\n",
       " ('attention', 7),\n",
       " ('mind', 7),\n",
       " ('language', 7),\n",
       " ('understanding', 7),\n",
       " ('factors', 7),\n",
       " ('mall', 7),\n",
       " ('information', 6),\n",
       " ('two', 6)]"
      ]
     },
     "execution_count": 61,
     "metadata": {},
     "output_type": "execute_result"
    }
   ],
   "source": [
    "countsDict = {}\n",
    "for word in pubmedDF['normalized_words'].sum():\n",
    "    if word in countsDict:\n",
    "        countsDict[word] += 1\n",
    "    else:\n",
    "        countsDict[word] = 1\n",
    "word_counts = sorted(countsDict.items(), key = lambda x : x[1], reverse = True)\n",
    "word_counts[:20]"
   ]
  },
  {
   "cell_type": "code",
   "execution_count": 62,
   "metadata": {
    "collapsed": true
   },
   "outputs": [],
   "source": [
    "pubmedDF['normalized_words_POS'] = [nltk.pos_tag(t) for t in pubmedDF['normalized_words']]"
   ]
  },
  {
   "cell_type": "code",
   "execution_count": 65,
   "metadata": {},
   "outputs": [
    {
     "data": {
      "text/plain": [
       "[('recent', FreqDist({'JJ': 2})),\n",
       " ('cognitive', FreqDist({'JJ': 11, 'NN': 1})),\n",
       " ('models', FreqDist({'NNS': 1})),\n",
       " ('suggest', FreqDist({'VBP': 9})),\n",
       " ('ability', FreqDist({'NN': 1})),\n",
       " ('control', FreqDist({'NN': 2})),\n",
       " ('emotional', FreqDist({'JJ': 4})),\n",
       " ('information', FreqDist({'NN': 6})),\n",
       " ('working', FreqDist({'VBG': 3})),\n",
       " ('memory', FreqDist({'NN': 2}))]"
      ]
     },
     "execution_count": 65,
     "metadata": {},
     "output_type": "execute_result"
    }
   ],
   "source": [
    "pmcfdist_WordtoPOS = nltk.ConditionalFreqDist(pubmedDF['normalized_words_POS'].sum())\n",
    "list(pmcfdist_WordtoPOS.items())[:10]"
   ]
  },
  {
   "cell_type": "code",
   "execution_count": 66,
   "metadata": {
    "collapsed": true
   },
   "outputs": [],
   "source": [
    "pmcfdist_POStoWord = nltk.ConditionalFreqDist((p, w) for w, p in pubmedDF['normalized_words_POS'].sum())"
   ]
  },
  {
   "cell_type": "code",
   "execution_count": 68,
   "metadata": {
    "scrolled": true
   },
   "outputs": [
    {
     "data": {
      "text/plain": [
       "[('cognitive', 11),\n",
       " ('lateral', 5),\n",
       " ('native', 5),\n",
       " ('emotional', 4),\n",
       " ('wm', 4),\n",
       " ('predict', 4),\n",
       " ('different', 4),\n",
       " ('understanding', 4),\n",
       " ('social', 4),\n",
       " ('n', 3)]"
      ]
     },
     "execution_count": 68,
     "metadata": {},
     "output_type": "execute_result"
    }
   ],
   "source": [
    "pmcfdist_POStoWord['JJ'].most_common(10)"
   ]
  },
  {
   "cell_type": "code",
   "execution_count": 72,
   "metadata": {
    "scrolled": true
   },
   "outputs": [
    {
     "data": {
      "text/plain": [
       "[('however', 3),\n",
       " ('also', 3),\n",
       " ('n', 2),\n",
       " ('rather', 2),\n",
       " ('closely', 2),\n",
       " ('generally', 2),\n",
       " ('negatively', 2),\n",
       " ('specifically', 2),\n",
       " ('thus', 2),\n",
       " ('significantly', 2)]"
      ]
     },
     "execution_count": 72,
     "metadata": {},
     "output_type": "execute_result"
    }
   ],
   "source": [
    "pmcfdist_POStoWord['RB'].most_common(10)"
   ]
  },
  {
   "cell_type": "code",
   "execution_count": 71,
   "metadata": {},
   "outputs": [
    {
     "name": "stdout",
     "output_type": "stream",
     "text": [
      "however\n",
      "0.0472972972972973\n"
     ]
    }
   ],
   "source": [
    "pmcpdist_POStoWord = nltk.ConditionalProbDist(pmcfdist_POStoWord, nltk.ELEProbDist)\n",
    "\n",
    "print(pmcpdist_POStoWord['RB'].max())\n",
    "\n",
    "#probability\n",
    "print(pmcpdist_POStoWord['RB'].prob(pmcpdist_POStoWord['RB'].max()))"
   ]
  },
  {
   "cell_type": "code",
   "execution_count": 69,
   "metadata": {},
   "outputs": [
    {
     "data": {
      "text/plain": [
       "[('rehabilitation', 11),\n",
       " ('task', 9),\n",
       " ('attention', 7),\n",
       " ('language', 7),\n",
       " ('information', 6),\n",
       " ('wm', 6),\n",
       " ('condition', 6),\n",
       " ('ownership', 6),\n",
       " ('performance', 5),\n",
       " ('preference', 5)]"
      ]
     },
     "execution_count": 69,
     "metadata": {},
     "output_type": "execute_result"
    }
   ],
   "source": [
    "pmcfdist_POStoWord['NN'].most_common(10)"
   ]
  },
  {
   "cell_type": "code",
   "execution_count": 73,
   "metadata": {},
   "outputs": [
    {
     "name": "stdout",
     "output_type": "stream",
     "text": [
      "rehabilitation\n",
      "0.02990897269180754\n"
     ]
    }
   ],
   "source": [
    "print(pmcpdist_POStoWord['NN'].max())\n",
    "\n",
    "#probability\n",
    "print(pmcpdist_POStoWord['NN'].prob(pmcpdist_POStoWord['NN'].max()))"
   ]
  },
  {
   "cell_type": "markdown",
   "metadata": {},
   "source": [
    "collocations"
   ]
  },
  {
   "cell_type": "code",
   "execution_count": 75,
   "metadata": {},
   "outputs": [
    {
     "name": "stdout",
     "output_type": "stream",
     "text": [
      "There are 1083 bigrams in the finder\n"
     ]
    }
   ],
   "source": [
    "pmBigrams = nltk.collocations.BigramCollocationFinder.from_words(pubmedDF['normalized_words'].sum())\n",
    "print(\"There are {} bigrams in the finder\".format(pmBigrams.N))"
   ]
  },
  {
   "cell_type": "code",
   "execution_count": 76,
   "metadata": {
    "scrolled": true
   },
   "outputs": [
    {
     "data": {
      "text/plain": [
       "[(('mind', 'wandering'), 55.38162947257092),\n",
       " (('sentence', 'comprehension'), 52.79477508813193),\n",
       " (('depressed', 'adolescents'), 43.23406162232533),\n",
       " (('shopping', 'malls'), 40.15629313152818),\n",
       " (('lateral', 'preferences'), 38.23560842158646),\n",
       " (('native', 'language'), 38.23560842158646),\n",
       " (('people', 'disabilities'), 36.8262686597333),\n",
       " (('spoken', 'sentence'), 32.329441071166805),\n",
       " (('healthy', 'adolescents'), 31.764236350877166),\n",
       " (('enhanced', 'cognitive'), 29.91006033418109),\n",
       " (('asked', 'attend'), 29.173676545937674),\n",
       " (('context', 'accessibility'), 29.173676545937674),\n",
       " (('foster', 'independence'), 29.173676545937674),\n",
       " (('goals', 'targeting'), 29.173676545937674),\n",
       " (('helps', 'foster'), 29.173676545937674),\n",
       " (('independence', 'normalization'), 29.173676545937674),\n",
       " (('motivating', 'helps'), 29.173676545937674),\n",
       " (('narrative', 'shifts'), 29.173676545937674),\n",
       " (('readiness', 'environmental'), 29.173676545937674),\n",
       " (('store', 'owners'), 29.173676545937674),\n",
       " (('predict', 'actions'), 27.872137631034104),\n",
       " (('cognitive', 'states'), 27.828906345832376),\n",
       " (('assessment', 'treatment'), 25.354591536168797),\n",
       " (('attitudes', 'store'), 25.354591536168797),\n",
       " (('clinical', 'context'), 25.354591536168797),\n",
       " (('contribute', 'optimizing'), 25.354591536168797),\n",
       " (('explicit', 'theory'), 25.354591536168797),\n",
       " (('level', 'readiness'), 25.354591536168797),\n",
       " (('optimizing', 'community'), 25.354591536168797),\n",
       " (('outcome', 'measures'), 25.354591536168797),\n",
       " (('personality', 'level'), 25.354591536168797),\n",
       " (('working', 'memory'), 25.354591536168797),\n",
       " (('current', 'study'), 23.62849910145811),\n",
       " (('event', 'boundaries'), 23.62849910145811),\n",
       " (('preening', 'side'), 23.62849910145811),\n",
       " (('social', 'influence'), 23.62849910145811),\n",
       " (('exhibited', 'participants'), 22.44355987584511),\n",
       " (('participants', 'asked'), 22.44355987584511),\n",
       " (('side', 'preference'), 22.44355987584511),\n",
       " (('treatment', 'environment'), 22.44355987584511)]"
      ]
     },
     "execution_count": 76,
     "metadata": {},
     "output_type": "execute_result"
    }
   ],
   "source": [
    "bigram_measures = nltk.collocations.BigramAssocMeasures()\n",
    "pmBigrams.score_ngrams(bigram_measures.likelihood_ratio)[:40]\n"
   ]
  },
  {
   "cell_type": "code",
   "execution_count": 78,
   "metadata": {
    "scrolled": true
   },
   "outputs": [
    {
     "data": {
      "text/plain": [
       "[(('spoken', 'sentence', 'comprehension'), 1.7320193038057523),\n",
       " (('enhanced', 'cognitive', 'states'), 1.7319444823683299),\n",
       " (('foster', 'independence', 'normalization'), 1.4142087393640552),\n",
       " (('helps', 'foster', 'independence'), 1.4142087393640552),\n",
       " (('motivating', 'helps', 'foster'), 1.4142087393640552),\n",
       " (('attitudes', 'store', 'owners'), 1.4142063278595354),\n",
       " (('clinical', 'context', 'accessibility'), 1.4142063278595354),\n",
       " (('level', 'readiness', 'environmental'), 1.4142063278595354),\n",
       " (('personality', 'level', 'readiness'), 1.4142063278595354),\n",
       " (('contribute', 'optimizing', 'community'), 1.4142027106027557),\n",
       " (('optimizing', 'community', 'integration'), 1.4142027106027557),\n",
       " (('participants', 'asked', 'attend'), 1.414201504850496),\n",
       " (('social', 'attitudes', 'store'), 1.414199093345976),\n",
       " (('context', 'accessibility', 'mall'), 1.4141966818414562),\n",
       " (('independence', 'normalization', 'factors'), 1.4141966818414562),\n",
       " (('readiness', 'environmental', 'factors'), 1.4141966818414562),\n",
       " (('assessment', 'treatment', 'environment'), 1.4141954760891964),\n",
       " (('community', 'integration', 'people'), 1.4141918588324167),\n",
       " (('could', 'contribute', 'optimizing'), 1.4141918588324167),\n",
       " (('integration', 'people', 'disabilities'), 1.4141918588324167)]"
      ]
     },
     "execution_count": 78,
     "metadata": {},
     "output_type": "execute_result"
    }
   ],
   "source": [
    "trigram_measures = nltk.collocations.TrigramAssocMeasures()\n",
    "pmTrigrams = nltk.collocations.TrigramCollocationFinder.from_words(pubmedDF['normalized_words'].sum())\n",
    "pmTrigrams.score_ngrams(trigram_measures.student_t)[:20]"
   ]
  },
  {
=======
>>>>>>> 0dbd711943f6965fc91c883fe001d81eba4df43a
   "cell_type": "markdown",
   "metadata": {},
   "source": [
    "# Example Annotation Dataset"
   ]
  },
  {
   "cell_type": "markdown",
   "metadata": {},
   "source": [
    "Load Rzhetsky et al (2009)'s sample dataset, which can be found [here](https://github.com/enthought/uchicago-pyanno/tree/master/data). This data is the result of a content analytic / content extraction study in which Andrey Rzhetsky and colleagues from the National Library of Medicine, published [here](http://journals.plos.org/ploscompbiol/article?id=10.1371/journal.pcbi.1000391) in [PLOS Computational Biology](http://journals.plos.org/ploscompbiol/), gave eight annotators 10,000 sentence chunks from biomedical text in biomedical abstracts and articles, then asked them, in a loop design schematically illustrated below that provided 3 independent codings for each document. The sampling strategy pursued diversity by drawing from PubMed abstracts (1000) and full-text articles (9000: 20% from abstracts, 10% from introductions, 20% from methods, 25% from results, and 25% from discussions.) The dataset extract here involves respondents codes for sentences in terms of their *Evidence*: {0, 1, 2, 3, -1} where 0 is the complete lack of evidence, 3 is direct evidence present within the sentence, and -1 is didn't respond. (They also crowdsourced and analyzed *polarity*, *certainty*, and *number*). For example, consider the following two abutting sentence chunks: *\"Because null mutations in toxR and toxT abolish CT and TcpA expression in the El Tor biotype and also attenuate virulence...\"* [i.e., average certainty = 0], *\"...it is likely that the ToxR regulon has functional similarities between the two biotypes despite the clear differences in the inducing parameters observed in vitro\"* [i.e., average certainty = 1].\""
   ]
  },
  {
   "cell_type": "code",
<<<<<<< HEAD
   "execution_count": 2,
=======
   "execution_count": null,
>>>>>>> 0dbd711943f6965fc91c883fe001d81eba4df43a
   "metadata": {
    "collapsed": true
   },
   "outputs": [],
   "source": [
    "x = np.loadtxt(\"../data/pyAnno/testdata_numerical.txt\")\n",
    "anno = AnnotationsContainer.from_array(x, missing_values=[-1])"
   ]
  },
  {
   "cell_type": "markdown",
   "metadata": {},
   "source": [
    "Interrogate the AnnotationsContainer object."
   ]
  },
  {
   "cell_type": "code",
<<<<<<< HEAD
   "execution_count": 5,
   "metadata": {},
   "outputs": [
    {
     "data": {
      "text/plain": [
       "array([[ 1,  2,  3, ..., -1, -1, -1],\n",
       "       [ 0,  0,  0, ..., -1, -1, -1],\n",
       "       [ 2,  2,  1, ..., -1, -1, -1],\n",
       "       ...,\n",
       "       [ 2,  2, -1, ..., -1, -1,  1],\n",
       "       [ 2,  2, -1, ..., -1, -1,  3],\n",
       "       [ 1,  1, -1, ..., -1, -1,  0]])"
      ]
     },
     "execution_count": 5,
     "metadata": {},
     "output_type": "execute_result"
    }
   ],
=======
   "execution_count": null,
   "metadata": {
    "collapsed": false
   },
   "outputs": [],
>>>>>>> 0dbd711943f6965fc91c883fe001d81eba4df43a
   "source": [
    "anno.annotations"
   ]
  },
  {
   "cell_type": "code",
<<<<<<< HEAD
   "execution_count": 6,
   "metadata": {},
   "outputs": [
    {
     "data": {
      "text/plain": [
       "[1.0, 2.0, 3.0, 4.0]"
      ]
     },
     "execution_count": 6,
     "metadata": {},
     "output_type": "execute_result"
    }
   ],
=======
   "execution_count": null,
   "metadata": {
    "collapsed": false
   },
   "outputs": [],
>>>>>>> 0dbd711943f6965fc91c883fe001d81eba4df43a
   "source": [
    "anno.labels"
   ]
  },
  {
   "cell_type": "code",
<<<<<<< HEAD
   "execution_count": 7,
   "metadata": {},
   "outputs": [
    {
     "data": {
      "text/plain": [
       "[-1]"
      ]
     },
     "execution_count": 7,
     "metadata": {},
     "output_type": "execute_result"
    }
   ],
=======
   "execution_count": null,
   "metadata": {
    "collapsed": false
   },
   "outputs": [],
>>>>>>> 0dbd711943f6965fc91c883fe001d81eba4df43a
   "source": [
    "anno.missing_values"
   ]
  },
  {
   "cell_type": "markdown",
   "metadata": {},
   "source": [
    "# Annotation Statistics"
   ]
  },
  {
   "cell_type": "markdown",
   "metadata": {},
   "source": [
    "First, we assume categorical codes...that each code is qualitatively distinct from each other. Two measures are primarily used for this: Scott's $\\pi$, Cohen's $\\kappa$, and Krippendorff's $\\alpha$ which each measure the extent of agreement between two annotators, but take into account the possibility of the agreement occurring by chance in slightly different ways. Any agreement measure begins with the frequency of codes:"
   ]
  },
  {
   "cell_type": "code",
<<<<<<< HEAD
   "execution_count": 8,
   "metadata": {},
   "outputs": [
    {
     "data": {
      "text/plain": [
       "array([0.11666667, 0.245     , 0.34083333, 0.2975    ])"
      ]
     },
     "execution_count": 8,
     "metadata": {},
     "output_type": "execute_result"
    }
   ],
=======
   "execution_count": null,
   "metadata": {
    "collapsed": false
   },
   "outputs": [],
>>>>>>> 0dbd711943f6965fc91c883fe001d81eba4df43a
   "source": [
    "pyanno.measures.agreement.labels_frequency(anno.annotations,4)"
   ]
  },
  {
   "cell_type": "markdown",
   "metadata": {},
   "source": [
    "Now consider the \"confusion matrix\" or matrix of coded agreements between any two coders:"
   ]
  },
  {
   "cell_type": "code",
<<<<<<< HEAD
   "execution_count": 9,
   "metadata": {},
   "outputs": [
    {
     "name": "stdout",
     "output_type": "stream",
     "text": [
      "[[ 8.  7.  3.  2.]\n",
      " [ 9. 30. 13.  3.]\n",
      " [ 2.  9. 42. 11.]\n",
      " [ 1.  7. 14. 39.]]\n"
     ]
    },
    {
     "data": {
      "image/png": "iVBORw0KGgoAAAANSUhEUgAAAVoAAAD8CAYAAAA2Y2wxAAAABHNCSVQICAgIfAhkiAAAAAlwSFlz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\ntJLUmEErSY0ZtJLU2P8DNrhvezLNwQIAAAAASUVORK5CYII=\n",
      "text/plain": [
       "<matplotlib.figure.Figure at 0x28a7639bbe0>"
      ]
     },
     "metadata": {},
     "output_type": "display_data"
    }
   ],
=======
   "execution_count": null,
   "metadata": {
    "collapsed": false
   },
   "outputs": [],
>>>>>>> 0dbd711943f6965fc91c883fe001d81eba4df43a
   "source": [
    "c = pyanno.measures.agreement.confusion_matrix(anno.annotations[:,0], anno.annotations[:,1],4)\n",
    "print(c)\n",
    "ac = seaborn.heatmap(c)\n",
    "plt.show()"
   ]
  },
  {
   "cell_type": "markdown",
   "metadata": {},
   "source": [
    "Scott's $\\pi$ is computed as:\n",
    "\n",
    "$\\pi = \\frac{\\text{Pr}(a)-\\text{Pr}(e)}{1-\\text{Pr}(e)}$\n",
    "\n",
    "Where Pr($a$) is relative observed agreement, and Pr($e$) is expected agreement using joint proportions calculated from the confusion matrix or matrix of coded agreements between any two coders:"
   ]
  },
  {
   "cell_type": "code",
<<<<<<< HEAD
   "execution_count": 10,
   "metadata": {},
   "outputs": [
    {
     "data": {
      "text/plain": [
       "0.4386478265891502"
      ]
     },
     "execution_count": 10,
     "metadata": {},
     "output_type": "execute_result"
    }
   ],
=======
   "execution_count": null,
   "metadata": {
    "collapsed": false
   },
   "outputs": [],
>>>>>>> 0dbd711943f6965fc91c883fe001d81eba4df43a
   "source": [
    "scotts_pi(anno.annotations[:,0], anno.annotations[:,1])"
   ]
  },
  {
   "cell_type": "markdown",
   "metadata": {},
   "source": [
    "The generalization of Scott's $\\pi$ to $n$ coders is Fleiss' $\\kappa$ (Fleiss called it $\\kappa$ because he thought he was generalizing Cohen's $\\kappa$)"
   ]
  },
  {
   "cell_type": "code",
<<<<<<< HEAD
   "execution_count": 11,
   "metadata": {},
   "outputs": [
    {
     "data": {
      "text/plain": [
       "0.40417653771912765"
      ]
     },
     "execution_count": 11,
     "metadata": {},
     "output_type": "execute_result"
    }
   ],
=======
   "execution_count": null,
   "metadata": {
    "collapsed": false
   },
   "outputs": [],
>>>>>>> 0dbd711943f6965fc91c883fe001d81eba4df43a
   "source": [
    "fleiss_kappa(anno.annotations[::])"
   ]
  },
  {
   "cell_type": "markdown",
   "metadata": {},
   "source": [
    "Krippendorff's $\\alpha$ generalizes of Fleiss' $\\kappa$ to $n$ coders and takes into account the fact that annotations here are not categorically different, but ordinal, by adding a weight matrix in which off-diagonal cells contain weights indicating the seriousness of the disagreement between each score. When produced with no arguments, it simply produces an arithmetic distance (e.g., 3-1=2), such that cells one off the diagonal are weighted 1, two off 2, etc."
   ]
  },
  {
   "cell_type": "code",
<<<<<<< HEAD
   "execution_count": 12,
   "metadata": {},
   "outputs": [
    {
     "data": {
      "text/plain": [
       "0.6472588223831547"
      ]
     },
     "execution_count": 12,
     "metadata": {},
     "output_type": "execute_result"
    }
   ],
=======
   "execution_count": null,
   "metadata": {
    "collapsed": false
   },
   "outputs": [],
>>>>>>> 0dbd711943f6965fc91c883fe001d81eba4df43a
   "source": [
    "krippendorffs_alpha(anno.annotations[::])"
   ]
  },
  {
   "cell_type": "markdown",
   "metadata": {},
   "source": [
    "Like Scott's $\\pi$, Cohen's $\\kappa$ also takes into account the possibility of the agreement occurring by chance, but in the following way:\n",
    "\n",
    "$\\kappa = \\frac{p_o-p_e}{1-p_e}=1-\\frac{1-p_o}{p_e}$\n",
    "\n",
    "where $p_o$ is the relative observed agreement among raters, and $p_e$ is the hypothetical probability of chance agreement, using the observed data to calculate the probabilities of each observer randomly saying each category. If the raters are in complete agreement then $\\kappa = 1$. If there is no agreement among the raters other than what would be expected by chance (as given by $p_e$), $\\kappa ≤ 0 $. Here, Cohen's $\\kappa$ statistic for the first two annotators is computed. This is probably the most common metric of agreement."
   ]
  },
  {
   "cell_type": "code",
<<<<<<< HEAD
   "execution_count": 13,
   "metadata": {},
   "outputs": [
    {
     "data": {
      "text/plain": [
       "0.43917037219392857"
      ]
     },
     "execution_count": 13,
     "metadata": {},
     "output_type": "execute_result"
    }
   ],
=======
   "execution_count": null,
   "metadata": {
    "collapsed": false
   },
   "outputs": [],
>>>>>>> 0dbd711943f6965fc91c883fe001d81eba4df43a
   "source": [
    "cohens_kappa(anno.annotations[:,0], anno.annotations[:,1])"
   ]
  },
  {
   "cell_type": "code",
<<<<<<< HEAD
   "execution_count": 14,
   "metadata": {},
   "outputs": [
    {
     "name": "stdout",
     "output_type": "stream",
     "text": [
      "[[1.         0.43917037 0.47677621        nan        nan        nan\n",
      "  0.45819119 0.43381462]\n",
      " [0.43917037 1.         0.38432922 0.41344423        nan        nan\n",
      "         nan 0.33643611]\n",
      " [0.47677621 0.38432922 1.         0.39583333 0.51704894        nan\n",
      "         nan        nan]\n",
      " [       nan 0.41344423 0.39583333 1.         0.34597068 0.4446844\n",
      "         nan        nan]\n",
      " [       nan        nan 0.51704894 0.34597068 1.         0.37938644\n",
      "  0.43039733        nan]\n",
      " [       nan        nan        nan 0.4446844  0.37938644 1.\n",
      "  0.38341929 0.31214748]\n",
      " [0.45819119        nan        nan        nan 0.43039733 0.38341929\n",
      "  1.         0.394806  ]\n",
      " [0.43381462 0.33643611        nan        nan        nan 0.31214748\n",
      "  0.394806   1.        ]]\n"
     ]
    }
   ],
=======
   "execution_count": null,
   "metadata": {
    "collapsed": false
   },
   "outputs": [],
>>>>>>> 0dbd711943f6965fc91c883fe001d81eba4df43a
   "source": [
    "m = pairwise_matrix(cohens_kappa, anno.annotations)\n",
    "print(m)"
   ]
  },
  {
   "cell_type": "code",
<<<<<<< HEAD
   "execution_count": 15,
   "metadata": {},
   "outputs": [
    {
     "data": {
      "image/png": "iVBORw0KGgoAAAANSUhEUgAAAWQAAAD8CAYAAABAWd66AAAABHNCSVQICAgIfAhkiAAAAAlwSFlz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\nAABJRU5ErkJggg==\n",
      "text/plain": [
       "<matplotlib.figure.Figure at 0x28a784daf98>"
      ]
     },
     "metadata": {},
     "output_type": "display_data"
    }
   ],
=======
   "execution_count": null,
   "metadata": {
    "collapsed": false
   },
   "outputs": [],
>>>>>>> 0dbd711943f6965fc91c883fe001d81eba4df43a
   "source": [
    "ax = seaborn.heatmap(m)\n",
    "plt.show()"
   ]
  },
  {
   "cell_type": "markdown",
   "metadata": {},
   "source": [
    "You can see that this 8 by 3 loop design will be less stable than an 8 choose 3 combinatorial design, because each codes with more others. "
   ]
  },
  {
   "cell_type": "markdown",
   "metadata": {},
   "source": [
    "One can also assess the average Cohen's $\\kappa$ for all pairs of coders that have coded against one another:"
   ]
  },
  {
   "cell_type": "code",
<<<<<<< HEAD
   "execution_count": 16,
   "metadata": {},
   "outputs": [
    {
     "data": {
      "text/plain": [
       "0.40911598940065674"
      ]
     },
     "execution_count": 16,
     "metadata": {},
     "output_type": "execute_result"
    }
   ],
=======
   "execution_count": null,
   "metadata": {
    "collapsed": false
   },
   "outputs": [],
>>>>>>> 0dbd711943f6965fc91c883fe001d81eba4df43a
   "source": [
    "def pairwise_metric_average(metric, array):\n",
    "    \"\"\"Calculate the pairwise metric average for the real elements of metric function run on an array of annotations\"\"\"\n",
    "    p = permutations(range(array[0,:].size),2)\n",
    "    m = [metric(array[:,x[0]], array[:,x[1]]) for x in p]\n",
    "    clean_m = [c for c in m if not math.isnan(c)]\n",
    "    return reduce(lambda a, b: a + b, clean_m)/len(clean_m)    \n",
    " \n",
    "pairwise_metric_average(cohens_kappa, anno.annotations)"
   ]
  },
  {
   "cell_type": "markdown",
   "metadata": {},
   "source": [
    "As recognized with Krippendorff's flexible $\\alpha$, our scores are *not* categorical, but rather ordered and her considered metric. Weighted $\\kappa$ allows you to count disagreements differently and is useful when codes are ordered as they are here. Here a weight matrix is added to the calculation, in which off-diagonal cells contain weights indicating the seriousness of the disagreement between each score. When automatically produced, it simply produces an arithmetic distance (e.g., 3-1=2), such that cells one off the diagonal are weighted 1, two off 2, etc. Here\n",
    "\n",
    "$\\kappa = 1-\\frac{\\sum^k_{i=1}\\sum^k_{j=1}w_{ij}x_{ij}}{\\sum^k_{i=1}\\sum^k_{j=1}w_{ij}m_{ij}}$\n",
    "\n",
    "where $\\kappa$ = $n$ codes and $w_{ij}$,$x_{ij}$, and $m_{ij}$ represent elements in the weight, observed, and expected matrices, respectively. (Obviously, when diagonal cells contain weights of 0 and off-diagonal cells weights of 1, this equals $\\kappa$)."
   ]
  },
  {
   "cell_type": "code",
<<<<<<< HEAD
   "execution_count": 17,
   "metadata": {},
   "outputs": [
    {
     "data": {
      "text/plain": [
       "0.5330240507874497"
      ]
     },
     "execution_count": 17,
     "metadata": {},
     "output_type": "execute_result"
    }
   ],
=======
   "execution_count": null,
   "metadata": {
    "collapsed": false
   },
   "outputs": [],
>>>>>>> 0dbd711943f6965fc91c883fe001d81eba4df43a
   "source": [
    "cohens_weighted_kappa(anno.annotations[:,0], anno.annotations[:,1])"
   ]
  },
  {
   "cell_type": "markdown",
   "metadata": {},
   "source": [
    "Or averaged over the total:"
   ]
  },
  {
   "cell_type": "code",
<<<<<<< HEAD
   "execution_count": 18,
   "metadata": {},
   "outputs": [
    {
     "data": {
      "text/plain": [
       "0.5299113458717166"
      ]
     },
     "execution_count": 18,
     "metadata": {},
     "output_type": "execute_result"
    }
   ],
=======
   "execution_count": null,
   "metadata": {
    "collapsed": false
   },
   "outputs": [],
>>>>>>> 0dbd711943f6965fc91c883fe001d81eba4df43a
   "source": [
    "pairwise_metric_average(cohens_weighted_kappa,anno.annotations)"
   ]
  },
  {
   "cell_type": "markdown",
   "metadata": {},
   "source": [
    "Alternatively, if the annontation data can be understood as indicating real values, we can assess not agreement, but rather the correlation of values (Pearson's $\\rho$) or correlation of ranks (Spearman's $\\rho$) for pairs of coders:"
   ]
  },
  {
   "cell_type": "code",
<<<<<<< HEAD
   "execution_count": 19,
   "metadata": {},
   "outputs": [
    {
     "data": {
      "image/png": "iVBORw0KGgoAAAANSUhEUgAAAWQAAAD8CAYAAABAWd66AAAABHNCSVQICAgIfAhkiAAAAAlwSFlz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\n",
      "text/plain": [
       "<matplotlib.figure.Figure at 0x28a78611128>"
      ]
     },
     "metadata": {},
     "output_type": "display_data"
    },
    {
     "data": {
      "image/png": "iVBORw0KGgoAAAANSUhEUgAAAV0AAAD8CAYAAADUv3dIAAAABHNCSVQICAgIfAhkiAAAAAlwSFlz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\n6ZqZJfR/eVhmngxz+10AAAAASUVORK5CYII=\n",
      "text/plain": [
       "<matplotlib.figure.Figure at 0x28a79659588>"
      ]
     },
     "metadata": {},
     "output_type": "display_data"
    }
   ],
=======
   "execution_count": null,
   "metadata": {
    "collapsed": false
   },
   "outputs": [],
>>>>>>> 0dbd711943f6965fc91c883fe001d81eba4df43a
   "source": [
    "n = pairwise_matrix(pearsons_rho, anno.annotations)\n",
    "m = pairwise_matrix(spearmans_rho, anno.annotations)\n",
    "an = seaborn.heatmap(n)\n",
    "plt.show()\n",
    "am = seaborn.heatmap(m)\n",
    "plt.show()"
   ]
  },
  {
   "cell_type": "markdown",
   "metadata": {},
   "source": [
    "Or averaged over all comparable pairs:"
   ]
  },
  {
   "cell_type": "code",
<<<<<<< HEAD
   "execution_count": 20,
   "metadata": {},
   "outputs": [
    {
     "name": "stdout",
     "output_type": "stream",
     "text": [
      "0.6517219321175077 0.63808488688039\n"
     ]
    }
   ],
=======
   "execution_count": null,
   "metadata": {
    "collapsed": false
   },
   "outputs": [],
>>>>>>> 0dbd711943f6965fc91c883fe001d81eba4df43a
   "source": [
    "print(pairwise_metric_average(pearsons_rho,anno.annotations), pairwise_metric_average(spearmans_rho,anno.annotations))"
   ]
  },
  {
   "cell_type": "markdown",
   "metadata": {},
   "source": [
    "## <span style=\"color:red\">*Excercise 2*</span>\n",
    "\n",
    "<span style=\"color:red\">Perform a content annotation survey of some kind in which at least 3 people evaluate and code each piece of content, using Amazon Mechanical Turk as described in the MTurk slides on this week's Canvas page.  With the resulting data, calculate, visualize and discuss inter-coder agreement or covariation with appropriate metrics. What does this means for the reliability of human assessments regarding content in your domain?"
   ]
  },
  {
   "cell_type": "markdown",
   "metadata": {},
   "source": [
<<<<<<< HEAD
    "In the MTurk survey, I asked participants to code paragraphs for which one is closer to \"working memory\"."
   ]
  },
  {
   "cell_type": "code",
   "execution_count": 82,
   "metadata": {
    "collapsed": true
   },
   "outputs": [],
   "source": [
    "csv = np.genfromtxt('batch_results.csv', delimiter= \",\") "
   ]
  },
  {
   "cell_type": "code",
   "execution_count": 83,
   "metadata": {
    "collapsed": true
   },
   "outputs": [],
   "source": [
    "anno2 = AnnotationsContainer.from_array(csv, missing_values=[-1])"
   ]
  },
  {
   "cell_type": "code",
   "execution_count": 84,
   "metadata": {
    "scrolled": false
   },
   "outputs": [
    {
     "data": {
      "text/plain": [
       "array([[-1,  0,  1,  1,  1],\n",
       "       [ 0,  1,  1,  1,  1],\n",
       "       [ 0,  1,  0,  1,  0],\n",
       "       [ 0,  1,  1,  0,  0],\n",
       "       [ 1,  0,  0,  1,  0]])"
      ]
     },
     "execution_count": 84,
     "metadata": {},
     "output_type": "execute_result"
    }
   ],
   "source": [
    "anno2.annotations"
   ]
  },
  {
   "cell_type": "code",
   "execution_count": 85,
   "metadata": {},
   "outputs": [
    {
     "data": {
      "text/plain": [
       "[1.0, 2.0]"
      ]
     },
     "execution_count": 85,
     "metadata": {},
     "output_type": "execute_result"
    }
   ],
   "source": [
    "anno2.labels"
   ]
  },
  {
   "cell_type": "code",
   "execution_count": 86,
   "metadata": {},
   "outputs": [
    {
     "data": {
      "text/plain": [
       "[nan]"
      ]
     },
     "execution_count": 86,
     "metadata": {},
     "output_type": "execute_result"
    }
   ],
   "source": [
    "anno2.missing_values"
   ]
  },
  {
   "cell_type": "markdown",
   "metadata": {},
   "source": [
    "# Annotation Statistics"
   ]
  },
  {
   "cell_type": "code",
   "execution_count": 87,
   "metadata": {},
   "outputs": [
    {
     "data": {
      "text/plain": [
       "array([0.45833333, 0.54166667])"
      ]
     },
     "execution_count": 87,
     "metadata": {},
     "output_type": "execute_result"
    }
   ],
   "source": [
    "pyanno.measures.agreement.labels_frequency(anno2.annotations,2)"
   ]
  },
  {
   "cell_type": "markdown",
   "metadata": {},
   "source": [
    "Now consider the \"confusion matrix\" or matrix of coded agreements between any two coders:"
   ]
  },
  {
   "cell_type": "code",
   "execution_count": 91,
   "metadata": {
    "scrolled": true
   },
   "outputs": [
    {
     "name": "stdout",
     "output_type": "stream",
     "text": [
      "[[0. 3.]\n",
      " [1. 0.]]\n"
     ]
    },
    {
     "data": {
      "image/png": "iVBORw0KGgoAAAANSUhEUgAAAV0AAAD8CAYAAADUv3dIAAAABHNCSVQICAgIfAhkiAAAAAlwSFlz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\ngg==\n",
      "text/plain": [
       "<matplotlib.figure.Figure at 0x1f68c1055c0>"
      ]
     },
     "metadata": {},
     "output_type": "display_data"
    }
   ],
   "source": [
    "c = pyanno.measures.agreement.confusion_matrix(anno2.annotations[:,0], anno2.annotations[:,1],2)\n",
    "print(c)\n",
    "ac = seaborn.heatmap(c)\n",
    "plt.show()"
   ]
  },
  {
   "cell_type": "markdown",
   "metadata": {},
   "source": [
    "Scott's $\\pi$ of two coders:"
   ]
  },
  {
   "cell_type": "code",
   "execution_count": 98,
   "metadata": {},
   "outputs": [
    {
     "data": {
      "text/plain": [
       "0.16666666666666682"
      ]
     },
     "execution_count": 98,
     "metadata": {},
     "output_type": "execute_result"
    }
   ],
   "source": [
    "scotts_pi(anno2.annotations[:,3], anno2.annotations[:,4])"
   ]
  },
  {
   "cell_type": "markdown",
   "metadata": {},
   "source": [
    " Fleiss' $\\kappa$ "
   ]
  },
  {
   "cell_type": "code",
   "execution_count": 104,
   "metadata": {
    "scrolled": true
   },
   "outputs": [
    {
     "ename": "PyannoValueError",
     "evalue": "Number of annotations per item is not constant.",
     "output_type": "error",
     "traceback": [
      "\u001b[1;31m---------------------------------------------------------------------------\u001b[0m",
      "\u001b[1;31mPyannoValueError\u001b[0m                          Traceback (most recent call last)",
      "\u001b[1;32m<ipython-input-104-3efd311beb38>\u001b[0m in \u001b[0;36m<module>\u001b[1;34m()\u001b[0m\n\u001b[1;32m----> 1\u001b[1;33m \u001b[0mfleiss_kappa\u001b[0m\u001b[1;33m(\u001b[0m\u001b[0manno2\u001b[0m\u001b[1;33m.\u001b[0m\u001b[0mannotations\u001b[0m\u001b[1;33m[\u001b[0m\u001b[1;33m:\u001b[0m\u001b[1;33m:\u001b[0m\u001b[1;33m]\u001b[0m\u001b[1;33m)\u001b[0m\u001b[1;33m\u001b[0m\u001b[0m\n\u001b[0m",
      "\u001b[1;32m~\\Anaconda3\\lib\\site-packages\\pyanno\\measures\\agreement.py\u001b[0m in \u001b[0;36mfleiss_kappa\u001b[1;34m(annotations, nclasses)\u001b[0m\n\u001b[0;32m    250\u001b[0m         \u001b[0mnannotations\u001b[0m\u001b[1;33m[\u001b[0m\u001b[1;33m:\u001b[0m\u001b[1;33m,\u001b[0m\u001b[0mk\u001b[0m\u001b[1;33m]\u001b[0m \u001b[1;33m=\u001b[0m \u001b[1;33m(\u001b[0m\u001b[0mannotations\u001b[0m\u001b[1;33m==\u001b[0m\u001b[0mk\u001b[0m\u001b[1;33m)\u001b[0m\u001b[1;33m.\u001b[0m\u001b[0msum\u001b[0m\u001b[1;33m(\u001b[0m\u001b[1;36m1\u001b[0m\u001b[1;33m)\u001b[0m\u001b[1;33m\u001b[0m\u001b[0m\n\u001b[0;32m    251\u001b[0m \u001b[1;33m\u001b[0m\u001b[0m\n\u001b[1;32m--> 252\u001b[1;33m     \u001b[1;32mreturn\u001b[0m \u001b[0m_fleiss_kappa_nannotations\u001b[0m\u001b[1;33m(\u001b[0m\u001b[0mnannotations\u001b[0m\u001b[1;33m)\u001b[0m\u001b[1;33m\u001b[0m\u001b[0m\n\u001b[0m\u001b[0;32m    253\u001b[0m \u001b[1;33m\u001b[0m\u001b[0m\n\u001b[0;32m    254\u001b[0m \u001b[1;33m\u001b[0m\u001b[0m\n",
      "\u001b[1;32m~\\Anaconda3\\lib\\site-packages\\pyanno\\measures\\agreement.py\u001b[0m in \u001b[0;36m_fleiss_kappa_nannotations\u001b[1;34m(nannotations)\u001b[0m\n\u001b[0;32m    266\u001b[0m     \u001b[1;32mif\u001b[0m \u001b[1;32mnot\u001b[0m \u001b[0mnp\u001b[0m\u001b[1;33m.\u001b[0m\u001b[0mall\u001b[0m\u001b[1;33m(\u001b[0m\u001b[0m_nanno_sum\u001b[0m \u001b[1;33m==\u001b[0m \u001b[0mnannotations_per_item\u001b[0m\u001b[1;33m)\u001b[0m\u001b[1;33m:\u001b[0m\u001b[1;33m\u001b[0m\u001b[0m\n\u001b[0;32m    267\u001b[0m         raise PyannoValueError(\n\u001b[1;32m--> 268\u001b[1;33m             \u001b[1;34m'Number of annotations per item is not constant.'\u001b[0m\u001b[1;33m\u001b[0m\u001b[0m\n\u001b[0m\u001b[0;32m    269\u001b[0m         )\n\u001b[0;32m    270\u001b[0m \u001b[1;33m\u001b[0m\u001b[0m\n",
      "\u001b[1;31mPyannoValueError\u001b[0m: Number of annotations per item is not constant."
     ]
    }
   ],
   "source": [
    "fleiss_kappa(anno2.annotations[::])"
=======
    "# Models"
>>>>>>> 0dbd711943f6965fc91c883fe001d81eba4df43a
   ]
  },
  {
   "cell_type": "markdown",
   "metadata": {},
   "source": [
<<<<<<< HEAD
    "Krippendorff's $\\alpha$:"
   ]
  },
  {
   "cell_type": "code",
   "execution_count": 100,
   "metadata": {},
   "outputs": [
    {
     "data": {
      "text/plain": [
       "-0.045454545454545414"
      ]
     },
     "execution_count": 100,
     "metadata": {},
     "output_type": "execute_result"
    }
   ],
   "source": [
    "krippendorffs_alpha(anno2.annotations[::])"
=======
    "However, what if some coders are better than others. The prior measures all rely on the assumption that all coders are equally good. What if some are worse than others? Now we use Rzhetsky et al (2009) and Dawid & Skene's models to make inference about true label classes by downweighting bad or deviant coders. Pyanno provides two relevant models: ModelB and ModelBt. Model B with $\\theta$s models the relationship between each coder and code. Model B is a Bayesian generalization of the Dawid & Skene model from the reading. The following image schematically describes these models. <img src=\"../data/pyanno/Bmodel.png\">"
>>>>>>> 0dbd711943f6965fc91c883fe001d81eba4df43a
   ]
  },
  {
   "cell_type": "markdown",
   "metadata": {},
   "source": [
<<<<<<< HEAD
    "Cohen's $\\kappa$:"
   ]
  },
  {
   "cell_type": "code",
   "execution_count": 101,
   "metadata": {},
   "outputs": [
    {
     "data": {
      "text/plain": [
       "0.2857142857142858"
      ]
     },
     "execution_count": 101,
     "metadata": {},
     "output_type": "execute_result"
    }
   ],
   "source": [
    "cohens_kappa(anno2.annotations[:,3], anno2.annotations[:,4])"
=======
    "The models should provide very similar results. To estimate the parameters for any models, we first need to create a new model. "
>>>>>>> 0dbd711943f6965fc91c883fe001d81eba4df43a
   ]
  },
  {
   "cell_type": "code",
<<<<<<< HEAD
   "execution_count": 102,
   "metadata": {
    "scrolled": true
   },
   "outputs": [
    {
     "name": "stdout",
     "output_type": "stream",
     "text": [
      "[[ 1.         -0.81818182 -0.36363636  0.23076923 -0.11111111]\n",
      " [-0.81818182  1.          0.16666667 -0.36363636 -0.15384615]\n",
      " [-0.36363636  0.16666667  1.         -0.36363636  0.61538462]\n",
      " [ 0.23076923 -0.36363636 -0.36363636  1.          0.28571429]\n",
      " [-0.11111111 -0.15384615  0.61538462  0.28571429  1.        ]]\n"
     ]
    }
   ],
   "source": [
    "m = pairwise_matrix(cohens_kappa, anno2.annotations)\n",
    "print(m)"
   ]
  },
  {
   "cell_type": "code",
   "execution_count": 103,
   "metadata": {},
   "outputs": [
    {
     "data": {
      "image/png": "iVBORw0KGgoAAAANSUhEUgAAAWUAAAD8CAYAAACvm7WEAAAABHNCSVQICAgIfAhkiAAAAAlwSFlz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\nJVicAAAAAElFTkSuQmCC\n",
      "text/plain": [
       "<matplotlib.figure.Figure at 0x1f68c1d2518>"
      ]
     },
     "metadata": {},
     "output_type": "display_data"
    }
   ],
   "source": [
    "ax = seaborn.heatmap(m)\n",
    "plt.show()"
   ]
  },
  {
   "cell_type": "markdown",
   "metadata": {},
   "source": [
    "It seems that coder no.4 has higher correlation with other coders."
   ]
  },
  {
   "cell_type": "markdown",
   "metadata": {},
   "source": [
    "assess the average Cohen's $\\kappa$ for all pairs of coders that have coded against one another:"
   ]
  },
  {
   "cell_type": "code",
   "execution_count": 105,
   "metadata": {},
   "outputs": [
    {
     "data": {
      "text/plain": [
       "-0.08755133755133758"
      ]
     },
     "execution_count": 105,
     "metadata": {},
     "output_type": "execute_result"
    }
   ],
   "source": [
    "def pairwise_metric_average(metric, array):\n",
    "    \"\"\"Calculate the pairwise metric average for the real elements of metric function run on an array of annotations\"\"\"\n",
    "    p = permutations(range(array[0,:].size),2)\n",
    "    m = [metric(array[:,x[0]], array[:,x[1]]) for x in p]\n",
    "    clean_m = [c for c in m if not math.isnan(c)]\n",
    "    return reduce(lambda a, b: a + b, clean_m)/len(clean_m)    \n",
    " \n",
    "pairwise_metric_average(cohens_kappa, anno2.annotations)"
   ]
  },
  {
   "cell_type": "markdown",
   "metadata": {},
   "source": [
    "weighted $\\kappa$:"
   ]
  },
  {
   "cell_type": "code",
   "execution_count": 107,
   "metadata": {},
   "outputs": [
    {
     "data": {
      "text/plain": [
       "0.2857142857142857"
      ]
     },
     "execution_count": 107,
     "metadata": {},
     "output_type": "execute_result"
    }
   ],
   "source": [
    "cohens_weighted_kappa(anno2.annotations[:,3], anno2.annotations[:,4])"
   ]
  },
  {
   "cell_type": "markdown",
   "metadata": {},
   "source": [
    "Or averaged over the total:"
   ]
  },
  {
   "cell_type": "code",
   "execution_count": 108,
   "metadata": {},
   "outputs": [
    {
     "data": {
      "text/plain": [
       "-0.0875513375513376"
      ]
     },
     "execution_count": 108,
     "metadata": {},
     "output_type": "execute_result"
    }
   ],
   "source": [
    "pairwise_metric_average(cohens_weighted_kappa,anno2.annotations)"
   ]
  },
  {
   "cell_type": "markdown",
   "metadata": {},
   "source": [
    "the correlation of values (Pearson's $\\rho$) or correlation of ranks (Spearman's $\\rho$) for pairs of coders:"
   ]
  },
  {
   "cell_type": "code",
   "execution_count": 109,
   "metadata": {},
   "outputs": [
    {
     "data": {
      "image/png": "iVBORw0KGgoAAAANSUhEUgAAAWUAAAD8CAYAAACvm7WEAAAABHNCSVQICAgIfAhkiAAAAAlwSFlz\nAAALEgAACxIB0t1+/AAAADl0RVh0U29mdHdhcmUAbWF0cGxvdGxpYiB2ZXJzaW9uIDIuMS4yLCBo\ndHRwOi8vbWF0cGxvdGxpYi5vcmcvNQv5yAAAEKRJREFUeJzt3X2MZXV9x/H3Z5cnWxS11HXdpUoD\nrRDbQli2tkSlPKQL1V3bYAI+oYFuE4uita3b0NoqsaU2lqZCk24RwYdIjW3iqihBHrRpFdlWfABK\nWKnKALr1oVqigjPz7R9zqbfTmbkz3Dtzf/fwfpmTveeec8/5npj97pfv73fOSVUhSWrDunEHIEn6\nEZOyJDXEpCxJDTEpS1JDTMqS1BCTsiQ1xKQsSQ0xKUtSQ0zKktSQA1b7BD/8xj2du2XwcU97zrhD\nWBXbN54w7hBG7p2nfG/cIayKy27cMO4QVsVFX3lvhj3GSnLOgYf/9NDnGzUrZUlqyKpXypK0pmZn\nxh3BUEzKkrplZnrcEQzFpCypU6pmxx3CUEzKkrpl1qQsSe2wUpakhjjQJ0kNsVKWpHaUsy8kqSEO\n9ElSQ2xfSFJDHOiTpIZYKUtSQxzok6SGONAnSe2osqcsSe2Y8J6yD7mX1C2zs8tfBkiyLcldSfYl\n2bXA9p9KclOSzyb5fJIzhw3fpCypW2p2+csSkqwHLgfOAI4Fzkly7Lzd/hB4f1UdD5wN/M2w4Q9s\nXyR5JrAD2AQUcD+wp6ruHPbkkjRyMz8c1ZG2Avuq6h6AJNcwlwvv6NungCf0Ph/GXH4cypKVcpI3\nANcAAT4D3Nr7/L6FSnlJGrvRtS82Aff2rU/1vuv3J8BLk0wB1wKvHjb8Qe2L84ATq+qSqnpPb7mE\nuX9BzlvsR0l2JtmbZO8V73rfsDFK0vKtoH3Rn6t6y86+Iy30puv5b8o+B7iqqjYDZwLvTjJUW3hQ\n+2IWeBrwlXnfb+xtW1BV7QZ2w8pe9y1JQ1vBPOX+XLWAKeCIvvXN/P/2xHnAtt6xPpXkEOBwYP+y\ng5hnUFJ+LXBDkrv5URn/U8BRwAWP9qSStGpGd/PIrcDRSY4E7mNuIO/F8/b5KnAqcFWSY4BDgP8c\n5qRLJuWq+liSn2GuXbGJuXJ+Cri1Jn2GtqROqhEN9FXVdJILgOuA9cCVVXV7kjcDe6tqD/B64O+S\nvI651sYrqmqo7sDA2Rc192rYTw9zEklaMyO8eaSqrmVuAK//uzf2fb4DOGlkJ8Q7+iR1jc++kKSG\nTPht1iZlSd1ipSxJDbFSlqSGTPuQe0lqh5WyJDXEnrIkNcRKWZIaYqUsSQ2xUpakhjj7QpIaMtzz\ngMbOpCypW+wpS1JDTMqS1BAH+iSpITOT/f6NVU/Kj3vac1b7FGvu+/f/07hDWBX7X3D+uEMYuYtv\n2jDuEFbFiQ+PO4KG2b6QpIaYlCWpIfaUJakdNes8ZUlqh+0LSWqIsy8kqSFWypLUEJOyJDXEBxJJ\nUkOslCWpIU6Jk6SGOPtCktpRti8kqSG2LySpIT77QpIaYqUsSQ2ZdqBPktph+0KSGjLh7Yt14w5A\nkkapZmeXvQySZFuSu5LsS7Jrif3OSlJJtgwbv5WypG4ZUaWcZD1wOXA6MAXcmmRPVd0xb7/HA68B\nbhnFeR91pZzklaMIQJJGaraWvyxtK7Cvqu6pqoeBa4AdC+x3MfBW4AejCH+Y9sWbRhGAJI3UzMzy\nl6VtAu7tW5/qffe/khwPHFFVHx5V+Eu2L5J8frFNwKLvbk+yE9gJkPWHsW7djz/qACVpJVbyjr7+\nXNWzu6p2P7J5ocP3/XYdcCnwipVHubhBPeUNwK8C3573fYB/WexHvYvaDXDAQZsmeyhU0mRZQVLu\nz1ULmAKO6FvfDNzft/544FnAzUkAngrsSbK9qvauJOR+g5Lyh4FDq+q2+RuS3PxoTypJq2Z0DyS6\nFTg6yZHAfcDZwIsf2VhV3wEOf2S9lxN/d5iEDAOSclWdt8S2Fy+2TZLGZkSzL6pqOskFwHXAeuDK\nqro9yZuBvVW1ZyQnmscpcZK6ZYQ3j1TVtcC187574yL7njyKc5qUJXVKzXibtSS1Y8JvszYpS+qU\nlUyJa5FJWVK3mJQlqSGT3VI2KUvqlpqe7KxsUpbULZOdk03KkrrFgT5JaomVsiS1w0pZklpipSxJ\n7ajpcUcwHJOypE4pK2VJaohJWZLaYaUsSQ0xKQ+wfeMJq32KNbf/BeePO4RV8ZQPXTHuEEZvy0Xj\njmBVbH/7MeMOoVk1s9D7TieHlbKkTrFSlqSG1KyVsiQ1w0pZkhpSZaUsSc2wUpakhsw6+0KS2uFA\nnyQ1xKQsSQ2pyX6csklZUrdYKUtSQ5wSJ0kNmXH2hSS1w0pZkhpiT1mSGuLsC0lqiJWyJDVkZnbd\nuEMYymRHL0nzVC1/GSTJtiR3JdmXZNcC2w9O8ve97bckecaw8ZuUJXXKbGXZy1KSrAcuB84AjgXO\nSXLsvN3OA75dVUcBlwJ/Pmz8A5NykmcmOTXJofO+3zbsySVp1Kqy7GWArcC+qrqnqh4GrgF2zNtn\nB3B17/MHgFOTDNXUXjIpJ3kN8EHg1cAXk/QH9KfDnFiSVsMI2xebgHv71qd63y24T1VNA98BfmKY\n+AdVyr8JnFBVLwROBv4oyYW9bYv+a5BkZ5K9Sfb+x4NfGSY+SVqRlbQv+nNVb9nZd6iFctz8VL6c\nfVZk0OyL9VX1IEBVfTnJycAHkjx9kWDo7bsb2A3wG0/fPuGzBiVNkpXMvujPVQuYAo7oW98M3L/I\nPlNJDgAOA7617AAWMCj6ryU57pGVXoJ+PnA48HPDnFiSVkOtYBngVuDoJEcmOQg4G9gzb589wLm9\nz2cBN1YNd/vKoEr55cB0/xe9vsnLk/ztMCeWpNUwaFbFclXVdJILgOuA9cCVVXV7kjcDe6tqD/AO\n4N1J9jFXIZ897HmXTMpVNbXEtn8e9uSSNGqjfCBRVV0LXDvvuzf2ff4B8KKRnRDv6JPUMRP+MmuT\nsqRuqcXnIEwEk7KkTpn2ecqS1A4rZUlqiD1lSWqIlbIkNcRKWZIaMmOlLEntmPC3QZmUJXXLrJWy\nJLVj0h9LaVKW1CkO9ElSQ2aHexvT2JmUJXXKzLgDGJJJWVKnOPtCkhri7IsB3nnK91b7FGvu4ps2\njDuE1bHlonFHMHJ/tvct4w5hVTx0yevGHcLqOGv4Qzj7QpIaYvtCkhrilDhJasiMlbIktcNKWZIa\nYlKWpIZM+Cv6TMqSusVKWZIa4m3WktQQ5ylLUkNsX0hSQ0zKktQQn30hSQ2xpyxJDXH2hSQ1ZHbC\nGxgmZUmd4kCfJDVksutkk7Kkjpn0SnnduAOQpFGaTi17GUaSJye5PsndvT+ftMS+T0hyX5LLBh13\nYFJOsjXJib3Pxyb5nSRnrix8SVobtYJlSLuAG6rqaOCG3vpiLgY+sZyDLtm+SPLHwBnAAUmuB34R\nuBnYleT4qurmWyklTaw1bF/sAE7ufb6audz4hvk7JTkB2AB8DNgy6KCDespnAccBBwNfAzZX1XeT\n/AVwC2BSltSUNZwSt6GqHgCoqgeSPGX+DknWAW8DXgacupyDDmpfTFfVTFV9D/hSVX23F8D3WeIf\npCQ7k+xNsvequ+5bThySNBIraV/056resrP/WEk+nuSLCyw7lhnOq4Brq+re5cY/qFJ+OMmP9ZLy\nCX2BHsYSSbmqdgO7Ab7zytMmfYaKpAmykvZFf65aZPtpi21L8vUkG3tV8kZg/wK7/RLwnCSvAg4F\nDkryYFUt2n8elJSfW1UP9YLrv9YDgXMH/FaS1tzM2rUv9jCXBy/p/fnB+TtU1Use+ZzkFcCWpRIy\nDGhfPJKQF/j+G1X1hcExS9Laml3BMqRLgNOT3A2c3lsnyZYkVzzag3rziKROqTWqlKvqmywweFdV\ne4HzF/j+KuCqQcc1KUvqlEm/o8+kLKlTfEqcJDVkslOySVlSx0xPeFo2KUvqlLUa6FstJmVJneJA\nnyQ1xEpZkhpipSxJDZkpK2VJaobzlCWpIfaUJakh9pQlqSG2LySpIbYvJKkhzr6QpIbYvhjgshs3\nrPYp1tyJD487gtWx/e3HjDuEkXvokteNO4RVcfCuS8cdQrMc6JOkhthTlqSG2L6QpIaUA32S1I4Z\nK2VJaoftC0lqiO0LSWqIlbIkNcQpcZLUEG+zlqSG2L6QpIaYlCWpIc6+kKSGWClLUkOcfSFJDZmp\nyX54p0lZUqfYU5akhkx6T3nduAOQpFGqFfxvGEmenOT6JHf3/nzSIvu9NcntSe5M8tdJstRxTcqS\nOmW2atnLkHYBN1TV0cANvfX/I8kvAycBPw88CzgReN5SB11xUk7yrpX+RpLWylpVysAO4Ore56uB\nFy4YDhwCHAQcDBwIfH2pgy7ZU06yZ/5XwK8keSJAVW0fGLYkraE1nH2xoaoeAKiqB5I8Zf4OVfWp\nJDcBDzCXPy+rqjuXOuiggb7NwB3AFcxl/ABbgLct9aMkO4GdADuevJUTDz1qwGkkaTRW0pboz1U9\nu6tqd9/2jwNPXeCnFy3z+EcBxzCXSwGuT/LcqvrkYr8ZlJS3ABf2Avi9qrotyfer6hNL/ah3UbsB\n3vL0l0z2UKikibKStkR/rlpk+2mLbUvy9SQbe1XyRmD/Arv9OvDpqnqw95uPAs8GFk3KS/aUq2q2\nqi4FXglclOQynEYnqWFrONC3Bzi39/lc4IML7PNV4HlJDkhyIHODfEu2L5Y10FdVU1X1IuCjwHuW\nHbIkrbE1HOi7BDg9yd3A6b11kmxJckVvnw8AXwK+AHwO+FxVfWipg66o6q2qjwAfWWHgkrRmZmpm\nTc5TVd8ETl3g+73A+b3PM8BvreS4tiIkdYq3WUtSQyb9NmuTsqROsVKWpIaMYFbFWJmUJXWKD7mX\npIb4kHtJaog9ZUlqiD1lSWqIlbIkNcR5ypLUECtlSWqIsy8kqSEO9ElSQ2xfSFJDvKNPkhpipSxJ\nDZn0nnIm/V+Vfkl29r+Jtiu6eF1dvCbo5nV18Zpatqx39E2QnYN3mUhdvK4uXhN087q6eE3N6lpS\nlqSJZlKWpIZ0LSl3te/Vxevq4jVBN6+ri9fUrE4N9EnSpOtapSxJE60TSTnJtiR3JdmXZNe44xmF\nJFcm2Z/ki+OOZZSSHJHkpiR3Jrk9yYXjjmlYSQ5J8pkkn+td05vGHdMoJVmf5LNJPjzuWB4LJj4p\nJ1kPXA6cARwLnJPk2PFGNRJXAdvGHcQqmAZeX1XHAM8GfrsD/389BJxSVb8AHAdsS/LsMcc0ShcC\nd447iMeKiU/KwFZgX1XdU1UPA9cAO8Yc09Cq6pPAt8Ydx6hV1QNV9W+9z//N3F/2TeONajg158He\n6oG9pRODNUk2A78GXDHuWB4rupCUNwH39q1PMeF/yR8rkjwDOB64ZbyRDK/3n/i3AfuB66tq4q+p\n56+A3wcm+yHFE6QLSTkLfNeJKqXLkhwK/APw2qr67rjjGVZVzVTVccBmYGuSZ407pmEleT6wv6r+\nddyxPJZ0ISlPAUf0rW8G7h9TLFqGJAcyl5DfW1X/OO54Rqmq/gu4mW6MB5wEbE/yZebagqckec94\nQ+q+LiTlW4GjkxyZ5CDgbGDPmGPSIpIEeAdwZ1X95bjjGYUkP5nkib3PjwNOA/59vFENr6r+oKo2\nV9UzmPt7dWNVvXTMYXXexCflqpoGLgCuY27Q6P1Vdft4oxpekvcBnwJ+NslUkvPGHdOInAS8jLmq\n67becua4gxrSRuCmJJ9nrki4vqqcPqZHxTv6JKkhE18pS1KXmJQlqSEmZUlqiElZkhpiUpakhpiU\nJakhJmVJaohJWZIa8j8udeT6Z2ArhwAAAABJRU5ErkJggg==\n",
      "text/plain": [
       "<matplotlib.figure.Figure at 0x1f68c2773c8>"
      ]
     },
     "metadata": {},
     "output_type": "display_data"
    },
    {
     "data": {
      "image/png": "iVBORw0KGgoAAAANSUhEUgAAAWUAAAD8CAYAAACvm7WEAAAABHNCSVQICAgIfAhkiAAAAAlwSFlz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\nJakhJmVJaohJWZIa8j8udeT6Z2ArhwAAAABJRU5ErkJggg==\n",
      "text/plain": [
       "<matplotlib.figure.Figure at 0x1f68c337d30>"
      ]
     },
     "metadata": {},
     "output_type": "display_data"
    }
   ],
   "source": [
    "n = pairwise_matrix(pearsons_rho, anno2.annotations)\n",
    "m = pairwise_matrix(spearmans_rho, anno2.annotations)\n",
    "an = seaborn.heatmap(n)\n",
    "plt.show()\n",
    "am = seaborn.heatmap(m)\n",
    "plt.show()"
   ]
  },
  {
   "cell_type": "markdown",
   "metadata": {},
   "source": [
    "It looks like coder 0 has the lowest correlations with other coders."
   ]
  },
  {
   "cell_type": "markdown",
   "metadata": {},
   "source": [
    "averaged over all comparable pairs:"
   ]
  },
  {
   "cell_type": "code",
   "execution_count": 110,
   "metadata": {},
   "outputs": [
    {
     "name": "stdout",
     "output_type": "stream",
     "text": [
      "-0.13189318929868224 -0.13189318929868224\n"
     ]
    }
   ],
   "source": [
    "print(pairwise_metric_average(pearsons_rho,anno2.annotations), pairwise_metric_average(spearmans_rho,anno2.annotations))"
   ]
  },
  {
   "cell_type": "markdown",
   "metadata": {},
   "source": [
    "# Models"
=======
   "execution_count": null,
   "metadata": {
    "collapsed": false
   },
   "outputs": [],
   "source": [
    "# create a new instance of model B, with 4 label classes\n",
    "model = ModelB.create_initial_state(4,8)\n",
    "# other model parameters are initialized from the model prior\n",
    "print(model.theta)\n",
    "print(model.log_likelihood(anno.annotations))"
>>>>>>> 0dbd711943f6965fc91c883fe001d81eba4df43a
   ]
  },
  {
   "cell_type": "markdown",
   "metadata": {},
   "source": [
    "Now we train the model on our data. Pyanno allows one to use either MAP (maximum a posteriori estimation) or MLE (maximum likelihood estimation) to estimate model parameters. Note that the parameters here correspond to our estimation of the accuracy of each annotator-annotation pair. First we will train with MAP, and then you can optionally training with MLE."
   ]
  },
  {
   "cell_type": "code",
<<<<<<< HEAD
   "execution_count": 69,
=======
   "execution_count": null,
>>>>>>> 0dbd711943f6965fc91c883fe001d81eba4df43a
   "metadata": {
    "collapsed": true
   },
   "outputs": [],
   "source": [
    "samples = model.sample_posterior_over_accuracy(anno.annotations, 200, burn_in_samples=100, thin_samples=3)"
   ]
  },
  {
   "cell_type": "code",
<<<<<<< HEAD
   "execution_count": 70,
   "metadata": {},
   "outputs": [
    {
     "name": "stdout",
     "output_type": "stream",
     "text": [
      "[[[7.73398728e-01 2.01020245e-01 2.55810269e-02 1.20101219e-26]\n",
      "  [1.47832659e-01 7.11503767e-01 7.66499157e-02 6.40136580e-02]\n",
      "  [1.97431020e-02 1.48708709e-01 6.96639326e-01 1.34908863e-01]\n",
      "  [2.52463780e-18 2.13647377e-02 8.51550428e-02 8.93480220e-01]]\n",
      "\n",
      " [[7.19395465e-01 2.01828761e-01 7.87757734e-02 1.55486964e-13]\n",
      "  [1.33941799e-01 7.07223261e-01 1.10418200e-01 4.84167403e-02]\n",
      "  [2.72093282e-02 1.65178369e-01 6.71232700e-01 1.36379603e-01]\n",
      "  [2.15358721e-30 5.38211823e-02 1.21871740e-01 8.24307077e-01]]\n",
      "\n",
      " [[8.50073137e-01 1.22955501e-01 2.69713621e-02 3.64395738e-42]\n",
      "  [8.93514251e-02 7.89280333e-01 8.93429608e-02 3.20252811e-02]\n",
      "  [6.11638366e-02 1.29121422e-01 7.03992731e-01 1.05722011e-01]\n",
      "  [6.53666390e-03 5.12606512e-02 2.10869595e-01 7.31333090e-01]]\n",
      "\n",
      " [[6.99612801e-01 2.70976969e-01 2.94102301e-02 8.57899704e-52]\n",
      "  [9.67171336e-02 7.62615701e-01 1.09523823e-01 3.11433425e-02]\n",
      "  [1.81150586e-02 1.45472330e-01 6.85587954e-01 1.50824657e-01]\n",
      "  [2.71897111e-47 2.98511124e-02 2.28749569e-01 7.41399319e-01]]\n",
      "\n",
      " [[8.11803144e-01 1.19373545e-01 6.88233110e-02 9.13991546e-49]\n",
      "  [1.24726986e-01 6.93211818e-01 1.47008725e-01 3.50524714e-02]\n",
      "  [1.10580622e-02 2.13907919e-01 6.46719976e-01 1.28314044e-01]\n",
      "  [6.58948915e-52 5.98095047e-02 1.82979139e-01 7.57211357e-01]]\n",
      "\n",
      " [[7.71186748e-01 2.05349662e-01 2.34635900e-02 1.87519848e-51]\n",
      "  [1.10920303e-01 6.98703449e-01 1.62586425e-01 2.77898237e-02]\n",
      "  [2.69432947e-02 1.74971748e-01 6.58688648e-01 1.39396309e-01]\n",
      "  [1.04070689e-20 8.19488668e-02 1.50728042e-01 7.67323091e-01]]\n",
      "\n",
      " [[7.77751875e-01 1.41612394e-01 8.06357307e-02 7.49343463e-22]\n",
      "  [1.14108703e-01 6.72056519e-01 1.68346177e-01 4.54886006e-02]\n",
      "  [1.60943993e-02 1.18997632e-01 7.24591200e-01 1.40316769e-01]\n",
      "  [9.41957786e-52 4.72911966e-02 1.30538454e-01 8.22170350e-01]]\n",
      "\n",
      " [[8.52754118e-01 1.18087361e-01 2.91585215e-02 1.95577162e-42]\n",
      "  [1.29319568e-01 6.36012446e-01 1.95669325e-01 3.89986612e-02]\n",
      "  [2.96631200e-02 1.67273811e-01 6.42736730e-01 1.60326339e-01]\n",
      "  [1.03418107e-24 4.32627993e-02 1.13010804e-01 8.43726397e-01]]]\n",
      "-2625.8850676193924\n"
     ]
    }
   ],
=======
   "execution_count": null,
   "metadata": {
    "collapsed": false
   },
   "outputs": [],
>>>>>>> 0dbd711943f6965fc91c883fe001d81eba4df43a
   "source": [
    "model.map(anno.annotations)\n",
    "print(model.theta)\n",
    "print(model.log_likelihood(anno.annotations))"
   ]
  },
  {
   "cell_type": "markdown",
   "metadata": {},
   "source": [
    "Uncomment the cell below if you would rather train by MLE."
   ]
  },
  {
   "cell_type": "code",
   "execution_count": null,
   "metadata": {
    "collapsed": true
   },
   "outputs": [],
   "source": [
    "#model = ModelB.create_initial_state(4,8)\n",
    "#model.mle(anno.annotations)\n",
    "#print(model.theta)\n",
    "#print(model.log_likelihood(anno.annotations))"
   ]
  },
  {
   "cell_type": "markdown",
   "metadata": {},
   "source": [
    "Once we have model parameters estimated, we can now make inferences about the true label classes. We can calculate the posterior distribution over the true label classes."
   ]
  },
  {
   "cell_type": "code",
<<<<<<< HEAD
   "execution_count": 71,
   "metadata": {},
   "outputs": [
    {
     "name": "stdout",
     "output_type": "stream",
     "text": [
      "[[1.20741380e-42 1.00240780e-01 7.90821679e-01 1.08937540e-01]\n",
      " [9.92682453e-01 7.07056554e-03 2.46981317e-04 2.03944498e-49]\n",
      " [1.07420297e-03 5.51435353e-02 9.37476514e-01 6.30574822e-03]\n",
      " ...\n",
      " [8.15378491e-04 3.51193436e-02 9.59859130e-01 4.20614824e-03]\n",
      " [1.34481992e-44 2.14447325e-03 9.16166870e-01 8.16886569e-02]\n",
      " [2.14745550e-01 7.69057353e-01 1.61970966e-02 2.01807019e-26]]\n"
     ]
    }
   ],
=======
   "execution_count": null,
   "metadata": {
    "collapsed": false
   },
   "outputs": [],
>>>>>>> 0dbd711943f6965fc91c883fe001d81eba4df43a
   "source": [
    "posterior = model.infer_labels(anno.annotations)\n",
    "print(posterior)"
   ]
  },
  {
   "cell_type": "markdown",
   "metadata": {},
   "source": [
    "Let's turn the posterior of the first 100 samples into a heatmap and compare with the raw vote tallies."
   ]
  },
  {
   "cell_type": "code",
<<<<<<< HEAD
   "execution_count": 72,
=======
   "execution_count": null,
>>>>>>> 0dbd711943f6965fc91c883fe001d81eba4df43a
   "metadata": {
    "collapsed": true
   },
   "outputs": [],
   "source": [
    "def makeQuestionComparison(model, anno_target, num_questions = 20):\n",
    "    votes = []\n",
    "    for r in anno_target.annotations:\n",
    "        v = [0] * len(anno_target.labels)\n",
    "        votes.append(v)\n",
    "        for a in r:\n",
    "            if a > -1:\n",
    "                v[a] += 1\n",
    "    votes_array = np.array(votes)\n",
    "    posterior = model.infer_labels(anno_target.annotations)\n",
    "    fig, (ax1, ax2) = plt.subplots(ncols=2, figsize = (15, 10), sharey=True)\n",
    "\n",
    "    seaborn.heatmap(votes_array[:num_questions], annot = True, ax=ax2)\n",
    "    seaborn.heatmap(np.nan_to_num(posterior,0)[:num_questions], annot=True, ax =ax1)\n",
    "    ax1.set_title(\"Model\")\n",
    "    ax2.set_title(\"Votes\")\n",
    "    return fig, (ax1, ax2)"
   ]
  },
  {
   "cell_type": "code",
<<<<<<< HEAD
   "execution_count": 73,
   "metadata": {},
   "outputs": [
    {
     "data": {
      "text/plain": [
       "(<matplotlib.figure.Figure at 0x20749d28198>,\n",
       " (<matplotlib.axes._subplots.AxesSubplot at 0x2074b146470>,\n",
       "  <matplotlib.axes._subplots.AxesSubplot at 0x2074b16ccf8>))"
      ]
     },
     "execution_count": 73,
     "metadata": {},
     "output_type": "execute_result"
    },
    {
     "data": {
      "image/png": "iVBORw0KGgoAAAANSUhEUgAAA10AAAJOCAYAAABMTm3eAAAABHNCSVQICAgIfAhkiAAAAAlwSFlz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\n4kJqdImIiIiIiLjQ/wNhPt2o3oUyOwAAAABJRU5ErkJggg==\n",
      "text/plain": [
       "<matplotlib.figure.Figure at 0x20749d28198>"
      ]
     },
     "metadata": {},
     "output_type": "display_data"
    }
   ],
=======
   "execution_count": null,
   "metadata": {
    "collapsed": false
   },
   "outputs": [],
>>>>>>> 0dbd711943f6965fc91c883fe001d81eba4df43a
   "source": [
    "makeQuestionComparison(model, anno)"
   ]
  },
  {
   "cell_type": "markdown",
   "metadata": {},
   "source": [
    "This differs markedly from taking annotator scores at face value. As you can see (the model-based probabilities are on left; the raw votes on right), the models helps us break ties between coders and in some cases dramatically downgrades the estimates from particularly bad coders."
   ]
  },
  {
   "cell_type": "markdown",
   "metadata": {},
   "source": [
    "Let's try everything again with ModelBt, which constrains ModelB so that each coder has a single estimate over the accuracy of all of their codes."
   ]
  },
  {
   "cell_type": "code",
<<<<<<< HEAD
   "execution_count": 74,
   "metadata": {},
   "outputs": [
    {
     "name": "stdout",
     "output_type": "stream",
     "text": [
      "[0.63004985 0.94698084 0.62985307 0.79828229 0.76942138 0.72084667\n",
      " 0.76055923 0.60182104]\n",
      "-3043.727595193396\n"
     ]
    }
   ],
=======
   "execution_count": null,
   "metadata": {
    "collapsed": false
   },
   "outputs": [],
>>>>>>> 0dbd711943f6965fc91c883fe001d81eba4df43a
   "source": [
    "# create a new instance of model B, with 4 label classes and 8 annotators.\n",
    "model = ModelBt.create_initial_state(4, 8)\n",
    "print(model.theta)\n",
    "print(model.log_likelihood(anno.annotations))"
   ]
  },
  {
   "cell_type": "code",
<<<<<<< HEAD
   "execution_count": 75,
   "metadata": {},
   "outputs": [
    {
     "name": "stdout",
     "output_type": "stream",
     "text": [
      "[0.79133133 0.74073262 0.76222433 0.72515339 0.71654585 0.71852132\n",
      " 0.77319583 0.71671345]\n",
      "-2811.9462848136127\n"
     ]
    }
   ],
=======
   "execution_count": null,
   "metadata": {
    "collapsed": false
   },
   "outputs": [],
>>>>>>> 0dbd711943f6965fc91c883fe001d81eba4df43a
   "source": [
    "model.map(anno.annotations)\n",
    "print(model.theta)\n",
    "print(model.log_likelihood(anno.annotations))"
   ]
  },
  {
   "cell_type": "code",
<<<<<<< HEAD
   "execution_count": 76,
   "metadata": {},
   "outputs": [
    {
     "data": {
      "text/plain": [
       "array([[0.82560941, 0.71544719, 0.77181095, ..., 0.62985838, 0.83785058,\n",
       "        0.65465141],\n",
       "       [0.82560941, 0.71544719, 0.77181095, ..., 0.62985838, 0.83785058,\n",
       "        0.65465141],\n",
       "       [0.82560941, 0.71544719, 0.77181095, ..., 0.62985838, 0.83785058,\n",
       "        0.65465141],\n",
       "       ...,\n",
       "       [0.80362333, 0.72000882, 0.81958298, ..., 0.76173787, 0.7963425 ,\n",
       "        0.73947188],\n",
       "       [0.77542113, 0.72937601, 0.76239883, ..., 0.73661349, 0.74646574,\n",
       "        0.76931141],\n",
       "       [0.7659098 , 0.73188169, 0.69539726, ..., 0.71445382, 0.72015659,\n",
       "        0.74610734]])"
      ]
     },
     "execution_count": 76,
     "metadata": {},
     "output_type": "execute_result"
    }
   ],
=======
   "execution_count": null,
   "metadata": {
    "collapsed": false
   },
   "outputs": [],
>>>>>>> 0dbd711943f6965fc91c883fe001d81eba4df43a
   "source": [
    "model.sample_posterior_over_accuracy(anno.annotations, 200, burn_in_samples=100, thin_samples=3)"
   ]
  },
  {
   "cell_type": "code",
<<<<<<< HEAD
   "execution_count": 77,
   "metadata": {},
   "outputs": [
    {
     "name": "stdout",
     "output_type": "stream",
     "text": [
      "[[0.01110686 0.28928143 0.36500437 0.33460733]\n",
      " [0.99022607 0.00241739 0.00404867 0.00330787]\n",
      " [0.00249984 0.05503704 0.93463209 0.00783103]\n",
      " ...\n",
      " [0.00252918 0.04394673 0.94560115 0.00792294]\n",
      " [0.00249412 0.00570984 0.93249456 0.05930148]\n",
      " [0.0319185  0.93878374 0.01612402 0.01317374]]\n"
     ]
    }
   ],
=======
   "execution_count": null,
   "metadata": {
    "collapsed": false
   },
   "outputs": [],
>>>>>>> 0dbd711943f6965fc91c883fe001d81eba4df43a
   "source": [
    "posterior = model.infer_labels(anno.annotations)\n",
    "print(posterior)"
   ]
  },
  {
   "cell_type": "markdown",
   "metadata": {},
   "source": [
    "Let's visualize the posterior of the first 10 samples according to ModelBt."
   ]
  },
  {
   "cell_type": "code",
<<<<<<< HEAD
   "execution_count": 78,
   "metadata": {},
   "outputs": [
    {
     "data": {
      "text/plain": [
       "(<matplotlib.figure.Figure at 0x2074b224550>,\n",
       " (<matplotlib.axes._subplots.AxesSubplot at 0x2074b153e80>,\n",
       "  <matplotlib.axes._subplots.AxesSubplot at 0x2074c082208>))"
      ]
     },
     "execution_count": 78,
     "metadata": {},
     "output_type": "execute_result"
    },
    {
     "data": {
      "image/png": "iVBORw0KGgoAAAANSUhEUgAAA10AAAJOCAYAAABMTm3eAAAABHNCSVQICAgIfAhkiAAAAAlwSFlz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\n+n8ierzGDjObigAAAABJRU5ErkJggg==\n",
      "text/plain": [
       "<matplotlib.figure.Figure at 0x2074b224550>"
      ]
     },
     "metadata": {},
     "output_type": "display_data"
    }
   ],
=======
   "execution_count": null,
   "metadata": {
    "collapsed": false
   },
   "outputs": [],
>>>>>>> 0dbd711943f6965fc91c883fe001d81eba4df43a
   "source": [
    "makeQuestionComparison(model, anno)"
   ]
  },
  {
   "cell_type": "markdown",
   "metadata": {},
   "source": [
    "The property of these scores is that they enable us to identify the most likely code assuming coders of unequal quality, which also allows us to break ties when we know coder identity. We may also use the posterior themselves rather than the most probably code outcome."
   ]
  },
  {
   "cell_type": "markdown",
   "metadata": {},
   "source": [
    "## Visualizing coder accuracy"
   ]
  },
  {
   "cell_type": "markdown",
   "metadata": {},
   "source": [
    "Let's make a plot of the accuracy for each annotator inferred from ModelBt. This might be helpful if you wanted to ban a \"troll\" from your crowdsourcing enterprise. The coder a very low accuracy likelihood is an outlier and should be \"dropped from the team.\""
   ]
  },
  {
   "cell_type": "code",
<<<<<<< HEAD
   "execution_count": 79,
   "metadata": {
    "collapsed": true
=======
   "execution_count": null,
   "metadata": {
    "collapsed": false
>>>>>>> 0dbd711943f6965fc91c883fe001d81eba4df43a
   },
   "outputs": [],
   "source": [
    "model = ModelBt.create_initial_state(4,8)\n",
    "model.mle(anno.annotations)\n",
    "samples = model.sample_posterior_over_accuracy(anno.annotations, 200, burn_in_samples=100, thin_samples=3)\n",
    "y =  samples.mean(axis=0)\n",
    "y_ci = samples.std(axis=0)"
   ]
  },
  {
   "cell_type": "code",
<<<<<<< HEAD
   "execution_count": 80,
   "metadata": {
    "scrolled": true
   },
   "outputs": [
    {
     "data": {
      "image/png": "iVBORw0KGgoAAAANSUhEUgAAAX0AAAD8CAYAAACb4nSYAAAABHNCSVQICAgIfAhkiAAAAAlwSFlz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\n",
      "text/plain": [
       "<matplotlib.figure.Figure at 0x2074c12b9b0>"
      ]
     },
     "metadata": {},
     "output_type": "display_data"
    }
   ],
=======
   "execution_count": null,
   "metadata": {
    "collapsed": false
   },
   "outputs": [],
>>>>>>> 0dbd711943f6965fc91c883fe001d81eba4df43a
   "source": [
    "plt.figure()\n",
    "plt.errorbar(range(8),y, yerr = y_ci)\n",
    "plt.show()"
   ]
  },
  {
   "cell_type": "markdown",
   "metadata": {},
   "source": [
    "# Hotel Reviews"
   ]
  },
  {
   "cell_type": "markdown",
   "metadata": {},
   "source": [
    "If we want to do a simpler analysis we can look at a different data set, here are some hotel reviews from [expedia](https://www.kaggle.com/c/expedia-hotel-recommendations)"
   ]
  },
  {
   "cell_type": "code",
<<<<<<< HEAD
   "execution_count": 81,
   "metadata": {},
   "outputs": [
    {
     "data": {
      "text/html": [
       "<div>\n",
       "<style scoped>\n",
       "    .dataframe tbody tr th:only-of-type {\n",
       "        vertical-align: middle;\n",
       "    }\n",
       "\n",
       "    .dataframe tbody tr th {\n",
       "        vertical-align: top;\n",
       "    }\n",
       "\n",
       "    .dataframe thead th {\n",
       "        text-align: right;\n",
       "    }\n",
       "</style>\n",
       "<table border=\"1\" class=\"dataframe\">\n",
       "  <thead>\n",
       "    <tr style=\"text-align: right;\">\n",
       "      <th></th>\n",
       "      <th>Karen</th>\n",
       "      <th>Scott</th>\n",
       "      <th>Jessica</th>\n",
       "      <th>write a review</th>\n",
       "      <th>A verified traveler</th>\n",
       "      <th>Kevin</th>\n",
       "      <th>William</th>\n",
       "      <th>R</th>\n",
       "      <th>S</th>\n",
       "      <th>Christopher</th>\n",
       "      <th>...</th>\n",
       "      <th>Thomas</th>\n",
       "      <th>Susan</th>\n",
       "      <th>A Traveler</th>\n",
       "      <th>M</th>\n",
       "      <th>Not Provided</th>\n",
       "      <th>B</th>\n",
       "      <th>Laura</th>\n",
       "      <th>xxxxxxxxxxxxxx</th>\n",
       "      <th>Michael</th>\n",
       "      <th>Joseph</th>\n",
       "    </tr>\n",
       "  </thead>\n",
       "  <tbody>\n",
       "    <tr>\n",
       "      <th>1785 Inn</th>\n",
       "      <td>NaN</td>\n",
       "      <td>NaN</td>\n",
       "      <td>NaN</td>\n",
       "      <td>NaN</td>\n",
       "      <td>NaN</td>\n",
       "      <td>NaN</td>\n",
       "      <td>NaN</td>\n",
       "      <td>NaN</td>\n",
       "      <td>NaN</td>\n",
       "      <td>NaN</td>\n",
       "      <td>...</td>\n",
       "      <td>NaN</td>\n",
       "      <td>NaN</td>\n",
       "      <td>NaN</td>\n",
       "      <td>NaN</td>\n",
       "      <td>NaN</td>\n",
       "      <td>NaN</td>\n",
       "      <td>NaN</td>\n",
       "      <td>NaN</td>\n",
       "      <td>NaN</td>\n",
       "      <td>NaN</td>\n",
       "    </tr>\n",
       "    <tr>\n",
       "      <th>1900 House</th>\n",
       "      <td>NaN</td>\n",
       "      <td>NaN</td>\n",
       "      <td>NaN</td>\n",
       "      <td>NaN</td>\n",
       "      <td>NaN</td>\n",
       "      <td>NaN</td>\n",
       "      <td>NaN</td>\n",
       "      <td>NaN</td>\n",
       "      <td>NaN</td>\n",
       "      <td>NaN</td>\n",
       "      <td>...</td>\n",
       "      <td>NaN</td>\n",
       "      <td>NaN</td>\n",
       "      <td>NaN</td>\n",
       "      <td>NaN</td>\n",
       "      <td>NaN</td>\n",
       "      <td>NaN</td>\n",
       "      <td>NaN</td>\n",
       "      <td>NaN</td>\n",
       "      <td>NaN</td>\n",
       "      <td>NaN</td>\n",
       "    </tr>\n",
       "    <tr>\n",
       "      <th>A Bed &amp; Breakfast In Cambridge</th>\n",
       "      <td>NaN</td>\n",
       "      <td>NaN</td>\n",
       "      <td>NaN</td>\n",
       "      <td>NaN</td>\n",
       "      <td>NaN</td>\n",
       "      <td>NaN</td>\n",
       "      <td>NaN</td>\n",
       "      <td>NaN</td>\n",
       "      <td>NaN</td>\n",
       "      <td>NaN</td>\n",
       "      <td>...</td>\n",
       "      <td>NaN</td>\n",
       "      <td>NaN</td>\n",
       "      <td>3.0</td>\n",
       "      <td>NaN</td>\n",
       "      <td>NaN</td>\n",
       "      <td>NaN</td>\n",
       "      <td>NaN</td>\n",
       "      <td>NaN</td>\n",
       "      <td>NaN</td>\n",
       "      <td>NaN</td>\n",
       "    </tr>\n",
       "    <tr>\n",
       "      <th>A Swallow's Nest Motel</th>\n",
       "      <td>NaN</td>\n",
       "      <td>NaN</td>\n",
       "      <td>NaN</td>\n",
       "      <td>NaN</td>\n",
       "      <td>NaN</td>\n",
       "      <td>NaN</td>\n",
       "      <td>NaN</td>\n",
       "      <td>NaN</td>\n",
       "      <td>NaN</td>\n",
       "      <td>NaN</td>\n",
       "      <td>...</td>\n",
       "      <td>NaN</td>\n",
       "      <td>NaN</td>\n",
       "      <td>NaN</td>\n",
       "      <td>NaN</td>\n",
       "      <td>NaN</td>\n",
       "      <td>NaN</td>\n",
       "      <td>NaN</td>\n",
       "      <td>NaN</td>\n",
       "      <td>NaN</td>\n",
       "      <td>NaN</td>\n",
       "    </tr>\n",
       "    <tr>\n",
       "      <th>Abbeville Inn</th>\n",
       "      <td>NaN</td>\n",
       "      <td>NaN</td>\n",
       "      <td>NaN</td>\n",
       "      <td>NaN</td>\n",
       "      <td>NaN</td>\n",
       "      <td>NaN</td>\n",
       "      <td>NaN</td>\n",
       "      <td>NaN</td>\n",
       "      <td>NaN</td>\n",
       "      <td>NaN</td>\n",
       "      <td>...</td>\n",
       "      <td>NaN</td>\n",
       "      <td>NaN</td>\n",
       "      <td>NaN</td>\n",
       "      <td>NaN</td>\n",
       "      <td>NaN</td>\n",
       "      <td>NaN</td>\n",
       "      <td>NaN</td>\n",
       "      <td>NaN</td>\n",
       "      <td>NaN</td>\n",
       "      <td>NaN</td>\n",
       "    </tr>\n",
       "  </tbody>\n",
       "</table>\n",
       "<p>5 rows × 49 columns</p>\n",
       "</div>"
      ],
      "text/plain": [
       "                                Karen  Scott  Jessica  write a review  \\\n",
       "1785 Inn                          NaN    NaN      NaN             NaN   \n",
       "1900 House                        NaN    NaN      NaN             NaN   \n",
       "A Bed & Breakfast In Cambridge    NaN    NaN      NaN             NaN   \n",
       "A Swallow's Nest Motel            NaN    NaN      NaN             NaN   \n",
       "Abbeville Inn                     NaN    NaN      NaN             NaN   \n",
       "\n",
       "                                A verified traveler  Kevin  William   R   S  \\\n",
       "1785 Inn                                        NaN    NaN      NaN NaN NaN   \n",
       "1900 House                                      NaN    NaN      NaN NaN NaN   \n",
       "A Bed & Breakfast In Cambridge                  NaN    NaN      NaN NaN NaN   \n",
       "A Swallow's Nest Motel                          NaN    NaN      NaN NaN NaN   \n",
       "Abbeville Inn                                   NaN    NaN      NaN NaN NaN   \n",
       "\n",
       "                                Christopher   ...    Thomas  Susan  \\\n",
       "1785 Inn                                NaN   ...       NaN    NaN   \n",
       "1900 House                              NaN   ...       NaN    NaN   \n",
       "A Bed & Breakfast In Cambridge          NaN   ...       NaN    NaN   \n",
       "A Swallow's Nest Motel                  NaN   ...       NaN    NaN   \n",
       "Abbeville Inn                           NaN   ...       NaN    NaN   \n",
       "\n",
       "                                A Traveler   M  Not Provided   B  Laura  \\\n",
       "1785 Inn                               NaN NaN           NaN NaN    NaN   \n",
       "1900 House                             NaN NaN           NaN NaN    NaN   \n",
       "A Bed & Breakfast In Cambridge         3.0 NaN           NaN NaN    NaN   \n",
       "A Swallow's Nest Motel                 NaN NaN           NaN NaN    NaN   \n",
       "Abbeville Inn                          NaN NaN           NaN NaN    NaN   \n",
       "\n",
       "                                xxxxxxxxxxxxxx  Michael  Joseph  \n",
       "1785 Inn                                   NaN      NaN     NaN  \n",
       "1900 House                                 NaN      NaN     NaN  \n",
       "A Bed & Breakfast In Cambridge             NaN      NaN     NaN  \n",
       "A Swallow's Nest Motel                     NaN      NaN     NaN  \n",
       "Abbeville Inn                              NaN      NaN     NaN  \n",
       "\n",
       "[5 rows x 49 columns]"
      ]
     },
     "execution_count": 81,
     "metadata": {},
     "output_type": "execute_result"
    }
   ],
=======
   "execution_count": null,
   "metadata": {
    "collapsed": false
   },
   "outputs": [],
>>>>>>> 0dbd711943f6965fc91c883fe001d81eba4df43a
   "source": [
    "df_hotels = pandas.read_csv('../data/hot_Reviews.csv', index_col=0)\n",
    "df_hotels[:5]"
   ]
  },
  {
   "cell_type": "markdown",
   "metadata": {},
   "source": [
    "Here a rank of 0 is a missing value and to simplify things more we will convert from a 1-10 scale to a 1-5 scale, with 0 as missing"
   ]
  },
  {
   "cell_type": "code",
<<<<<<< HEAD
   "execution_count": 82,
=======
   "execution_count": null,
>>>>>>> 0dbd711943f6965fc91c883fe001d81eba4df43a
   "metadata": {
    "collapsed": true
   },
   "outputs": [],
   "source": [
    "df_hotels = df_hotels.apply(lambda x: x // 2) #integer divide by 2 rounds all values"
   ]
  },
  {
   "cell_type": "markdown",
   "metadata": {},
   "source": [
    "And we can visualize all the reviews as a heatmap with the missing values greyed out"
   ]
  },
  {
   "cell_type": "code",
<<<<<<< HEAD
   "execution_count": 83,
   "metadata": {
    "scrolled": true
   },
   "outputs": [
    {
     "data": {
      "image/png": "iVBORw0KGgoAAAANSUhEUgAABTgAAASyCAYAAACStYTxAAAABHNCSVQICAgIfAhkiAAAAAlwSFlz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\n",
      "text/plain": [
       "<matplotlib.figure.Figure at 0x2074b3c1f98>"
      ]
     },
     "metadata": {},
     "output_type": "display_data"
    }
   ],
=======
   "execution_count": null,
   "metadata": {
    "collapsed": false
   },
   "outputs": [],
>>>>>>> 0dbd711943f6965fc91c883fe001d81eba4df43a
   "source": [
    "fig, ax = plt.subplots(figsize = (20,20))\n",
    "seaborn.heatmap(df_hotels, cmap='rainbow', ax = ax)\n",
    "plt.show()"
   ]
  },
  {
   "cell_type": "markdown",
   "metadata": {},
   "source": [
    "To give the dataframe to pyanno we need to convert to np array and change the nans to intergers, lets use -1"
   ]
  },
  {
   "cell_type": "code",
<<<<<<< HEAD
   "execution_count": 84,
=======
   "execution_count": null,
>>>>>>> 0dbd711943f6965fc91c883fe001d81eba4df43a
   "metadata": {
    "collapsed": true
   },
   "outputs": [],
   "source": [
    "hot_mat = np.array(df_hotels.fillna(-1).as_matrix())\n",
    "anno_hot = AnnotationsContainer.from_array(hot_mat, missing_values=[-1])"
   ]
  },
  {
   "cell_type": "code",
<<<<<<< HEAD
   "execution_count": 85,
   "metadata": {},
   "outputs": [
    {
     "data": {
      "text/plain": [
       "array([[-1, -1, -1, ..., -1, -1, -1],\n",
       "       [-1, -1, -1, ..., -1, -1, -1],\n",
       "       [-1, -1, -1, ..., -1, -1, -1],\n",
       "       ...,\n",
       "       [-1, -1, -1, ..., -1, -1, -1],\n",
       "       [-1, -1, -1, ..., -1, -1, -1],\n",
       "       [-1, -1, -1, ..., -1, -1, -1]])"
      ]
     },
     "execution_count": 85,
     "metadata": {},
     "output_type": "execute_result"
    }
   ],
=======
   "execution_count": null,
   "metadata": {
    "collapsed": false
   },
   "outputs": [],
>>>>>>> 0dbd711943f6965fc91c883fe001d81eba4df43a
   "source": [
    "anno_hot.annotations"
   ]
  },
  {
   "cell_type": "code",
<<<<<<< HEAD
   "execution_count": 86,
   "metadata": {},
   "outputs": [
    {
     "data": {
      "text/plain": [
       "[0.0, 1.0, 2.0, 3.0, 4.0, 5.0]"
      ]
     },
     "execution_count": 86,
     "metadata": {},
     "output_type": "execute_result"
    }
   ],
=======
   "execution_count": null,
   "metadata": {
    "collapsed": false
   },
   "outputs": [],
>>>>>>> 0dbd711943f6965fc91c883fe001d81eba4df43a
   "source": [
    "anno_hot.labels"
   ]
  },
  {
   "cell_type": "code",
<<<<<<< HEAD
   "execution_count": 87,
   "metadata": {},
   "outputs": [
    {
     "data": {
      "text/plain": [
       "[-1]"
      ]
     },
     "execution_count": 87,
     "metadata": {},
     "output_type": "execute_result"
    }
   ],
=======
   "execution_count": null,
   "metadata": {
    "collapsed": false
   },
   "outputs": [],
>>>>>>> 0dbd711943f6965fc91c883fe001d81eba4df43a
   "source": [
    "anno_hot.missing_values"
   ]
  },
  {
   "cell_type": "markdown",
   "metadata": {},
   "source": [
    "Look at coder agreement"
   ]
  },
  {
   "cell_type": "code",
<<<<<<< HEAD
   "execution_count": 88,
   "metadata": {},
   "outputs": [
    {
     "data": {
      "text/plain": [
       "array([0.07806534, 0.26262198, 0.63555367, 0.00636402, 0.0093339 ,\n",
       "       0.00806109])"
      ]
     },
     "execution_count": 88,
     "metadata": {},
     "output_type": "execute_result"
    }
   ],
=======
   "execution_count": null,
   "metadata": {
    "collapsed": false
   },
   "outputs": [],
>>>>>>> 0dbd711943f6965fc91c883fe001d81eba4df43a
   "source": [
    "pyanno.measures.agreement.labels_frequency(anno_hot.annotations, 6)#6 possible catagories"
   ]
  },
  {
   "cell_type": "code",
<<<<<<< HEAD
   "execution_count": 89,
   "metadata": {},
   "outputs": [
    {
     "name": "stdout",
     "output_type": "stream",
     "text": [
      "[[0. 0. 0. 0. 0. 0.]\n",
      " [0. 0. 1. 0. 0. 0.]\n",
      " [1. 0. 4. 0. 0. 0.]\n",
      " [0. 0. 0. 0. 0. 0.]\n",
      " [0. 0. 0. 0. 0. 0.]\n",
      " [0. 0. 0. 0. 0. 0.]]\n"
     ]
    },
    {
     "data": {
      "image/png": "iVBORw0KGgoAAAANSUhEUgAAAV0AAAD8CAYAAADUv3dIAAAABHNCSVQICAgIfAhkiAAAAAlwSFlz\nAAALEgAACxIB0t1+/AAAADl0RVh0U29mdHdhcmUAbWF0cGxvdGxpYiB2ZXJzaW9uIDIuMS4yLCBo\ndHRwOi8vbWF0cGxvdGxpYi5vcmcvNQv5yAAAEfVJREFUeJzt3X2sZHV9x/H3Z3dBKCBYNRZ20bX1\nqagV6hZrqUoF2xUJaIIJGERb4m3SarGaKNZGK0mbqvWhSW11C0RRIyo+bdCiREFjy9MuILCsWmqt\nrmhX4gOCVrx3vv1jRjNc750Hdu6ZmcP7tTnZuTO/+Z0vhHzvl+/5/c5JVSFJasa6aQcgSfcnJl1J\napBJV5IaZNKVpAaZdCWpQSZdSWqQSVeSBkiyPskNSS5d4bMHJPlgktuSXJNk87D5TLqSNNg5wO5V\nPjsb+H5VPQp4G/DGYZOZdCVpFUk2Ac8Bzl9lyKnAe3qvLwFOSJJBc26YXHirnGD/jW55kzSSxXu+\nNTBhjeJnd3xt5Jyz/0N/40+Bhb63tlXVtr6f3w68CjhklSk2At8EqKrFJD8EHgzcsdo51zzpStKs\n6iXYbSt9luRkYG9V7Uxy/CpTrPRLYmDSN+lKapfO0qRmOg44JclJwAHAA5O8r6rO7BuzBzgS2JNk\nA3Ao8L1Bk9rTldQuS4ujHwNU1WuqalNVbQZOBz63LOECbAde1Ht9Wm+Mla6k+4+qzprOn+Q8YEdV\nbQcuAN6b5Da6Fe7pQ7+/1rd29EKapFFN4kLaPXtuHv1C2qYn7vP5xmWlK6ld1rjS3VcmXUntMrkL\naWvCpCupXax0Jak5NWRVwrSZdCW1S8dKV5KaY3tBkhrkhTRJapCVriQ1yAtpktQgL6RJUnOq5ryn\nm+RxdO+OvpHufSJvB7ZX1WqPr5Ck6Znxnu7AWzsmeTVwMd0b9V4LXNd7/YEk5w743kKSHUl2dDp3\nTzJeSRqs0xn9mIKBdxlL8lXg8VX1s2Xv7w/sqqpHDzuBdxmTNKpJ3GXs/3Z+fOScc8CTnztzdxnr\nAEcA/7Ps/cN7n0nSbFn62fAxUzQs6b4c+GyS/6T38DXg4cCjgJeuZWCSdJ/M8+qFqrosyWOAY+le\nSAvdZwJdV7N+iVDS/dOMX0gbunqhus++uLqBWCRp381zpStJc8ekK0nNqTm/kCZJ82Xee7qSNFds\nL0hSg6x0JalBVrqS1CArXUlq0KI3MZek5ljpSlKD7OlKUoOsdCWpQVa6WmtnHfHUaYcwtotuv2ra\nIaitrHQlqUGuXpCkBg14BNksMOlKahd7upLUoBlPugMfwS5Jc6c6ox8DJDkgybVJvpRkV5I3rDDm\nFUluTXJTks8mecSw8Ey6ktplaWn0Y7CfAs+sqicBRwNbk/zusjE3AFuq6reAS4A3DZvUpCupXTqd\n0Y8Bquuu3o/79Y5aNuaKqvpx78ergU3DwjPpSmqXMZJukoUkO/qOhf6pkqxPciOwF7i8qq4ZcOaz\ngX8bFp4X0iS1yxibI6pqG7BtwOdLwNFJDgM+luQJVXXL8nFJzgS2AM8Ydk6TrqRWqc7k1+lW1Q+S\nXAlsBe6VdJOcCLwWeEZV/XTYXLYXJLXLhHq6SR7aq3BJciBwIvDlZWOOAd4FnFJVe0cJz0pXUrsM\nX5UwqsOB9yRZT7dA/VBVXZrkPGBHVW0H3gwcDHw4CcA3quqUQZOadCW1y4Q2R1TVTcAxK7z/ur7X\nJ447r0lXUrvM+I40k66kdvGGN5LUICtdSWrQGiwZm6T7vGQsyR9PMhBJmojJ3XthTezLOt1fuuPO\nz/Vvret07t6HU0jSeKrTGfmYhoHthSQ3rfYR8LDVvte/tW7D/htnu9aX1C4z3l4Y1tN9GPBHwPeX\nvR/gP9YkIknaF3P+YMpLgYOr6sblH/T2IUvSbJnnSreqzh7w2QsmH44k7aPF6VwgG5VLxiS1y5y3\nFyRpvsxze0GS5s20loKNyqQrqV2sdCWpQSZdSWrQlLb3jsqkK6lV1uIZaZNk0pXULiZdSWqQqxck\nqUFWupLUIJOuJDWnlu7n7YWzjnjqWp9ioi66/apphzC2d+1407RDGNtFRzxt2iGorax0Jak5LhmT\npCaZdCWpQbPd0jXpSmqXWpztrGvSldQus51zTbqS2sULaZLUJCtdSWqOla4kNclKV5KaU4vTjmAw\nk66kVpnxJ7CzbtoBSNJEdcY4BkhyZJIrkuxOsivJOQPG/k6SpSSnDQvPSldSq0yw0l0EXllV1yc5\nBNiZ5PKqurV/UJL1wBuBT48yqZWupFapzujHwHmqvl1V1/de/wjYDWxcYejLgI8Ae0eJz6QrqVVq\nKSMfSRaS7Og7FlaaM8lm4BjgmmXvbwSeB7xz1PhsL0hqlXHaC1W1Ddg2aEySg+lWsi+vqjuXffx2\n4NVVtZRkpHMOTbpJHke3pL6mqu7qe39rVV020lkkqSHVGS35jSLJfnQT7vur6qMrDNkCXNxLuA8B\nTkqyWFUfX23Oge2FJH8BfIJuz+KWJKf2ffx3Y8YvSWtuUj3ddDPpBcDuqnrriueqemRVba6qzcAl\nwJ8NSrgwvNJ9CfDkqrqr19O4JMnmqvpHYNVfJ72+yALA7/3qMTz2kF8fchpJmoyqiVW6xwEvBG5O\ncmPvvb8CHt49T43cx+03LOmu/3lLoaq+nuR4uon3EQxIuv19kj/ZfNpsb4SW1CqTWjJWVV9kQJ5b\nYfyLRxk3bPXCd5Ic3TfpXcDJdHsXTxw1GElqSmcpIx/TMKzSPYvuAuFfqKpF4Kwk71qzqCTpPprk\nhbS1MDDpVtWeAZ/9++TDkaR9M9dJV5LmTc34VSSTrqRWsdKVpAZNcMnYmjDpSmqVpSmtShiVSVdS\nq1jpSlKD7OlKUoNcvSBJDbLSlaQGLXVm+9kMJl1JrWJ7QZIa1HH1giQ1xyVjktSg+3174aLbr1rr\nU9zvHXjE06YdgjQzbC9IUoNcvSBJDZrx7oJJV1K72F6QpAa5ekGSGjShhwGvGZOupFap0Z+aPhUm\nXUmtsmh7QZKaY6UrSQ2ypytJDbLSlaQGWelKUoOWrHQlqTkz/rQek66kdulY6UpSc+b+hjdJjgWq\nqq5LchSwFfhyVX1qzaOTpDHN9YW0JK8Hng1sSHI58BTgSuDcJMdU1d+ufYiSNLpO5ru9cBpwNPAA\n4DvApqq6M8mbgWuAFZNukgVgASDrD2XduoMmF7EkDbA07QCGGHaL9cWqWqqqHwP/VVV3AlTVTxhQ\nxVfVtqraUlVbTLiSmtTJ6McwSS5MsjfJLQPGHJ/kxiS7knx+2JzDku49SX6l9/rJfSc5lNlvnUi6\nH+qQkY8RvJvudawVJTkM+GfglKp6PPD8YRMOS7pP71W5VFV/kt0PeNGwySWpaTXGMXSuqi8A3xsw\n5AXAR6vqG73xe4fNOTDpVtVPV3n/jqq6edjkktS0cdoLSRaS7Og7FsY83WOAByW5MsnOJGcN+4Lr\ndCW1yjh9z6raBmzbh9NtoNt6PQE4ELgqydVV9dVBX5Ck1lhqdsXYHuCOqrobuDvJF4AnAasm3dl+\nQLwkjakzxjEBnwCelmRDb9HBU4Ddg75gpSupVSa5rCrJB4DjgYck2QO8nu5CAqrqnVW1O8llwE29\nU59fVasuLwOTrqSWmeQj0qrqjBHGvBl486hzmnQltcqsbyAw6UpqlVnfBmzSldQq3sRckhpke0GS\nGmTSlaQGzf2TIyRpntjTlaQGuXpBkhrUmfEGg0lXUqt4IU2SGjTbda5JV1LLWOlKUoMWM9u1rklX\nUqvMdso16UpqGdsLktQgl4xJUoNmO+WadCW1jO0FSWrQ0ozXuiZdSa1ipStJDSorXUlqjpWuJDXI\nJWOS1KDZTrkmXUktszjjaXfduF9IctFaBCJJk1Bj/JmGgZVuku3L3wL+IMlhAFV1yirfWwAWALL+\nUNatO2gCoUrScPN+IW0TcCtwPt1WSYAtwFsGfamqtgHbADbsv3G2a31JrTLrS8aGtRe2ADuB1wI/\nrKorgZ9U1eer6vNrHZwkjaszxjENAyvdquoAb0vy4d7f/zvsO5I0TUs125XuSAm0qvYAz0/yHODO\ntQ1Jku67Vq3TrapPAp9co1gkaZ/Nek/XVoGkVpn31QuSNFdmvb0w9uYISZplk9wckWRrkq8kuS3J\nuSt8/vAkVyS5IclNSU4aNqeVrqRWmdTqhSTrgXcAzwL2ANcl2V5Vt/YN+2vgQ1X1L0mOAj4FbB40\nr5WupFbpUCMfQxwL3FZVX6uqe4CLgVOXjSnggb3XhwK3D5vUpCupVcbZHJFkIcmOvmOhb6qNwDf7\nft7Te6/f3wBnJtlDt8p92bD4bC9IapVxloz137JgBVlx+ns7A3h3Vb0lyVOB9yZ5Qm9j2YpMupJa\nZYKrF/YAR/b9vIlfbh+cDWwFqKqrkhwAPATYu9qkthcktUpVjXwMcR3w6CSPTLI/cDqw/M6L3wBO\nAEjym8ABwHcHTWqlK6lVJvUI9qpaTPJS4NPAeuDCqtqV5DxgR1VtB14J/GuSv6TbenhxDcnmJl1J\nrTLJzRFV9Sm6F8j633td3+tbgePGmdOkK6lVRmgbTJVJV1KrzPo2YJOupFbxLmOS1KBW3MRckuaF\n7QVJapBJV5Ia5OoFSWqQla4kNcjVC5LUoKXVb/A1E0y6klrFnq4kNcieriQ1yJ6uJDWoY3tBkppj\npStJDXL1giQ1yPaCJDWoVe2FJL8PHAvcUlWfWZuQJOm+m/VKd+DTgJNc2/f6JcA/AYcAr09y7hrH\nJkljqzH+TMOwSne/vtcLwLOq6rtJ/gG4Gvj7lb6UZKE3nqw/lHXrDppErJI01FItTTuEgYYl3XVJ\nHkS3Ik5VfRegqu5Osrjal6pqG7ANYMP+G2e71pfUKvO+DfhQYCcQoJL8WlV9J8nBvfckaabM9Tbg\nqtq8ykcd4HkTj0aS9tG8V7orqqofA/894VgkaZ/N+uoF1+lKapVWrdOVpFnnNmBJalAre7qSNKvs\n6UpSg6x0JalBc71OV5LmjZWuJDXI1QuS1CAvpElSg2a9vTDwfrqSNG8meT/dJFuTfCXJbSvdQzzJ\nA5J8sPf5NUk2D5vTpCupVapq5GOQJOuBdwDPBo4Czkhy1LJhZwPfr6pHAW8D3jgsPpOupFbpVI18\nDHEscFtVfa2q7gEuBk5dNuZU4D2915cAJyQZeNvbNe/pLt7zrTW7726Shd4N0+fCvMUL8xfzvMUL\nxjxp4+Sc/qfc9Gzr++faCHyz77M9wFOWTfGLMVW1mOSHwIOBO1Y757xXugvDh8yUeYsX5i/meYsX\njHlqqmpbVW3pO/p/kayUvJeXx6OMuZd5T7qStFb2AEf2/bwJuH21MUk20H3azvcGTWrSlaSVXQc8\nOskjk+wPnA5sXzZmO/Ci3uvTgM/VkCt0875OdyZ7SgPMW7wwfzHPW7xgzDOp16N9KfBpYD1wYVXt\nSnIesKOqtgMXAO9NchvdCvf0YfNm1hcSS1Kb2F6QpAaZdCWpQXOZdIdtzZs1SS5MsjfJLdOOZRRJ\njkxyRZLdSXYlOWfaMQ2T5IAk1yb5Ui/mN0w7plEkWZ/khiSXTjuWUST5epKbk9yYZMe045lHc9fT\n7W3N+yrwLLrLNa4DzqiqW6ca2ABJng7cBVxUVU+YdjzDJDkcOLyqrk9yCLATeO6M/zsOcFBV3ZVk\nP+CLwDlVdfWUQxsoySuALcADq+rkacczTJKvA1uqatXF/xpsHivdUbbmzZSq+gJD1u7Nkqr6dlVd\n33v9I2A33Z03M6u67ur9uF/vmOmKIskm4DnA+dOORc2Zx6S70ta8mU4I86x316RjgGumG8lwvf9V\nvxHYC1xeVbMe89uBVwGzfdfteyvgM0l29rbQakzzmHTH3nan+ybJwcBHgJdX1Z3TjmeYqlqqqqPp\n7hw6NsnMtnKSnAzsraqd045lTMdV1W/TvfPWn/daZxrDPCbdUbbmaR/1+qIfAd5fVR+ddjzjqKof\nAFcCW6ccyiDHAaf0eqQXA89M8r7phjRcVd3e+3sv8DG67T6NYR6T7ihb87QPehelLgB2V9Vbpx3P\nKJI8NMlhvdcHAicCX55uVKurqtdU1aaq2kz3v+HPVdWZUw5roCQH9S6skuQg4A+BuViRM0vmLulW\n1SLw8615u4EPVdWu6UY1WJIPAFcBj02yJ8nZ045piOOAF9Ktvm7sHSdNO6ghDgeuSHIT3V/Ml1fV\nXCzDmiMPA76Y5EvAtcAnq+qyKcc0d+ZuyZgkzbO5q3QlaZ6ZdCWpQSZdSWqQSVeSGmTSlaQGmXQl\nqUEmXUlq0P8D7rUcrp238SgAAAAASUVORK5CYII=\n",
      "text/plain": [
       "<matplotlib.figure.Figure at 0x2074c528978>"
      ]
     },
     "metadata": {},
     "output_type": "display_data"
    }
   ],
=======
   "execution_count": null,
   "metadata": {
    "collapsed": false
   },
   "outputs": [],
>>>>>>> 0dbd711943f6965fc91c883fe001d81eba4df43a
   "source": [
    "c = pyanno.measures.agreement.confusion_matrix(anno_hot.annotations[:,0], anno_hot.annotations[:,1], 6) #6 possible catagories\n",
    "print(c)\n",
    "ac = seaborn.heatmap(c)\n",
    "plt.show()"
   ]
  },
  {
   "cell_type": "markdown",
   "metadata": {},
   "source": [
    "Most agreement is on 2 i.e. an average hotel and there's little agreement as rating go higher, likely due to scarcity in the sample"
   ]
  },
  {
   "cell_type": "code",
<<<<<<< HEAD
   "execution_count": 90,
   "metadata": {},
   "outputs": [
    {
     "data": {
      "text/plain": [
       "0.3787878787878787"
      ]
     },
     "execution_count": 90,
     "metadata": {},
     "output_type": "execute_result"
    }
   ],
=======
   "execution_count": null,
   "metadata": {
    "collapsed": false
   },
   "outputs": [],
>>>>>>> 0dbd711943f6965fc91c883fe001d81eba4df43a
   "source": [
    "scotts_pi(anno_hot.annotations[:,0], anno_hot.annotations[:,1])"
   ]
  },
  {
   "cell_type": "code",
<<<<<<< HEAD
   "execution_count": 91,
   "metadata": {},
   "outputs": [
    {
     "data": {
      "text/plain": [
       "0.398760907615921"
      ]
     },
     "execution_count": 91,
     "metadata": {},
     "output_type": "execute_result"
    }
   ],
=======
   "execution_count": null,
   "metadata": {
    "collapsed": false
   },
   "outputs": [],
>>>>>>> 0dbd711943f6965fc91c883fe001d81eba4df43a
   "source": [
    "krippendorffs_alpha(anno_hot.annotations[::])"
   ]
  },
  {
   "cell_type": "code",
<<<<<<< HEAD
   "execution_count": 92,
   "metadata": {},
   "outputs": [
    {
     "data": {
      "text/plain": [
       "0.40328336902212697"
      ]
     },
     "execution_count": 92,
     "metadata": {},
     "output_type": "execute_result"
    }
   ],
=======
   "execution_count": null,
   "metadata": {
    "collapsed": false
   },
   "outputs": [],
>>>>>>> 0dbd711943f6965fc91c883fe001d81eba4df43a
   "source": [
    "cohens_kappa(anno_hot.annotations[:,0], anno_hot.annotations[:,1])"
   ]
  },
  {
   "cell_type": "code",
<<<<<<< HEAD
   "execution_count": 93,
   "metadata": {
    "scrolled": true
   },
   "outputs": [
    {
     "name": "stderr",
     "output_type": "stream",
     "text": [
      "C:\\Users\\lyumu\\Anaconda3\\lib\\site-packages\\pyanno\\measures\\helpers.py:166: RuntimeWarning: invalid value encountered in double_scalars\n",
      "  return (observed_agreement - chance_agreement) / (1. - chance_agreement)\n"
     ]
    },
    {
     "data": {
      "text/plain": [
       "<matplotlib.axes._subplots.AxesSubplot at 0x2074b5dbc50>"
      ]
     },
     "execution_count": 93,
     "metadata": {},
     "output_type": "execute_result"
    },
    {
     "data": {
      "image/png": "iVBORw0KGgoAAAANSUhEUgAAAy4AAANSCAYAAACDU5oRAAAABHNCSVQICAgIfAhkiAAAAAlwSFlz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\ngg==\n",
      "text/plain": [
       "<matplotlib.figure.Figure at 0x2074b23d0f0>"
      ]
     },
     "metadata": {},
     "output_type": "display_data"
    }
   ],
=======
   "execution_count": null,
   "metadata": {
    "collapsed": false
   },
   "outputs": [],
>>>>>>> 0dbd711943f6965fc91c883fe001d81eba4df43a
   "source": [
    "m = pairwise_matrix(cohens_kappa, anno_hot.annotations)\n",
    "fig, ax = plt.subplots(figsize = (15, 15))\n",
    "seaborn.heatmap(m, ax =ax)"
   ]
  },
  {
   "cell_type": "markdown",
   "metadata": {},
   "source": [
    "And to look at what model Bt thinkgs the correct reviews are:"
   ]
  },
  {
   "cell_type": "code",
<<<<<<< HEAD
   "execution_count": 94,
   "metadata": {},
   "outputs": [
    {
     "name": "stdout",
     "output_type": "stream",
     "text": [
      "-2702.199648522824\n"
     ]
    }
   ],
=======
   "execution_count": null,
   "metadata": {
    "collapsed": false
   },
   "outputs": [],
>>>>>>> 0dbd711943f6965fc91c883fe001d81eba4df43a
   "source": [
    "model_hot = ModelBt.create_initial_state(6, 49)\n",
    "model_hot.mle(anno_hot.annotations)\n",
    "#print(model.theta)\n",
    "print(model_hot.log_likelihood(anno_hot.annotations))"
   ]
  },
  {
<<<<<<< HEAD
   "cell_type": "markdown",
   "metadata": {
    "collapsed": true
   },
=======
   "cell_type": "code",
   "execution_count": null,
   "metadata": {
    "collapsed": false
   },
   "outputs": [],
>>>>>>> 0dbd711943f6965fc91c883fe001d81eba4df43a
   "source": [
    "makeQuestionComparison(model_hot, anno_hot)"
   ]
  },
  {
   "cell_type": "markdown",
   "metadata": {},
   "source": [
    "## <span style=\"color:red\">*Exercise 3*</span>\n",
    "\n",
    "<span style=\"color:red\">In the cells immediately following, use the results of your content annotation survey to predict high and low-quality analysts, then predict MLE or MAP estimates for your codes in question. What do these estimates suggest about the distribution of skill among your coders? How different are these estimates from a majority vote?"
   ]
<<<<<<< HEAD
  },
  {
   "cell_type": "code",
   "execution_count": 111,
   "metadata": {
    "scrolled": true
   },
   "outputs": [
    {
     "name": "stdout",
     "output_type": "stream",
     "text": [
      "[[[0.90940856 0.09059144]\n",
      "  [0.08925302 0.91074698]]\n",
      "\n",
      " [[0.89444964 0.10555036]\n",
      "  [0.24016969 0.75983031]]\n",
      "\n",
      " [[0.82621602 0.17378398]\n",
      "  [0.18733047 0.81266953]]\n",
      "\n",
      " [[0.80760683 0.19239317]\n",
      "  [0.14902603 0.85097397]]\n",
      "\n",
      " [[0.93611323 0.06388677]\n",
      "  [0.09969146 0.90030854]]]\n",
      "-21.167626093217322\n"
     ]
    }
   ],
   "source": [
    "# create a new instance of model B, with 2 label classes, 5 annotators\n",
    "model2 = ModelB.create_initial_state(2,5)\n",
    "# other model parameters are initialized from the model prior\n",
    "print(model2.theta)\n",
    "print(model2.log_likelihood(anno2.annotations))"
   ]
  },
  {
   "cell_type": "markdown",
   "metadata": {},
   "source": [
    "train the model using MAP (maximum a posteriori estimation) to estimate model parameters"
   ]
  },
  {
   "cell_type": "code",
   "execution_count": 113,
   "metadata": {},
   "outputs": [],
   "source": [
    "samples = model2.sample_posterior_over_accuracy(anno2.annotations, 200, burn_in_samples=100, thin_samples=3)"
   ]
  },
  {
   "cell_type": "code",
   "execution_count": 114,
   "metadata": {
    "scrolled": true
   },
   "outputs": [
    {
     "name": "stdout",
     "output_type": "stream",
     "text": [
      "[[[0.81194959 0.18805041]\n",
      "  [0.2172343  0.7827657 ]]\n",
      "\n",
      " [[0.76831048 0.23168952]\n",
      "  [0.20039398 0.79960602]]\n",
      "\n",
      " [[0.80966082 0.19033918]\n",
      "  [0.15802571 0.84197429]]\n",
      "\n",
      " [[0.76560615 0.23439385]\n",
      "  [0.15378398 0.84621602]]\n",
      "\n",
      " [[0.8523496  0.1476504 ]\n",
      "  [0.16366696 0.83633304]]]\n",
      "-18.391799274825892\n"
     ]
    }
   ],
   "source": [
    "model2.map(anno2.annotations)\n",
    "print(model2.theta)\n",
    "print(model2.log_likelihood(anno2.annotations))"
   ]
  },
  {
   "cell_type": "markdown",
   "metadata": {},
   "source": [
    "calculate the posterior distribution over the true label classes"
   ]
  },
  {
   "cell_type": "code",
   "execution_count": 115,
   "metadata": {},
   "outputs": [
    {
     "name": "stdout",
     "output_type": "stream",
     "text": [
      "[[0.04922329 0.95077671]\n",
      " [0.01441338 0.98558662]\n",
      " [0.90721227 0.09278773]\n",
      " [0.8857609  0.1142391 ]\n",
      " [0.89265062 0.10734938]]\n"
     ]
    }
   ],
   "source": [
    "posterior = model2.infer_labels(anno2.annotations)\n",
    "print(posterior)"
   ]
  },
  {
   "cell_type": "markdown",
   "metadata": {},
   "source": [
    "heatmap:"
   ]
  },
  {
   "cell_type": "code",
   "execution_count": 123,
   "metadata": {
    "collapsed": true
   },
   "outputs": [],
   "source": [
    "def makeQuestionComparison(model2, anno2_target, num_questions = 5):\n",
    "    votes = []\n",
    "    for r in anno2_target.annotations:\n",
    "        v = [0] * len(anno2_target.labels)\n",
    "        votes.append(v)\n",
    "        for a in r:\n",
    "            if a > -1:\n",
    "                v[a] += 1\n",
    "    votes_array = np.array(votes)\n",
    "    posterior = model2.infer_labels(anno2_target.annotations)\n",
    "    fig, (ax1, ax2) = plt.subplots(ncols=2, figsize = (15, 10), sharey=True)\n",
    "\n",
    "    seaborn.heatmap(votes_array[:num_questions], annot = True, ax=ax2)\n",
    "    seaborn.heatmap(np.nan_to_num(posterior,0)[:num_questions], annot=True, ax =ax1)\n",
    "    ax1.set_title(\"Model2\")\n",
    "    ax2.set_title(\"Votes\")\n",
    "    return fig, (ax1, ax2)"
   ]
  },
  {
   "cell_type": "code",
   "execution_count": 124,
   "metadata": {},
   "outputs": [
    {
     "data": {
      "text/plain": [
       "(<matplotlib.figure.Figure at 0x1f68c4319e8>,\n",
       " (<matplotlib.axes._subplots.AxesSubplot at 0x1f68c4360f0>,\n",
       "  <matplotlib.axes._subplots.AxesSubplot at 0x1f68c35aba8>))"
      ]
     },
     "execution_count": 124,
     "metadata": {},
     "output_type": "execute_result"
    },
    {
     "data": {
      "image/png": "iVBORw0KGgoAAAANSUhEUgAAA10AAAJOCAYAAABMTm3eAAAABHNCSVQICAgIfAhkiAAAAAlwSFlz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\nAzakg4fUIvliAAAAAElFTkSuQmCC\n",
      "text/plain": [
       "<matplotlib.figure.Figure at 0x1f68c4319e8>"
      ]
     },
     "metadata": {},
     "output_type": "display_data"
    }
   ],
   "source": [
    "makeQuestionComparison(model2, anno2)"
   ]
  },
  {
   "cell_type": "markdown",
   "metadata": {},
   "source": [
    "For my model, it looks like we should just take the one with the most votes."
   ]
  },
  {
   "cell_type": "markdown",
   "metadata": {},
   "source": [
    "ModelBt:"
   ]
  },
  {
   "cell_type": "code",
   "execution_count": 125,
   "metadata": {},
   "outputs": [
    {
     "name": "stdout",
     "output_type": "stream",
     "text": [
      "[0.71862352 0.71537478 0.93738686 0.66620553 0.90528924]\n",
      "-17.868901382127348\n"
     ]
    }
   ],
   "source": [
    "# create a new instance of model B, with 5 label classes and 10 annotators.\n",
    "model3 = ModelBt.create_initial_state(2, 5)\n",
    "print(model3.theta)\n",
    "print(model3.log_likelihood(anno2.annotations))"
   ]
  },
  {
   "cell_type": "code",
   "execution_count": 126,
   "metadata": {},
   "outputs": [
    {
     "name": "stdout",
     "output_type": "stream",
     "text": [
      "[0.39974508 0.66675532 0.99999998 0.50004009 0.83325207]\n",
      "-15.213706947353195\n"
     ]
    }
   ],
   "source": [
    "model3.map(anno2.annotations)\n",
    "print(model3.theta)\n",
    "print(model3.log_likelihood(anno2.annotations))"
   ]
  },
  {
   "cell_type": "code",
   "execution_count": 127,
   "metadata": {},
   "outputs": [
    {
     "data": {
      "text/plain": [
       "array([[0.55259164, 0.63332021, 0.44906638, 0.73116298, 0.69657118],\n",
       "       [0.55259164, 0.63332021, 0.44906638, 0.73116298, 0.69657118],\n",
       "       [0.76763947, 0.0930885 , 0.58399888, 0.79140963, 0.59474015],\n",
       "       [0.42555417, 0.48129841, 0.52927584, 0.80265973, 0.77374115],\n",
       "       [0.51301444, 0.97467683, 0.51246705, 0.73565336, 0.51636248],\n",
       "       [0.83350964, 0.67339356, 0.38268192, 0.43913391, 0.53679992],\n",
       "       [0.88042927, 0.16069625, 0.42339674, 0.46678803, 0.75957452],\n",
       "       [0.83790125, 0.17381378, 0.52696656, 0.7983941 , 0.87385511],\n",
       "       [0.59454285, 0.70316243, 0.57188101, 0.91291533, 0.86178218],\n",
       "       [0.93291525, 0.14258522, 0.63286401, 0.82727473, 0.95770114],\n",
       "       [0.54943483, 0.45242395, 0.50515326, 0.98952709, 0.71719334],\n",
       "       [0.54943483, 0.45242395, 0.50515326, 0.98952709, 0.71719334],\n",
       "       [0.41390361, 0.78713759, 0.45431757, 0.63145083, 0.82186105],\n",
       "       [0.73544648, 0.87727872, 0.59051321, 0.9723982 , 0.63616606],\n",
       "       [0.81688427, 0.84950803, 0.55270817, 0.97892502, 0.91532937],\n",
       "       [0.81632001, 0.83588538, 0.54427077, 0.98914865, 0.73418254],\n",
       "       [0.50370232, 0.48422211, 0.54487281, 0.67190174, 0.86204977],\n",
       "       [0.37669482, 0.55327798, 0.58443257, 0.30263773, 0.76426121],\n",
       "       [0.37669482, 0.55327798, 0.58443257, 0.30263773, 0.76426121],\n",
       "       [0.28791864, 0.84007494, 0.54493728, 0.66469518, 0.53628804],\n",
       "       [0.28791864, 0.84007494, 0.54493728, 0.66469518, 0.53628804],\n",
       "       [0.28791864, 0.84007494, 0.54493728, 0.66469518, 0.53628804],\n",
       "       [0.18927406, 0.70077131, 0.60649801, 0.79759989, 0.62114019],\n",
       "       [0.64107401, 0.4072149 , 0.7092938 , 0.94378991, 0.40982243],\n",
       "       [0.28383583, 0.88482864, 0.61463925, 0.56349385, 0.16800557],\n",
       "       [0.28383583, 0.88482864, 0.61463925, 0.56349385, 0.16800557],\n",
       "       [0.28383583, 0.88482864, 0.61463925, 0.56349385, 0.16800557],\n",
       "       [0.28383583, 0.88482864, 0.61463925, 0.56349385, 0.16800557],\n",
       "       [0.25753099, 0.590936  , 0.73483566, 0.55691117, 0.30342978],\n",
       "       [0.3614967 , 0.1368875 , 0.90585033, 0.53327861, 0.31456039],\n",
       "       [0.73174782, 0.4994407 , 0.83188296, 0.54133641, 0.76331225],\n",
       "       [0.71085174, 0.74558206, 0.82396403, 0.63899836, 0.79674484],\n",
       "       [0.77426702, 0.37139092, 0.79912268, 0.56212972, 0.98368007],\n",
       "       [0.77426702, 0.37139092, 0.79912268, 0.56212972, 0.98368007],\n",
       "       [0.77426702, 0.37139092, 0.79912268, 0.56212972, 0.98368007],\n",
       "       [0.72669331, 0.32030043, 0.9018309 , 0.40058408, 0.8295809 ],\n",
       "       [0.72669331, 0.32030043, 0.9018309 , 0.40058408, 0.8295809 ],\n",
       "       [0.6956061 , 0.36500147, 0.93582531, 0.34093426, 0.59236203],\n",
       "       [0.51998873, 0.80047314, 0.80293792, 0.39030836, 0.86649899],\n",
       "       [0.83934616, 0.16643876, 0.70437789, 0.60492208, 0.95124544],\n",
       "       [0.83934616, 0.16643876, 0.70437789, 0.60492208, 0.95124544],\n",
       "       [0.83934616, 0.16643876, 0.70437789, 0.60492208, 0.95124544],\n",
       "       [0.83934616, 0.16643876, 0.70437789, 0.60492208, 0.95124544],\n",
       "       [0.94708387, 0.26267172, 0.61367688, 0.48235816, 0.77767327],\n",
       "       [0.94708387, 0.26267172, 0.61367688, 0.48235816, 0.77767327],\n",
       "       [0.86304734, 0.35022812, 0.47803653, 0.98290903, 0.78841672],\n",
       "       [0.86304734, 0.35022812, 0.47803653, 0.98290903, 0.78841672],\n",
       "       [0.86304734, 0.35022812, 0.47803653, 0.98290903, 0.78841672],\n",
       "       [0.95763876, 0.28292826, 0.54204719, 0.55846335, 0.75578079],\n",
       "       [0.84290804, 0.30028775, 0.57206397, 0.88479223, 0.77659642],\n",
       "       [0.58504994, 0.53465973, 0.45983444, 0.68854875, 0.65159417],\n",
       "       [0.58504994, 0.53465973, 0.45983444, 0.68854875, 0.65159417],\n",
       "       [0.78034721, 0.43843563, 0.39895189, 0.76327623, 0.6523172 ],\n",
       "       [0.85455151, 0.67798383, 0.39045471, 0.54462244, 0.9783398 ],\n",
       "       [0.85455151, 0.67798383, 0.39045471, 0.54462244, 0.9783398 ],\n",
       "       [0.93389865, 0.31220536, 0.26149661, 0.78756347, 0.76957542],\n",
       "       [0.93389865, 0.31220536, 0.26149661, 0.78756347, 0.76957542],\n",
       "       [0.93389865, 0.31220536, 0.26149661, 0.78756347, 0.76957542],\n",
       "       [0.84940856, 0.19606254, 0.26750054, 0.40559018, 0.73435576],\n",
       "       [0.78456805, 0.08773969, 0.35907896, 0.58253507, 0.90052344],\n",
       "       [0.70417034, 0.19381753, 0.3477157 , 0.99342025, 0.77492259],\n",
       "       [0.70417034, 0.19381753, 0.3477157 , 0.99342025, 0.77492259],\n",
       "       [0.60336227, 0.18628078, 0.37682818, 0.72745041, 0.84161593],\n",
       "       [0.49636336, 0.73400458, 0.5185641 , 0.48787388, 0.72659899],\n",
       "       [0.60916353, 0.34630998, 0.59385305, 0.57334104, 0.72667329],\n",
       "       [0.24778138, 0.91627128, 0.70263807, 0.3164595 , 0.53790769],\n",
       "       [0.24778138, 0.91627128, 0.70263807, 0.3164595 , 0.53790769],\n",
       "       [0.24477948, 0.72082677, 0.75184613, 0.47544522, 0.5151632 ],\n",
       "       [0.24603439, 0.79848458, 0.7478747 , 0.5150625 , 0.7746239 ],\n",
       "       [0.28993296, 0.65094082, 0.90495662, 0.77494498, 0.64307388],\n",
       "       [0.28993296, 0.65094082, 0.90495662, 0.77494498, 0.64307388],\n",
       "       [0.28993296, 0.65094082, 0.90495662, 0.77494498, 0.64307388],\n",
       "       [0.28993296, 0.65094082, 0.90495662, 0.77494498, 0.64307388],\n",
       "       [0.28993296, 0.65094082, 0.90495662, 0.77494498, 0.64307388],\n",
       "       [0.38619437, 0.93507023, 0.98066232, 0.50139723, 0.84014351],\n",
       "       [0.21708846, 0.65122085, 0.91285873, 0.75486321, 0.87717452],\n",
       "       [0.21708846, 0.65122085, 0.91285873, 0.75486321, 0.87717452],\n",
       "       [0.32834616, 0.2918619 , 0.94238019, 0.52389383, 0.81220491],\n",
       "       [0.15391131, 0.54413237, 0.82697874, 0.41110657, 0.77950659],\n",
       "       [0.26903112, 0.70951815, 0.81130274, 0.26150866, 0.7736837 ],\n",
       "       [0.26903112, 0.70951815, 0.81130274, 0.26150866, 0.7736837 ],\n",
       "       [0.26903112, 0.70951815, 0.81130274, 0.26150866, 0.7736837 ],\n",
       "       [0.26903112, 0.70951815, 0.81130274, 0.26150866, 0.7736837 ],\n",
       "       [0.26903112, 0.70951815, 0.81130274, 0.26150866, 0.7736837 ],\n",
       "       [0.21701137, 0.98107711, 0.70651123, 0.87315269, 0.54096839],\n",
       "       [0.16113325, 0.67741705, 0.71388693, 0.48268966, 0.81682523],\n",
       "       [0.16113325, 0.67741705, 0.71388693, 0.48268966, 0.81682523],\n",
       "       [0.16113325, 0.67741705, 0.71388693, 0.48268966, 0.81682523],\n",
       "       [0.22072353, 0.73046428, 0.683435  , 0.35475042, 0.34048852],\n",
       "       [0.55377231, 0.63643136, 0.68280354, 0.37851911, 0.52040837],\n",
       "       [0.44150836, 0.92815126, 0.72562684, 0.43180011, 0.62631797],\n",
       "       [0.44150836, 0.92815126, 0.72562684, 0.43180011, 0.62631797],\n",
       "       [0.44150836, 0.92815126, 0.72562684, 0.43180011, 0.62631797],\n",
       "       [0.41836797, 0.3451986 , 0.72637848, 0.21752398, 0.62098034],\n",
       "       [0.62773477, 0.67681668, 0.80371027, 0.2507547 , 0.97159524],\n",
       "       [0.62773477, 0.67681668, 0.80371027, 0.2507547 , 0.97159524],\n",
       "       [0.41384059, 0.74731044, 0.72698225, 0.69690724, 0.99135665],\n",
       "       [0.50332079, 0.25683922, 0.93301073, 0.62956115, 0.84517193],\n",
       "       [0.64295939, 0.34760492, 0.91609983, 0.61174899, 0.62883787],\n",
       "       [0.64295939, 0.34760492, 0.91609983, 0.61174899, 0.62883787],\n",
       "       [0.45304583, 0.51177951, 0.83958434, 0.30887276, 0.70158192],\n",
       "       [0.45304583, 0.51177951, 0.83958434, 0.30887276, 0.70158192],\n",
       "       [0.45385891, 0.34292119, 0.96031441, 0.34104971, 0.84325811],\n",
       "       [0.25062749, 0.96509609, 0.87167113, 0.75769996, 0.93344752],\n",
       "       [0.09898873, 0.88165551, 0.97560724, 0.5276221 , 0.91438051],\n",
       "       [0.09898873, 0.88165551, 0.97560724, 0.5276221 , 0.91438051],\n",
       "       [0.4347368 , 0.15941329, 0.73365326, 0.52120199, 0.82212081],\n",
       "       [0.4347368 , 0.15941329, 0.73365326, 0.52120199, 0.82212081],\n",
       "       [0.27791091, 0.60682297, 0.81616288, 0.96669349, 0.80535948],\n",
       "       [0.40322324, 0.27806108, 0.94237531, 0.65504461, 0.7410922 ],\n",
       "       [0.37027645, 0.43988061, 0.94005195, 0.76319089, 0.59267942],\n",
       "       [0.72082714, 0.2953767 , 0.93427156, 0.74786388, 0.78590328],\n",
       "       [0.5943004 , 0.28997909, 0.85224967, 0.88946639, 0.87051123],\n",
       "       [0.5943004 , 0.28997909, 0.85224967, 0.88946639, 0.87051123],\n",
       "       [0.5943004 , 0.28997909, 0.85224967, 0.88946639, 0.87051123],\n",
       "       [0.24382404, 0.82560155, 0.66166056, 0.83663769, 0.62093915],\n",
       "       [0.19136397, 0.27892883, 0.77089777, 0.4236053 , 0.6232643 ],\n",
       "       [0.61643139, 0.25169903, 0.87583189, 0.77178278, 0.68785229],\n",
       "       [0.38009054, 0.59676185, 0.74415253, 0.56455323, 0.83382326],\n",
       "       [0.36068699, 0.70795936, 0.77465922, 0.93511107, 0.64047494],\n",
       "       [0.6952727 , 0.44015339, 0.73166187, 0.93714657, 0.72361719],\n",
       "       [0.64855269, 0.88502924, 0.77784523, 0.60278372, 0.60753052],\n",
       "       [0.84305774, 0.2765521 , 0.78145456, 0.93844587, 0.74456356],\n",
       "       [0.84305774, 0.2765521 , 0.78145456, 0.93844587, 0.74456356],\n",
       "       [0.52488543, 0.30939436, 0.77317304, 0.56533303, 0.89954608],\n",
       "       [0.52488543, 0.30939436, 0.77317304, 0.56533303, 0.89954608],\n",
       "       [0.67264609, 0.7093375 , 0.80047127, 0.60646445, 0.77102732],\n",
       "       [0.6154948 , 0.06139095, 0.77057434, 0.58080622, 0.89447935],\n",
       "       [0.53567551, 0.59186155, 0.67836959, 0.79275868, 0.83307142],\n",
       "       [0.82498736, 0.49398272, 0.60505178, 0.83202945, 0.57327401],\n",
       "       [0.82498736, 0.49398272, 0.60505178, 0.83202945, 0.57327401],\n",
       "       [0.78714434, 0.17496599, 0.63712822, 0.7818058 , 0.58965083],\n",
       "       [0.78714434, 0.17496599, 0.63712822, 0.7818058 , 0.58965083],\n",
       "       [0.78714434, 0.17496599, 0.63712822, 0.7818058 , 0.58965083],\n",
       "       [0.78714434, 0.17496599, 0.63712822, 0.7818058 , 0.58965083],\n",
       "       [0.78714434, 0.17496599, 0.63712822, 0.7818058 , 0.58965083],\n",
       "       [0.78714434, 0.17496599, 0.63712822, 0.7818058 , 0.58965083],\n",
       "       [0.4360727 , 0.20147923, 0.59221437, 0.57922591, 0.88833051],\n",
       "       [0.72406919, 0.60072962, 0.85955168, 0.53143122, 0.74511385],\n",
       "       [0.68432526, 0.65927465, 0.80525403, 0.80447538, 0.67771505],\n",
       "       [0.77813269, 0.38129588, 0.85654773, 0.86019898, 0.80563477],\n",
       "       [0.77813269, 0.38129588, 0.85654773, 0.86019898, 0.80563477],\n",
       "       [0.82657865, 0.20038634, 0.77063914, 0.76973902, 0.80311017],\n",
       "       [0.72941778, 0.54601158, 0.77722352, 0.82683918, 0.84485508],\n",
       "       [0.72941778, 0.54601158, 0.77722352, 0.82683918, 0.84485508],\n",
       "       [0.72941778, 0.54601158, 0.77722352, 0.82683918, 0.84485508],\n",
       "       [0.72941778, 0.54601158, 0.77722352, 0.82683918, 0.84485508],\n",
       "       [0.75263764, 0.53263224, 0.81381395, 0.75632427, 0.90491195],\n",
       "       [0.75263764, 0.53263224, 0.81381395, 0.75632427, 0.90491195],\n",
       "       [0.57334923, 0.64473177, 0.88094575, 0.40074066, 0.85199705],\n",
       "       [0.57334923, 0.64473177, 0.88094575, 0.40074066, 0.85199705],\n",
       "       [0.57334923, 0.64473177, 0.88094575, 0.40074066, 0.85199705],\n",
       "       [0.3291564 , 0.17933765, 0.7593631 , 0.61737982, 0.89406892],\n",
       "       [0.3291564 , 0.17933765, 0.7593631 , 0.61737982, 0.89406892],\n",
       "       [0.2571769 , 0.74262888, 0.81023017, 0.84268703, 0.93556156],\n",
       "       [0.2571769 , 0.74262888, 0.81023017, 0.84268703, 0.93556156],\n",
       "       [0.36343537, 0.90878105, 0.76293324, 0.57733866, 0.66059974],\n",
       "       [0.36792616, 0.6751948 , 0.85629459, 0.34272758, 0.63567232],\n",
       "       [0.36792616, 0.6751948 , 0.85629459, 0.34272758, 0.63567232],\n",
       "       [0.30160731, 0.57734007, 0.60018843, 0.27163621, 0.3899855 ],\n",
       "       [0.25867486, 0.86002541, 0.66442488, 0.7889701 , 0.29847759],\n",
       "       [0.19574135, 0.97025882, 0.68794472, 0.45167488, 0.403742  ],\n",
       "       [0.19574135, 0.97025882, 0.68794472, 0.45167488, 0.403742  ],\n",
       "       [0.19574135, 0.97025882, 0.68794472, 0.45167488, 0.403742  ],\n",
       "       [0.19574135, 0.97025882, 0.68794472, 0.45167488, 0.403742  ],\n",
       "       [0.19574135, 0.97025882, 0.68794472, 0.45167488, 0.403742  ],\n",
       "       [0.19574135, 0.97025882, 0.68794472, 0.45167488, 0.403742  ],\n",
       "       [0.19574135, 0.97025882, 0.68794472, 0.45167488, 0.403742  ],\n",
       "       [0.52495085, 0.39627185, 0.63386646, 0.47568412, 0.64750583],\n",
       "       [0.52495085, 0.39627185, 0.63386646, 0.47568412, 0.64750583],\n",
       "       [0.52495085, 0.39627185, 0.63386646, 0.47568412, 0.64750583],\n",
       "       [0.59253757, 0.93892507, 0.67331988, 0.55688763, 0.64226438],\n",
       "       [0.94276007, 0.42483638, 0.64761198, 0.94299303, 0.96046246],\n",
       "       [0.73040722, 0.56375521, 0.59562171, 0.87920547, 0.84538541],\n",
       "       [0.73040722, 0.56375521, 0.59562171, 0.87920547, 0.84538541],\n",
       "       [0.60112163, 0.27052286, 0.4899732 , 0.6567076 , 0.83014302],\n",
       "       [0.60112163, 0.27052286, 0.4899732 , 0.6567076 , 0.83014302],\n",
       "       [0.53663269, 0.63813928, 0.38329998, 0.94649582, 0.80439874],\n",
       "       [0.52346316, 0.49145765, 0.24595588, 0.81691429, 0.61579654],\n",
       "       [0.44658359, 0.40962158, 0.33273865, 0.59548915, 0.78598243],\n",
       "       [0.69852285, 0.41114071, 0.34505204, 0.4418005 , 0.83863468],\n",
       "       [0.80647608, 0.50370875, 0.50403074, 0.6621624 , 0.91768977],\n",
       "       [0.80647608, 0.50370875, 0.50403074, 0.6621624 , 0.91768977],\n",
       "       [0.54983563, 0.43700818, 0.5826234 , 0.8745895 , 0.75896071],\n",
       "       [0.68192556, 0.19051671, 0.45791403, 0.63569997, 0.79895642],\n",
       "       [0.55283223, 0.66671719, 0.68562807, 0.33379967, 0.9051944 ],\n",
       "       [0.55283223, 0.66671719, 0.68562807, 0.33379967, 0.9051944 ],\n",
       "       [0.33802912, 0.25984142, 0.80048199, 0.61034705, 0.92375003],\n",
       "       [0.19148463, 0.50599703, 0.84393337, 0.40856217, 0.97012885],\n",
       "       [0.19148463, 0.50599703, 0.84393337, 0.40856217, 0.97012885],\n",
       "       [0.20076731, 0.53011057, 0.96843495, 0.5786909 , 0.91136992],\n",
       "       [0.20076731, 0.53011057, 0.96843495, 0.5786909 , 0.91136992],\n",
       "       [0.38349648, 0.67481288, 0.85340487, 0.28730644, 0.97983184],\n",
       "       [0.1430177 , 0.74951478, 0.86037822, 0.24484894, 0.95593474],\n",
       "       [0.1430177 , 0.74951478, 0.86037822, 0.24484894, 0.95593474],\n",
       "       [0.27641835, 0.35387491, 0.81164074, 0.48742545, 0.87574093],\n",
       "       [0.12020897, 0.77222797, 0.83278511, 0.38563493, 0.76143678],\n",
       "       [0.12020897, 0.77222797, 0.83278511, 0.38563493, 0.76143678],\n",
       "       [0.12020897, 0.77222797, 0.83278511, 0.38563493, 0.76143678],\n",
       "       [0.12020897, 0.77222797, 0.83278511, 0.38563493, 0.76143678]])"
      ]
     },
     "execution_count": 127,
     "metadata": {},
     "output_type": "execute_result"
    }
   ],
   "source": [
    "model3.sample_posterior_over_accuracy(anno2.annotations, 200, burn_in_samples=100, thin_samples=3)"
   ]
  },
  {
   "cell_type": "code",
   "execution_count": 128,
   "metadata": {},
   "outputs": [
    {
     "name": "stdout",
     "output_type": "stream",
     "text": [
      "[[4.55231077e-09 9.99999995e-01]\n",
      " [7.57308414e-10 9.99999999e-01]\n",
      " [9.99999985e-01 1.53604031e-08]\n",
      " [1.89166393e-08 9.99999981e-01]\n",
      " [9.99999998e-01 1.70173093e-09]]\n"
     ]
    }
   ],
   "source": [
    "posterior = model3.infer_labels(anno2.annotations)\n",
    "print(posterior)"
   ]
  },
  {
   "cell_type": "code",
   "execution_count": 129,
   "metadata": {},
   "outputs": [
    {
     "data": {
      "text/plain": [
       "(<matplotlib.figure.Figure at 0x1f68c45d550>,\n",
       " (<matplotlib.axes._subplots.AxesSubplot at 0x1f68c85c128>,\n",
       "  <matplotlib.axes._subplots.AxesSubplot at 0x1f68caad240>))"
      ]
     },
     "execution_count": 129,
     "metadata": {},
     "output_type": "execute_result"
    },
    {
     "data": {
      "image/png": "iVBORw0KGgoAAAANSUhEUgAAA10AAAJOCAYAAABMTm3eAAAABHNCSVQICAgIfAhkiAAAAAlwSFlz\nAAALEgAACxIB0t1+/AAAADl0RVh0U29mdHdhcmUAbWF0cGxvdGxpYiB2ZXJzaW9uIDIuMS4yLCBo\ndHRwOi8vbWF0cGxvdGxpYi5vcmcvNQv5yAAAIABJREFUeJzs3Xm8XePd9/HP75wkxBRDFEmMd+JB\nq48hMbSmxpSakqJqrhahrWqrg7op5fYoWtxtaTXUFFpVd0u4DTFWokRCJEVog5QMagxCDOec6/nj\nHHokJzkWZ619sq/Pu6/9svdaa6/9W/WSX671vdZakVJCkiRJklSOhloXIEmSJEn1zEGXJEmSJJXI\nQZckSZIklchBlyRJkiSVyEGXJEmSJJXIQZckSZIklchBl5ZoEbFORKSI6PEhtj0sIsZXUZckSZL0\nHgddqlREzIiIdyKi7wLLH24bPK1TUR2fiIjfR8TsiHg1Iu6NiC2r+G1JkjoTEbdGxGkdLB8eEc8t\n7mSjJxml7sdBl2rhaeCA9z5ExMZA74prWA6YCGwOrAxcDvxvRCxXcR2SJHXkMuCQiIgFlh8CXJVS\naqq+JEkflYMu1cJo4NB2n78MXPHeh4joExFXRMQLEfHPiDgpIhra1jVGxM8i4sWIeArYvf2O2777\n24iYExGzIuL0iGhcsICU0lMppXNTSnNSSs0ppVFAL+D/lHHAkiQVdB2tJwW3fW9BRKwE7AFcsahe\nGREbAhcCW0fEvIiY2/bdpdr65zMR8a+IuDAieret6xsRN0bE3Ih4OSLGvdd3JXUN/4NSLdwPrBAR\nG7YNiL4EXNlu/S+BPsB6wPa0DtC+0rbuSFobzqbAYGDfBfZ9OdAEDGzbZhfgiM4KiohNaB10Tf9o\nhyRJUtdJKc0HruGDJyn3Ax5PKU1hEb0ypTQNOBq4L6W0XEppxbbvngWsD2xCa4/sD5zctu67wExg\nVWA14D+BVN7RSflx0KVaeS/t2hl4HJjVtvy9QdgJKaXXU0ozgHNonU4BrQ3nv1NKz6aUXgZ+8t4O\nI2I14PPAt1NKb6SUngfOA/ZfXCERsUJbPaemlF7touOTJOnjuhz44nuJFK198/J2JywX1Ss/oG2K\n4pHAd1JKL6eUXgfO4N/98V1gDWDtlNK7KaVxKSUHXVIX6vSOb1JJRgP3AOvSbmoh0JfWxOmf7Zb9\nk9YzcgD9gGcXWPeetYGewJx2U+AbFtj+A9oa2Q3A/SmlnyxqO0mSqpZSGh8RLwDDI+IBYAiwN533\nygWtCiwDPNiuPwatJzoBfgr8GBjbtn5USunMrjsSSQ66VBMppX9GxNPAbsDh7Va9SOsZt7WBx9qW\nrcW/k7A5wJrttl+r3ftngbeBvh/mAuOIWIrWOfOzgKM+wmFIklS2K2hNuP4PMDal9K+2pGtxvXLB\nlOpFYD7wyZTSrAXW0ZZ8fRf4bkR8ErgrIiamlO7o8qORMuX0QtXS4cDQlNIb7ZY10zqH/f9FxPIR\nsTZwHP++5usa4NiIGNB2QfEP3/tiSmkOMBY4JyJWaLug+D8iYvsFfzgiegLX0tqEDk0ptZRxgJIk\nfUxXADvROj3wcoCUUme98l/AgIjo1bZ9C3ARcF5EfAIgIvpHxK5t7/eIiIFt0xBfo7UXN1d1gFIO\nHHSpZlJKT6aUJnWw6pvAG8BTwHjgd8AlbesuAm4FpgAPAX9a4LuH0jrl4jHgFVoHVmt08BufofWG\nHLsAc9vu8DQvIrbtYFtJkmqi7XqtvwLLAmParVpcr7wTeBR4LiJebFt2PK03i7o/Il4Dbuffd+wd\n1PZ5HnAf8KuU0t3lHJGUp/A6SUmSJEkqj0mXJEmSJJXIQZckSZIktRMRjRExOSJu7GDdUhHxh4iY\nHhETImKdzvbnoEuSJEmSPuhbwLRFrDsceCWlNJDWZ8Ke1dnOHHRJkiRJUpuIGADsDly8iE2G03Y3\nUVpv2rZjtHsIXkdKf05Xj179vVOHSjN/9rhal6A617Pveov9Q7SId198qrI/D7uybpXHHqmyvHTQ\nhrUuQXWuz6W3L5H9sdeq/3EUMLLdolEppVELbPbfwA+A5Rexm/60Ph+WlFJTRLwKrELrM/E65MOR\nJUmSJGWhbYC14CDrfRGxB/B8SunBiNhhUZt1tOvF/a7TCyVJkiSp1WeBvSJiBnA1MDQirlxgm5nA\nmgAR0QPoA7y8uJ2adElSVVqaa12BJEndTzfqjymlE4ATANqSru+llA5eYLMxwJdpfZj4vsCdqZOH\nHzvokiRJkqTFiIjTgEkppTHAb4HRETGd1oRr/86+76BLkqqSWmpdgSRJ3U837Y8ppbuBu9ven9xu\n+VvAF4vsy2u6JEmSJKlEJl2SVJWW7nkmT5KkmsqgP5p0SZIkSVKJTLokqSKpm85ZlySplnLojyZd\nkiRJklQiky5JqkoGc9YlSSosg/5o0iVJkiRJJTLpkqSqZDBnXZKkwjLojyZdkiRJklQiB12SJEmS\nVCKnF0pSVVqaa12BJEndTwb90aRLkiRJkkpk0iVJVcngQmFJkgrLoD+adEmSJElSiUy6JKkqGTz8\nUZKkwjLojyZdkiRJklQiky5JqkjKYM66JElF5dAfTbokSZIkqUQmXZJUlQzmrEuSVFgG/dGkS5Ik\nSZJKZNIlSVXJYM66JEmFZdAfTbokSZIkqUQmXZJUlZbmWlcgSVL3k0F/NOmSJEmSpBKZdElSVTKY\nsy5JUmEZ9EeTLkmSJEkqkYMuSZIkSSqR0wslqSoZPPxRkqTCMuiPJl2SJEmSVCKTLkmqSgYXCkuS\nVFgG/dGkS5IkSZJKZNIlSVXJYM66JEmFZdAfTbokSZIkqUQmXZJUkZSaa12CJEndTg790aRLkiRJ\nkkpk0iVJVcng7kySJBWWQX806ZIkSZKkEpl0SVJVMrg7kyRJhWXQH026JEmSJKlEJl2SVJUM5qxL\nklRYBv3RpEuSJEmSSmTSJUlVaan/55BIklRYBv3RpEuSJEmSSuSgS5IkSZJK5PRCSapKBhcKS5JU\nWAb90aSrizU0NDDxgVu5/s+Xd7h+3333ZOqUu5jy8J2MvuL8wvs/79zTePyx8Tz04G1susmn3l/+\nkzP+k4cn38HDk+/gi1/c6yPXr/p00hnnst3u+zPi4KNrXYokFXbRqHOYPXMKD0++o9alqB716Mmy\nPzqf5U79DcudfjFLjTi01hWpDpl0dbFjv3kEjz/+D1ZYfvmF1g0cuC7H/+AYttt+BHPnvsqqq65S\naN+fHzaUQQPXZYONtmHLLTbjgvN/wme22ZPdPr8jm26yMZsP3oWllurFnXf8D7fccievvz6vqw5L\nS7gRu+3MgfvsxX/+189qXUreMnj4o1SGK664hl/96lIuvfTntS5F9ajpXd44+3vw9lvQ2MiyJ/w3\nTVMn0vzUtFpXlo8M+mOnSVdEbBARx0fELyLi523vN6yiuCVN//5rsNvnd+SSS37f4fojDj+QX//6\nMubOfRWAF1546f113z3uaO776//y0IO3ccrJ3+3w+3vuuSujr7oWgAkPPESfFfuw+uqfYMMNB3HP\nuPtpbm7mzTfnM3XqY+y66+e6+Oi0JBu8ycb0WWHhEwGStCQYN34CL78yt9ZlqJ69/VbrPxt7ED16\nAKmm5aj+LHbQFRHHA1cDATwATGx7//uI+GH55S1Zzj3nVH54wum0LGK0PmjQeqy//nrcc/d13Dvu\nBnbdZQcAdt5pOwYOXJetP7M7mw/ehc02/TTbbrPlQt/v3291Zj47+/3Ps2bOoX+/1Zk69TGG7fo5\nevdemlVWWYkdtv8Maw7oV8oxSvoYUkt1L0nShxcNLHfqhazw82tpevRBmp96vNYV5SWD/tjZ9MLD\ngU+mlN5tvzAizgUeBc7s6EsRMRIYCRCNfWhoWLYLSu3edt9tJ55//kUemvw3tt9u6w636dHYg4ED\n12XoTvsyYMAa3H3nn/m/mw5l5522Z+edtmfSxLEALLfsMgwcuC7jxk/4wPcjYqF9ppS47fZ7GDx4\nE8bdM4YXX3iJ+yc8SFNTU9cfpCTpY8uxR0rdXmph3ilHQ+9lWfabp9LQfx1aZs2odVWqI50NulqA\nfsA/F1i+Rtu6DqWURgGjAHr06p9FPvuZzwxmzz124fPDhrL00kuxwgrLc/llv+DLhx37/jYzZ81h\nwoSHaGpqYsaMZ/n7359k0MB1iQjOOvt8Lrr4yg/s82tHf5nDDz8IgD33OoSZs+YwYM1/J1j9B6zB\n7Dn/AuAnZ/6Cn5z5CwBGX3E+06c/XfYhSyoqgznr6lyOPVJaYsx/g6YnptBj4yG846CrOhn0x86u\n6fo2cEdE3BwRo9petwB3AN8qv7wlx4knnck66w1m4PpbcdDBX+euu+79wIALYMyYW9hhh88AsMoq\nKzFo0Ho89fQzjL3tbr5y2JdYdtllAOjXb3VWXXUVfn3h5QwesguDh+zCnDn/4sYbx3LIQfsCsOUW\nm/Haq6/x3HPP09DQwMorrwTAxhtvyMYbb8jY2/5S4dFLkiQtmWL5PtC7LXHu2YseG21Gy5xnaluU\n6s5ik66U0i0RsT6wBdCf1uu5ZgITU0rNFdS3xPvxKd9j0oNTuPHG27h17N3svNP2TJ1yF83NzRx/\nwn/x8suvcNvt97DBBoMYP24MAG/Me5NDD/vmB260AXDTzXcwbNhQnph2L2/On88RRxwHQM+ePbn7\nrj8B8Ppr8/jyYcfS3Oy/Hv3b9085k4mTpzJ37mvsOOJgvn74Ieyz5661Lis/GZzJk8pw5egL2H67\nrenbd2VmPDWJU0/7GZdednWty1KdiD4rs+wRx0NDA0Tw7sS/0DRlQudfVNfJoD9GSuXObHDqhMo0\nf/a4WpegOtez73oLX0z5Eb01bnRlfx4uve0hXVa3ymOPVFleOsgbTatcfS693f5YgM/pkqSKOEFA\nkqSF5dAfO31OlyRJkiTpozPpkqSqZDBnXZKkwjLojyZdkiRJklQiky5Jqkqq/zN5kiQVlkF/NOmS\nJEmSpBI56JIkSZKkEjm9UJKqksGFwpIkFZZBfzTpkiRJkqQSmXRJUlUyuFBYkqTCMuiPJl2SJEmS\nVCKTLkmqSgZz1iVJKiyD/mjSJUmSJEklMumSpKpkMGddkqTCMuiPJl2SJEmSVCKTLkmqSgZz1iVJ\nKiyD/mjSJUmSJEklMumSpKpkcCZPkqTCMuiPJl2SJEmSVCKTLkmqSgZ3Z5IkqbAM+qNJlyRJkiSV\nyKRLkqqSwZx1SZIKy6A/mnRJkiRJUokcdEmSJElSiZxeKElVyeBCYUmSCsugP5p0SZIkSVKJTLok\nqSoZXCgsSVJhGfRHky5JkiRJKpFJlyRVJYM565IkFdaN+mNELA3cAyxF61jp2pTSKQtscxjwU2BW\n26LzU0oXL26/DrokSZIkqdXbwNCU0ryI6AmMj4ibU0r3L7DdH1JKx3zYnTrokqSqZDBnXZKkwrpR\nf0wpJWBe28eeba/0cffrNV2SJEmSshARIyNiUrvXyA62aYyIh4HngdtSShM62NU+ETE1Iq6NiDU7\n+12TLkmqSjc6kydJUrdRYX9MKY0CRnWyTTOwSUSsCPw5Ij6VUnqk3SY3AL9PKb0dEUcDlwNDF7dP\nky5JkiRJWkBKaS5wNzBsgeUvpZTebvt4EbB5Z/ty0CVJVUmpupckSUuKbtQfI2LVtoSLiOgN7AQ8\nvsA2a7T7uBcwrbP9Or1QkiRJklqtAVweEY20BlTXpJRujIjTgEkppTHAsRGxF9AEvAwc1tlOHXRJ\nUlW8pkuSpIV1o/6YUpoKbNrB8pPbvT8BOKHIfp1eKEmSJEklMumSpKp0ozN5kiR1Gxn0R5MuSZIk\nSSqRSZckVSXV/5k8SZIKy6A/mnRJkiRJUokcdEmSJElSiZxeKElVyeBCYUmSCsugP5p0SZIkSVKJ\nTLokqSop1boCSZK6nwz6o0mXJGUoIoZFxBMRMT0iftjB+rUi4q6ImBwRUyNit1rUKUlSPTDpkqSq\ndJM56xHRCFwA7AzMBCZGxJiU0mPtNjsJuCal9OuI2Ai4CVin8mIlSfWvm/THMjnokqT8bAFMTyk9\nBRARVwPDgfaDrgSs0Pa+DzC70golfSzL/HRUrUuQ1I6DLkmqSoVn8iJiJDCy3aJRKaX3/hbWH3i2\n3bqZwJYL7OLHwNiI+CawLLBTSaVKknJn0iVJWhK1DbAWdao7OvrKAp8PAC5LKZ0TEVsDoyPiUyml\n+u+MkiR1MQddklSV7jNemQms2e7zABaePng4MAwgpXRfRCwN9AWer6RCSVI+uk9/LI13L5Sk/EwE\nBkXEuhHRC9gfGLPANs8AOwJExIbA0sALlVYpSVKdMOmSpIqklu7xHJKUUlNEHAPcCjQCl6SUHo2I\n04BJKaUxwHeBiyLiO7ROPTwspQwepCJJqlx36Y9lctAlSRlKKd1E623g2y87ud37x4DPVl2XJEn1\nyEGXJFUlg7szSZJUWAb90Wu6JEmSJKlEJl2SVJUM7s4kSVJhGfRHky5JkiRJKpGDLkmSJEkqkdML\nJakqGdwSV5KkwjLojyZdkiRJklQiky5JqkoGt8SVJKmwDPqjSZckSZIklcikS5KqksGZPEmSCsug\nP5p0SZIkSVKJTLokqSqp/u/OJElSYRn0R5MuSZIkSSqRSZckVSWDOeuSJBWWQX806ZIkSZKkEpl0\nSVJVWup/zrokSYVl0B9NuiRJkiSpRCZdklSVVP9z1iVJKiyD/mjSJUmSJEklMumSpKpkMGddkqTC\nMuiPJl2SJEmSVCIHXZIkSZJUIqcXSlJFUgYPf5Qkqagc+qNJlyRJkiSVyKRLkqqSwYXCkiQVlkF/\nNOmSJEmSpBKZdElSVTJ4+KMkSYVl0B9NuiRJkiSpRCZdklSVDOasS5JUWAb90aRLkiRJkkpk0iVJ\nVcngOSSSJBWWQX806ZIkSZKkEpl0SVJVMpizLklSYRn0R5MuSZIkSSqRSZckVSWD55BIklRYBv3R\npEuSJEmSSmTSJUlVyWDOuiRJhWXQH026JEmSJKlEDrokSZIkqUROL5SkiqQMHv4oSVJROfRHky5J\nkiRJKpFJlyRVJYMLhSVJKiyD/mjSJUmSJEklMumSpKpkcCZPkqTCMuiPJl1dZP31/4NJE8e+/3r5\nxcc59ptHLLTd9tttzaSJY5ny8J3cefu1hX5j5ZVX4vaxf2Tuy3/n5/99+gfWbbbpxkx+6HYef2w8\n55172sc6FtWfk844l+12358RBx9d61IkqbCLRp3D7JlTeHjyHbUuRXWqubmZfQ/7Bl///im1LkV1\nykFXF/n7359k8JBdGDxkF7bYchhvvjmf666/+QPb9OmzAr/85Rl8Ye/D+L+bDOVLBxxV6Dfeeust\nTvnx2fzg+P9aaN0F5/+Er33teDbYaBsGDVyXYbt+7mMdj+rLiN125sJzT+98Q5UrtVT3kurIFVdc\nw+57HFTrMlTHrvzj9ay3zlq1LiNfGfRHB10l2HHoNjz11D955plZH1h+wP5f4LrrbubZZ2cD8MIL\nL72/7sAD9+a+e29k0sSx/OqCs2hoWPhfzZtvzufev07krbfe/sDy1Vf/BMuvsDz3T3gQgNFXXcte\new3r6sPSEmzwJhvTZ4Xla12GJH0k48ZP4OVX5ta6DNWp555/gXv++gD77LlrrUtRHXPQVYL99hvO\n1X+4bqHlgwatx4or9uGO2/7IhPtv5uCD9wVggw0Gst8X92Lb7UcweMguNDc3c+CBe3/o3+vfb3Vm\nzZzz/udZM+fQv9/qH/9AJHWtllTdS5L0oZz1899w3NcPJ8K/FtdMBv3xI99IIyK+klK6dBHrRgIj\nAaKxDw0Ny37Un1ni9OzZkz332IUTT/rJQut69Ghk880+zc677kfv3ksz/p4bmDDhIYZ+bhs223Rj\n7r/vJgB6916aF1548UP/ZkQstCzhX7okqTvKuUdK3c3d905g5ZVW5JMbDOKBh6bWuhzVsY9z98JT\ngQ4HXSmlUcAogB69+mf1t/9hwz7H5Ml/4/nnFx40zZo1h5deepk335zPm2/OZ9z4+/n0pzciIhh9\n5R858aQzP7D98OHD+NFJxwFw1FHf48FF/GEwc9Yc+g9Y4/3P/QeswezZ/+rCo5LUFZIJlMi7R0rd\nzeSpj3H3+PsZd99E3n7nXd54402OP/VszjrlB7UuLSs59MfF5qgRMXURr78Bq1VU4xJl/y+N6HBq\nIcCYG25lm89uSWNjI717L80WW2zK44//gzvvGs/eX9iDVVddBYCVVlqRtdbqz/XX3/L+zTkWNeAC\neO6553n99XlsucVmABxy0L7ccMOtXX9wkiRJdeQ7X/sKd1x3JWP/53J+euoP2WLz/+uAS6XoLOla\nDdgVeGWB5QH8tZSKlmC9ey/NTjtux9e+fvz7y0YeeQgAoy4azeOPT+fWsXcx+aHbaWlp4ZJLfs+j\njz4BwMk/Ppubb/o9DQ3Bu+82ceyxJy50Iw6A6X+/nxVWWI5evXoxfK9hfH73A5g27R8cc8wJ/Pa3\n59F76aW55da7uPmWO6s5aC0Rvn/KmUycPJW5c19jxxEH8/XDD/GC4VrI4EyeVIYrR1/A9tttTd++\nKzPjqUmcetrPuPSyq2tdlqSukkF/jJQWfZAR8Vvg0pTS+A7W/S6ldGBnP+DUCZVp/uxxtS5Bda5n\n3/UWvmjyI3r92D0q+/Nw+V/c2GV1qzz2SJXF/qiy2R+LWWzSlVI6fDHrOh1wSZLaafH5WZIkLSSD\n/ui9MSVJkiSpRA66JEmSJKlEH+eW8ZKkIjK4UFiSpMIy6I8mXZIkSZJUIpMuSapKBmfyJEkqLIP+\naNIlSZIkSSUy6ZKkiizuuYiSJOUqh/5o0iVJkiRJJTLpkqSqZDBnXZKkwjLojyZdkiRJkgRExNIR\n8UBETImIRyPi1A62WSoi/hAR0yNiQkSs09l+TbokqSoZnMmTJKmw7tUf3waGppTmRURPYHxE3JxS\nur/dNocDr6SUBkbE/sBZwJcWt1OTLkmSJEkCUqt5bR97tr0WHBUOBy5ve38tsGNExOL2a9IlSRVJ\n3etMniRJ3UKV/TEiRgIj2y0alVIatcA2jcCDwEDggpTShAV20x94FiCl1BQRrwKrAC8u6ncddEmS\nJEnKQtsAa1Qn2zQDm0TEisCfI+JTKaVH2m3SUaq12JGjgy5JqopJlyRJC+um/TGlNDci7gaGAe0H\nXTOBNYGZEdED6AO8vLh9eU2XJEmSJAERsWpbwkVE9AZ2Ah5fYLMxwJfb3u8L3Jk6ecKzSZckVaWl\n1gVIktQNda/+uAZwedt1XQ3ANSmlGyPiNGBSSmkM8FtgdERMpzXh2r+znTrokiRJkiQgpTQV2LSD\n5Se3e/8W8MUi+3V6oSRJkiSVyKRLkiriLeMlSVpYDv3RpEuSJEmSSmTSJUlVyeBMniRJhWXQH026\nJEmSJKlEJl2SVJXudUtcSZK6hwz6o0mXJEmSJJXIpEuSKpLD3ZkkSSoqh/5o0iVJkiRJJTLpkqSq\nZDBnXZKkwjLojyZdkiRJklQiky5JqkgOc9YlSSoqh/5o0iVJkiRJJTLpkqSqZDBnXZKkwjLojyZd\nkiRJklQiky5JqkjK4EyeJElF5dAfTbokSZIkqUQOuiRJkiSpRE4vlKSqZDB9QpKkwjLojyZdkiRJ\nklQiky5JqkgOFwpLklRUDv3RpEuSJEmSSmTSJUlVyeBMniRJhWXQH026JEmSJKlEJl2SVJEc5qxL\nklRUDv3RpEuSJEmSSmTSJUkVyeFMniRJReXQH026JEmSJKlEDrokqSKppbpXZyJiWEQ8ERHTI+KH\ni9hmv4h4LCIejYjfdfX/H5IkQffqj2VxeqEkZSYiGoELgJ2BmcDEiBiTUnqs3TaDgBOAz6aUXomI\nT9SmWkmSlnylD7rmzx5X9k8oY737bVvrElTnmt6Z1XU7S9F1+/p4tgCmp5SeAoiIq4HhwGPttjkS\nuCCl9ApASun5yqvMwEsHbVjrElSnzt78R7UuQXXuxH9e1XU76z79sTROL5SkOhQRIyNiUrvXyHar\n+wPPtvs8s21Ze+sD60fEvRFxf0QMK7tmSZLqldMLJakiVc4lTymNAkYtYnVHpxTTAp97AIOAHYAB\nwLiI+FRKaW6XFSlJEt69UJJUn2YCa7b7PACY3cE216eU3k0pPQ08QesgTJIkFeSgS5LyMxEYFBHr\nRkQvYH9gzALbXAd8DiAi+tI63fCpSquUJKlOOL1QkiqSWrrHhcIppaaIOAa4FWgELkkpPRoRpwGT\nUkpj2tbtEhGPAc3A91NKL9WuaklSveou/bFMDrokKUMppZuAmxZYdnK79wk4ru0lSZI+BgddklSR\nHC4UliSpqBz6o9d0SZIkSVKJTLokqSIpg4c/SpJUVA790aRLkiRJkkpk0iVJFclhzrokSUXl0B9N\nuiRJkiSpRCZdklSRHJ5DIklSUTn0R5MuSZIkSSqRSZckVSSlWlcgSVL3k0N/NOmSJEmSpBKZdElS\nRXKYsy5JUlE59EeTLkmSJEkqkUmXJFUkhzN5kiQVlUN/NOmSJEmSpBI56JIkSZKkEjm9UJIqksMt\ncSVJKiqH/mjSJUmSJEklMumSpIrkcKGwJElF5dAfTbokSZIkqUQmXZJUkZTq/0yeJElF5dAfTbok\nSZIkqUQmXZJUkdRS6wokSep+cuiPJl2SJEmSVCKTLkmqSEsGc9YlSSoqh/5o0iVJkiRJJTLpkqSK\n5HB3JkmSisqhP5p0SZIkSVKJTLokqSKppf7P5EmSVFQO/dGkS5IkSZJKZNIlSRVJqdYVSJLU/eTQ\nH026JEmSJKlEDrokSZIkqUROL5SkiuRwobAkSUXl0B9NuiRJkiSpRCZdklSRlgwe/ihJUlE59EeT\nLkmSJEkqkUmXJFUkZXAmT5KkonLojyZdkiRJklQiky5JqkgOD3+UJKmoHPqjSZckSZIklcikS5Iq\nksPdmSRJKiqH/mjSJUmSJEklMumSpIrkcHcmSZKKyqE/mnRJkiRJUokcdHUTJ51xLtvtvj8jDj66\n1qWoG7po1DnMnjmFhyff0eH67bfbmpdemMakiWOZNHEsJ5347cK/cfwPjuHxx8bz6CP3sMvO27+/\n/FvHHsmUh+/k4cl3cOXoC1hg9HxGAAAgAElEQVRqqaU+8nHkLqXqXlLd6NGTZX90Psud+huWO/1i\nlhpxaK0rUp1Zfo2VOejqEznqjrMZedtZDPnKrrUuKTs59EcHXd3EiN125sJzT691GeqmrrjiGnbf\n46DFbjN+/AMMHrILg4fswun/778L7X/DDQex337D+fQmQ9l9j4P45S/OoKGhgX79VueYb3yVLbfa\njU023ZHGxka+tN/wj3MoklRM07u8cfb3mHfKUcw75Sh6fGoIjettWOuqVEdScwt3nH4Vv9nxB1w2\n4hQ2P3Rn+g7qX+uyVCMRsWZE3BUR0yLi0Yj4Vgfb7BARr0bEw22vkzvbb6eDrojYICJ2jIjlFlg+\nrNghaHEGb7IxfVZYvtZlqJsaN34CL78y9yN998AD9+a+e29k0sSx/OqCs2hoWPg/+7323JVrrrme\nd955hxkznuXJJ2ewxZBNAejRowe9ey9NY2Mjy/TuzZw5z32sY8lZS4rKXlJdefut1n829iB69ACM\nc9V15j0/l+cemQHAO2+8xUvTZ7P8aivVtqjMdLP+2AR8N6W0IbAV8I2I2KiD7callDZpe53W2U4X\nO+iKiGOB64FvAo9ERPtT3Gd8mKolVWOrrTbnwUm3ceOY0Wy00foAbLDBQPb74l5su/0IBg/Zhebm\nZg48cO+Fvtuv3+o8O3P2+59nzppDv/6rM3v2c5x73oU8/eQDzHxmMq++9hq33X5PZcckSQBEA8ud\neiEr/Pxamh59kOanHq91RapTfQb0ZbVPrs2sh5+sdSmqkZTSnJTSQ23vXwemAR87+uws6ToS2Dyl\nNALYAfhRu4htkUPFiBgZEZMiYtLFV/z+49YoqRMPTf4b6w3cgs0H78wFv7qU//njJQAM/dw2bLbp\nxtx/301MmjiWoUO3Yb1111ro+xEL/+ecUmLFFfuw1567MnD9rVhz7c1YdtllOhy06cNJKSp7qftq\n3yMve2JWrctZMqQW5p1yNK8dtz+N625AQ/91al2R6lDPZZZinwu/zW2njeadefNrXU5WquyP7f8M\nbnuNXFRdEbEOsCkwoYPVW0fElIi4OSI+2dkxdnbL+MaU0rzW/zPSjIjYAbg2ItZmMYOulNIoYBTA\nuy8+5RwAqWSvvz7v/fc333Inv/zFGayyykpEBKOv/CMnnnTmB7YfPnwYPzrpOACOOup7zJo1hzUH\n9Ht//YD+azBn9r/YccdteXrGM7z44ssA/Pm6m9l6q8H87nd/quCopPrUvke++pWd7JFFzH+Dpiem\n0GPjIbwza0atq1EdaejRyD4XfptHrruXJ26ZVOtyVKL2fwYvTtulVf8DfDul9NoCqx8C1k4pzYuI\n3YDrgEGL219nSddzEbFJuyLnAXsAfYGNOytWUjVWW23V998PGbwJDQ0NvPTSK9x513j2/sIerLrq\nKgCstNKKrLVWf66//pb3b7rx4ENTueHGsey333B69erFOuusycCB6/LAxMk8+8wsttxyM3r3Xhpo\nTc4ef/wfNTlGSXmK5ftA72VbP/TsRY+NNqNlzjO1LUp1Z/ezj+Sl6bN44OKba12KuoGI6EnrgOuq\nlNJCZ5pTSq+1C6ZuAnpGRN/F7bOzpOtQWi8ma/8jTcChEfGbIsVr8b5/yplMnDyVuXNfY8cRB/P1\nww9hnz29ZalaXTn6Arbfbmv69l2ZGU9N4tTTfkbPnj0BGHXRaPbZe3eOOupQmpqaeWv+Wxx08NcB\nmDbtH5z847O5+abf09AQvPtuE8ceeyLPPPPBKU2PPfZ3rr32Bv425S6amps59lsn0tLSwgMTJ/On\nP/0vEx+4laamJh5++FEuuviqyo+/XniDC6m46LMyyx5xPDQ0QATvTvwLTVM6mukjfTQDBq/Pp/fZ\nln9Ne4Yjbmq9ZcFdP/0DT941pcaV5aM79cdovebit8C0lNK5i9hmdeBfKaUUEVvQGmS9tNj9ppJv\nWO/0QpWpd79ta12C6lzTO7O6rBNM6Ld3ZX8ebjn7T92ng2mRnF6ospx/52q1LkF17sR/XlWX/TEi\ntgHGAX8DWtoW/yewFkBK6cKIOAb4Gq3h1HzguJTSXxe3386SLklSF/Fv15IkLaw79ceU0ngWc++K\ntm3OB84vsl8fjixJkiRJJTLpkqSKdKc565IkdRc59EeTLkmSJEkqkUmXJFXEhxZLkrSwHPqjSZck\nSZIklcikS5Iq0tL5JpIkZSeH/mjSJUmSJEklMumSpIqkxT/2Q5KkLOXQH026JEmSJKlEJl2SVJGW\nVOsKJEnqfnLojyZdkiRJklQiky5JqkhLBnPWJUkqKof+aNIlSZIkSSVy0CVJkiRJJXJ6oSRVJIdb\n4kqSVFQO/dGkS5IkSZJKZNIlSRVpqXUBkiR1Qzn0R5MuSZIkSSqRSZckVSSHOeuSJBWVQ3806ZIk\nSZKkEpl0SVJFcpizLklSUTn0R5MuSZIkSSqRSZckVSSHM3mSJBWVQ3806ZIkSZKkEpl0SVJFcrg7\nkyRJReXQH026JEmSJKlEJl2SVJGW+j+RJ0lSYTn0R5MuSZIkSSqRSZckVaQlgznrkiQVlUN/NOmS\nJEmSpBI56JIkSZKkEjm9UJIqkmpdgCRJ3VAO/dGkS5IkSZJKZNIlSRVpqXUBkiR1Qzn0R5MuSZIk\nSSqRSZckVaQl6v+WuJIkFZVDfzTpkiRJkqQSmXRJUkVyuDuTJElF5dAfTbokSZIkqUQmXZJUkRzu\nziRJUlE59EeTLkmSJEkqkUmXJFWkpf5vziRJUmE59EeTLkmSJEkqkUmXJFWkhQxO5UmSVFAO/dGk\nS5IkSZJK5KBLkiqSKnx1JiKGRcQTETE9In64mO32jYgUEYMLH7AkSR9Cd+qPZXHQJUmZiYhG4ALg\n88BGwAERsVEH2y0PHAtMqLZCSZLqi4MuScrPFsD0lNJTKaV3gKuB4R1s91/A2cBbVRYnSVK9Kf1G\nGr37bVv2Tyhj82ePq3UJ0odW5S1xI2IkMLLdolEppVFt7/sDz7ZbNxPYcoHvbwqsmVK6MSK+V2qx\nkqSs5XDLeO9eKEl1qG2ANWoRqztqb+9PdY+IBuA84LCur0ySpPw46JKkirTUuoB/mwms2e7zAGB2\nu8/LA58C7o4IgNWBMRGxV0ppUmVVSpKy0I36Y2m8pkuS8jMRGBQR60ZEL2B/YMx7K1NKr6aU+qaU\n1kkprQPcDzjgkiTpIzLpkqSK1PJWte2llJoi4hjgVqARuCSl9GhEnAZMSimNWfweJEnqOt2lP5bJ\nQZckZSildBNw0wLLTl7EtjtUUZMkSfXKQZckVSSHuzNJklRUDv3Ra7okSZIkqUQmXZJUkRzuziRJ\nUlE59EeTLkmSJEkqkUmXJFUkhzN5kiQVlUN/NOmSJEmSpBKZdElSRVIGd2eSJKmoHPqjSZckSZIk\nlcikS5IqksOcdUmSisqhP5p0SZIkSVKJHHRJkiRJUomcXihJFclh+oQkSUXl0B9NuiRJkiSpRCZd\nklSRVOsCJEnqhnLojyZdkiRJklQiky5JqkhLBg9/lCSpqBz6o0mXJEmSJJXIpEuSKpLD3ZkkSSoq\nh/5o0iVJkiRJJTLpkqSK5HAmT5KkonLojyZdkiRJklQiky5JqkgOzyGRJKmoHPqjSZckSZIklcik\nS5IqksNzSCRJKiqH/mjSJUmSJEklMumSpIrkcHcmSZKKyqE/mnRJkiRJUokcdEmSJElSiRx0SVJF\nUoUvSZKWFN2pP0bEmhFxV0RMi4hHI+JbHWwTEfGLiJgeEVMjYrPO9us1XZIkSZLUqgn4bkrpoYhY\nHngwIm5LKT3WbpvPA4PaXlsCv2775yI56JKkirSYQUmStJDu1B9TSnOAOW3vX4+IaUB/oP2gazhw\nRUopAfdHxIoRsUbbdzvk9EJJkiRJWYiIkRExqd1r5GK2XQfYFJiwwKr+wLPtPs9sW7ZIJl2SVJEc\nbokrSVJRVfbHlNIoYFRn20XEcsD/AN9OKb224OqOdr24/Zl0SZIkSVKbiOhJ64DrqpTSnzrYZCaw\nZrvPA4DZi9ungy5Jqkh3ujuTJEndRXfqjxERwG+BaSmlcxex2Rjg0La7GG4FvLq467nA6YWSJEmS\n9J7PAocAf4uIh9uW/SewFkBK6ULgJmA3YDrwJvCVznbqoEuSKuI1XZIkLaw79ceU0ng6vmar/TYJ\n+EaR/Tq9UJIkSZJKZNIlSRVpWex5M0mS8pRDfzTpkiRJkqQSmXRJUkVavK+gJEkLyaE/mnRJkiRJ\nUolMuiSpIvV/Hk+SpOJy6I8mXZIkSZJUIgddkiRJklQipxd2kYtGncPuu+3E8y+8yCab7rjQ+hVX\n7MPFF53Deuutzdtvvc0RI7/Lo48+Ueg3jv/BMXzlsP1pbmnhO9/5EWNv+wsA3zr2SL761QNIKfHI\nI49z+BHH8fbbb3fJcak+nHTGudxz7wOsvNKKXHflhbUuJ1vd6eGP0hKjR0+WPeE8okdPaGzk3Un3\n8PZ1V9S6KtWR5ddYmb3O+xrLrdqH1JKY/Ls7mXjprbUuKys59EeTri5yxRXXsPseBy1y/QnHf5Mp\nUx5ls8135rCvfovzzjmt0P433HAQ++03nE9vMpTd9ziIX/7iDBoaGujXb3WO+cZX2XKr3dhk0x1p\nbGzkS/sN/7iHozozYredufDc02tdhiQV1/Qub5z9PeadchTzTjmKHp8aQuN6G9a6KtWR1NzCHadf\nxW92/AGXjTiFzQ/dmb6D+te6LNWZTgddEbFFRAxpe79RRBwXEbuVX9qSZdz4Cbz8ytxFrt9ww/W5\n887xADzxxJOsvfYAPvGJvgAceODe3HfvjUyaOJZfXXAWDQ0L/2vZa89dueaa63nnnXeYMeNZnnxy\nBlsM2RSAHj160Lv30jQ2NrJM797MmfNcCUeoJdngTTamzwrL17qM7LWQKntJdeXtt1r/2diD6NGD\nPC67V1XmPT+X5x6ZAcA7b7zFS9Nns/xqK9W2qMzk0B8XO+iKiFOAXwC/joifAOcDywE/jIgTK6iv\nbkz922N8YUTrWHXI4E1Ye+0BDOi/BhtsMJD9vrgX224/gsFDdqG5uZkDD9x7oe/367c6z86c/f7n\nmbPm0K//6sye/RznnnchTz/5ADOfmcyrr73GbbffU9lxSZJUumhguVMvZIWfX0vTow/S/NTjta5I\ndarPgL6s9sm1mfXwk7UuRXWms6RrX+CzwHbAN4ARKaXTgF2BLy3qSxExMiImRcSklpY3uqzYJdlZ\nZ5/Piiv1YdLEsXzjG19l8sOP0NTczNDPbcNmm27M/ffdxKSJYxk6dBvWW3ethb4fEQstSymx4op9\n2GvPXRm4/lasufZmLLvsMh0O2iTVXqrwpe6rfY+87IlZtS5nyZBamHfK0bx23P40rrsBDf3XqXVF\nqkM9l1mKfS78NredNpp35s2vdTlZyaE/dnYjjaaUUjPwZkQ8mVJ6DSClND8iFnnNW0ppFDAKoEev\n/vZ/4PXX53HEkce9/3n63+/n6aefYdtttmT0lX/kxJPO/MD2w4cP40cntW5/1FHfY9asOaw5oN/7\n6wf0X4M5s//Fjjtuy9MznuHFF18G4M/X3czWWw3md7/7UwVHJUkqqn2PfPUrO9kji5j/Bk1PTKHH\nxkN4Z9aMWlejOtLQo5F9Lvw2j1x3L0/cMqnW5agOdZZ0vRMRy7S93/y9hRHRhzxuNNJl+vRZgZ49\newJw+FcPZNz4Cbz++jzuvGs8e39hD1ZddRUAVlppRdZaqz/XX38Lg4fswuAhu/DgQ1O54cax7Lff\ncHr16sU666zJwIHr8sDEyTz7zCy23HIzevdeGoChn9uGxx//R82OU9KitVT4kupFLN8Hei/b+qFn\nL3pstBktc56pbVGqO7uffSQvTZ/FAxffXOtSspRDf+ws6doupfQ2QEqpfZ09gS+XVtUS6MrRF7D9\ndlvTt+/KzHhqEqee9rP3B1mjLhrNhhsM4tJLfk5zSzPTpv2dI0d+D4Bp0/7ByT8+m5tv+j0NDcG7\n7zZx7LEn8swzH5xy8thjf+faa2/gb1Puoqm5mWO/dSItLS08MHEyf/rT/zLxgVtpamri4Ycf5aKL\nr6r8+NW9ff+UM5k4eSpz577GjiMO5uuHH8I+e+5a67IkqVPRZ2WWPeJ4aGiACN6d+BeapkyodVmq\nIwMGr8+n99mWf017hiNuOgOAu376B568a0qNK1M9iZTKndng9EKVaf7scbUuQXWuZ9/1Fr6g8iM6\nbp39K/vz8NwZV3dZ3SqP0wtVlvPvXK3WJajOnfjPq+yPBficLkmSJEkqUWfTCyVJXcRIQ5KkheXQ\nH026JEmSJKlEJl2SVBHvKihJ0sJy6I8mXZIkSZJUIpMuSapIymLWuiRJxeTQH026JEmSJKlEDrok\nSZIkqUROL5SkiuRwobAkSUXl0B9NuiRJkiSpRCZdklSRlgwuFJYkqagc+qNJlyRJkiSVyKRLkipS\n/+fxJEkqLof+aNIlSZIkSSUy6ZKkiuQwZ12SpKJy6I8mXZIkSZJUIpMuSapIDs8hkSSpqBz6o0mX\nJEmSJJXIpEuSKpIymLMuSVJROfRHky5JkiRJKpFJlyRVJIc565IkFZVDfzTpkiRJkqQSmXRJUkVy\nmLMuSVJROfRHky5JkiRJKpGDLkmSJEkqkdMLJakiOVwoLElSUTn0R5MuSZIkSSqRSZckVaQl1f+F\nwpIkFZVDfzTpkiRJkqQSmXRJUkXq/zyeJEnF5dAfTbokSZIkqUQmXZJUkZYszuVJklRMDv3RpEuS\nJEmSSmTSJUkVSRmcyZMkqagc+qNJlyRJkiSVyKRLkirSUusCJEnqhnLojyZdkiRJklQiky5JqkgO\nd2eSJKmoHPqjSZckSZIklcikS5IqksPdmSRJKiqH/mjSJUmSJEklctAlSZIkSSVyeqEkVSSHW+JK\nklRUDv3RpEuSJEmSSmTSJUkVSan+LxSWJKmoHPqjSZckSZIklchBlyRVpIVU2aszETEsIp6IiOkR\n8cMO1h8XEY9FxNSIuCMi1i7l/xRJUva6U38si4MuScpMRDQCFwCfBzYCDoiIjRbYbDIwOKX0aeBa\n4Oxqq5QkqX54TZckVaQb3Z1pC2B6SukpgIi4GhgOPPbeBimlu9ptfz9wcKUVSpKy0Y36Y2lKH3TN\nnz2u7J9Qxnr327bWJajONb0zq9YlfCQRMRIY2W7RqJTSqLb3/YFn262bCWy5mN0dDtzctRVKkpQP\nky5JqkiqcC552wBr1CJWR0df6XDDiIOBwcD2XVSaJEkfUGV/rBUHXZKUn5nAmu0+DwBmL7hRROwE\nnAhsn1J6u6LaJEmqOw66JKkitbxr0gImAoMiYl1gFrA/cGD7DSJiU+A3wLCU0vPVlyhJykU36o+l\n8e6FkpSZlFITcAxwKzANuCal9GhEnBYRe7Vt9lNgOeCPEfFwRIypUbmSJC3xTLokqSIpdZ8zeSml\nm4CbFlh2crv3O1VelCQpS92pP5bFpEuSJEmSSmTSJUkVyeE5JJIkFZVDfzTpkiRJkqQSmXRJUkVy\neA6JJElF5dAfTbokSZIkqUQOuiRJkiSpRE4vlKSK5PDwR0mSisqhP5p0SZIkSVKJTLokqSI5PPxR\nkqSicuiPJl2SJEmSBETEJRHxfEQ8soj1O0TEqxHxcNvr5A+zX5MuSapIDnPWJUkqqpv1x8uA84Er\nFrPNuJTSHkV2atIlSZIkSUBK6R7g5a7er4MuSapIqvB/kiQtKarsjxExMiImtXuN/Aglbx0RUyLi\n5oj45If5gtMLJUmSJGUhpTQKGPUxdvEQsHZKaV5E7AZcBwzq7EsOuiSpIi0Z3J1JkqSilqT+mFJ6\nrd37myLiVxHRN6X04uK+5/RCSZIkSfoQImL1iIi291vQOp56qbPvmXRJUkWWnPN4kiRVpzv1x4j4\nPbAD0DciZgKnAD0BUkoXAvsCX4uIJmA+sH/6EA8ac9AlSZIkSUBK6YBO1p9P6y3lC3HQJUkV6WbP\nIZEkqVvIoT96TZckSZIklcikS5IqksOZPEmSisqhP5p0SZIkSVKJHHRJkiRJUomcXihJFfkQd5SV\nJCk7OfRHky5JkiRJKpFJlyRVJIcLhSVJKiqH/mjSJUmSJEklMumSpIqkDM7kSZJUVA790aRLkiRJ\nkkpk0iVJFcnh7kySJBWVQ3806ZIkSZKkEpl0SVJFcrg7kyRJReXQH026JEmSJKlEJl2SVJEc5qxL\nklRUDv3RpEuSJEmSSmTSJUkVyWHOuiRJReXQH026JEmSJKlEJl2SVJGUwZk8SZKKyqE/mnRJkiRJ\nUokcdEmSJElSiZxeKEkVacnglriSJBWVQ3806ZIkSZKkEpl0SVJFcrhQWJKkonLojyZdkiRJklQi\nk65u4qQzzuWeex9g5ZVW5LorL6x1OepmLhp1DrvvthPPv/Aim2y640Lrv3vc0RxwwN4A9OjRyIYb\nDGL1fp/mlVfmfujfOP4Hx/CVw/anuaWF73znR4y97S/w/9u7+yCr6jqO45/vsktsyKPLqOxiYBBP\n6SguDlb4gMqz7CYTJBaTswbVqDmNlQVFGuMYhJSGEaIwoPI4JaiAD0GuGiAPBvFkLQzBLgQ+DDQg\nuuzeX38s4RK6u4fZ3zl37+/9Yu7snHvvuXwPnD3f+d7v95wj6a47S1RSMkZmpieeeEaPPDq7cTYq\nQCHMrAONLjtHLX8yXZadIzVrppMbS/XRs/OSjgoZpNVF7TVi+nd1Xoc2cimnt55ZrQ1zXkw6rKCE\nkB/pdKWJ4qE3aebDk5MOA2lq3rzFGjb8tk99fdrDM1XYd6AK+w7UxIkPqbR0XaSCq2fPbho1qkiX\nXT5Aw4bfpkcfeVBZWVnq3bu7SkrG6OovDVOfK2/SsKE3qmvXLo2xSQDQMFUndXzKvTo2abyOTRqv\n7C/2VbNLeiYdFTKIq07pz5Of1h9u+JHmFk/SlWNvUl63/KTDQoah6EoThZdfqjatWyUdBtLUa6+v\n1/sNLKJGjy7SwkXPnl4eM+YWrX3jeW3c8JIem/ErZWWd/Ws/4uZBWrx4mSorK7V3737t3r1XV/W9\nQj16dNP69Zt14sSHqq6uVulr61RcNLjRtis0LsY/QEb56MOan82yZdnZEvs4GtGxw0f07217JUmV\nxz/Ue2UH1OqCdskGFZgQ8mPkosvM6OkDaSo3t4UGDbxOf/zTCklSjx5dNeprI9T/2mIV9h2o6upq\njRlzy1nrdex4ofaXHzi9XF5xUB3zL9T27bvUv38/tW/fTrm5LTRk8AAVFHSMbXsAQJJkWTrv/plq\n/dulqtq+SdV7diUdETJUm4I8XdD7c6r42+6kQ0GGqfOcLjNb/v9PSbrezNpKknNuxKesN07SOEl6\nbNpk3TH21kYIFUB9hg8fqL+u3Xh6tHDA9V9Rnysu1bq1NUVYbm4LvfPOu2etZ2ZnPeec065dZZo6\ndYZWrVyg48eOa8vWHaquqva7ERkshJl11K92jvzN1T30re6MMdXLpXRs0nek3JZqedf9ysrvrFTF\n3qSjQobJ+exnNHLmPXr5gfmqPHYi6XCCEkJ+rO9CGgWSdkiarZpevkkqlDStrpWcc7MkzZKkk+/u\nyfx/RSBNjB414ozRQjPT/KeWaMLEh854X1HRYP1s4g8kSePH36uKioPqVKuDVZB/kQ4eOCRJmjN3\noebMXShJmvzL+1ReftD3ZgAZrXaOPHr7jeTIKE4cV9XbW5R9aV9VUnShEWVlN9PImfdo27Nv6O1V\nG5MOBxmovvHCQkmbJE2QdNQ59xdJJ5xzrzrnXvUdHICGa926la7p30/Ll398xaXVa17XLV8drg4d\nzpcktWvXVhdfnK9ly1advvDGps1b9dzzL2nUqCI1b95cnTt3UteuXfTmhrck6fS6nTp1VHHxkDOK\nOkQTwsw60NisVRspt2XNQk5zZffqo9TBfckGhYwzbMq39V5Zhd6cvTLpUIIUQn6ss9PlnEtJmm5m\nS079PFTfOjg3P5z0kDa8tVVHjvxHNxR/Q98r+aZG3jwo6bCQJp6aP0PXXnO18vLaa++ejbr/gV8r\nJydHkjTr8fmSpOKiIXr5lVJ98MHHIxE7d/5TP//FFK1csUBZWaaTJ6t0990TtG9fxRmfv2PHP7R0\n6XP6+5Y1qqqu1t3fn6BUKiVJWrLocbU/v93pdY8cORrTVgOAZG3aq+UdP5aysiQzndzwqqq2rE86\nLGSQgsIv6LKR/XVo5z7dseJBSdKaqYu0e82WhCNDJjEXYYbSzIZJ+rJz7qcNXYfxQviU27F/0iEg\nw1VVVpx9wts5+nxen9iOh7vf3dxoccMfxgvhy+9WX5B0CMhwE/71NPkxgkhdK+fcC5Je8BQLAAAA\nAGQcRgUBICacawUAwNlCyI/cHBkAAAAAPKLoAgAAAACPGC8EgJjUXBAWAADUFkJ+pNMFAAAAAB7R\n6QKAmKQCOFEYAICoQsiPdLoAAAAAwCM6XQAQkyg3owcAIBQh5Ec6XQAAAADgEZ0uAIhJCDPrAABE\nFUJ+pNMFAAAAAB7R6QKAmIQwsw4AQFQh5Ec6XQAAAADgEZ0uAIhJKoBv8gAAiCqE/EinCwAAAAA8\notMFADFxAVydCQCAqELIj3S6AAAAAMAjOl0AEJMQrs4EAEBUIeRHOl0AAAAA4BFFFwAAAAB4xHgh\nAMQkFcCJwgAARBVCfqTTBQAAAAAe0ekCgJiEcKIwAABRhZAf6XQBAAAAgEd0ugAgJqkAvskDACCq\nEPIjnS4AAAAA8IhOFwDEJISZdQAAogohP9LpAgAAAACP6HQBQExCuA8JAABRhZAf6XQBAAAAgEd0\nugAgJiHMrAMAEFUI+ZFOFwAAAAB4RKcLAGISwn1IAACIKoT8SKcLAAAAADyi0wUAMXEBXJ0JAICo\nQsiPdLoAAAAAwCOKLgAAAADwiPFCAIhJCCcKAwAQVQj5kU4XAAAAAHhEpwsAYhLCzR8BAIgqhPxI\npwsAAAAAPKLTBQAxCTAmnu8AAALQSURBVOGSuAAARBVCfqTTBQAAAAAe0ekCgJiEMLMOAEBUIeRH\nOl0AAAAA4BGdLgCISQjf5AEAEFUI+ZFOFwAAAABIMrMnzeywmW37lNfNzB4xszIz22pmfRryuRRd\nABATF+MDAICmIs3y41xJg+t4fYikbqce4yT9viEfStEFAAAAAJKcc6WS3q/jLUWS5rka6yS1NbOL\n6vtc7+d05eRdYr7/jkxiZuOcc7OSjqOpqKqsSDqEJoX9K1lVlRUcD3GGNnNeYZ+IgGNYw01IOoAm\niP0rOXHmRzMbp5oO1f/Mivj/ni9pf63l8lPPHaxrJTpd6Wdc/W8Bzhn7F4CmjGMYfGL/CoBzbpZz\nrrDWI2qh/UkFYr2TixRdAAAAANAw5ZI61VoukHSgvpUougAAAACgYZZLGnvqKob9JB11ztU5Wihx\nn650xCwxfGL/AtCUcQyDT+xfkJktkHSdpDwzK5c0SVKOJDnnZkpaIWmopDJJH0i6vUGfG8LNyAAA\nAAAgKYwXAgAAAIBHFF0AAAAA4BFFVxoxs8Fm9raZlZnZfUnHg8xhZk+a2WEz25Z0LAAQFfkRPpEj\nEQeKrjRhZs0kzZA0RFIvSbeaWa9ko0IGmStpcNJBAEBU5EfEYK7IkfCMoit9XCWpzDm3xzlXKWmh\npKKEY0KGcM6VSno/6TgA4ByQH+EVORJxoOhKH/mS9tdaLj/1HAAAISM/AmjyKLrSh33Cc1zPHwAQ\nOvIjgCaPoit9lEvqVGu5QNKBhGIBACBdkB8BNHkUXeljg6RuZtbFzJpL+rqk5QnHBABA0siPAJo8\niq404ZyrknSnpBcl7ZS02Dm3PdmokCnMbIGktZK6m1m5mZUkHRMANAT5Eb6RIxEHc46xaAAAAADw\nhU4XAAAAAHhE0QUAAAAAHlF0AQAAAIBHFF0AAAAA4BFFFwAAAAB4RNEFAAAAAB5RdAEAAACAR/8F\n4UKCeWNWLVcAAAAASUVORK5CYII=\n",
      "text/plain": [
       "<matplotlib.figure.Figure at 0x1f68c45d550>"
      ]
     },
     "metadata": {},
     "output_type": "display_data"
    }
   ],
   "source": [
    "makeQuestionComparison(model3, anno2)"
   ]
  },
  {
   "cell_type": "markdown",
   "metadata": {},
   "source": [
    "A little different from the previous model on which to trust for question no.3."
   ]
  },
  {
   "cell_type": "markdown",
   "metadata": {},
   "source": [
    "## Visualizing coder accuracy"
   ]
  },
  {
   "cell_type": "code",
   "execution_count": 130,
   "metadata": {
    "collapsed": true
   },
   "outputs": [],
   "source": [
    "model = ModelBt.create_initial_state(2,5)\n",
    "model.mle(anno2.annotations)\n",
    "samples = model.sample_posterior_over_accuracy(anno2.annotations, 200, burn_in_samples=100, thin_samples=3)\n",
    "y =  samples.mean(axis=0)\n",
    "y_ci = samples.std(axis=0)"
   ]
  },
  {
   "cell_type": "code",
   "execution_count": 131,
   "metadata": {
    "scrolled": true
   },
   "outputs": [
    {
     "data": {
      "image/png": "iVBORw0KGgoAAAANSUhEUgAAAXcAAAD8CAYAAACMwORRAAAABHNCSVQICAgIfAhkiAAAAAlwSFlz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\nSUVORK5CYII=\n",
      "text/plain": [
       "<matplotlib.figure.Figure at 0x1f68cb2f748>"
      ]
     },
     "metadata": {},
     "output_type": "display_data"
    }
   ],
   "source": [
    "plt.figure()\n",
    "plt.errorbar(range(5),y, yerr = y_ci)\n",
    "plt.show()"
   ]
  },
  {
   "cell_type": "markdown",
   "metadata": {},
   "source": [
    "It looks like coder 0 have relatively lower accuracy compared with other people."
   ]
  },
  {
   "cell_type": "markdown",
   "metadata": {},
   "source": [
    "The results from MTurk suggested that we should code the data as 1,1,0,0,0, however, according to the results generated by Word2vec, documents that are similar to \"working memory\", the data should be coded as 0,0,1,0,0. Mturk participants probably just searched for the word \"working memory\" without fully understood the abstracts, while Word2vec took other information into consideration more than just word frequency."
   ]
=======
>>>>>>> 0dbd711943f6965fc91c883fe001d81eba4df43a
  }
 ],
 "metadata": {
  "anaconda-cloud": {},
  "kernelspec": {
   "display_name": "Python 3",
   "language": "python",
   "name": "python3"
  },
  "language_info": {
   "codemirror_mode": {
    "name": "ipython",
    "version": 3
   },
   "file_extension": ".py",
   "mimetype": "text/x-python",
   "name": "python",
   "nbconvert_exporter": "python",
   "pygments_lexer": "ipython3",
<<<<<<< HEAD
   "version": "3.6.3"
=======
   "version": "3.6.0"
>>>>>>> 0dbd711943f6965fc91c883fe001d81eba4df43a
  }
 },
 "nbformat": 4,
 "nbformat_minor": 1
}
